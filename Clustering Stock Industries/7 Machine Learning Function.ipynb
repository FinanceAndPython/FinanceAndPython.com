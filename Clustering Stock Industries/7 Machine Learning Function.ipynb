{
 "cells": [
  {
   "cell_type": "code",
   "execution_count": 1,
   "metadata": {
    "collapsed": true
   },
   "outputs": [],
   "source": [
    "from sklearn.cluster import KMeans\n",
    "import pandas as pd\n",
    "def group(n):\n",
    "    df = pd.DataFrame.from_csv(\"RegressionMatrix1.csv\",encoding=\"UTF-8\")\n",
    "    SP500 = pd.DataFrame.from_csv(\"SP500.csv\", encoding=\"UTF-8\")\n",
    "    df = df.fillna(0)\n",
    "    tickers = []\n",
    "    for x in SP500[\"Ticker\"].values:\n",
    "        if \".\" in x:\n",
    "            x = x.replace(\".\",\"\")\n",
    "        tickers.append(x)\n",
    "    SP500[\"Ticker\"]=tickers\n",
    "    SP500.index = SP500[\"Ticker\"]\n",
    "\n",
    "\n",
    "    df = df.transpose()\n",
    "\n",
    "    zScores = pd.DataFrame()\n",
    "    for x in df.columns:\n",
    "        zScores[x] = (df[x] - df[x].mean())/df[x].std(ddof=0)\n",
    "    \n",
    "    SP500 = pd.concat([SP500,df],axis=1,join=\"inner\")\n",
    "\n",
    "    model = KMeans(n_clusters=n)\n",
    "    model = model.fit(zScores)\n",
    "    SP500[\"Group\"] = model.labels_\n",
    "    return SP500"
   ]
  },
  {
   "cell_type": "code",
   "execution_count": 2,
   "metadata": {},
   "outputs": [
    {
     "name": "stdout",
     "output_type": "stream",
     "text": [
      "Group  GICS Sector               \n",
      "0      Information Technology         8\n",
      "       Industrials                    6\n",
      "       Consumer Discretionary         4\n",
      "       Health Care                    3\n",
      "       Materials                      2\n",
      "       Real Estate                    2\n",
      "       Consumer Staples               1\n",
      "       Energy                         1\n",
      "       Telecommunication Services     1\n",
      "1      Consumer Discretionary         5\n",
      "       Financials                     4\n",
      "       Industrials                    4\n",
      "       Information Technology         3\n",
      "       Energy                         2\n",
      "       Real Estate                    2\n",
      "       Health Care                    1\n",
      "2      Consumer Discretionary        27\n",
      "       Financials                    26\n",
      "       Health Care                   24\n",
      "       Industrials                   23\n",
      "       Information Technology        20\n",
      "       Utilities                     14\n",
      "       Consumer Staples              13\n",
      "       Energy                        12\n",
      "       Real Estate                   12\n",
      "       Materials                      5\n",
      "3      Consumer Staples               1\n",
      "4      Energy                         2\n",
      "       Industrials                    2\n",
      "       Health Care                    1\n",
      "                                     ..\n",
      "5      Consumer Discretionary        38\n",
      "       Information Technology        32\n",
      "       Financials                    26\n",
      "       Health Care                   26\n",
      "       Industrials                   24\n",
      "       Consumer Staples              17\n",
      "       Materials                     13\n",
      "       Real Estate                   12\n",
      "       Utilities                     10\n",
      "       Energy                         7\n",
      "       Telecommunication Services     2\n",
      "6      Health Care                    6\n",
      "       Financials                     5\n",
      "       Industrials                    5\n",
      "       Consumer Discretionary         3\n",
      "       Materials                      3\n",
      "       Energy                         2\n",
      "       Information Technology         2\n",
      "       Real Estate                    2\n",
      "       Consumer Staples               1\n",
      "       Utilities                      1\n",
      "7      Consumer Discretionary         5\n",
      "       Financials                     5\n",
      "       Energy                         4\n",
      "       Information Technology         4\n",
      "       Utilities                      3\n",
      "       Real Estate                    2\n",
      "       Health Care                    1\n",
      "       Industrials                    1\n",
      "       Materials                      1\n",
      "Name: GICS Sector, Length: 61, dtype: int64\n"
     ]
    },
    {
     "name": "stderr",
     "output_type": "stream",
     "text": [
      "/Users/seanmcowen/anaconda/lib/python3.6/site-packages/ipykernel_launcher.py:4: FutureWarning: from_csv is deprecated. Please use read_csv(...) instead. Note that some of the default arguments are different, so please refer to the documentation for from_csv when changing your function calls\n",
      "  after removing the cwd from sys.path.\n",
      "/Users/seanmcowen/anaconda/lib/python3.6/site-packages/ipykernel_launcher.py:5: FutureWarning: from_csv is deprecated. Please use read_csv(...) instead. Note that some of the default arguments are different, so please refer to the documentation for from_csv when changing your function calls\n",
      "  \"\"\"\n"
     ]
    }
   ],
   "source": [
    "SP500 = group(8)\n",
    "print(SP500.groupby(\"Group\")[\"GICS Sector\"].value_counts())"
   ]
  }
 ],
 "metadata": {
  "kernelspec": {
   "display_name": "Python 3",
   "language": "python",
   "name": "python3"
  },
  "language_info": {
   "codemirror_mode": {
    "name": "ipython",
    "version": 3
   },
   "file_extension": ".py",
   "mimetype": "text/x-python",
   "name": "python",
   "nbconvert_exporter": "python",
   "pygments_lexer": "ipython3",
   "version": "3.6.1"
  }
 },
 "nbformat": 4,
 "nbformat_minor": 2
}
