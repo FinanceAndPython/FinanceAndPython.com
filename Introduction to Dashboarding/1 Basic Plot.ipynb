{
 "cells": [
  {
   "cell_type": "code",
   "execution_count": 1,
   "metadata": {},
   "outputs": [
    {
     "name": "stdout",
     "output_type": "stream",
     "text": [
      "Requirement already up-to-date: bokeh in /usr/local/lib/python3.6/site-packages (0.13.0)\n",
      "Requirement not upgraded as not directly required: numpy>=1.7.1 in /usr/local/lib/python3.6/site-packages (from bokeh) (1.14.3)\n",
      "Requirement not upgraded as not directly required: python-dateutil>=2.1 in /usr/local/lib/python3.6/site-packages (from bokeh) (2.7.3)\n",
      "Requirement not upgraded as not directly required: six>=1.5.2 in /usr/local/lib/python3.6/site-packages (from bokeh) (1.11.0)\n",
      "Requirement not upgraded as not directly required: packaging>=16.8 in /usr/local/lib/python3.6/site-packages (from bokeh) (17.1)\n",
      "Requirement not upgraded as not directly required: Jinja2>=2.7 in /usr/local/lib/python3.6/site-packages (from bokeh) (2.10)\n",
      "Requirement not upgraded as not directly required: PyYAML>=3.10 in /usr/local/lib/python3.6/site-packages (from bokeh) (3.12)\n",
      "Requirement not upgraded as not directly required: tornado>=4.3 in /usr/local/lib/python3.6/site-packages (from bokeh) (5.0.2)\n",
      "Requirement not upgraded as not directly required: pyparsing>=2.0.2 in /usr/local/lib/python3.6/site-packages (from packaging>=16.8->bokeh) (2.2.0)\n",
      "Requirement not upgraded as not directly required: MarkupSafe>=0.23 in /usr/local/lib/python3.6/site-packages (from Jinja2>=2.7->bokeh) (1.0)\n",
      "\u001b[33mYou are using pip version 10.0.1, however version 18.0 is available.\n",
      "You should consider upgrading via the 'pip install --upgrade pip' command.\u001b[0m\n"
     ]
    }
   ],
   "source": [
    "! pip install bokeh --upgrade"
   ]
  },
  {
   "cell_type": "code",
   "execution_count": 2,
   "metadata": {},
   "outputs": [
    {
     "data": {
      "text/html": [
       "\n",
       "    <div class=\"bk-root\">\n",
       "        <a href=\"https://bokeh.pydata.org\" target=\"_blank\" class=\"bk-logo bk-logo-small bk-logo-notebook\"></a>\n",
       "        <span id=\"8bb7a2b1-cfc5-4b41-ad36-b50389a86159\">Loading BokehJS ...</span>\n",
       "    </div>"
      ]
     },
     "metadata": {},
     "output_type": "display_data"
    },
    {
     "data": {
      "application/javascript": [
       "\n",
       "(function(root) {\n",
       "  function now() {\n",
       "    return new Date();\n",
       "  }\n",
       "\n",
       "  var force = true;\n",
       "\n",
       "  if (typeof (root._bokeh_onload_callbacks) === \"undefined\" || force === true) {\n",
       "    root._bokeh_onload_callbacks = [];\n",
       "    root._bokeh_is_loading = undefined;\n",
       "  }\n",
       "\n",
       "  var JS_MIME_TYPE = 'application/javascript';\n",
       "  var HTML_MIME_TYPE = 'text/html';\n",
       "  var EXEC_MIME_TYPE = 'application/vnd.bokehjs_exec.v0+json';\n",
       "  var CLASS_NAME = 'output_bokeh rendered_html';\n",
       "\n",
       "  /**\n",
       "   * Render data to the DOM node\n",
       "   */\n",
       "  function render(props, node) {\n",
       "    var script = document.createElement(\"script\");\n",
       "    node.appendChild(script);\n",
       "  }\n",
       "\n",
       "  /**\n",
       "   * Handle when an output is cleared or removed\n",
       "   */\n",
       "  function handleClearOutput(event, handle) {\n",
       "    var cell = handle.cell;\n",
       "\n",
       "    var id = cell.output_area._bokeh_element_id;\n",
       "    var server_id = cell.output_area._bokeh_server_id;\n",
       "    // Clean up Bokeh references\n",
       "    if (id != null && id in Bokeh.index) {\n",
       "      Bokeh.index[id].model.document.clear();\n",
       "      delete Bokeh.index[id];\n",
       "    }\n",
       "\n",
       "    if (server_id !== undefined) {\n",
       "      // Clean up Bokeh references\n",
       "      var cmd = \"from bokeh.io.state import curstate; print(curstate().uuid_to_server['\" + server_id + \"'].get_sessions()[0].document.roots[0]._id)\";\n",
       "      cell.notebook.kernel.execute(cmd, {\n",
       "        iopub: {\n",
       "          output: function(msg) {\n",
       "            var id = msg.content.text.trim();\n",
       "            if (id in Bokeh.index) {\n",
       "              Bokeh.index[id].model.document.clear();\n",
       "              delete Bokeh.index[id];\n",
       "            }\n",
       "          }\n",
       "        }\n",
       "      });\n",
       "      // Destroy server and session\n",
       "      var cmd = \"import bokeh.io.notebook as ion; ion.destroy_server('\" + server_id + \"')\";\n",
       "      cell.notebook.kernel.execute(cmd);\n",
       "    }\n",
       "  }\n",
       "\n",
       "  /**\n",
       "   * Handle when a new output is added\n",
       "   */\n",
       "  function handleAddOutput(event, handle) {\n",
       "    var output_area = handle.output_area;\n",
       "    var output = handle.output;\n",
       "\n",
       "    // limit handleAddOutput to display_data with EXEC_MIME_TYPE content only\n",
       "    if ((output.output_type != \"display_data\") || (!output.data.hasOwnProperty(EXEC_MIME_TYPE))) {\n",
       "      return\n",
       "    }\n",
       "\n",
       "    var toinsert = output_area.element.find(\".\" + CLASS_NAME.split(' ')[0]);\n",
       "\n",
       "    if (output.metadata[EXEC_MIME_TYPE][\"id\"] !== undefined) {\n",
       "      toinsert[toinsert.length - 1].firstChild.textContent = output.data[JS_MIME_TYPE];\n",
       "      // store reference to embed id on output_area\n",
       "      output_area._bokeh_element_id = output.metadata[EXEC_MIME_TYPE][\"id\"];\n",
       "    }\n",
       "    if (output.metadata[EXEC_MIME_TYPE][\"server_id\"] !== undefined) {\n",
       "      var bk_div = document.createElement(\"div\");\n",
       "      bk_div.innerHTML = output.data[HTML_MIME_TYPE];\n",
       "      var script_attrs = bk_div.children[0].attributes;\n",
       "      for (var i = 0; i < script_attrs.length; i++) {\n",
       "        toinsert[toinsert.length - 1].firstChild.setAttribute(script_attrs[i].name, script_attrs[i].value);\n",
       "      }\n",
       "      // store reference to server id on output_area\n",
       "      output_area._bokeh_server_id = output.metadata[EXEC_MIME_TYPE][\"server_id\"];\n",
       "    }\n",
       "  }\n",
       "\n",
       "  function register_renderer(events, OutputArea) {\n",
       "\n",
       "    function append_mime(data, metadata, element) {\n",
       "      // create a DOM node to render to\n",
       "      var toinsert = this.create_output_subarea(\n",
       "        metadata,\n",
       "        CLASS_NAME,\n",
       "        EXEC_MIME_TYPE\n",
       "      );\n",
       "      this.keyboard_manager.register_events(toinsert);\n",
       "      // Render to node\n",
       "      var props = {data: data, metadata: metadata[EXEC_MIME_TYPE]};\n",
       "      render(props, toinsert[toinsert.length - 1]);\n",
       "      element.append(toinsert);\n",
       "      return toinsert\n",
       "    }\n",
       "\n",
       "    /* Handle when an output is cleared or removed */\n",
       "    events.on('clear_output.CodeCell', handleClearOutput);\n",
       "    events.on('delete.Cell', handleClearOutput);\n",
       "\n",
       "    /* Handle when a new output is added */\n",
       "    events.on('output_added.OutputArea', handleAddOutput);\n",
       "\n",
       "    /**\n",
       "     * Register the mime type and append_mime function with output_area\n",
       "     */\n",
       "    OutputArea.prototype.register_mime_type(EXEC_MIME_TYPE, append_mime, {\n",
       "      /* Is output safe? */\n",
       "      safe: true,\n",
       "      /* Index of renderer in `output_area.display_order` */\n",
       "      index: 0\n",
       "    });\n",
       "  }\n",
       "\n",
       "  // register the mime type if in Jupyter Notebook environment and previously unregistered\n",
       "  if (root.Jupyter !== undefined) {\n",
       "    var events = require('base/js/events');\n",
       "    var OutputArea = require('notebook/js/outputarea').OutputArea;\n",
       "\n",
       "    if (OutputArea.prototype.mime_types().indexOf(EXEC_MIME_TYPE) == -1) {\n",
       "      register_renderer(events, OutputArea);\n",
       "    }\n",
       "  }\n",
       "\n",
       "  \n",
       "  if (typeof (root._bokeh_timeout) === \"undefined\" || force === true) {\n",
       "    root._bokeh_timeout = Date.now() + 5000;\n",
       "    root._bokeh_failed_load = false;\n",
       "  }\n",
       "\n",
       "  var NB_LOAD_WARNING = {'data': {'text/html':\n",
       "     \"<div style='background-color: #fdd'>\\n\"+\n",
       "     \"<p>\\n\"+\n",
       "     \"BokehJS does not appear to have successfully loaded. If loading BokehJS from CDN, this \\n\"+\n",
       "     \"may be due to a slow or bad network connection. Possible fixes:\\n\"+\n",
       "     \"</p>\\n\"+\n",
       "     \"<ul>\\n\"+\n",
       "     \"<li>re-rerun `output_notebook()` to attempt to load from CDN again, or</li>\\n\"+\n",
       "     \"<li>use INLINE resources instead, as so:</li>\\n\"+\n",
       "     \"</ul>\\n\"+\n",
       "     \"<code>\\n\"+\n",
       "     \"from bokeh.resources import INLINE\\n\"+\n",
       "     \"output_notebook(resources=INLINE)\\n\"+\n",
       "     \"</code>\\n\"+\n",
       "     \"</div>\"}};\n",
       "\n",
       "  function display_loaded() {\n",
       "    var el = document.getElementById(\"8bb7a2b1-cfc5-4b41-ad36-b50389a86159\");\n",
       "    if (el != null) {\n",
       "      el.textContent = \"BokehJS is loading...\";\n",
       "    }\n",
       "    if (root.Bokeh !== undefined) {\n",
       "      if (el != null) {\n",
       "        el.textContent = \"BokehJS \" + root.Bokeh.version + \" successfully loaded.\";\n",
       "      }\n",
       "    } else if (Date.now() < root._bokeh_timeout) {\n",
       "      setTimeout(display_loaded, 100)\n",
       "    }\n",
       "  }\n",
       "\n",
       "\n",
       "  function run_callbacks() {\n",
       "    try {\n",
       "      root._bokeh_onload_callbacks.forEach(function(callback) { callback() });\n",
       "    }\n",
       "    finally {\n",
       "      delete root._bokeh_onload_callbacks\n",
       "    }\n",
       "    console.info(\"Bokeh: all callbacks have finished\");\n",
       "  }\n",
       "\n",
       "  function load_libs(js_urls, callback) {\n",
       "    root._bokeh_onload_callbacks.push(callback);\n",
       "    if (root._bokeh_is_loading > 0) {\n",
       "      console.log(\"Bokeh: BokehJS is being loaded, scheduling callback at\", now());\n",
       "      return null;\n",
       "    }\n",
       "    if (js_urls == null || js_urls.length === 0) {\n",
       "      run_callbacks();\n",
       "      return null;\n",
       "    }\n",
       "    console.log(\"Bokeh: BokehJS not loaded, scheduling load and callback at\", now());\n",
       "    root._bokeh_is_loading = js_urls.length;\n",
       "    for (var i = 0; i < js_urls.length; i++) {\n",
       "      var url = js_urls[i];\n",
       "      var s = document.createElement('script');\n",
       "      s.src = url;\n",
       "      s.async = false;\n",
       "      s.onreadystatechange = s.onload = function() {\n",
       "        root._bokeh_is_loading--;\n",
       "        if (root._bokeh_is_loading === 0) {\n",
       "          console.log(\"Bokeh: all BokehJS libraries loaded\");\n",
       "          run_callbacks()\n",
       "        }\n",
       "      };\n",
       "      s.onerror = function() {\n",
       "        console.warn(\"failed to load library \" + url);\n",
       "      };\n",
       "      console.log(\"Bokeh: injecting script tag for BokehJS library: \", url);\n",
       "      document.getElementsByTagName(\"head\")[0].appendChild(s);\n",
       "    }\n",
       "  };var element = document.getElementById(\"8bb7a2b1-cfc5-4b41-ad36-b50389a86159\");\n",
       "  if (element == null) {\n",
       "    console.log(\"Bokeh: ERROR: autoload.js configured with elementid '8bb7a2b1-cfc5-4b41-ad36-b50389a86159' but no matching script tag was found. \")\n",
       "    return false;\n",
       "  }\n",
       "\n",
       "  var js_urls = [\"https://cdn.pydata.org/bokeh/release/bokeh-0.13.0.min.js\", \"https://cdn.pydata.org/bokeh/release/bokeh-widgets-0.13.0.min.js\", \"https://cdn.pydata.org/bokeh/release/bokeh-tables-0.13.0.min.js\", \"https://cdn.pydata.org/bokeh/release/bokeh-gl-0.13.0.min.js\"];\n",
       "\n",
       "  var inline_js = [\n",
       "    function(Bokeh) {\n",
       "      Bokeh.set_log_level(\"info\");\n",
       "    },\n",
       "    \n",
       "    function(Bokeh) {\n",
       "      \n",
       "    },\n",
       "    function(Bokeh) {\n",
       "      console.log(\"Bokeh: injecting CSS: https://cdn.pydata.org/bokeh/release/bokeh-0.13.0.min.css\");\n",
       "      Bokeh.embed.inject_css(\"https://cdn.pydata.org/bokeh/release/bokeh-0.13.0.min.css\");\n",
       "      console.log(\"Bokeh: injecting CSS: https://cdn.pydata.org/bokeh/release/bokeh-widgets-0.13.0.min.css\");\n",
       "      Bokeh.embed.inject_css(\"https://cdn.pydata.org/bokeh/release/bokeh-widgets-0.13.0.min.css\");\n",
       "      console.log(\"Bokeh: injecting CSS: https://cdn.pydata.org/bokeh/release/bokeh-tables-0.13.0.min.css\");\n",
       "      Bokeh.embed.inject_css(\"https://cdn.pydata.org/bokeh/release/bokeh-tables-0.13.0.min.css\");\n",
       "    }\n",
       "  ];\n",
       "\n",
       "  function run_inline_js() {\n",
       "    \n",
       "    if ((root.Bokeh !== undefined) || (force === true)) {\n",
       "      for (var i = 0; i < inline_js.length; i++) {\n",
       "        inline_js[i].call(root, root.Bokeh);\n",
       "      }if (force === true) {\n",
       "        display_loaded();\n",
       "      }} else if (Date.now() < root._bokeh_timeout) {\n",
       "      setTimeout(run_inline_js, 100);\n",
       "    } else if (!root._bokeh_failed_load) {\n",
       "      console.log(\"Bokeh: BokehJS failed to load within specified timeout.\");\n",
       "      root._bokeh_failed_load = true;\n",
       "    } else if (force !== true) {\n",
       "      var cell = $(document.getElementById(\"8bb7a2b1-cfc5-4b41-ad36-b50389a86159\")).parents('.cell').data().cell;\n",
       "      cell.output_area.append_execute_result(NB_LOAD_WARNING)\n",
       "    }\n",
       "\n",
       "  }\n",
       "\n",
       "  if (root._bokeh_is_loading === 0) {\n",
       "    console.log(\"Bokeh: BokehJS loaded, going straight to plotting\");\n",
       "    run_inline_js();\n",
       "  } else {\n",
       "    load_libs(js_urls, function() {\n",
       "      console.log(\"Bokeh: BokehJS plotting callback run at\", now());\n",
       "      run_inline_js();\n",
       "    });\n",
       "  }\n",
       "}(window));"
      ],
      "application/vnd.bokehjs_load.v0+json": "\n(function(root) {\n  function now() {\n    return new Date();\n  }\n\n  var force = true;\n\n  if (typeof (root._bokeh_onload_callbacks) === \"undefined\" || force === true) {\n    root._bokeh_onload_callbacks = [];\n    root._bokeh_is_loading = undefined;\n  }\n\n  \n\n  \n  if (typeof (root._bokeh_timeout) === \"undefined\" || force === true) {\n    root._bokeh_timeout = Date.now() + 5000;\n    root._bokeh_failed_load = false;\n  }\n\n  var NB_LOAD_WARNING = {'data': {'text/html':\n     \"<div style='background-color: #fdd'>\\n\"+\n     \"<p>\\n\"+\n     \"BokehJS does not appear to have successfully loaded. If loading BokehJS from CDN, this \\n\"+\n     \"may be due to a slow or bad network connection. Possible fixes:\\n\"+\n     \"</p>\\n\"+\n     \"<ul>\\n\"+\n     \"<li>re-rerun `output_notebook()` to attempt to load from CDN again, or</li>\\n\"+\n     \"<li>use INLINE resources instead, as so:</li>\\n\"+\n     \"</ul>\\n\"+\n     \"<code>\\n\"+\n     \"from bokeh.resources import INLINE\\n\"+\n     \"output_notebook(resources=INLINE)\\n\"+\n     \"</code>\\n\"+\n     \"</div>\"}};\n\n  function display_loaded() {\n    var el = document.getElementById(\"8bb7a2b1-cfc5-4b41-ad36-b50389a86159\");\n    if (el != null) {\n      el.textContent = \"BokehJS is loading...\";\n    }\n    if (root.Bokeh !== undefined) {\n      if (el != null) {\n        el.textContent = \"BokehJS \" + root.Bokeh.version + \" successfully loaded.\";\n      }\n    } else if (Date.now() < root._bokeh_timeout) {\n      setTimeout(display_loaded, 100)\n    }\n  }\n\n\n  function run_callbacks() {\n    try {\n      root._bokeh_onload_callbacks.forEach(function(callback) { callback() });\n    }\n    finally {\n      delete root._bokeh_onload_callbacks\n    }\n    console.info(\"Bokeh: all callbacks have finished\");\n  }\n\n  function load_libs(js_urls, callback) {\n    root._bokeh_onload_callbacks.push(callback);\n    if (root._bokeh_is_loading > 0) {\n      console.log(\"Bokeh: BokehJS is being loaded, scheduling callback at\", now());\n      return null;\n    }\n    if (js_urls == null || js_urls.length === 0) {\n      run_callbacks();\n      return null;\n    }\n    console.log(\"Bokeh: BokehJS not loaded, scheduling load and callback at\", now());\n    root._bokeh_is_loading = js_urls.length;\n    for (var i = 0; i < js_urls.length; i++) {\n      var url = js_urls[i];\n      var s = document.createElement('script');\n      s.src = url;\n      s.async = false;\n      s.onreadystatechange = s.onload = function() {\n        root._bokeh_is_loading--;\n        if (root._bokeh_is_loading === 0) {\n          console.log(\"Bokeh: all BokehJS libraries loaded\");\n          run_callbacks()\n        }\n      };\n      s.onerror = function() {\n        console.warn(\"failed to load library \" + url);\n      };\n      console.log(\"Bokeh: injecting script tag for BokehJS library: \", url);\n      document.getElementsByTagName(\"head\")[0].appendChild(s);\n    }\n  };var element = document.getElementById(\"8bb7a2b1-cfc5-4b41-ad36-b50389a86159\");\n  if (element == null) {\n    console.log(\"Bokeh: ERROR: autoload.js configured with elementid '8bb7a2b1-cfc5-4b41-ad36-b50389a86159' but no matching script tag was found. \")\n    return false;\n  }\n\n  var js_urls = [\"https://cdn.pydata.org/bokeh/release/bokeh-0.13.0.min.js\", \"https://cdn.pydata.org/bokeh/release/bokeh-widgets-0.13.0.min.js\", \"https://cdn.pydata.org/bokeh/release/bokeh-tables-0.13.0.min.js\", \"https://cdn.pydata.org/bokeh/release/bokeh-gl-0.13.0.min.js\"];\n\n  var inline_js = [\n    function(Bokeh) {\n      Bokeh.set_log_level(\"info\");\n    },\n    \n    function(Bokeh) {\n      \n    },\n    function(Bokeh) {\n      console.log(\"Bokeh: injecting CSS: https://cdn.pydata.org/bokeh/release/bokeh-0.13.0.min.css\");\n      Bokeh.embed.inject_css(\"https://cdn.pydata.org/bokeh/release/bokeh-0.13.0.min.css\");\n      console.log(\"Bokeh: injecting CSS: https://cdn.pydata.org/bokeh/release/bokeh-widgets-0.13.0.min.css\");\n      Bokeh.embed.inject_css(\"https://cdn.pydata.org/bokeh/release/bokeh-widgets-0.13.0.min.css\");\n      console.log(\"Bokeh: injecting CSS: https://cdn.pydata.org/bokeh/release/bokeh-tables-0.13.0.min.css\");\n      Bokeh.embed.inject_css(\"https://cdn.pydata.org/bokeh/release/bokeh-tables-0.13.0.min.css\");\n    }\n  ];\n\n  function run_inline_js() {\n    \n    if ((root.Bokeh !== undefined) || (force === true)) {\n      for (var i = 0; i < inline_js.length; i++) {\n        inline_js[i].call(root, root.Bokeh);\n      }if (force === true) {\n        display_loaded();\n      }} else if (Date.now() < root._bokeh_timeout) {\n      setTimeout(run_inline_js, 100);\n    } else if (!root._bokeh_failed_load) {\n      console.log(\"Bokeh: BokehJS failed to load within specified timeout.\");\n      root._bokeh_failed_load = true;\n    } else if (force !== true) {\n      var cell = $(document.getElementById(\"8bb7a2b1-cfc5-4b41-ad36-b50389a86159\")).parents('.cell').data().cell;\n      cell.output_area.append_execute_result(NB_LOAD_WARNING)\n    }\n\n  }\n\n  if (root._bokeh_is_loading === 0) {\n    console.log(\"Bokeh: BokehJS loaded, going straight to plotting\");\n    run_inline_js();\n  } else {\n    load_libs(js_urls, function() {\n      console.log(\"Bokeh: BokehJS plotting callback run at\", now());\n      run_inline_js();\n    });\n  }\n}(window));"
     },
     "metadata": {},
     "output_type": "display_data"
    }
   ],
   "source": [
    "#The first step for using bokeh in a jupyter notebook is importing output notebook\n",
    "from bokeh.io import output_notebook\n",
    "output_notebook()"
   ]
  },
  {
   "cell_type": "code",
   "execution_count": 3,
   "metadata": {},
   "outputs": [
    {
     "name": "stdout",
     "output_type": "stream",
     "text": [
      "{'x': [1, 2, 3, 4, 5], 'y': [1, 4, 9, 16, 25]}\n"
     ]
    }
   ],
   "source": [
    "#Let's make some source data\n",
    "source = {\"x\":[1,2,3,4,5],\n",
    "         \"y\":[1,4,9,16,25]}\n",
    "print(source)"
   ]
  },
  {
   "cell_type": "code",
   "execution_count": 4,
   "metadata": {
    "collapsed": true
   },
   "outputs": [],
   "source": [
    "#The first step to creating our plot is creating the figure\n",
    "#We can initialize with with height, width and title\n",
    "from bokeh.plotting import figure\n",
    "fig = figure(plot_width=800, plot_height=400, title=\"Squared Numbers\")"
   ]
  },
  {
   "cell_type": "code",
   "execution_count": 5,
   "metadata": {
    "collapsed": true
   },
   "outputs": [],
   "source": [
    "#Calling plot function on our figure will plot on it and return the plot object\n",
    "#For example, circle will let us plot a scatter plot\n",
    "#But won't show the plot\n",
    "circles = fig.circle(source[\"x\"],source[\"y\"])"
   ]
  },
  {
   "cell_type": "code",
   "execution_count": 6,
   "metadata": {},
   "outputs": [
    {
     "data": {
      "text/html": [
       "\n",
       "\n",
       "\n",
       "\n",
       "\n",
       "\n",
       "  <div class=\"bk-root\" id=\"a1bf7d6b-c17d-4a93-8ecc-a14fb14470ca\"></div>\n"
      ]
     },
     "metadata": {},
     "output_type": "display_data"
    },
    {
     "data": {
      "application/javascript": [
       "(function(root) {\n",
       "  function embed_document(root) {\n",
       "    \n",
       "  var docs_json = {\"d9d3dae0-18fa-4e31-b607-6d347bef26a6\":{\"roots\":{\"references\":[{\"attributes\":{\"dimension\":1,\"plot\":{\"id\":\"c04ff4ba-4434-42cb-b459-808bd3630f27\",\"subtype\":\"Figure\",\"type\":\"Plot\"},\"ticker\":{\"id\":\"881aa16d-f0ff-47b8-ba79-6c018fa319f1\",\"type\":\"BasicTicker\"}},\"id\":\"93d9ec20-5325-4a99-a42b-2929581a88cb\",\"type\":\"Grid\"},{\"attributes\":{\"bottom_units\":\"screen\",\"fill_alpha\":{\"value\":0.5},\"fill_color\":{\"value\":\"lightgrey\"},\"left_units\":\"screen\",\"level\":\"overlay\",\"line_alpha\":{\"value\":1.0},\"line_color\":{\"value\":\"black\"},\"line_dash\":[4,4],\"line_width\":{\"value\":2},\"plot\":null,\"render_mode\":\"css\",\"right_units\":\"screen\",\"top_units\":\"screen\"},\"id\":\"1afa52d1-6fe5-4f6f-9fc7-89e76945b20e\",\"type\":\"BoxAnnotation\"},{\"attributes\":{},\"id\":\"40577785-a951-4f9d-b426-b41f86f9252c\",\"type\":\"Selection\"},{\"attributes\":{\"callback\":null},\"id\":\"3eb39439-7e6d-47fd-a87c-7f7d9704c7c4\",\"type\":\"DataRange1d\"},{\"attributes\":{},\"id\":\"dc92f2d9-712d-416f-88f6-9de5033bd57a\",\"type\":\"PanTool\"},{\"attributes\":{\"fill_color\":{\"value\":\"#1f77b4\"},\"line_color\":{\"value\":\"#1f77b4\"},\"x\":{\"field\":\"x\"},\"y\":{\"field\":\"y\"}},\"id\":\"56c2633c-02a3-45b2-a514-ac1e33959c3b\",\"type\":\"Circle\"},{\"attributes\":{\"active_drag\":\"auto\",\"active_inspect\":\"auto\",\"active_multi\":null,\"active_scroll\":\"auto\",\"active_tap\":\"auto\",\"tools\":[{\"id\":\"dc92f2d9-712d-416f-88f6-9de5033bd57a\",\"type\":\"PanTool\"},{\"id\":\"cca8d563-dbd3-458c-9fc3-81a60702f9fe\",\"type\":\"WheelZoomTool\"},{\"id\":\"53e6dd0f-6ff7-4f20-8c07-eaae2556c5ab\",\"type\":\"BoxZoomTool\"},{\"id\":\"00919ddd-0132-4958-b37f-fec902fb9f23\",\"type\":\"SaveTool\"},{\"id\":\"b00b536f-54a0-4d5e-b866-e686481e5803\",\"type\":\"ResetTool\"},{\"id\":\"13b71086-c2bf-4f27-9d5d-a6bb1b4fa2d2\",\"type\":\"HelpTool\"}]},\"id\":\"ea18c7cf-c28b-4e85-b6d6-1e6eed3ed32c\",\"type\":\"Toolbar\"},{\"attributes\":{},\"id\":\"04289171-970d-43b4-a579-0a5c008f1a13\",\"type\":\"BasicTickFormatter\"},{\"attributes\":{},\"id\":\"cca8d563-dbd3-458c-9fc3-81a60702f9fe\",\"type\":\"WheelZoomTool\"},{\"attributes\":{\"source\":{\"id\":\"8facc1c0-618e-4202-9ba4-2119a3044325\",\"type\":\"ColumnDataSource\"}},\"id\":\"70435236-3a43-4b0f-8815-8c9d0da8df41\",\"type\":\"CDSView\"},{\"attributes\":{\"overlay\":{\"id\":\"1afa52d1-6fe5-4f6f-9fc7-89e76945b20e\",\"type\":\"BoxAnnotation\"}},\"id\":\"53e6dd0f-6ff7-4f20-8c07-eaae2556c5ab\",\"type\":\"BoxZoomTool\"},{\"attributes\":{\"data_source\":{\"id\":\"8facc1c0-618e-4202-9ba4-2119a3044325\",\"type\":\"ColumnDataSource\"},\"glyph\":{\"id\":\"56c2633c-02a3-45b2-a514-ac1e33959c3b\",\"type\":\"Circle\"},\"hover_glyph\":null,\"muted_glyph\":null,\"nonselection_glyph\":{\"id\":\"c0b714ab-37cf-4c74-b4e6-593b5866cebf\",\"type\":\"Circle\"},\"selection_glyph\":null,\"view\":{\"id\":\"70435236-3a43-4b0f-8815-8c9d0da8df41\",\"type\":\"CDSView\"}},\"id\":\"c509d74a-3060-4bd9-aaac-c06f34f18d0d\",\"type\":\"GlyphRenderer\"},{\"attributes\":{},\"id\":\"00919ddd-0132-4958-b37f-fec902fb9f23\",\"type\":\"SaveTool\"},{\"attributes\":{},\"id\":\"55550251-f4bb-4060-af4f-08079bc41ced\",\"type\":\"BasicTickFormatter\"},{\"attributes\":{},\"id\":\"b00b536f-54a0-4d5e-b866-e686481e5803\",\"type\":\"ResetTool\"},{\"attributes\":{},\"id\":\"7f3d98c5-a9b3-4a83-9466-1bddb322c825\",\"type\":\"LinearScale\"},{\"attributes\":{},\"id\":\"13b71086-c2bf-4f27-9d5d-a6bb1b4fa2d2\",\"type\":\"HelpTool\"},{\"attributes\":{},\"id\":\"b048e308-1a09-4390-b45d-e1e3d2b7d1c3\",\"type\":\"UnionRenderers\"},{\"attributes\":{\"callback\":null},\"id\":\"a34bb8f6-08e5-4cbc-9aa7-4b96a82f2e2d\",\"type\":\"DataRange1d\"},{\"attributes\":{\"callback\":null,\"data\":{\"x\":[1,2,3,4,5],\"y\":[1,4,9,16,25]},\"selected\":{\"id\":\"40577785-a951-4f9d-b426-b41f86f9252c\",\"type\":\"Selection\"},\"selection_policy\":{\"id\":\"b048e308-1a09-4390-b45d-e1e3d2b7d1c3\",\"type\":\"UnionRenderers\"}},\"id\":\"8facc1c0-618e-4202-9ba4-2119a3044325\",\"type\":\"ColumnDataSource\"},{\"attributes\":{},\"id\":\"837c23a4-c3a9-4959-b5f3-3b9bfe2896a5\",\"type\":\"LinearScale\"},{\"attributes\":{\"formatter\":{\"id\":\"55550251-f4bb-4060-af4f-08079bc41ced\",\"type\":\"BasicTickFormatter\"},\"plot\":{\"id\":\"c04ff4ba-4434-42cb-b459-808bd3630f27\",\"subtype\":\"Figure\",\"type\":\"Plot\"},\"ticker\":{\"id\":\"e09c7649-c1f7-4849-90dc-35f7e96b59ee\",\"type\":\"BasicTicker\"}},\"id\":\"e88f382b-fdf1-43c9-b838-4ef68e084d01\",\"type\":\"LinearAxis\"},{\"attributes\":{\"fill_alpha\":{\"value\":0.1},\"fill_color\":{\"value\":\"#1f77b4\"},\"line_alpha\":{\"value\":0.1},\"line_color\":{\"value\":\"#1f77b4\"},\"x\":{\"field\":\"x\"},\"y\":{\"field\":\"y\"}},\"id\":\"c0b714ab-37cf-4c74-b4e6-593b5866cebf\",\"type\":\"Circle\"},{\"attributes\":{},\"id\":\"e09c7649-c1f7-4849-90dc-35f7e96b59ee\",\"type\":\"BasicTicker\"},{\"attributes\":{\"plot\":{\"id\":\"c04ff4ba-4434-42cb-b459-808bd3630f27\",\"subtype\":\"Figure\",\"type\":\"Plot\"},\"ticker\":{\"id\":\"e09c7649-c1f7-4849-90dc-35f7e96b59ee\",\"type\":\"BasicTicker\"}},\"id\":\"11e0bde4-a2db-4533-a920-f1fd51036a77\",\"type\":\"Grid\"},{\"attributes\":{\"below\":[{\"id\":\"e88f382b-fdf1-43c9-b838-4ef68e084d01\",\"type\":\"LinearAxis\"}],\"left\":[{\"id\":\"22ced410-1514-4111-bedd-354292e4f243\",\"type\":\"LinearAxis\"}],\"plot_height\":400,\"plot_width\":800,\"renderers\":[{\"id\":\"e88f382b-fdf1-43c9-b838-4ef68e084d01\",\"type\":\"LinearAxis\"},{\"id\":\"11e0bde4-a2db-4533-a920-f1fd51036a77\",\"type\":\"Grid\"},{\"id\":\"22ced410-1514-4111-bedd-354292e4f243\",\"type\":\"LinearAxis\"},{\"id\":\"93d9ec20-5325-4a99-a42b-2929581a88cb\",\"type\":\"Grid\"},{\"id\":\"1afa52d1-6fe5-4f6f-9fc7-89e76945b20e\",\"type\":\"BoxAnnotation\"},{\"id\":\"c509d74a-3060-4bd9-aaac-c06f34f18d0d\",\"type\":\"GlyphRenderer\"}],\"title\":{\"id\":\"5f594838-01ab-429a-a067-553fd0376a45\",\"type\":\"Title\"},\"toolbar\":{\"id\":\"ea18c7cf-c28b-4e85-b6d6-1e6eed3ed32c\",\"type\":\"Toolbar\"},\"x_range\":{\"id\":\"a34bb8f6-08e5-4cbc-9aa7-4b96a82f2e2d\",\"type\":\"DataRange1d\"},\"x_scale\":{\"id\":\"837c23a4-c3a9-4959-b5f3-3b9bfe2896a5\",\"type\":\"LinearScale\"},\"y_range\":{\"id\":\"3eb39439-7e6d-47fd-a87c-7f7d9704c7c4\",\"type\":\"DataRange1d\"},\"y_scale\":{\"id\":\"7f3d98c5-a9b3-4a83-9466-1bddb322c825\",\"type\":\"LinearScale\"}},\"id\":\"c04ff4ba-4434-42cb-b459-808bd3630f27\",\"subtype\":\"Figure\",\"type\":\"Plot\"},{\"attributes\":{\"formatter\":{\"id\":\"04289171-970d-43b4-a579-0a5c008f1a13\",\"type\":\"BasicTickFormatter\"},\"plot\":{\"id\":\"c04ff4ba-4434-42cb-b459-808bd3630f27\",\"subtype\":\"Figure\",\"type\":\"Plot\"},\"ticker\":{\"id\":\"881aa16d-f0ff-47b8-ba79-6c018fa319f1\",\"type\":\"BasicTicker\"}},\"id\":\"22ced410-1514-4111-bedd-354292e4f243\",\"type\":\"LinearAxis\"},{\"attributes\":{\"plot\":null,\"text\":\"Squared Numbers\"},\"id\":\"5f594838-01ab-429a-a067-553fd0376a45\",\"type\":\"Title\"},{\"attributes\":{},\"id\":\"881aa16d-f0ff-47b8-ba79-6c018fa319f1\",\"type\":\"BasicTicker\"}],\"root_ids\":[\"c04ff4ba-4434-42cb-b459-808bd3630f27\"]},\"title\":\"Bokeh Application\",\"version\":\"0.13.0\"}};\n",
       "  var render_items = [{\"docid\":\"d9d3dae0-18fa-4e31-b607-6d347bef26a6\",\"roots\":{\"c04ff4ba-4434-42cb-b459-808bd3630f27\":\"a1bf7d6b-c17d-4a93-8ecc-a14fb14470ca\"}}];\n",
       "  root.Bokeh.embed.embed_items_notebook(docs_json, render_items);\n",
       "\n",
       "  }\n",
       "  if (root.Bokeh !== undefined) {\n",
       "    embed_document(root);\n",
       "  } else {\n",
       "    var attempts = 0;\n",
       "    var timer = setInterval(function(root) {\n",
       "      if (root.Bokeh !== undefined) {\n",
       "        embed_document(root);\n",
       "        clearInterval(timer);\n",
       "      }\n",
       "      attempts++;\n",
       "      if (attempts > 100) {\n",
       "        console.log(\"Bokeh: ERROR: Unable to run BokehJS code because BokehJS library is missing\")\n",
       "        clearInterval(timer);\n",
       "      }\n",
       "    }, 10, root)\n",
       "  }\n",
       "})(window);"
      ],
      "application/vnd.bokehjs_exec.v0+json": ""
     },
     "metadata": {
      "application/vnd.bokehjs_exec.v0+json": {
       "id": "c04ff4ba-4434-42cb-b459-808bd3630f27"
      }
     },
     "output_type": "display_data"
    }
   ],
   "source": [
    "#The function show actually shows the plot\n",
    "from bokeh.io import show\n",
    "show(fig)"
   ]
  },
  {
   "cell_type": "code",
   "execution_count": 7,
   "metadata": {},
   "outputs": [
    {
     "name": "stdout",
     "output_type": "stream",
     "text": [
      "{'x': [1, 2, 3, 4, 5], 'y1': [1, 4, 9, 16, 25], 'y2': [1, 2, 4, 8, 16]}\n"
     ]
    }
   ],
   "source": [
    "#We can also add a second y series\n",
    "source = {\"x\":[1,2,3,4,5],\n",
    "         \"y1\":[1,4,9,16,25],\n",
    "         \"y2\":[1,2,4,8,16]}\n",
    "print(source)"
   ]
  },
  {
   "cell_type": "code",
   "execution_count": 8,
   "metadata": {},
   "outputs": [
    {
     "data": {
      "text/html": [
       "\n",
       "\n",
       "\n",
       "\n",
       "\n",
       "\n",
       "  <div class=\"bk-root\" id=\"d0cbad49-4ff7-4775-bf27-3b2cb579605d\"></div>\n"
      ]
     },
     "metadata": {},
     "output_type": "display_data"
    },
    {
     "data": {
      "application/javascript": [
       "(function(root) {\n",
       "  function embed_document(root) {\n",
       "    \n",
       "  var docs_json = {\"4bed4b89-9a49-4020-886b-133d7d9fc90b\":{\"roots\":{\"references\":[{\"attributes\":{\"callback\":null},\"id\":\"982d4b17-21c3-4ec1-a404-2d69106a5039\",\"type\":\"DataRange1d\"},{\"attributes\":{\"overlay\":{\"id\":\"b4c40a35-5f8c-4262-9b34-08f86f155d3e\",\"type\":\"BoxAnnotation\"}},\"id\":\"9c92c4b4-bb52-416b-bafa-c1122ca37af9\",\"type\":\"BoxZoomTool\"},{\"attributes\":{},\"id\":\"02079a98-783a-4dd4-9a87-ceece284ff43\",\"type\":\"WheelZoomTool\"},{\"attributes\":{},\"id\":\"60ecf97f-6daa-4464-bc68-f123da9d2922\",\"type\":\"PanTool\"},{\"attributes\":{\"bottom_units\":\"screen\",\"fill_alpha\":{\"value\":0.5},\"fill_color\":{\"value\":\"lightgrey\"},\"left_units\":\"screen\",\"level\":\"overlay\",\"line_alpha\":{\"value\":1.0},\"line_color\":{\"value\":\"black\"},\"line_dash\":[4,4],\"line_width\":{\"value\":2},\"plot\":null,\"render_mode\":\"css\",\"right_units\":\"screen\",\"top_units\":\"screen\"},\"id\":\"b4c40a35-5f8c-4262-9b34-08f86f155d3e\",\"type\":\"BoxAnnotation\"},{\"attributes\":{\"callback\":null,\"data\":{\"x\":[1,2,3,4,5],\"y\":[1,2,4,8,16]},\"selected\":{\"id\":\"5f34a3bc-4594-43a4-85d6-bf40845b4bd0\",\"type\":\"Selection\"},\"selection_policy\":{\"id\":\"4b0be988-c889-4ca6-b044-f5c2c7552c58\",\"type\":\"UnionRenderers\"}},\"id\":\"a3d8bd10-50dd-49f3-96d7-06729afa84da\",\"type\":\"ColumnDataSource\"},{\"attributes\":{\"fill_color\":{\"value\":\"#1f77b4\"},\"line_color\":{\"value\":\"#1f77b4\"},\"x\":{\"field\":\"x\"},\"y\":{\"field\":\"y\"}},\"id\":\"4a4907cb-abca-4a4e-92ac-d09efbed6acf\",\"type\":\"Circle\"},{\"attributes\":{\"data_source\":{\"id\":\"53e4341c-f679-47e7-8fc3-40b549e0ada2\",\"type\":\"ColumnDataSource\"},\"glyph\":{\"id\":\"4a4907cb-abca-4a4e-92ac-d09efbed6acf\",\"type\":\"Circle\"},\"hover_glyph\":null,\"muted_glyph\":null,\"nonselection_glyph\":{\"id\":\"4bd52190-872d-4cf7-aa42-16e27313e424\",\"type\":\"Circle\"},\"selection_glyph\":null,\"view\":{\"id\":\"047f00b8-cd85-4a80-9617-a2c92310608c\",\"type\":\"CDSView\"}},\"id\":\"f952b586-0ce5-468e-9799-7e72200ddf0f\",\"type\":\"GlyphRenderer\"},{\"attributes\":{\"formatter\":{\"id\":\"74fcde7a-3b4e-4272-8345-cc9470993cef\",\"type\":\"BasicTickFormatter\"},\"plot\":{\"id\":\"3f9f8eed-9e25-4afd-b608-c0868c3562f9\",\"subtype\":\"Figure\",\"type\":\"Plot\"},\"ticker\":{\"id\":\"983e0d79-7444-41c2-8078-31a7186eaaa2\",\"type\":\"BasicTicker\"}},\"id\":\"99e30cdd-e9fe-42dd-857e-bd820c02b3ff\",\"type\":\"LinearAxis\"},{\"attributes\":{\"fill_alpha\":{\"value\":0.1},\"fill_color\":{\"value\":\"#1f77b4\"},\"line_alpha\":{\"value\":0.1},\"line_color\":{\"value\":\"#1f77b4\"},\"x\":{\"field\":\"x\"},\"y\":{\"field\":\"y\"}},\"id\":\"0d30c57b-224a-4da9-bf19-162490468589\",\"type\":\"Circle\"},{\"attributes\":{\"fill_color\":{\"value\":\"#1f77b4\"},\"line_color\":{\"value\":\"#1f77b4\"},\"x\":{\"field\":\"x\"},\"y\":{\"field\":\"y\"}},\"id\":\"60b8ba47-2603-4e58-8a2c-82f881431f35\",\"type\":\"Circle\"},{\"attributes\":{},\"id\":\"73c02d24-8ddb-4a95-8c57-6817bffd02b2\",\"type\":\"LinearScale\"},{\"attributes\":{\"formatter\":{\"id\":\"5b53fcb5-3f7d-46e9-a49a-a7a016627b05\",\"type\":\"BasicTickFormatter\"},\"plot\":{\"id\":\"3f9f8eed-9e25-4afd-b608-c0868c3562f9\",\"subtype\":\"Figure\",\"type\":\"Plot\"},\"ticker\":{\"id\":\"ffa7fa14-8490-439b-aa12-482f072efc91\",\"type\":\"BasicTicker\"}},\"id\":\"6970eb9b-21a5-4c1c-81e1-de84c665616c\",\"type\":\"LinearAxis\"},{\"attributes\":{},\"id\":\"74fcde7a-3b4e-4272-8345-cc9470993cef\",\"type\":\"BasicTickFormatter\"},{\"attributes\":{},\"id\":\"ffa7fa14-8490-439b-aa12-482f072efc91\",\"type\":\"BasicTicker\"},{\"attributes\":{},\"id\":\"5f34a3bc-4594-43a4-85d6-bf40845b4bd0\",\"type\":\"Selection\"},{\"attributes\":{\"active_drag\":\"auto\",\"active_inspect\":\"auto\",\"active_multi\":null,\"active_scroll\":\"auto\",\"active_tap\":\"auto\",\"tools\":[{\"id\":\"60ecf97f-6daa-4464-bc68-f123da9d2922\",\"type\":\"PanTool\"},{\"id\":\"02079a98-783a-4dd4-9a87-ceece284ff43\",\"type\":\"WheelZoomTool\"},{\"id\":\"9c92c4b4-bb52-416b-bafa-c1122ca37af9\",\"type\":\"BoxZoomTool\"},{\"id\":\"a0ea71aa-76c2-4c97-8c24-06cdbd0a606d\",\"type\":\"SaveTool\"},{\"id\":\"8a5d6b5c-d663-4acc-adb7-c1aa21610c9b\",\"type\":\"ResetTool\"},{\"id\":\"1e7f1e5d-b0ac-4f4a-8c6b-8b873ae96a9b\",\"type\":\"HelpTool\"}]},\"id\":\"03039c77-246e-4e17-abe9-1442049e86a9\",\"type\":\"Toolbar\"},{\"attributes\":{\"source\":{\"id\":\"53e4341c-f679-47e7-8fc3-40b549e0ada2\",\"type\":\"ColumnDataSource\"}},\"id\":\"047f00b8-cd85-4a80-9617-a2c92310608c\",\"type\":\"CDSView\"},{\"attributes\":{},\"id\":\"0efbd23f-b3c8-4991-8a31-9a3f640fe15e\",\"type\":\"Selection\"},{\"attributes\":{\"below\":[{\"id\":\"99e30cdd-e9fe-42dd-857e-bd820c02b3ff\",\"type\":\"LinearAxis\"}],\"left\":[{\"id\":\"6970eb9b-21a5-4c1c-81e1-de84c665616c\",\"type\":\"LinearAxis\"}],\"plot_height\":400,\"plot_width\":800,\"renderers\":[{\"id\":\"99e30cdd-e9fe-42dd-857e-bd820c02b3ff\",\"type\":\"LinearAxis\"},{\"id\":\"6bc42b1b-2234-460d-bef8-775c6341f096\",\"type\":\"Grid\"},{\"id\":\"6970eb9b-21a5-4c1c-81e1-de84c665616c\",\"type\":\"LinearAxis\"},{\"id\":\"dc6e079c-6785-43d3-9ac7-8ce128ddf68f\",\"type\":\"Grid\"},{\"id\":\"b4c40a35-5f8c-4262-9b34-08f86f155d3e\",\"type\":\"BoxAnnotation\"},{\"id\":\"f952b586-0ce5-468e-9799-7e72200ddf0f\",\"type\":\"GlyphRenderer\"},{\"id\":\"6ba68149-a71a-44d8-80df-6ed6db31a613\",\"type\":\"GlyphRenderer\"}],\"title\":{\"id\":\"6954b2ad-82d9-452e-89ec-7af53d208a33\",\"type\":\"Title\"},\"toolbar\":{\"id\":\"03039c77-246e-4e17-abe9-1442049e86a9\",\"type\":\"Toolbar\"},\"x_range\":{\"id\":\"d1688921-aafb-4616-b821-99eb58adfe20\",\"type\":\"DataRange1d\"},\"x_scale\":{\"id\":\"15ddfc6e-96ca-42f7-aa9e-a63fe49d75c4\",\"type\":\"LinearScale\"},\"y_range\":{\"id\":\"982d4b17-21c3-4ec1-a404-2d69106a5039\",\"type\":\"DataRange1d\"},\"y_scale\":{\"id\":\"73c02d24-8ddb-4a95-8c57-6817bffd02b2\",\"type\":\"LinearScale\"}},\"id\":\"3f9f8eed-9e25-4afd-b608-c0868c3562f9\",\"subtype\":\"Figure\",\"type\":\"Plot\"},{\"attributes\":{},\"id\":\"5b53fcb5-3f7d-46e9-a49a-a7a016627b05\",\"type\":\"BasicTickFormatter\"},{\"attributes\":{\"dimension\":1,\"plot\":{\"id\":\"3f9f8eed-9e25-4afd-b608-c0868c3562f9\",\"subtype\":\"Figure\",\"type\":\"Plot\"},\"ticker\":{\"id\":\"ffa7fa14-8490-439b-aa12-482f072efc91\",\"type\":\"BasicTicker\"}},\"id\":\"dc6e079c-6785-43d3-9ac7-8ce128ddf68f\",\"type\":\"Grid\"},{\"attributes\":{\"callback\":null,\"data\":{\"x\":[1,2,3,4,5],\"y\":[1,4,9,16,25]},\"selected\":{\"id\":\"0efbd23f-b3c8-4991-8a31-9a3f640fe15e\",\"type\":\"Selection\"},\"selection_policy\":{\"id\":\"f3267b6b-b2a3-419a-baa5-a489c16a1ca6\",\"type\":\"UnionRenderers\"}},\"id\":\"53e4341c-f679-47e7-8fc3-40b549e0ada2\",\"type\":\"ColumnDataSource\"},{\"attributes\":{},\"id\":\"983e0d79-7444-41c2-8078-31a7186eaaa2\",\"type\":\"BasicTicker\"},{\"attributes\":{\"fill_alpha\":{\"value\":0.1},\"fill_color\":{\"value\":\"#1f77b4\"},\"line_alpha\":{\"value\":0.1},\"line_color\":{\"value\":\"#1f77b4\"},\"x\":{\"field\":\"x\"},\"y\":{\"field\":\"y\"}},\"id\":\"4bd52190-872d-4cf7-aa42-16e27313e424\",\"type\":\"Circle\"},{\"attributes\":{\"plot\":null,\"text\":\"Example Plot\"},\"id\":\"6954b2ad-82d9-452e-89ec-7af53d208a33\",\"type\":\"Title\"},{\"attributes\":{\"plot\":{\"id\":\"3f9f8eed-9e25-4afd-b608-c0868c3562f9\",\"subtype\":\"Figure\",\"type\":\"Plot\"},\"ticker\":{\"id\":\"983e0d79-7444-41c2-8078-31a7186eaaa2\",\"type\":\"BasicTicker\"}},\"id\":\"6bc42b1b-2234-460d-bef8-775c6341f096\",\"type\":\"Grid\"},{\"attributes\":{},\"id\":\"15ddfc6e-96ca-42f7-aa9e-a63fe49d75c4\",\"type\":\"LinearScale\"},{\"attributes\":{},\"id\":\"f3267b6b-b2a3-419a-baa5-a489c16a1ca6\",\"type\":\"UnionRenderers\"},{\"attributes\":{\"source\":{\"id\":\"a3d8bd10-50dd-49f3-96d7-06729afa84da\",\"type\":\"ColumnDataSource\"}},\"id\":\"83198afa-2dd9-44e5-bc6b-19d6b08b4f46\",\"type\":\"CDSView\"},{\"attributes\":{\"data_source\":{\"id\":\"a3d8bd10-50dd-49f3-96d7-06729afa84da\",\"type\":\"ColumnDataSource\"},\"glyph\":{\"id\":\"60b8ba47-2603-4e58-8a2c-82f881431f35\",\"type\":\"Circle\"},\"hover_glyph\":null,\"muted_glyph\":null,\"nonselection_glyph\":{\"id\":\"0d30c57b-224a-4da9-bf19-162490468589\",\"type\":\"Circle\"},\"selection_glyph\":null,\"view\":{\"id\":\"83198afa-2dd9-44e5-bc6b-19d6b08b4f46\",\"type\":\"CDSView\"}},\"id\":\"6ba68149-a71a-44d8-80df-6ed6db31a613\",\"type\":\"GlyphRenderer\"},{\"attributes\":{\"callback\":null},\"id\":\"d1688921-aafb-4616-b821-99eb58adfe20\",\"type\":\"DataRange1d\"},{\"attributes\":{},\"id\":\"1e7f1e5d-b0ac-4f4a-8c6b-8b873ae96a9b\",\"type\":\"HelpTool\"},{\"attributes\":{},\"id\":\"4b0be988-c889-4ca6-b044-f5c2c7552c58\",\"type\":\"UnionRenderers\"},{\"attributes\":{},\"id\":\"a0ea71aa-76c2-4c97-8c24-06cdbd0a606d\",\"type\":\"SaveTool\"},{\"attributes\":{},\"id\":\"8a5d6b5c-d663-4acc-adb7-c1aa21610c9b\",\"type\":\"ResetTool\"}],\"root_ids\":[\"3f9f8eed-9e25-4afd-b608-c0868c3562f9\"]},\"title\":\"Bokeh Application\",\"version\":\"0.13.0\"}};\n",
       "  var render_items = [{\"docid\":\"4bed4b89-9a49-4020-886b-133d7d9fc90b\",\"roots\":{\"3f9f8eed-9e25-4afd-b608-c0868c3562f9\":\"d0cbad49-4ff7-4775-bf27-3b2cb579605d\"}}];\n",
       "  root.Bokeh.embed.embed_items_notebook(docs_json, render_items);\n",
       "\n",
       "  }\n",
       "  if (root.Bokeh !== undefined) {\n",
       "    embed_document(root);\n",
       "  } else {\n",
       "    var attempts = 0;\n",
       "    var timer = setInterval(function(root) {\n",
       "      if (root.Bokeh !== undefined) {\n",
       "        embed_document(root);\n",
       "        clearInterval(timer);\n",
       "      }\n",
       "      attempts++;\n",
       "      if (attempts > 100) {\n",
       "        console.log(\"Bokeh: ERROR: Unable to run BokehJS code because BokehJS library is missing\")\n",
       "        clearInterval(timer);\n",
       "      }\n",
       "    }, 10, root)\n",
       "  }\n",
       "})(window);"
      ],
      "application/vnd.bokehjs_exec.v0+json": ""
     },
     "metadata": {
      "application/vnd.bokehjs_exec.v0+json": {
       "id": "3f9f8eed-9e25-4afd-b608-c0868c3562f9"
      }
     },
     "output_type": "display_data"
    }
   ],
   "source": [
    "#Now we will have one figure but multiple plots\n",
    "fig = figure(plot_width=800, plot_height=400, title=\"Example Plot\")\n",
    "circles1 = fig.circle(source[\"x\"],source[\"y1\"])\n",
    "circles2 = fig.circle(source[\"x\"],source[\"y2\"])\n",
    "show(fig)"
   ]
  },
  {
   "cell_type": "code",
   "execution_count": 9,
   "metadata": {},
   "outputs": [
    {
     "data": {
      "text/html": [
       "\n",
       "\n",
       "\n",
       "\n",
       "\n",
       "\n",
       "  <div class=\"bk-root\" id=\"02708894-c57a-4d04-a763-70cfe3a27671\"></div>\n"
      ]
     },
     "metadata": {},
     "output_type": "display_data"
    },
    {
     "data": {
      "application/javascript": [
       "(function(root) {\n",
       "  function embed_document(root) {\n",
       "    \n",
       "  var docs_json = {\"532da606-40c8-4035-ba87-05a9315b60be\":{\"roots\":{\"references\":[{\"attributes\":{\"source\":{\"id\":\"12cb2a43-5e19-48d8-b6c8-03b3507b064a\",\"type\":\"ColumnDataSource\"}},\"id\":\"832e39bd-d90f-429b-8593-720c2c0c8ec2\",\"type\":\"CDSView\"},{\"attributes\":{\"below\":[{\"id\":\"1190adb5-af32-4910-83e7-3979f1af8a44\",\"type\":\"LinearAxis\"}],\"left\":[{\"id\":\"e3468b74-7865-4952-9dfd-f0900237b440\",\"type\":\"LinearAxis\"}],\"plot_height\":400,\"plot_width\":800,\"renderers\":[{\"id\":\"1190adb5-af32-4910-83e7-3979f1af8a44\",\"type\":\"LinearAxis\"},{\"id\":\"05ac9e40-af49-453e-a605-271792e66d92\",\"type\":\"Grid\"},{\"id\":\"e3468b74-7865-4952-9dfd-f0900237b440\",\"type\":\"LinearAxis\"},{\"id\":\"780ecb7d-0404-47e8-98ca-b94f455da2d8\",\"type\":\"Grid\"},{\"id\":\"046c6a6d-d6c0-4153-b3c2-aff31d5460b3\",\"type\":\"BoxAnnotation\"},{\"id\":\"eaace2c5-2885-46fe-b094-6bad8fb3281a\",\"type\":\"GlyphRenderer\"},{\"id\":\"ba10a1a0-f5f7-4a93-b193-cefe84ace709\",\"type\":\"GlyphRenderer\"}],\"title\":{\"id\":\"b4eb26c5-ba66-4c22-bb49-3b456116682b\",\"type\":\"Title\"},\"toolbar\":{\"id\":\"26d167dd-36ed-4781-91ea-228ea43f8199\",\"type\":\"Toolbar\"},\"x_range\":{\"id\":\"d497070c-7a8e-46f8-b9d4-69ce695b8f37\",\"type\":\"DataRange1d\"},\"x_scale\":{\"id\":\"cb57fa3c-caaa-435b-9914-d236a4b1f331\",\"type\":\"LinearScale\"},\"y_range\":{\"id\":\"ba2633d6-87ee-48c6-bcfb-1ae4b4d8ef4a\",\"type\":\"DataRange1d\"},\"y_scale\":{\"id\":\"653d30d6-25da-4086-8f5f-e6c3ae409127\",\"type\":\"LinearScale\"}},\"id\":\"af2048fa-361a-431c-a104-f7a805a4d9af\",\"subtype\":\"Figure\",\"type\":\"Plot\"},{\"attributes\":{},\"id\":\"503c03fc-f1cd-4276-a57b-608adfffb35e\",\"type\":\"BasicTickFormatter\"},{\"attributes\":{\"fill_color\":{\"value\":\"Blue\"},\"line_color\":{\"value\":\"Blue\"},\"x\":{\"field\":\"x\"},\"y\":{\"field\":\"y\"}},\"id\":\"7f99cf6d-b315-4427-b84e-616473733c88\",\"type\":\"Circle\"},{\"attributes\":{\"plot\":null,\"text\":\"Example Plot\"},\"id\":\"b4eb26c5-ba66-4c22-bb49-3b456116682b\",\"type\":\"Title\"},{\"attributes\":{\"callback\":null},\"id\":\"d497070c-7a8e-46f8-b9d4-69ce695b8f37\",\"type\":\"DataRange1d\"},{\"attributes\":{\"bottom_units\":\"screen\",\"fill_alpha\":{\"value\":0.5},\"fill_color\":{\"value\":\"lightgrey\"},\"left_units\":\"screen\",\"level\":\"overlay\",\"line_alpha\":{\"value\":1.0},\"line_color\":{\"value\":\"black\"},\"line_dash\":[4,4],\"line_width\":{\"value\":2},\"plot\":null,\"render_mode\":\"css\",\"right_units\":\"screen\",\"top_units\":\"screen\"},\"id\":\"046c6a6d-d6c0-4153-b3c2-aff31d5460b3\",\"type\":\"BoxAnnotation\"},{\"attributes\":{\"active_drag\":\"auto\",\"active_inspect\":\"auto\",\"active_multi\":null,\"active_scroll\":\"auto\",\"active_tap\":\"auto\",\"tools\":[{\"id\":\"bfe779b2-a9ec-4bcf-b9bd-35f7c5c27f41\",\"type\":\"PanTool\"},{\"id\":\"da2c4339-1934-44ac-89eb-fcf65607d9e7\",\"type\":\"WheelZoomTool\"},{\"id\":\"4118ea0c-bc35-4a15-a674-8898a24893aa\",\"type\":\"BoxZoomTool\"},{\"id\":\"86992515-39c6-4495-8f5d-a0d043999454\",\"type\":\"SaveTool\"},{\"id\":\"beae4739-bfa5-4206-b72b-cfbbfc6f189e\",\"type\":\"ResetTool\"},{\"id\":\"68e64ade-e979-4175-bfe0-8134689ac7e2\",\"type\":\"HelpTool\"}]},\"id\":\"26d167dd-36ed-4781-91ea-228ea43f8199\",\"type\":\"Toolbar\"},{\"attributes\":{},\"id\":\"da2c4339-1934-44ac-89eb-fcf65607d9e7\",\"type\":\"WheelZoomTool\"},{\"attributes\":{},\"id\":\"cb57fa3c-caaa-435b-9914-d236a4b1f331\",\"type\":\"LinearScale\"},{\"attributes\":{\"callback\":null},\"id\":\"ba2633d6-87ee-48c6-bcfb-1ae4b4d8ef4a\",\"type\":\"DataRange1d\"},{\"attributes\":{},\"id\":\"653d30d6-25da-4086-8f5f-e6c3ae409127\",\"type\":\"LinearScale\"},{\"attributes\":{\"plot\":{\"id\":\"af2048fa-361a-431c-a104-f7a805a4d9af\",\"subtype\":\"Figure\",\"type\":\"Plot\"},\"ticker\":{\"id\":\"059c7670-76ab-4c28-bf2d-0d7850665754\",\"type\":\"BasicTicker\"}},\"id\":\"05ac9e40-af49-453e-a605-271792e66d92\",\"type\":\"Grid\"},{\"attributes\":{\"formatter\":{\"id\":\"503c03fc-f1cd-4276-a57b-608adfffb35e\",\"type\":\"BasicTickFormatter\"},\"plot\":{\"id\":\"af2048fa-361a-431c-a104-f7a805a4d9af\",\"subtype\":\"Figure\",\"type\":\"Plot\"},\"ticker\":{\"id\":\"059c7670-76ab-4c28-bf2d-0d7850665754\",\"type\":\"BasicTicker\"}},\"id\":\"1190adb5-af32-4910-83e7-3979f1af8a44\",\"type\":\"LinearAxis\"},{\"attributes\":{},\"id\":\"059c7670-76ab-4c28-bf2d-0d7850665754\",\"type\":\"BasicTicker\"},{\"attributes\":{\"formatter\":{\"id\":\"bbec0f96-9b90-40eb-851b-916ce32f2bb4\",\"type\":\"BasicTickFormatter\"},\"plot\":{\"id\":\"af2048fa-361a-431c-a104-f7a805a4d9af\",\"subtype\":\"Figure\",\"type\":\"Plot\"},\"ticker\":{\"id\":\"2c39ce3c-59df-4ecf-aa7e-8daee52263e0\",\"type\":\"BasicTicker\"}},\"id\":\"e3468b74-7865-4952-9dfd-f0900237b440\",\"type\":\"LinearAxis\"},{\"attributes\":{},\"id\":\"2c39ce3c-59df-4ecf-aa7e-8daee52263e0\",\"type\":\"BasicTicker\"},{\"attributes\":{},\"id\":\"bfe779b2-a9ec-4bcf-b9bd-35f7c5c27f41\",\"type\":\"PanTool\"},{\"attributes\":{\"fill_alpha\":{\"value\":0.1},\"fill_color\":{\"value\":\"#1f77b4\"},\"line_alpha\":{\"value\":0.1},\"line_color\":{\"value\":\"#1f77b4\"},\"x\":{\"field\":\"x\"},\"y\":{\"field\":\"y\"}},\"id\":\"f01250da-3f9a-484c-9f68-aa4f66a3cf7c\",\"type\":\"Circle\"},{\"attributes\":{\"data_source\":{\"id\":\"12cb2a43-5e19-48d8-b6c8-03b3507b064a\",\"type\":\"ColumnDataSource\"},\"glyph\":{\"id\":\"75f63fce-0024-4e71-bff9-6673e5d2182f\",\"type\":\"Circle\"},\"hover_glyph\":null,\"muted_glyph\":null,\"nonselection_glyph\":{\"id\":\"789e5167-2111-45c8-9956-b16172d1bd2d\",\"type\":\"Circle\"},\"selection_glyph\":null,\"view\":{\"id\":\"832e39bd-d90f-429b-8593-720c2c0c8ec2\",\"type\":\"CDSView\"}},\"id\":\"eaace2c5-2885-46fe-b094-6bad8fb3281a\",\"type\":\"GlyphRenderer\"},{\"attributes\":{\"overlay\":{\"id\":\"046c6a6d-d6c0-4153-b3c2-aff31d5460b3\",\"type\":\"BoxAnnotation\"}},\"id\":\"4118ea0c-bc35-4a15-a674-8898a24893aa\",\"type\":\"BoxZoomTool\"},{\"attributes\":{},\"id\":\"86992515-39c6-4495-8f5d-a0d043999454\",\"type\":\"SaveTool\"},{\"attributes\":{\"callback\":null,\"data\":{\"x\":[1,2,3,4,5],\"y\":[1,4,9,16,25]},\"selected\":{\"id\":\"d0c3aa13-0619-4156-8972-b7d6f1396d32\",\"type\":\"Selection\"},\"selection_policy\":{\"id\":\"1aec9015-e2d4-43c0-aa0b-aa894d4616c6\",\"type\":\"UnionRenderers\"}},\"id\":\"12cb2a43-5e19-48d8-b6c8-03b3507b064a\",\"type\":\"ColumnDataSource\"},{\"attributes\":{},\"id\":\"beae4739-bfa5-4206-b72b-cfbbfc6f189e\",\"type\":\"ResetTool\"},{\"attributes\":{\"dimension\":1,\"plot\":{\"id\":\"af2048fa-361a-431c-a104-f7a805a4d9af\",\"subtype\":\"Figure\",\"type\":\"Plot\"},\"ticker\":{\"id\":\"2c39ce3c-59df-4ecf-aa7e-8daee52263e0\",\"type\":\"BasicTicker\"}},\"id\":\"780ecb7d-0404-47e8-98ca-b94f455da2d8\",\"type\":\"Grid\"},{\"attributes\":{},\"id\":\"68e64ade-e979-4175-bfe0-8134689ac7e2\",\"type\":\"HelpTool\"},{\"attributes\":{\"fill_color\":{\"value\":\"Red\"},\"line_color\":{\"value\":\"Red\"},\"x\":{\"field\":\"x\"},\"y\":{\"field\":\"y\"}},\"id\":\"75f63fce-0024-4e71-bff9-6673e5d2182f\",\"type\":\"Circle\"},{\"attributes\":{\"source\":{\"id\":\"e5cf6dee-8ba3-4b45-939c-07e8f2112043\",\"type\":\"ColumnDataSource\"}},\"id\":\"6d939643-5abb-4451-beba-9f3bc06e5504\",\"type\":\"CDSView\"},{\"attributes\":{\"data_source\":{\"id\":\"e5cf6dee-8ba3-4b45-939c-07e8f2112043\",\"type\":\"ColumnDataSource\"},\"glyph\":{\"id\":\"7f99cf6d-b315-4427-b84e-616473733c88\",\"type\":\"Circle\"},\"hover_glyph\":null,\"muted_glyph\":null,\"nonselection_glyph\":{\"id\":\"f01250da-3f9a-484c-9f68-aa4f66a3cf7c\",\"type\":\"Circle\"},\"selection_glyph\":null,\"view\":{\"id\":\"6d939643-5abb-4451-beba-9f3bc06e5504\",\"type\":\"CDSView\"}},\"id\":\"ba10a1a0-f5f7-4a93-b193-cefe84ace709\",\"type\":\"GlyphRenderer\"},{\"attributes\":{\"fill_alpha\":{\"value\":0.1},\"fill_color\":{\"value\":\"#1f77b4\"},\"line_alpha\":{\"value\":0.1},\"line_color\":{\"value\":\"#1f77b4\"},\"x\":{\"field\":\"x\"},\"y\":{\"field\":\"y\"}},\"id\":\"789e5167-2111-45c8-9956-b16172d1bd2d\",\"type\":\"Circle\"},{\"attributes\":{},\"id\":\"1aec9015-e2d4-43c0-aa0b-aa894d4616c6\",\"type\":\"UnionRenderers\"},{\"attributes\":{},\"id\":\"bbec0f96-9b90-40eb-851b-916ce32f2bb4\",\"type\":\"BasicTickFormatter\"},{\"attributes\":{},\"id\":\"d0c3aa13-0619-4156-8972-b7d6f1396d32\",\"type\":\"Selection\"},{\"attributes\":{\"callback\":null,\"data\":{\"x\":[1,2,3,4,5],\"y\":[1,2,4,8,16]},\"selected\":{\"id\":\"abea80c3-b0b8-4726-b971-190d09de6638\",\"type\":\"Selection\"},\"selection_policy\":{\"id\":\"eb6a4410-0ee3-4a36-a6dc-a879568bfcc0\",\"type\":\"UnionRenderers\"}},\"id\":\"e5cf6dee-8ba3-4b45-939c-07e8f2112043\",\"type\":\"ColumnDataSource\"},{\"attributes\":{},\"id\":\"eb6a4410-0ee3-4a36-a6dc-a879568bfcc0\",\"type\":\"UnionRenderers\"},{\"attributes\":{},\"id\":\"abea80c3-b0b8-4726-b971-190d09de6638\",\"type\":\"Selection\"}],\"root_ids\":[\"af2048fa-361a-431c-a104-f7a805a4d9af\"]},\"title\":\"Bokeh Application\",\"version\":\"0.13.0\"}};\n",
       "  var render_items = [{\"docid\":\"532da606-40c8-4035-ba87-05a9315b60be\",\"roots\":{\"af2048fa-361a-431c-a104-f7a805a4d9af\":\"02708894-c57a-4d04-a763-70cfe3a27671\"}}];\n",
       "  root.Bokeh.embed.embed_items_notebook(docs_json, render_items);\n",
       "\n",
       "  }\n",
       "  if (root.Bokeh !== undefined) {\n",
       "    embed_document(root);\n",
       "  } else {\n",
       "    var attempts = 0;\n",
       "    var timer = setInterval(function(root) {\n",
       "      if (root.Bokeh !== undefined) {\n",
       "        embed_document(root);\n",
       "        clearInterval(timer);\n",
       "      }\n",
       "      attempts++;\n",
       "      if (attempts > 100) {\n",
       "        console.log(\"Bokeh: ERROR: Unable to run BokehJS code because BokehJS library is missing\")\n",
       "        clearInterval(timer);\n",
       "      }\n",
       "    }, 10, root)\n",
       "  }\n",
       "})(window);"
      ],
      "application/vnd.bokehjs_exec.v0+json": ""
     },
     "metadata": {
      "application/vnd.bokehjs_exec.v0+json": {
       "id": "af2048fa-361a-431c-a104-f7a805a4d9af"
      }
     },
     "output_type": "display_data"
    }
   ],
   "source": [
    "#We can give color as a parameter\n",
    "fig = figure(plot_width=800, plot_height=400, title=\"Example Plot\")\n",
    "circles1 = fig.circle(source[\"x\"],source[\"y1\"],color=\"Red\")\n",
    "circles2 = fig.circle(source[\"x\"],source[\"y2\"],color=\"Blue\")\n",
    "show(fig)"
   ]
  },
  {
   "cell_type": "code",
   "execution_count": 10,
   "metadata": {},
   "outputs": [
    {
     "data": {
      "text/html": [
       "\n",
       "\n",
       "\n",
       "\n",
       "\n",
       "\n",
       "  <div class=\"bk-root\" id=\"306df69d-4a82-4aea-8e31-96d99dfa076e\"></div>\n"
      ]
     },
     "metadata": {},
     "output_type": "display_data"
    },
    {
     "data": {
      "application/javascript": [
       "(function(root) {\n",
       "  function embed_document(root) {\n",
       "    \n",
       "  var docs_json = {\"25c95017-592e-4494-a15f-85e3b842774c\":{\"roots\":{\"references\":[{\"attributes\":{},\"id\":\"7bfa815a-9cd8-48dd-a257-3b5b42172872\",\"type\":\"BasicTickFormatter\"},{\"attributes\":{\"fill_alpha\":{\"value\":0.1},\"fill_color\":{\"value\":\"#1f77b4\"},\"line_alpha\":{\"value\":0.1},\"line_color\":{\"value\":\"#1f77b4\"},\"x\":{\"field\":\"x\"},\"y\":{\"field\":\"y\"}},\"id\":\"65bbe279-3ff9-4dc3-bc32-4091d5d14bc5\",\"type\":\"Circle\"},{\"attributes\":{\"callback\":null,\"data\":{\"x\":[1,2,3,4,5],\"y\":[1,4,9,16,25]},\"selected\":{\"id\":\"fd2be515-5f65-4a5a-a81f-bcd051a69850\",\"type\":\"Selection\"},\"selection_policy\":{\"id\":\"dd377303-5be8-4770-aab1-8d20eae42b06\",\"type\":\"UnionRenderers\"}},\"id\":\"eaaa6d27-8441-420f-ab33-11c7b73d3094\",\"type\":\"ColumnDataSource\"},{\"attributes\":{\"below\":[{\"id\":\"c785c481-4353-4da4-b6ae-7414c81e73a9\",\"type\":\"LinearAxis\"}],\"left\":[{\"id\":\"50c322e4-5c0e-4f7f-89e9-dda0937faa77\",\"type\":\"LinearAxis\"}],\"plot_height\":400,\"plot_width\":800,\"renderers\":[{\"id\":\"c785c481-4353-4da4-b6ae-7414c81e73a9\",\"type\":\"LinearAxis\"},{\"id\":\"03044da6-8d1c-4ef5-9c75-1d75b6ae4b11\",\"type\":\"Grid\"},{\"id\":\"50c322e4-5c0e-4f7f-89e9-dda0937faa77\",\"type\":\"LinearAxis\"},{\"id\":\"b1e527e7-9ffb-4e97-bb6b-f6cc263d53b2\",\"type\":\"Grid\"},{\"id\":\"d5b17434-88bf-40fd-b89e-8c7315be8453\",\"type\":\"BoxAnnotation\"},{\"id\":\"3e8f265d-db57-4cdb-a024-e1338eb0a200\",\"type\":\"Legend\"},{\"id\":\"344445fb-9ade-4c95-b2dd-caca83347eeb\",\"type\":\"GlyphRenderer\"},{\"id\":\"7810abff-dee1-4dc7-afc5-d66ecdb1d9af\",\"type\":\"GlyphRenderer\"}],\"title\":{\"id\":\"765c2d5f-99f3-40b7-a72d-95ade46d3cdb\",\"type\":\"Title\"},\"toolbar\":{\"id\":\"fc546d6e-7915-4f52-8425-866dc958e5c7\",\"type\":\"Toolbar\"},\"x_range\":{\"id\":\"dc11916b-0ebc-4417-8f21-6ba2f72dcd88\",\"type\":\"DataRange1d\"},\"x_scale\":{\"id\":\"77cb13f1-942e-477c-9873-3eb567938f8a\",\"type\":\"LinearScale\"},\"y_range\":{\"id\":\"949be042-5f40-48ec-8665-4528c06b0059\",\"type\":\"DataRange1d\"},\"y_scale\":{\"id\":\"ca8dc3f2-0665-425d-b54a-87b099df2c44\",\"type\":\"LinearScale\"}},\"id\":\"8e676874-4058-4a88-b728-b342916ae47c\",\"subtype\":\"Figure\",\"type\":\"Plot\"},{\"attributes\":{\"data_source\":{\"id\":\"072a94af-0d28-4fc8-8675-4e1e5a7d47c3\",\"type\":\"ColumnDataSource\"},\"glyph\":{\"id\":\"f0b45721-2b3e-463e-a12b-d5d688f8335d\",\"type\":\"Circle\"},\"hover_glyph\":null,\"muted_glyph\":null,\"nonselection_glyph\":{\"id\":\"65bbe279-3ff9-4dc3-bc32-4091d5d14bc5\",\"type\":\"Circle\"},\"selection_glyph\":null,\"view\":{\"id\":\"63990fd3-8b1c-4f6c-a6e2-f2fba36bb778\",\"type\":\"CDSView\"}},\"id\":\"7810abff-dee1-4dc7-afc5-d66ecdb1d9af\",\"type\":\"GlyphRenderer\"},{\"attributes\":{\"source\":{\"id\":\"072a94af-0d28-4fc8-8675-4e1e5a7d47c3\",\"type\":\"ColumnDataSource\"}},\"id\":\"63990fd3-8b1c-4f6c-a6e2-f2fba36bb778\",\"type\":\"CDSView\"},{\"attributes\":{\"fill_color\":{\"value\":\"Blue\"},\"line_color\":{\"value\":\"Blue\"},\"x\":{\"field\":\"x\"},\"y\":{\"field\":\"y\"}},\"id\":\"f0b45721-2b3e-463e-a12b-d5d688f8335d\",\"type\":\"Circle\"},{\"attributes\":{\"callback\":null,\"data\":{\"x\":[1,2,3,4,5],\"y\":[1,2,4,8,16]},\"selected\":{\"id\":\"dc88ac11-2939-4f40-ae99-e20f9edeaba0\",\"type\":\"Selection\"},\"selection_policy\":{\"id\":\"d62d1bc9-3f56-445c-b1c4-6f4e6b32d92e\",\"type\":\"UnionRenderers\"}},\"id\":\"072a94af-0d28-4fc8-8675-4e1e5a7d47c3\",\"type\":\"ColumnDataSource\"},{\"attributes\":{},\"id\":\"dd377303-5be8-4770-aab1-8d20eae42b06\",\"type\":\"UnionRenderers\"},{\"attributes\":{\"formatter\":{\"id\":\"70afd659-14a4-48f8-88a7-aa90e11795e8\",\"type\":\"BasicTickFormatter\"},\"plot\":{\"id\":\"8e676874-4058-4a88-b728-b342916ae47c\",\"subtype\":\"Figure\",\"type\":\"Plot\"},\"ticker\":{\"id\":\"bd4738cc-82ec-4721-b2fc-25861b7c4311\",\"type\":\"BasicTicker\"}},\"id\":\"c785c481-4353-4da4-b6ae-7414c81e73a9\",\"type\":\"LinearAxis\"},{\"attributes\":{},\"id\":\"fd2be515-5f65-4a5a-a81f-bcd051a69850\",\"type\":\"Selection\"},{\"attributes\":{\"label\":{\"value\":\"2^x\"},\"renderers\":[{\"id\":\"7810abff-dee1-4dc7-afc5-d66ecdb1d9af\",\"type\":\"GlyphRenderer\"}]},\"id\":\"c1f4b0e2-ed92-4cae-b2f1-30afa08baa8e\",\"type\":\"LegendItem\"},{\"attributes\":{\"fill_color\":{\"value\":\"Red\"},\"line_color\":{\"value\":\"Red\"},\"x\":{\"field\":\"x\"},\"y\":{\"field\":\"y\"}},\"id\":\"1ac6fd7d-5549-4ebe-b14f-4a389c11bfeb\",\"type\":\"Circle\"},{\"attributes\":{\"active_drag\":\"auto\",\"active_inspect\":\"auto\",\"active_multi\":null,\"active_scroll\":\"auto\",\"active_tap\":\"auto\",\"tools\":[{\"id\":\"a39a3e3e-6a55-40b9-ac67-69c83b3a50ed\",\"type\":\"PanTool\"},{\"id\":\"369a341b-2146-4df2-b1fd-7c04371af1f5\",\"type\":\"WheelZoomTool\"},{\"id\":\"94fe481f-653d-4f60-8819-c5e6315ecf15\",\"type\":\"BoxZoomTool\"},{\"id\":\"c47b4fb9-b869-4b9a-9831-82d1dd8be800\",\"type\":\"SaveTool\"},{\"id\":\"d724eff8-bee6-4343-a61b-0aa9e06617db\",\"type\":\"ResetTool\"},{\"id\":\"7dcae464-5593-4579-baec-d902f9998b07\",\"type\":\"HelpTool\"}]},\"id\":\"fc546d6e-7915-4f52-8425-866dc958e5c7\",\"type\":\"Toolbar\"},{\"attributes\":{},\"id\":\"d62d1bc9-3f56-445c-b1c4-6f4e6b32d92e\",\"type\":\"UnionRenderers\"},{\"attributes\":{\"plot\":null,\"text\":\"Example Plot\"},\"id\":\"765c2d5f-99f3-40b7-a72d-95ade46d3cdb\",\"type\":\"Title\"},{\"attributes\":{},\"id\":\"dc88ac11-2939-4f40-ae99-e20f9edeaba0\",\"type\":\"Selection\"},{\"attributes\":{\"bottom_units\":\"screen\",\"fill_alpha\":{\"value\":0.5},\"fill_color\":{\"value\":\"lightgrey\"},\"left_units\":\"screen\",\"level\":\"overlay\",\"line_alpha\":{\"value\":1.0},\"line_color\":{\"value\":\"black\"},\"line_dash\":[4,4],\"line_width\":{\"value\":2},\"plot\":null,\"render_mode\":\"css\",\"right_units\":\"screen\",\"top_units\":\"screen\"},\"id\":\"d5b17434-88bf-40fd-b89e-8c7315be8453\",\"type\":\"BoxAnnotation\"},{\"attributes\":{},\"id\":\"a39a3e3e-6a55-40b9-ac67-69c83b3a50ed\",\"type\":\"PanTool\"},{\"attributes\":{},\"id\":\"a88b0111-1721-4a26-8b27-52421b87ce74\",\"type\":\"BasicTicker\"},{\"attributes\":{\"items\":[{\"id\":\"f0c27ce3-abf6-45a7-994d-c06a32e7fddc\",\"type\":\"LegendItem\"},{\"id\":\"c1f4b0e2-ed92-4cae-b2f1-30afa08baa8e\",\"type\":\"LegendItem\"}],\"plot\":{\"id\":\"8e676874-4058-4a88-b728-b342916ae47c\",\"subtype\":\"Figure\",\"type\":\"Plot\"}},\"id\":\"3e8f265d-db57-4cdb-a024-e1338eb0a200\",\"type\":\"Legend\"},{\"attributes\":{\"source\":{\"id\":\"eaaa6d27-8441-420f-ab33-11c7b73d3094\",\"type\":\"ColumnDataSource\"}},\"id\":\"42439be0-38d3-4a87-8f75-637bfcc884b2\",\"type\":\"CDSView\"},{\"attributes\":{\"formatter\":{\"id\":\"7bfa815a-9cd8-48dd-a257-3b5b42172872\",\"type\":\"BasicTickFormatter\"},\"plot\":{\"id\":\"8e676874-4058-4a88-b728-b342916ae47c\",\"subtype\":\"Figure\",\"type\":\"Plot\"},\"ticker\":{\"id\":\"a88b0111-1721-4a26-8b27-52421b87ce74\",\"type\":\"BasicTicker\"}},\"id\":\"50c322e4-5c0e-4f7f-89e9-dda0937faa77\",\"type\":\"LinearAxis\"},{\"attributes\":{},\"id\":\"7dcae464-5593-4579-baec-d902f9998b07\",\"type\":\"HelpTool\"},{\"attributes\":{\"plot\":{\"id\":\"8e676874-4058-4a88-b728-b342916ae47c\",\"subtype\":\"Figure\",\"type\":\"Plot\"},\"ticker\":{\"id\":\"bd4738cc-82ec-4721-b2fc-25861b7c4311\",\"type\":\"BasicTicker\"}},\"id\":\"03044da6-8d1c-4ef5-9c75-1d75b6ae4b11\",\"type\":\"Grid\"},{\"attributes\":{},\"id\":\"d724eff8-bee6-4343-a61b-0aa9e06617db\",\"type\":\"ResetTool\"},{\"attributes\":{\"dimension\":1,\"plot\":{\"id\":\"8e676874-4058-4a88-b728-b342916ae47c\",\"subtype\":\"Figure\",\"type\":\"Plot\"},\"ticker\":{\"id\":\"a88b0111-1721-4a26-8b27-52421b87ce74\",\"type\":\"BasicTicker\"}},\"id\":\"b1e527e7-9ffb-4e97-bb6b-f6cc263d53b2\",\"type\":\"Grid\"},{\"attributes\":{\"label\":{\"value\":\"x^2\"},\"renderers\":[{\"id\":\"344445fb-9ade-4c95-b2dd-caca83347eeb\",\"type\":\"GlyphRenderer\"}]},\"id\":\"f0c27ce3-abf6-45a7-994d-c06a32e7fddc\",\"type\":\"LegendItem\"},{\"attributes\":{},\"id\":\"bd4738cc-82ec-4721-b2fc-25861b7c4311\",\"type\":\"BasicTicker\"},{\"attributes\":{\"fill_alpha\":{\"value\":0.1},\"fill_color\":{\"value\":\"#1f77b4\"},\"line_alpha\":{\"value\":0.1},\"line_color\":{\"value\":\"#1f77b4\"},\"x\":{\"field\":\"x\"},\"y\":{\"field\":\"y\"}},\"id\":\"4708a5b5-02c9-4d44-be0a-45d6d01ef438\",\"type\":\"Circle\"},{\"attributes\":{\"data_source\":{\"id\":\"eaaa6d27-8441-420f-ab33-11c7b73d3094\",\"type\":\"ColumnDataSource\"},\"glyph\":{\"id\":\"1ac6fd7d-5549-4ebe-b14f-4a389c11bfeb\",\"type\":\"Circle\"},\"hover_glyph\":null,\"muted_glyph\":null,\"nonselection_glyph\":{\"id\":\"4708a5b5-02c9-4d44-be0a-45d6d01ef438\",\"type\":\"Circle\"},\"selection_glyph\":null,\"view\":{\"id\":\"42439be0-38d3-4a87-8f75-637bfcc884b2\",\"type\":\"CDSView\"}},\"id\":\"344445fb-9ade-4c95-b2dd-caca83347eeb\",\"type\":\"GlyphRenderer\"},{\"attributes\":{},\"id\":\"369a341b-2146-4df2-b1fd-7c04371af1f5\",\"type\":\"WheelZoomTool\"},{\"attributes\":{},\"id\":\"77cb13f1-942e-477c-9873-3eb567938f8a\",\"type\":\"LinearScale\"},{\"attributes\":{},\"id\":\"c47b4fb9-b869-4b9a-9831-82d1dd8be800\",\"type\":\"SaveTool\"},{\"attributes\":{\"callback\":null},\"id\":\"dc11916b-0ebc-4417-8f21-6ba2f72dcd88\",\"type\":\"DataRange1d\"},{\"attributes\":{\"overlay\":{\"id\":\"d5b17434-88bf-40fd-b89e-8c7315be8453\",\"type\":\"BoxAnnotation\"}},\"id\":\"94fe481f-653d-4f60-8819-c5e6315ecf15\",\"type\":\"BoxZoomTool\"},{\"attributes\":{\"callback\":null},\"id\":\"949be042-5f40-48ec-8665-4528c06b0059\",\"type\":\"DataRange1d\"},{\"attributes\":{},\"id\":\"ca8dc3f2-0665-425d-b54a-87b099df2c44\",\"type\":\"LinearScale\"},{\"attributes\":{},\"id\":\"70afd659-14a4-48f8-88a7-aa90e11795e8\",\"type\":\"BasicTickFormatter\"}],\"root_ids\":[\"8e676874-4058-4a88-b728-b342916ae47c\"]},\"title\":\"Bokeh Application\",\"version\":\"0.13.0\"}};\n",
       "  var render_items = [{\"docid\":\"25c95017-592e-4494-a15f-85e3b842774c\",\"roots\":{\"8e676874-4058-4a88-b728-b342916ae47c\":\"306df69d-4a82-4aea-8e31-96d99dfa076e\"}}];\n",
       "  root.Bokeh.embed.embed_items_notebook(docs_json, render_items);\n",
       "\n",
       "  }\n",
       "  if (root.Bokeh !== undefined) {\n",
       "    embed_document(root);\n",
       "  } else {\n",
       "    var attempts = 0;\n",
       "    var timer = setInterval(function(root) {\n",
       "      if (root.Bokeh !== undefined) {\n",
       "        embed_document(root);\n",
       "        clearInterval(timer);\n",
       "      }\n",
       "      attempts++;\n",
       "      if (attempts > 100) {\n",
       "        console.log(\"Bokeh: ERROR: Unable to run BokehJS code because BokehJS library is missing\")\n",
       "        clearInterval(timer);\n",
       "      }\n",
       "    }, 10, root)\n",
       "  }\n",
       "})(window);"
      ],
      "application/vnd.bokehjs_exec.v0+json": ""
     },
     "metadata": {
      "application/vnd.bokehjs_exec.v0+json": {
       "id": "8e676874-4058-4a88-b728-b342916ae47c"
      }
     },
     "output_type": "display_data"
    }
   ],
   "source": [
    "#As well, the argument legend allows you to add legend handlers to your plots\n",
    "fig = figure(plot_width=800, plot_height=400, title=\"Example Plot\")\n",
    "circles1 = fig.circle(source[\"x\"],source[\"y1\"],color=\"Red\",legend=\"x^2\")\n",
    "circles2 = fig.circle(source[\"x\"],source[\"y2\"],color=\"Blue\",legend=\"2^x\")\n",
    "show(fig)"
   ]
  },
  {
   "cell_type": "code",
   "execution_count": 11,
   "metadata": {},
   "outputs": [
    {
     "data": {
      "text/html": [
       "\n",
       "\n",
       "\n",
       "\n",
       "\n",
       "\n",
       "  <div class=\"bk-root\" id=\"2837255a-5af2-4ac3-970c-1638706305af\"></div>\n"
      ]
     },
     "metadata": {},
     "output_type": "display_data"
    },
    {
     "data": {
      "application/javascript": [
       "(function(root) {\n",
       "  function embed_document(root) {\n",
       "    \n",
       "  var docs_json = {\"632f3b09-1a4d-46ce-9084-290a700d42b1\":{\"roots\":{\"references\":[{\"attributes\":{},\"id\":\"c4913d5f-437d-4b35-b8c5-e9cce49d8f43\",\"type\":\"LinearScale\"},{\"attributes\":{\"data_source\":{\"id\":\"7a331c8a-b3f7-4f61-ae6a-9577416a2d0a\",\"type\":\"ColumnDataSource\"},\"glyph\":{\"id\":\"2ed917d9-24ce-4078-bea0-6c9e7d4c6d09\",\"type\":\"Circle\"},\"hover_glyph\":null,\"muted_glyph\":null,\"nonselection_glyph\":{\"id\":\"b320bb5f-f938-4d55-ba52-5fed5431be31\",\"type\":\"Circle\"},\"selection_glyph\":null,\"view\":{\"id\":\"4494d5c8-3228-4b00-8b7c-9d4b0aaaf2c3\",\"type\":\"CDSView\"}},\"id\":\"a6a71937-8bf7-4564-b3ac-efb4658be680\",\"type\":\"GlyphRenderer\"},{\"attributes\":{},\"id\":\"7cb17b08-4542-41c5-a92b-0f8cddf97cda\",\"type\":\"BasicTicker\"},{\"attributes\":{\"source\":{\"id\":\"7a331c8a-b3f7-4f61-ae6a-9577416a2d0a\",\"type\":\"ColumnDataSource\"}},\"id\":\"4494d5c8-3228-4b00-8b7c-9d4b0aaaf2c3\",\"type\":\"CDSView\"},{\"attributes\":{\"formatter\":{\"id\":\"20f64458-ee06-4f60-9927-740f1c1b1ba9\",\"type\":\"BasicTickFormatter\"},\"plot\":{\"id\":\"1b39e4e5-4384-4c88-9118-1787a537d95b\",\"subtype\":\"Figure\",\"type\":\"Plot\"},\"ticker\":{\"id\":\"23a85f78-201e-4636-b0b6-8b6b37ddcfb1\",\"type\":\"BasicTicker\"}},\"id\":\"027808a1-f80f-4ba0-b6a2-065ec0b008fa\",\"type\":\"LinearAxis\"},{\"attributes\":{},\"id\":\"23a85f78-201e-4636-b0b6-8b6b37ddcfb1\",\"type\":\"BasicTicker\"},{\"attributes\":{},\"id\":\"20f64458-ee06-4f60-9927-740f1c1b1ba9\",\"type\":\"BasicTickFormatter\"},{\"attributes\":{},\"id\":\"2bdba886-af6b-48d2-ac0a-49474d8caab4\",\"type\":\"ResetTool\"},{\"attributes\":{\"label\":{\"value\":\"2^x\"},\"renderers\":[{\"id\":\"87860cc1-4ea9-4e1a-b0f8-f909ae08e0ba\",\"type\":\"GlyphRenderer\"}]},\"id\":\"59388ede-c7eb-4aa8-aee1-c1a7955008e4\",\"type\":\"LegendItem\"},{\"attributes\":{},\"id\":\"29a6f51e-d85c-4ce2-8314-2883ade42a65\",\"type\":\"BasicTickFormatter\"},{\"attributes\":{\"formatter\":{\"id\":\"29a6f51e-d85c-4ce2-8314-2883ade42a65\",\"type\":\"BasicTickFormatter\"},\"plot\":{\"id\":\"1b39e4e5-4384-4c88-9118-1787a537d95b\",\"subtype\":\"Figure\",\"type\":\"Plot\"},\"ticker\":{\"id\":\"7cb17b08-4542-41c5-a92b-0f8cddf97cda\",\"type\":\"BasicTicker\"}},\"id\":\"de659e61-059d-426e-83cb-a78a7cb9f5aa\",\"type\":\"LinearAxis\"},{\"attributes\":{},\"id\":\"ee6efb9c-5612-4fd0-b8f3-0d6e17b1a078\",\"type\":\"PanTool\"},{\"attributes\":{},\"id\":\"4e2f8065-8c35-476d-b0e5-36b379153fc4\",\"type\":\"SaveTool\"},{\"attributes\":{},\"id\":\"1bd702a5-d61e-41ab-8f11-c9afdd9cf7c2\",\"type\":\"WheelZoomTool\"},{\"attributes\":{\"items\":[{\"id\":\"2b5c16c3-fd15-4fa3-a185-d74b5eb8d018\",\"type\":\"LegendItem\"},{\"id\":\"59388ede-c7eb-4aa8-aee1-c1a7955008e4\",\"type\":\"LegendItem\"}],\"location\":\"center_left\",\"plot\":{\"id\":\"1b39e4e5-4384-4c88-9118-1787a537d95b\",\"subtype\":\"Figure\",\"type\":\"Plot\"}},\"id\":\"f00a9f2b-8aa0-4415-b6df-f48a8369ec59\",\"type\":\"Legend\"},{\"attributes\":{},\"id\":\"831aa9e5-394b-48d3-8005-bda15f1ba748\",\"type\":\"UnionRenderers\"},{\"attributes\":{\"overlay\":{\"id\":\"d198b534-f4c1-4011-9df0-d5d365da2fcf\",\"type\":\"BoxAnnotation\"}},\"id\":\"99fba3ec-71ff-4aa5-9e0c-8ffe5fff89eb\",\"type\":\"BoxZoomTool\"},{\"attributes\":{\"dimension\":1,\"plot\":{\"id\":\"1b39e4e5-4384-4c88-9118-1787a537d95b\",\"subtype\":\"Figure\",\"type\":\"Plot\"},\"ticker\":{\"id\":\"7cb17b08-4542-41c5-a92b-0f8cddf97cda\",\"type\":\"BasicTicker\"}},\"id\":\"4fd4764b-8ccb-4a47-b235-74e3dbb8af33\",\"type\":\"Grid\"},{\"attributes\":{\"data_source\":{\"id\":\"6a3acd33-a27e-47d4-a2af-358135f7c1d9\",\"type\":\"ColumnDataSource\"},\"glyph\":{\"id\":\"d9763526-4c4e-4b94-a11f-acab3c83cbe9\",\"type\":\"Circle\"},\"hover_glyph\":null,\"muted_glyph\":null,\"nonselection_glyph\":{\"id\":\"537d9053-0e79-4e07-bb0d-bea1040fe307\",\"type\":\"Circle\"},\"selection_glyph\":null,\"view\":{\"id\":\"cf9cf562-bcf9-4cc9-92fd-0306aa9b989d\",\"type\":\"CDSView\"}},\"id\":\"87860cc1-4ea9-4e1a-b0f8-f909ae08e0ba\",\"type\":\"GlyphRenderer\"},{\"attributes\":{\"callback\":null},\"id\":\"e7b6b297-c337-4c2a-b365-ab7dc12bdbbe\",\"type\":\"DataRange1d\"},{\"attributes\":{\"fill_color\":{\"value\":\"Red\"},\"line_color\":{\"value\":\"Red\"},\"x\":{\"field\":\"x\"},\"y\":{\"field\":\"y\"}},\"id\":\"2ed917d9-24ce-4078-bea0-6c9e7d4c6d09\",\"type\":\"Circle\"},{\"attributes\":{\"source\":{\"id\":\"6a3acd33-a27e-47d4-a2af-358135f7c1d9\",\"type\":\"ColumnDataSource\"}},\"id\":\"cf9cf562-bcf9-4cc9-92fd-0306aa9b989d\",\"type\":\"CDSView\"},{\"attributes\":{},\"id\":\"07559a04-e0bd-4616-b886-277270b4d531\",\"type\":\"Selection\"},{\"attributes\":{\"label\":{\"value\":\"x^2\"},\"renderers\":[{\"id\":\"a6a71937-8bf7-4564-b3ac-efb4658be680\",\"type\":\"GlyphRenderer\"}]},\"id\":\"2b5c16c3-fd15-4fa3-a185-d74b5eb8d018\",\"type\":\"LegendItem\"},{\"attributes\":{\"fill_alpha\":{\"value\":0.1},\"fill_color\":{\"value\":\"#1f77b4\"},\"line_alpha\":{\"value\":0.1},\"line_color\":{\"value\":\"#1f77b4\"},\"x\":{\"field\":\"x\"},\"y\":{\"field\":\"y\"}},\"id\":\"537d9053-0e79-4e07-bb0d-bea1040fe307\",\"type\":\"Circle\"},{\"attributes\":{\"fill_color\":{\"value\":\"Blue\"},\"line_color\":{\"value\":\"Blue\"},\"x\":{\"field\":\"x\"},\"y\":{\"field\":\"y\"}},\"id\":\"d9763526-4c4e-4b94-a11f-acab3c83cbe9\",\"type\":\"Circle\"},{\"attributes\":{},\"id\":\"c404a35e-37db-4014-a18c-405fb179af72\",\"type\":\"UnionRenderers\"},{\"attributes\":{\"below\":[{\"id\":\"027808a1-f80f-4ba0-b6a2-065ec0b008fa\",\"type\":\"LinearAxis\"}],\"left\":[{\"id\":\"de659e61-059d-426e-83cb-a78a7cb9f5aa\",\"type\":\"LinearAxis\"}],\"plot_height\":400,\"plot_width\":800,\"renderers\":[{\"id\":\"027808a1-f80f-4ba0-b6a2-065ec0b008fa\",\"type\":\"LinearAxis\"},{\"id\":\"3a148fe2-f8b2-4fdb-a1f6-dfd21366dfca\",\"type\":\"Grid\"},{\"id\":\"de659e61-059d-426e-83cb-a78a7cb9f5aa\",\"type\":\"LinearAxis\"},{\"id\":\"4fd4764b-8ccb-4a47-b235-74e3dbb8af33\",\"type\":\"Grid\"},{\"id\":\"d198b534-f4c1-4011-9df0-d5d365da2fcf\",\"type\":\"BoxAnnotation\"},{\"id\":\"f00a9f2b-8aa0-4415-b6df-f48a8369ec59\",\"type\":\"Legend\"},{\"id\":\"a6a71937-8bf7-4564-b3ac-efb4658be680\",\"type\":\"GlyphRenderer\"},{\"id\":\"87860cc1-4ea9-4e1a-b0f8-f909ae08e0ba\",\"type\":\"GlyphRenderer\"}],\"title\":{\"id\":\"3c6ee448-ca99-4819-a4f9-1d8bb3a4dd1e\",\"type\":\"Title\"},\"toolbar\":{\"id\":\"24e30e4f-1b63-4aa7-9c82-d3ca44f57748\",\"type\":\"Toolbar\"},\"x_range\":{\"id\":\"7122efb0-1527-4282-a323-e89c7bf16488\",\"type\":\"DataRange1d\"},\"x_scale\":{\"id\":\"5e66ba84-dbb9-4374-ae85-e36e80301a97\",\"type\":\"LinearScale\"},\"y_range\":{\"id\":\"e7b6b297-c337-4c2a-b365-ab7dc12bdbbe\",\"type\":\"DataRange1d\"},\"y_scale\":{\"id\":\"c4913d5f-437d-4b35-b8c5-e9cce49d8f43\",\"type\":\"LinearScale\"}},\"id\":\"1b39e4e5-4384-4c88-9118-1787a537d95b\",\"subtype\":\"Figure\",\"type\":\"Plot\"},{\"attributes\":{\"bottom_units\":\"screen\",\"fill_alpha\":{\"value\":0.5},\"fill_color\":{\"value\":\"lightgrey\"},\"left_units\":\"screen\",\"level\":\"overlay\",\"line_alpha\":{\"value\":1.0},\"line_color\":{\"value\":\"black\"},\"line_dash\":[4,4],\"line_width\":{\"value\":2},\"plot\":null,\"render_mode\":\"css\",\"right_units\":\"screen\",\"top_units\":\"screen\"},\"id\":\"d198b534-f4c1-4011-9df0-d5d365da2fcf\",\"type\":\"BoxAnnotation\"},{\"attributes\":{},\"id\":\"db605d11-c428-42b0-8f97-d9b8c440d900\",\"type\":\"Selection\"},{\"attributes\":{\"fill_alpha\":{\"value\":0.1},\"fill_color\":{\"value\":\"#1f77b4\"},\"line_alpha\":{\"value\":0.1},\"line_color\":{\"value\":\"#1f77b4\"},\"x\":{\"field\":\"x\"},\"y\":{\"field\":\"y\"}},\"id\":\"b320bb5f-f938-4d55-ba52-5fed5431be31\",\"type\":\"Circle\"},{\"attributes\":{},\"id\":\"fc22b627-2ed8-47c5-b26b-cc669d6fb7e8\",\"type\":\"HelpTool\"},{\"attributes\":{\"active_drag\":\"auto\",\"active_inspect\":\"auto\",\"active_multi\":null,\"active_scroll\":\"auto\",\"active_tap\":\"auto\",\"tools\":[{\"id\":\"ee6efb9c-5612-4fd0-b8f3-0d6e17b1a078\",\"type\":\"PanTool\"},{\"id\":\"1bd702a5-d61e-41ab-8f11-c9afdd9cf7c2\",\"type\":\"WheelZoomTool\"},{\"id\":\"99fba3ec-71ff-4aa5-9e0c-8ffe5fff89eb\",\"type\":\"BoxZoomTool\"},{\"id\":\"4e2f8065-8c35-476d-b0e5-36b379153fc4\",\"type\":\"SaveTool\"},{\"id\":\"2bdba886-af6b-48d2-ac0a-49474d8caab4\",\"type\":\"ResetTool\"},{\"id\":\"fc22b627-2ed8-47c5-b26b-cc669d6fb7e8\",\"type\":\"HelpTool\"}]},\"id\":\"24e30e4f-1b63-4aa7-9c82-d3ca44f57748\",\"type\":\"Toolbar\"},{\"attributes\":{\"callback\":null},\"id\":\"7122efb0-1527-4282-a323-e89c7bf16488\",\"type\":\"DataRange1d\"},{\"attributes\":{},\"id\":\"5e66ba84-dbb9-4374-ae85-e36e80301a97\",\"type\":\"LinearScale\"},{\"attributes\":{\"plot\":{\"id\":\"1b39e4e5-4384-4c88-9118-1787a537d95b\",\"subtype\":\"Figure\",\"type\":\"Plot\"},\"ticker\":{\"id\":\"23a85f78-201e-4636-b0b6-8b6b37ddcfb1\",\"type\":\"BasicTicker\"}},\"id\":\"3a148fe2-f8b2-4fdb-a1f6-dfd21366dfca\",\"type\":\"Grid\"},{\"attributes\":{\"plot\":null,\"text\":\"Example Plot\"},\"id\":\"3c6ee448-ca99-4819-a4f9-1d8bb3a4dd1e\",\"type\":\"Title\"},{\"attributes\":{\"callback\":null,\"data\":{\"x\":[1,2,3,4,5],\"y\":[1,2,4,8,16]},\"selected\":{\"id\":\"db605d11-c428-42b0-8f97-d9b8c440d900\",\"type\":\"Selection\"},\"selection_policy\":{\"id\":\"c404a35e-37db-4014-a18c-405fb179af72\",\"type\":\"UnionRenderers\"}},\"id\":\"6a3acd33-a27e-47d4-a2af-358135f7c1d9\",\"type\":\"ColumnDataSource\"},{\"attributes\":{\"callback\":null,\"data\":{\"x\":[1,2,3,4,5],\"y\":[1,4,9,16,25]},\"selected\":{\"id\":\"07559a04-e0bd-4616-b886-277270b4d531\",\"type\":\"Selection\"},\"selection_policy\":{\"id\":\"831aa9e5-394b-48d3-8005-bda15f1ba748\",\"type\":\"UnionRenderers\"}},\"id\":\"7a331c8a-b3f7-4f61-ae6a-9577416a2d0a\",\"type\":\"ColumnDataSource\"}],\"root_ids\":[\"1b39e4e5-4384-4c88-9118-1787a537d95b\"]},\"title\":\"Bokeh Application\",\"version\":\"0.13.0\"}};\n",
       "  var render_items = [{\"docid\":\"632f3b09-1a4d-46ce-9084-290a700d42b1\",\"roots\":{\"1b39e4e5-4384-4c88-9118-1787a537d95b\":\"2837255a-5af2-4ac3-970c-1638706305af\"}}];\n",
       "  root.Bokeh.embed.embed_items_notebook(docs_json, render_items);\n",
       "\n",
       "  }\n",
       "  if (root.Bokeh !== undefined) {\n",
       "    embed_document(root);\n",
       "  } else {\n",
       "    var attempts = 0;\n",
       "    var timer = setInterval(function(root) {\n",
       "      if (root.Bokeh !== undefined) {\n",
       "        embed_document(root);\n",
       "        clearInterval(timer);\n",
       "      }\n",
       "      attempts++;\n",
       "      if (attempts > 100) {\n",
       "        console.log(\"Bokeh: ERROR: Unable to run BokehJS code because BokehJS library is missing\")\n",
       "        clearInterval(timer);\n",
       "      }\n",
       "    }, 10, root)\n",
       "  }\n",
       "})(window);"
      ],
      "application/vnd.bokehjs_exec.v0+json": ""
     },
     "metadata": {
      "application/vnd.bokehjs_exec.v0+json": {
       "id": "1b39e4e5-4384-4c88-9118-1787a537d95b"
      }
     },
     "output_type": "display_data"
    }
   ],
   "source": [
    "#We can access the legend as an attribute of figure, and change its location\n",
    "fig = figure(plot_width=800, plot_height=400, title=\"Example Plot\")\n",
    "circles1 = fig.circle(source[\"x\"],source[\"y1\"],color=\"Red\",legend=\"x^2\")\n",
    "circles2 = fig.circle(source[\"x\"],source[\"y2\"],color=\"Blue\",legend=\"2^x\")\n",
    "fig.legend.location = \"center_left\"\n",
    "show(fig)"
   ]
  },
  {
   "cell_type": "code",
   "execution_count": 12,
   "metadata": {},
   "outputs": [
    {
     "data": {
      "text/html": [
       "\n",
       "\n",
       "\n",
       "\n",
       "\n",
       "\n",
       "  <div class=\"bk-root\" id=\"6e76bb38-e0bb-4eb6-b244-35eb91fcf5cc\"></div>\n"
      ]
     },
     "metadata": {},
     "output_type": "display_data"
    },
    {
     "data": {
      "application/javascript": [
       "(function(root) {\n",
       "  function embed_document(root) {\n",
       "    \n",
       "  var docs_json = {\"4fa9aa66-0ae9-49ad-b9ff-c0982ec735a1\":{\"roots\":{\"references\":[{\"attributes\":{\"data_source\":{\"id\":\"5ca91e45-c454-4cff-8674-fe6ba632c9d0\",\"type\":\"ColumnDataSource\"},\"glyph\":{\"id\":\"30039e3b-164c-417e-89ac-c9a6dd66202f\",\"type\":\"Circle\"},\"hover_glyph\":null,\"muted_glyph\":null,\"nonselection_glyph\":{\"id\":\"1ce021ef-a849-4d74-bb8d-799b292400b1\",\"type\":\"Circle\"},\"selection_glyph\":null,\"view\":{\"id\":\"5a43706b-f6db-4741-85fd-6cd6b4f3ba12\",\"type\":\"CDSView\"}},\"id\":\"3d7dde74-0aa2-4e96-acaf-943ec6194546\",\"type\":\"GlyphRenderer\"},{\"attributes\":{\"callback\":null},\"id\":\"c3d17938-0850-4a8a-8e12-9422094bb155\",\"type\":\"DataRange1d\"},{\"attributes\":{},\"id\":\"c5f6a9e7-d8c5-4765-875d-a0ce3863c813\",\"type\":\"LinearScale\"},{\"attributes\":{\"callback\":null,\"data\":{\"x\":[1,2,3,4,5],\"y\":[1,2,4,8,16]},\"selected\":{\"id\":\"c5356cd8-883a-492e-9685-dbe09c43e015\",\"type\":\"Selection\"},\"selection_policy\":{\"id\":\"90f5233b-13b9-4ab9-8096-5d0d8af4f12b\",\"type\":\"UnionRenderers\"}},\"id\":\"c3fef094-6036-42bf-9e05-970d09df16f9\",\"type\":\"ColumnDataSource\"},{\"attributes\":{},\"id\":\"1c111cce-0be1-488c-9e30-ba93b4e3a518\",\"type\":\"LinearScale\"},{\"attributes\":{\"fill_color\":{\"value\":\"Red\"},\"line_color\":{\"value\":\"Red\"},\"x\":{\"field\":\"x\"},\"y\":{\"field\":\"y\"}},\"id\":\"30039e3b-164c-417e-89ac-c9a6dd66202f\",\"type\":\"Circle\"},{\"attributes\":{\"plot\":{\"id\":\"ab89253c-3dc3-4e61-90d3-e48647269d0f\",\"subtype\":\"Figure\",\"type\":\"Plot\"},\"ticker\":{\"id\":\"3047a019-9021-41c5-be0b-365a578fab81\",\"type\":\"BasicTicker\"}},\"id\":\"33de0945-e817-499b-847c-fbfdaf07e273\",\"type\":\"Grid\"},{\"attributes\":{},\"id\":\"49630faf-9b70-4c5e-9303-caaa72c93d70\",\"type\":\"WheelZoomTool\"},{\"attributes\":{\"formatter\":{\"id\":\"954af401-a6b0-4559-b407-ec7a2e559ef9\",\"type\":\"BasicTickFormatter\"},\"plot\":{\"id\":\"ab89253c-3dc3-4e61-90d3-e48647269d0f\",\"subtype\":\"Figure\",\"type\":\"Plot\"},\"ticker\":{\"id\":\"3047a019-9021-41c5-be0b-365a578fab81\",\"type\":\"BasicTicker\"}},\"id\":\"2babda12-da4a-4649-9e07-1a8b13f4e383\",\"type\":\"LinearAxis\"},{\"attributes\":{},\"id\":\"3047a019-9021-41c5-be0b-365a578fab81\",\"type\":\"BasicTicker\"},{\"attributes\":{\"formatter\":{\"id\":\"ae4d1e84-dced-40c1-9572-86875cb0d86e\",\"type\":\"BasicTickFormatter\"},\"plot\":{\"id\":\"ab89253c-3dc3-4e61-90d3-e48647269d0f\",\"subtype\":\"Figure\",\"type\":\"Plot\"},\"ticker\":{\"id\":\"bbe1bb91-1984-45fc-a2e8-404832f9120b\",\"type\":\"BasicTicker\"}},\"id\":\"a5c92a93-ad7a-4236-be76-9d9fd12d6f0f\",\"type\":\"LinearAxis\"},{\"attributes\":{},\"id\":\"bbe1bb91-1984-45fc-a2e8-404832f9120b\",\"type\":\"BasicTicker\"},{\"attributes\":{\"plot\":null,\"text\":\"Example Plot\"},\"id\":\"49741c05-b6d2-471f-95fb-24aab0c3a957\",\"type\":\"Title\"},{\"attributes\":{\"dimension\":1,\"plot\":{\"id\":\"ab89253c-3dc3-4e61-90d3-e48647269d0f\",\"subtype\":\"Figure\",\"type\":\"Plot\"},\"ticker\":{\"id\":\"bbe1bb91-1984-45fc-a2e8-404832f9120b\",\"type\":\"BasicTicker\"}},\"id\":\"8641712e-2a5f-4aa5-84f3-5ded6d25f0f2\",\"type\":\"Grid\"},{\"attributes\":{\"source\":{\"id\":\"5ca91e45-c454-4cff-8674-fe6ba632c9d0\",\"type\":\"ColumnDataSource\"}},\"id\":\"5a43706b-f6db-4741-85fd-6cd6b4f3ba12\",\"type\":\"CDSView\"},{\"attributes\":{\"fill_alpha\":{\"value\":0.1},\"fill_color\":{\"value\":\"#1f77b4\"},\"line_alpha\":{\"value\":0.1},\"line_color\":{\"value\":\"#1f77b4\"},\"x\":{\"field\":\"x\"},\"y\":{\"field\":\"y\"}},\"id\":\"1ce021ef-a849-4d74-bb8d-799b292400b1\",\"type\":\"Circle\"},{\"attributes\":{\"bottom_units\":\"screen\",\"fill_alpha\":{\"value\":0.5},\"fill_color\":{\"value\":\"lightgrey\"},\"left_units\":\"screen\",\"level\":\"overlay\",\"line_alpha\":{\"value\":1.0},\"line_color\":{\"value\":\"black\"},\"line_dash\":[4,4],\"line_width\":{\"value\":2},\"plot\":null,\"render_mode\":\"css\",\"right_units\":\"screen\",\"top_units\":\"screen\"},\"id\":\"2704d421-b520-48d4-9eff-f2478055af14\",\"type\":\"BoxAnnotation\"},{\"attributes\":{},\"id\":\"4aee4196-625f-4057-ab21-78d2c49c60f6\",\"type\":\"PanTool\"},{\"attributes\":{},\"id\":\"954af401-a6b0-4559-b407-ec7a2e559ef9\",\"type\":\"BasicTickFormatter\"},{\"attributes\":{\"overlay\":{\"id\":\"2704d421-b520-48d4-9eff-f2478055af14\",\"type\":\"BoxAnnotation\"}},\"id\":\"5f64c84b-308d-46e7-9f65-a027222099c4\",\"type\":\"BoxZoomTool\"},{\"attributes\":{\"active_drag\":\"auto\",\"active_inspect\":\"auto\",\"active_multi\":null,\"active_scroll\":\"auto\",\"active_tap\":\"auto\",\"tools\":[{\"id\":\"4aee4196-625f-4057-ab21-78d2c49c60f6\",\"type\":\"PanTool\"},{\"id\":\"49630faf-9b70-4c5e-9303-caaa72c93d70\",\"type\":\"WheelZoomTool\"},{\"id\":\"5f64c84b-308d-46e7-9f65-a027222099c4\",\"type\":\"BoxZoomTool\"},{\"id\":\"f340f01c-c663-473c-96d2-6030f4778b5a\",\"type\":\"SaveTool\"},{\"id\":\"16833584-7415-4711-a3d9-aaf6d6b88434\",\"type\":\"ResetTool\"},{\"id\":\"7f4e6711-e1a7-4a8b-a100-5d2d846218e5\",\"type\":\"HelpTool\"}]},\"id\":\"de572923-cf60-45cc-bb59-d9024e969017\",\"type\":\"Toolbar\"},{\"attributes\":{},\"id\":\"f340f01c-c663-473c-96d2-6030f4778b5a\",\"type\":\"SaveTool\"},{\"attributes\":{},\"id\":\"16833584-7415-4711-a3d9-aaf6d6b88434\",\"type\":\"ResetTool\"},{\"attributes\":{},\"id\":\"7f4e6711-e1a7-4a8b-a100-5d2d846218e5\",\"type\":\"HelpTool\"},{\"attributes\":{\"fill_color\":{\"value\":\"Blue\"},\"line_color\":{\"value\":\"Blue\"},\"x\":{\"field\":\"x\"},\"y\":{\"field\":\"y\"}},\"id\":\"6e8a585c-098c-428c-bc3d-be9f9c908c1c\",\"type\":\"Circle\"},{\"attributes\":{},\"id\":\"ae4d1e84-dced-40c1-9572-86875cb0d86e\",\"type\":\"BasicTickFormatter\"},{\"attributes\":{\"fill_alpha\":{\"value\":0.1},\"fill_color\":{\"value\":\"#1f77b4\"},\"line_alpha\":{\"value\":0.1},\"line_color\":{\"value\":\"#1f77b4\"},\"x\":{\"field\":\"x\"},\"y\":{\"field\":\"y\"}},\"id\":\"cb4499f5-9a46-4b51-b71b-27b64adb66a7\",\"type\":\"Circle\"},{\"attributes\":{\"callback\":null},\"id\":\"e9cde576-832a-4327-8ee3-337501a172c1\",\"type\":\"DataRange1d\"},{\"attributes\":{\"data_source\":{\"id\":\"c3fef094-6036-42bf-9e05-970d09df16f9\",\"type\":\"ColumnDataSource\"},\"glyph\":{\"id\":\"6e8a585c-098c-428c-bc3d-be9f9c908c1c\",\"type\":\"Circle\"},\"hover_glyph\":null,\"muted_glyph\":null,\"nonselection_glyph\":{\"id\":\"cb4499f5-9a46-4b51-b71b-27b64adb66a7\",\"type\":\"Circle\"},\"selection_glyph\":null,\"view\":{\"id\":\"4eb6ef67-e63d-45bf-a526-d5114debdbe9\",\"type\":\"CDSView\"}},\"id\":\"b06b66cd-5dfc-4fa4-9f92-1617556592b6\",\"type\":\"GlyphRenderer\"},{\"attributes\":{\"click_policy\":\"hide\",\"items\":[{\"id\":\"8b570bf9-e4cd-43a8-9dcc-b2ffdb5e449f\",\"type\":\"LegendItem\"},{\"id\":\"f91ea8a3-ecb2-4085-8fa1-31ee7af90fad\",\"type\":\"LegendItem\"}],\"location\":\"center_left\",\"plot\":{\"id\":\"ab89253c-3dc3-4e61-90d3-e48647269d0f\",\"subtype\":\"Figure\",\"type\":\"Plot\"}},\"id\":\"e3a0e15c-f15b-4e67-bbea-629374e3e9ee\",\"type\":\"Legend\"},{\"attributes\":{\"source\":{\"id\":\"c3fef094-6036-42bf-9e05-970d09df16f9\",\"type\":\"ColumnDataSource\"}},\"id\":\"4eb6ef67-e63d-45bf-a526-d5114debdbe9\",\"type\":\"CDSView\"},{\"attributes\":{},\"id\":\"33059fd3-80d0-4f66-a716-112c8ed93928\",\"type\":\"UnionRenderers\"},{\"attributes\":{},\"id\":\"a701f566-1374-4e95-b3ca-11d03f7bdc57\",\"type\":\"Selection\"},{\"attributes\":{\"label\":{\"value\":\"2^x\"},\"renderers\":[{\"id\":\"b06b66cd-5dfc-4fa4-9f92-1617556592b6\",\"type\":\"GlyphRenderer\"}]},\"id\":\"f91ea8a3-ecb2-4085-8fa1-31ee7af90fad\",\"type\":\"LegendItem\"},{\"attributes\":{},\"id\":\"90f5233b-13b9-4ab9-8096-5d0d8af4f12b\",\"type\":\"UnionRenderers\"},{\"attributes\":{},\"id\":\"c5356cd8-883a-492e-9685-dbe09c43e015\",\"type\":\"Selection\"},{\"attributes\":{\"callback\":null,\"data\":{\"x\":[1,2,3,4,5],\"y\":[1,4,9,16,25]},\"selected\":{\"id\":\"a701f566-1374-4e95-b3ca-11d03f7bdc57\",\"type\":\"Selection\"},\"selection_policy\":{\"id\":\"33059fd3-80d0-4f66-a716-112c8ed93928\",\"type\":\"UnionRenderers\"}},\"id\":\"5ca91e45-c454-4cff-8674-fe6ba632c9d0\",\"type\":\"ColumnDataSource\"},{\"attributes\":{\"below\":[{\"id\":\"2babda12-da4a-4649-9e07-1a8b13f4e383\",\"type\":\"LinearAxis\"}],\"left\":[{\"id\":\"a5c92a93-ad7a-4236-be76-9d9fd12d6f0f\",\"type\":\"LinearAxis\"}],\"plot_height\":400,\"plot_width\":800,\"renderers\":[{\"id\":\"2babda12-da4a-4649-9e07-1a8b13f4e383\",\"type\":\"LinearAxis\"},{\"id\":\"33de0945-e817-499b-847c-fbfdaf07e273\",\"type\":\"Grid\"},{\"id\":\"a5c92a93-ad7a-4236-be76-9d9fd12d6f0f\",\"type\":\"LinearAxis\"},{\"id\":\"8641712e-2a5f-4aa5-84f3-5ded6d25f0f2\",\"type\":\"Grid\"},{\"id\":\"2704d421-b520-48d4-9eff-f2478055af14\",\"type\":\"BoxAnnotation\"},{\"id\":\"e3a0e15c-f15b-4e67-bbea-629374e3e9ee\",\"type\":\"Legend\"},{\"id\":\"3d7dde74-0aa2-4e96-acaf-943ec6194546\",\"type\":\"GlyphRenderer\"},{\"id\":\"b06b66cd-5dfc-4fa4-9f92-1617556592b6\",\"type\":\"GlyphRenderer\"}],\"title\":{\"id\":\"49741c05-b6d2-471f-95fb-24aab0c3a957\",\"type\":\"Title\"},\"toolbar\":{\"id\":\"de572923-cf60-45cc-bb59-d9024e969017\",\"type\":\"Toolbar\"},\"x_range\":{\"id\":\"e9cde576-832a-4327-8ee3-337501a172c1\",\"type\":\"DataRange1d\"},\"x_scale\":{\"id\":\"c5f6a9e7-d8c5-4765-875d-a0ce3863c813\",\"type\":\"LinearScale\"},\"y_range\":{\"id\":\"c3d17938-0850-4a8a-8e12-9422094bb155\",\"type\":\"DataRange1d\"},\"y_scale\":{\"id\":\"1c111cce-0be1-488c-9e30-ba93b4e3a518\",\"type\":\"LinearScale\"}},\"id\":\"ab89253c-3dc3-4e61-90d3-e48647269d0f\",\"subtype\":\"Figure\",\"type\":\"Plot\"},{\"attributes\":{\"label\":{\"value\":\"x^2\"},\"renderers\":[{\"id\":\"3d7dde74-0aa2-4e96-acaf-943ec6194546\",\"type\":\"GlyphRenderer\"}]},\"id\":\"8b570bf9-e4cd-43a8-9dcc-b2ffdb5e449f\",\"type\":\"LegendItem\"}],\"root_ids\":[\"ab89253c-3dc3-4e61-90d3-e48647269d0f\"]},\"title\":\"Bokeh Application\",\"version\":\"0.13.0\"}};\n",
       "  var render_items = [{\"docid\":\"4fa9aa66-0ae9-49ad-b9ff-c0982ec735a1\",\"roots\":{\"ab89253c-3dc3-4e61-90d3-e48647269d0f\":\"6e76bb38-e0bb-4eb6-b244-35eb91fcf5cc\"}}];\n",
       "  root.Bokeh.embed.embed_items_notebook(docs_json, render_items);\n",
       "\n",
       "  }\n",
       "  if (root.Bokeh !== undefined) {\n",
       "    embed_document(root);\n",
       "  } else {\n",
       "    var attempts = 0;\n",
       "    var timer = setInterval(function(root) {\n",
       "      if (root.Bokeh !== undefined) {\n",
       "        embed_document(root);\n",
       "        clearInterval(timer);\n",
       "      }\n",
       "      attempts++;\n",
       "      if (attempts > 100) {\n",
       "        console.log(\"Bokeh: ERROR: Unable to run BokehJS code because BokehJS library is missing\")\n",
       "        clearInterval(timer);\n",
       "      }\n",
       "    }, 10, root)\n",
       "  }\n",
       "})(window);"
      ],
      "application/vnd.bokehjs_exec.v0+json": ""
     },
     "metadata": {
      "application/vnd.bokehjs_exec.v0+json": {
       "id": "ab89253c-3dc3-4e61-90d3-e48647269d0f"
      }
     },
     "output_type": "display_data"
    }
   ],
   "source": [
    "#Finally we could make a legend that hides or shows plots based on the user clicking elements of it\n",
    "#Try clicking the legend handlers!\n",
    "fig = figure(plot_width=800, plot_height=400, title=\"Example Plot\")\n",
    "circles1 = fig.circle(source[\"x\"],source[\"y1\"],color=\"Red\",legend=\"x^2\")\n",
    "circles2 = fig.circle(source[\"x\"],source[\"y2\"],color=\"Blue\",legend=\"2^x\")\n",
    "fig.legend.location = \"center_left\"\n",
    "fig.legend.click_policy=\"hide\"\n",
    "show(fig)"
   ]
  }
 ],
 "metadata": {
  "kernelspec": {
   "display_name": "Python 3",
   "language": "python",
   "name": "python3"
  },
  "language_info": {
   "codemirror_mode": {
    "name": "ipython",
    "version": 3
   },
   "file_extension": ".py",
   "mimetype": "text/x-python",
   "name": "python",
   "nbconvert_exporter": "python",
   "pygments_lexer": "ipython3",
   "version": "3.6.3"
  }
 },
 "nbformat": 4,
 "nbformat_minor": 2
}
