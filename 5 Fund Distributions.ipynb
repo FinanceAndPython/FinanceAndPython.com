{
 "cells": [
  {
   "cell_type": "markdown",
   "metadata": {},
   "source": [
    "# The Venture Capital Life Cycle\n",
    "\n",
    "1. Fundraise to get committed capital. Money is not transfered but legaly committed to be pulled down at any point in the fund life.\n",
    "\n",
    "2. Begin drawing down on committed capital to make investments in companies.\n",
    "\n",
    "3. Grow and manage portfolio companies.\n",
    "\n",
    "4. Begin exiting companies through IPO, secondary sales, write downs, mergers, etc. and distribute the funds to the limited partners. Based on established term sheet, carry will be collected if investment returns exceed a certain threshold.\n",
    "\n",
    "5. Close down the fund after all companies have been exited. "
   ]
  },
  {
   "cell_type": "markdown",
   "metadata": {},
   "source": [
    "# Management Fees\n",
    "\n",
    "Management fees are assessed on **committed capital** not on drawdown capital. This is important because it means that even while some money may not have been pulled down for use within the fund, the VC will be collecting annual fees on it to pay for operating expenses. These fees can generally range from 1-2% a year. Let's look at an example of management fees for a fund which has $500 million in committed capital, which we believe will be in operation for 8 years, and charges a 1% management fee."
   ]
  },
  {
   "cell_type": "code",
   "execution_count": 1,
   "metadata": {},
   "outputs": [
    {
     "name": "stdout",
     "output_type": "stream",
     "text": [
      "                     1    2    3    4    5    6    7    8\n",
      "Committed Capital  500  500  500  500  500  500  500  500\n"
     ]
    }
   ],
   "source": [
    "import pandas as pd\n",
    "\n",
    "#Start with a look at the committed capital in each year, it is constant\n",
    "mgmt_fees = pd.DataFrame(500, index= ['Committed Capital'], columns=list(range(1,9)))\n",
    "print(mgmt_fees)"
   ]
  },
  {
   "cell_type": "code",
   "execution_count": 2,
   "metadata": {},
   "outputs": [
    {
     "name": "stdout",
     "output_type": "stream",
     "text": [
      "                       1      2      3      4      5      6      7      8\n",
      "Committed Capital  500.0  500.0  500.0  500.0  500.0  500.0  500.0  500.0\n",
      "Management Fee       5.0    5.0    5.0    5.0    5.0    5.0    5.0    5.0\n"
     ]
    }
   ],
   "source": [
    "#Management fees will be 1% a year\n",
    "mgmt_fees.loc['Management Fee'] = mgmt_fees.loc['Committed Capital'] * .01\n",
    "print(mgmt_fees)"
   ]
  },
  {
   "cell_type": "markdown",
   "metadata": {},
   "source": [
    "# Fund Capital Calls and Distributions\n",
    "\n",
    "Let's return to our committed capital that we have. The fund will not call down all funds at once, but rather over time as investments are found. Let's first simulate capital calls of \\\\$200 million in the first year, \\\\$150 million in the next year, and another \\\\$150 million in the year after."
   ]
  },
  {
   "cell_type": "code",
   "execution_count": 3,
   "metadata": {},
   "outputs": [
    {
     "name": "stdout",
     "output_type": "stream",
     "text": [
      "                     1    2    3    4    5    6    7    8\n",
      "Committed Capital  500  500  500  500  500  500  500  500\n",
      "Capital Call       200  150  150    0    0    0    0    0\n"
     ]
    }
   ],
   "source": [
    "#Start with a look at the committed capital in each year, it is constant\n",
    "distributions = pd.DataFrame(500, index= ['Committed Capital'], columns=list(range(1,9)))\n",
    "\n",
    "#The capital calls in each year are $200, $150, $150, and $0 in the rest because all has been called down\n",
    "distributions.loc['Capital Call'] = [200, 150, 150, 0, 0, 0, 0, 0]\n",
    "print(distributions)"
   ]
  },
  {
   "cell_type": "code",
   "execution_count": 4,
   "metadata": {},
   "outputs": [
    {
     "name": "stdout",
     "output_type": "stream",
     "text": [
      "1    200\n",
      "2    350\n",
      "3    500\n",
      "4    500\n",
      "5    500\n",
      "6    500\n",
      "7    500\n",
      "8    500\n",
      "Name: Capital Call, dtype: int64\n"
     ]
    }
   ],
   "source": [
    "#The cumsum function will get the cummulative sum of a column or row\n",
    "print(distributions.loc['Capital Call'].cumsum())"
   ]
  },
  {
   "cell_type": "code",
   "execution_count": 5,
   "metadata": {},
   "outputs": [
    {
     "name": "stdout",
     "output_type": "stream",
     "text": [
      "                        1    2    3    4    5    6    7    8\n",
      "Committed Capital     500  500  500  500  500  500  500  500\n",
      "Capital Call          200  150  150    0    0    0    0    0\n",
      "Total Called Capital  200  350  500  500  500  500  500  500\n"
     ]
    }
   ],
   "source": [
    "#Add this row to the table\n",
    "distributions.loc['Total Called Capital'] = distributions.loc['Capital Call'].cumsum()\n",
    "print(distributions)"
   ]
  },
  {
   "cell_type": "markdown",
   "metadata": {},
   "source": [
    "Distributions begin as the companies are exited. These distributions are split between general and limited partners based on the agreed upon terms. Let's say the following numbers below represent the distributions."
   ]
  },
  {
   "cell_type": "code",
   "execution_count": 6,
   "metadata": {},
   "outputs": [
    {
     "name": "stdout",
     "output_type": "stream",
     "text": [
      "                        1    2    3    4    5    6     7     8\n",
      "Committed Capital     500  500  500  500  500  500   500   500\n",
      "Capital Call          200  150  150    0    0    0     0     0\n",
      "Total Called Capital  200  350  500  500  500  500   500   500\n",
      "Distributions           0    0    0  350  200  200   400   200\n",
      "Total Distributions     0    0    0  350  550  750  1150  1350\n"
     ]
    }
   ],
   "source": [
    "distributions.loc['Distributions'] = [0, 0, 0, 350, 200, 200, 400, 200]\n",
    "distributions.loc['Total Distributions'] = distributions.loc['Distributions'].cumsum()\n",
    "print(distributions)"
   ]
  },
  {
   "cell_type": "markdown",
   "metadata": {},
   "source": [
    "# Carry\n",
    "\n",
    "Where a fund can make huge amounts of money for themselves is the carry. The carry is the fees that can be collected on profits. For example, carry might be 20% of the profits. The carry would not be charged on the committed capital returned (only on profits made on top of returning the capital), and might or might not be after management fees are exceeded as well. Generally speaking, carry tends to be collected at the end of the fund life as opposed to on the basis of as exits are completed. There are times, though, that terms are for carry on a deal by deal basis."
   ]
  },
  {
   "cell_type": "markdown",
   "metadata": {},
   "source": [
    "## Carry without Management Fees Considered\n",
    "\n",
    "Let's begin with an example where the terms of carry is simply that all the money is returned before a carry of 20% can be collected. Then the formula will be:\n",
    "\n",
    "$ C = MAX(D-CC, 0) * P $\n",
    "\n",
    "where \n",
    "\n",
    "$ C = \\text{Carry} $\n",
    "\n",
    "$ D = \\text{Distributions} $\n",
    "\n",
    "$ CC = \\text{Committed Capital} $\n",
    "\n",
    "$ P = \\text{Percent for Carry} $\n"
   ]
  },
  {
   "cell_type": "markdown",
   "metadata": {},
   "source": [
    "### Model 3 Scenarios\n",
    "\n",
    "Find the carry for a fund which has 20% as the percent collected in the following scenarios:\n",
    "\n",
    "1. Distributions are only 350 million resulting in a loss.\n",
    "2. Distributions are exactly 500 million.\n",
    "3. Distributions are 800 million."
   ]
  },
  {
   "cell_type": "code",
   "execution_count": 7,
   "metadata": {},
   "outputs": [
    {
     "name": "stdout",
     "output_type": "stream",
     "text": [
      "0.0\n",
      "0.0\n",
      "60.0\n"
     ]
    }
   ],
   "source": [
    "C1 = max(350-500, 0) * .2\n",
    "C2 = max(500-500, 0) * .2\n",
    "C3 = max(800-500, 0) * .2\n",
    "\n",
    "print(C1)\n",
    "print(C2)\n",
    "print(C3)"
   ]
  },
  {
   "cell_type": "code",
   "execution_count": 8,
   "metadata": {},
   "outputs": [
    {
     "name": "stdout",
     "output_type": "stream",
     "text": [
      "40.0\n"
     ]
    }
   ],
   "source": [
    "#Calculate the total amount of management fees collected throughout the time period\n",
    "MF = mgmt_fees.loc['Management Fee'].sum()\n",
    "print(MF)"
   ]
  },
  {
   "cell_type": "code",
   "execution_count": 9,
   "metadata": {},
   "outputs": [
    {
     "name": "stdout",
     "output_type": "stream",
     "text": [
      "40.0\n",
      "40.0\n",
      "100.0\n"
     ]
    }
   ],
   "source": [
    "#The total fees collected will be the management fee + carry\n",
    "F1 = C1 + MF\n",
    "F2 = C2 + MF\n",
    "F3 = C3 + MF\n",
    "\n",
    "print(F1)\n",
    "print(F2)\n",
    "print(F3)"
   ]
  },
  {
   "cell_type": "markdown",
   "metadata": {},
   "source": [
    "## Profit for Limited Partners\n",
    "\n",
    "The profit for the limited partners will be equal to the distributions less the initial investment, management fees, and any carry.\n",
    "\n",
    "$P = D - I - M - C $\n",
    "\n",
    "where \n",
    "\n",
    "$P = \\text{Profit}$\n",
    "\n",
    "$D = \\text{Distributions}$\n",
    "\n",
    "$I = \\text{Initial Investment}$\n",
    "\n",
    "$M = \\text{Management Fee}$\n",
    "\n",
    "$C = \\text{Carry}$\n"
   ]
  },
  {
   "cell_type": "code",
   "execution_count": 10,
   "metadata": {},
   "outputs": [
    {
     "name": "stdout",
     "output_type": "stream",
     "text": [
      "-190.0\n",
      "-40.0\n",
      "260.0\n"
     ]
    }
   ],
   "source": [
    "P1 = 350-F1 - 500\n",
    "P2 = 500-F2 - 500\n",
    "P3 = 800-F1 - 500\n",
    "\n",
    "print(P1)\n",
    "print(P2)\n",
    "print(P3)"
   ]
  },
  {
   "cell_type": "markdown",
   "metadata": {},
   "source": [
    "## IRR for Limited Partners\n",
    "\n",
    "The IRR, or interal rate of return, is the return for which the present value of all cash flows equals 0. What this essentially tells you is, given the timing of cash flows, what rate of return is implied. Thus, it is the value for r that solves this equation:\n",
    "\n",
    "$ 0 = \\sum_{t=0}^{T} \\frac{CF_{t}}{(1+IRR)^t}$\n",
    "\n",
    "where \n",
    "\n",
    "$ t = \\text{Year} $\n",
    "\n",
    "$ T = \\text{Total Number of Years} $\n",
    "\n",
    "$CF_{t} = \\text{Cash flow at time t} $\n",
    "\n",
    "\n",
    "This equation is derived from the fact that the NPV (net present value) is the found through the equation below, but IRR is the rate that makes it so the net present value is 0:\n",
    "\n",
    "$ NPV = \\sum_{t=0}^{T} \\frac{CF_{t}}{(1+r)^t}$\n",
    "\n",
    "\n",
    "Let's begin with a simple example. The cashflows in year 0 through 4, where negative cashflow means you as the investor pay, and a positive means you receive money, are: -\\\\$100, -\\\\$100, \\\\$100, \\\\$100, \\\\$100. First, visualize the net present value given different discount rates."
   ]
  },
  {
   "cell_type": "markdown",
   "metadata": {},
   "source": [
    "## The difference between IRR and ROI\n",
    "\n",
    "ROI is simply the total earnings divided by the investment which was made an measures overall how profitable a certain investment was. The difference between this and IRR is that IRR calculates a rate that takes into account both timing of cash flows and also annualizes the rate. IRR is used to capture the idea that having cashflows earlier on has a benefit in that you are able to deploy that capital for other purposes, in the case of venture capital firms it can mean that you are able to pay distributions to limited partners who then can invest in another fund earlier leading to a higher ROI as compared to getting the cashflows later."
   ]
  },
  {
   "cell_type": "code",
   "execution_count": 11,
   "metadata": {},
   "outputs": [
    {
     "data": {
      "image/png": "[encoded data removed]",
      "text/plain": [
       "<Figure size 691.2x518.4 with 1 Axes>"
      ]
     },
     "metadata": {
      "needs_background": "light"
     },
     "output_type": "display_data"
    }
   ],
   "source": [
    "import numpy as np\n",
    "import matplotlib.pyplot as plt\n",
    "%matplotlib inline\n",
    "plt.rcParams[\"figure.figsize\"] = 9.6, 7.2\n",
    "\n",
    "x = np.arange(0,.26,.01)\n",
    "NPV = []\n",
    "for r in x:\n",
    "    value = 0\n",
    "    value += -100\n",
    "    value += -100 / (1+r)\n",
    "    value += 100 / (1+r)**2\n",
    "    value += 100 / (1+r)**3\n",
    "    value += 100 / (1+r)**4\n",
    "    NPV.append(value)\n",
    "\n",
    "plt.plot(x,NPV)\n",
    "plt.axhline(0, color='grey', linestyle='--')\n",
    "plt.xlabel(\"r\")\n",
    "plt.ylabel(\"NPV\")\n",
    "plt.title(\"NPV vs. r\")\n",
    "plt.show()"
   ]
  },
  {
   "cell_type": "markdown",
   "metadata": {},
   "source": [
    "Let's formalize this into a function given yearly cash flows."
   ]
  },
  {
   "cell_type": "code",
   "execution_count": 12,
   "metadata": {},
   "outputs": [
    {
     "name": "stdout",
     "output_type": "stream",
     "text": [
      "[-100 -100  100  100  100]\n",
      "\n",
      "[0 1 2 3 4]\n",
      "\n",
      "[1.         1.05       1.1025     1.157625   1.21550625]\n"
     ]
    }
   ],
   "source": [
    "#Define the discount rate\n",
    "r = .05\n",
    "\n",
    "#Create cashflows\n",
    "cash_flows = np.array([-100, -100, 100, 100, 100])\n",
    "print(cash_flows)\n",
    "\n",
    "#Represent the years\n",
    "t = np.array(range(len(cash_flows)))\n",
    "print()\n",
    "print(t)\n",
    "\n",
    "#Find the discount factors\n",
    "df = (1 + r) ** t\n",
    "print()\n",
    "print(df)"
   ]
  },
  {
   "cell_type": "code",
   "execution_count": 13,
   "metadata": {},
   "outputs": [
    {
     "name": "stdout",
     "output_type": "stream",
     "text": [
      "[-100.          -95.23809524   90.70294785   86.38375985   82.27024748]\n",
      "\n",
      "64.11885994004552\n"
     ]
    }
   ],
   "source": [
    "#With these we can discount the cashflows then sum\n",
    "print(cash_flows / df)\n",
    "print()\n",
    "print((cash_flows / df).sum())"
   ]
  },
  {
   "cell_type": "code",
   "execution_count": 14,
   "metadata": {},
   "outputs": [
    {
     "name": "stdout",
     "output_type": "stream",
     "text": [
      "64.11885994004552\n"
     ]
    }
   ],
   "source": [
    "#Create a function\n",
    "def find_NPV(cash_flows, t, r):\n",
    "    df = (1 + r) ** t\n",
    "    return (cash_flows / df).sum()\n",
    "t = np.array(range(len(cash_flows)))\n",
    "print(find_NPV(cash_flows, t, .05))"
   ]
  },
  {
   "cell_type": "markdown",
   "metadata": {},
   "source": [
    "If we wanted to find the point where NPV is equal to 0, we could find the distance to 0 squared, which would provide us the minimum value when NPV is equal to 0. Mathematically, we are finding the value of:\n",
    "\n",
    "$ (NPV-0)^2 $\n",
    "\n",
    "which is the same as:\n",
    "\n",
    "$ NPV^2 $"
   ]
  },
  {
   "cell_type": "code",
   "execution_count": 15,
   "metadata": {},
   "outputs": [
    {
     "data": {
      "image/png": "[encoded data removed]",
      "text/plain": [
       "<Figure size 691.2x518.4 with 1 Axes>"
      ]
     },
     "metadata": {
      "needs_background": "light"
     },
     "output_type": "display_data"
    }
   ],
   "source": [
    "def sq_distance(r, t, cash_flows):\n",
    "    NPV = find_NPV(cash_flows, t, r)\n",
    "    return NPV ** 2\n",
    "\n",
    "\n",
    "x = np.arange(0,.26,.01)\n",
    "NPV_dist = []\n",
    "for r in x:\n",
    "    NPV_dist.append(sq_distance(r, t, cash_flows))\n",
    "\n",
    "plt.plot(x,NPV_dist)\n",
    "plt.axhline(0, color='grey', linestyle='--')\n",
    "plt.xlabel(\"r\")\n",
    "plt.ylabel(\"NPV^2\")\n",
    "plt.title(\"NPV^2 vs. r\")\n",
    "plt.show()"
   ]
  },
  {
   "cell_type": "markdown",
   "metadata": {},
   "source": [
    "If we minimize this function, we will get back the IRR which is the rate r that makes the NPV 0! For more information on the minimize function: https://docs.scipy.org/doc/scipy/reference/generated/scipy.optimize.minimize.html"
   ]
  },
  {
   "cell_type": "code",
   "execution_count": 16,
   "metadata": {},
   "outputs": [
    {
     "name": "stdout",
     "output_type": "stream",
     "text": [
      "0.17871093750000047\n",
      "\n",
      "0.005048637399866607\n"
     ]
    }
   ],
   "source": [
    "from scipy.optimize import minimize\n",
    "\n",
    "IRR = minimize(sq_distance, .05, args=(t, cash_flows), method=\"Nelder-Mead\")['x'][0]\n",
    "print(IRR)\n",
    "\n",
    "print()\n",
    "print(find_NPV(cash_flows, t, IRR))"
   ]
  },
  {
   "cell_type": "markdown",
   "metadata": {},
   "source": [
    "## Limited Partner Profit Function\n",
    "\n",
    "Let's work through an example of keeping track of fees and its impact on distributions. It is important to understand that companies can do all sorts of different things in this respect, this is just one example! First recall what we originally had."
   ]
  },
  {
   "cell_type": "code",
   "execution_count": 17,
   "metadata": {},
   "outputs": [
    {
     "name": "stdout",
     "output_type": "stream",
     "text": [
      "                        1    2    3    4    5    6     7     8\n",
      "Committed Capital     500  500  500  500  500  500   500   500\n",
      "Capital Call          200  150  150    0    0    0     0     0\n",
      "Total Called Capital  200  350  500  500  500  500   500   500\n",
      "Distributions           0    0    0  350  200  200   400   200\n",
      "Total Distributions     0    0    0  350  550  750  1150  1350\n",
      "\n",
      "\n",
      "                       1      2      3      4      5      6      7      8\n",
      "Committed Capital  500.0  500.0  500.0  500.0  500.0  500.0  500.0  500.0\n",
      "Management Fee       5.0    5.0    5.0    5.0    5.0    5.0    5.0    5.0\n"
     ]
    }
   ],
   "source": [
    "print(distributions)\n",
    "print()\n",
    "print()\n",
    "print(mgmt_fees)"
   ]
  },
  {
   "cell_type": "markdown",
   "metadata": {},
   "source": [
    "Now, take the running total of distributions before any fees are applied and link add in a running total of the management fees."
   ]
  },
  {
   "cell_type": "code",
   "execution_count": 18,
   "metadata": {
    "scrolled": true
   },
   "outputs": [
    {
     "name": "stdout",
     "output_type": "stream",
     "text": [
      "                       1     2     3      4      5      6       7       8\n",
      "Total Distributions  0.0   0.0   0.0  350.0  550.0  750.0  1150.0  1350.0\n",
      "Management Fee       5.0  10.0  15.0   20.0   25.0   30.0    35.0    40.0\n"
     ]
    }
   ],
   "source": [
    "lp_profits = pd.concat([distributions.loc['Total Distributions'], mgmt_fees.loc['Management Fee'].cumsum()], axis=1).transpose()\n",
    "print(lp_profits)"
   ]
  },
  {
   "cell_type": "markdown",
   "metadata": {},
   "source": [
    "Now, get the net position based on the difference."
   ]
  },
  {
   "cell_type": "code",
   "execution_count": 19,
   "metadata": {},
   "outputs": [
    {
     "name": "stdout",
     "output_type": "stream",
     "text": [
      "                       1     2     3      4      5      6       7       8\n",
      "Total Distributions  0.0   0.0   0.0  350.0  550.0  750.0  1150.0  1350.0\n",
      "Management Fee       5.0  10.0  15.0   20.0   25.0   30.0    35.0    40.0\n",
      "Net Mgmt Fees       -5.0 -10.0 -15.0  330.0  525.0  720.0  1115.0  1310.0\n"
     ]
    }
   ],
   "source": [
    "lp_profits.loc['Net Mgmt Fees'] = lp_profits.loc['Total Distributions'] - lp_profits.loc['Management Fee']\n",
    "print(lp_profits)"
   ]
  },
  {
   "cell_type": "markdown",
   "metadata": {},
   "source": [
    "For the performance fee, we will work the hypothetical assumption that agreement states performance fees of 20% may be charged on any performance net of management fees over the committed capital. Using this assumption, we add in the performance fee accrued."
   ]
  },
  {
   "cell_type": "code",
   "execution_count": 20,
   "metadata": {},
   "outputs": [
    {
     "name": "stdout",
     "output_type": "stream",
     "text": [
      "                       1     2     3      4      5      6       7       8\n",
      "Total Distributions  0.0   0.0   0.0  350.0  550.0  750.0  1150.0  1350.0\n",
      "Management Fee       5.0  10.0  15.0   20.0   25.0   30.0    35.0    40.0\n",
      "Net Mgmt Fees       -5.0 -10.0 -15.0  330.0  525.0  720.0  1115.0  1310.0\n",
      "Performance Fee      0.0   0.0   0.0    0.0    5.0   44.0   123.0   162.0\n"
     ]
    }
   ],
   "source": [
    "lp_profits.loc['Performance Fee'] = lp_profits.loc['Net Mgmt Fees'].apply(lambda x: max(x-500,0) * .2)\n",
    "print(lp_profits)"
   ]
  },
  {
   "cell_type": "markdown",
   "metadata": {},
   "source": [
    "Get the net performance fee total distribution."
   ]
  },
  {
   "cell_type": "code",
   "execution_count": 21,
   "metadata": {},
   "outputs": [
    {
     "name": "stdout",
     "output_type": "stream",
     "text": [
      "                       1     2     3      4      5      6       7       8\n",
      "Total Distributions  0.0   0.0   0.0  350.0  550.0  750.0  1150.0  1350.0\n",
      "Management Fee       5.0  10.0  15.0   20.0   25.0   30.0    35.0    40.0\n",
      "Net Mgmt Fees       -5.0 -10.0 -15.0  330.0  525.0  720.0  1115.0  1310.0\n",
      "Performance Fee      0.0   0.0   0.0    0.0    5.0   44.0   123.0   162.0\n",
      "Net Perf Fee        -5.0 -10.0 -15.0  330.0  520.0  676.0   992.0  1148.0\n"
     ]
    }
   ],
   "source": [
    "lp_profits.loc['Net Perf Fee'] = lp_profits.loc['Net Mgmt Fees'] - lp_profits.loc['Performance Fee']\n",
    "print(lp_profits)"
   ]
  },
  {
   "cell_type": "markdown",
   "metadata": {},
   "source": [
    "The net performance fee when it is negative is just a paper loss because we already have the money from the investors drawn down to pay out these. Because of this we may want a new row which describes the total distributions net fees and has values of 0 when there are negative values."
   ]
  },
  {
   "cell_type": "code",
   "execution_count": 22,
   "metadata": {},
   "outputs": [
    {
     "name": "stdout",
     "output_type": "stream",
     "text": [
      "                                1     2     3      4      5      6       7  \\\n",
      "Total Distributions           0.0   0.0   0.0  350.0  550.0  750.0  1150.0   \n",
      "Management Fee                5.0  10.0  15.0   20.0   25.0   30.0    35.0   \n",
      "Net Mgmt Fees                -5.0 -10.0 -15.0  330.0  525.0  720.0  1115.0   \n",
      "Performance Fee               0.0   0.0   0.0    0.0    5.0   44.0   123.0   \n",
      "Net Perf Fee                 -5.0 -10.0 -15.0  330.0  520.0  676.0   992.0   \n",
      "Total Distributions Net Fees  0.0   0.0   0.0  330.0  520.0  676.0   992.0   \n",
      "\n",
      "                                   8  \n",
      "Total Distributions           1350.0  \n",
      "Management Fee                  40.0  \n",
      "Net Mgmt Fees                 1310.0  \n",
      "Performance Fee                162.0  \n",
      "Net Perf Fee                  1148.0  \n",
      "Total Distributions Net Fees  1148.0  \n"
     ]
    }
   ],
   "source": [
    "lp_profits.loc['Total Distributions Net Fees'] = lp_profits.loc['Net Perf Fee'].apply(lambda x: max(x, 0))\n",
    "print(lp_profits)"
   ]
  },
  {
   "cell_type": "markdown",
   "metadata": {},
   "source": [
    "Finally, to find the distributions necessary each period, we can subtract the prior period value (by using shift). For the case of year 1, we need to make sure we fill null values with 0 in the shifted series (because distributions are 0 before beginning)."
   ]
  },
  {
   "cell_type": "code",
   "execution_count": 23,
   "metadata": {},
   "outputs": [
    {
     "name": "stdout",
     "output_type": "stream",
     "text": [
      "                                1     2     3      4      5      6       7  \\\n",
      "Total Distributions           0.0   0.0   0.0  350.0  550.0  750.0  1150.0   \n",
      "Management Fee                5.0  10.0  15.0   20.0   25.0   30.0    35.0   \n",
      "Net Mgmt Fees                -5.0 -10.0 -15.0  330.0  525.0  720.0  1115.0   \n",
      "Performance Fee               0.0   0.0   0.0    0.0    5.0   44.0   123.0   \n",
      "Net Perf Fee                 -5.0 -10.0 -15.0  330.0  520.0  676.0   992.0   \n",
      "Total Distributions Net Fees  0.0   0.0   0.0  330.0  520.0  676.0   992.0   \n",
      "Distribution                  0.0   0.0   0.0  330.0  190.0  156.0   316.0   \n",
      "\n",
      "                                   8  \n",
      "Total Distributions           1350.0  \n",
      "Management Fee                  40.0  \n",
      "Net Mgmt Fees                 1310.0  \n",
      "Performance Fee                162.0  \n",
      "Net Perf Fee                  1148.0  \n",
      "Total Distributions Net Fees  1148.0  \n",
      "Distribution                   156.0  \n"
     ]
    }
   ],
   "source": [
    "ending = lp_profits.loc['Total Distributions Net Fees']\n",
    "starting = lp_profits.loc['Total Distributions Net Fees'].shift(1).fillna(0)\n",
    "lp_profits.loc['Distribution'] = ending - starting\n",
    "print(lp_profits)"
   ]
  },
  {
   "cell_type": "markdown",
   "metadata": {},
   "source": [
    "The limited partner cash flows are found by subtracting these distributions from the capital that was called over the years prior."
   ]
  },
  {
   "cell_type": "code",
   "execution_count": 24,
   "metadata": {},
   "outputs": [
    {
     "name": "stdout",
     "output_type": "stream",
     "text": [
      "1   -200.0\n",
      "2   -150.0\n",
      "3   -150.0\n",
      "4    330.0\n",
      "5    190.0\n",
      "6    156.0\n",
      "7    316.0\n",
      "8    156.0\n",
      "dtype: float64\n"
     ]
    }
   ],
   "source": [
    "lp_cash_flows = lp_profits.loc[\"Distribution\"] - distributions.loc[\"Capital Call\"]\n",
    "print(lp_cash_flows)"
   ]
  },
  {
   "cell_type": "markdown",
   "metadata": {},
   "source": [
    "Find the IRR from these cashflows."
   ]
  },
  {
   "cell_type": "code",
   "execution_count": 25,
   "metadata": {},
   "outputs": [
    {
     "name": "stdout",
     "output_type": "stream",
     "text": [
      "0.24787109375000071\n"
     ]
    }
   ],
   "source": [
    "IRR = minimize(sq_distance, .05, args=(lp_cash_flows.index, lp_cash_flows), method=\"Nelder-Mead\")['x'][0]\n",
    "print(IRR)"
   ]
  },
  {
   "cell_type": "markdown",
   "metadata": {},
   "source": [
    "We can compare this to the IRR without fees."
   ]
  },
  {
   "cell_type": "code",
   "execution_count": 26,
   "metadata": {},
   "outputs": [
    {
     "name": "stdout",
     "output_type": "stream",
     "text": [
      "0.29453125000000085\n"
     ]
    }
   ],
   "source": [
    "pre_fees_cash_flows = distributions.loc[\"Distributions\"] - distributions.loc[\"Capital Call\"]\n",
    "IRR = minimize(sq_distance, .05, args=(pre_fees_cash_flows.index, pre_fees_cash_flows), method=\"Nelder-Mead\")['x'][0]\n",
    "print(IRR)"
   ]
  },
  {
   "cell_type": "markdown",
   "metadata": {},
   "source": [
    "## The J Curve\n",
    "\n",
    "Often with this type of investing, there is a \"J Curve\" to profits because in the beginning money is only withdrawn leading to very negative overall cash flow which then eventually turns positive in later years. It is tough to evaluate performance in the beginning because these funds start very much so in the red, but it is well known that this is the trajectory. Let's plot the J Curve for these cashflows by getting total distributions then plotting that."
   ]
  },
  {
   "cell_type": "code",
   "execution_count": 27,
   "metadata": {},
   "outputs": [
    {
     "data": {
      "image/png": "[encoded data removed]",
      "text/plain": [
       "<Figure size 691.2x518.4 with 1 Axes>"
      ]
     },
     "metadata": {
      "needs_background": "light"
     },
     "output_type": "display_data"
    }
   ],
   "source": [
    "total_distributions = lp_cash_flows.cumsum()\n",
    "total_distributions.plot(kind='line')\n",
    "plt.show()"
   ]
  },
  {
   "cell_type": "markdown",
   "metadata": {},
   "source": [
    "## Expanding Period IRR\n",
    "\n",
    "Let's look at what the IRR is at each point in time where we have at least one positive value."
   ]
  },
  {
   "cell_type": "code",
   "execution_count": 28,
   "metadata": {},
   "outputs": [
    {
     "name": "stdout",
     "output_type": "stream",
     "text": [
      "1         NaN\n",
      "2         NaN\n",
      "3         NaN\n",
      "4   -0.160464\n",
      "5    0.039297\n",
      "6    0.150059\n",
      "7    0.263262\n",
      "8    0.294531\n",
      "dtype: float64\n"
     ]
    }
   ],
   "source": [
    "rolling_irr = distributions.loc['Distributions'] - distributions.loc['Capital Call']\n",
    "rolling_irr = rolling_irr.expanding().apply(lambda x: minimize(sq_distance, .05, args=(x.index, x), method=\"Nelder-Mead\")['x'][0] if max(x) > 0 else np.NaN)\n",
    "print(rolling_irr)"
   ]
  },
  {
   "cell_type": "markdown",
   "metadata": {},
   "source": [
    "## Benchmark IRR Performance Fee\n",
    "\n",
    "Another way to view define the performance fee is one where the fund will only get a performance fee on an IRR above a given benchmark. This ensures that the general partners have made at least a solid return before they have to pay for the performance fee. Let's begin with a basic example and see how this might work. Let's say the following are the capital calls (negative values) in the first three years, then the next two years are the total profits/distributions that need to be split."
   ]
  },
  {
   "cell_type": "code",
   "execution_count": 29,
   "metadata": {},
   "outputs": [
    {
     "name": "stdout",
     "output_type": "stream",
     "text": [
      "0    -400\n",
      "1    -300\n",
      "2    -300\n",
      "3     800\n",
      "4    1600\n",
      "dtype: int64\n"
     ]
    }
   ],
   "source": [
    "cash_flows = pd.Series([-400, -300, -300, 800, 1600])\n",
    "print(cash_flows)"
   ]
  },
  {
   "cell_type": "markdown",
   "metadata": {},
   "source": [
    "Before any performance fees, this IRR looks pretty good!"
   ]
  },
  {
   "cell_type": "code",
   "execution_count": 30,
   "metadata": {},
   "outputs": [
    {
     "name": "stdout",
     "output_type": "stream",
     "text": [
      "0.36175781250000116\n"
     ]
    }
   ],
   "source": [
    "IRR = minimize(sq_distance, .05, args=(cash_flows.index, cash_flows), method=\"Nelder-Mead\")['x'][0]\n",
    "print(IRR)"
   ]
  },
  {
   "cell_type": "markdown",
   "metadata": {},
   "source": [
    "Now, we also know that up until year 4, even if the performance fee has no benchmark to beat, it won't be collected because the total earned is still less than the capital called down. In the fifth year, we can get that performacne fee, so let's make a new version of net cash flows and update for the 20% of (2400-1000) that the fund gets."
   ]
  },
  {
   "cell_type": "code",
   "execution_count": 31,
   "metadata": {},
   "outputs": [
    {
     "name": "stdout",
     "output_type": "stream",
     "text": [
      "0    -400.0\n",
      "1    -300.0\n",
      "2    -300.0\n",
      "3     800.0\n",
      "4    1320.0\n",
      "dtype: float64\n"
     ]
    }
   ],
   "source": [
    "cash_flows_net = cash_flows.copy()\n",
    "cash_flows_net.loc[4] -= 1400 * .2\n",
    "print(cash_flows_net)"
   ]
  },
  {
   "cell_type": "markdown",
   "metadata": {},
   "source": [
    "What about the IRR after this performance fee?"
   ]
  },
  {
   "cell_type": "code",
   "execution_count": 32,
   "metadata": {},
   "outputs": [
    {
     "name": "stdout",
     "output_type": "stream",
     "text": [
      "0.3101464843750009\n"
     ]
    }
   ],
   "source": [
    "IRR = minimize(sq_distance, .05, args=(cash_flows.index, cash_flows_net), method=\"Nelder-Mead\")['x'][0]\n",
    "print(IRR)"
   ]
  },
  {
   "cell_type": "markdown",
   "metadata": {},
   "source": [
    "## Finding the NPV \n",
    "\n",
    "The first thing we are going to need to do for figuring out if a performance fee would be collected given a hurdle rate is to see what the NPV is. Let's say that our hurdle rate IRR is 10%. In this case, we know that the NPV using r=10% must be positive to collected a performance fee."
   ]
  },
  {
   "cell_type": "code",
   "execution_count": 33,
   "metadata": {},
   "outputs": [
    {
     "name": "stdout",
     "output_type": "stream",
     "text": [
      "773.2122122805815\n"
     ]
    }
   ],
   "source": [
    "NPV = (cash_flows / (1.1) ** cash_flows.index).sum()\n",
    "print(NPV)"
   ]
  },
  {
   "cell_type": "markdown",
   "metadata": {},
   "source": [
    "Becuase it is positive, we know that we will collect a fee! Now, if that fee is collected in the last year, we can't use the present value for figuring out what is left over to be collected on, we must use the future value. The future value (at year 4) of the NPV is...."
   ]
  },
  {
   "cell_type": "code",
   "execution_count": 34,
   "metadata": {},
   "outputs": [
    {
     "name": "stdout",
     "output_type": "stream",
     "text": [
      "1132.0599999999997\n"
     ]
    }
   ],
   "source": [
    "FV = NPV * 1.1 ** 4\n",
    "print(FV)"
   ]
  },
  {
   "cell_type": "markdown",
   "metadata": {},
   "source": [
    "So this means that $1132.05 in terms of future value, was earned over the expected benchmark return. We can create a series of data that takes out this future value to confirm that the cashflows less this future value lead to an IRR of 10%."
   ]
  },
  {
   "cell_type": "code",
   "execution_count": 35,
   "metadata": {},
   "outputs": [
    {
     "name": "stdout",
     "output_type": "stream",
     "text": [
      "0   -400.00\n",
      "1   -300.00\n",
      "2   -300.00\n",
      "3    800.00\n",
      "4    467.94\n",
      "dtype: float64\n"
     ]
    }
   ],
   "source": [
    "cash_flows_bench = cash_flows.copy()\n",
    "cash_flows_bench.loc[4] -= FV\n",
    "print(cash_flows_bench)"
   ]
  },
  {
   "cell_type": "code",
   "execution_count": 36,
   "metadata": {},
   "outputs": [
    {
     "name": "stdout",
     "output_type": "stream",
     "text": [
      "0.10000000000000017\n"
     ]
    }
   ],
   "source": [
    "IRR = minimize(sq_distance, .05, args=(cash_flows_bench.index, cash_flows_bench), method=\"Nelder-Mead\")['x'][0]\n",
    "print(IRR)"
   ]
  },
  {
   "cell_type": "markdown",
   "metadata": {},
   "source": [
    "So the net earnings are going to be the cashflows that get the investor to a 10% IRR followed plus 80% of the residual profits."
   ]
  },
  {
   "cell_type": "code",
   "execution_count": 37,
   "metadata": {},
   "outputs": [
    {
     "name": "stdout",
     "output_type": "stream",
     "text": [
      "0    -400.000\n",
      "1    -300.000\n",
      "2    -300.000\n",
      "3     800.000\n",
      "4    1373.588\n",
      "dtype: float64\n"
     ]
    }
   ],
   "source": [
    "cash_flows_net = cash_flows_bench.copy()\n",
    "cash_flows_net.loc[4] += FV * .8\n",
    "print(cash_flows_net)"
   ]
  },
  {
   "cell_type": "code",
   "execution_count": 38,
   "metadata": {},
   "outputs": [
    {
     "name": "stdout",
     "output_type": "stream",
     "text": [
      "0.3204736328125011\n"
     ]
    }
   ],
   "source": [
    "IRR = minimize(sq_distance, .05, args=(cash_flows_net.index, cash_flows_net), method=\"Nelder-Mead\")['x'][0]\n",
    "print(IRR)"
   ]
  },
  {
   "cell_type": "markdown",
   "metadata": {},
   "source": [
    "## Catch Up\n",
    "\n",
    "With a hurdle rate, there are sometimes provisions that the fund gets to catch up once the hurdle rate has been passed. What this means is that there are three areas for the returns:\n",
    "\n",
    "1. While the returns are below the benchmark returns, all profits are given to the limited partners.\n",
    "2. After the benchmark return has been reached, all profits are given to the general partners until they have \"caught up\" to what their proportional performance fee would have been.\n",
    "3. Any further profits are split based on the performance fee.\n",
    "\n",
    "The catch up will take the following form assuming that the distributions are greater than step 1 plus the catch up:\n",
    "\n",
    "$ C = \\frac{D_{1} * P}{1-P}$\n",
    "\n",
    "where\n",
    "\n",
    "$ C = \\text{Catch-up Value}$\n",
    "\n",
    "$ D_{1} = \\text{Distribution from step 1}$\n",
    "\n",
    "$ P = \\text{Performance Fee}$\n",
    "\n",
    "\n",
    "\n",
    "In the case that the total distributions are possibly less than the catch up we can modify it to say that it is the minimum of this value or whatever is left over after the hurdle rate.\n",
    "\n",
    "$ C = min(\\frac{D_{1} * P}{1-P}, D_{T} - D_{1})$\n",
    "\n",
    "where we add in\n",
    "\n",
    "$ D_{T} = \\text{Total distributions}$\n",
    "\n",
    "\n",
    "Let's work through the example again to show how this might differ."
   ]
  },
  {
   "cell_type": "markdown",
   "metadata": {},
   "source": [
    "Start with the benchmark returns once again."
   ]
  },
  {
   "cell_type": "code",
   "execution_count": 39,
   "metadata": {},
   "outputs": [
    {
     "name": "stdout",
     "output_type": "stream",
     "text": [
      "Total Cash Flows:\n",
      "0    -400\n",
      "1    -300\n",
      "2    -300\n",
      "3     800\n",
      "4    1600\n",
      "dtype: int64\n",
      "\n",
      "Cash Flows Allocated for Benchmark Return:\n",
      "0   -400.00\n",
      "1   -300.00\n",
      "2   -300.00\n",
      "3    800.00\n",
      "4    467.94\n",
      "dtype: float64\n",
      "\n",
      "Residual Cash Flows:\n",
      "0       0.00\n",
      "1       0.00\n",
      "2       0.00\n",
      "3       0.00\n",
      "4    1132.06\n",
      "dtype: float64\n"
     ]
    }
   ],
   "source": [
    "print(\"Total Cash Flows:\")\n",
    "print(cash_flows)\n",
    "print()\n",
    "NPV = (cash_flows / (1.1) ** cash_flows.index).sum()\n",
    "FV = NPV * 1.1 ** 4\n",
    "\n",
    "cash_flows_bench = cash_flows.copy()\n",
    "cash_flows_bench.loc[4] -= FV\n",
    "print(\"Cash Flows Allocated for Benchmark Return:\")\n",
    "print(cash_flows_bench)\n",
    "print()\n",
    "\n",
    "cash_flow_residual = cash_flows - cash_flows_bench\n",
    "print(\"Residual Cash Flows:\")\n",
    "print(cash_flow_residual)"
   ]
  },
  {
   "cell_type": "markdown",
   "metadata": {},
   "source": [
    "Now, let's see what the catch up amount needs to be."
   ]
  },
  {
   "cell_type": "code",
   "execution_count": 40,
   "metadata": {},
   "outputs": [
    {
     "name": "stdout",
     "output_type": "stream",
     "text": [
      "Step 1 Distributions:\n",
      "267.9400000000003\n",
      "\n",
      "Catch up:\n",
      "66.98500000000007\n",
      "\n",
      "Residual Cashflows After Catch Up:\n",
      "0       0.000\n",
      "1       0.000\n",
      "2       0.000\n",
      "3       0.000\n",
      "4    1065.075\n",
      "dtype: float64\n"
     ]
    }
   ],
   "source": [
    "d1 = cash_flows_bench.sum()\n",
    "print(\"Step 1 Distributions:\")\n",
    "print(d1)\n",
    "print()\n",
    "\n",
    "c = (d1 * .2) / .8\n",
    "print(\"Catch up:\")\n",
    "print(c)\n",
    "print()\n",
    "\n",
    "cash_flow_residual2 = cash_flow_residual.copy()\n",
    "cash_flow_residual2.loc[4] -= c\n",
    "print(\"Residual Cashflows After Catch Up:\")\n",
    "print(cash_flow_residual2)"
   ]
  },
  {
   "cell_type": "markdown",
   "metadata": {},
   "source": [
    "For the final step, the residual cash flows are split between the two investors based on the 20% performance fee. So we can construct the cash flows from this for both parties."
   ]
  },
  {
   "cell_type": "code",
   "execution_count": 41,
   "metadata": {},
   "outputs": [
    {
     "name": "stdout",
     "output_type": "stream",
     "text": [
      "Limited Partners Cashflows:\n",
      "0    -400.0\n",
      "1    -300.0\n",
      "2    -300.0\n",
      "3     800.0\n",
      "4    1320.0\n",
      "dtype: float64\n",
      "\n",
      "General Partners Cashflows:\n",
      "0      0.0\n",
      "1      0.0\n",
      "2      0.0\n",
      "3      0.0\n",
      "4    280.0\n",
      "dtype: float64\n",
      "\n"
     ]
    }
   ],
   "source": [
    "cash_flows_LP = cash_flows_bench + cash_flow_residual2 * .8\n",
    "cash_flows_GP = cash_flow_residual2 * .2\n",
    "cash_flows_GP.loc[4] += c\n",
    "\n",
    "print(\"Limited Partners Cashflows:\")\n",
    "print(cash_flows_LP)\n",
    "print()\n",
    "\n",
    "print(\"General Partners Cashflows:\")\n",
    "print(cash_flows_GP)\n",
    "print()"
   ]
  },
  {
   "cell_type": "markdown",
   "metadata": {},
   "source": [
    "And maybe we want to be checking to make sure that the cashflows are split 20%/80% at this point. In that case, the following checks will prove that."
   ]
  },
  {
   "cell_type": "code",
   "execution_count": 42,
   "metadata": {},
   "outputs": [
    {
     "name": "stdout",
     "output_type": "stream",
     "text": [
      "1120.0\n",
      "280.0\n",
      "0.2\n"
     ]
    }
   ],
   "source": [
    "print(cash_flows_LP.sum())\n",
    "print(cash_flows_GP.sum())\n",
    "print(cash_flows_GP.sum() / (cash_flows_LP.sum() + cash_flows_GP.sum()))"
   ]
  },
  {
   "cell_type": "markdown",
   "metadata": {},
   "source": [
    "## Comparing Performance Fee Structures\n",
    "\n",
    "In the following part of the lesson we will construct a function that can handle all types of performance fees for us and find the IRR for the limited partner. We will work through one piece at a time to come up with the final function."
   ]
  },
  {
   "cell_type": "markdown",
   "metadata": {},
   "source": [
    "Start with a simple performance fee that we will assume is only taken out at the end of the fund life. For this, we just need to find the net cashflows, and if they are positive, subtract out the performance fee for the fund. We will set the hurdle rate to be None by default and catch_up to false."
   ]
  },
  {
   "cell_type": "code",
   "execution_count": 43,
   "metadata": {},
   "outputs": [],
   "source": [
    "def find_net_IRR(cash_flows, performance_fee, hurdle_rate=None, catch_up=False):\n",
    "    #Copy over the cash flows\n",
    "    cash_flows_net = cash_flows.copy()\n",
    "    \n",
    "    if hurdle_rate is None:\n",
    "        #Get the total distributions only if positive for the performance fee\n",
    "        gp_share = max(0, cash_flows_net.sum()) * performance_fee\n",
    "        \n",
    "        #Subtract out the general partner share from the cash flows\n",
    "        cash_flows_net.iloc[-1] -= gp_share\n",
    "    else:\n",
    "        assert False, \"Not implemented yet\"\n",
    "    \n",
    "    #Compute the IRR\n",
    "    IRR = minimize(sq_distance, -.2, args=(cash_flows_net.index, cash_flows_net), method=\"Nelder-Mead\")['x'][0]\n",
    "    \n",
    "    return IRR"
   ]
  },
  {
   "cell_type": "markdown",
   "metadata": {},
   "source": [
    "We also will define scenarios where we take the positive cash flows and multiply them by a few different multipliers to simulate possible scenarios."
   ]
  },
  {
   "cell_type": "code",
   "execution_count": 44,
   "metadata": {},
   "outputs": [
    {
     "name": "stdout",
     "output_type": "stream",
     "text": [
      "[0   -400.000000\n",
      "1   -300.000000\n",
      "2   -300.000000\n",
      "3     66.666667\n",
      "4    133.333333\n",
      "dtype: float64, 0   -400.0\n",
      "1   -300.0\n",
      "2   -300.0\n",
      "3    100.0\n",
      "4    200.0\n",
      "dtype: float64]\n"
     ]
    }
   ],
   "source": [
    "#Find a range of cash flows\n",
    "x_cf = [pd.concat([cash_flows[:3], cash_flows[3:] * i/24]) for i in range(2, 49)]\n",
    "\n",
    "#Print out the first two as an example\n",
    "print(x_cf[:2])"
   ]
  },
  {
   "cell_type": "markdown",
   "metadata": {},
   "source": [
    "We also want to see what the IRR before performance fee will be in these cases. I set the best guess to -20% because it ensures the optimization converges correctly."
   ]
  },
  {
   "cell_type": "code",
   "execution_count": 45,
   "metadata": {},
   "outputs": [
    {
     "name": "stdout",
     "output_type": "stream",
     "text": [
      "[-0.459223632812501, -0.3643530273437506, -0.2891796875000003, -0.2260351562500001, -0.17111328125000008, -0.12223632812500017, -0.07800781250000023, -0.03749023437500032, -3.885780586188048e-16, 0.03495117187499955, 0.06773437499999947, 0.09866210937499942, 0.12795898437499936, 0.15583007812499927, 0.1824218749999993, 0.20788085937499923, 0.23230468749999916, 0.25579101562499906, 0.278417968749999, 0.300283203124999, 0.321425781249999, 0.3418994140624989, 0.36175781249999894, 0.3810546874999989, 0.39980468749999887, 0.4180664062499988, 0.4358593749999988, 0.45320312499999876, 0.47013671874999874, 0.48668945312499867, 0.5028710937499985, 0.5186914062499988, 0.5341796874999987, 0.5493554687499984, 0.5642382812499984, 0.5788281249999985, 0.5931445312499986, 0.6072070312499986, 0.6210058593749985, 0.6345800781249984, 0.6479199218749985, 0.6610156249999983, 0.6739453124999983, 0.6866503906249986, 0.6991503906249983, 0.7114648437499982, 0.7235937499999981]\n"
     ]
    }
   ],
   "source": [
    "#Find the IRR for pre performance fee\n",
    "IRR_pre = [minimize(sq_distance, -.2, args=(x.index, x), method=\"Nelder-Mead\")['x'][0] for x in x_cf]\n",
    "print(IRR_pre)"
   ]
  },
  {
   "cell_type": "markdown",
   "metadata": {},
   "source": [
    "Now to compute the net IRR we use our newly created function."
   ]
  },
  {
   "cell_type": "code",
   "execution_count": 46,
   "metadata": {},
   "outputs": [
    {
     "name": "stdout",
     "output_type": "stream",
     "text": [
      "[-0.459223632812501, -0.3643530273437506, -0.2891796875000003, -0.2260351562500001, -0.17111328125000008, -0.12223632812500017, -0.07800781250000023, -0.03749023437500032, -3.885780586188048e-16, 0.02820312499999956, 0.0550976562499995, 0.08080566406249948, 0.10545410156249943, 0.12914062499999934, 0.1519531249999993, 0.17395507812499927, 0.19522949218749924, 0.21582031249999917, 0.23578124999999914, 0.2551562499999991, 0.27398437499999917, 0.29230468749999905, 0.31014648437499903, 0.327539062499999, 0.344511718749999, 0.361083984374999, 0.37727539062499893, 0.39312499999999895, 0.40863281249999883, 0.4238037109374988, 0.4386816406249988, 0.45326171874999877, 0.46757812499999873, 0.48162109374999873, 0.4954199218749986, 0.5089648437499987, 0.5222851562499986, 0.5353906249999986, 0.5482617187499985, 0.5609374999999985, 0.5733984374999985, 0.5857031249999985, 0.5978124999999985, 0.6097363281249986, 0.6214941406249985, 0.6330859374999984, 0.6445214843749985]\n"
     ]
    }
   ],
   "source": [
    "#Find the IRR for post performance fee\n",
    "IRR_post = [find_net_IRR(cf, .2) for cf in x_cf]\n",
    "print(IRR_post)"
   ]
  },
  {
   "cell_type": "code",
   "execution_count": 47,
   "metadata": {},
   "outputs": [
    {
     "data": {
      "image/png": "[encoded data removed]",
      "text/plain": [
       "<Figure size 691.2x518.4 with 1 Axes>"
      ]
     },
     "metadata": {
      "needs_background": "light"
     },
     "output_type": "display_data"
    }
   ],
   "source": [
    "#Plot the pre vs. post IRR\n",
    "plt.plot(IRR_pre, IRR_pre, color='grey', linestyle='--')\n",
    "plt.plot(IRR_pre, IRR_post, color='black')\n",
    "plt.legend(['Gross IRR', 'Net IRR'])\n",
    "plt.xlabel(\"Gross IRR\")\n",
    "plt.ylabel(\"IRR\")\n",
    "plt.show()"
   ]
  },
  {
   "cell_type": "markdown",
   "metadata": {},
   "source": [
    "Now to add in the code that takes care of the case where we don't have a catch up but we do have a hurdle rate."
   ]
  },
  {
   "cell_type": "code",
   "execution_count": 48,
   "metadata": {},
   "outputs": [],
   "source": [
    "def find_net_IRR(cash_flows, performance_fee, hurdle_rate=None, catch_up=False):\n",
    "    #Copy over the cash flows\n",
    "    cash_flows_net = cash_flows.copy()\n",
    "    \n",
    "    if hurdle_rate is None:\n",
    "        \n",
    "        #Get the total distributions only if positive for the performance fee\n",
    "        gp_share = max(0, cash_flows_net.sum()) * performance_fee\n",
    "        \n",
    "        #Subtract out the general partner share from the cash flows\n",
    "        cash_flows_net.iloc[-1] -= gp_share\n",
    "    else:\n",
    "        #Find the NPV given the hurdle rate\n",
    "        NPV = (cash_flows / (1+hurdle_rate) ** cash_flows.index).sum()\n",
    "        \n",
    "        #A negative NPV means no performance fee will be taken\n",
    "        if NPV < 0:\n",
    "            pass\n",
    "        else:\n",
    "            #Find the future value of the NPV\n",
    "            FV = NPV * (1+hurdle_rate) ** cash_flows_net.index[-1]\n",
    "            \n",
    "            #Subtract the future value from the last year\n",
    "            cash_flows_net.iloc[-1] -= FV\n",
    "            \n",
    "            if catch_up:\n",
    "                assert False, \"Not implemented yet\"\n",
    "            else:\n",
    "                cash_flows_net.iloc[-1] += FV * (1-performance_fee)\n",
    "            \n",
    "    \n",
    "    #Compute the IRR\n",
    "    IRR = minimize(sq_distance, -.2, args=(cash_flows_net.index, cash_flows_net), method=\"Nelder-Mead\")['x'][0]\n",
    "    \n",
    "    return IRR"
   ]
  },
  {
   "cell_type": "markdown",
   "metadata": {},
   "source": [
    "These first graph shows the different IRRs and the second graph shows the differential between the two IRRs at different gross IRRs. You'll notice how at first they are the same but then diverge."
   ]
  },
  {
   "cell_type": "code",
   "execution_count": 49,
   "metadata": {},
   "outputs": [
    {
     "data": {
      "image/png": "[encoded data removed]",
      "text/plain": [
       "<Figure size 691.2x518.4 with 1 Axes>"
      ]
     },
     "metadata": {
      "needs_background": "light"
     },
     "output_type": "display_data"
    }
   ],
   "source": [
    "#Find the IRR with no hurdle rate\n",
    "IRR_post1 = [find_net_IRR(cf, .2) for cf in x_cf]\n",
    "\n",
    "#Find the IRR with a 10% hurdle rate\n",
    "IRR_post2 = [find_net_IRR(cf, .2, hurdle_rate=.1) for cf in x_cf]\n",
    "\n",
    "plt.plot(IRR_pre, IRR_pre, color='grey', linestyle='--')\n",
    "plt.plot(IRR_pre, IRR_post1, color='blue')\n",
    "plt.plot(IRR_pre, IRR_post2, color='red')\n",
    "plt.legend(['Gross IRR', 'Net IRR No Hurdle', 'Net IRR 10% Hurdle'])\n",
    "plt.xlabel(\"Gross IRR\")\n",
    "plt.ylabel(\"IRR\")\n",
    "plt.show()"
   ]
  },
  {
   "cell_type": "code",
   "execution_count": 50,
   "metadata": {},
   "outputs": [
    {
     "data": {
      "image/png": "[encoded data removed]",
      "text/plain": [
       "<Figure size 691.2x518.4 with 1 Axes>"
      ]
     },
     "metadata": {
      "needs_background": "light"
     },
     "output_type": "display_data"
    }
   ],
   "source": [
    "difference = [x-y for x,y in zip(IRR_post1, IRR_post2)]\n",
    "\n",
    "plt.axhline(0, color='grey', linestyle=\"--\")\n",
    "plt.plot(IRR_pre, difference, color='black')\n",
    "plt.title(\"Differential Between IRR1 and IRR2\")\n",
    "plt.xlabel(\"Gross IRR\")\n",
    "plt.ylabel(\"IRR\")\n",
    "plt.show()"
   ]
  },
  {
   "cell_type": "markdown",
   "metadata": {},
   "source": [
    "Let's look at a few more examples!"
   ]
  },
  {
   "cell_type": "code",
   "execution_count": 51,
   "metadata": {},
   "outputs": [],
   "source": [
    "def find_net_IRR(cash_flows, performance_fee, hurdle_rate=None, catch_up=False):\n",
    "    #Copy over the cash flows\n",
    "    cash_flows_net = cash_flows.copy()\n",
    "    \n",
    "    if hurdle_rate is None:\n",
    "        \n",
    "        #Get the total distributions only if positive for the performance fee\n",
    "        gp_share = max(0, cash_flows_net.sum()) * performance_fee\n",
    "        \n",
    "        #Subtract out the general partner share from the cash flows\n",
    "        cash_flows_net.iloc[-1] -= gp_share\n",
    "    else:\n",
    "        #Find the NPV given the hurdle rate\n",
    "        NPV = (cash_flows / (1+hurdle_rate) ** cash_flows.index).sum()\n",
    "        \n",
    "        #A negative NPV means no performance fee will be taken\n",
    "        if NPV < 0:\n",
    "            pass\n",
    "        else:\n",
    "            #Find the future value of the NPV\n",
    "            FV = NPV * (1+hurdle_rate) ** cash_flows_net.index[-1]\n",
    "            \n",
    "            #Subtract the future value from the last year\n",
    "            cash_flows_net.iloc[-1] -= FV\n",
    "            \n",
    "            if catch_up:\n",
    "                #Find the maximum of what the catch up can be\n",
    "                c = (cash_flows_net.sum() * performance_fee) / (1- performance_fee)\n",
    "                \n",
    "                #If the FV is less than the catch up, all this profit goes to the GP\n",
    "                if FV < c:\n",
    "                    pass\n",
    "                else:\n",
    "                    #Allocate all profit after the catch up fee given the performance fee share\n",
    "                    FV -= c\n",
    "                    cash_flows_net.iloc[-1] += FV * (1-performance_fee)\n",
    "                \n",
    "            else:\n",
    "                cash_flows_net.iloc[-1] += FV * (1-performance_fee)\n",
    "            \n",
    "    \n",
    "    #Compute the IRR\n",
    "    IRR = minimize(sq_distance, -.2, args=(cash_flows_net.index, cash_flows_net), method=\"Nelder-Mead\")['x'][0]\n",
    "    \n",
    "    return IRR"
   ]
  },
  {
   "cell_type": "code",
   "execution_count": 52,
   "metadata": {},
   "outputs": [
    {
     "data": {
      "image/png": "[encoded data removed]",
      "text/plain": [
       "<Figure size 691.2x518.4 with 1 Axes>"
      ]
     },
     "metadata": {
      "needs_background": "light"
     },
     "output_type": "display_data"
    }
   ],
   "source": [
    "#Find the IRR with no hurdle rate\n",
    "IRR_post1 = [find_net_IRR(cf, .2) for cf in x_cf]\n",
    "\n",
    "#Find the IRR with a 10% hurdle rate\n",
    "IRR_post2 = [find_net_IRR(cf, .2, hurdle_rate=.1) for cf in x_cf]\n",
    "\n",
    "#Find the IRR with a 10% hurdle rate and a catch up\n",
    "IRR_post3 = [find_net_IRR(cf, .2, hurdle_rate=.1, catch_up=True) for cf in x_cf]\n",
    "\n",
    "plt.plot(IRR_pre, IRR_pre, color='grey', linestyle='--')\n",
    "plt.plot(IRR_pre, IRR_post1, color='blue')\n",
    "plt.plot(IRR_pre, IRR_post2, color='red')\n",
    "plt.plot(IRR_pre, IRR_post3, color='green')\n",
    "plt.legend(['Gross IRR', 'Net IRR No Hurdle', 'Net IRR 10% Hurdle', 'Net IRR 10% Hurdle w/ Catch-Up'])\n",
    "plt.xlabel(\"Gross IRR\")\n",
    "plt.ylabel(\"IRR\")\n",
    "plt.show()"
   ]
  },
  {
   "cell_type": "code",
   "execution_count": 53,
   "metadata": {},
   "outputs": [
    {
     "data": {
      "image/png": "[encoded data removed]",
      "text/plain": [
       "<Figure size 691.2x518.4 with 1 Axes>"
      ]
     },
     "metadata": {
      "needs_background": "light"
     },
     "output_type": "display_data"
    }
   ],
   "source": [
    "#Differences between IRRs\n",
    "difference1 = [x-y for x,y in zip(IRR_post1, IRR_post2)]\n",
    "difference2 = [x-y for x,y in zip(IRR_post1, IRR_post3)]\n",
    "\n",
    "plt.axhline(0, color='grey', linestyle=\"--\")\n",
    "plt.plot(IRR_pre, difference1, color='red', label=\"IRR1 - IRR2\")\n",
    "plt.plot(IRR_pre, difference2, color='green', label=\"IRR1 - IRR3\")\n",
    "plt.xlabel(\"Gross IRR\")\n",
    "plt.ylabel(\"IRR\")\n",
    "plt.legend()\n",
    "plt.show()"
   ]
  },
  {
   "cell_type": "code",
   "execution_count": 54,
   "metadata": {},
   "outputs": [
    {
     "data": {
      "image/png": "[encoded data removed]",
      "text/plain": [
       "<Figure size 691.2x518.4 with 1 Axes>"
      ]
     },
     "metadata": {
      "needs_background": "light"
     },
     "output_type": "display_data"
    }
   ],
   "source": [
    "IRR_post1 = [find_net_IRR(cf, .1,) for cf in x_cf]\n",
    "IRR_post2 = [find_net_IRR(cf, .2, hurdle_rate=.15) for cf in x_cf]\n",
    "\n",
    "plt.plot(IRR_pre, IRR_pre, color='grey', linestyle='--')\n",
    "plt.plot(IRR_pre, IRR_post1, color='blue')\n",
    "plt.plot(IRR_pre, IRR_post2, color='red')\n",
    "plt.legend(['Gross IRR', 'Net IRR No Hurdle-10% PF', 'Net IRR 15% Hurdle-20% PF'])\n",
    "plt.xlabel(\"Gross IRR\")\n",
    "plt.ylabel(\"IRR\")\n",
    "plt.show()"
   ]
  }
 ],
 "metadata": {
  "kernelspec": {
   "display_name": "Python 3",
   "language": "python",
   "name": "python3"
  },
  "language_info": {
   "codemirror_mode": {
    "name": "ipython",
    "version": 3
   },
   "file_extension": ".py",
   "mimetype": "text/x-python",
   "name": "python",
   "nbconvert_exporter": "python",
   "pygments_lexer": "ipython3",
   "version": "3.8.3"
  }
 },
 "nbformat": 4,
 "nbformat_minor": 4
}
