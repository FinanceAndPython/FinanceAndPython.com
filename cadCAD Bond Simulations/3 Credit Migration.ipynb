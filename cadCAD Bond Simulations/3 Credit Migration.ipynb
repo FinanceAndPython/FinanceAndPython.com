{
 "cells": [
  {
   "cell_type": "code",
   "execution_count": 1,
   "metadata": {},
   "outputs": [
    {
     "name": "stdout",
     "output_type": "stream",
     "text": [
      "0     AAA\n",
      "1     AAA\n",
      "2     AAA\n",
      "3     AAA\n",
      "4     AAA\n",
      "5     AAA\n",
      "6     AAA\n",
      "7     AAA\n",
      "8     AAA\n",
      "9     AAA\n",
      "10     AA\n",
      "11     AA\n",
      "12     AA\n",
      "13     AA\n",
      "14     AA\n",
      "15     AA\n",
      "16     AA\n",
      "17     AA\n",
      "18     AA\n",
      "19     AA\n",
      "20      A\n",
      "21      A\n",
      "22      A\n",
      "23      A\n",
      "24      A\n",
      "25      A\n",
      "26      A\n",
      "27      A\n",
      "28      A\n",
      "29      A\n",
      "dtype: object\n"
     ]
    }
   ],
   "source": [
    "import pandas as pd\n",
    "import numpy as np\n",
    "\n",
    "portfolio = pd.Series([\"AAA\"]*10+[\"AA\"]*10+[\"A\"]*10)\n",
    "print(portfolio)"
   ]
  },
  {
   "cell_type": "code",
   "execution_count": 2,
   "metadata": {},
   "outputs": [
    {
     "name": "stdout",
     "output_type": "stream",
     "text": [
      "            AAA      AA       A     BBB      BB       B     CCC  Default\n",
      "AAA      0.9081  0.0833  0.0068  0.0006  0.0012  0.0000  0.0000   0.0000\n",
      "AA       0.0070  0.9065  0.0779  0.0064  0.0006  0.0014  0.0002   0.0000\n",
      "A        0.0009  0.0227  0.9105  0.0552  0.0074  0.0026  0.0001   0.0006\n",
      "BBB      0.0002  0.0033  0.0595  0.8693  0.0530  0.0117  0.0012   0.0018\n",
      "BB       0.0003  0.0014  0.0067  0.0773  0.8053  0.0884  0.0100   0.0106\n",
      "B        0.0000  0.0011  0.0024  0.0043  0.0648  0.8346  0.0407   0.0521\n",
      "CCC      0.0022  0.0000  0.0022  0.0130  0.0238  0.1124  0.6486   0.1978\n",
      "Default  0.0000  0.0000  0.0000  0.0000  0.0000  0.0000  0.0000   1.0000\n"
     ]
    }
   ],
   "source": [
    "#Credit transition matrix (yearly) from: https://www.msci.com/documents/10199/93396227-d449-4229-9143-24a94dab122f\n",
    "transition_matrix = pd.DataFrame([[.9081, .0833,.0068,.0006,.0012,0,0,0],\n",
    "                                 [.0070,.9065,.0779,.0064,.0006,.0014,.0002,0],\n",
    "                                 [.0009,.0227,.9105,.0552,.0074,.0026,.0001,.0006],\n",
    "                                 [.0002, .0033, .0595, .8693, .0530,.0117,.0012,.0018],\n",
    "                                 [.0003, .0014,.0067,.0773,.8053,.0884, .0100, .0106],\n",
    "                                 [0, .0011, .0024, .0043, .0648, .8346, .0407, .0521],\n",
    "                                 [.0022, 0, .0022, .0130, .0238, .1124, .6486, .1978],\n",
    "                                 [0,0,0,0,0,0,0,1]],\n",
    "                                 index=[\"AAA\", \"AA\", \"A\", \"BBB\", \"BB\", \"B\", \"CCC\", \"Default\"],\n",
    "                                columns=[\"AAA\", \"AA\", \"A\", \"BBB\", \"BB\", \"B\", \"CCC\", \"Default\"])\n",
    "print(transition_matrix)"
   ]
  },
  {
   "cell_type": "code",
   "execution_count": 3,
   "metadata": {},
   "outputs": [
    {
     "name": "stdout",
     "output_type": "stream",
     "text": [
      "AAA        0.9081\n",
      "AA         0.0833\n",
      "A          0.0068\n",
      "BBB        0.0006\n",
      "BB         0.0012\n",
      "B          0.0000\n",
      "CCC        0.0000\n",
      "Default    0.0000\n",
      "Name: AAA, dtype: float64\n"
     ]
    }
   ],
   "source": [
    "#Probabilities for state AAA\n",
    "print(transition_matrix.loc['AAA'])"
   ]
  },
  {
   "cell_type": "code",
   "execution_count": 4,
   "metadata": {},
   "outputs": [
    {
     "name": "stdout",
     "output_type": "stream",
     "text": [
      "AAA\n",
      "AAA\n",
      "AAA\n",
      "AAA\n",
      "AA\n",
      "AAA\n",
      "AAA\n",
      "AAA\n",
      "AAA\n",
      "AAA\n",
      "\n",
      "\n",
      "A\n",
      "A\n",
      "A\n",
      "A\n",
      "A\n",
      "A\n",
      "A\n",
      "A\n",
      "A\n",
      "A\n"
     ]
    }
   ],
   "source": [
    "#Get the random move\n",
    "for _ in range(10):\n",
    "    print(np.random.RandomState().choice(transition_matrix.index, p=transition_matrix.loc[\"AAA\"].values))\n",
    "print()\n",
    "print()\n",
    "for _ in range(10):\n",
    "    print(np.random.RandomState().choice(transition_matrix.index, p=transition_matrix.loc[\"A\"].values))"
   ]
  },
  {
   "cell_type": "code",
   "execution_count": 5,
   "metadata": {},
   "outputs": [],
   "source": [
    "#Set initial portfolio of bond's with credit ratings\n",
    "initial_state = {\n",
    "    'portfolio': portfolio,\n",
    "    'default': 0\n",
    "}"
   ]
  },
  {
   "cell_type": "code",
   "execution_count": 6,
   "metadata": {},
   "outputs": [],
   "source": [
    "#Function to transition the matrix randomly\n",
    "def credit_migration(_params, substep, sH, s):\n",
    "    new_ratings = s['portfolio'].map(lambda x: np.random.RandomState().choice(\n",
    "  transition_matrix.index, \n",
    "  p=transition_matrix.loc[x].values))\n",
    "    return {\"ratings\": new_ratings}\n",
    "\n",
    "#Update the ratings    \n",
    "def update_portfolio(_params, substep, sH, s, _input):\n",
    "    return ('portfolio', _input['ratings'])"
   ]
  },
  {
   "cell_type": "code",
   "execution_count": 7,
   "metadata": {},
   "outputs": [],
   "source": [
    "#Function to value the portfolio, for now just finding default %\n",
    "def value_portfolio(_params, substep, sH, s):\n",
    "    return {\"default\": (s['portfolio'] == \"Default\").sum() / len(s['portfolio'])}\n",
    "\n",
    "#Update the value\n",
    "def update_value(_params, substep, sH, s, _input):\n",
    "    return ('default', _input['default'])"
   ]
  },
  {
   "cell_type": "code",
   "execution_count": 8,
   "metadata": {},
   "outputs": [],
   "source": [
    "#Create partial updates\n",
    "PSUBs = [\n",
    "    {\n",
    "        \"policies\": {\n",
    "            \"migration_policy\": credit_migration,\n",
    "        },\n",
    "        \"variables\": {\n",
    "            \"portfolio\": update_portfolio,\n",
    "        }\n",
    "    },\n",
    "        {\n",
    "        \"policies\": {\n",
    "            \"valuation_policy\": value_portfolio,\n",
    "        },\n",
    "        \"variables\": {\n",
    "            \"default\": update_value,\n",
    "        }\n",
    "    }\n",
    "]"
   ]
  },
  {
   "cell_type": "code",
   "execution_count": 9,
   "metadata": {},
   "outputs": [
    {
     "name": "stdout",
     "output_type": "stream",
     "text": [
      "\n",
      "                  ___________    ____\n",
      "  ________ __ ___/ / ____/   |  / __ \\\n",
      " / ___/ __` / __  / /   / /| | / / / /\n",
      "/ /__/ /_/ / /_/ / /___/ ___ |/ /_/ /\n",
      "\\___/\\__,_/\\__,_/\\____/_/  |_/_____/\n",
      "by cadCAD\n",
      "\n",
      "Execution Mode: single_proc\n",
      "Configuration Count: 1\n",
      "Dimensions of the first simulation: (Timesteps, Params, Runs, Vars) = (30, 1, 50, 2)\n",
      "Execution Method: parallelize_simulations\n",
      "SimIDs   : [0, 0, 0, 0, 0, 0, 0, 0, 0, 0, 0, 0, 0, 0, 0, 0, 0, 0, 0, 0, 0, 0, 0, 0, 0, 0, 0, 0, 0, 0, 0, 0, 0, 0, 0, 0, 0, 0, 0, 0, 0, 0, 0, 0, 0, 0, 0, 0, 0, 0]\n",
      "SubsetIDs: [0, 0, 0, 0, 0, 0, 0, 0, 0, 0, 0, 0, 0, 0, 0, 0, 0, 0, 0, 0, 0, 0, 0, 0, 0, 0, 0, 0, 0, 0, 0, 0, 0, 0, 0, 0, 0, 0, 0, 0, 0, 0, 0, 0, 0, 0, 0, 0, 0, 0]\n",
      "Ns       : [0, 1, 2, 3, 4, 5, 6, 7, 8, 9, 10, 11, 12, 13, 14, 15, 16, 17, 18, 19, 20, 21, 22, 23, 24, 25, 26, 27, 28, 29, 30, 31, 32, 33, 34, 35, 36, 37, 38, 39, 40, 41, 42, 43, 44, 45, 46, 47, 48, 49]\n",
      "ExpIDs   : [0, 0, 0, 0, 0, 0, 0, 0, 0, 0, 0, 0, 0, 0, 0, 0, 0, 0, 0, 0, 0, 0, 0, 0, 0, 0, 0, 0, 0, 0, 0, 0, 0, 0, 0, 0, 0, 0, 0, 0, 0, 0, 0, 0, 0, 0, 0, 0, 0, 0]\n",
      "Total execution time: 12.60s\n"
     ]
    }
   ],
   "source": [
    "#Set parameters for 50 runs over 30 years\n",
    "from cadCAD.configuration.utils import config_sim\n",
    "\n",
    "sim_config_dict = {\n",
    "    'T': range(30),\n",
    "    'N': 50}\n",
    "c = config_sim(sim_config_dict)\n",
    "\n",
    "#Create experiment\n",
    "from cadCAD.configuration import Experiment\n",
    "\n",
    "exp = Experiment()\n",
    "exp.append_configs(\n",
    "    initial_state = initial_state,\n",
    "    partial_state_update_blocks = PSUBs,\n",
    "    sim_configs = c\n",
    ")\n",
    "\n",
    "from cadCAD.engine import ExecutionMode, ExecutionContext, Executor\n",
    "from cadCAD import configs\n",
    "\n",
    "#Execute!\n",
    "exec_mode = ExecutionMode()\n",
    "local_mode_ctx = ExecutionContext(context=exec_mode.single_mode)\n",
    "simulation = Executor(exec_context=local_mode_ctx, configs=configs)\n",
    "raw_result, field, sessions = simulation.execute()\n",
    "result = pd.DataFrame(raw_result)"
   ]
  },
  {
   "cell_type": "code",
   "execution_count": 10,
   "metadata": {},
   "outputs": [
    {
     "data": {
      "image/png": "[encoded data removed]",
      "text/plain": [
       "<Figure size 432x288 with 1 Axes>"
      ]
     },
     "metadata": {
      "needs_background": "light"
     },
     "output_type": "display_data"
    }
   ],
   "source": [
    "import matplotlib.pyplot as plt\n",
    "\n",
    "#Plot the first 5 default rates\n",
    "default_rates = result[result['substep'] == 2].pivot('timestep', 'run', 'default')\n",
    "default_rates.iloc[:,:10].plot(kind='line')\n",
    "plt.xlabel(\"Year\")\n",
    "plt.ylabel(\"Perfect Defaulted\")\n",
    "plt.title(\"Credit Migration\")\n",
    "plt.show()"
   ]
  },
  {
   "cell_type": "code",
   "execution_count": 11,
   "metadata": {},
   "outputs": [
    {
     "data": {
      "image/png": "[encoded data removed]",
      "text/plain": [
       "<Figure size 432x288 with 1 Axes>"
      ]
     },
     "metadata": {
      "needs_background": "light"
     },
     "output_type": "display_data"
    }
   ],
   "source": [
    "#Find the average default rate across simulations\n",
    "result[result['substep'] == 2].groupby(\"timestep\")['default'].mean().plot(kind='line')\n",
    "plt.xlabel(\"Year\")\n",
    "plt.ylabel(\"Percent Defaulted\")\n",
    "plt.title(\"Credit Migration (Average)\")\n",
    "plt.show()"
   ]
  },
  {
   "cell_type": "code",
   "execution_count": 12,
   "metadata": {},
   "outputs": [
    {
     "name": "stdout",
     "output_type": "stream",
     "text": [
      "0     0.000000\n",
      "1     0.000200\n",
      "2     0.000558\n",
      "3     0.001107\n",
      "4     0.001875\n",
      "5     0.002885\n",
      "6     0.004154\n",
      "7     0.005697\n",
      "8     0.007524\n",
      "9     0.009641\n",
      "10    0.012051\n",
      "11    0.014756\n",
      "12    0.017754\n",
      "13    0.021042\n",
      "14    0.024615\n",
      "15    0.028466\n",
      "16    0.032587\n",
      "17    0.036971\n",
      "18    0.041607\n",
      "19    0.046486\n",
      "20    0.051597\n",
      "21    0.056930\n",
      "22    0.062474\n",
      "23    0.068217\n",
      "24    0.074149\n",
      "25    0.080258\n",
      "26    0.086534\n",
      "27    0.092965\n",
      "28    0.099541\n",
      "29    0.106251\n",
      "30    0.113085\n",
      "dtype: float64\n"
     ]
    }
   ],
   "source": [
    "#Find the predicted default rate based on markov chain\n",
    "transition_matrices = [pd.DataFrame(np.diag([1]*8),index=transition_matrix.index, columns=transition_matrix.columns)]\n",
    "for _ in range(30):\n",
    "    transition_matrices.append(transition_matrices[-1].dot(transition_matrix))\n",
    "    \n",
    "predicted = pd.Series([1/3, 1/3, 1/3, 0, 0, 0, 0, 0], index=transition_matrix.index)\n",
    "predicted = pd.Series([predicted.dot(x)['Default'] for x in transition_matrices],index=list(range(31)))\n",
    "print(predicted)"
   ]
  },
  {
   "cell_type": "code",
   "execution_count": 13,
   "metadata": {},
   "outputs": [
    {
     "data": {
      "image/png": "[encoded data removed]",
      "text/plain": [
       "<Figure size 432x288 with 1 Axes>"
      ]
     },
     "metadata": {
      "needs_background": "light"
     },
     "output_type": "display_data"
    }
   ],
   "source": [
    "result[result['substep'] == 2].groupby(\"timestep\")['default'].mean().plot(kind='line')\n",
    "predicted.plot(kind='line')\n",
    "plt.xlabel(\"Year\")\n",
    "plt.ylabel(\"Percent Defaulted\")\n",
    "plt.title(\"Credit Migration (Average)\")\n",
    "plt.legend(['Simulated', 'Predicted'])\n",
    "plt.show()"
   ]
  },
  {
   "cell_type": "code",
   "execution_count": 14,
   "metadata": {},
   "outputs": [],
   "source": [
    "#Convert to monthly transition matrix\n",
    "u, V = np.linalg.eig(transition_matrix)\n",
    "P = V\n",
    "D = np.diag(u)\n",
    "transition_matrix_monthly = pd.DataFrame(P.dot(D ** (1/12)).dot(np.linalg.inv(P)),\n",
    "                                        index=[\"AAA\", \"AA\", \"A\", \"BBB\", \"BB\", \"B\", \"CCC\", \"Default\"],\n",
    "                                columns=[\"AAA\", \"AA\", \"A\", \"BBB\", \"BB\", \"B\", \"CCC\", \"Default\"])\n",
    "\n",
    "#Get rid of the rounding error negative numbers\n",
    "transition_matrix_monthly = transition_matrix_monthly.clip(0)\n",
    "#Renormalize\n",
    "transition_matrix_monthly = transition_matrix_monthly.multiply(1/transition_matrix_monthly.sum(axis=1), axis=0)"
   ]
  },
  {
   "cell_type": "code",
   "execution_count": 15,
   "metadata": {},
   "outputs": [],
   "source": [
    "import pathos\n",
    "pathos.helpers.shutdown()\n",
    "configs.clear()"
   ]
  },
  {
   "cell_type": "code",
   "execution_count": null,
   "metadata": {},
   "outputs": [
    {
     "name": "stdout",
     "output_type": "stream",
     "text": [
      "\n",
      "                  ___________    ____\n",
      "  ________ __ ___/ / ____/   |  / __ \\\n",
      " / ___/ __` / __  / /   / /| | / / / /\n",
      "/ /__/ /_/ / /_/ / /___/ ___ |/ /_/ /\n",
      "\\___/\\__,_/\\__,_/\\____/_/  |_/_____/\n",
      "by cadCAD\n",
      "\n",
      "Execution Mode: single_proc\n",
      "Configuration Count: 1\n",
      "Dimensions of the first simulation: (Timesteps, Params, Runs, Vars) = (360, 1, 50, 2)\n",
      "Execution Method: parallelize_simulations\n",
      "SimIDs   : [0, 0, 0, 0, 0, 0, 0, 0, 0, 0, 0, 0, 0, 0, 0, 0, 0, 0, 0, 0, 0, 0, 0, 0, 0, 0, 0, 0, 0, 0, 0, 0, 0, 0, 0, 0, 0, 0, 0, 0, 0, 0, 0, 0, 0, 0, 0, 0, 0, 0]\n",
      "SubsetIDs: [0, 0, 0, 0, 0, 0, 0, 0, 0, 0, 0, 0, 0, 0, 0, 0, 0, 0, 0, 0, 0, 0, 0, 0, 0, 0, 0, 0, 0, 0, 0, 0, 0, 0, 0, 0, 0, 0, 0, 0, 0, 0, 0, 0, 0, 0, 0, 0, 0, 0]\n",
      "Ns       : [0, 1, 2, 3, 4, 5, 6, 7, 8, 9, 10, 11, 12, 13, 14, 15, 16, 17, 18, 19, 20, 21, 22, 23, 24, 25, 26, 27, 28, 29, 30, 31, 32, 33, 34, 35, 36, 37, 38, 39, 40, 41, 42, 43, 44, 45, 46, 47, 48, 49]\n",
      "ExpIDs   : [0, 0, 0, 0, 0, 0, 0, 0, 0, 0, 0, 0, 0, 0, 0, 0, 0, 0, 0, 0, 0, 0, 0, 0, 0, 0, 0, 0, 0, 0, 0, 0, 0, 0, 0, 0, 0, 0, 0, 0, 0, 0, 0, 0, 0, 0, 0, 0, 0, 0]\n"
     ]
    }
   ],
   "source": [
    "#Function to transition the matrix randomly, switch to monthly\n",
    "def credit_migration(_params, substep, sH, s):\n",
    "    new_ratings = s['portfolio'].map(lambda x: np.random.RandomState().choice(\n",
    "  transition_matrix_monthly.index, \n",
    "  p=transition_matrix_monthly.loc[x].values))\n",
    "    return {\"ratings\": new_ratings}\n",
    "\n",
    "#Update the ratings    \n",
    "def update_portfolio(_params, substep, sH, s, _input):\n",
    "    return ('portfolio', _input['ratings'])\n",
    "\n",
    "#Function to value the portfolio, for now just finding default %\n",
    "def value_portfolio(_params, substep, sH, s):\n",
    "    return {\"default\": (s['portfolio'] == \"Default\").sum() / len(s['portfolio'])}\n",
    "\n",
    "#Update the value\n",
    "def update_value(_params, substep, sH, s, _input):\n",
    "    return ('default', _input['default'])\n",
    "\n",
    "#Create partial updates\n",
    "PSUBs = [\n",
    "    {\n",
    "        \"policies\": {\n",
    "            \"migration_policy\": credit_migration,\n",
    "        },\n",
    "        \"variables\": {\n",
    "            \"portfolio\": update_portfolio,\n",
    "        }\n",
    "    },\n",
    "        {\n",
    "        \"policies\": {\n",
    "            \"valuation_policy\": value_portfolio,\n",
    "        },\n",
    "        \"variables\": {\n",
    "            \"default\": update_value,\n",
    "        }\n",
    "    }\n",
    "]\n",
    "\n",
    "sim_config_dict = {\n",
    "    'T': range(360),\n",
    "    'N': 50}\n",
    "c = config_sim(sim_config_dict)\n",
    "\n",
    "exp = Experiment()\n",
    "exp.append_configs(\n",
    "    initial_state = initial_state,\n",
    "    partial_state_update_blocks = PSUBs,\n",
    "    sim_configs = c\n",
    ")\n",
    "\n",
    "#Execute!\n",
    "exec_mode = ExecutionMode()\n",
    "local_mode_ctx = ExecutionContext(context=exec_mode.single_mode)\n",
    "simulation = Executor(exec_context=local_mode_ctx, configs=configs)\n",
    "raw_result, field, sessions = simulation.execute()\n",
    "result = pd.DataFrame(raw_result)"
   ]
  },
  {
   "cell_type": "code",
   "execution_count": null,
   "metadata": {},
   "outputs": [],
   "source": [
    "#Find the predicted default rate based on markov chain for monthly\n",
    "transition_matrices = [pd.DataFrame(np.diag([1]*8),index=transition_matrix_monthly.index, columns=transition_matrix_monthly.columns)]\n",
    "for _ in range(360):\n",
    "    transition_matrices.append(transition_matrices[-1].dot(transition_matrix_monthly))\n",
    "\n",
    "predicted = pd.Series([1/3, 1/3, 1/3, 0, 0, 0, 0, 0], index=transition_matrix_monthly.index)\n",
    "predicted = pd.Series([predicted.dot(x)['Default'] for x in transition_matrices],index=list(range(361)))\n",
    "print(predicted)"
   ]
  },
  {
   "cell_type": "code",
   "execution_count": null,
   "metadata": {},
   "outputs": [],
   "source": [
    "#Plot the predicted vs. simulated\n",
    "result[result['substep'] == 2].groupby(\"timestep\")['default'].mean().plot(kind='line')\n",
    "predicted.plot(kind='line')\n",
    "plt.xlabel(\"Month\")\n",
    "plt.ylabel(\"Percent Defaulted\")\n",
    "plt.title(\"Monthly Credit Migration (Average)\")\n",
    "plt.legend(['Simulated', 'Predicted'])\n",
    "plt.show()"
   ]
  }
 ],
 "metadata": {
  "kernelspec": {
   "display_name": "Python 3",
   "language": "python",
   "name": "python3"
  },
  "language_info": {
   "codemirror_mode": {
    "name": "ipython",
    "version": 3
   },
   "file_extension": ".py",
   "mimetype": "text/x-python",
   "name": "python",
   "nbconvert_exporter": "python",
   "pygments_lexer": "ipython3",
   "version": "3.8.3"
  }
 },
 "nbformat": 4,
 "nbformat_minor": 2
}
