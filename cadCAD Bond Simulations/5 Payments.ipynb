{
 "cells": [
  {
   "cell_type": "code",
   "execution_count": 1,
   "metadata": {},
   "outputs": [
    {
     "name": "stdout",
     "output_type": "stream",
     "text": [
      "   Rating  Coupon Rate  Payment Frequency  Face Value\n",
      "0     AAA         0.08                  6        1000\n",
      "1     AAA         0.08                 12        1000\n",
      "2     AAA         0.08                  6        1000\n",
      "3     AAA         0.08                 12        1000\n",
      "4     AAA         0.08                  6        1000\n",
      "5     AAA         0.08                 12        1000\n",
      "6     AAA         0.08                  6        1000\n",
      "7     AAA         0.08                 12        1000\n",
      "8     AAA         0.08                  6        1000\n",
      "9     AAA         0.08                 12        1000\n",
      "10     AA         0.09                  6        1000\n",
      "11     AA         0.09                 12        1000\n",
      "12     AA         0.09                  6        1000\n",
      "13     AA         0.09                 12        1000\n",
      "14     AA         0.09                  6        1000\n",
      "15     AA         0.09                 12        1000\n",
      "16     AA         0.09                  6        1000\n",
      "17     AA         0.09                 12        1000\n",
      "18     AA         0.09                  6        1000\n",
      "19     AA         0.09                 12        1000\n",
      "20      A         0.10                  6        1000\n",
      "21      A         0.10                 12        1000\n",
      "22      A         0.10                  6        1000\n",
      "23      A         0.10                 12        1000\n",
      "24      A         0.10                  6        1000\n",
      "25      A         0.10                 12        1000\n",
      "26      A         0.10                  6        1000\n",
      "27      A         0.10                 12        1000\n",
      "28      A         0.10                  6        1000\n",
      "29      A         0.10                 12        1000\n"
     ]
    }
   ],
   "source": [
    "import pandas as pd\n",
    "import matplotlib.pyplot as plt\n",
    "from scipy.stats import norm\n",
    "import numpy as np\n",
    "import pandas as pd\n",
    "from cadCAD.configuration.utils import config_sim\n",
    "from cadCAD.configuration import Experiment\n",
    "from cadCAD.engine import ExecutionMode, ExecutionContext, Executor\n",
    "from cadCAD import configs\n",
    "\n",
    "#Create the portfolio\n",
    "portfolio = pd.DataFrame([\"AAA\"]*10+[\"AA\"]*10+[\"A\"]*10, columns = ['Rating'])\n",
    "portfolio['Coupon Rate'] = [.08] * 10 + [.09] * 10 + [.1] * 10\n",
    "portfolio['Payment Frequency'] = [6,12] * 15\n",
    "portfolio['Face Value'] = 1000\n",
    "print(portfolio)\n",
    "\n",
    "#Set initial portfolio\n",
    "initial_state = {\n",
    "    'portfolio': portfolio,\n",
    "    'default': 0,\n",
    "    'cash': 0,\n",
    "    'payment': 0,\n",
    "    'r': .06\n",
    "}"
   ]
  },
  {
   "cell_type": "code",
   "execution_count": 2,
   "metadata": {},
   "outputs": [],
   "source": [
    "#Function to compute bond payments\n",
    "def bond_payments(_params, substep, sH, s):\n",
    "    #Compute coupon payments \n",
    "    payment = (((s['timestep']+1) % portfolio['Payment Frequency']) == 0).astype(int) * portfolio['Coupon Rate'] * portfolio['Face Value'] * portfolio['Payment Frequency'] / 12\n",
    "    \n",
    "    #If the timestep is equal to 360, add the face value\n",
    "    payment = payment + portfolio['Face Value'] * ((s['timestep'] + 1) % 360 == 0)\n",
    "    \n",
    "    #Set payments for defaulted bonds equal to 0\n",
    "    payment = payment * (portfolio['Rating'] != 'Default').astype(int)\n",
    "    \n",
    "    payment = payment.sum()\n",
    "    return ({\"payment\": payment})\n",
    "\n",
    "#Update the payment    \n",
    "def update_payments(params, step, sL, s, _input):\n",
    "    return ('payment', _input['payment'])"
   ]
  },
  {
   "cell_type": "code",
   "execution_count": 3,
   "metadata": {},
   "outputs": [
    {
     "name": "stdout",
     "output_type": "stream",
     "text": [
      "\n",
      "                  ___________    ____\n",
      "  ________ __ ___/ / ____/   |  / __ \\\n",
      " / ___/ __` / __  / /   / /| | / / / /\n",
      "/ /__/ /_/ / /_/ / /___/ ___ |/ /_/ /\n",
      "\\___/\\__,_/\\__,_/\\____/_/  |_/_____/\n",
      "by cadCAD\n",
      "\n",
      "Execution Mode: single_proc\n",
      "Configuration Count: 1\n",
      "Dimensions of the first simulation: (Timesteps, Params, Runs, Vars) = (360, 1, 5, 5)\n",
      "Execution Method: parallelize_simulations\n",
      "SimIDs   : [0, 0, 0, 0, 0]\n",
      "SubsetIDs: [0, 0, 0, 0, 0]\n",
      "Ns       : [0, 1, 2, 3, 4]\n",
      "ExpIDs   : [0, 0, 0, 0, 0]\n",
      "Total execution time: 3.34s\n"
     ]
    }
   ],
   "source": [
    "#Partial updates\n",
    "PSUBs = [\n",
    "    {\n",
    "        \"policies\": {\n",
    "            \"payment_policy\": bond_payments,\n",
    "        },\n",
    "        \"variables\": {\n",
    "            \"payment\": update_payments,\n",
    "        }\n",
    "    }\n",
    "]\n",
    "\n",
    "#Set simulation parameters\n",
    "\n",
    "#The M parameter will let us test different combinations of parameters\n",
    "sim_config_dict = {\n",
    "    'T': range(360),\n",
    "    'N': 5}\n",
    "\n",
    "c = config_sim(sim_config_dict)\n",
    "\n",
    "\n",
    "exp = Experiment()\n",
    "exp.append_configs(\n",
    "    initial_state = initial_state,\n",
    "    partial_state_update_blocks = PSUBs,\n",
    "    sim_configs = c\n",
    ")\n",
    "\n",
    "\n",
    "exec_mode = ExecutionMode()\n",
    "local_mode_ctx = ExecutionContext(context=exec_mode.single_mode)\n",
    "\n",
    "simulation = Executor(exec_context=local_mode_ctx, configs=configs)\n",
    "raw_result, field, sessions = simulation.execute()\n",
    "result = pd.DataFrame(raw_result)"
   ]
  },
  {
   "cell_type": "code",
   "execution_count": 4,
   "metadata": {},
   "outputs": [
    {
     "data": {
      "image/png": "[encoded data removed]",
      "text/plain": [
       "<Figure size 432x288 with 1 Axes>"
      ]
     },
     "metadata": {
      "needs_background": "light"
     },
     "output_type": "display_data"
    },
    {
     "data": {
      "image/png": "[encoded data removed]",
      "text/plain": [
       "<Figure size 432x288 with 1 Axes>"
      ]
     },
     "metadata": {
      "needs_background": "light"
     },
     "output_type": "display_data"
    }
   ],
   "source": [
    "payments = result.groupby('timestep')['payment'].mean()\n",
    "payments.iloc[:37].plot(kind='bar')\n",
    "plt.title(\"First 36 Months Payments\")\n",
    "plt.ylabel(\"Payment\")\n",
    "plt.show()\n",
    "payments.iloc[-37:].plot(kind='bar')\n",
    "plt.title(\"Last 36 Months Payments\")\n",
    "plt.ylabel(\"Payment\")\n",
    "plt.show()"
   ]
  },
  {
   "cell_type": "code",
   "execution_count": 5,
   "metadata": {},
   "outputs": [],
   "source": [
    "import pathos\n",
    "pathos.helpers.shutdown()\n",
    "configs.clear()"
   ]
  },
  {
   "cell_type": "code",
   "execution_count": 6,
   "metadata": {},
   "outputs": [],
   "source": [
    "#New functions\n",
    "\n",
    "#Compute cash\n",
    "def cash_change(_params, substep, sH, s):\n",
    "    #Accumulate the cash\n",
    "    cash = s['cash'] * (1+s['r']) ** (1/12)\n",
    "    cash += s['payment']\n",
    "    return ({\"cash\": cash})\n",
    "\n",
    "#Update cash\n",
    "def update_cash(params, step, sL, s, _input):\n",
    "    return ('cash', _input['cash'])"
   ]
  },
  {
   "cell_type": "code",
   "execution_count": 7,
   "metadata": {},
   "outputs": [
    {
     "name": "stdout",
     "output_type": "stream",
     "text": [
      "\n",
      "                  ___________    ____\n",
      "  ________ __ ___/ / ____/   |  / __ \\\n",
      " / ___/ __` / __  / /   / /| | / / / /\n",
      "/ /__/ /_/ / /_/ / /___/ ___ |/ /_/ /\n",
      "\\___/\\__,_/\\__,_/\\____/_/  |_/_____/\n",
      "by cadCAD\n",
      "\n",
      "Execution Mode: single_proc\n",
      "Configuration Count: 1\n",
      "Dimensions of the first simulation: (Timesteps, Params, Runs, Vars) = (360, 1, 5, 5)\n",
      "Execution Method: parallelize_simulations\n",
      "SimIDs   : [0, 0, 0, 0, 0]\n",
      "SubsetIDs: [0, 0, 0, 0, 0]\n",
      "Ns       : [0, 1, 2, 3, 4]\n",
      "ExpIDs   : [0, 0, 0, 0, 0]\n",
      "Total execution time: 5.50s\n"
     ]
    }
   ],
   "source": [
    "import pandas as pd\n",
    "import matplotlib.pyplot as plt\n",
    "from scipy.stats import norm\n",
    "import numpy as np\n",
    "import pandas as pd\n",
    "from cadCAD.configuration.utils import config_sim\n",
    "from cadCAD.configuration import Experiment\n",
    "from cadCAD.engine import ExecutionMode, ExecutionContext, Executor\n",
    "from cadCAD import configs\n",
    "\n",
    "\n",
    "#Partial updates\n",
    "PSUBs = [\n",
    "    {\n",
    "        \"policies\": {\n",
    "            \"payment_policy\": bond_payments,\n",
    "        },\n",
    "        \"variables\": {\n",
    "            \"payment\": update_payments,\n",
    "        }\n",
    "    },\n",
    "        {\n",
    "        \"policies\": {\n",
    "            \"cash_policy\": cash_change,\n",
    "        },\n",
    "        \"variables\": {\n",
    "            \"cash\": update_cash,\n",
    "        }\n",
    "    }\n",
    "]\n",
    "\n",
    "#Set simulation parameters\n",
    "\n",
    "#The M parameter will let us test different combinations of parameters\n",
    "sim_config_dict = {\n",
    "    'T': range(360),\n",
    "    'N': 5}\n",
    "\n",
    "c = config_sim(sim_config_dict)\n",
    "\n",
    "\n",
    "exp = Experiment()\n",
    "exp.append_configs(\n",
    "    initial_state = initial_state,\n",
    "    partial_state_update_blocks = PSUBs,\n",
    "    sim_configs = c\n",
    ")\n",
    "\n",
    "\n",
    "exec_mode = ExecutionMode()\n",
    "local_mode_ctx = ExecutionContext(context=exec_mode.single_mode)\n",
    "\n",
    "simulation = Executor(exec_context=local_mode_ctx, configs=configs)\n",
    "raw_result, field, sessions = simulation.execute()\n",
    "result = pd.DataFrame(raw_result)"
   ]
  },
  {
   "cell_type": "code",
   "execution_count": 8,
   "metadata": {},
   "outputs": [
    {
     "name": "stdout",
     "output_type": "stream",
     "text": [
      "timestep\n",
      "1           0.000000\n",
      "2           0.000000\n",
      "3           0.000000\n",
      "4           0.000000\n",
      "5           0.000000\n",
      "           ...      \n",
      "356    208912.350778\n",
      "357    209929.242209\n",
      "358    210951.083411\n",
      "359    211977.898476\n",
      "360    245034.711616\n",
      "Name: cash, Length: 360, dtype: float64\n"
     ]
    }
   ],
   "source": [
    "cash_ts = result[result['substep'] == 2].groupby('timestep')['cash'].mean()\n",
    "print(cash_ts)"
   ]
  },
  {
   "cell_type": "code",
   "execution_count": 9,
   "metadata": {},
   "outputs": [
    {
     "data": {
      "image/png": "[encoded data removed]",
      "text/plain": [
       "<Figure size 432x288 with 1 Axes>"
      ]
     },
     "metadata": {
      "needs_background": "light"
     },
     "output_type": "display_data"
    }
   ],
   "source": [
    "cash_ts.plot(kind='line')\n",
    "plt.title(\"Cash Position w/ Compounding\")\n",
    "plt.ylabel(\"Cash\")\n",
    "plt.show()"
   ]
  }
 ],
 "metadata": {
  "kernelspec": {
   "display_name": "Python 3",
   "language": "python",
   "name": "python3"
  },
  "language_info": {
   "codemirror_mode": {
    "name": "ipython",
    "version": 3
   },
   "file_extension": ".py",
   "mimetype": "text/x-python",
   "name": "python",
   "nbconvert_exporter": "python",
   "pygments_lexer": "ipython3",
   "version": "3.8.3"
  }
 },
 "nbformat": 4,
 "nbformat_minor": 2
}
