{
 "cells": [
  {
   "cell_type": "code",
   "execution_count": 1,
   "metadata": {},
   "outputs": [],
   "source": [
    "import pandas as pd\n",
    "import numpy as np\n",
    "\n",
    "#Create the portfolio\n",
    "portfolio = pd.DataFrame([\"AAA\"]*10+[\"AA\"]*10+[\"A\"]*10, columns = ['Rating'])\n",
    "portfolio = pd.DataFrame([\"BBB\"]*10+[\"BB\"]*10+[\"B\"]*10, columns = ['Rating'])\n",
    "\n",
    "\n",
    "portfolio['Coupon Rate'] = [.08] * 10 + [.09] * 10 + [.1] * 10\n",
    "portfolio['Payment Frequency'] = [6,12] * 15\n",
    "portfolio['Face Value'] = 1000\n",
    "\n",
    "#Set initial portfolio\n",
    "initial_state = {\n",
    "    'portfolio': portfolio,\n",
    "    'default': 0,\n",
    "    'r': .06,\n",
    "    'cash': 0,\n",
    "    'payment': 0\n",
    "}\n",
    "\n",
    "#Credit transition matrix (yearly) from: https://www.msci.com/documents/10199/93396227-d449-4229-9143-24a94dab122f\n",
    "transition_matrix = pd.DataFrame([[.9081, .0833,.0068,.0006,.0012,0,0,0],\n",
    "                                 [.0070,.9065,.0779,.0064,.0006,.0014,.0002,0],\n",
    "                                 [.0009,.0227,.9105,.0552,.0074,.0026,.0001,.0006],\n",
    "                                 [.0002, .0033, .0595, .8693, .0530,.0117,.0012,.0018],\n",
    "                                 [.0003, .0014,.0067,.0773,.8053,.0884, .0100, .0106],\n",
    "                                 [0, .0011, .0024, .0043, .0648, .8346, .0407, .0521],\n",
    "                                 [.0022, 0, .0022, .0130, .0238, .1124, .6486, .1978],\n",
    "                                 [0,0,0,0,0,0,0,1]],\n",
    "                                 index=[\"AAA\", \"AA\", \"A\", \"BBB\", \"BB\", \"B\", \"CCC\", \"Default\"],\n",
    "                                columns=[\"AAA\", \"AA\", \"A\", \"BBB\", \"BB\", \"B\", \"CCC\", \"Default\"])\n",
    "\n",
    "\n",
    "#Convert to monthly transition matrix\n",
    "u, V = np.linalg.eig(transition_matrix)\n",
    "P = V\n",
    "D = np.diag(u)\n",
    "transition_matrix_monthly = pd.DataFrame(P.dot(D ** (1/12)).dot(np.linalg.inv(P)),\n",
    "                                        index=[\"AAA\", \"AA\", \"A\", \"BBB\", \"BB\", \"B\", \"CCC\", \"Default\"],\n",
    "                                columns=[\"AAA\", \"AA\", \"A\", \"BBB\", \"BB\", \"B\", \"CCC\", \"Default\"])\n",
    "\n",
    "#Get rid of the rounding error negative numbers\n",
    "transition_matrix_monthly = transition_matrix_monthly.clip(0)\n",
    "#Renormalize\n",
    "transition_matrix_monthly = transition_matrix_monthly.multiply(1/transition_matrix_monthly.sum(axis=1), axis=0)"
   ]
  },
  {
   "cell_type": "code",
   "execution_count": 2,
   "metadata": {},
   "outputs": [
    {
     "name": "stdout",
     "output_type": "stream",
     "text": [
      "\n",
      "                  ___________    ____\n",
      "  ________ __ ___/ / ____/   |  / __ \\\n",
      " / ___/ __` / __  / /   / /| | / / / /\n",
      "/ /__/ /_/ / /_/ / /___/ ___ |/ /_/ /\n",
      "\\___/\\__,_/\\__,_/\\____/_/  |_/_____/\n",
      "by cadCAD\n",
      "\n",
      "Execution Mode: single_proc\n",
      "Configuration Count: 1\n",
      "Dimensions of the first simulation: (Timesteps, Params, Runs, Vars) = (360, 1, 5, 5)\n",
      "Execution Method: parallelize_simulations\n",
      "SimIDs   : [0, 0, 0, 0, 0]\n",
      "SubsetIDs: [0, 0, 0, 0, 0]\n",
      "Ns       : [0, 1, 2, 3, 4]\n",
      "ExpIDs   : [0, 0, 0, 0, 0]\n",
      "Total execution time: 20.36s\n"
     ]
    }
   ],
   "source": [
    "import pandas as pd\n",
    "import matplotlib.pyplot as plt\n",
    "from scipy.stats import norm\n",
    "import numpy as np\n",
    "import pandas as pd\n",
    "from cadCAD.configuration.utils import config_sim\n",
    "from cadCAD.configuration import Experiment\n",
    "from cadCAD.engine import ExecutionMode, ExecutionContext, Executor\n",
    "from cadCAD import configs\n",
    "\n",
    "#Step 1: Create the credit transition\n",
    "#Function to transition the matrix randomly, updated to use dataframe\n",
    "def credit_migration(_params, substep, sH, s):\n",
    "    portfolio = s['portfolio']\n",
    "    portfolio['Rating'] = portfolio['Rating'].map(lambda x: np.random.RandomState().choice(\n",
    "  transition_matrix_monthly.index, \n",
    "  p=transition_matrix_monthly.loc[x].values))\n",
    "    return ({\"portfolio\": portfolio})\n",
    "\n",
    "#Update the ratings    \n",
    "def update_portfolio(_params, substep, sH, s, _input):\n",
    "    return ('portfolio', _input['portfolio'])\n",
    "\n",
    "#Function to value the portfolio, for now just finding default %\n",
    "def value_portfolio(_params, substep, sH, s):\n",
    "    return {\"default\": (s['portfolio']['Rating'] == \"Default\").sum() / len(s['portfolio']['Rating'])}\n",
    "\n",
    "#Update the value\n",
    "def update_value(_params, substep, sH, s, _input):\n",
    "    return ('default', _input['default'])\n",
    "\n",
    "\n",
    "#Create partial updates\n",
    "PSUBs = [\n",
    "    {\n",
    "        \"policies\": {\n",
    "            \"migration_policy\": credit_migration,\n",
    "        },\n",
    "        \"variables\": {\n",
    "            \"portfolio\": update_portfolio,\n",
    "        }\n",
    "    },\n",
    "        {\n",
    "        \"policies\": {\n",
    "            \"valuation_policy\": value_portfolio,\n",
    "        },\n",
    "        \"variables\": {\n",
    "            \"default\": update_value,\n",
    "        }\n",
    "    }\n",
    "]\n",
    "\n",
    "sim_config_dict = {\n",
    "    'T': range(360),\n",
    "    'N': 5}\n",
    "c = config_sim(sim_config_dict)\n",
    "\n",
    "exp = Experiment()\n",
    "exp.append_configs(\n",
    "    initial_state = initial_state,\n",
    "    partial_state_update_blocks = PSUBs,\n",
    "    sim_configs = c\n",
    ")\n",
    "\n",
    "#Execute!\n",
    "exec_mode = ExecutionMode()\n",
    "local_mode_ctx = ExecutionContext(context=exec_mode.single_mode)\n",
    "simulation = Executor(exec_context=local_mode_ctx, configs=configs)\n",
    "raw_result, field, sessions = simulation.execute()\n",
    "result = pd.DataFrame(raw_result)"
   ]
  },
  {
   "cell_type": "code",
   "execution_count": 3,
   "metadata": {},
   "outputs": [
    {
     "name": "stdout",
     "output_type": "stream",
     "text": [
      "                                              portfolio   default     r  cash  \\\n",
      "0        Rating  Coupon Rate  Payment Frequency  Fac...  0.000000  0.06     0   \n",
      "1        Rating  Coupon Rate  Payment Frequency  Fac...  0.000000  0.06     0   \n",
      "2        Rating  Coupon Rate  Payment Frequency  Fac...  0.000000  0.06     0   \n",
      "3        Rating  Coupon Rate  Payment Frequency  Fac...  0.000000  0.06     0   \n",
      "4        Rating  Coupon Rate  Payment Frequency  Fac...  0.000000  0.06     0   \n",
      "...                                                 ...       ...   ...   ...   \n",
      "3600       Rating  Coupon Rate  Payment Frequency  F...  0.633333  0.06     0   \n",
      "3601       Rating  Coupon Rate  Payment Frequency  F...  0.633333  0.06     0   \n",
      "3602       Rating  Coupon Rate  Payment Frequency  F...  0.666667  0.06     0   \n",
      "3603       Rating  Coupon Rate  Payment Frequency  F...  0.666667  0.06     0   \n",
      "3604       Rating  Coupon Rate  Payment Frequency  F...  0.666667  0.06     0   \n",
      "\n",
      "      payment  simulation  subset  run  substep  timestep  \n",
      "0           0           0       0    1        0         0  \n",
      "1           0           0       0    1        1         1  \n",
      "2           0           0       0    1        2         1  \n",
      "3           0           0       0    1        1         2  \n",
      "4           0           0       0    1        2         2  \n",
      "...       ...         ...     ...  ...      ...       ...  \n",
      "3600        0           0       0    5        2       358  \n",
      "3601        0           0       0    5        1       359  \n",
      "3602        0           0       0    5        2       359  \n",
      "3603        0           0       0    5        1       360  \n",
      "3604        0           0       0    5        2       360  \n",
      "\n",
      "[3605 rows x 10 columns]\n"
     ]
    }
   ],
   "source": [
    "print(result)"
   ]
  },
  {
   "cell_type": "code",
   "execution_count": 4,
   "metadata": {},
   "outputs": [],
   "source": [
    "import pathos\n",
    "pathos.helpers.shutdown()\n",
    "configs.clear()"
   ]
  },
  {
   "cell_type": "code",
   "execution_count": 5,
   "metadata": {},
   "outputs": [
    {
     "name": "stdout",
     "output_type": "stream",
     "text": [
      "\n",
      "                  ___________    ____\n",
      "  ________ __ ___/ / ____/   |  / __ \\\n",
      " / ___/ __` / __  / /   / /| | / / / /\n",
      "/ /__/ /_/ / /_/ / /___/ ___ |/ /_/ /\n",
      "\\___/\\__,_/\\__,_/\\____/_/  |_/_____/\n",
      "by cadCAD\n",
      "\n",
      "Execution Mode: single_proc\n",
      "Configuration Count: 1\n",
      "Dimensions of the first simulation: (Timesteps, Params, Runs, Vars) = (360, 1, 5, 5)\n",
      "Execution Method: parallelize_simulations\n",
      "SimIDs   : [0, 0, 0, 0, 0]\n",
      "SubsetIDs: [0, 0, 0, 0, 0]\n",
      "Ns       : [0, 1, 2, 3, 4]\n",
      "ExpIDs   : [0, 0, 0, 0, 0]\n",
      "Total execution time: 26.93s\n"
     ]
    }
   ],
   "source": [
    "#Step 2: Add in payments\n",
    "#Function to compute bond payments\n",
    "def bond_payments(_params, substep, sH, s):\n",
    "    portfolio = s['portfolio']\n",
    "    #Compute coupon payments \n",
    "    payment = (((s['timestep']) % portfolio['Payment Frequency']) == 0).astype(int) * portfolio['Coupon Rate'] * portfolio['Face Value'] * portfolio['Payment Frequency'] / 12\n",
    "    \n",
    "    #If the timestep is equal to 360, add the face value\n",
    "    payment = payment + portfolio['Face Value'] * ((s['timestep']) % 360 == 0)\n",
    "    \n",
    "    #Set payments for defaulted bonds equal to 0\n",
    "    payment = payment * (portfolio['Rating'] != 'Default').astype(int)\n",
    "    \n",
    "    \n",
    "    \n",
    "    \n",
    "    payment = payment.sum()\n",
    "    return ({\"payment\": payment})\n",
    "\n",
    "#Update the payment    \n",
    "def update_payments(_params, substep, sH, s, _input):\n",
    "    return ('payment', _input['payment'])\n",
    "\n",
    "#Compute cash\n",
    "def cash_change(_params, substep, sH, s):\n",
    "    cash = s['cash'] * (1+s['r']) ** (1/12)\n",
    "    cash += s['payment']\n",
    "    return ({\"cash\": cash})\n",
    "\n",
    "#Update cash\n",
    "def update_cash(_params, substep, sH, s, _input):\n",
    "    return ('cash', _input['cash'])\n",
    "\n",
    "PSUBs = [\n",
    "        { \n",
    "        'policies': {\n",
    "            'credit_policy': credit_migration\n",
    "        },\n",
    "        'variables': {\n",
    "            'portfolio': update_portfolio\n",
    "            \n",
    "        }\n",
    "    },\n",
    "        { \n",
    "        'policies': {\n",
    "            'default_policy': value_portfolio\n",
    "        },\n",
    "        'variables': {\n",
    "            'default': update_value\n",
    "            \n",
    "        }\n",
    "    },\n",
    "    { \n",
    "        'policies': {\n",
    "            'payment_policy': bond_payments\n",
    "        },\n",
    "        'variables': {\n",
    "            'payment': update_payments\n",
    "            \n",
    "        }\n",
    "    },\n",
    "        { \n",
    "        'policies': {\n",
    "            'cash_policy': cash_change\n",
    "        },\n",
    "        'variables': {\n",
    "            'cash': update_cash\n",
    "            \n",
    "        }\n",
    "    }\n",
    "]\n",
    "\n",
    "sim_config_dict = {\n",
    "    'T': range(360),\n",
    "    'N': 5}\n",
    "c = config_sim(sim_config_dict)\n",
    "\n",
    "exp = Experiment()\n",
    "exp.append_configs(\n",
    "    initial_state = initial_state,\n",
    "    partial_state_update_blocks = PSUBs,\n",
    "    sim_configs = c\n",
    ")\n",
    "\n",
    "#Execute!\n",
    "exec_mode = ExecutionMode()\n",
    "local_mode_ctx = ExecutionContext(context=exec_mode.single_mode)\n",
    "simulation = Executor(exec_context=local_mode_ctx, configs=configs)\n",
    "raw_result, field, sessions = simulation.execute()\n",
    "result = pd.DataFrame(raw_result)"
   ]
  },
  {
   "cell_type": "code",
   "execution_count": 6,
   "metadata": {},
   "outputs": [
    {
     "data": {
      "image/png": "[encoded data removed]",
      "text/plain": [
       "<Figure size 432x288 with 1 Axes>"
      ]
     },
     "metadata": {
      "needs_background": "light"
     },
     "output_type": "display_data"
    }
   ],
   "source": [
    "#Now we see that there is a difference between payments/cash position given whether bonds are defaulting \n",
    "result[result['substep'] == 4].pivot('timestep','run', 'cash').plot(kind='line')\n",
    "plt.show()"
   ]
  },
  {
   "cell_type": "code",
   "execution_count": 7,
   "metadata": {},
   "outputs": [],
   "source": [
    "pathos.helpers.shutdown()\n",
    "configs.clear()"
   ]
  },
  {
   "cell_type": "code",
   "execution_count": 8,
   "metadata": {},
   "outputs": [
    {
     "name": "stdout",
     "output_type": "stream",
     "text": [
      "\n",
      "                  ___________    ____\n",
      "  ________ __ ___/ / ____/   |  / __ \\\n",
      " / ___/ __` / __  / /   / /| | / / / /\n",
      "/ /__/ /_/ / /_/ / /___/ ___ |/ /_/ /\n",
      "\\___/\\__,_/\\__,_/\\____/_/  |_/_____/\n",
      "by cadCAD\n",
      "\n",
      "Execution Mode: single_proc\n",
      "Configuration Count: 1\n",
      "Dimensions of the first simulation: (Timesteps, Params, Runs, Vars) = (360, 4, 6, 5)\n",
      "Execution Method: parallelize_simulations\n",
      "SimIDs   : [0, 0, 0, 0, 0, 0]\n",
      "SubsetIDs: [0, 0, 0, 0, 0, 0]\n",
      "Ns       : [0, 1, 2, 3, 4, 5]\n",
      "ExpIDs   : [0, 0, 0, 0, 0, 0]\n",
      "Total execution time: 32.42s\n"
     ]
    }
   ],
   "source": [
    "#Step 3: Add in the rate change component\n",
    "from scipy.stats import norm\n",
    "\n",
    "#Basic vasicek rate change model\n",
    "def rate_change(r, a=.5, b=.06, sigma=.02, t=1/12):\n",
    "    delta = a* (b-r) * t + sigma * t ** .5 * norm.ppf(np.random.RandomState().rand())\n",
    "    return delta + r\n",
    "\n",
    "\n",
    "#Policy for updating\n",
    "def vasicek_policy(_params, substep, sH, s):\n",
    "    r = rate_change(s['r'], _params['a'], _params['b'], _params['sigma'], _params['t'])\n",
    "    return {'r': r}\n",
    "\n",
    "#Simple state update\n",
    "def update_rate(_params, substep, sH, s, _input):\n",
    "    return ('r', _input['r'])\n",
    "\n",
    "\n",
    "\n",
    "PSUBs = [\n",
    "        { \n",
    "        'policies': {\n",
    "            'credit_policy': credit_migration\n",
    "        },\n",
    "        'variables': {\n",
    "            'portfolio': update_portfolio\n",
    "            \n",
    "        }\n",
    "    },\n",
    "        { \n",
    "        'policies': {\n",
    "            'default_policy': value_portfolio\n",
    "        },\n",
    "        'variables': {\n",
    "            'default': update_value\n",
    "            \n",
    "        }\n",
    "    },\n",
    "    { \n",
    "        'policies': {\n",
    "            'payment_policy': bond_payments\n",
    "        },\n",
    "        'variables': {\n",
    "            'payment': update_payments\n",
    "            \n",
    "        }\n",
    "    },\n",
    "        { \n",
    "        'policies': {\n",
    "            'cash_policy': cash_change\n",
    "        },\n",
    "        'variables': {\n",
    "            'cash': update_cash\n",
    "            \n",
    "        }\n",
    "    },\n",
    "            { \n",
    "        'policies': {\n",
    "            'rate_policy': vasicek_policy\n",
    "        },\n",
    "        'variables': {\n",
    "            'r': update_rate\n",
    "            \n",
    "        }\n",
    "    }\n",
    "]\n",
    "\n",
    "\n",
    "\n",
    "\n",
    "sim_config_dict = {\n",
    "    'T': range(360),\n",
    "    'N': 6,\n",
    "\"M\": {'a': [.5], 'b':[.04], 'sigma':[.02], 't':[1/12]}\n",
    "}\n",
    "c = config_sim(sim_config_dict)\n",
    "\n",
    "exp = Experiment()\n",
    "exp.append_configs(\n",
    "    initial_state = initial_state,\n",
    "    partial_state_update_blocks = PSUBs,\n",
    "    sim_configs = c\n",
    ")\n",
    "\n",
    "#Execute!\n",
    "exec_mode = ExecutionMode()\n",
    "local_mode_ctx = ExecutionContext(context=exec_mode.single_mode)\n",
    "simulation = Executor(exec_context=local_mode_ctx, configs=configs)\n",
    "raw_result, field, sessions = simulation.execute()\n",
    "result = pd.DataFrame(raw_result)"
   ]
  },
  {
   "cell_type": "code",
   "execution_count": 9,
   "metadata": {},
   "outputs": [
    {
     "data": {
      "image/png": "[encoded data removed]",
      "text/plain": [
       "<Figure size 432x288 with 1 Axes>"
      ]
     },
     "metadata": {
      "needs_background": "light"
     },
     "output_type": "display_data"
    }
   ],
   "source": [
    "#Rates changing adds more complexity, now the cash is re-invested at different rates\n",
    "result[result['substep'] == 5].pivot('timestep','run', 'cash').plot(kind='line')\n",
    "plt.show()"
   ]
  },
  {
   "cell_type": "code",
   "execution_count": 10,
   "metadata": {},
   "outputs": [
    {
     "name": "stdout",
     "output_type": "stream",
     "text": [
      "\n",
      "                  ___________    ____\n",
      "  ________ __ ___/ / ____/   |  / __ \\\n",
      " / ___/ __` / __  / /   / /| | / / / /\n",
      "/ /__/ /_/ / /_/ / /___/ ___ |/ /_/ /\n",
      "\\___/\\__,_/\\__,_/\\____/_/  |_/_____/\n",
      "by cadCAD\n",
      "\n",
      "Execution Mode: single_proc\n",
      "Configuration Count: 1\n",
      "Dimensions of the first simulation: (Timesteps, Params, Runs, Vars) = (360, 4, 100, 5)\n",
      "Execution Method: parallelize_simulations\n",
      "SimIDs   : [0, 0, 0, 0, 0, 0, 0, 0, 0, 0, 0, 0, 0, 0, 0, 0, 0, 0, 0, 0, 0, 0, 0, 0, 0, 0, 0, 0, 0, 0, 0, 0, 0, 0, 0, 0, 0, 0, 0, 0, 0, 0, 0, 0, 0, 0, 0, 0, 0, 0, 0, 0, 0, 0, 0, 0, 0, 0, 0, 0, 0, 0, 0, 0, 0, 0, 0, 0, 0, 0, 0, 0, 0, 0, 0, 0, 0, 0, 0, 0, 0, 0, 0, 0, 0, 0, 0, 0, 0, 0, 0, 0, 0, 0, 0, 0, 0, 0, 0, 0]\n",
      "SubsetIDs: [0, 0, 0, 0, 0, 0, 0, 0, 0, 0, 0, 0, 0, 0, 0, 0, 0, 0, 0, 0, 0, 0, 0, 0, 0, 0, 0, 0, 0, 0, 0, 0, 0, 0, 0, 0, 0, 0, 0, 0, 0, 0, 0, 0, 0, 0, 0, 0, 0, 0, 0, 0, 0, 0, 0, 0, 0, 0, 0, 0, 0, 0, 0, 0, 0, 0, 0, 0, 0, 0, 0, 0, 0, 0, 0, 0, 0, 0, 0, 0, 0, 0, 0, 0, 0, 0, 0, 0, 0, 0, 0, 0, 0, 0, 0, 0, 0, 0, 0, 0]\n",
      "Ns       : [0, 1, 2, 3, 4, 5, 6, 7, 8, 9, 10, 11, 12, 13, 14, 15, 16, 17, 18, 19, 20, 21, 22, 23, 24, 25, 26, 27, 28, 29, 30, 31, 32, 33, 34, 35, 36, 37, 38, 39, 40, 41, 42, 43, 44, 45, 46, 47, 48, 49, 50, 51, 52, 53, 54, 55, 56, 57, 58, 59, 60, 61, 62, 63, 64, 65, 66, 67, 68, 69, 70, 71, 72, 73, 74, 75, 76, 77, 78, 79, 80, 81, 82, 83, 84, 85, 86, 87, 88, 89, 90, 91, 92, 93, 94, 95, 96, 97, 98, 99]\n",
      "ExpIDs   : [0, 0, 0, 0, 0, 0, 0, 0, 0, 0, 0, 0, 0, 0, 0, 0, 0, 0, 0, 0, 0, 0, 0, 0, 0, 0, 0, 0, 0, 0, 0, 0, 0, 0, 0, 0, 0, 0, 0, 0, 0, 0, 0, 0, 0, 0, 0, 0, 0, 0, 0, 0, 0, 0, 0, 0, 0, 0, 0, 0, 0, 0, 0, 0, 0, 0, 0, 0, 0, 0, 0, 0, 0, 0, 0, 0, 0, 0, 0, 0, 0, 0, 0, 0, 0, 0, 0, 0, 0, 0, 0, 0, 0, 0, 0, 0, 0, 0, 0, 0]\n",
      "Total execution time: 501.90s\n"
     ]
    }
   ],
   "source": [
    "pathos.helpers.shutdown()\n",
    "configs.clear()\n",
    "\n",
    "sim_config_dict = {\n",
    "    'T': range(360),\n",
    "    'N': 100,\n",
    "\"M\": {'a': [.5], 'b':[.04], 'sigma':[.02], 't':[1/12]}\n",
    "}\n",
    "c = config_sim(sim_config_dict)\n",
    "\n",
    "exp = Experiment()\n",
    "exp.append_configs(\n",
    "    initial_state = initial_state,\n",
    "    partial_state_update_blocks = PSUBs,\n",
    "    sim_configs = c\n",
    ")\n",
    "\n",
    "#Execute!\n",
    "exec_mode = ExecutionMode()\n",
    "local_mode_ctx = ExecutionContext(context=exec_mode.single_mode)\n",
    "simulation = Executor(exec_context=local_mode_ctx, configs=configs)\n",
    "raw_result, field, sessions = simulation.execute()\n",
    "result = pd.DataFrame(raw_result)"
   ]
  },
  {
   "cell_type": "code",
   "execution_count": 11,
   "metadata": {},
   "outputs": [
    {
     "data": {
      "image/png": "[encoded data removed]",
      "text/plain": [
       "<Figure size 432x288 with 1 Axes>"
      ]
     },
     "metadata": {
      "needs_background": "light"
     },
     "output_type": "display_data"
    }
   ],
   "source": [
    "#Plot terminal cash distribution\n",
    "import seaborn as sns\n",
    "\n",
    "sns.distplot(result[result['timestep'] == 360]['cash'], kde=True)\n",
    "plt.show()"
   ]
  },
  {
   "cell_type": "code",
   "execution_count": 12,
   "metadata": {},
   "outputs": [
    {
     "data": {
      "image/png": "[encoded data removed]",
      "text/plain": [
       "<Figure size 432x288 with 1 Axes>"
      ]
     },
     "metadata": {
      "needs_background": "light"
     },
     "output_type": "display_data"
    }
   ],
   "source": [
    "#Plot yields distribution\n",
    "\n",
    "yields = result[(result['timestep'] == 360) & (result['substep'] == 5)]['cash']\n",
    "yields = (yields / 30000) ** (1/30) - 1\n",
    "yields.name = 'Yield'\n",
    "sns.distplot(yields, kde=True)\n",
    "plt.show()"
   ]
  },
  {
   "cell_type": "code",
   "execution_count": 14,
   "metadata": {},
   "outputs": [
    {
     "data": {
      "image/png": "[encoded data removed]",
      "text/plain": [
       "<Figure size 432x288 with 1 Axes>"
      ]
     },
     "metadata": {
      "needs_background": "light"
     },
     "output_type": "display_data"
    }
   ],
   "source": [
    "#Find the bounds for two standard deviations around cash\n",
    "\n",
    "cash = result[result['substep'] == 5].pivot(\"timestep\", \"run\", \"cash\")\n",
    "mu = cash.mean(axis=1)\n",
    "std = cash.std(axis=1)\n",
    "lower_bound = mu - 2 * std\n",
    "upper_bound = mu + 2 * std\n",
    "\n",
    "mu.plot(kind='line', color='black')\n",
    "lower_bound.plot(kind='line', color='red', linestyle='--')\n",
    "upper_bound.plot(kind='line', color='red', linestyle='--')\n",
    "plt.show()"
   ]
  },
  {
   "cell_type": "code",
   "execution_count": 15,
   "metadata": {},
   "outputs": [],
   "source": [
    "import pandas as pd\n",
    "import numpy as np\n",
    "\n",
    "#Create the portfolio\n",
    "portfolio1 = pd.DataFrame([\"AAA\"]*10+[\"AA\"]*10+[\"A\"]*10, columns = ['Rating'])\n",
    "portfolio2 = pd.DataFrame([\"BBB\"]*10+[\"BB\"]*10+[\"B\"]*10, columns = ['Rating'])\n",
    "\n",
    "\n",
    "portfolio1['Coupon Rate'] = [.05] * 10 + [.06] * 10 + [.07] * 10\n",
    "portfolio1['Payment Frequency'] = [6,12] * 15\n",
    "portfolio1['Face Value'] = 1000\n",
    "\n",
    "portfolio2['Coupon Rate'] = [.08] * 10 + [.09] * 10 + [.1] * 10\n",
    "portfolio2['Payment Frequency'] = [6,12] * 15\n",
    "portfolio2['Face Value'] = 1000\n",
    "\n",
    "#Set initial portfolios\n",
    "initial_state1 = {\n",
    "    'portfolio': portfolio1,\n",
    "    'default': 0,\n",
    "    'r': .06,\n",
    "    'cash': 0,\n",
    "    'payment': 0\n",
    "}\n",
    "\n",
    "initial_state2 = {\n",
    "    'portfolio': portfolio2,\n",
    "    'default': 0,\n",
    "    'r': .06,\n",
    "    'cash': 0,\n",
    "    'payment': 0\n",
    "}"
   ]
  },
  {
   "cell_type": "code",
   "execution_count": 16,
   "metadata": {},
   "outputs": [
    {
     "name": "stdout",
     "output_type": "stream",
     "text": [
      "\n",
      "                  ___________    ____\n",
      "  ________ __ ___/ / ____/   |  / __ \\\n",
      " / ___/ __` / __  / /   / /| | / / / /\n",
      "/ /__/ /_/ / /_/ / /___/ ___ |/ /_/ /\n",
      "\\___/\\__,_/\\__,_/\\____/_/  |_/_____/\n",
      "by cadCAD\n",
      "\n",
      "Execution Mode: single_proc\n",
      "Configuration Count: 2\n",
      "Dimensions of the first simulation: (Timesteps, Params, Runs, Vars) = (360, 4, 100, 5)\n",
      "Execution Method: parallelize_simulations\n",
      "SimIDs   : [0, 0, 0, 0, 0, 0, 0, 0, 0, 0, 0, 0, 0, 0, 0, 0, 0, 0, 0, 0, 0, 0, 0, 0, 0, 0, 0, 0, 0, 0, 0, 0, 0, 0, 0, 0, 0, 0, 0, 0, 0, 0, 0, 0, 0, 0, 0, 0, 0, 0, 0, 0, 0, 0, 0, 0, 0, 0, 0, 0, 0, 0, 0, 0, 0, 0, 0, 0, 0, 0, 0, 0, 0, 0, 0, 0, 0, 0, 0, 0, 0, 0, 0, 0, 0, 0, 0, 0, 0, 0, 0, 0, 0, 0, 0, 0, 0, 0, 0, 0, 1, 1, 1, 1, 1, 1, 1, 1, 1, 1, 1, 1, 1, 1, 1, 1, 1, 1, 1, 1, 1, 1, 1, 1, 1, 1, 1, 1, 1, 1, 1, 1, 1, 1, 1, 1, 1, 1, 1, 1, 1, 1, 1, 1, 1, 1, 1, 1, 1, 1, 1, 1, 1, 1, 1, 1, 1, 1, 1, 1, 1, 1, 1, 1, 1, 1, 1, 1, 1, 1, 1, 1, 1, 1, 1, 1, 1, 1, 1, 1, 1, 1, 1, 1, 1, 1, 1, 1, 1, 1, 1, 1, 1, 1, 1, 1, 1, 1, 1, 1]\n",
      "SubsetIDs: [0, 0, 0, 0, 0, 0, 0, 0, 0, 0, 0, 0, 0, 0, 0, 0, 0, 0, 0, 0, 0, 0, 0, 0, 0, 0, 0, 0, 0, 0, 0, 0, 0, 0, 0, 0, 0, 0, 0, 0, 0, 0, 0, 0, 0, 0, 0, 0, 0, 0, 0, 0, 0, 0, 0, 0, 0, 0, 0, 0, 0, 0, 0, 0, 0, 0, 0, 0, 0, 0, 0, 0, 0, 0, 0, 0, 0, 0, 0, 0, 0, 0, 0, 0, 0, 0, 0, 0, 0, 0, 0, 0, 0, 0, 0, 0, 0, 0, 0, 0, 0, 0, 0, 0, 0, 0, 0, 0, 0, 0, 0, 0, 0, 0, 0, 0, 0, 0, 0, 0, 0, 0, 0, 0, 0, 0, 0, 0, 0, 0, 0, 0, 0, 0, 0, 0, 0, 0, 0, 0, 0, 0, 0, 0, 0, 0, 0, 0, 0, 0, 0, 0, 0, 0, 0, 0, 0, 0, 0, 0, 0, 0, 0, 0, 0, 0, 0, 0, 0, 0, 0, 0, 0, 0, 0, 0, 0, 0, 0, 0, 0, 0, 0, 0, 0, 0, 0, 0, 0, 0, 0, 0, 0, 0, 0, 0, 0, 0, 0, 0]\n",
      "Ns       : [0, 1, 2, 3, 4, 5, 6, 7, 8, 9, 10, 11, 12, 13, 14, 15, 16, 17, 18, 19, 20, 21, 22, 23, 24, 25, 26, 27, 28, 29, 30, 31, 32, 33, 34, 35, 36, 37, 38, 39, 40, 41, 42, 43, 44, 45, 46, 47, 48, 49, 50, 51, 52, 53, 54, 55, 56, 57, 58, 59, 60, 61, 62, 63, 64, 65, 66, 67, 68, 69, 70, 71, 72, 73, 74, 75, 76, 77, 78, 79, 80, 81, 82, 83, 84, 85, 86, 87, 88, 89, 90, 91, 92, 93, 94, 95, 96, 97, 98, 99, 0, 1, 2, 3, 4, 5, 6, 7, 8, 9, 10, 11, 12, 13, 14, 15, 16, 17, 18, 19, 20, 21, 22, 23, 24, 25, 26, 27, 28, 29, 30, 31, 32, 33, 34, 35, 36, 37, 38, 39, 40, 41, 42, 43, 44, 45, 46, 47, 48, 49, 50, 51, 52, 53, 54, 55, 56, 57, 58, 59, 60, 61, 62, 63, 64, 65, 66, 67, 68, 69, 70, 71, 72, 73, 74, 75, 76, 77, 78, 79, 80, 81, 82, 83, 84, 85, 86, 87, 88, 89, 90, 91, 92, 93, 94, 95, 96, 97, 98, 99]\n",
      "ExpIDs   : [0, 0, 0, 0, 0, 0, 0, 0, 0, 0, 0, 0, 0, 0, 0, 0, 0, 0, 0, 0, 0, 0, 0, 0, 0, 0, 0, 0, 0, 0, 0, 0, 0, 0, 0, 0, 0, 0, 0, 0, 0, 0, 0, 0, 0, 0, 0, 0, 0, 0, 0, 0, 0, 0, 0, 0, 0, 0, 0, 0, 0, 0, 0, 0, 0, 0, 0, 0, 0, 0, 0, 0, 0, 0, 0, 0, 0, 0, 0, 0, 0, 0, 0, 0, 0, 0, 0, 0, 0, 0, 0, 0, 0, 0, 0, 0, 0, 0, 0, 0, 0, 0, 0, 0, 0, 0, 0, 0, 0, 0, 0, 0, 0, 0, 0, 0, 0, 0, 0, 0, 0, 0, 0, 0, 0, 0, 0, 0, 0, 0, 0, 0, 0, 0, 0, 0, 0, 0, 0, 0, 0, 0, 0, 0, 0, 0, 0, 0, 0, 0, 0, 0, 0, 0, 0, 0, 0, 0, 0, 0, 0, 0, 0, 0, 0, 0, 0, 0, 0, 0, 0, 0, 0, 0, 0, 0, 0, 0, 0, 0, 0, 0, 0, 0, 0, 0, 0, 0, 0, 0, 0, 0, 0, 0, 0, 0, 0, 0, 0, 0]\n",
      "Total execution time: 1287.89s\n"
     ]
    }
   ],
   "source": [
    "pathos.helpers.shutdown()\n",
    "configs.clear()\n",
    "\n",
    "sim_config_dict1 = {\n",
    "    'T': range(360),\n",
    "    'N': 100,\n",
    "\"M\": {'a': [.5], 'b':[.04], 'sigma':[.02], 't':[1/12]}\n",
    "}\n",
    "c1 = config_sim(sim_config_dict1)\n",
    "\n",
    "sim_config_dict2 = {\n",
    "    'T': range(360),\n",
    "    'N': 100,\n",
    "\"M\": {'a': [.5], 'b':[.04], 'sigma':[.02], 't':[1/12]}\n",
    "}\n",
    "c2 = config_sim(sim_config_dict2)\n",
    "\n",
    "exp = Experiment()\n",
    "exp.append_configs(\n",
    "    initial_state = initial_state1,\n",
    "    partial_state_update_blocks = PSUBs,\n",
    "    sim_configs = c1\n",
    ")\n",
    "\n",
    "exp = Experiment()\n",
    "\n",
    "exp.append_configs(\n",
    "    initial_state = initial_state2,\n",
    "    partial_state_update_blocks = PSUBs,\n",
    "    sim_configs = c2\n",
    ")\n",
    "\n",
    "exec_mode = ExecutionMode()\n",
    "local_mode_ctx = ExecutionContext(context=exec_mode.single_mode)\n",
    "simulation = Executor(exec_context=local_mode_ctx, configs=configs)\n",
    "raw_result, field, sessions = simulation.execute()\n",
    "result = pd.DataFrame(raw_result)"
   ]
  },
  {
   "cell_type": "code",
   "execution_count": 17,
   "metadata": {},
   "outputs": [
    {
     "data": {
      "image/png": "[encoded data removed]",
      "text/plain": [
       "<Figure size 432x288 with 1 Axes>"
      ]
     },
     "metadata": {
      "needs_background": "light"
     },
     "output_type": "display_data"
    }
   ],
   "source": [
    "yields = result[(result['timestep'] == 360) & (result['substep'] == 5)].copy()\n",
    "yields['Yield'] = (yields['cash'] / 30000) ** (1/30) - 1\n",
    "\n",
    "\n",
    "sns.distplot(yields[yields['simulation'] == 0]['Yield'], kde=True, hist=False, label='Simulation 1')\n",
    "sns.distplot(yields[yields['simulation'] == 1]['Yield'], kde=True, hist=False, label='Simulation 2')\n",
    "plt.legend()\n",
    "\n",
    "plt.show()"
   ]
  }
 ],
 "metadata": {
  "kernelspec": {
   "display_name": "Python 3",
   "language": "python",
   "name": "python3"
  },
  "language_info": {
   "codemirror_mode": {
    "name": "ipython",
    "version": 3
   },
   "file_extension": ".py",
   "mimetype": "text/x-python",
   "name": "python",
   "nbconvert_exporter": "python",
   "pygments_lexer": "ipython3",
   "version": "3.8.3"
  }
 },
 "nbformat": 4,
 "nbformat_minor": 2
}
