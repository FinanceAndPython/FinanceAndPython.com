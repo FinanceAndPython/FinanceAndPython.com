{
 "cells": [
  {
   "cell_type": "code",
   "execution_count": 1,
   "metadata": {},
   "outputs": [],
   "source": [
    "import pandas as pd\n",
    "import numpy as np\n",
    "\n",
    "#Create the portfolio\n",
    "portfolio = pd.DataFrame([\"AAA\"]*10+[\"AA\"]*10+[\"A\"]*10, columns = ['Rating'])\n",
    "portfolio = pd.DataFrame([\"BBB\"]*10+[\"BB\"]*10+[\"B\"]*10, columns = ['Rating'])\n",
    "\n",
    "\n",
    "portfolio['Coupon Rate'] = [.08] * 10 + [.09] * 10 + [.1] * 10\n",
    "portfolio['Payment Frequency'] = [6,12] * 15\n",
    "portfolio['Face Value'] = 1000\n",
    "\n",
    "#Set initial portfolio\n",
    "initial_state = {\n",
    "    'portfolio': portfolio,\n",
    "    'default': 0,\n",
    "    'r': .06,\n",
    "    'cash': 0,\n",
    "    'payment': 0\n",
    "}\n",
    "\n",
    "#Credit transition matrix (yearly) from: https://www.msci.com/documents/10199/93396227-d449-4229-9143-24a94dab122f\n",
    "transition_matrix = pd.DataFrame([[.9081, .0833,.0068,.0006,.0012,0,0,0],\n",
    "                                 [.0070,.9065,.0779,.0064,.0006,.0014,.0002,0],\n",
    "                                 [.0009,.0227,.9105,.0552,.0074,.0026,.0001,.0006],\n",
    "                                 [.0002, .0033, .0595, .8693, .0530,.0117,.0012,.0018],\n",
    "                                 [.0003, .0014,.0067,.0773,.8053,.0884, .0100, .0106],\n",
    "                                 [0, .0011, .0024, .0043, .0648, .8346, .0407, .0521],\n",
    "                                 [.0022, 0, .0022, .0130, .0238, .1124, .6486, .1978],\n",
    "                                 [0,0,0,0,0,0,0,1]],\n",
    "                                 index=[\"AAA\", \"AA\", \"A\", \"BBB\", \"BB\", \"B\", \"CCC\", \"Default\"],\n",
    "                                columns=[\"AAA\", \"AA\", \"A\", \"BBB\", \"BB\", \"B\", \"CCC\", \"Default\"])\n",
    "\n",
    "\n",
    "#Convert to monthly transition matrix\n",
    "u, V = np.linalg.eig(transition_matrix)\n",
    "P = V\n",
    "D = np.diag(u)\n",
    "transition_matrix_monthly = pd.DataFrame(P.dot(D ** (1/12)).dot(np.linalg.inv(P)),\n",
    "                                        index=[\"AAA\", \"AA\", \"A\", \"BBB\", \"BB\", \"B\", \"CCC\", \"Default\"],\n",
    "                                columns=[\"AAA\", \"AA\", \"A\", \"BBB\", \"BB\", \"B\", \"CCC\", \"Default\"])\n",
    "\n",
    "#Get rid of the rounding error negative numbers\n",
    "transition_matrix_monthly = transition_matrix_monthly.clip(0)\n",
    "#Renormalize\n",
    "transition_matrix_monthly = transition_matrix_monthly.multiply(1/transition_matrix_monthly.sum(axis=1), axis=0)"
   ]
  },
  {
   "cell_type": "code",
   "execution_count": 2,
   "metadata": {},
   "outputs": [
    {
     "name": "stdout",
     "output_type": "stream",
     "text": [
      "\n",
      "                  ___________    ____\n",
      "  ________ __ ___/ / ____/   |  / __ \\\n",
      " / ___/ __` / __  / /   / /| | / / / /\n",
      "/ /__/ /_/ / /_/ / /___/ ___ |/ /_/ /\n",
      "\\___/\\__,_/\\__,_/\\____/_/  |_/_____/\n",
      "by cadCAD\n",
      "\n",
      "Execution Mode: single_proc\n",
      "Configuration Count: 1\n",
      "Dimensions of the first simulation: (Timesteps, Params, Runs, Vars) = (360, 1, 5, 5)\n",
      "Execution Method: parallelize_simulations\n",
      "SimIDs   : [0, 0, 0, 0, 0]\n",
      "SubsetIDs: [0, 0, 0, 0, 0]\n",
      "Ns       : [0, 1, 2, 3, 4]\n",
      "ExpIDs   : [0, 0, 0, 0, 0]\n",
      "Total execution time: 9.01s\n"
     ]
    }
   ],
   "source": [
    "import pandas as pd\n",
    "import matplotlib.pyplot as plt\n",
    "from scipy.stats import norm\n",
    "import numpy as np\n",
    "import pandas as pd\n",
    "from cadCAD.configuration.utils import config_sim\n",
    "from cadCAD.configuration import Experiment\n",
    "from cadCAD.engine import ExecutionMode, ExecutionContext, Executor\n",
    "from cadCAD import configs\n",
    "\n",
    "#Step 1: Create the credit transition\n",
    "#Function to transition the matrix randomly, updated to use dataframe\n",
    "def credit_migration(_params, substep, sH, s):\n",
    "    portfolio = s['portfolio']\n",
    "    portfolio['Rating'] = portfolio['Rating'].map(lambda x: np.random.choice(\n",
    "  transition_matrix_monthly.index, \n",
    "  p=transition_matrix_monthly.loc[x].values))\n",
    "    return ({\"portfolio\": portfolio})\n",
    "\n",
    "#Update the ratings    \n",
    "def update_portfolio(_params, substep, sH, s, _input):\n",
    "    return ('portfolio', _input['portfolio'])\n",
    "\n",
    "#Function to value the portfolio, for now just finding default %\n",
    "def value_portfolio(_params, substep, sH, s):\n",
    "    return {\"default\": (s['portfolio']['Rating'] == \"Default\").sum() / len(s['portfolio']['Rating'])}\n",
    "\n",
    "#Update the value\n",
    "def update_value(_params, substep, sH, s, _input):\n",
    "    return ('default', _input['default'])\n",
    "\n",
    "\n",
    "#Create partial updates\n",
    "PSUBs = [\n",
    "    {\n",
    "        \"policies\": {\n",
    "            \"migration_policy\": credit_migration,\n",
    "        },\n",
    "        \"variables\": {\n",
    "            \"portfolio\": update_portfolio,\n",
    "        }\n",
    "    },\n",
    "        {\n",
    "        \"policies\": {\n",
    "            \"valuation_policy\": value_portfolio,\n",
    "        },\n",
    "        \"variables\": {\n",
    "            \"default\": update_value,\n",
    "        }\n",
    "    }\n",
    "]\n",
    "\n",
    "sim_config_dict = {\n",
    "    'T': range(360),\n",
    "    'N': 5}\n",
    "c = config_sim(sim_config_dict)\n",
    "\n",
    "exp = Experiment()\n",
    "exp.append_configs(\n",
    "    initial_state = initial_state,\n",
    "    partial_state_update_blocks = PSUBs,\n",
    "    sim_configs = c\n",
    ")\n",
    "\n",
    "#Execute!\n",
    "exec_mode = ExecutionMode()\n",
    "local_mode_ctx = ExecutionContext(context=exec_mode.single_mode)\n",
    "simulation = Executor(exec_context=local_mode_ctx, configs=configs)\n",
    "raw_result, field, sessions = simulation.execute()\n",
    "result = pd.DataFrame(raw_result)"
   ]
  },
  {
   "cell_type": "code",
   "execution_count": 3,
   "metadata": {},
   "outputs": [
    {
     "name": "stdout",
     "output_type": "stream",
     "text": [
      "                                              portfolio  default     r  cash  \\\n",
      "0        Rating  Coupon Rate  Payment Frequency  Fac...      0.0  0.06     0   \n",
      "1        Rating  Coupon Rate  Payment Frequency  Fac...      0.0  0.06     0   \n",
      "2        Rating  Coupon Rate  Payment Frequency  Fac...      0.0  0.06     0   \n",
      "3        Rating  Coupon Rate  Payment Frequency  Fac...      0.0  0.06     0   \n",
      "4        Rating  Coupon Rate  Payment Frequency  Fac...      0.0  0.06     0   \n",
      "...                                                 ...      ...   ...   ...   \n",
      "3600       Rating  Coupon Rate  Payment Frequency  F...      0.5  0.06     0   \n",
      "3601       Rating  Coupon Rate  Payment Frequency  F...      0.5  0.06     0   \n",
      "3602       Rating  Coupon Rate  Payment Frequency  F...      0.5  0.06     0   \n",
      "3603       Rating  Coupon Rate  Payment Frequency  F...      0.5  0.06     0   \n",
      "3604       Rating  Coupon Rate  Payment Frequency  F...      0.5  0.06     0   \n",
      "\n",
      "      payment  simulation  subset  run  substep  timestep  \n",
      "0           0           0       0    1        0         0  \n",
      "1           0           0       0    1        1         1  \n",
      "2           0           0       0    1        2         1  \n",
      "3           0           0       0    1        1         2  \n",
      "4           0           0       0    1        2         2  \n",
      "...       ...         ...     ...  ...      ...       ...  \n",
      "3600        0           0       0    5        2       358  \n",
      "3601        0           0       0    5        1       359  \n",
      "3602        0           0       0    5        2       359  \n",
      "3603        0           0       0    5        1       360  \n",
      "3604        0           0       0    5        2       360  \n",
      "\n",
      "[3605 rows x 10 columns]\n"
     ]
    }
   ],
   "source": [
    "print(result)"
   ]
  },
  {
   "cell_type": "code",
   "execution_count": 4,
   "metadata": {},
   "outputs": [],
   "source": [
    "import pathos\n",
    "pathos.helpers.shutdown()\n",
    "configs.clear()"
   ]
  },
  {
   "cell_type": "code",
   "execution_count": 5,
   "metadata": {},
   "outputs": [
    {
     "name": "stdout",
     "output_type": "stream",
     "text": [
      "\n",
      "                  ___________    ____\n",
      "  ________ __ ___/ / ____/   |  / __ \\\n",
      " / ___/ __` / __  / /   / /| | / / / /\n",
      "/ /__/ /_/ / /_/ / /___/ ___ |/ /_/ /\n",
      "\\___/\\__,_/\\__,_/\\____/_/  |_/_____/\n",
      "by cadCAD\n",
      "\n",
      "Execution Mode: single_proc\n",
      "Configuration Count: 1\n",
      "Dimensions of the first simulation: (Timesteps, Params, Runs, Vars) = (360, 1, 5, 5)\n",
      "Execution Method: parallelize_simulations\n",
      "SimIDs   : [0, 0, 0, 0, 0]\n",
      "SubsetIDs: [0, 0, 0, 0, 0]\n",
      "Ns       : [0, 1, 2, 3, 4]\n",
      "ExpIDs   : [0, 0, 0, 0, 0]\n",
      "Total execution time: 19.89s\n"
     ]
    }
   ],
   "source": [
    "#Step 2: Add in payments\n",
    "#Function to compute bond payments\n",
    "def bond_payments(_params, substep, sH, s):\n",
    "    portfolio = s['portfolio']\n",
    "    #Compute coupon payments \n",
    "    payment = (((s['timestep']) % portfolio['Payment Frequency']) == 0).astype(int) * portfolio['Coupon Rate'] * portfolio['Face Value'] * portfolio['Payment Frequency'] / 12\n",
    "    \n",
    "    #If the timestep is equal to 360, add the face value\n",
    "    payment = payment + portfolio['Face Value'] * ((s['timestep']) % 360 == 0)\n",
    "    \n",
    "    #Set payments for defaulted bonds equal to 0\n",
    "    payment = payment * (portfolio['Rating'] != 'Default').astype(int)\n",
    "    \n",
    "    \n",
    "    \n",
    "    \n",
    "    payment = payment.sum()\n",
    "    return ({\"payment\": payment})\n",
    "\n",
    "#Update the payment    \n",
    "def update_payments(_params, substep, sH, s, _input):\n",
    "    return ('payment', _input['payment'])\n",
    "\n",
    "#Compute cash\n",
    "def cash_change(_params, substep, sH, s):\n",
    "    cash = s['cash'] * (1+s['r']) ** (1/12)\n",
    "    cash += s['payment']\n",
    "    return ({\"cash\": cash})\n",
    "\n",
    "#Update cash\n",
    "def update_cash(_params, substep, sH, s, _input):\n",
    "    return ('cash', _input['cash'])\n",
    "\n",
    "PSUBs = [\n",
    "        { \n",
    "        'policies': {\n",
    "            'credit_policy': credit_migration\n",
    "        },\n",
    "        'variables': {\n",
    "            'portfolio': update_portfolio\n",
    "            \n",
    "        }\n",
    "    },\n",
    "        { \n",
    "        'policies': {\n",
    "            'default_policy': value_portfolio\n",
    "        },\n",
    "        'variables': {\n",
    "            'default': update_value\n",
    "            \n",
    "        }\n",
    "    },\n",
    "    { \n",
    "        'policies': {\n",
    "            'payment_policy': bond_payments\n",
    "        },\n",
    "        'variables': {\n",
    "            'payment': update_payments\n",
    "            \n",
    "        }\n",
    "    },\n",
    "        { \n",
    "        'policies': {\n",
    "            'cash_policy': cash_change\n",
    "        },\n",
    "        'variables': {\n",
    "            'cash': update_cash\n",
    "            \n",
    "        }\n",
    "    }\n",
    "]\n",
    "\n",
    "sim_config_dict = {\n",
    "    'T': range(360),\n",
    "    'N': 5}\n",
    "c = config_sim(sim_config_dict)\n",
    "\n",
    "exp = Experiment()\n",
    "exp.append_configs(\n",
    "    initial_state = initial_state,\n",
    "    partial_state_update_blocks = PSUBs,\n",
    "    sim_configs = c\n",
    ")\n",
    "\n",
    "#Execute!\n",
    "exec_mode = ExecutionMode()\n",
    "local_mode_ctx = ExecutionContext(context=exec_mode.single_mode)\n",
    "simulation = Executor(exec_context=local_mode_ctx, configs=configs)\n",
    "raw_result, field, sessions = simulation.execute()\n",
    "result = pd.DataFrame(raw_result)"
   ]
  },
  {
   "cell_type": "code",
   "execution_count": 7,
   "metadata": {},
   "outputs": [
    {
     "data": {
      "image/png": "[encoded data removed]",
      "text/plain": [
       "<Figure size 432x288 with 1 Axes>"
      ]
     },
     "metadata": {
      "needs_background": "light"
     },
     "output_type": "display_data"
    }
   ],
   "source": [
    "#Now we see that there is a difference between payments/cash position given whether bonds are defaulting \n",
    "result[result['substep'] == 4].pivot('timestep','run', 'cash').plot(kind='line')\n",
    "plt.show()"
   ]
  },
  {
   "cell_type": "code",
   "execution_count": 19,
   "metadata": {},
   "outputs": [],
   "source": [
    "pathos.helpers.shutdown()\n",
    "configs.clear()"
   ]
  },
  {
   "cell_type": "code",
   "execution_count": 20,
   "metadata": {},
   "outputs": [
    {
     "name": "stdout",
     "output_type": "stream",
     "text": [
      "\n",
      "                  ___________    ____\n",
      "  ________ __ ___/ / ____/   |  / __ \\\n",
      " / ___/ __` / __  / /   / /| | / / / /\n",
      "/ /__/ /_/ / /_/ / /___/ ___ |/ /_/ /\n",
      "\\___/\\__,_/\\__,_/\\____/_/  |_/_____/\n",
      "by cadCAD\n",
      "\n",
      "Execution Mode: single_proc\n",
      "Configuration Count: 1\n",
      "Dimensions of the first simulation: (Timesteps, Params, Runs, Vars) = (360, 4, 6, 5)\n",
      "Execution Method: parallelize_simulations\n",
      "SimIDs   : [0, 0, 0, 0, 0, 0]\n",
      "SubsetIDs: [0, 0, 0, 0, 0, 0]\n",
      "Ns       : [0, 1, 2, 3, 4, 5]\n",
      "ExpIDs   : [0, 0, 0, 0, 0, 0]\n",
      "Total execution time: 19.33s\n"
     ]
    }
   ],
   "source": [
    "#Step 3: Add in the rate change component\n",
    "from scipy.stats import norm\n",
    "\n",
    "#Basic vasicek rate change model\n",
    "def rate_change(r, a=.5, b=.06, sigma=.04, t=1/12):\n",
    "    delta = a* (b-r) * t + t ** .5 * sigma * t ** .5 * norm.ppf(np.random.rand())\n",
    "    return delta + r\n",
    "\n",
    "\n",
    "#Policy for updating\n",
    "def vasicek_policy(_params, substep, sH, s):\n",
    "    r = rate_change(s['r'], _params['a'], _params['b'], _params['sigma'], _params['t'])\n",
    "    return {'r': r}\n",
    "\n",
    "#Simple state update\n",
    "def update_rate(_params, substep, sH, s, _input):\n",
    "    return ('r', _input['r'])\n",
    "\n",
    "\n",
    "\n",
    "PSUBs = [\n",
    "        { \n",
    "        'policies': {\n",
    "            'credit_policy': credit_migration\n",
    "        },\n",
    "        'variables': {\n",
    "            'portfolio': update_portfolio\n",
    "            \n",
    "        }\n",
    "    },\n",
    "        { \n",
    "        'policies': {\n",
    "            'default_policy': value_portfolio\n",
    "        },\n",
    "        'variables': {\n",
    "            'default': update_value\n",
    "            \n",
    "        }\n",
    "    },\n",
    "    { \n",
    "        'policies': {\n",
    "            'payment_policy': bond_payments\n",
    "        },\n",
    "        'variables': {\n",
    "            'payment': update_payments\n",
    "            \n",
    "        }\n",
    "    },\n",
    "        { \n",
    "        'policies': {\n",
    "            'cash_policy': cash_change\n",
    "        },\n",
    "        'variables': {\n",
    "            'cash': update_cash\n",
    "            \n",
    "        }\n",
    "    },\n",
    "            { \n",
    "        'policies': {\n",
    "            'rate_policy': vasicek_policy\n",
    "        },\n",
    "        'variables': {\n",
    "            'r': update_rate\n",
    "            \n",
    "        }\n",
    "    }\n",
    "]\n",
    "\n",
    "\n",
    "\n",
    "\n",
    "sim_config_dict = {\n",
    "    'T': range(360),\n",
    "    'N': 6,\n",
    "\"M\": {'a': [.25], 'b':[.04], 'sigma':[.06], 't':[1/12]}\n",
    "}\n",
    "c = config_sim(sim_config_dict)\n",
    "\n",
    "exp = Experiment()\n",
    "exp.append_configs(\n",
    "    initial_state = initial_state,\n",
    "    partial_state_update_blocks = PSUBs,\n",
    "    sim_configs = c\n",
    ")\n",
    "\n",
    "#Execute!\n",
    "exec_mode = ExecutionMode()\n",
    "local_mode_ctx = ExecutionContext(context=exec_mode.single_mode)\n",
    "simulation = Executor(exec_context=local_mode_ctx, configs=configs)\n",
    "raw_result, field, sessions = simulation.execute()\n",
    "result = pd.DataFrame(raw_result)"
   ]
  },
  {
   "cell_type": "code",
   "execution_count": 21,
   "metadata": {},
   "outputs": [
    {
     "data": {
      "image/png": "[encoded data removed]",
      "text/plain": [
       "<Figure size 432x288 with 1 Axes>"
      ]
     },
     "metadata": {
      "needs_background": "light"
     },
     "output_type": "display_data"
    }
   ],
   "source": [
    "#Rates changing adds more complexity, now the cash is re-invested at different rates\n",
    "result[result['substep'] == 5].pivot('timestep','run', 'cash').plot(kind='line')\n",
    "plt.show()"
   ]
  },
  {
   "cell_type": "code",
   "execution_count": 22,
   "metadata": {},
   "outputs": [
    {
     "data": {
      "text/html": [
       "<div>\n",
       "<style scoped>\n",
       "    .dataframe tbody tr th:only-of-type {\n",
       "        vertical-align: middle;\n",
       "    }\n",
       "\n",
       "    .dataframe tbody tr th {\n",
       "        vertical-align: top;\n",
       "    }\n",
       "\n",
       "    .dataframe thead th {\n",
       "        text-align: right;\n",
       "    }\n",
       "</style>\n",
       "<table border=\"1\" class=\"dataframe\">\n",
       "  <thead>\n",
       "    <tr style=\"text-align: right;\">\n",
       "      <th>run</th>\n",
       "      <th>1</th>\n",
       "      <th>2</th>\n",
       "      <th>3</th>\n",
       "      <th>4</th>\n",
       "      <th>5</th>\n",
       "      <th>6</th>\n",
       "    </tr>\n",
       "    <tr>\n",
       "      <th>timestep</th>\n",
       "      <th></th>\n",
       "      <th></th>\n",
       "      <th></th>\n",
       "      <th></th>\n",
       "      <th></th>\n",
       "      <th></th>\n",
       "    </tr>\n",
       "  </thead>\n",
       "  <tbody>\n",
       "    <tr>\n",
       "      <th>1</th>\n",
       "      <td>0.052480</td>\n",
       "      <td>0.052480</td>\n",
       "      <td>0.052480</td>\n",
       "      <td>0.052480</td>\n",
       "      <td>0.054047</td>\n",
       "      <td>0.054047</td>\n",
       "    </tr>\n",
       "    <tr>\n",
       "      <th>2</th>\n",
       "      <td>0.046550</td>\n",
       "      <td>0.046550</td>\n",
       "      <td>0.046550</td>\n",
       "      <td>0.046550</td>\n",
       "      <td>0.054044</td>\n",
       "      <td>0.054044</td>\n",
       "    </tr>\n",
       "    <tr>\n",
       "      <th>3</th>\n",
       "      <td>0.051282</td>\n",
       "      <td>0.051282</td>\n",
       "      <td>0.051282</td>\n",
       "      <td>0.051282</td>\n",
       "      <td>0.065035</td>\n",
       "      <td>0.065035</td>\n",
       "    </tr>\n",
       "    <tr>\n",
       "      <th>4</th>\n",
       "      <td>0.046848</td>\n",
       "      <td>0.046848</td>\n",
       "      <td>0.046848</td>\n",
       "      <td>0.046848</td>\n",
       "      <td>0.064053</td>\n",
       "      <td>0.064053</td>\n",
       "    </tr>\n",
       "    <tr>\n",
       "      <th>5</th>\n",
       "      <td>0.051131</td>\n",
       "      <td>0.051131</td>\n",
       "      <td>0.051131</td>\n",
       "      <td>0.051131</td>\n",
       "      <td>0.059429</td>\n",
       "      <td>0.059429</td>\n",
       "    </tr>\n",
       "    <tr>\n",
       "      <th>...</th>\n",
       "      <td>...</td>\n",
       "      <td>...</td>\n",
       "      <td>...</td>\n",
       "      <td>...</td>\n",
       "      <td>...</td>\n",
       "      <td>...</td>\n",
       "    </tr>\n",
       "    <tr>\n",
       "      <th>356</th>\n",
       "      <td>0.010590</td>\n",
       "      <td>0.010590</td>\n",
       "      <td>0.010590</td>\n",
       "      <td>0.010590</td>\n",
       "      <td>0.042913</td>\n",
       "      <td>0.042913</td>\n",
       "    </tr>\n",
       "    <tr>\n",
       "      <th>357</th>\n",
       "      <td>0.003821</td>\n",
       "      <td>0.003821</td>\n",
       "      <td>0.003821</td>\n",
       "      <td>0.003821</td>\n",
       "      <td>0.047905</td>\n",
       "      <td>0.047905</td>\n",
       "    </tr>\n",
       "    <tr>\n",
       "      <th>358</th>\n",
       "      <td>0.007042</td>\n",
       "      <td>0.007042</td>\n",
       "      <td>0.007042</td>\n",
       "      <td>0.007042</td>\n",
       "      <td>0.047938</td>\n",
       "      <td>0.047938</td>\n",
       "    </tr>\n",
       "    <tr>\n",
       "      <th>359</th>\n",
       "      <td>0.003889</td>\n",
       "      <td>0.003889</td>\n",
       "      <td>0.003889</td>\n",
       "      <td>0.003889</td>\n",
       "      <td>0.050729</td>\n",
       "      <td>0.050729</td>\n",
       "    </tr>\n",
       "    <tr>\n",
       "      <th>360</th>\n",
       "      <td>-0.000681</td>\n",
       "      <td>-0.000681</td>\n",
       "      <td>-0.000681</td>\n",
       "      <td>-0.000681</td>\n",
       "      <td>0.053744</td>\n",
       "      <td>0.053744</td>\n",
       "    </tr>\n",
       "  </tbody>\n",
       "</table>\n",
       "<p>360 rows × 6 columns</p>\n",
       "</div>"
      ],
      "text/plain": [
       "run              1         2         3         4         5         6\n",
       "timestep                                                            \n",
       "1         0.052480  0.052480  0.052480  0.052480  0.054047  0.054047\n",
       "2         0.046550  0.046550  0.046550  0.046550  0.054044  0.054044\n",
       "3         0.051282  0.051282  0.051282  0.051282  0.065035  0.065035\n",
       "4         0.046848  0.046848  0.046848  0.046848  0.064053  0.064053\n",
       "5         0.051131  0.051131  0.051131  0.051131  0.059429  0.059429\n",
       "...            ...       ...       ...       ...       ...       ...\n",
       "356       0.010590  0.010590  0.010590  0.010590  0.042913  0.042913\n",
       "357       0.003821  0.003821  0.003821  0.003821  0.047905  0.047905\n",
       "358       0.007042  0.007042  0.007042  0.007042  0.047938  0.047938\n",
       "359       0.003889  0.003889  0.003889  0.003889  0.050729  0.050729\n",
       "360      -0.000681 -0.000681 -0.000681 -0.000681  0.053744  0.053744\n",
       "\n",
       "[360 rows x 6 columns]"
      ]
     },
     "execution_count": 22,
     "metadata": {},
     "output_type": "execute_result"
    }
   ],
   "source": [
    "result[result['substep'] == 5].pivot(\"timestep\", 'run', 'r')"
   ]
  },
  {
   "cell_type": "code",
   "execution_count": null,
   "metadata": {},
   "outputs": [],
   "source": [
    "#LEGACY MATERIAL BELOW ----- IGNORE"
   ]
  },
  {
   "cell_type": "code",
   "execution_count": null,
   "metadata": {},
   "outputs": [],
   "source": []
  },
  {
   "cell_type": "code",
   "execution_count": null,
   "metadata": {},
   "outputs": [],
   "source": []
  },
  {
   "cell_type": "code",
   "execution_count": null,
   "metadata": {},
   "outputs": [],
   "source": []
  },
  {
   "cell_type": "code",
   "execution_count": null,
   "metadata": {},
   "outputs": [],
   "source": []
  },
  {
   "cell_type": "code",
   "execution_count": null,
   "metadata": {},
   "outputs": [],
   "source": []
  },
  {
   "cell_type": "code",
   "execution_count": null,
   "metadata": {},
   "outputs": [],
   "source": []
  },
  {
   "cell_type": "code",
   "execution_count": 7,
   "metadata": {},
   "outputs": [
    {
     "name": "stdout",
     "output_type": "stream",
     "text": [
      "\n",
      "                            __________   ____ \n",
      "          ________ __ _____/ ____/   |  / __ \\\n",
      "         / ___/ __` / __  / /   / /| | / / / /\n",
      "        / /__/ /_/ / /_/ / /___/ ___ |/ /_/ / \n",
      "        \\___/\\__,_/\\__,_/\\____/_/  |_/_____/  \n",
      "        by BlockScience\n",
      "        \n",
      "Execution Mode: single_proc: [<cadCAD.configuration.Configuration object at 0x11ea02b70>]\n",
      "Configurations: [<cadCAD.configuration.Configuration object at 0x11ea02b70>]\n"
     ]
    }
   ],
   "source": [
    "#Sample 100 runs\n",
    "#Set parameters for 5 runs over 30 years\n",
    "simulation_parameters = {\n",
    "    'T': range(360),\n",
    "    'N': 100,\n",
    "    'M': {}\n",
    "}\n",
    "\n",
    "# Set configuration\n",
    "config = Configuration(initial_state=initial_conditions,\n",
    "                       partial_state_update_blocks=partial_state_update_blocks,\n",
    "                       sim_config=simulation_parameters\n",
    "                      )\n",
    "\n",
    "exec_mode = ExecutionMode()\n",
    "exec_context = ExecutionContext(exec_mode.single_proc)\n",
    "executor = Executor(exec_context, [config])\n",
    "raw_result, tensor = executor.execute()\n",
    "\n",
    "df = pd.DataFrame(raw_result)\n",
    "df = df.groupby(['run', 'timestep']).last().reset_index()"
   ]
  },
  {
   "cell_type": "code",
   "execution_count": 8,
   "metadata": {},
   "outputs": [
    {
     "name": "stderr",
     "output_type": "stream",
     "text": [
      "/Users/seanmcowen/anaconda/lib/python3.6/site-packages/matplotlib/axes/_axes.py:6462: UserWarning: The 'normed' kwarg is deprecated, and has been replaced by the 'density' kwarg.\n",
      "  warnings.warn(\"The 'normed' kwarg is deprecated, and has been \"\n"
     ]
    },
    {
     "data": {
      "image/png": "[encoded data removed]",
      "text/plain": [
       "<Figure size 432x288 with 1 Axes>"
      ]
     },
     "metadata": {
      "needs_background": "light"
     },
     "output_type": "display_data"
    }
   ],
   "source": [
    "#Plot terminal cash distribution\n",
    "import seaborn as sns\n",
    "\n",
    "sns.distplot(df[df['timestep'] == 360]['cash'], kde=True)\n",
    "plt.show()"
   ]
  },
  {
   "cell_type": "code",
   "execution_count": 9,
   "metadata": {},
   "outputs": [
    {
     "data": {
      "image/png": "[encoded data removed]",
      "text/plain": [
       "<Figure size 432x288 with 1 Axes>"
      ]
     },
     "metadata": {
      "needs_background": "light"
     },
     "output_type": "display_data"
    }
   ],
   "source": [
    "#Plot yields distribution\n",
    "\n",
    "yields = df[df['timestep'] == 360]['cash']\n",
    "yields = (yields / 30000) ** (1/30) - 1\n",
    "yields.name = 'Yield'\n",
    "sns.distplot(yields, kde=True)\n",
    "plt.show()"
   ]
  },
  {
   "cell_type": "code",
   "execution_count": 10,
   "metadata": {},
   "outputs": [
    {
     "data": {
      "image/png": "[encoded data removed]",
      "text/plain": [
       "<Figure size 432x288 with 1 Axes>"
      ]
     },
     "metadata": {
      "needs_background": "light"
     },
     "output_type": "display_data"
    }
   ],
   "source": [
    "#Find the bounds for two standard deviations around cash\n",
    "\n",
    "cash = df.pivot(\"timestep\", \"run\", \"cash\")\n",
    "mu = cash.mean(axis=1)\n",
    "std = cash.std(axis=1)\n",
    "lower_bound = mu - 2 * std\n",
    "upper_bound = mu + 2 * std\n",
    "\n",
    "mu.plot(kind='line', color='black')\n",
    "lower_bound.plot(kind='line', color='red', linestyle='--')\n",
    "upper_bound.plot(kind='line', color='red', linestyle='--')\n",
    "plt.show()"
   ]
  },
  {
   "cell_type": "code",
   "execution_count": 11,
   "metadata": {},
   "outputs": [
    {
     "name": "stdout",
     "output_type": "stream",
     "text": [
      "\n",
      "                            __________   ____ \n",
      "          ________ __ _____/ ____/   |  / __ \\\n",
      "         / ___/ __` / __  / /   / /| | / / / /\n",
      "        / /__/ /_/ / /_/ / /___/ ___ |/ /_/ / \n",
      "        \\___/\\__,_/\\__,_/\\____/_/  |_/_____/  \n",
      "        by BlockScience\n",
      "        \n",
      "Execution Mode: single_proc: [<cadCAD.configuration.Configuration object at 0x11c3e8908>]\n",
      "Configurations: [<cadCAD.configuration.Configuration object at 0x11c3e8908>]\n"
     ]
    }
   ],
   "source": [
    "#Test with higher coupon, lower rated bonds\n",
    "portfolio = pd.DataFrame([\"BBB\"]*10+[\"BB\"]*10+[\"B\"]*10, columns = ['Rating'])\n",
    "portfolio['Coupon Rate'] = [.10] * 10 + [.12] * 10 + [.14] * 10\n",
    "portfolio['Payment Frequency'] = [6,12] * 15\n",
    "portfolio['Face Value'] = 1000\n",
    "\n",
    "\n",
    "#Set initial portfolio\n",
    "initial_conditions = {\n",
    "    'portfolio': portfolio,\n",
    "    'default': 0,\n",
    "    'r': .06,\n",
    "    'cash': 0,\n",
    "    'payment': 0\n",
    "}\n",
    "\n",
    "simulation_parameters = {\n",
    "    'T': range(360),\n",
    "    'N': 100,\n",
    "    'M': {}\n",
    "}\n",
    "\n",
    "# Set configuration\n",
    "config = Configuration(initial_state=initial_conditions,\n",
    "                       partial_state_update_blocks=partial_state_update_blocks,\n",
    "                       sim_config=simulation_parameters\n",
    "                      )\n",
    "\n",
    "exec_mode = ExecutionMode()\n",
    "exec_context = ExecutionContext(exec_mode.single_proc)\n",
    "executor = Executor(exec_context, [config])\n",
    "raw_result, tensor = executor.execute()\n",
    "\n",
    "df = pd.DataFrame(raw_result)\n",
    "df = df.groupby(['run', 'timestep']).last().reset_index()"
   ]
  },
  {
   "cell_type": "code",
   "execution_count": 12,
   "metadata": {},
   "outputs": [
    {
     "data": {
      "image/png": "[encoded data removed]",
      "text/plain": [
       "<Figure size 432x288 with 1 Axes>"
      ]
     },
     "metadata": {
      "needs_background": "light"
     },
     "output_type": "display_data"
    },
    {
     "data": {
      "image/png": "[encoded data removed]",
      "text/plain": [
       "<Figure size 432x288 with 1 Axes>"
      ]
     },
     "metadata": {
      "needs_background": "light"
     },
     "output_type": "display_data"
    },
    {
     "data": {
      "image/png": "[encoded data removed]",
      "text/plain": [
       "<Figure size 432x288 with 1 Axes>"
      ]
     },
     "metadata": {
      "needs_background": "light"
     },
     "output_type": "display_data"
    }
   ],
   "source": [
    "#Plot terminal cash distribution\n",
    "import seaborn as sns\n",
    "\n",
    "sns.distplot(df[df['timestep'] == 360]['cash'], kde=True)\n",
    "plt.show()\n",
    "\n",
    "#Plot yields distribution\n",
    "\n",
    "yields = df[df['timestep'] == 360]['cash']\n",
    "yields = (yields / 30000) ** (1/30) - 1\n",
    "yields.name = 'Yield'\n",
    "sns.distplot(yields, kde=True)\n",
    "plt.show()\n",
    "\n",
    "#Find the bounds for two standard deviations around cash\n",
    "\n",
    "cash = df.pivot(\"timestep\", \"run\", \"cash\")\n",
    "mu = cash.mean(axis=1)\n",
    "std = cash.std(axis=1)\n",
    "lower_bound = mu - 2 * std\n",
    "upper_bound = mu + 2 * std\n",
    "\n",
    "mu.plot(kind='line', color='black')\n",
    "lower_bound.plot(kind='line', color='red', linestyle='--')\n",
    "upper_bound.plot(kind='line', color='red', linestyle='--')\n",
    "plt.show()"
   ]
  },
  {
   "cell_type": "code",
   "execution_count": null,
   "metadata": {},
   "outputs": [],
   "source": []
  },
  {
   "cell_type": "code",
   "execution_count": null,
   "metadata": {},
   "outputs": [],
   "source": []
  }
 ],
 "metadata": {
  "kernelspec": {
   "display_name": "Python 3",
   "language": "python",
   "name": "python3"
  },
  "language_info": {
   "codemirror_mode": {
    "name": "ipython",
    "version": 3
   },
   "file_extension": ".py",
   "mimetype": "text/x-python",
   "name": "python",
   "nbconvert_exporter": "python",
   "pygments_lexer": "ipython3",
   "version": "3.8.3"
  }
 },
 "nbformat": 4,
 "nbformat_minor": 2
}
