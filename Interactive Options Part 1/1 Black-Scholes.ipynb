{
 "cells": [
  {
   "cell_type": "code",
   "execution_count": 1,
   "metadata": {},
   "outputs": [
    {
     "data": {
      "application/vnd.jupyter.widget-view+json": {
       "model_id": "b5f765b3fbbe447ab3ca68a1df36e8a8",
       "version_major": 2,
       "version_minor": 0
      },
      "text/plain": [
       "interactive(children=(IntSlider(value=50, description='Strike Price:', min=1, readout_format='.1f'), FloatSlid…"
      ]
     },
     "metadata": {},
     "output_type": "display_data"
    }
   ],
   "source": [
    "from IPython.display import display\n",
    "from ipywidgets import widgets, interact\n",
    "\n",
    "#Build the widgets\n",
    "X = widgets.IntSlider(\n",
    "    value=50,\n",
    "    min=1,\n",
    "    max=100,\n",
    "    step=1,\n",
    "    description='Strike Price:',\n",
    "    readout_format='.1f',\n",
    ")\n",
    "\n",
    "t = widgets.FloatSlider(\n",
    "    value=1,\n",
    "    min=0.01,\n",
    "    max=10,\n",
    "    step=.01,\n",
    "    description='Time to Maturity:',\n",
    "    readout_format='.2f',\n",
    ")\n",
    "\n",
    "rf = widgets.FloatSlider(\n",
    "    value=.05,\n",
    "    min=0,\n",
    "    max=.20,\n",
    "    step=.0001,\n",
    "    description='Risk-free Rate:',\n",
    "    readout_format='.2%',\n",
    ")\n",
    "\n",
    "sigma = widgets.FloatSlider(\n",
    "    value=.08,\n",
    "    min=0,\n",
    "    max=.80,\n",
    "    step=.0001,\n",
    "    description='Implied Volatility:',\n",
    "    readout_format='.2%',\n",
    ")\n",
    "\n",
    "#Create a dummy function\n",
    "def compute_BS_calls(X, sigma, rf, t):\n",
    "    print(X, sigma, rf, t)\n",
    "interact(compute_BS_calls,X=X, sigma=sigma, rf=rf, t=t);"
   ]
  },
  {
   "cell_type": "code",
   "execution_count": 2,
   "metadata": {},
   "outputs": [],
   "source": [
    "X.close()\n",
    "sigma.close()\n",
    "rf.close()\n",
    "t.close()"
   ]
  },
  {
   "cell_type": "code",
   "execution_count": 3,
   "metadata": {},
   "outputs": [
    {
     "data": {
      "application/vnd.jupyter.widget-view+json": {
       "model_id": "d9c6d164aa8743e9ad853c81a22c8b23",
       "version_major": 2,
       "version_minor": 0
      },
      "text/plain": [
       "interactive(children=(IntSlider(value=50, description='Strike Price:', min=1, readout_format='.1f'), FloatSlid…"
      ]
     },
     "metadata": {},
     "output_type": "display_data"
    }
   ],
   "source": [
    "#Build a formula to automatically create the widgets\n",
    "def build_widgets():\n",
    "    X = widgets.IntSlider(\n",
    "    value=50,\n",
    "    min=1,\n",
    "    max=100,\n",
    "    step=1,\n",
    "    description='Strike Price:',\n",
    "    readout_format='.1f',\n",
    "    )\n",
    "    \n",
    "    t = widgets.FloatSlider(\n",
    "    value=1,\n",
    "    min=0.01,\n",
    "    max=10,\n",
    "    step=.01,\n",
    "    description='Time to Maturity:',\n",
    "    readout_format='.2f',\n",
    "    )\n",
    "    \n",
    "    rf = widgets.FloatSlider(\n",
    "    value=.05,\n",
    "    min=0,\n",
    "    max=.20,\n",
    "    step=.0001,\n",
    "    description='Risk-free Rate:',\n",
    "    readout_format='.2%',\n",
    "    )\n",
    "    \n",
    "    sigma = widgets.FloatSlider(\n",
    "    value=.08,\n",
    "    min=0,\n",
    "    max=.80,\n",
    "    step=.0001,\n",
    "    description='Implied Volatility:',\n",
    "    readout_format='.2%',\n",
    "    )\n",
    "    \n",
    "    return X, t, rf, sigma\n",
    "X, t, rf, sigma = build_widgets()\n",
    "interact(compute_BS_calls,X=X, sigma=sigma, rf=rf, t=t);"
   ]
  },
  {
   "cell_type": "code",
   "execution_count": 4,
   "metadata": {},
   "outputs": [],
   "source": [
    "#Create a function to close the widgets\n",
    "def close_widgets(widgets):\n",
    "    for widget in widgets:\n",
    "        widget.close()\n",
    "close_widgets([X, t, rf, sigma])"
   ]
  },
  {
   "cell_type": "code",
   "execution_count": 5,
   "metadata": {},
   "outputs": [
    {
     "data": {
      "application/vnd.jupyter.widget-view+json": {
       "model_id": "e340ef3cdbeb4ae78551cd001696327b",
       "version_major": 2,
       "version_minor": 0
      },
      "text/plain": [
       "interactive(children=(IntSlider(value=50, description='Strike Price:', min=1, readout_format='.1f'), FloatSlid…"
      ]
     },
     "metadata": {},
     "output_type": "display_data"
    }
   ],
   "source": [
    "import pandas as pd\n",
    "import numpy as np\n",
    "from scipy.stats import norm\n",
    "\n",
    "#Pull in the black-scholes call formula from the course\n",
    "def black_scholes_call(S, X, sigma, rf, t):\n",
    "    d1 = 1/(sigma*t**.5) * (np.log(S/X)  + (rf + sigma **2 /2) * t)\n",
    "    d2 = d1 - sigma * t**.5\n",
    "    return norm.cdf(d1) * S - norm.cdf(d2) * X * np.exp(-rf*t)\n",
    "\n",
    "#Create a function for testing ranges of prices for black-scholes call options\n",
    "def compute_BS_calls(X, sigma, rf, t):\n",
    "    calls = pd.Series(list(range(101)))\n",
    "    calls = calls.apply(lambda S: black_scholes_call(S, X, sigma, rf, t))\n",
    "    print(calls)\n",
    "    \n",
    "X, t, rf, sigma = build_widgets()\n",
    "interact(compute_BS_calls,X=X, sigma=sigma, rf=rf, t=t);"
   ]
  },
  {
   "cell_type": "code",
   "execution_count": 6,
   "metadata": {},
   "outputs": [],
   "source": [
    "close_widgets([X, t, rf, sigma])"
   ]
  },
  {
   "cell_type": "code",
   "execution_count": 7,
   "metadata": {},
   "outputs": [
    {
     "data": {
      "application/vnd.jupyter.widget-view+json": {
       "model_id": "0ca59fc5131f43dbbc6e60aa50645dda",
       "version_major": 2,
       "version_minor": 0
      },
      "text/plain": [
       "interactive(children=(IntSlider(value=50, description='Strike Price:', min=1, readout_format='.1f'), FloatSlid…"
      ]
     },
     "metadata": {},
     "output_type": "display_data"
    }
   ],
   "source": [
    "import matplotlib.pyplot as plt\n",
    "\n",
    "#Change the formula to plot the value of the option\n",
    "def compute_BS_calls(X, sigma, rf, t):\n",
    "    calls = pd.Series(list(range(101)))\n",
    "    calls = calls.apply(lambda S: black_scholes_call(S, X, sigma, rf, t))\n",
    "    calls.plot(kind='line')\n",
    "    plt.show()\n",
    "    \n",
    "X, t, rf, sigma = build_widgets()\n",
    "interact(compute_BS_calls,X=X, sigma=sigma, rf=rf, t=t);"
   ]
  },
  {
   "cell_type": "code",
   "execution_count": 8,
   "metadata": {},
   "outputs": [],
   "source": [
    "close_widgets([X, t, rf, sigma])"
   ]
  },
  {
   "cell_type": "code",
   "execution_count": 9,
   "metadata": {},
   "outputs": [
    {
     "data": {
      "application/vnd.jupyter.widget-view+json": {
       "model_id": "e2c0290c22d34bd78133acd4fd656a75",
       "version_major": 2,
       "version_minor": 0
      },
      "text/plain": [
       "VBox(children=(HBox(children=(VBox(children=(IntSlider(value=50, description='Strike Price:', min=1, readout_f…"
      ]
     },
     "metadata": {},
     "output_type": "display_data"
    }
   ],
   "source": [
    "#Change the formula to return two sets of widgets for two different call options\n",
    "from ipywidgets import HBox, VBox, interactive_output\n",
    "\n",
    "def build_widgets2():\n",
    "    X1 = widgets.IntSlider(\n",
    "    value=50,\n",
    "    min=1,\n",
    "    max=100,\n",
    "    step=1,\n",
    "    description='Strike Price:',\n",
    "    readout_format='.1f',\n",
    "    )\n",
    "    \n",
    "    t1 = widgets.FloatSlider(\n",
    "    value=1,\n",
    "    min=0.01,\n",
    "    max=10,\n",
    "    step=.01,\n",
    "    description='Time to Maturity:',\n",
    "    readout_format='.2f',\n",
    "    )\n",
    "    \n",
    "    rf1 = widgets.FloatSlider(\n",
    "    value=.05,\n",
    "    min=0,\n",
    "    max=.20,\n",
    "    step=.0001,\n",
    "    description='Risk-free Rate:',\n",
    "    readout_format='.2%',\n",
    "    )\n",
    "    \n",
    "    sigma1 = widgets.FloatSlider(\n",
    "    value=.08,\n",
    "    min=0,\n",
    "    max=.80,\n",
    "    step=.0001,\n",
    "    description='Implied Volatility:',\n",
    "    readout_format='.2%',\n",
    "    )\n",
    "    \n",
    "    \n",
    "    X2 = widgets.IntSlider(\n",
    "    value=50,\n",
    "    min=1,\n",
    "    max=100,\n",
    "    step=1,\n",
    "    description='Strike Price 2:',\n",
    "    readout_format='.1f',\n",
    "    )\n",
    "    \n",
    "    t2 = widgets.FloatSlider(\n",
    "    value=1,\n",
    "    min=0.01,\n",
    "    max=10,\n",
    "    step=.01,\n",
    "    description='Time to Maturity 2:',\n",
    "    readout_format='.2f',\n",
    "    )\n",
    "    \n",
    "    rf2 = widgets.FloatSlider(\n",
    "    value=.05,\n",
    "    min=0,\n",
    "    max=.20,\n",
    "    step=.0001,\n",
    "    description='Risk-free Rate 2:',\n",
    "    readout_format='.2%',\n",
    "    )\n",
    "    \n",
    "    sigma2 = widgets.FloatSlider(\n",
    "    value=.20,\n",
    "    min=0,\n",
    "    max=.80,\n",
    "    step=.0001,\n",
    "    description='Implied Volatility 2:',\n",
    "    readout_format='.2%',\n",
    "    )\n",
    "    \n",
    "    return X1, sigma1, rf1, t1, X2, sigma2, rf2, t2\n",
    "\n",
    "#Create a function to compare black-scholes options\n",
    "def compute_BS_calls_comparison(X1, sigma1, rf1, t1,\n",
    "                               X2, sigma2, rf2, t2):\n",
    "    calls1 = pd.Series(list(range(101)))\n",
    "    calls1 = calls1.apply(lambda S: black_scholes_call(S, X1, sigma1, rf1, t1))\n",
    "    \n",
    "    calls2 = pd.Series(list(range(101)))\n",
    "    calls2 = calls2.apply(lambda S: black_scholes_call(S, X2, sigma2, rf2, t2))\n",
    "    calls = pd.concat([calls1, calls2], axis=1)\n",
    "    calls.columns = ['Call 1', 'Call 2']\n",
    "    calls.plot(kind='line')\n",
    "    plt.xlabel(\"Stock Price\")\n",
    "    plt.ylabel(\"Option Value\")\n",
    "    plt.show()\n",
    "    \n",
    "X1, sigma1, rf1, t1, X2, sigma2, rf2, t2 = build_widgets2()\n",
    "graph = interactive_output(compute_BS_calls_comparison,{\"X1\":X1, \"sigma1\":sigma1, \"rf1\":rf1, \"t1\":t1,\n",
    "                               \"X2\":X2, \"sigma2\":sigma2, \"rf2\":rf2, \"t2\":t2})\n",
    "display(VBox([HBox([VBox([X1, sigma1, rf1, t1]),\n",
    "VBox([X2, sigma2, rf2, t2])]), graph]));"
   ]
  },
  {
   "cell_type": "code",
   "execution_count": 10,
   "metadata": {},
   "outputs": [],
   "source": [
    "close_widgets([X1, sigma1, rf1, t1, X2, sigma2, rf2, t2])"
   ]
  },
  {
   "cell_type": "code",
   "execution_count": 11,
   "metadata": {},
   "outputs": [
    {
     "data": {
      "application/vnd.jupyter.widget-view+json": {
       "model_id": "e45ee8c0e64b46bfb250740da1223923",
       "version_major": 2,
       "version_minor": 0
      },
      "text/plain": [
       "VBox(children=(HBox(children=(VBox(children=(IntSlider(value=50, description='Strike Price:', min=1, readout_f…"
      ]
     },
     "metadata": {},
     "output_type": "display_data"
    }
   ],
   "source": [
    "#Create a dashboard for comparing delta and gamma\n",
    "def black_scholes_delta(S, X, sigma, rf, t):\n",
    "    d1 = 1/(sigma*t**.5) * (np.log(S/X)  + (rf + sigma **2 /2) * t)\n",
    "    return norm.cdf(d1)\n",
    "\n",
    "def black_scholes_gamma(S, X, sigma, rf, t):\n",
    "    d1 = 1/(sigma*t**.5) * (np.log(S/X)  + (rf + sigma **2 /2) * t)\n",
    "    dN = np.exp(-d1**2/2) / (2 * np.pi)\n",
    "    return dN / (S * sigma * t **.5)\n",
    "\n",
    "def compute_BS_calls_comparison(X1, sigma1, rf1, t1,\n",
    "                               X2, sigma2, rf2, t2):\n",
    "    fig, ax = plt.subplots(ncols=3, figsize=(15,6))\n",
    "    calls1 = pd.Series(list(range(101)))\n",
    "    calls1 = calls1.apply(lambda S: black_scholes_call(S, X1, sigma1, rf1, t1))\n",
    "    \n",
    "    calls2 = pd.Series(list(range(101)))\n",
    "    calls2 = calls2.apply(lambda S: black_scholes_call(S, X2, sigma2, rf2, t2))\n",
    "    calls = pd.concat([calls1, calls2], axis=1)\n",
    "    calls.columns = ['Call 1', 'Call 2']\n",
    "    calls.plot(kind='line', ax=ax[0])\n",
    "    ax[0].set_xlabel(\"Stock Price\")\n",
    "    ax[0].set_ylabel(\"Option Value\")\n",
    "    \n",
    "    calls_delta1 = pd.Series(list(range(101)))\n",
    "    calls_delta1 = calls_delta1.apply(lambda S: black_scholes_delta(S, X1, sigma1, rf1, t1))\n",
    "    \n",
    "    calls_delta2 = pd.Series(list(range(101)))\n",
    "    calls_delta2 = calls_delta2.apply(lambda S: black_scholes_delta(S, X2, sigma2, rf2, t2))\n",
    "    \n",
    "    calls_delta = pd.concat([calls_delta1, calls_delta2], axis=1)\n",
    "    calls_delta.columns = ['Call 1', 'Call 2']\n",
    "    calls_delta.plot(kind='line', ax=ax[1])\n",
    "    ax[1].set_xlabel(\"Stock Price\")\n",
    "    ax[1].set_ylabel(\"Option Delta\")\n",
    "    \n",
    "    calls_gamma1 = pd.Series(list(range(101)))\n",
    "    calls_gamma1 = calls_gamma1.apply(lambda S: black_scholes_gamma(S, X1, sigma1, rf1, t1))\n",
    "    \n",
    "    calls_gamma2 = pd.Series(list(range(101)))\n",
    "    calls_gamma2 = calls_gamma2.apply(lambda S: black_scholes_gamma(S, X2, sigma2, rf2, t2))\n",
    "    \n",
    "    calls_gamma = pd.concat([calls_gamma1, calls_gamma2], axis=1)\n",
    "    calls_gamma.columns = ['Call 1', 'Call 2']\n",
    "    calls_gamma.plot(kind='line', ax=ax[2])\n",
    "    ax[2].set_xlabel(\"Stock Price\")\n",
    "    ax[2].set_ylabel(\"Option Gamma\")\n",
    "    plt.show()\n",
    "    \n",
    "close_widgets([X1, sigma1, rf1, t1, X2, sigma2, rf2, t2])\n",
    "X1, sigma1, rf1, t1, X2, sigma2, rf2, t2 = build_widgets2()\n",
    "graph = interactive_output(compute_BS_calls_comparison,{\"X1\":X1, \"sigma1\":sigma1, \"rf1\":rf1, \"t1\":t1,\n",
    "                               \"X2\":X2, \"sigma2\":sigma2, \"rf2\":rf2, \"t2\":t2})\n",
    "VBox([HBox([VBox([X1, sigma1, rf1, t1]),\n",
    "VBox([X2, sigma2, rf2, t2])]), graph])"
   ]
  }
 ],
 "metadata": {
  "kernelspec": {
   "display_name": "Python 3",
   "language": "python",
   "name": "python3"
  },
  "language_info": {
   "codemirror_mode": {
    "name": "ipython",
    "version": 3
   },
   "file_extension": ".py",
   "mimetype": "text/x-python",
   "name": "python",
   "nbconvert_exporter": "python",
   "pygments_lexer": "ipython3",
   "version": "3.8.3"
  }
 },
 "nbformat": 4,
 "nbformat_minor": 2
}
