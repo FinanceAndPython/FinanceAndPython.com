{
 "cells": [
  {
   "cell_type": "code",
   "execution_count": 1,
   "metadata": {
    "collapsed": true
   },
   "outputs": [],
   "source": [
    "import sqlite3\n",
    "import os\n",
    "\n",
    "#First make sure if the database is already there that we erase it prior to this lesson\n",
    "if os.path.exists(\"Basics.db\"):\n",
    "    os.remove(\"Basics.db\")\n",
    "#Import sqlite3 which will allow us to create a SQL database and also \n",
    "conn = sqlite3.connect('Basics.db')\n",
    "#We create a connection to a sqlite database called Basics.db\n",
    "#If this is not yet created then it gets created automatically"
   ]
  },
  {
   "cell_type": "code",
   "execution_count": 2,
   "metadata": {
    "collapsed": true
   },
   "outputs": [],
   "source": [
    "#The first step in working with this is creating a cursor\n",
    "#The cursor will let us execute SQL commands\n",
    "cur = conn.cursor()"
   ]
  },
  {
   "cell_type": "code",
   "execution_count": 3,
   "metadata": {},
   "outputs": [
    {
     "data": {
      "text/plain": [
       "<sqlite3.Cursor at 0x103ccf2d0>"
      ]
     },
     "execution_count": 3,
     "metadata": {},
     "output_type": "execute_result"
    }
   ],
   "source": [
    "#We use c.execute() to execute things in SQL. Let's create a table of students and grades\n",
    "#Create table makes our table followed by the name of the table and in parantheses the column names and types\n",
    "#The variables are name and grade, and there tpe is varchar (similar to a string) with 100 characters and an integer\n",
    "query = \"\"\"CREATE TABLE students(\n",
    "name varchar(100),\n",
    "grade int\n",
    ");\"\"\"\n",
    "cur.execute(query)"
   ]
  },
  {
   "cell_type": "code",
   "execution_count": 4,
   "metadata": {},
   "outputs": [
    {
     "ename": "OperationalError",
     "evalue": "table students already exists",
     "output_type": "error",
     "traceback": [
      "\u001b[0;31m---------------------------------------------------------------------------\u001b[0m",
      "\u001b[0;31mOperationalError\u001b[0m                          Traceback (most recent call last)",
      "\u001b[0;32m<ipython-input-4-d360d91e9d10>\u001b[0m in \u001b[0;36m<module>\u001b[0;34m()\u001b[0m\n\u001b[1;32m      1\u001b[0m \u001b[0;31m#What happens if we try and make the same table twice?\u001b[0m\u001b[0;34m\u001b[0m\u001b[0;34m\u001b[0m\u001b[0m\n\u001b[0;32m----> 2\u001b[0;31m \u001b[0mcur\u001b[0m\u001b[0;34m.\u001b[0m\u001b[0mexecute\u001b[0m\u001b[0;34m(\u001b[0m\u001b[0mquery\u001b[0m\u001b[0;34m)\u001b[0m\u001b[0;34m\u001b[0m\u001b[0m\n\u001b[0m",
      "\u001b[0;31mOperationalError\u001b[0m: table students already exists"
     ]
    }
   ],
   "source": [
    "#What happens if we try and make the same table twice?\n",
    "cur.execute(query)"
   ]
  },
  {
   "cell_type": "code",
   "execution_count": 5,
   "metadata": {},
   "outputs": [
    {
     "data": {
      "text/plain": [
       "<sqlite3.Cursor at 0x103ccf2d0>"
      ]
     },
     "execution_count": 5,
     "metadata": {},
     "output_type": "execute_result"
    }
   ],
   "source": [
    "#You can delete a table with drop followed by the name\n",
    "#And then add it back\n",
    "query = \"DROP TABLE students;\"\n",
    "cur.execute(query)\n",
    "query = \"\"\"CREATE TABLE students(\n",
    "name varchar(100),\n",
    "grade int\n",
    ");\"\"\"\n",
    "cur.execute(query)"
   ]
  },
  {
   "cell_type": "code",
   "execution_count": 6,
   "metadata": {},
   "outputs": [
    {
     "data": {
      "text/plain": [
       "<sqlite3.Cursor at 0x103ccf2d0>"
      ]
     },
     "execution_count": 6,
     "metadata": {},
     "output_type": "execute_result"
    }
   ],
   "source": [
    "#You can insert into a SQL database with INSERT INTO followed by the table and values\n",
    "#Notice the quotes around Tom because it is a character\n",
    "query = \"\"\"INSERT INTO students\n",
    "VALUES (\"Tom\",90);\"\"\"\n",
    "cur.execute(query)"
   ]
  },
  {
   "cell_type": "code",
   "execution_count": 7,
   "metadata": {},
   "outputs": [
    {
     "data": {
      "text/plain": [
       "<sqlite3.Cursor at 0x103ccf2d0>"
      ]
     },
     "execution_count": 7,
     "metadata": {},
     "output_type": "execute_result"
    }
   ],
   "source": [
    "#You can also selectively insert into only certain columns\n",
    "query = \"\"\"INSERT INTO students (name)\n",
    "VALUES (\"Josh\");\"\"\"\n",
    "cur.execute(query)"
   ]
  },
  {
   "cell_type": "code",
   "execution_count": 8,
   "metadata": {},
   "outputs": [
    {
     "data": {
      "text/plain": [
       "<sqlite3.Cursor at 0x103ccf2d0>"
      ]
     },
     "execution_count": 8,
     "metadata": {},
     "output_type": "execute_result"
    }
   ],
   "source": [
    "#You can also insert multiple rows at the same time\n",
    "query = \"\"\"INSERT INTO students\n",
    "VALUES (\"Mary\",85),(\"Clair\",95);\"\"\"\n",
    "cur.execute(query)"
   ]
  },
  {
   "cell_type": "code",
   "execution_count": 9,
   "metadata": {
    "collapsed": true
   },
   "outputs": [],
   "source": [
    "#Use commit() to save your changes\n",
    "conn.commit()"
   ]
  },
  {
   "cell_type": "code",
   "execution_count": 10,
   "metadata": {
    "collapsed": true
   },
   "outputs": [],
   "source": [
    "#Then close the connection with close()\n",
    "conn.close()"
   ]
  },
  {
   "cell_type": "code",
   "execution_count": 11,
   "metadata": {
    "collapsed": true
   },
   "outputs": [],
   "source": [
    "#Let's connect again\n",
    "conn = sqlite3.connect('Basics.db')\n",
    "cur = conn.cursor()"
   ]
  },
  {
   "cell_type": "code",
   "execution_count": 12,
   "metadata": {},
   "outputs": [
    {
     "data": {
      "text/plain": [
       "<sqlite3.Cursor at 0x103d59b20>"
      ]
     },
     "execution_count": 12,
     "metadata": {},
     "output_type": "execute_result"
    }
   ],
   "source": [
    "#The way we view all data in a database is by using SELECT * FROM followed by our table name\n",
    "query = \"\"\"SELECT * FROM students;\"\"\"\n",
    "cur.execute(query)"
   ]
  },
  {
   "cell_type": "code",
   "execution_count": 13,
   "metadata": {},
   "outputs": [
    {
     "name": "stdout",
     "output_type": "stream",
     "text": [
      "('Tom', 90)\n",
      "('Josh', None)\n",
      "('Mary', 85)\n",
      "('Clair', 95)\n"
     ]
    }
   ],
   "source": [
    "#But we do not actually see the result, to do that we iterate over the return\n",
    "for row in cur.execute('SELECT * FROM students;'):\n",
    "    print(row)"
   ]
  },
  {
   "cell_type": "code",
   "execution_count": 14,
   "metadata": {},
   "outputs": [
    {
     "name": "stdout",
     "output_type": "stream",
     "text": [
      "('Tom',)\n",
      "('Josh',)\n",
      "('Mary',)\n",
      "('Clair',)\n"
     ]
    }
   ],
   "source": [
    "#We can also select only one or more column by giving columns instead of *\n",
    "for row in cur.execute('SELECT name FROM students;'):\n",
    "    print(row)"
   ]
  },
  {
   "cell_type": "code",
   "execution_count": 15,
   "metadata": {},
   "outputs": [
    {
     "name": "stdout",
     "output_type": "stream",
     "text": [
      "('Tom', 90)\n",
      "('Clair', 95)\n"
     ]
    }
   ],
   "source": [
    "#You can also select rows based on a condition\n",
    "for row in cur.execute('SELECT * FROM students WHERE grade>87;'):\n",
    "    print(row)"
   ]
  },
  {
   "cell_type": "code",
   "execution_count": 16,
   "metadata": {},
   "outputs": [
    {
     "name": "stdout",
     "output_type": "stream",
     "text": [
      "('Tom',)\n",
      "('Clair',)\n"
     ]
    }
   ],
   "source": [
    "#If we want only names we can combine the last two queries\n",
    "for row in cur.execute('SELECT name FROM students WHERE grade>87;'):\n",
    "    print(row)"
   ]
  },
  {
   "cell_type": "code",
   "execution_count": 17,
   "metadata": {},
   "outputs": [
    {
     "name": "stdout",
     "output_type": "stream",
     "text": [
      "('Tom',)\n",
      "\n",
      "\n",
      "('Mary',)\n",
      "('Clair',)\n"
     ]
    }
   ],
   "source": [
    "#There are also clauses we can use such as AND/OR\n",
    "for row in cur.execute('SELECT name FROM students WHERE grade>87 AND grade<93;'):\n",
    "    print(row)\n",
    "print()\n",
    "print()\n",
    "for row in cur.execute('SELECT name FROM students WHERE grade<87 OR grade>93;'):\n",
    "    print(row)"
   ]
  },
  {
   "cell_type": "code",
   "execution_count": 18,
   "metadata": {},
   "outputs": [
    {
     "name": "stdout",
     "output_type": "stream",
     "text": [
      "('Tom',)\n",
      "\n",
      "\n",
      "('Mary',)\n",
      "('Clair',)\n"
     ]
    }
   ],
   "source": [
    "#If you use NOT you can reverse logic\n",
    "#But if you have a null value it will not be included in either\n",
    "for row in cur.execute('SELECT name FROM students WHERE grade>87 AND grade<93;'):\n",
    "    print(row)\n",
    "print()\n",
    "print()\n",
    "for row in cur.execute('SELECT name FROM students WHERE NOT (grade>87 AND grade<93);'):\n",
    "    print(row)"
   ]
  },
  {
   "cell_type": "code",
   "execution_count": 19,
   "metadata": {},
   "outputs": [
    {
     "name": "stdout",
     "output_type": "stream",
     "text": [
      "('Josh',)\n",
      "\n",
      "\n",
      "('Tom',)\n",
      "('Mary',)\n",
      "('Clair',)\n"
     ]
    }
   ],
   "source": [
    "#To find NULL records....\n",
    "for row in cur.execute('SELECT name FROM students WHERE grade IS NULL;'):\n",
    "    print(row)\n",
    "\n",
    "print()\n",
    "print()\n",
    "#And non-null\n",
    "for row in cur.execute('SELECT name FROM students WHERE grade IS NOT NULL;'):\n",
    "    print(row)"
   ]
  },
  {
   "cell_type": "code",
   "execution_count": 20,
   "metadata": {},
   "outputs": [
    {
     "data": {
      "text/plain": [
       "<sqlite3.Cursor at 0x103d59b20>"
      ]
     },
     "execution_count": 20,
     "metadata": {},
     "output_type": "execute_result"
    }
   ],
   "source": [
    "#We can add a column by using alter\n",
    "query = \"\"\"ALTER TABLE students\n",
    "ADD COLUMN ID int;\"\"\"\n",
    "cur.execute(query)"
   ]
  },
  {
   "cell_type": "code",
   "execution_count": 21,
   "metadata": {},
   "outputs": [
    {
     "name": "stdout",
     "output_type": "stream",
     "text": [
      "('Tom', 90, None)\n",
      "('Josh', None, None)\n",
      "('Mary', 85, None)\n",
      "('Clair', 95, None)\n"
     ]
    }
   ],
   "source": [
    "for row in cur.execute('SELECT * FROM students;'):\n",
    "    print(row)"
   ]
  },
  {
   "cell_type": "code",
   "execution_count": 22,
   "metadata": {},
   "outputs": [
    {
     "name": "stdout",
     "output_type": "stream",
     "text": [
      "('Tom', 90, 1)\n",
      "('Josh', None, 1)\n",
      "('Mary', 85, 1)\n",
      "('Clair', 95, 1)\n"
     ]
    }
   ],
   "source": [
    "#You can give values with update\n",
    "query = \"\"\"UPDATE students SET ID = 1;\"\"\"\n",
    "cur.execute(query)\n",
    "for row in cur.execute('SELECT * FROM students;'):\n",
    "    print(row)"
   ]
  },
  {
   "cell_type": "code",
   "execution_count": 23,
   "metadata": {},
   "outputs": [
    {
     "name": "stdout",
     "output_type": "stream",
     "text": [
      "('Tom', 90, 5)\n",
      "('Josh', None, 1)\n",
      "('Mary', 85, 5)\n",
      "('Clair', 95, 1)\n"
     ]
    }
   ],
   "source": [
    "#You can add in a clause\n",
    "query = \"\"\"UPDATE students SET ID = 5 WHERE grade <92;\"\"\"\n",
    "cur.execute(query)\n",
    "for row in cur.execute('SELECT * FROM students;'):\n",
    "    print(row)"
   ]
  },
  {
   "cell_type": "code",
   "execution_count": 24,
   "metadata": {},
   "outputs": [
    {
     "name": "stdout",
     "output_type": "stream",
     "text": [
      "[('Tom', 90, 5), ('Josh', None, 1), ('Mary', 85, 5), ('Clair', 95, 1)]\n"
     ]
    }
   ],
   "source": [
    "#Using fetchall is a quick way to grab all results\n",
    "cur.execute('SELECT * FROM students;')\n",
    "data = cur.fetchall()\n",
    "print(data)"
   ]
  },
  {
   "cell_type": "code",
   "execution_count": 25,
   "metadata": {},
   "outputs": [
    {
     "name": "stdout",
     "output_type": "stream",
     "text": [
      "[(5,), (1,)]\n"
     ]
    }
   ],
   "source": [
    "#DISTINCT allows for the unique values\n",
    "cur.execute('SELECT DISTINCT ID FROM students;')\n",
    "data = cur.fetchall()\n",
    "print(data)"
   ]
  },
  {
   "cell_type": "code",
   "execution_count": 26,
   "metadata": {},
   "outputs": [
    {
     "data": {
      "text/plain": [
       "<sqlite3.Cursor at 0x103d59b20>"
      ]
     },
     "execution_count": 26,
     "metadata": {},
     "output_type": "execute_result"
    }
   ],
   "source": [
    "#Let's duplicate a row\n",
    "query = \"\"\"INSERT INTO students\n",
    "VALUES ('Tom', 90, 5);\"\"\"\n",
    "cur.execute(query)"
   ]
  },
  {
   "cell_type": "code",
   "execution_count": 27,
   "metadata": {},
   "outputs": [
    {
     "name": "stdout",
     "output_type": "stream",
     "text": [
      "[('Tom', 90, 5), ('Josh', None, 1), ('Mary', 85, 5), ('Clair', 95, 1), ('Tom', 90, 5)]\n",
      "[('Tom', 90, 5), ('Josh', None, 1), ('Mary', 85, 5), ('Clair', 95, 1)]\n"
     ]
    }
   ],
   "source": [
    "#With select * we get all the records\n",
    "cur.execute('SELECT * FROM students;')\n",
    "data = cur.fetchall()\n",
    "print(data)\n",
    "\n",
    "#With select DISTINCT * we get rid of any duplicates where all the columns match\n",
    "cur.execute('SELECT DISTINCT * FROM students;')\n",
    "data = cur.fetchall()\n",
    "print(data)"
   ]
  },
  {
   "cell_type": "code",
   "execution_count": 28,
   "metadata": {},
   "outputs": [
    {
     "data": {
      "text/plain": [
       "<sqlite3.Cursor at 0x103d59b20>"
      ]
     },
     "execution_count": 28,
     "metadata": {},
     "output_type": "execute_result"
    }
   ],
   "source": [
    "#Let's duplicate a row except with grades different\n",
    "query = \"\"\"INSERT INTO students\n",
    "VALUES ('Tom', 85, 5);\"\"\"\n",
    "cur.execute(query)"
   ]
  },
  {
   "cell_type": "code",
   "execution_count": 29,
   "metadata": {},
   "outputs": [
    {
     "name": "stdout",
     "output_type": "stream",
     "text": [
      "[('Tom', 90, 5), ('Josh', None, 1), ('Mary', 85, 5), ('Clair', 95, 1), ('Tom', 85, 5)]\n",
      "[('Tom', 5), ('Josh', 1), ('Mary', 5), ('Clair', 1)]\n"
     ]
    }
   ],
   "source": [
    "#Notice how we can if we look for distinct of name + ID only versus all then we get different results\n",
    "cur.execute('SELECT DISTINCT * FROM students;')\n",
    "data = cur.fetchall()\n",
    "print(data)\n",
    "\n",
    "cur.execute('SELECT DISTINCT name, ID FROM students;')\n",
    "data = cur.fetchall()\n",
    "print(data)"
   ]
  },
  {
   "cell_type": "code",
   "execution_count": 30,
   "metadata": {},
   "outputs": [
    {
     "name": "stdout",
     "output_type": "stream",
     "text": [
      "[('Josh', None, 1), ('Mary', 85, 5), ('Clair', 95, 1)]\n"
     ]
    }
   ],
   "source": [
    "#You can also delete specific records with DELETE\n",
    "cur.execute('DELETE FROM students WHERE name==\"Tom\";')\n",
    "cur.execute('SELECT * FROM students;')\n",
    "data = cur.fetchall()\n",
    "print(data)"
   ]
  }
 ],
 "metadata": {
  "kernelspec": {
   "display_name": "Python 3",
   "language": "python",
   "name": "python3"
  },
  "language_info": {
   "codemirror_mode": {
    "name": "ipython",
    "version": 3
   },
   "file_extension": ".py",
   "mimetype": "text/x-python",
   "name": "python",
   "nbconvert_exporter": "python",
   "pygments_lexer": "ipython3",
   "version": "3.6.3"
  }
 },
 "nbformat": 4,
 "nbformat_minor": 2
}
