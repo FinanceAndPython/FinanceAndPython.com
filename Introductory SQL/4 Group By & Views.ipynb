{
 "cells": [
  {
   "cell_type": "code",
   "execution_count": 1,
   "metadata": {},
   "outputs": [
    {
     "name": "stdout",
     "output_type": "stream",
     "text": [
      "   ID       Date                  Sector    Return\n",
      "0   1 2019-01-01              Healthcare  0.016243\n",
      "1   2 2019-01-01              Financials -0.006118\n",
      "2   3 2019-01-01                  Energy -0.005282\n",
      "3   4 2019-01-01        Consumer Staples -0.010730\n",
      "4   5 2019-01-01  Consumer Discretionary  0.008654\n"
     ]
    }
   ],
   "source": [
    "import sqlite3\n",
    "import os\n",
    "import pandas as pd\n",
    "from datetime import datetime\n",
    "import numpy as np\n",
    "import os\n",
    "\n",
    "#First make sure if the database is already there that we erase it prior to this lesson\n",
    "if os.path.exists(\"Stock.db\"):\n",
    "    os.remove(\"Stock.db\")\n",
    "\n",
    "\n",
    "#Create the data\n",
    "data = pd.DataFrame(list(range(1,101)) * 10)\n",
    "data.columns = [\"ID\"]\n",
    "l = []\n",
    "for date in pd.date_range(datetime(2019,1,1), datetime(2019,1,10)):\n",
    "    l.extend([date] * 100)\n",
    "data['Date'] = l\n",
    "data['Sector'] = [\"Healthcare\", \"Financials\", \"Energy\", \"Consumer Staples\", \"Consumer Discretionary\"] * 200\n",
    "np.random.seed(1)\n",
    "data['Return'] = np.random.normal(0,.01,1000)\n",
    "print(data.head(5))\n",
    "\n",
    "conn = sqlite3.connect('Stock.db')\n",
    "#Set index to false so we do not add the index to the SQL table\n",
    "data.to_sql(\"Returns\", conn, index=False)"
   ]
  },
  {
   "cell_type": "code",
   "execution_count": 2,
   "metadata": {},
   "outputs": [
    {
     "name": "stdout",
     "output_type": "stream",
     "text": [
      "   AVG(Return)\n",
      "0     0.000388\n"
     ]
    }
   ],
   "source": [
    "#We already know how to pull an average\n",
    "query = \"SELECT AVG(Return) FROM Returns\"\n",
    "df = pd.read_sql(query, conn)\n",
    "print(df)"
   ]
  },
  {
   "cell_type": "code",
   "execution_count": 3,
   "metadata": {},
   "outputs": [
    {
     "name": "stdout",
     "output_type": "stream",
     "text": [
      "    AVG(Return)\n",
      "0     -0.001680\n",
      "1      0.002803\n",
      "2     -0.003813\n",
      "3      0.003057\n",
      "4     -0.004590\n",
      "5     -0.003555\n",
      "6     -0.001688\n",
      "7     -0.001561\n",
      "8     -0.000292\n",
      "9      0.003888\n",
      "10     0.002635\n",
      "11    -0.001818\n",
      "12     0.004797\n",
      "13    -0.004476\n",
      "14     0.003047\n",
      "15    -0.001718\n",
      "16     0.001358\n",
      "17    -0.001475\n",
      "18     0.002744\n",
      "19    -0.002742\n",
      "20     0.001226\n",
      "21     0.000562\n",
      "22     0.005691\n",
      "23     0.002663\n",
      "24    -0.000880\n",
      "25     0.004959\n",
      "26     0.002273\n",
      "27    -0.000344\n",
      "28    -0.000660\n",
      "29     0.001787\n",
      "..          ...\n",
      "70    -0.001657\n",
      "71     0.001088\n",
      "72     0.006655\n",
      "73     0.004894\n",
      "74     0.002682\n",
      "75    -0.001377\n",
      "76    -0.002454\n",
      "77    -0.002681\n",
      "78     0.000419\n",
      "79     0.002018\n",
      "80     0.001837\n",
      "81    -0.004058\n",
      "82    -0.003919\n",
      "83     0.005823\n",
      "84     0.005576\n",
      "85    -0.003824\n",
      "86     0.002121\n",
      "87     0.004864\n",
      "88    -0.000601\n",
      "89    -0.003235\n",
      "90    -0.002409\n",
      "91     0.002454\n",
      "92    -0.001091\n",
      "93     0.003813\n",
      "94    -0.000996\n",
      "95    -0.001327\n",
      "96    -0.001118\n",
      "97    -0.000082\n",
      "98    -0.001981\n",
      "99     0.003341\n",
      "\n",
      "[100 rows x 1 columns]\n"
     ]
    }
   ],
   "source": [
    "#GROUP BY allows you to run something like an average over a specific grouping\n",
    "query = \"SELECT AVG(Return) FROM Returns GROUP BY ID\"\n",
    "df = pd.read_sql(query, conn)\n",
    "print(df)"
   ]
  },
  {
   "cell_type": "code",
   "execution_count": 4,
   "metadata": {},
   "outputs": [
    {
     "name": "stdout",
     "output_type": "stream",
     "text": [
      "     ID  AVG(Return)\n",
      "0     1    -0.001680\n",
      "1     2     0.002803\n",
      "2     3    -0.003813\n",
      "3     4     0.003057\n",
      "4     5    -0.004590\n",
      "5     6    -0.003555\n",
      "6     7    -0.001688\n",
      "7     8    -0.001561\n",
      "8     9    -0.000292\n",
      "9    10     0.003888\n",
      "10   11     0.002635\n",
      "11   12    -0.001818\n",
      "12   13     0.004797\n",
      "13   14    -0.004476\n",
      "14   15     0.003047\n",
      "15   16    -0.001718\n",
      "16   17     0.001358\n",
      "17   18    -0.001475\n",
      "18   19     0.002744\n",
      "19   20    -0.002742\n",
      "20   21     0.001226\n",
      "21   22     0.000562\n",
      "22   23     0.005691\n",
      "23   24     0.002663\n",
      "24   25    -0.000880\n",
      "25   26     0.004959\n",
      "26   27     0.002273\n",
      "27   28    -0.000344\n",
      "28   29    -0.000660\n",
      "29   30     0.001787\n",
      "..  ...          ...\n",
      "70   71    -0.001657\n",
      "71   72     0.001088\n",
      "72   73     0.006655\n",
      "73   74     0.004894\n",
      "74   75     0.002682\n",
      "75   76    -0.001377\n",
      "76   77    -0.002454\n",
      "77   78    -0.002681\n",
      "78   79     0.000419\n",
      "79   80     0.002018\n",
      "80   81     0.001837\n",
      "81   82    -0.004058\n",
      "82   83    -0.003919\n",
      "83   84     0.005823\n",
      "84   85     0.005576\n",
      "85   86    -0.003824\n",
      "86   87     0.002121\n",
      "87   88     0.004864\n",
      "88   89    -0.000601\n",
      "89   90    -0.003235\n",
      "90   91    -0.002409\n",
      "91   92     0.002454\n",
      "92   93    -0.001091\n",
      "93   94     0.003813\n",
      "94   95    -0.000996\n",
      "95   96    -0.001327\n",
      "96   97    -0.001118\n",
      "97   98    -0.000082\n",
      "98   99    -0.001981\n",
      "99  100     0.003341\n",
      "\n",
      "[100 rows x 2 columns]\n"
     ]
    }
   ],
   "source": [
    "#But we also want to make sure that we are getting the column back that we are grouping on\n",
    "query = \"SELECT ID, AVG(Return) FROM Returns GROUP BY ID\"\n",
    "df = pd.read_sql(query, conn)\n",
    "print(df)"
   ]
  },
  {
   "cell_type": "code",
   "execution_count": 5,
   "metadata": {},
   "outputs": [
    {
     "name": "stdout",
     "output_type": "stream",
     "text": [
      "                  Date  AVG(Return)\n",
      "0  2019-01-01 00:00:00     0.000606\n",
      "1  2019-01-02 00:00:00     0.001528\n",
      "2  2019-01-03 00:00:00     0.000098\n",
      "3  2019-01-04 00:00:00    -0.000204\n",
      "4  2019-01-05 00:00:00     0.000643\n",
      "5  2019-01-06 00:00:00     0.001256\n",
      "6  2019-01-07 00:00:00    -0.000575\n",
      "7  2019-01-08 00:00:00    -0.000974\n",
      "8  2019-01-09 00:00:00     0.001069\n",
      "9  2019-01-10 00:00:00     0.000433\n"
     ]
    }
   ],
   "source": [
    "#We can also do the same with grouping with date\n",
    "query = \"SELECT Date, AVG(Return) FROM Returns GROUP BY Date\"\n",
    "df = pd.read_sql(query, conn)\n",
    "print(df)"
   ]
  },
  {
   "cell_type": "code",
   "execution_count": 6,
   "metadata": {},
   "outputs": [
    {
     "name": "stdout",
     "output_type": "stream",
     "text": [
      "                   Date                  Sector  AVG(Return)\n",
      "0   2019-01-01 00:00:00  Consumer Discretionary     0.003899\n",
      "1   2019-01-01 00:00:00        Consumer Staples     0.001985\n",
      "2   2019-01-01 00:00:00                  Energy     0.000709\n",
      "3   2019-01-01 00:00:00              Financials    -0.000629\n",
      "4   2019-01-01 00:00:00              Healthcare    -0.002935\n",
      "5   2019-01-02 00:00:00  Consumer Discretionary    -0.000042\n",
      "6   2019-01-02 00:00:00        Consumer Staples     0.005859\n",
      "7   2019-01-02 00:00:00                  Energy     0.003048\n",
      "8   2019-01-02 00:00:00              Financials     0.002243\n",
      "9   2019-01-02 00:00:00              Healthcare    -0.003469\n",
      "10  2019-01-03 00:00:00  Consumer Discretionary    -0.001522\n",
      "11  2019-01-03 00:00:00        Consumer Staples     0.001333\n",
      "12  2019-01-03 00:00:00                  Energy     0.001264\n",
      "13  2019-01-03 00:00:00              Financials    -0.000820\n",
      "14  2019-01-03 00:00:00              Healthcare     0.000236\n",
      "15  2019-01-04 00:00:00  Consumer Discretionary     0.001775\n",
      "16  2019-01-04 00:00:00        Consumer Staples    -0.003177\n",
      "17  2019-01-04 00:00:00                  Energy    -0.004290\n",
      "18  2019-01-04 00:00:00              Financials     0.001104\n",
      "19  2019-01-04 00:00:00              Healthcare     0.003570\n",
      "20  2019-01-05 00:00:00  Consumer Discretionary    -0.000189\n",
      "21  2019-01-05 00:00:00        Consumer Staples     0.003190\n",
      "22  2019-01-05 00:00:00                  Energy     0.002497\n",
      "23  2019-01-05 00:00:00              Financials    -0.000845\n",
      "24  2019-01-05 00:00:00              Healthcare    -0.001436\n",
      "25  2019-01-06 00:00:00  Consumer Discretionary     0.000571\n",
      "26  2019-01-06 00:00:00        Consumer Staples     0.000615\n",
      "27  2019-01-06 00:00:00                  Energy     0.001203\n",
      "28  2019-01-06 00:00:00              Financials    -0.000110\n",
      "29  2019-01-06 00:00:00              Healthcare     0.003999\n",
      "30  2019-01-07 00:00:00  Consumer Discretionary    -0.002338\n",
      "31  2019-01-07 00:00:00        Consumer Staples     0.000208\n",
      "32  2019-01-07 00:00:00                  Energy     0.000551\n",
      "33  2019-01-07 00:00:00              Financials     0.000455\n",
      "34  2019-01-07 00:00:00              Healthcare    -0.001751\n",
      "35  2019-01-08 00:00:00  Consumer Discretionary    -0.001002\n",
      "36  2019-01-08 00:00:00        Consumer Staples    -0.000901\n",
      "37  2019-01-08 00:00:00                  Energy     0.000897\n",
      "38  2019-01-08 00:00:00              Financials    -0.000572\n",
      "39  2019-01-08 00:00:00              Healthcare    -0.003293\n",
      "40  2019-01-09 00:00:00  Consumer Discretionary     0.000135\n",
      "41  2019-01-09 00:00:00        Consumer Staples     0.000434\n",
      "42  2019-01-09 00:00:00                  Energy    -0.000442\n",
      "43  2019-01-09 00:00:00              Financials     0.000409\n",
      "44  2019-01-09 00:00:00              Healthcare     0.004812\n",
      "45  2019-01-10 00:00:00  Consumer Discretionary    -0.002110\n",
      "46  2019-01-10 00:00:00        Consumer Staples     0.003234\n",
      "47  2019-01-10 00:00:00                  Energy     0.000716\n",
      "48  2019-01-10 00:00:00              Financials    -0.000433\n",
      "49  2019-01-10 00:00:00              Healthcare     0.000759\n"
     ]
    }
   ],
   "source": [
    "#It is also possible to group by combinations of fields such as date and sector for example\n",
    "query = \"SELECT Date, Sector, AVG(Return) FROM Returns GROUP BY Date, Sector\"\n",
    "df = pd.read_sql(query, conn)\n",
    "print(df)"
   ]
  },
  {
   "cell_type": "code",
   "execution_count": 7,
   "metadata": {},
   "outputs": [
    {
     "name": "stdout",
     "output_type": "stream",
     "text": [
      "                   Sector    Return\n",
      "0  Consumer Discretionary -0.000082\n",
      "1        Consumer Staples  0.001278\n",
      "2                  Energy  0.000615\n",
      "3              Financials  0.000080\n",
      "4              Healthcare  0.000049\n"
     ]
    }
   ],
   "source": [
    "#Let's start with a basic query\n",
    "query = \"SELECT Sector, AVG(Return) as Return FROM Returns GROUP BY Sector\"\n",
    "df = pd.read_sql(query, conn)\n",
    "print(df)"
   ]
  },
  {
   "cell_type": "code",
   "execution_count": 8,
   "metadata": {},
   "outputs": [
    {
     "data": {
      "text/plain": [
       "<sqlite3.Cursor at 0x11644f490>"
      ]
     },
     "execution_count": 8,
     "metadata": {},
     "output_type": "execute_result"
    }
   ],
   "source": [
    "#Turn it into a view\n",
    "cur = conn.cursor()\n",
    "query = \"CREATE VIEW [Sector Average] AS SELECT Sector, AVG(Return) as Return FROM Returns GROUP BY Sector\"\n",
    "cur.execute(query)"
   ]
  },
  {
   "cell_type": "code",
   "execution_count": 9,
   "metadata": {},
   "outputs": [
    {
     "name": "stdout",
     "output_type": "stream",
     "text": [
      "                   Sector    Return\n",
      "0  Consumer Discretionary -0.000082\n",
      "1        Consumer Staples  0.001278\n",
      "2                  Energy  0.000615\n",
      "3              Financials  0.000080\n",
      "4              Healthcare  0.000049\n"
     ]
    }
   ],
   "source": [
    "#Then you are able to pull from it\n",
    "query = \"SELECT * FROM [Sector Average]\"\n",
    "df = pd.read_sql(query, conn)\n",
    "print(df)"
   ]
  },
  {
   "cell_type": "code",
   "execution_count": 10,
   "metadata": {},
   "outputs": [
    {
     "name": "stdout",
     "output_type": "stream",
     "text": [
      "                   Sector    Return\n",
      "0  Consumer Discretionary  0.008219\n",
      "1        Consumer Staples  0.007831\n",
      "2                  Energy  0.007885\n",
      "3              Financials  0.007660\n",
      "4              Healthcare  0.008150\n"
     ]
    }
   ],
   "source": [
    "#Notice if we change the data the view also changes\n",
    "query = \"DELETE FROM Returns WHERE Return < 0\"\n",
    "cur.execute(query)\n",
    "\n",
    "query = \"SELECT * FROM [Sector Average]\"\n",
    "df = pd.read_sql(query, conn)\n",
    "print(df)"
   ]
  },
  {
   "cell_type": "code",
   "execution_count": 11,
   "metadata": {
    "collapsed": true
   },
   "outputs": [],
   "source": [
    "#Reset it....\n",
    "data.to_sql(\"Returns\", conn, index=False, if_exists='replace')"
   ]
  },
  {
   "cell_type": "code",
   "execution_count": 12,
   "metadata": {},
   "outputs": [
    {
     "name": "stdout",
     "output_type": "stream",
     "text": [
      "                   Sector    Return\n",
      "0  Consumer Discretionary -0.000082\n",
      "1        Consumer Staples  0.001278\n",
      "2                  Energy  0.000615\n",
      "3              Financials  0.000080\n",
      "4              Healthcare  0.000049\n"
     ]
    }
   ],
   "source": [
    "#Back to what it was before\n",
    "query = \"SELECT * FROM [Sector Average]\"\n",
    "df = pd.read_sql(query, conn)\n",
    "print(df)"
   ]
  },
  {
   "cell_type": "code",
   "execution_count": 13,
   "metadata": {},
   "outputs": [
    {
     "name": "stdout",
     "output_type": "stream",
     "text": [
      "   AVG(Return)\n",
      "0     0.000598\n"
     ]
    }
   ],
   "source": [
    "#The IN keyword can be used to find if a column contains one of any values given\n",
    "#Below will find the average return for the consumer sectors\n",
    "query = \"SELECT AVG(Return) FROM [Sector Average] WHERE Sector IN ('Consumer Discretionary', 'Consumer Staples')\"\n",
    "df = pd.read_sql(query, conn)\n",
    "print(df)"
   ]
  },
  {
   "cell_type": "code",
   "execution_count": 14,
   "metadata": {},
   "outputs": [
    {
     "name": "stdout",
     "output_type": "stream",
     "text": [
      "                   Sector    Return\n",
      "0  Consumer Discretionary -0.000082\n",
      "1        Consumer Staples  0.001278\n",
      "2                  Energy  0.000615\n",
      "3              Financials  0.000080\n",
      "4              Healthcare  0.000049\n",
      "\n",
      "\n",
      "             Sector\n",
      "0  Consumer Staples\n",
      "1            Energy\n",
      "2        Financials\n",
      "3        Healthcare\n"
     ]
    }
   ],
   "source": [
    "#Queries can be put inside each other \n",
    "\n",
    "#Query 1: Get average sector returns\n",
    "query = \"SELECT Sector, AVG(Return) as Return FROM Returns GROUP BY Sector\"\n",
    "df = pd.read_sql(query, conn)\n",
    "print(df)\n",
    "print()\n",
    "print()\n",
    "\n",
    "#Query 2: Pull from the first query in parantheses and choose the sector wherever\n",
    "#the average sector return is greater than 0\n",
    "query = \"SELECT Sector FROM (SELECT Sector, AVG(Return) as Return FROM Returns GROUP BY Sector) WHERE Return > 0\"\n",
    "df = pd.read_sql(query, conn)\n",
    "print(df)"
   ]
  },
  {
   "cell_type": "code",
   "execution_count": 15,
   "metadata": {},
   "outputs": [
    {
     "name": "stdout",
     "output_type": "stream",
     "text": [
      "             Sector\n",
      "0  Consumer Staples\n",
      "1            Energy\n",
      "2        Financials\n",
      "3        Healthcare\n"
     ]
    }
   ],
   "source": [
    "#This is an easier way to visualize, the first query being put into the second one at the parantheses\n",
    "query1 = \"SELECT Sector, AVG(Return) as Return FROM Returns GROUP BY Sector\"\n",
    "query2 = \"SELECT Sector FROM ({}) WHERE Return > 0\".format(query1)\n",
    "df = pd.read_sql(query2, conn)\n",
    "print(df)"
   ]
  },
  {
   "cell_type": "code",
   "execution_count": 16,
   "metadata": {},
   "outputs": [
    {
     "name": "stdout",
     "output_type": "stream",
     "text": [
      "             Sector\n",
      "0  Consumer Staples\n",
      "1            Energy\n",
      "2        Financials\n",
      "3        Healthcare\n"
     ]
    }
   ],
   "source": [
    "#We are also able to replicate the same concept using HAVING\n",
    "#HAVING will deal with conditions after aggregation, so the following looks for where the grouped sector return\n",
    "#average is positive\n",
    "query2 = \"SELECT Sector FROM Returns GROUP BY Sector HAVING AVG(Return) > 0\"\n",
    "df = pd.read_sql(query2, conn)\n",
    "print(df)"
   ]
  },
  {
   "cell_type": "code",
   "execution_count": 17,
   "metadata": {},
   "outputs": [
    {
     "name": "stdout",
     "output_type": "stream",
     "text": [
      "                   Sector  Positive\n",
      "0  Consumer Discretionary        96\n",
      "1        Consumer Staples       113\n",
      "2                  Energy       106\n",
      "3              Financials       105\n",
      "4              Healthcare        94\n"
     ]
    }
   ],
   "source": [
    "#Look for the number of dates which are positive, by using WHERE before the GROUP BY\n",
    "#we are applying it to the individual records\n",
    "query3 = \"SELECT Sector, COUNT(Return) as Positive FROM Returns WHERE Return>0 GROUP BY Sector\"\n",
    "df = pd.read_sql(query3, conn)\n",
    "print(df)"
   ]
  },
  {
   "cell_type": "code",
   "execution_count": 18,
   "metadata": {},
   "outputs": [
    {
     "name": "stdout",
     "output_type": "stream",
     "text": [
      "             Sector  Positive\n",
      "0  Consumer Staples       113\n",
      "1            Energy       106\n",
      "2        Financials       105\n",
      "3        Healthcare        94\n"
     ]
    }
   ],
   "source": [
    "#Combining query2 and query3 would give us the number of positive days but filters out any sectors that\n",
    "#have a negative average return\n",
    "query4 = \"SELECT Sector, Positive FROM ({}) WHERE Sector IN ({})\".format(query3, query2)\n",
    "df = pd.read_sql(query4, conn)\n",
    "print(df)"
   ]
  },
  {
   "cell_type": "code",
   "execution_count": 19,
   "metadata": {},
   "outputs": [
    {
     "name": "stdout",
     "output_type": "stream",
     "text": [
      "SELECT Sector, Positive FROM (SELECT Sector, COUNT(Return) as Positive FROM Returns WHERE Return>0 GROUP BY Sector) WHERE Sector IN (SELECT Sector FROM Returns GROUP BY Sector HAVING AVG(Return) > 0)\n"
     ]
    }
   ],
   "source": [
    "#You can see what the words actually look like\n",
    "print(query4)"
   ]
  },
  {
   "cell_type": "code",
   "execution_count": 20,
   "metadata": {},
   "outputs": [
    {
     "name": "stdout",
     "output_type": "stream",
     "text": [
      "                  Date    Return\n",
      "0  2019-01-01 00:00:00  0.000606\n",
      "1  2019-01-02 00:00:00  0.001528\n",
      "2  2019-01-03 00:00:00  0.000098\n",
      "\n",
      "\n"
     ]
    }
   ],
   "source": [
    "#BETWEEN can be used to limit values to a specific range\n",
    "query = \"SELECT Date, AVG(Return) as Return FROM Returns WHERE Date BETWEEN '2019-01-01 00:00:00' AND '2019-01-03 00:00:00' GROUP BY Date\"\n",
    "df = pd.read_sql(query, conn)\n",
    "print(df)\n",
    "print()\n",
    "print()"
   ]
  }
 ],
 "metadata": {
  "kernelspec": {
   "display_name": "Python 3",
   "language": "python",
   "name": "python3"
  },
  "language_info": {
   "codemirror_mode": {
    "name": "ipython",
    "version": 3
   },
   "file_extension": ".py",
   "mimetype": "text/x-python",
   "name": "python",
   "nbconvert_exporter": "python",
   "pygments_lexer": "ipython3",
   "version": "3.6.3"
  }
 },
 "nbformat": 4,
 "nbformat_minor": 2
}
