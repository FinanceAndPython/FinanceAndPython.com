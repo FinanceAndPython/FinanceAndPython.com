{
 "cells": [
  {
   "cell_type": "code",
   "execution_count": 1,
   "metadata": {},
   "outputs": [
    {
     "name": "stderr",
     "output_type": "stream",
     "text": [
      "/Users/seanmcowen/anaconda/lib/python3.6/site-packages/IPython/core/interactiveshell.py:2821: DtypeWarning: Columns (1,50,54,55) have mixed types. Specify dtype option on import or set low_memory=False.\n",
      "  if self.run_code(code, result):\n"
     ]
    }
   ],
   "source": [
    "import pandas as pd\n",
    "import numpy as np\n",
    "import gmplot\n",
    "Assess_Combined = pd.DataFrame.from_csv(\"Assess_Combined.csv\",encoding=\"UTF-8\")"
   ]
  },
  {
   "cell_type": "code",
   "execution_count": 2,
   "metadata": {},
   "outputs": [
    {
     "name": "stdout",
     "output_type": "stream",
     "text": [
      "0100001000_    89-59\n",
      "0100002000_    89-59\n",
      "0100003000_    89-59\n",
      "0100004000_    89-59\n",
      "0100005000_    89-59\n",
      "0100006000_    89-59\n",
      "0100007000_    89-59\n",
      "0100008000_    89-59\n",
      "0100009000_    89-59\n",
      "0100010000_    89-59\n",
      "0100011000_    89-59\n",
      "0100012000_    89-59\n",
      "0100013000_    90-59\n",
      "0100014000_    90-59\n",
      "0100015000_    90-59\n",
      "0100016000_    90-59\n",
      "0100017000_    90-59\n",
      "0100018000_    90-59\n",
      "0100019000_    90-59\n",
      "0100020000_    90-59\n",
      "0100021000_    90-59\n",
      "0100022000_    90-59\n",
      "0100023000_    90-59\n",
      "0100024000_    90-59\n",
      "0100025000_    90-59\n",
      "0100026000_    90-59\n",
      "0100027000_    90-59\n",
      "0100028000_    90-59\n",
      "0100029000_    90-60\n",
      "0100030000_    90-59\n",
      "               ...  \n",
      "2205647000_     69-8\n",
      "2205648000_     69-8\n",
      "2205649000_     69-8\n",
      "2205650000_     69-8\n",
      "2205651000_     69-7\n",
      "2205652002_     67-6\n",
      "2205652003_     67-6\n",
      "2205652005_     67-6\n",
      "2205652007_     67-6\n",
      "2205652008_     66-6\n",
      "2205652009_     66-6\n",
      "2205652010_     66-6\n",
      "2205653000_     66-7\n",
      "2205654000_     66-7\n",
      "2205655000_     66-7\n",
      "2205656000_     66-7\n",
      "2205657000_     67-7\n",
      "2205658000_     67-7\n",
      "2205659000_     67-7\n",
      "2205660000_     66-7\n",
      "2205662010_     66-7\n",
      "2205662020_     66-7\n",
      "2205663000_     66-7\n",
      "2205663001_     66-7\n",
      "2205664000_     66-7\n",
      "2205666000_     66-7\n",
      "2205667000_     66-7\n",
      "2205668000_     66-7\n",
      "2205669000_     66-7\n",
      "2205670000_     66-6\n",
      "Length: 90332, dtype: object\n"
     ]
    }
   ],
   "source": [
    "print(Assess_Combined[\"Lat Group\"].astype(str)+\"-\"+Assess_Combined[\"Lon Group\"].astype(str))"
   ]
  },
  {
   "cell_type": "code",
   "execution_count": 3,
   "metadata": {
    "collapsed": true
   },
   "outputs": [],
   "source": [
    "Assess_Combined[\"LocCode\"] = Assess_Combined[\"Lat Group\"].astype(str)+\"-\"+Assess_Combined[\"Lon Group\"].astype(str)"
   ]
  },
  {
   "cell_type": "code",
   "execution_count": 4,
   "metadata": {
    "collapsed": true
   },
   "outputs": [],
   "source": [
    "Assess_Combined = Assess_Combined.groupby(\"LocCode\").mean()"
   ]
  },
  {
   "cell_type": "code",
   "execution_count": 5,
   "metadata": {
    "collapsed": true
   },
   "outputs": [],
   "source": [
    "latMax = 42.39615117\n",
    "latMin = 42.23108386\n",
    "lonMax = -70.92757284\n",
    "lonMin = -71.18485204\n",
    "slice_constant = 100\n",
    "latIncrement = (latMax-latMin)/slice_constant\n",
    "lonIncrement = (lonMax-lonMin)/slice_constant"
   ]
  },
  {
   "cell_type": "code",
   "execution_count": 6,
   "metadata": {
    "collapsed": true
   },
   "outputs": [],
   "source": [
    "Assess_Combined[\"Lat 0\"] = latMin+Assess_Combined[\"Lat Group\"]*latIncrement\n",
    "Assess_Combined[\"Lat 1\"] = latMin+(Assess_Combined[\"Lat Group\"]+.5)*latIncrement\n",
    "Assess_Combined[\"Lat 2\"] = latMin+(Assess_Combined[\"Lat Group\"]+1)*latIncrement\n",
    "Assess_Combined[\"Lon 0\"] = lonMin+Assess_Combined[\"Lon Group\"]*lonIncrement\n",
    "Assess_Combined[\"Lon 1\"] = lonMin+(Assess_Combined[\"Lon Group\"]+.5)*lonIncrement\n",
    "Assess_Combined[\"Lon 2\"] = lonMin+(Assess_Combined[\"Lon Group\"]+1)*lonIncrement"
   ]
  },
  {
   "cell_type": "code",
   "execution_count": 7,
   "metadata": {
    "collapsed": true
   },
   "outputs": [],
   "source": [
    "Assess_Combined.to_csv(\"MapData.csv\",encoding=\"UTF-8\")"
   ]
  }
 ],
 "metadata": {
  "kernelspec": {
   "display_name": "Python 3",
   "language": "python",
   "name": "python3"
  },
  "language_info": {
   "codemirror_mode": {
    "name": "ipython",
    "version": 3
   },
   "file_extension": ".py",
   "mimetype": "text/x-python",
   "name": "python",
   "nbconvert_exporter": "python",
   "pygments_lexer": "ipython3",
   "version": "3.6.1"
  }
 },
 "nbformat": 4,
 "nbformat_minor": 2
}
