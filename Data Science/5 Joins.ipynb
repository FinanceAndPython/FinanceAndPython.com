{
 "cells": [
  {
   "cell_type": "markdown",
   "metadata": {},
   "source": [
    "# Joins\n",
    "\n",
    "Joins are the way that we can join together two dataframes based on common keys. If you have never used joins before it may be worthwhile to use a more in depth explanation resource as this resource will just give a quick review for each.\n",
    "\n",
    "The options for joins are:\n",
    "\n",
    "## Left Join\n",
    "\n",
    "The left join takes the left dataframe's index, and then matches any records on the right dataframe and merges the two dataframes. Any left index values that do not have a matching right index will be set to null for the new columns.\n",
    "\n",
    "## Right Join\n",
    "\n",
    "The right join takes the right dataframe's index, and then matches any records on the left dataframe and merges the two dataframes. Any right index values that do not have a matching left index will be set to null for the new columns.\n",
    "\n",
    "## Outer \n",
    "\n",
    "The outer join takes the combination of the two indices and matches then merges the dataframes. If either a left index or a right index does not have a matching index then it will be set to null in the respective new columns.\n",
    "\n",
    "## Inner\n",
    "\n",
    "The inner join takes the intersection of the two indices for matching and merging. There will not be missing values in this case because it is the intersection."
   ]
  },
  {
   "cell_type": "markdown",
   "metadata": {},
   "source": [
    "The default behavior is to join based on whatever the index is in the two dataframes. As well, we call a join like so: df1.join(df2) where df1 is the left and df2 is the right dataframe. The default will be a left join but the how argument allows for changing the type of the join. Now step 1 is going to be creating our dummy data. There is going to be two columns in each which are different from each other, as well as one indice in each that matches and one indice in each that is unique to that dataframe."
   ]
  },
  {
   "cell_type": "code",
   "execution_count": 1,
   "metadata": {},
   "outputs": [
    {
     "name": "stdout",
     "output_type": "stream",
     "text": [
      "   Col 1  Col 2\n",
      "A     95    100\n",
      "C     77     34\n",
      "\n",
      "   Col 3  Col 4\n",
      "A     10     20\n",
      "B     20     30\n"
     ]
    }
   ],
   "source": [
    "import pandas as pd\n",
    "\n",
    "#Create the data\n",
    "df1 = pd.DataFrame([[95, 100],\n",
    "                 [77, 34]], index=['A', 'C'],\n",
    "                  columns=['Col 1', 'Col 2'])\n",
    "df2 = pd.DataFrame([[10,20],\n",
    "                 [20,30]], index=['A', 'B'], columns=['Col 3', 'Col 4'])\n",
    "print(df1)\n",
    "print()\n",
    "print(df2)"
   ]
  },
  {
   "cell_type": "markdown",
   "metadata": {},
   "source": [
    "## Left Join\n",
    "\n",
    "The left join takes the left dataframe's index, and then matches any records on the right dataframe and merges the two dataframes. Any left index values that do not have a matching right index will be set to null for the new columns.\n",
    "\n",
    "Notice how the joining below has null values for C, but values for A."
   ]
  },
  {
   "cell_type": "code",
   "execution_count": 2,
   "metadata": {},
   "outputs": [
    {
     "name": "stdout",
     "output_type": "stream",
     "text": [
      "   Col 1  Col 2  Col 3  Col 4\n",
      "A     95    100   10.0   20.0\n",
      "C     77     34    NaN    NaN\n"
     ]
    }
   ],
   "source": [
    "#Left join df1 and df2\n",
    "df3 = df1.join(df2)\n",
    "print(df3)"
   ]
  },
  {
   "cell_type": "markdown",
   "metadata": {},
   "source": [
    "The default is to left join, but using how='left' will get us the same results."
   ]
  },
  {
   "cell_type": "code",
   "execution_count": 3,
   "metadata": {},
   "outputs": [
    {
     "name": "stdout",
     "output_type": "stream",
     "text": [
      "   Col 1  Col 2  Col 3  Col 4\n",
      "A     95    100   10.0   20.0\n",
      "C     77     34    NaN    NaN\n"
     ]
    }
   ],
   "source": [
    "#Left join df1 and df2\n",
    "df3 = df1.join(df2, how='left')\n",
    "print(df3)"
   ]
  },
  {
   "cell_type": "markdown",
   "metadata": {},
   "source": [
    "## Right Join\n",
    "\n",
    "The right join takes the right dataframe's index, and then matches any records on the left dataframe and merges the two dataframes. Any right index values that do not have a matching left index will be set to null for the new columns.\n",
    "\n",
    "In this example we see that our index is A & B, and there is no values for B in columns 1 and columns 2."
   ]
  },
  {
   "cell_type": "code",
   "execution_count": 4,
   "metadata": {},
   "outputs": [
    {
     "name": "stdout",
     "output_type": "stream",
     "text": [
      "   Col 1  Col 2  Col 3  Col 4\n",
      "A   95.0  100.0     10     20\n",
      "B    NaN    NaN     20     30\n"
     ]
    }
   ],
   "source": [
    "#Right join df1 and df2\n",
    "df3 = df1.join(df2, how='right')\n",
    "print(df3)"
   ]
  },
  {
   "cell_type": "markdown",
   "metadata": {},
   "source": [
    "Also you might be quick to realize that a right join is the same as just having df2 on the left calling join and using a left join. The only difference will be the order of the columns but that is only a minor detail, you can easily re-arrange the column order after the join."
   ]
  },
  {
   "cell_type": "code",
   "execution_count": 5,
   "metadata": {},
   "outputs": [
    {
     "name": "stdout",
     "output_type": "stream",
     "text": [
      "   Col 3  Col 4  Col 1  Col 2\n",
      "A     10     20   95.0  100.0\n",
      "B     20     30    NaN    NaN\n"
     ]
    }
   ],
   "source": [
    "#Right join df1 and df2\n",
    "df3 = df2.join(df1, how='left')\n",
    "print(df3)"
   ]
  },
  {
   "cell_type": "markdown",
   "metadata": {},
   "source": [
    "## Outer \n",
    "\n",
    "The outer join takes the combination of the two indices and matches then merges the dataframes. If either a left index or a right index does not have a matching index then it will be set to null in the respective new columns."
   ]
  },
  {
   "cell_type": "code",
   "execution_count": 6,
   "metadata": {},
   "outputs": [
    {
     "name": "stdout",
     "output_type": "stream",
     "text": [
      "   Col 1  Col 2  Col 3  Col 4\n",
      "A   95.0  100.0   10.0   20.0\n",
      "B    NaN    NaN   20.0   30.0\n",
      "C   77.0   34.0    NaN    NaN\n"
     ]
    }
   ],
   "source": [
    "#Outer join df1 and df2\n",
    "df3 = df1.join(df2, how='outer')\n",
    "print(df3)"
   ]
  },
  {
   "cell_type": "markdown",
   "metadata": {},
   "source": [
    "## Inner\n",
    "\n",
    "The inner join takes the intersection of the two indices for matching and merging. There will not be missing values in this case because it is the intersection."
   ]
  },
  {
   "cell_type": "code",
   "execution_count": 7,
   "metadata": {},
   "outputs": [
    {
     "name": "stdout",
     "output_type": "stream",
     "text": [
      "   Col 1  Col 2  Col 3  Col 4\n",
      "A     95    100     10     20\n"
     ]
    }
   ],
   "source": [
    "#Outer join df1 and df2\n",
    "df3 = df1.join(df2, how='inner')\n",
    "print(df3)"
   ]
  },
  {
   "cell_type": "markdown",
   "metadata": {},
   "source": [
    "### Joining with Duplicates\n",
    "\n",
    "When there are duplicated indices, we will see that the dataframe repeats the rows to make sure there can be a match for each. The below example will illuminate this behavior more. In the example we have a dataframe to hold the costs of products and a dataframe for the sales of products. You can see that there are two records for product 1 because there were two different days where the product was sold. Notice what happens with left joining cost and sales."
   ]
  },
  {
   "cell_type": "code",
   "execution_count": 8,
   "metadata": {},
   "outputs": [
    {
     "name": "stdout",
     "output_type": "stream",
     "text": [
      "           Cost\n",
      "Product        \n",
      "Product 1   100\n",
      "Product 2    50\n",
      "Product 3   200\n",
      "           Day  Volume\n",
      "Product               \n",
      "Product 1    1      10\n",
      "Product 1    2      10\n",
      "Product 2    1       5\n",
      "Product 3    2       5\n"
     ]
    }
   ],
   "source": [
    "#Create the data\n",
    "cost = pd.DataFrame([[\"Product 1\", 100],\n",
    "                    [\"Product 2\", 50],\n",
    "                    [\"Product 3\", 200]], columns=['Product', 'Cost'])\n",
    "cost = cost.set_index('Product')\n",
    "print(cost)\n",
    "\n",
    "sales = pd.DataFrame([[\"Product 1\", 1, 10],\n",
    "                     [\"Product 1\", 2, 10],\n",
    "                     [\"Product 2\", 1, 5],\n",
    "                     [\"Product 3\", 2, 5]], columns=['Product', 'Day', 'Volume'])\n",
    "sales = sales.set_index('Product')\n",
    "print(sales)"
   ]
  },
  {
   "cell_type": "code",
   "execution_count": 9,
   "metadata": {},
   "outputs": [
    {
     "name": "stdout",
     "output_type": "stream",
     "text": [
      "           Cost  Day  Volume\n",
      "Product                     \n",
      "Product 1   100    1      10\n",
      "Product 1   100    2      10\n",
      "Product 2    50    1       5\n",
      "Product 3   200    2       5\n"
     ]
    }
   ],
   "source": [
    "#Left join the data\n",
    "df3 = cost.join(sales)\n",
    "print(df3)"
   ]
  },
  {
   "cell_type": "markdown",
   "metadata": {},
   "source": [
    "In this case, the size of the cost dataframe has expanded and the row was repeated to make up for the fact that there are two entries for product 1. If you do a right join, it will also be repeated in the same way:"
   ]
  },
  {
   "cell_type": "code",
   "execution_count": 10,
   "metadata": {},
   "outputs": [
    {
     "name": "stdout",
     "output_type": "stream",
     "text": [
      "           Cost  Day  Volume\n",
      "Product                     \n",
      "Product 1   100    1      10\n",
      "Product 1   100    2      10\n",
      "Product 2    50    1       5\n",
      "Product 3   200    2       5\n"
     ]
    }
   ],
   "source": [
    "#Right join the data\n",
    "df3 = cost.join(sales, how='right')\n",
    "print(df3)"
   ]
  },
  {
   "cell_type": "markdown",
   "metadata": {},
   "source": [
    "This also works the same when considering a case where both dataframes have duplicates. If we duplicate product 1 twice in the first dataframe with two random prices, we actually get 3 X 2 rows for product 1 because now all of a sudden we need to match each one to one and other!"
   ]
  },
  {
   "cell_type": "code",
   "execution_count": 11,
   "metadata": {},
   "outputs": [
    {
     "name": "stdout",
     "output_type": "stream",
     "text": [
      "           Cost\n",
      "Product        \n",
      "Product 1   100\n",
      "Product 1    50\n",
      "Product 1    75\n",
      "Product 2    50\n",
      "Product 3   200\n",
      "           Day  Volume\n",
      "Product               \n",
      "Product 1    1      10\n",
      "Product 1    2      10\n",
      "Product 2    1       5\n",
      "Product 3    2       5\n"
     ]
    }
   ],
   "source": [
    "#Create the data\n",
    "cost = pd.DataFrame([[\"Product 1\", 100],\n",
    "                     [\"Product 1\", 50],\n",
    "                     [\"Product 1\", 75],\n",
    "                    [\"Product 2\", 50],\n",
    "                    [\"Product 3\", 200]], columns=['Product', 'Cost'])\n",
    "cost = cost.set_index('Product')\n",
    "print(cost)\n",
    "\n",
    "sales = pd.DataFrame([[\"Product 1\", 1, 10],\n",
    "                     [\"Product 1\", 2, 10],\n",
    "                     [\"Product 2\", 1, 5],\n",
    "                     [\"Product 3\", 2, 5]], columns=['Product', 'Day', 'Volume'])\n",
    "sales = sales.set_index('Product')\n",
    "print(sales)"
   ]
  },
  {
   "cell_type": "code",
   "execution_count": 12,
   "metadata": {},
   "outputs": [
    {
     "name": "stdout",
     "output_type": "stream",
     "text": [
      "           Cost  Day  Volume\n",
      "Product                     \n",
      "Product 1   100    1      10\n",
      "Product 1   100    2      10\n",
      "Product 1    50    1      10\n",
      "Product 1    50    2      10\n",
      "Product 1    75    1      10\n",
      "Product 1    75    2      10\n",
      "Product 2    50    1       5\n",
      "Product 3   200    2       5\n"
     ]
    }
   ],
   "source": [
    "#Left join the data\n",
    "df3 = cost.join(sales)\n",
    "print(df3)"
   ]
  },
  {
   "cell_type": "markdown",
   "metadata": {},
   "source": [
    "This is why we often want to make the constraint that the joining index is unique! Keep this in mind when doing your joins that you can end up adding rows if it is not unique."
   ]
  },
  {
   "cell_type": "markdown",
   "metadata": {},
   "source": [
    "### Multi-Index Joins\n",
    "\n",
    "Imagine a hypothetical scenario where we have 2 products, measured over 2 days. We have prices and sales once again, but what if the price had changed between the two days? In this case, maybe the business owner charges more on a given day. How can we join these 4 records together? The answer lies in the multi-index. First, create the data below."
   ]
  },
  {
   "cell_type": "code",
   "execution_count": 13,
   "metadata": {},
   "outputs": [
    {
     "name": "stdout",
     "output_type": "stream",
     "text": [
      "     Product  Cost  Day\n",
      "0  Product 1   100    1\n",
      "1  Product 1   110    2\n",
      "2  Product 2    55    1\n",
      "3  Product 2    60    2\n",
      "     Product  Day  Volume\n",
      "0  Product 1    1      10\n",
      "1  Product 1    2      10\n",
      "2  Product 2    1      15\n",
      "3  Product 2    2      20\n"
     ]
    }
   ],
   "source": [
    "#Create the data\n",
    "cost = pd.DataFrame([[\"Product 1\", 100, 1],\n",
    "                     [\"Product 1\", 110, 2],\n",
    "                     [\"Product 2\", 55, 1],\n",
    "                     [\"Product 2\", 60, 2],], columns=['Product', 'Cost', 'Day'])\n",
    "print(cost)\n",
    "\n",
    "sales = pd.DataFrame([[\"Product 1\", 1, 10],\n",
    "                     [\"Product 1\", 2, 10],\n",
    "                     [\"Product 2\", 1, 15],\n",
    "                     [\"Product 2\", 2, 20]], columns=['Product', 'Day', 'Volume'])\n",
    "print(sales)"
   ]
  },
  {
   "cell_type": "markdown",
   "metadata": {},
   "source": [
    "To set a multi-index, we can pass in a list of indices to use for our data. Let's set both to have a multi-index."
   ]
  },
  {
   "cell_type": "code",
   "execution_count": 14,
   "metadata": {},
   "outputs": [
    {
     "name": "stdout",
     "output_type": "stream",
     "text": [
      "               Cost\n",
      "Product   Day      \n",
      "Product 1 1     100\n",
      "          2     110\n",
      "Product 2 1      55\n",
      "          2      60\n",
      "\n",
      "               Volume\n",
      "Product   Day        \n",
      "Product 1 1        10\n",
      "          2        10\n",
      "Product 2 1        15\n",
      "          2        20\n"
     ]
    }
   ],
   "source": [
    "#Set the multi-index\n",
    "cost = cost.set_index(['Product', 'Day'])\n",
    "print(cost)\n",
    "print()\n",
    "\n",
    "sales = sales.set_index(['Product', 'Day'])\n",
    "print(sales)"
   ]
  },
  {
   "cell_type": "markdown",
   "metadata": {},
   "source": [
    "Now if we just do a simple left join on this, we are going to have no additional rows created, because each of the 4 rows is a 1 to 1 match as the index is unique."
   ]
  },
  {
   "cell_type": "code",
   "execution_count": 15,
   "metadata": {},
   "outputs": [
    {
     "name": "stdout",
     "output_type": "stream",
     "text": [
      "               Cost  Volume\n",
      "Product   Day              \n",
      "Product 1 1     100      10\n",
      "          2     110      10\n",
      "Product 2 1      55      15\n",
      "          2      60      20\n"
     ]
    }
   ],
   "source": [
    "#Join the data\n",
    "df3 = cost.join(sales)\n",
    "print(df3)"
   ]
  },
  {
   "cell_type": "markdown",
   "metadata": {},
   "source": [
    "### Column Collisions\n",
    "\n",
    "The last thing to cover with regards to joins is collisions in columns. Often times you may find that you are joining two dataframes that have similar columns but they are named the same. For our example, imagine there are two dataframes that have sales as the column, but one actually is stores in a physical store and one is a store online. We can use a suffix to handle the matching column names. Let's start with an example."
   ]
  },
  {
   "cell_type": "code",
   "execution_count": 16,
   "metadata": {},
   "outputs": [
    {
     "name": "stdout",
     "output_type": "stream",
     "text": [
      "   Sales\n",
      "1    100\n",
      "2    200\n",
      "3    300\n",
      "\n",
      "   Sales\n",
      "1    150\n",
      "2    100\n",
      "3    200\n"
     ]
    }
   ],
   "source": [
    "#Create the data\n",
    "instore_sales = pd.DataFrame([[100],[200], [300]], index=[1, 2, 3], columns=['Sales'])\n",
    "print(instore_sales)\n",
    "print()\n",
    "\n",
    "online_sales = pd.DataFrame([[150],[100], [200]], index=[1, 2, 3], columns=['Sales'])\n",
    "print(online_sales)"
   ]
  },
  {
   "cell_type": "markdown",
   "metadata": {},
   "source": [
    "Notice what happens when you try to join these."
   ]
  },
  {
   "cell_type": "code",
   "execution_count": 17,
   "metadata": {},
   "outputs": [
    {
     "ename": "ValueError",
     "evalue": "columns overlap but no suffix specified: Index(['Sales'], dtype='object')",
     "output_type": "error",
     "traceback": [
      "\u001b[0;31m---------------------------------------------------------------------------\u001b[0m",
      "\u001b[0;31mValueError\u001b[0m                                Traceback (most recent call last)",
      "\u001b[0;32m<ipython-input-17-8c6685b0d6a4>\u001b[0m in \u001b[0;36m<module>\u001b[0;34m\u001b[0m\n\u001b[1;32m      1\u001b[0m \u001b[0;31m#Join the sales data\u001b[0m\u001b[0;34m\u001b[0m\u001b[0;34m\u001b[0m\u001b[0;34m\u001b[0m\u001b[0m\n\u001b[0;32m----> 2\u001b[0;31m \u001b[0msales\u001b[0m \u001b[0;34m=\u001b[0m \u001b[0minstore_sales\u001b[0m\u001b[0;34m.\u001b[0m\u001b[0mjoin\u001b[0m\u001b[0;34m(\u001b[0m\u001b[0monline_sales\u001b[0m\u001b[0;34m)\u001b[0m\u001b[0;34m\u001b[0m\u001b[0;34m\u001b[0m\u001b[0m\n\u001b[0m",
      "\u001b[0;32m~/anaconda/envs/FinanceAndPython/lib/python3.8/site-packages/pandas/core/frame.py\u001b[0m in \u001b[0;36mjoin\u001b[0;34m(self, other, on, how, lsuffix, rsuffix, sort)\u001b[0m\n\u001b[1;32m   7206\u001b[0m         \u001b[0;36m5\u001b[0m  \u001b[0mK5\u001b[0m  \u001b[0mA5\u001b[0m  \u001b[0mNaN\u001b[0m\u001b[0;34m\u001b[0m\u001b[0;34m\u001b[0m\u001b[0m\n\u001b[1;32m   7207\u001b[0m         \"\"\"\n\u001b[0;32m-> 7208\u001b[0;31m         return self._join_compat(\n\u001b[0m\u001b[1;32m   7209\u001b[0m             \u001b[0mother\u001b[0m\u001b[0;34m,\u001b[0m \u001b[0mon\u001b[0m\u001b[0;34m=\u001b[0m\u001b[0mon\u001b[0m\u001b[0;34m,\u001b[0m \u001b[0mhow\u001b[0m\u001b[0;34m=\u001b[0m\u001b[0mhow\u001b[0m\u001b[0;34m,\u001b[0m \u001b[0mlsuffix\u001b[0m\u001b[0;34m=\u001b[0m\u001b[0mlsuffix\u001b[0m\u001b[0;34m,\u001b[0m \u001b[0mrsuffix\u001b[0m\u001b[0;34m=\u001b[0m\u001b[0mrsuffix\u001b[0m\u001b[0;34m,\u001b[0m \u001b[0msort\u001b[0m\u001b[0;34m=\u001b[0m\u001b[0msort\u001b[0m\u001b[0;34m\u001b[0m\u001b[0;34m\u001b[0m\u001b[0m\n\u001b[1;32m   7210\u001b[0m         )\n",
      "\u001b[0;32m~/anaconda/envs/FinanceAndPython/lib/python3.8/site-packages/pandas/core/frame.py\u001b[0m in \u001b[0;36m_join_compat\u001b[0;34m(self, other, on, how, lsuffix, rsuffix, sort)\u001b[0m\n\u001b[1;32m   7222\u001b[0m \u001b[0;34m\u001b[0m\u001b[0m\n\u001b[1;32m   7223\u001b[0m         \u001b[0;32mif\u001b[0m \u001b[0misinstance\u001b[0m\u001b[0;34m(\u001b[0m\u001b[0mother\u001b[0m\u001b[0;34m,\u001b[0m \u001b[0mDataFrame\u001b[0m\u001b[0;34m)\u001b[0m\u001b[0;34m:\u001b[0m\u001b[0;34m\u001b[0m\u001b[0;34m\u001b[0m\u001b[0m\n\u001b[0;32m-> 7224\u001b[0;31m             return merge(\n\u001b[0m\u001b[1;32m   7225\u001b[0m                 \u001b[0mself\u001b[0m\u001b[0;34m,\u001b[0m\u001b[0;34m\u001b[0m\u001b[0;34m\u001b[0m\u001b[0m\n\u001b[1;32m   7226\u001b[0m                 \u001b[0mother\u001b[0m\u001b[0;34m,\u001b[0m\u001b[0;34m\u001b[0m\u001b[0;34m\u001b[0m\u001b[0m\n",
      "\u001b[0;32m~/anaconda/envs/FinanceAndPython/lib/python3.8/site-packages/pandas/core/reshape/merge.py\u001b[0m in \u001b[0;36mmerge\u001b[0;34m(left, right, how, on, left_on, right_on, left_index, right_index, sort, suffixes, copy, indicator, validate)\u001b[0m\n\u001b[1;32m     86\u001b[0m         \u001b[0mvalidate\u001b[0m\u001b[0;34m=\u001b[0m\u001b[0mvalidate\u001b[0m\u001b[0;34m,\u001b[0m\u001b[0;34m\u001b[0m\u001b[0;34m\u001b[0m\u001b[0m\n\u001b[1;32m     87\u001b[0m     )\n\u001b[0;32m---> 88\u001b[0;31m     \u001b[0;32mreturn\u001b[0m \u001b[0mop\u001b[0m\u001b[0;34m.\u001b[0m\u001b[0mget_result\u001b[0m\u001b[0;34m(\u001b[0m\u001b[0;34m)\u001b[0m\u001b[0;34m\u001b[0m\u001b[0;34m\u001b[0m\u001b[0m\n\u001b[0m\u001b[1;32m     89\u001b[0m \u001b[0;34m\u001b[0m\u001b[0m\n\u001b[1;32m     90\u001b[0m \u001b[0;34m\u001b[0m\u001b[0m\n",
      "\u001b[0;32m~/anaconda/envs/FinanceAndPython/lib/python3.8/site-packages/pandas/core/reshape/merge.py\u001b[0m in \u001b[0;36mget_result\u001b[0;34m(self)\u001b[0m\n\u001b[1;32m    646\u001b[0m         \u001b[0mlsuf\u001b[0m\u001b[0;34m,\u001b[0m \u001b[0mrsuf\u001b[0m \u001b[0;34m=\u001b[0m \u001b[0mself\u001b[0m\u001b[0;34m.\u001b[0m\u001b[0msuffixes\u001b[0m\u001b[0;34m\u001b[0m\u001b[0;34m\u001b[0m\u001b[0m\n\u001b[1;32m    647\u001b[0m \u001b[0;34m\u001b[0m\u001b[0m\n\u001b[0;32m--> 648\u001b[0;31m         llabels, rlabels = _items_overlap_with_suffix(\n\u001b[0m\u001b[1;32m    649\u001b[0m             \u001b[0mldata\u001b[0m\u001b[0;34m.\u001b[0m\u001b[0mitems\u001b[0m\u001b[0;34m,\u001b[0m \u001b[0mlsuf\u001b[0m\u001b[0;34m,\u001b[0m \u001b[0mrdata\u001b[0m\u001b[0;34m.\u001b[0m\u001b[0mitems\u001b[0m\u001b[0;34m,\u001b[0m \u001b[0mrsuf\u001b[0m\u001b[0;34m\u001b[0m\u001b[0;34m\u001b[0m\u001b[0m\n\u001b[1;32m    650\u001b[0m         )\n",
      "\u001b[0;32m~/anaconda/envs/FinanceAndPython/lib/python3.8/site-packages/pandas/core/reshape/merge.py\u001b[0m in \u001b[0;36m_items_overlap_with_suffix\u001b[0;34m(left, lsuffix, right, rsuffix)\u001b[0m\n\u001b[1;32m   2022\u001b[0m \u001b[0;34m\u001b[0m\u001b[0m\n\u001b[1;32m   2023\u001b[0m     \u001b[0;32mif\u001b[0m \u001b[0;32mnot\u001b[0m \u001b[0mlsuffix\u001b[0m \u001b[0;32mand\u001b[0m \u001b[0;32mnot\u001b[0m \u001b[0mrsuffix\u001b[0m\u001b[0;34m:\u001b[0m\u001b[0;34m\u001b[0m\u001b[0;34m\u001b[0m\u001b[0m\n\u001b[0;32m-> 2024\u001b[0;31m         raise ValueError(\n\u001b[0m\u001b[1;32m   2025\u001b[0m             \u001b[0;34m\"columns overlap but no suffix specified: \"\u001b[0m\u001b[0;34m\u001b[0m\u001b[0;34m\u001b[0m\u001b[0m\n\u001b[1;32m   2026\u001b[0m             \u001b[0;34m\"{rename}\"\u001b[0m\u001b[0;34m.\u001b[0m\u001b[0mformat\u001b[0m\u001b[0;34m(\u001b[0m\u001b[0mrename\u001b[0m\u001b[0;34m=\u001b[0m\u001b[0mto_rename\u001b[0m\u001b[0;34m)\u001b[0m\u001b[0;34m\u001b[0m\u001b[0;34m\u001b[0m\u001b[0m\n",
      "\u001b[0;31mValueError\u001b[0m: columns overlap but no suffix specified: Index(['Sales'], dtype='object')"
     ]
    }
   ],
   "source": [
    "#Join the sales data\n",
    "sales = instore_sales.join(online_sales)"
   ]
  },
  {
   "cell_type": "markdown",
   "metadata": {},
   "source": [
    "The way to work around this is to use lsuffix and rsuffix which represent what suffix to add to each column in the left and right."
   ]
  },
  {
   "cell_type": "code",
   "execution_count": 18,
   "metadata": {},
   "outputs": [
    {
     "name": "stdout",
     "output_type": "stream",
     "text": [
      "   Sales Instore  Sales Online\n",
      "1            100           150\n",
      "2            200           100\n",
      "3            300           200\n"
     ]
    }
   ],
   "source": [
    "#Join after using a suffix\n",
    "sales = instore_sales.join(online_sales, lsuffix=' Instore', rsuffix=' Online')\n",
    "print(sales)"
   ]
  }
 ],
 "metadata": {
  "kernelspec": {
   "display_name": "Python 3",
   "language": "python",
   "name": "python3"
  },
  "language_info": {
   "codemirror_mode": {
    "name": "ipython",
    "version": 3
   },
   "file_extension": ".py",
   "mimetype": "text/x-python",
   "name": "python",
   "nbconvert_exporter": "python",
   "pygments_lexer": "ipython3",
   "version": "3.8.3"
  }
 },
 "nbformat": 4,
 "nbformat_minor": 4
}
