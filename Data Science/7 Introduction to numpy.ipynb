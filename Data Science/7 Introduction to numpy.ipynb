{
 "cells": [
  {
   "cell_type": "markdown",
   "metadata": {},
   "source": [
    "# Numpy Introduction\n",
    "\n",
    "Numpy is a library that you will often use with pandas for achieving data science goals. It serves many similar purposes but has different features and abilities that often complement pandas. For example, many linear algebra operations can be achieved with great ease using numpy. These kinds of operations are not ones you want to do with native python data types because the speed is just not the same. Numpy has optimization under the hood that makes it run in fractions of what it takes for regular python."
   ]
  },
  {
   "cell_type": "markdown",
   "metadata": {},
   "source": [
    "## Numpy Arrays\n",
    "\n",
    "The basic type of data for numpy is an array, which is similar to lists in python but with a rich set of numpy features you can use for them. To create a numpy array, you just call np.array() and pass in the list of data you have."
   ]
  },
  {
   "cell_type": "code",
   "execution_count": 1,
   "metadata": {},
   "outputs": [
    {
     "name": "stdout",
     "output_type": "stream",
     "text": [
      "[1 2 3]\n"
     ]
    }
   ],
   "source": [
    "import numpy as np\n",
    "\n",
    "#Create a basic numpy array\n",
    "ar1 = np.array([1, 2, 3])\n",
    "\n",
    "print(ar1)"
   ]
  },
  {
   "cell_type": "markdown",
   "metadata": {},
   "source": [
    "Indexing a one dimensional array works the same in numpy as with basic python lists, for example, to get the first element, or the first two elements..."
   ]
  },
  {
   "cell_type": "code",
   "execution_count": 2,
   "metadata": {},
   "outputs": [
    {
     "name": "stdout",
     "output_type": "stream",
     "text": [
      "1\n",
      "[1 2]\n"
     ]
    }
   ],
   "source": [
    "#Basic indexing\n",
    "print(ar1[0])\n",
    "print(ar1[:2])"
   ]
  },
  {
   "cell_type": "markdown",
   "metadata": {},
   "source": [
    "## Extending to 2 Dimensions\n",
    "\n",
    "One of the biggest differences you will see with numpy is its support for higher dimension arrays. If we give it a nested list, we will get back a 2 dimensional array. So first create the following array."
   ]
  },
  {
   "cell_type": "code",
   "execution_count": 3,
   "metadata": {},
   "outputs": [
    {
     "name": "stdout",
     "output_type": "stream",
     "text": [
      "[[ 1  2  3]\n",
      " [ 4  5  6]\n",
      " [ 7  8  9]\n",
      " [10 11 12]]\n"
     ]
    }
   ],
   "source": [
    "#Create a two dimensional array\n",
    "ar1 = np.array([[1, 2, 3],\n",
    "               [4, 5, 6],\n",
    "               [7, 8, 9],\n",
    "               [10, 11, 12]])\n",
    "print(ar1)"
   ]
  },
  {
   "cell_type": "markdown",
   "metadata": {},
   "source": [
    "The shape attribute will return the dimensions of the array. In the case of the 2d array, it will give the number of rows x number of columns."
   ]
  },
  {
   "cell_type": "code",
   "execution_count": 4,
   "metadata": {},
   "outputs": [
    {
     "name": "stdout",
     "output_type": "stream",
     "text": [
      "(4, 3)\n"
     ]
    }
   ],
   "source": [
    "#Print the shape\n",
    "print(ar1.shape)"
   ]
  },
  {
   "cell_type": "markdown",
   "metadata": {},
   "source": [
    "If you use the indexing from before, you will get the first row, and the first two rows. You can try it out to see."
   ]
  },
  {
   "cell_type": "code",
   "execution_count": 5,
   "metadata": {},
   "outputs": [
    {
     "name": "stdout",
     "output_type": "stream",
     "text": [
      "[1 2 3]\n",
      "\n",
      "[[1 2 3]\n",
      " [4 5 6]]\n"
     ]
    }
   ],
   "source": [
    "#Basic indexing\n",
    "print(ar1[0])\n",
    "print()\n",
    "print(ar1[:2])"
   ]
  },
  {
   "cell_type": "markdown",
   "metadata": {},
   "source": [
    "One thing that you can't do with basic lists is to index along the columns instead. If you give \":\" for the rows (meaning return all rows), then you can use the indexing for the columns to get back the first column as well as the first two columns. Notice how the shapes look for each! The first one will give back a one dimensional array."
   ]
  },
  {
   "cell_type": "code",
   "execution_count": 6,
   "metadata": {},
   "outputs": [
    {
     "name": "stdout",
     "output_type": "stream",
     "text": [
      "[ 1  4  7 10]\n",
      "\n",
      "[[ 1  2]\n",
      " [ 4  5]\n",
      " [ 7  8]\n",
      " [10 11]]\n"
     ]
    }
   ],
   "source": [
    "#Basic indexing for columns\n",
    "print(ar1[:,0])\n",
    "print()\n",
    "print(ar1[:,:2])"
   ]
  },
  {
   "cell_type": "markdown",
   "metadata": {},
   "source": [
    "As well, different operations can be used for numpy arrays together. Things like adding two numpy arrays together will add them element by element. So for example, the following code creates a second array, then adds the first and second array."
   ]
  },
  {
   "cell_type": "code",
   "execution_count": 7,
   "metadata": {},
   "outputs": [
    {
     "name": "stdout",
     "output_type": "stream",
     "text": [
      "Array 1:\n",
      "[[ 1  2  3]\n",
      " [ 4  5  6]\n",
      " [ 7  8  9]\n",
      " [10 11 12]]\n",
      "\n",
      "Array 2:\n",
      "[[ 2  4  6]\n",
      " [ 8 10 12]\n",
      " [14 16 18]\n",
      " [20 22 24]]\n",
      "\n",
      "Array 3 (Array 1 + Array 2):\n",
      "[[ 3  6  9]\n",
      " [12 15 18]\n",
      " [21 24 27]\n",
      " [30 33 36]]\n"
     ]
    }
   ],
   "source": [
    "#Create array 2\n",
    "ar2 = ar1.copy() * 2\n",
    "\n",
    "#Add array 1 and array 2\n",
    "\n",
    "print(\"Array 1:\")\n",
    "print(ar1)\n",
    "print()\n",
    "\n",
    "print(\"Array 2:\")\n",
    "print(ar2)\n",
    "print()\n",
    "\n",
    "ar3 = ar1 + ar2\n",
    "print(\"Array 3 (Array 1 + Array 2):\")\n",
    "print(ar3)"
   ]
  },
  {
   "cell_type": "markdown",
   "metadata": {},
   "source": [
    "## Moving to 3+ Dimensions\n",
    "\n",
    "Numpy supports the ability to create arrays that are higher dimensional. Let's start with a basic example, what if you had two products and two stores that you sell the products in leading to a a 2x2 array to hold sales information. The two columns will denote product 1 and product 2, the two rows will denote store 1 and store 2."
   ]
  },
  {
   "cell_type": "code",
   "execution_count": 8,
   "metadata": {},
   "outputs": [
    {
     "name": "stdout",
     "output_type": "stream",
     "text": [
      "[[100 200]\n",
      " [ 50 100]]\n"
     ]
    }
   ],
   "source": [
    "#Create the sales array\n",
    "\n",
    "sales = np.array([[100, 200],\n",
    "                 [50, 100]])\n",
    "print(sales)"
   ]
  },
  {
   "cell_type": "markdown",
   "metadata": {},
   "source": [
    "We can index into this array to find different things..."
   ]
  },
  {
   "cell_type": "code",
   "execution_count": 9,
   "metadata": {},
   "outputs": [
    {
     "name": "stdout",
     "output_type": "stream",
     "text": [
      "Sales for product 1: \n",
      "[100  50]\n",
      "\n",
      "Sales for product 2: \n",
      "[200 100]\n",
      "\n",
      "Sales at store 1: \n",
      "[100 200]\n",
      "\n",
      "Sales at store 2: \n",
      "[ 50 100]\n",
      "\n"
     ]
    }
   ],
   "source": [
    "print(\"Sales for product 1: \")\n",
    "print(sales[:,0])\n",
    "print()\n",
    "print(\"Sales for product 2: \")\n",
    "print(sales[:,1])\n",
    "print()\n",
    "\n",
    "print(\"Sales at store 1: \")\n",
    "print(sales[0])\n",
    "print()\n",
    "\n",
    "print(\"Sales at store 2: \")\n",
    "print(sales[1])\n",
    "print()"
   ]
  },
  {
   "cell_type": "markdown",
   "metadata": {},
   "source": [
    "At this point, you may be thinking that this would be much easier with a pandas dataframe that will have the labels. Here is the twist though, what if we have a third dimension, the day? We saw with pandas one way of representing it, but this may not always be the most effecient way to store data. Numpy allows us to have a third dimension (or more). All we need to do is add a third level of nesting and numpy will take care of the rest. I will specify what day relates to which array to make it as clear as possible how this works. First, the three lists of sales data need to be built."
   ]
  },
  {
   "cell_type": "code",
   "execution_count": 10,
   "metadata": {},
   "outputs": [],
   "source": [
    "#Create sales data\n",
    "\n",
    "sales_day1 = [[100, 200],\n",
    "                 [50, 100]]\n",
    "\n",
    "sales_day2 = [[140, 300],\n",
    "                 [55, 40]]\n",
    "\n",
    "sales_day3 = [[21, 33],\n",
    "                 [43, 53]]"
   ]
  },
  {
   "cell_type": "markdown",
   "metadata": {},
   "source": [
    "We can combine these three lists into one larger list to hold them."
   ]
  },
  {
   "cell_type": "code",
   "execution_count": 11,
   "metadata": {},
   "outputs": [
    {
     "name": "stdout",
     "output_type": "stream",
     "text": [
      "[[[100, 200], [50, 100]], [[140, 300], [55, 40]], [[21, 33], [43, 53]]]\n"
     ]
    }
   ],
   "source": [
    "#Create the larger list object\n",
    "sales = [sales_day1, sales_day2, sales_day3]\n",
    "print(sales)"
   ]
  },
  {
   "cell_type": "markdown",
   "metadata": {},
   "source": [
    "Finally this can be converted to a numpy array by passing it."
   ]
  },
  {
   "cell_type": "code",
   "execution_count": 12,
   "metadata": {},
   "outputs": [
    {
     "name": "stdout",
     "output_type": "stream",
     "text": [
      "[[[100 200]\n",
      "  [ 50 100]]\n",
      "\n",
      " [[140 300]\n",
      "  [ 55  40]]\n",
      "\n",
      " [[ 21  33]\n",
      "  [ 43  53]]]\n"
     ]
    }
   ],
   "source": [
    "#Convert to a numpy array\n",
    "sales = np.array(sales)\n",
    "print(sales)"
   ]
  },
  {
   "cell_type": "markdown",
   "metadata": {},
   "source": [
    "With our indexing, we can pick specific 2x2 matrices by passing the first index, so to get the second array..."
   ]
  },
  {
   "cell_type": "code",
   "execution_count": 13,
   "metadata": {},
   "outputs": [
    {
     "name": "stdout",
     "output_type": "stream",
     "text": [
      "[[140 300]\n",
      " [ 55  40]]\n"
     ]
    }
   ],
   "source": [
    "#Get the second array\n",
    "print(sales[1])"
   ]
  },
  {
   "cell_type": "markdown",
   "metadata": {},
   "source": [
    "Here is where we really get the benefits of numpy, however. What if we wanted to quickly see all sales for product 1 at all stores over all time frames? We can now to indexing along the different dimensions. Our first index is going to be \":\" because we want all the time, the second will be \":\" because we want all the stores, and then our final index will be \"0\" because we want to get back only product 1."
   ]
  },
  {
   "cell_type": "code",
   "execution_count": 14,
   "metadata": {},
   "outputs": [
    {
     "name": "stdout",
     "output_type": "stream",
     "text": [
      "[[100  50]\n",
      " [140  55]\n",
      " [ 21  43]]\n"
     ]
    }
   ],
   "source": [
    "print(sales[:,:,0])"
   ]
  },
  {
   "cell_type": "markdown",
   "metadata": {},
   "source": [
    "In a similar way, we could get all the sales between the first and second day by switching the index to end at 2."
   ]
  },
  {
   "cell_type": "code",
   "execution_count": 15,
   "metadata": {},
   "outputs": [
    {
     "name": "stdout",
     "output_type": "stream",
     "text": [
      "[[100  50]\n",
      " [140  55]]\n"
     ]
    }
   ],
   "source": [
    "print(sales[:2,:,0])"
   ]
  },
  {
   "cell_type": "markdown",
   "metadata": {},
   "source": [
    "Let's say now that we also wanted to limit this to the first store only, we could switch that second index to be 0 as well. Notice how this is going to change the shape of the array."
   ]
  },
  {
   "cell_type": "code",
   "execution_count": 16,
   "metadata": {},
   "outputs": [
    {
     "name": "stdout",
     "output_type": "stream",
     "text": [
      "[100 140]\n"
     ]
    }
   ],
   "source": [
    "print(sales[:2,0,0])"
   ]
  },
  {
   "cell_type": "markdown",
   "metadata": {},
   "source": [
    "If you needed to preserve the two dimensional shaping of the array, one method would be to do the range to 1 instead like so below."
   ]
  },
  {
   "cell_type": "code",
   "execution_count": 17,
   "metadata": {},
   "outputs": [
    {
     "name": "stdout",
     "output_type": "stream",
     "text": [
      "[[100]\n",
      " [140]]\n"
     ]
    }
   ],
   "source": [
    "print(sales[:2,:1,0])"
   ]
  },
  {
   "cell_type": "markdown",
   "metadata": {},
   "source": [
    "There is however some built in functionality that can handle any sort of reshaping you want to do...."
   ]
  },
  {
   "cell_type": "markdown",
   "metadata": {},
   "source": [
    "## Reshaping Arrays\n",
    "\n",
    "There are many different ways to change the dimensions of an array. To begin with there is flatten which will take any array and turn it into a one dimensional array. For example, look what happens to the sales array. With flatten, you can compare where the numbers are with flatten versus in the array."
   ]
  },
  {
   "cell_type": "code",
   "execution_count": 18,
   "metadata": {},
   "outputs": [
    {
     "name": "stdout",
     "output_type": "stream",
     "text": [
      "[100 200  50 100 140 300  55  40  21  33  43  53]\n"
     ]
    }
   ],
   "source": [
    "#Print the flattened array\n",
    "print(sales.flatten())"
   ]
  },
  {
   "cell_type": "code",
   "execution_count": 19,
   "metadata": {},
   "outputs": [
    {
     "name": "stdout",
     "output_type": "stream",
     "text": [
      "[[[100 200]\n",
      "  [ 50 100]]\n",
      "\n",
      " [[140 300]\n",
      "  [ 55  40]]\n",
      "\n",
      " [[ 21  33]\n",
      "  [ 43  53]]]\n"
     ]
    }
   ],
   "source": [
    "#Compare to the original array\n",
    "print(sales)"
   ]
  },
  {
   "cell_type": "markdown",
   "metadata": {},
   "source": [
    "Reshaping is a way to transform between different dimensions. First, the array is flattened to a one dimensional array then it fills in an array of the shape specified. Take this six element 1d array to begin with."
   ]
  },
  {
   "cell_type": "code",
   "execution_count": 20,
   "metadata": {},
   "outputs": [
    {
     "name": "stdout",
     "output_type": "stream",
     "text": [
      "[1 2 3 4 5 6]\n"
     ]
    }
   ],
   "source": [
    "#Create the data\n",
    "ar = np.array([1, 2, 3, 4, 5, 6])\n",
    "print(ar)"
   ]
  },
  {
   "cell_type": "markdown",
   "metadata": {},
   "source": [
    "To use reshape, you must pass a tuple of dimensions to use. The multiplication of these dimensions must be equal to the overall number of elements in the array. For example, the shape 3x2 works because there are 6 total elements. This will return an array with 3 rows and 2 columns."
   ]
  },
  {
   "cell_type": "code",
   "execution_count": 21,
   "metadata": {},
   "outputs": [
    {
     "name": "stdout",
     "output_type": "stream",
     "text": [
      "[[1 2]\n",
      " [3 4]\n",
      " [5 6]]\n"
     ]
    }
   ],
   "source": [
    "#Reshape the array\n",
    "print(ar.reshape((3,2)))"
   ]
  },
  {
   "cell_type": "markdown",
   "metadata": {},
   "source": [
    "Of course, we could just as well have a 2x3 array instead..."
   ]
  },
  {
   "cell_type": "code",
   "execution_count": 22,
   "metadata": {},
   "outputs": [
    {
     "name": "stdout",
     "output_type": "stream",
     "text": [
      "[[1 2 3]\n",
      " [4 5 6]]\n"
     ]
    }
   ],
   "source": [
    "print(ar.reshape((2,3)))"
   ]
  },
  {
   "cell_type": "markdown",
   "metadata": {},
   "source": [
    "You can also have higher dimension arrays with re-shaping. For example, we might want a 3x2x2 from a length 12 one dimensional array."
   ]
  },
  {
   "cell_type": "code",
   "execution_count": 23,
   "metadata": {},
   "outputs": [
    {
     "name": "stdout",
     "output_type": "stream",
     "text": [
      "[ 1  2  3  4  5  6  7  8  9 10 11 12]\n",
      "\n",
      "[[[ 1  2]\n",
      "  [ 3  4]]\n",
      "\n",
      " [[ 5  6]\n",
      "  [ 7  8]]\n",
      "\n",
      " [[ 9 10]\n",
      "  [11 12]]]\n"
     ]
    }
   ],
   "source": [
    "#Create data\n",
    "ar = np.array(list(range(1,13)))\n",
    "print(ar)\n",
    "print()\n",
    "\n",
    "#Print re-shaped data\n",
    "print(ar.reshape((3,2,2)))"
   ]
  },
  {
   "cell_type": "markdown",
   "metadata": {},
   "source": [
    "Reshaping can be applied however you need it to be done and will allow for many useful applications. One last example will be bringing back the sales data. You might imagine a scenario where all you care about is seeing the sales numbers across days easily. In that case, it might be useful to just transform the array to show a one dimensional array per day referring to the sales numbers...."
   ]
  },
  {
   "cell_type": "code",
   "execution_count": 24,
   "metadata": {},
   "outputs": [
    {
     "name": "stdout",
     "output_type": "stream",
     "text": [
      "Original Sales Data:\n",
      "[[[100 200]\n",
      "  [ 50 100]]\n",
      "\n",
      " [[140 300]\n",
      "  [ 55  40]]\n",
      "\n",
      " [[ 21  33]\n",
      "  [ 43  53]]]\n",
      "\n",
      "Reshaped Sales Data\n",
      "[[100 200  50 100]\n",
      " [140 300  55  40]\n",
      " [ 21  33  43  53]]\n"
     ]
    }
   ],
   "source": [
    "print(\"Original Sales Data:\")\n",
    "print(sales)\n",
    "print()\n",
    "\n",
    "print(\"Reshaped Sales Data\")\n",
    "print(sales.reshape(3,4))"
   ]
  }
 ],
 "metadata": {
  "kernelspec": {
   "display_name": "Python 3",
   "language": "python",
   "name": "python3"
  },
  "language_info": {
   "codemirror_mode": {
    "name": "ipython",
    "version": 3
   },
   "file_extension": ".py",
   "mimetype": "text/x-python",
   "name": "python",
   "nbconvert_exporter": "python",
   "pygments_lexer": "ipython3",
   "version": "3.8.3"
  }
 },
 "nbformat": 4,
 "nbformat_minor": 4
}
