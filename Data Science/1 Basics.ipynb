{
 "cells": [
  {
   "cell_type": "code",
   "execution_count": 1,
   "metadata": {
    "collapsed": true
   },
   "outputs": [],
   "source": [
    "import pandas as pd\n",
    "#Pandas is the library we are going to use to manage our data"
   ]
  },
  {
   "cell_type": "code",
   "execution_count": 2,
   "metadata": {
    "collapsed": true
   },
   "outputs": [],
   "source": [
    "l = [1,2,3,4,5,6]\n",
    "#In regular python we have a list"
   ]
  },
  {
   "cell_type": "code",
   "execution_count": 3,
   "metadata": {},
   "outputs": [
    {
     "name": "stdout",
     "output_type": "stream",
     "text": [
      "0    1\n",
      "1    2\n",
      "2    3\n",
      "3    4\n",
      "4    5\n",
      "5    6\n",
      "dtype: int64\n"
     ]
    }
   ],
   "source": [
    "#In pandas we have a series\n",
    "#The numbers on the left are the index (the identifiers for each value)\n",
    "#The numbers on the right are our values\n",
    "s = pd.Series(l)\n",
    "print(s)"
   ]
  },
  {
   "cell_type": "code",
   "execution_count": 4,
   "metadata": {},
   "outputs": [
    {
     "name": "stdout",
     "output_type": "stream",
     "text": [
      "a    1\n",
      "b    2\n",
      "c    3\n",
      "d    4\n",
      "e    5\n",
      "f    6\n",
      "dtype: int64\n"
     ]
    }
   ],
   "source": [
    "#We could other things for an index, however\n",
    "#The default is a range starting at 0\n",
    "s = pd.Series(l,index=[\"a\",\"b\",\"c\",\"d\",\"e\",\"f\"])\n",
    "print(s)\n",
    "#The index argument lets us set the index for our series"
   ]
  },
  {
   "cell_type": "code",
   "execution_count": 5,
   "metadata": {},
   "outputs": [
    {
     "name": "stdout",
     "output_type": "stream",
     "text": [
      "a     1\n",
      "b     4\n",
      "c     9\n",
      "d    16\n",
      "e    25\n",
      "f    36\n",
      "dtype: int64\n"
     ]
    }
   ],
   "source": [
    "s = s**2\n",
    "#Pandas allows for application of math directly to our data. Here, we can square each value\n",
    "print(s)"
   ]
  },
  {
   "cell_type": "code",
   "execution_count": 6,
   "metadata": {},
   "outputs": [
    {
     "name": "stdout",
     "output_type": "stream",
     "text": [
      "[ 1  4  9 16 25 36]\n"
     ]
    }
   ],
   "source": [
    "print(s.values)\n",
    "#The values attribute of a series gives us back a numpy array (which we will cover more in these lessons)"
   ]
  },
  {
   "cell_type": "code",
   "execution_count": 7,
   "metadata": {},
   "outputs": [
    {
     "name": "stdout",
     "output_type": "stream",
     "text": [
      "[('Ray Lewis', \"6'1\", '250', 'Defense'), ('Tom Brady', \"6'4\", '225', 'Offense'), ('Julio Jones', \"6'3\", '220', 'Offense'), ('Richard Sherman', \"6'3\", '194', 'Defense')]\n"
     ]
    }
   ],
   "source": [
    "data = []\n",
    "data.append((\"Ray Lewis\",\"6'1\",\"250\",\"Defense\"))\n",
    "data.append((\"Tom Brady\",\"6'4\",\"225\",\"Offense\"))\n",
    "data.append((\"Julio Jones\",\"6'3\",\"220\",\"Offense\"))\n",
    "data.append((\"Richard Sherman\",\"6'3\",\"194\",\"Defense\"))\n",
    "print(data)\n",
    "#Now, let's create some data, each element corresponds to a row\n",
    "#Each tuple corresponds to the data for the row"
   ]
  },
  {
   "cell_type": "code",
   "execution_count": 8,
   "metadata": {},
   "outputs": [
    {
     "name": "stdout",
     "output_type": "stream",
     "text": [
      "                 0    1    2        3\n",
      "0        Ray Lewis  6'1  250  Defense\n",
      "1        Tom Brady  6'4  225  Offense\n",
      "2      Julio Jones  6'3  220  Offense\n",
      "3  Richard Sherman  6'3  194  Defense\n"
     ]
    }
   ],
   "source": [
    "df = pd.DataFrame(data)\n",
    "#We can initialize a dataframe with a list of data\n",
    "print(df)"
   ]
  },
  {
   "cell_type": "code",
   "execution_count": 9,
   "metadata": {},
   "outputs": [
    {
     "name": "stdout",
     "output_type": "stream",
     "text": [
      "              Name Height Weight     Type\n",
      "0        Ray Lewis    6'1    250  Defense\n",
      "1        Tom Brady    6'4    225  Offense\n",
      "2      Julio Jones    6'3    220  Offense\n",
      "3  Richard Sherman    6'3    194  Defense\n"
     ]
    }
   ],
   "source": [
    "df = pd.DataFrame(data,columns=[\"Name\",\"Height\",\"Weight\",\"Type\"])\n",
    "#The columns argument lets us set the names for the columns in our dataframe\n",
    "print(df)"
   ]
  },
  {
   "cell_type": "code",
   "execution_count": 10,
   "metadata": {},
   "outputs": [
    {
     "name": "stdout",
     "output_type": "stream",
     "text": [
      "0          Ray Lewis\n",
      "1          Tom Brady\n",
      "2        Julio Jones\n",
      "3    Richard Sherman\n",
      "Name: Name, dtype: object\n"
     ]
    }
   ],
   "source": [
    "print(df[\"Name\"])\n",
    "#To get a specific column, we index with the column name."
   ]
  },
  {
   "cell_type": "code",
   "execution_count": 11,
   "metadata": {},
   "outputs": [
    {
     "name": "stdout",
     "output_type": "stream",
     "text": [
      "0    6'1\n",
      "1    6'4\n",
      "2    6'3\n",
      "3    6'3\n",
      "Name: Height, dtype: object\n"
     ]
    }
   ],
   "source": [
    "print(df[\"Height\"])"
   ]
  },
  {
   "cell_type": "code",
   "execution_count": 12,
   "metadata": {},
   "outputs": [
    {
     "name": "stdout",
     "output_type": "stream",
     "text": [
      "              Name Weight\n",
      "0        Ray Lewis    250\n",
      "1        Tom Brady    225\n",
      "2      Julio Jones    220\n",
      "3  Richard Sherman    194\n"
     ]
    }
   ],
   "source": [
    "print(df[[\"Name\",\"Weight\"]])\n",
    "#If we give a nested list where the first element is a list of names, we can select multiple columns"
   ]
  },
  {
   "cell_type": "code",
   "execution_count": 13,
   "metadata": {},
   "outputs": [
    {
     "name": "stdout",
     "output_type": "stream",
     "text": [
      "              Name Height Weight     Type  Retired\n",
      "0        Ray Lewis    6'1    250  Defense     True\n",
      "1        Tom Brady    6'4    225  Offense    False\n",
      "2      Julio Jones    6'3    220  Offense    False\n",
      "3  Richard Sherman    6'3    194  Defense    False\n"
     ]
    }
   ],
   "source": [
    "df[\"Retired\"] = [True,False,False,False]\n",
    "#We can also assign a new column by the above method if we give a list of equal length as the dataframes rows\n",
    "print(df)"
   ]
  },
  {
   "cell_type": "code",
   "execution_count": 14,
   "metadata": {
    "collapsed": true
   },
   "outputs": [],
   "source": [
    "#Right now, we have height as a string representation. Let's crate a function to convert it to inches\n",
    "def heightConvert(x):\n",
    "    x = x.split(\"'\")\n",
    "    #Split the string into the feet and inches part\n",
    "    ft = int(x[0])\n",
    "    #Assign the variable ft the value of the left side as an integer instead of the string\n",
    "    inches = int(x[1])\n",
    "    #We do the same for inches\n",
    "    return ft*12+inches"
   ]
  },
  {
   "cell_type": "code",
   "execution_count": 15,
   "metadata": {},
   "outputs": [
    {
     "data": {
      "text/plain": [
       "73"
      ]
     },
     "execution_count": 15,
     "metadata": {},
     "output_type": "execute_result"
    }
   ],
   "source": [
    "#It works!\n",
    "heightConvert(\"6'1\")"
   ]
  },
  {
   "cell_type": "code",
   "execution_count": 16,
   "metadata": {},
   "outputs": [
    {
     "data": {
      "text/plain": [
       "0    73\n",
       "1    76\n",
       "2    75\n",
       "3    75\n",
       "Name: Height, dtype: int64"
      ]
     },
     "execution_count": 16,
     "metadata": {},
     "output_type": "execute_result"
    }
   ],
   "source": [
    "#We can use the apply() function to apply a function to every element of a series or dataframe\n",
    "df[\"Height\"].apply(heightConvert)"
   ]
  },
  {
   "cell_type": "code",
   "execution_count": 17,
   "metadata": {},
   "outputs": [
    {
     "name": "stdout",
     "output_type": "stream",
     "text": [
      "              Name  Height Weight     Type  Retired\n",
      "0        Ray Lewis      73    250  Defense     True\n",
      "1        Tom Brady      76    225  Offense    False\n",
      "2      Julio Jones      75    220  Offense    False\n",
      "3  Richard Sherman      75    194  Defense    False\n"
     ]
    }
   ],
   "source": [
    "df[\"Height\"] = df[\"Height\"].apply(heightConvert)\n",
    "#Let's assign the inches value over our current height column\n",
    "print(df)"
   ]
  },
  {
   "cell_type": "code",
   "execution_count": 18,
   "metadata": {},
   "outputs": [
    {
     "ename": "TypeError",
     "evalue": "ufunc 'true_divide' not supported for the input types, and the inputs could not be safely coerced to any supported types according to the casting rule ''safe''",
     "output_type": "error",
     "traceback": [
      "\u001b[0;31m---------------------------------------------------------------------------\u001b[0m",
      "\u001b[0;31mTypeError\u001b[0m                                 Traceback (most recent call last)",
      "\u001b[0;32m/Users/seanmcowen/anaconda/lib/python3.6/site-packages/pandas/core/ops.py\u001b[0m in \u001b[0;36mna_op\u001b[0;34m(x, y)\u001b[0m\n\u001b[1;32m    675\u001b[0m         \u001b[0;32mtry\u001b[0m\u001b[0;34m:\u001b[0m\u001b[0;34m\u001b[0m\u001b[0m\n\u001b[0;32m--> 676\u001b[0;31m             \u001b[0mresult\u001b[0m \u001b[0;34m=\u001b[0m \u001b[0mexpressions\u001b[0m\u001b[0;34m.\u001b[0m\u001b[0mevaluate\u001b[0m\u001b[0;34m(\u001b[0m\u001b[0mop\u001b[0m\u001b[0;34m,\u001b[0m \u001b[0mstr_rep\u001b[0m\u001b[0;34m,\u001b[0m \u001b[0mx\u001b[0m\u001b[0;34m,\u001b[0m \u001b[0my\u001b[0m\u001b[0;34m,\u001b[0m \u001b[0;34m**\u001b[0m\u001b[0meval_kwargs\u001b[0m\u001b[0;34m)\u001b[0m\u001b[0;34m\u001b[0m\u001b[0m\n\u001b[0m\u001b[1;32m    677\u001b[0m         \u001b[0;32mexcept\u001b[0m \u001b[0mTypeError\u001b[0m\u001b[0;34m:\u001b[0m\u001b[0;34m\u001b[0m\u001b[0m\n",
      "\u001b[0;32m/Users/seanmcowen/anaconda/lib/python3.6/site-packages/pandas/core/computation/expressions.py\u001b[0m in \u001b[0;36mevaluate\u001b[0;34m(op, op_str, a, b, use_numexpr, **eval_kwargs)\u001b[0m\n\u001b[1;32m    203\u001b[0m     \u001b[0;32mif\u001b[0m \u001b[0muse_numexpr\u001b[0m\u001b[0;34m:\u001b[0m\u001b[0;34m\u001b[0m\u001b[0m\n\u001b[0;32m--> 204\u001b[0;31m         \u001b[0;32mreturn\u001b[0m \u001b[0m_evaluate\u001b[0m\u001b[0;34m(\u001b[0m\u001b[0mop\u001b[0m\u001b[0;34m,\u001b[0m \u001b[0mop_str\u001b[0m\u001b[0;34m,\u001b[0m \u001b[0ma\u001b[0m\u001b[0;34m,\u001b[0m \u001b[0mb\u001b[0m\u001b[0;34m,\u001b[0m \u001b[0;34m**\u001b[0m\u001b[0meval_kwargs\u001b[0m\u001b[0;34m)\u001b[0m\u001b[0;34m\u001b[0m\u001b[0m\n\u001b[0m\u001b[1;32m    205\u001b[0m     \u001b[0;32mreturn\u001b[0m \u001b[0m_evaluate_standard\u001b[0m\u001b[0;34m(\u001b[0m\u001b[0mop\u001b[0m\u001b[0;34m,\u001b[0m \u001b[0mop_str\u001b[0m\u001b[0;34m,\u001b[0m \u001b[0ma\u001b[0m\u001b[0;34m,\u001b[0m \u001b[0mb\u001b[0m\u001b[0;34m)\u001b[0m\u001b[0;34m\u001b[0m\u001b[0m\n",
      "\u001b[0;32m/Users/seanmcowen/anaconda/lib/python3.6/site-packages/pandas/core/computation/expressions.py\u001b[0m in \u001b[0;36m_evaluate_numexpr\u001b[0;34m(op, op_str, a, b, truediv, reversed, **eval_kwargs)\u001b[0m\n\u001b[1;32m    118\u001b[0m     \u001b[0;32mif\u001b[0m \u001b[0mresult\u001b[0m \u001b[0;32mis\u001b[0m \u001b[0;32mNone\u001b[0m\u001b[0;34m:\u001b[0m\u001b[0;34m\u001b[0m\u001b[0m\n\u001b[0;32m--> 119\u001b[0;31m         \u001b[0mresult\u001b[0m \u001b[0;34m=\u001b[0m \u001b[0m_evaluate_standard\u001b[0m\u001b[0;34m(\u001b[0m\u001b[0mop\u001b[0m\u001b[0;34m,\u001b[0m \u001b[0mop_str\u001b[0m\u001b[0;34m,\u001b[0m \u001b[0ma\u001b[0m\u001b[0;34m,\u001b[0m \u001b[0mb\u001b[0m\u001b[0;34m)\u001b[0m\u001b[0;34m\u001b[0m\u001b[0m\n\u001b[0m\u001b[1;32m    120\u001b[0m \u001b[0;34m\u001b[0m\u001b[0m\n",
      "\u001b[0;32m/Users/seanmcowen/anaconda/lib/python3.6/site-packages/pandas/core/computation/expressions.py\u001b[0m in \u001b[0;36m_evaluate_standard\u001b[0;34m(op, op_str, a, b, **eval_kwargs)\u001b[0m\n\u001b[1;32m     63\u001b[0m     \u001b[0;32mwith\u001b[0m \u001b[0mnp\u001b[0m\u001b[0;34m.\u001b[0m\u001b[0merrstate\u001b[0m\u001b[0;34m(\u001b[0m\u001b[0mall\u001b[0m\u001b[0;34m=\u001b[0m\u001b[0;34m'ignore'\u001b[0m\u001b[0;34m)\u001b[0m\u001b[0;34m:\u001b[0m\u001b[0;34m\u001b[0m\u001b[0m\n\u001b[0;32m---> 64\u001b[0;31m         \u001b[0;32mreturn\u001b[0m \u001b[0mop\u001b[0m\u001b[0;34m(\u001b[0m\u001b[0ma\u001b[0m\u001b[0;34m,\u001b[0m \u001b[0mb\u001b[0m\u001b[0;34m)\u001b[0m\u001b[0;34m\u001b[0m\u001b[0m\n\u001b[0m\u001b[1;32m     65\u001b[0m \u001b[0;34m\u001b[0m\u001b[0m\n",
      "\u001b[0;31mTypeError\u001b[0m: unsupported operand type(s) for /: 'str' and 'int'",
      "\nDuring handling of the above exception, another exception occurred:\n",
      "\u001b[0;31mTypeError\u001b[0m                                 Traceback (most recent call last)",
      "\u001b[0;32m/Users/seanmcowen/anaconda/lib/python3.6/site-packages/pandas/core/ops.py\u001b[0m in \u001b[0;36msafe_na_op\u001b[0;34m(lvalues, rvalues)\u001b[0m\n\u001b[1;32m    699\u001b[0m             \u001b[0;32mwith\u001b[0m \u001b[0mnp\u001b[0m\u001b[0;34m.\u001b[0m\u001b[0merrstate\u001b[0m\u001b[0;34m(\u001b[0m\u001b[0mall\u001b[0m\u001b[0;34m=\u001b[0m\u001b[0;34m'ignore'\u001b[0m\u001b[0;34m)\u001b[0m\u001b[0;34m:\u001b[0m\u001b[0;34m\u001b[0m\u001b[0m\n\u001b[0;32m--> 700\u001b[0;31m                 \u001b[0;32mreturn\u001b[0m \u001b[0mna_op\u001b[0m\u001b[0;34m(\u001b[0m\u001b[0mlvalues\u001b[0m\u001b[0;34m,\u001b[0m \u001b[0mrvalues\u001b[0m\u001b[0;34m)\u001b[0m\u001b[0;34m\u001b[0m\u001b[0m\n\u001b[0m\u001b[1;32m    701\u001b[0m         \u001b[0;32mexcept\u001b[0m \u001b[0mException\u001b[0m\u001b[0;34m:\u001b[0m\u001b[0;34m\u001b[0m\u001b[0m\n",
      "\u001b[0;32m/Users/seanmcowen/anaconda/lib/python3.6/site-packages/pandas/core/ops.py\u001b[0m in \u001b[0;36mna_op\u001b[0;34m(x, y)\u001b[0m\n\u001b[1;32m    681\u001b[0m                 \u001b[0mmask\u001b[0m \u001b[0;34m=\u001b[0m \u001b[0mnotna\u001b[0m\u001b[0;34m(\u001b[0m\u001b[0mx\u001b[0m\u001b[0;34m)\u001b[0m \u001b[0;34m&\u001b[0m \u001b[0mnotna\u001b[0m\u001b[0;34m(\u001b[0m\u001b[0my\u001b[0m\u001b[0;34m)\u001b[0m\u001b[0;34m\u001b[0m\u001b[0m\n\u001b[0;32m--> 682\u001b[0;31m                 \u001b[0mresult\u001b[0m\u001b[0;34m[\u001b[0m\u001b[0mmask\u001b[0m\u001b[0;34m]\u001b[0m \u001b[0;34m=\u001b[0m \u001b[0mop\u001b[0m\u001b[0;34m(\u001b[0m\u001b[0mx\u001b[0m\u001b[0;34m[\u001b[0m\u001b[0mmask\u001b[0m\u001b[0;34m]\u001b[0m\u001b[0;34m,\u001b[0m \u001b[0m_values_from_object\u001b[0m\u001b[0;34m(\u001b[0m\u001b[0my\u001b[0m\u001b[0;34m[\u001b[0m\u001b[0mmask\u001b[0m\u001b[0;34m]\u001b[0m\u001b[0;34m)\u001b[0m\u001b[0;34m)\u001b[0m\u001b[0;34m\u001b[0m\u001b[0m\n\u001b[0m\u001b[1;32m    683\u001b[0m             \u001b[0;32melif\u001b[0m \u001b[0misinstance\u001b[0m\u001b[0;34m(\u001b[0m\u001b[0mx\u001b[0m\u001b[0;34m,\u001b[0m \u001b[0mnp\u001b[0m\u001b[0;34m.\u001b[0m\u001b[0mndarray\u001b[0m\u001b[0;34m)\u001b[0m\u001b[0;34m:\u001b[0m\u001b[0;34m\u001b[0m\u001b[0m\n",
      "\u001b[0;31mTypeError\u001b[0m: unsupported operand type(s) for /: 'str' and 'int'",
      "\nDuring handling of the above exception, another exception occurred:\n",
      "\u001b[0;31mTypeError\u001b[0m                                 Traceback (most recent call last)",
      "\u001b[0;32m<ipython-input-18-23705173f859>\u001b[0m in \u001b[0;36m<module>\u001b[0;34m()\u001b[0m\n\u001b[1;32m      1\u001b[0m \u001b[0;31m#If we try to divide here we will run into an issue, weight is still a string representation\u001b[0m\u001b[0;34m\u001b[0m\u001b[0;34m\u001b[0m\u001b[0m\n\u001b[0;32m----> 2\u001b[0;31m \u001b[0mprint\u001b[0m\u001b[0;34m(\u001b[0m\u001b[0mdf\u001b[0m\u001b[0;34m[\u001b[0m\u001b[0;34m\"Weight\"\u001b[0m\u001b[0;34m]\u001b[0m\u001b[0;34m/\u001b[0m\u001b[0mdf\u001b[0m\u001b[0;34m[\u001b[0m\u001b[0;34m\"Height\"\u001b[0m\u001b[0;34m]\u001b[0m\u001b[0;34m)\u001b[0m\u001b[0;34m\u001b[0m\u001b[0m\n\u001b[0m",
      "\u001b[0;32m/Users/seanmcowen/anaconda/lib/python3.6/site-packages/pandas/core/ops.py\u001b[0m in \u001b[0;36mwrapper\u001b[0;34m(left, right, name, na_op)\u001b[0m\n\u001b[1;32m    737\u001b[0m                 \u001b[0mlvalues\u001b[0m \u001b[0;34m=\u001b[0m \u001b[0mlvalues\u001b[0m\u001b[0;34m.\u001b[0m\u001b[0mvalues\u001b[0m\u001b[0;34m\u001b[0m\u001b[0m\n\u001b[1;32m    738\u001b[0m \u001b[0;34m\u001b[0m\u001b[0m\n\u001b[0;32m--> 739\u001b[0;31m         \u001b[0mresult\u001b[0m \u001b[0;34m=\u001b[0m \u001b[0mwrap_results\u001b[0m\u001b[0;34m(\u001b[0m\u001b[0msafe_na_op\u001b[0m\u001b[0;34m(\u001b[0m\u001b[0mlvalues\u001b[0m\u001b[0;34m,\u001b[0m \u001b[0mrvalues\u001b[0m\u001b[0;34m)\u001b[0m\u001b[0;34m)\u001b[0m\u001b[0;34m\u001b[0m\u001b[0m\n\u001b[0m\u001b[1;32m    740\u001b[0m         return construct_result(\n\u001b[1;32m    741\u001b[0m             \u001b[0mleft\u001b[0m\u001b[0;34m,\u001b[0m\u001b[0;34m\u001b[0m\u001b[0m\n",
      "\u001b[0;32m/Users/seanmcowen/anaconda/lib/python3.6/site-packages/pandas/core/ops.py\u001b[0m in \u001b[0;36msafe_na_op\u001b[0;34m(lvalues, rvalues)\u001b[0m\n\u001b[1;32m    708\u001b[0m                 \u001b[0;32mif\u001b[0m \u001b[0mis_object_dtype\u001b[0m\u001b[0;34m(\u001b[0m\u001b[0mlvalues\u001b[0m\u001b[0;34m)\u001b[0m\u001b[0;34m:\u001b[0m\u001b[0;34m\u001b[0m\u001b[0m\n\u001b[1;32m    709\u001b[0m                     return libalgos.arrmap_object(lvalues,\n\u001b[0;32m--> 710\u001b[0;31m                                                   lambda x: op(x, rvalues))\n\u001b[0m\u001b[1;32m    711\u001b[0m             \u001b[0;32mraise\u001b[0m\u001b[0;34m\u001b[0m\u001b[0m\n\u001b[1;32m    712\u001b[0m \u001b[0;34m\u001b[0m\u001b[0m\n",
      "\u001b[0;32mpandas/_libs/algos_common_helper.pxi\u001b[0m in \u001b[0;36mpandas._libs.algos.arrmap_object\u001b[0;34m()\u001b[0m\n",
      "\u001b[0;32m/Users/seanmcowen/anaconda/lib/python3.6/site-packages/pandas/core/ops.py\u001b[0m in \u001b[0;36m<lambda>\u001b[0;34m(x)\u001b[0m\n\u001b[1;32m    708\u001b[0m                 \u001b[0;32mif\u001b[0m \u001b[0mis_object_dtype\u001b[0m\u001b[0;34m(\u001b[0m\u001b[0mlvalues\u001b[0m\u001b[0;34m)\u001b[0m\u001b[0;34m:\u001b[0m\u001b[0;34m\u001b[0m\u001b[0m\n\u001b[1;32m    709\u001b[0m                     return libalgos.arrmap_object(lvalues,\n\u001b[0;32m--> 710\u001b[0;31m                                                   lambda x: op(x, rvalues))\n\u001b[0m\u001b[1;32m    711\u001b[0m             \u001b[0;32mraise\u001b[0m\u001b[0;34m\u001b[0m\u001b[0m\n\u001b[1;32m    712\u001b[0m \u001b[0;34m\u001b[0m\u001b[0m\n",
      "\u001b[0;31mTypeError\u001b[0m: ufunc 'true_divide' not supported for the input types, and the inputs could not be safely coerced to any supported types according to the casting rule ''safe''"
     ]
    }
   ],
   "source": [
    "#If we try to divide here we will run into an issue, weight is still a string representation\n",
    "print(df[\"Weight\"]/df[\"Height\"])"
   ]
  },
  {
   "cell_type": "code",
   "execution_count": 19,
   "metadata": {},
   "outputs": [
    {
     "name": "stdout",
     "output_type": "stream",
     "text": [
      "Name       object\n",
      "Height      int64\n",
      "Weight     object\n",
      "Type       object\n",
      "Retired      bool\n",
      "dtype: object\n"
     ]
    }
   ],
   "source": [
    "#The dtypes attribute lets us see the attribute\n",
    "print(df.dtypes)"
   ]
  },
  {
   "cell_type": "code",
   "execution_count": 20,
   "metadata": {},
   "outputs": [
    {
     "name": "stdout",
     "output_type": "stream",
     "text": [
      "Name       object\n",
      "Height      int64\n",
      "Weight      int64\n",
      "Type       object\n",
      "Retired      bool\n",
      "dtype: object\n"
     ]
    }
   ],
   "source": [
    "df[\"Weight\"] = pd.to_numeric(df[\"Weight\"])\n",
    "#The pd.to_numeric function converts pandas data to numbers, look at the dtypes after it is executed\n",
    "print(df.dtypes)"
   ]
  },
  {
   "cell_type": "code",
   "execution_count": 21,
   "metadata": {},
   "outputs": [
    {
     "name": "stdout",
     "output_type": "stream",
     "text": [
      "0    3.424658\n",
      "1    2.960526\n",
      "2    2.933333\n",
      "3    2.586667\n",
      "dtype: float64\n"
     ]
    }
   ],
   "source": [
    "print(df[\"Weight\"]/df[\"Height\"])\n",
    "#We can also use math involving columns. Pandas applies the division above for each row so that each row's weight value\n",
    "#is divided by the height value of the row"
   ]
  },
  {
   "cell_type": "code",
   "execution_count": 22,
   "metadata": {},
   "outputs": [
    {
     "name": "stdout",
     "output_type": "stream",
     "text": [
      "Name       Ray Lewis\n",
      "Height            73\n",
      "Weight           250\n",
      "Type         Defense\n",
      "Retired         True\n",
      "Name: 0, dtype: object\n"
     ]
    }
   ],
   "source": [
    "print(df.loc[0])\n",
    "#We can use loc to find a row where the argument is the index"
   ]
  },
  {
   "cell_type": "code",
   "execution_count": 23,
   "metadata": {},
   "outputs": [
    {
     "name": "stdout",
     "output_type": "stream",
     "text": [
      "73\n"
     ]
    }
   ],
   "source": [
    "print(df.loc[0,\"Height\"])\n",
    "#Adding a second argument in will let us index both the row and column"
   ]
  },
  {
   "cell_type": "code",
   "execution_count": 24,
   "metadata": {},
   "outputs": [
    {
     "name": "stdout",
     "output_type": "stream",
     "text": [
      "0    73\n",
      "1    76\n",
      "2    75\n",
      "3    75\n",
      "Name: Height, dtype: int64\n"
     ]
    }
   ],
   "source": [
    "print(df.loc[:,\"Height\"])\n",
    "#if we wanted every row, but only the height column we would use : to say \"all rows\" and then height in the second argument "
   ]
  },
  {
   "cell_type": "code",
   "execution_count": 25,
   "metadata": {},
   "outputs": [
    {
     "name": "stdout",
     "output_type": "stream",
     "text": [
      "0    73\n",
      "1    76\n",
      "Name: Height, dtype: int64\n"
     ]
    }
   ],
   "source": [
    "print(df.loc[:1,\"Height\"])\n",
    "#This would return the height column and only the first two rows"
   ]
  },
  {
   "cell_type": "code",
   "execution_count": 26,
   "metadata": {},
   "outputs": [
    {
     "name": "stdout",
     "output_type": "stream",
     "text": [
      "   Height  Weight\n",
      "0      73     250\n",
      "1      76     225\n"
     ]
    }
   ],
   "source": [
    "print(df.loc[:1,[\"Height\",\"Weight\"]])\n",
    "#This would return only the first two rows and the height and weight columns"
   ]
  },
  {
   "cell_type": "code",
   "execution_count": 27,
   "metadata": {},
   "outputs": [
    {
     "name": "stdout",
     "output_type": "stream",
     "text": [
      "          Name  Height  Weight     Type  Retired\n",
      "0    Ray Lewis      73     250  Defense     True\n",
      "2  Julio Jones      75     220  Offense    False\n"
     ]
    }
   ],
   "source": [
    "print(df[[True,False,True,False]])\n",
    "#If we give pandas an index of Trues and Falses, we can filter the data. Only True rows are shown\n",
    "#Row 1 has true, so its shown, but row 2 has false so it is filtered"
   ]
  },
  {
   "cell_type": "code",
   "execution_count": 28,
   "metadata": {},
   "outputs": [
    {
     "name": "stdout",
     "output_type": "stream",
     "text": [
      "0     True\n",
      "1     True\n",
      "2    False\n",
      "3    False\n",
      "Name: Weight, dtype: bool\n"
     ]
    }
   ],
   "source": [
    "print(df[\"Weight\"]>220)\n",
    "#We can also check the truth of a statement such as which rows have weight values over 220"
   ]
  },
  {
   "cell_type": "code",
   "execution_count": 29,
   "metadata": {},
   "outputs": [
    {
     "name": "stdout",
     "output_type": "stream",
     "text": [
      "        Name  Height  Weight     Type  Retired\n",
      "0  Ray Lewis      73     250  Defense     True\n",
      "1  Tom Brady      76     225  Offense    False\n"
     ]
    }
   ],
   "source": [
    "print(df[df[\"Weight\"]>220])\n",
    "#And this allows us to filter based on an argument. In this case we can print only rows with weights over 220"
   ]
  },
  {
   "cell_type": "code",
   "execution_count": 30,
   "metadata": {},
   "outputs": [
    {
     "name": "stdout",
     "output_type": "stream",
     "text": [
      "[('Allen Robinson', 75, 250, 'Offense', False), ('Alvin Kamara', None, 215, 'Offense', False), ('Christian McCaffrey', 71, None, 'Offense', False)]\n"
     ]
    }
   ],
   "source": [
    "data = []\n",
    "data.append((\"Allen Robinson\",75,250,\"Offense\",False))\n",
    "data.append((\"Alvin Kamara\",None,215,\"Offense\",False))\n",
    "data.append((\"Christian McCaffrey\",71,None,\"Offense\",False))\n",
    "print(data)\n",
    "#Let's create a second set of data"
   ]
  },
  {
   "cell_type": "code",
   "execution_count": 31,
   "metadata": {},
   "outputs": [
    {
     "name": "stdout",
     "output_type": "stream",
     "text": [
      "                  Name  Height  Weight     Type  Retired\n",
      "0       Allen Robinson    75.0   250.0  Offense    False\n",
      "1         Alvin Kamara     NaN   215.0  Offense    False\n",
      "2  Christian McCaffrey    71.0     NaN  Offense    False\n"
     ]
    }
   ],
   "source": [
    "df2 = pd.DataFrame(data,columns=[\"Name\",\"Height\",\"Weight\",\"Type\",\"Retired\"])\n",
    "print(df2)\n",
    "#And turn it into a second dataframe\n",
    "#You'll notice some data is missing, this happens commonly working with real data"
   ]
  },
  {
   "cell_type": "code",
   "execution_count": 32,
   "metadata": {},
   "outputs": [
    {
     "name": "stdout",
     "output_type": "stream",
     "text": [
      "                  Name  Height  Weight     Type  Retired\n",
      "0            Ray Lewis    73.0   250.0  Defense     True\n",
      "1            Tom Brady    76.0   225.0  Offense    False\n",
      "2          Julio Jones    75.0   220.0  Offense    False\n",
      "3      Richard Sherman    75.0   194.0  Defense    False\n",
      "0       Allen Robinson    75.0   250.0  Offense    False\n",
      "1         Alvin Kamara     NaN   215.0  Offense    False\n",
      "2  Christian McCaffrey    71.0     NaN  Offense    False\n"
     ]
    }
   ],
   "source": [
    "dfFinal = pd.concat([df,df2])\n",
    "print(dfFinal)\n",
    "#The pd.concat() function lets us put together two dataframes"
   ]
  },
  {
   "cell_type": "code",
   "execution_count": 33,
   "metadata": {},
   "outputs": [
    {
     "name": "stdout",
     "output_type": "stream",
     "text": [
      "   index                 Name  Height  Weight     Type  Retired\n",
      "0      0            Ray Lewis    73.0   250.0  Defense     True\n",
      "1      1            Tom Brady    76.0   225.0  Offense    False\n",
      "2      2          Julio Jones    75.0   220.0  Offense    False\n",
      "3      3      Richard Sherman    75.0   194.0  Defense    False\n",
      "4      0       Allen Robinson    75.0   250.0  Offense    False\n",
      "5      1         Alvin Kamara     NaN   215.0  Offense    False\n",
      "6      2  Christian McCaffrey    71.0     NaN  Offense    False\n"
     ]
    }
   ],
   "source": [
    "#The two dataframes have indexes that overlap! We could fix this by resetting the index, as so....\n",
    "print(dfFinal.reset_index())"
   ]
  },
  {
   "cell_type": "code",
   "execution_count": 34,
   "metadata": {},
   "outputs": [
    {
     "name": "stdout",
     "output_type": "stream",
     "text": [
      "                  Name  Height  Weight     Type  Retired\n",
      "0            Ray Lewis    73.0   250.0  Defense     True\n",
      "1            Tom Brady    76.0   225.0  Offense    False\n",
      "2          Julio Jones    75.0   220.0  Offense    False\n",
      "3      Richard Sherman    75.0   194.0  Defense    False\n",
      "4       Allen Robinson    75.0   250.0  Offense    False\n",
      "5         Alvin Kamara     NaN   215.0  Offense    False\n",
      "6  Christian McCaffrey    71.0     NaN  Offense    False\n"
     ]
    }
   ],
   "source": [
    "#Or we can give the argument ignore_index=True to reset it during the concat function\n",
    "dfFinal = pd.concat([df,df2],ignore_index=True)\n",
    "print(dfFinal)"
   ]
  },
  {
   "cell_type": "code",
   "execution_count": 35,
   "metadata": {},
   "outputs": [
    {
     "name": "stdout",
     "output_type": "stream",
     "text": [
      "              Name  Height  Weight     Type  Retired\n",
      "0        Ray Lewis    73.0   250.0  Defense     True\n",
      "1        Tom Brady    76.0   225.0  Offense    False\n",
      "2      Julio Jones    75.0   220.0  Offense    False\n",
      "3  Richard Sherman    75.0   194.0  Defense    False\n",
      "4   Allen Robinson    75.0   250.0  Offense    False\n"
     ]
    }
   ],
   "source": [
    "#The dropna() function gets rid of any rows with missing values\n",
    "print(dfFinal.dropna())"
   ]
  },
  {
   "cell_type": "code",
   "execution_count": 36,
   "metadata": {},
   "outputs": [
    {
     "name": "stdout",
     "output_type": "stream",
     "text": [
      "                  Name  Height  Weight     Type  Retired\n",
      "0            Ray Lewis    73.0   250.0  Defense     True\n",
      "1            Tom Brady    76.0   225.0  Offense    False\n",
      "2          Julio Jones    75.0   220.0  Offense    False\n",
      "3      Richard Sherman    75.0   194.0  Defense    False\n",
      "4       Allen Robinson    75.0   250.0  Offense    False\n",
      "6  Christian McCaffrey    71.0     NaN  Offense    False\n"
     ]
    }
   ],
   "source": [
    "print(dfFinal.dropna(subset=[\"Height\",\"Type\"]))\n",
    "#If given an argument subset, we can drop only rows with missing values from the subset "
   ]
  },
  {
   "cell_type": "code",
   "execution_count": 37,
   "metadata": {},
   "outputs": [
    {
     "name": "stdout",
     "output_type": "stream",
     "text": [
      "                     Height  Weight     Type  Retired\n",
      "Name                                                 \n",
      "Ray Lewis              73.0   250.0  Defense     True\n",
      "Tom Brady              76.0   225.0  Offense    False\n",
      "Julio Jones            75.0   220.0  Offense    False\n",
      "Richard Sherman        75.0   194.0  Defense    False\n",
      "Allen Robinson         75.0   250.0  Offense    False\n",
      "Alvin Kamara            NaN   215.0  Offense    False\n",
      "Christian McCaffrey    71.0     NaN  Offense    False\n"
     ]
    }
   ],
   "source": [
    "dfFinal = dfFinal.set_index(\"Name\")\n",
    "#Setting the index to name changes it from a column to index\n",
    "print(dfFinal)"
   ]
  },
  {
   "cell_type": "code",
   "execution_count": 38,
   "metadata": {},
   "outputs": [
    {
     "name": "stdout",
     "output_type": "stream",
     "text": [
      "                     Height  Weight     Type  Retired\n",
      "Name                                                 \n",
      "Ray Lewis              73.0   250.0  Defense     True\n",
      "Tom Brady              76.0   225.0  Offense    False\n",
      "Julio Jones            75.0   220.0  Offense    False\n",
      "Richard Sherman        75.0   194.0  Defense    False\n",
      "Allen Robinson         75.0   250.0  Offense    False\n",
      "Christian McCaffrey    71.0     NaN  Offense    False\n"
     ]
    }
   ],
   "source": [
    "dfFinal.dropna(inplace=True,subset=[\"Height\",\"Type\"])\n",
    "print(dfFinal)\n",
    "#If we use inplace=True then the dropna function happens in place"
   ]
  },
  {
   "cell_type": "code",
   "execution_count": 39,
   "metadata": {},
   "outputs": [
    {
     "name": "stdout",
     "output_type": "stream",
     "text": [
      "                     Height  Weight     Type  Retired\n",
      "Name                                                 \n",
      "Ray Lewis              73.0   250.0  Defense     True\n",
      "Tom Brady              76.0   225.0  Offense    False\n",
      "Julio Jones            75.0   220.0  Offense    False\n",
      "Richard Sherman        75.0   194.0  Defense    False\n",
      "Allen Robinson         75.0   250.0  Offense    False\n",
      "Christian McCaffrey    71.0   205.0  Offense    False\n"
     ]
    }
   ],
   "source": [
    "dfFinal.loc[\"Christian McCaffrey\",\"Weight\"] = 205\n",
    "#Using loc we can overwrite data\n",
    "print(dfFinal)"
   ]
  }
 ],
 "metadata": {
  "kernelspec": {
   "display_name": "Python 3",
   "language": "python",
   "name": "python3"
  },
  "language_info": {
   "codemirror_mode": {
    "name": "ipython",
    "version": 3
   },
   "file_extension": ".py",
   "mimetype": "text/x-python",
   "name": "python",
   "nbconvert_exporter": "python",
   "pygments_lexer": "ipython3",
   "version": "3.6.3"
  }
 },
 "nbformat": 4,
 "nbformat_minor": 2
}
