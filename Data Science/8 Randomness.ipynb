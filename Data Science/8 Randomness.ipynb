{
 "cells": [
  {
   "cell_type": "markdown",
   "metadata": {},
   "source": [
    "# Random\n",
    "\n",
    "Numpy has many functions that will allow us to create random sequences of numbers for different reasons. You actually saw some of these in the very beginning of this course for data creation. The first important thing is understanding what a seed is and how it can be used to set the randomness to be repeatable."
   ]
  },
  {
   "cell_type": "markdown",
   "metadata": {},
   "source": [
    "## Random Seed\n",
    "\n",
    "With computers, there is never true randomness. There is a specialized math function which can find the next random number to compute, but this function can be set in such a way that if you repeat a piece of code you can get the same numbers out. Let's first see how this works when we do not set the seed. The function uniform in np.random will give back a number between a starting argument and ending argument where every point in between has equal probability. If we run it twice, in both cases we get back totally random numbers. Try it below."
   ]
  },
  {
   "cell_type": "code",
   "execution_count": 1,
   "metadata": {},
   "outputs": [
    {
     "name": "stdout",
     "output_type": "stream",
     "text": [
      "0.80435177082313\n",
      "0.37453534749088946\n"
     ]
    }
   ],
   "source": [
    "import numpy as np\n",
    "\n",
    "#Test 1\n",
    "print(np.random.uniform(0, 1))\n",
    "\n",
    "#Test 2\n",
    "print(np.random.uniform(0, 1))"
   ]
  },
  {
   "cell_type": "markdown",
   "metadata": {},
   "source": [
    "If you set np.random.seed() and pass in an integer, then you can set the seed which will ensure any sort of random number generation you did will yield the same numbers in this program as well as across other programs. For example, these two numbers will be the same as one and other in the code, but also you should on your computer be getting the same numbers."
   ]
  },
  {
   "cell_type": "code",
   "execution_count": 2,
   "metadata": {},
   "outputs": [
    {
     "name": "stdout",
     "output_type": "stream",
     "text": [
      "0.5488135039273248\n",
      "0.5488135039273248\n"
     ]
    }
   ],
   "source": [
    "#Set the seed to 0\n",
    "np.random.seed(0)\n",
    "\n",
    "#Test 1\n",
    "print(np.random.uniform(0, 1))\n",
    "\n",
    "#Set the seed to 0 again\n",
    "np.random.seed(0)\n",
    "\n",
    "#Test 2\n",
    "print(np.random.uniform(0, 1))"
   ]
  },
  {
   "cell_type": "markdown",
   "metadata": {},
   "source": [
    "It is a good practice when you need an experiment to be random but repeatable to use a seed. This way whoever uses it later won't see totally different things because of different random numbers."
   ]
  },
  {
   "cell_type": "markdown",
   "metadata": {},
   "source": [
    "## Multiple Random Numbers\n",
    "\n",
    "All the random functions for numpy are not just limited to single random values, you can get back random numbers in any sort of shape by adding on another argument for either the length or shape of the random numbers. Let's go back to the uniform random function. What if we wanted to see 10 numbers between 0 and 5? We would need to set the second argument to 5, and then we can add a third argument of 10 for the sample number!"
   ]
  },
  {
   "cell_type": "code",
   "execution_count": 3,
   "metadata": {},
   "outputs": [
    {
     "name": "stdout",
     "output_type": "stream",
     "text": [
      "[2.74406752 3.57594683 3.01381688 2.72441591 2.118274   3.22947057\n",
      " 2.18793606 4.458865   4.8183138  1.91720759]\n"
     ]
    }
   ],
   "source": [
    "#Set the seed to 0\n",
    "np.random.seed(0)\n",
    "\n",
    "#Sample 10 random numbers between 0-5\n",
    "print(np.random.uniform(0, 5, 10))"
   ]
  },
  {
   "cell_type": "markdown",
   "metadata": {},
   "source": [
    "You can also pass in a shape as a tuple to get back that shape in terms of samples. Notice that with seed set before we are actually getting the same numbers. This data is the same as taking the original data and reshaping it to be 5x2."
   ]
  },
  {
   "cell_type": "code",
   "execution_count": 4,
   "metadata": {},
   "outputs": [
    {
     "name": "stdout",
     "output_type": "stream",
     "text": [
      "[[2.74406752 3.57594683]\n",
      " [3.01381688 2.72441591]\n",
      " [2.118274   3.22947057]\n",
      " [2.18793606 4.458865  ]\n",
      " [4.8183138  1.91720759]]\n"
     ]
    }
   ],
   "source": [
    "#Set the seed to 0\n",
    "np.random.seed(0)\n",
    "\n",
    "#Sample 10 random numbers between 0-5 in the shape of 5x2\n",
    "print(np.random.uniform(0, 5, (5,2)))"
   ]
  },
  {
   "cell_type": "markdown",
   "metadata": {},
   "source": [
    "## Random Functions\n",
    "\n",
    "There are quite a few functions which you can use from the random library. Here we will go through a few of them."
   ]
  },
  {
   "cell_type": "markdown",
   "metadata": {},
   "source": [
    "### Uniform Random Numbers\n",
    "\n",
    "Numpy will assign probabilities evenly to pick numbers between a and b given as arguments."
   ]
  },
  {
   "cell_type": "code",
   "execution_count": 5,
   "metadata": {},
   "outputs": [
    {
     "data": {
      "image/png": "[encoded data removed]",
      "text/plain": [
       "<Figure size 432x288 with 1 Axes>"
      ]
     },
     "metadata": {
      "needs_background": "light"
     },
     "output_type": "display_data"
    }
   ],
   "source": [
    "import matplotlib.pyplot as plt\n",
    "\n",
    "#Set the seed to 0\n",
    "np.random.seed(0)\n",
    "\n",
    "#Pick 100000 random uniform numbers between 0 and 5\n",
    "sample = np.random.uniform(0, 5, 100000)\n",
    "plt.hist(sample, bins=50)\n",
    "plt.xlabel(\"x\")\n",
    "plt.ylabel(\"Frequency\")\n",
    "plt.title(\"Uniform Random Numbers\")\n",
    "plt.show()"
   ]
  },
  {
   "cell_type": "markdown",
   "metadata": {},
   "source": [
    "### Normal Random Numbers\n",
    "\n",
    "Numpy can pick numbers randomly from a normal distribution given the average and standard deviation of the distribution. For example, a distribution with mean of 10 and standard deviation of 5 is shown below."
   ]
  },
  {
   "cell_type": "code",
   "execution_count": 6,
   "metadata": {},
   "outputs": [
    {
     "data": {
      "image/png": "[encoded data removed]",
      "text/plain": [
       "<Figure size 432x288 with 1 Axes>"
      ]
     },
     "metadata": {
      "needs_background": "light"
     },
     "output_type": "display_data"
    }
   ],
   "source": [
    "#Set the seed to 0\n",
    "np.random.seed(0)\n",
    "\n",
    "#Pick 100000 random normal numbers\n",
    "sample = np.random.normal(10, 5, 100000)\n",
    "plt.hist(sample, bins=50)\n",
    "plt.xlabel(\"x\")\n",
    "plt.ylabel(\"Frequency\")\n",
    "plt.title(\"Uniform Random Numbers\")\n",
    "plt.show()"
   ]
  },
  {
   "cell_type": "markdown",
   "metadata": {},
   "source": [
    "### Exponential Random Numbers\n",
    "\n",
    "If you are familiar with exponential distribution, you can use it in numpy where the argument given is the scale or $\\frac{1}{\\lambda}$. Below we can show an example with scale of 10."
   ]
  },
  {
   "cell_type": "code",
   "execution_count": 7,
   "metadata": {},
   "outputs": [
    {
     "data": {
      "image/png": "[encoded data removed]",
      "text/plain": [
       "<Figure size 432x288 with 1 Axes>"
      ]
     },
     "metadata": {
      "needs_background": "light"
     },
     "output_type": "display_data"
    }
   ],
   "source": [
    "#Set the seed to 0\n",
    "np.random.seed(0)\n",
    "\n",
    "#Pick 100000 random exponential numbers\n",
    "sample = np.random.exponential(10, 100000)\n",
    "plt.hist(sample, bins=50)\n",
    "plt.xlabel(\"x\")\n",
    "plt.ylabel(\"Frequency\")\n",
    "plt.title(\"Uniform Exponential Numbers\")\n",
    "plt.show()"
   ]
  },
  {
   "cell_type": "markdown",
   "metadata": {},
   "source": [
    "### Random Choice\n",
    "\n",
    "Another method that is useful is the random choice function in numpy. This will allow you to choose one or multiple values randomly from a list with or without replacement. For example, if we had a range of numbers between 10, 20...100, and wanted to pick one of them."
   ]
  },
  {
   "cell_type": "code",
   "execution_count": 8,
   "metadata": {},
   "outputs": [
    {
     "name": "stdout",
     "output_type": "stream",
     "text": [
      "[10, 20, 30, 40, 50, 60, 70, 80, 90, 100]\n"
     ]
    }
   ],
   "source": [
    "#Create options to pick from\n",
    "options = [10, 20, 30, 40, 50, 60, 70, 80, 90, 100]\n",
    "print(options)"
   ]
  },
  {
   "cell_type": "code",
   "execution_count": 9,
   "metadata": {},
   "outputs": [
    {
     "name": "stdout",
     "output_type": "stream",
     "text": [
      "60\n",
      "10\n",
      "40\n"
     ]
    }
   ],
   "source": [
    "#Set the seed\n",
    "np.random.seed(0)\n",
    "\n",
    "#Pick random numbers\n",
    "print(np.random.choice(options))\n",
    "print(np.random.choice(options))\n",
    "print(np.random.choice(options))"
   ]
  },
  {
   "cell_type": "markdown",
   "metadata": {},
   "source": [
    "We can pick multiple options by passing a second argument for number to pick. By default replacement is on so numbers can be picked again. Notice below that the number 40 gets picked twice."
   ]
  },
  {
   "cell_type": "code",
   "execution_count": 10,
   "metadata": {},
   "outputs": [
    {
     "name": "stdout",
     "output_type": "stream",
     "text": [
      "[60 10 40 40 80]\n"
     ]
    }
   ],
   "source": [
    "#Set the seed\n",
    "np.random.seed(0)\n",
    "\n",
    "#Pick 5 random numbers\n",
    "print(np.random.choice(options, 5))"
   ]
  },
  {
   "cell_type": "markdown",
   "metadata": {},
   "source": [
    "If you set replace=False then you can turn this off."
   ]
  },
  {
   "cell_type": "code",
   "execution_count": 11,
   "metadata": {},
   "outputs": [
    {
     "name": "stdout",
     "output_type": "stream",
     "text": [
      "[ 30  90  50 100  20]\n"
     ]
    }
   ],
   "source": [
    "#Set the seed\n",
    "np.random.seed(0)\n",
    "\n",
    "#Pick 5 random numbers\n",
    "print(np.random.choice(options, 5, replace=False))"
   ]
  }
 ],
 "metadata": {
  "kernelspec": {
   "display_name": "Python 3",
   "language": "python",
   "name": "python3"
  },
  "language_info": {
   "codemirror_mode": {
    "name": "ipython",
    "version": 3
   },
   "file_extension": ".py",
   "mimetype": "text/x-python",
   "name": "python",
   "nbconvert_exporter": "python",
   "pygments_lexer": "ipython3",
   "version": "3.8.3"
  }
 },
 "nbformat": 4,
 "nbformat_minor": 4
}
