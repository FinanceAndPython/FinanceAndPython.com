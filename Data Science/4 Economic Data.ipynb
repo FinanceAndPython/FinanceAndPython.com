{
 "cells": [
  {
   "cell_type": "code",
   "execution_count": 1,
   "metadata": {
    "collapsed": true
   },
   "outputs": [],
   "source": [
    "#https://fred.stlouisfed.org/series/GDPC1\n",
    "#The above link is the first data series we are going to be looking at"
   ]
  },
  {
   "cell_type": "code",
   "execution_count": 2,
   "metadata": {},
   "outputs": [
    {
     "name": "stdout",
     "output_type": "stream",
     "text": [
      "                GDPC1\n",
      "DATE                 \n",
      "2010-01-01  14604.845\n",
      "2010-04-01  14745.933\n",
      "2010-07-01  14845.458\n",
      "2010-10-01  14939.001\n",
      "2011-01-01  14881.301\n",
      "2011-04-01  14989.555\n",
      "2011-07-01  15021.149\n",
      "2011-10-01  15190.255\n",
      "2012-01-01  15291.035\n",
      "2012-04-01  15362.415\n",
      "2012-07-01  15380.802\n",
      "2012-10-01  15384.254\n",
      "2013-01-01  15491.878\n",
      "2013-04-01  15521.559\n",
      "2013-07-01  15641.336\n",
      "2013-10-01  15793.928\n",
      "2014-01-01  15757.570\n",
      "2014-04-01  15935.825\n",
      "2014-07-01  16139.513\n",
      "2014-10-01  16220.222\n",
      "2015-01-01  16349.970\n",
      "2015-04-01  16460.889\n",
      "2015-07-01  16527.587\n",
      "2015-10-01  16547.619\n",
      "2016-01-01  16571.573\n",
      "2016-04-01  16663.516\n",
      "2016-07-01  16778.148\n",
      "2016-10-01  16851.420\n",
      "2017-01-01  16903.240\n"
     ]
    }
   ],
   "source": [
    "import pandas_datareader as pdr\n",
    "import datetime\n",
    "start = datetime.datetime(2010, 1, 1)\n",
    "end = datetime.datetime(2017, 1, 1)\n",
    "#To use FRED reader, we need to go into fred, then call FredReader with the acronym we want, start date, and end date\n",
    "#Then finally use the read() function to actually read the data\n",
    "df = pdr.fred.FredReader('GDPC1',start,end).read()\n",
    "print(df)\n",
    "#This data is the real GDP"
   ]
  },
  {
   "cell_type": "code",
   "execution_count": 3,
   "metadata": {},
   "outputs": [
    {
     "name": "stdout",
     "output_type": "stream",
     "text": [
      "            TB3MS  TB6MS  TB1YR   GS5  GS10  GS30\n",
      "DATE                                             \n",
      "2010-01-01   0.06   0.15   0.32  2.48  3.73  4.60\n",
      "2010-02-01   0.11   0.18   0.33  2.36  3.69  4.62\n",
      "2010-03-01   0.15   0.22   0.37  2.43  3.73  4.64\n",
      "2010-04-01   0.16   0.24   0.42  2.58  3.85  4.69\n",
      "2010-05-01   0.16   0.22   0.35  2.18  3.42  4.29\n",
      "2010-06-01   0.12   0.19   0.30  2.00  3.20  4.13\n",
      "2010-07-01   0.16   0.20   0.28  1.76  3.01  3.99\n",
      "2010-08-01   0.16   0.19   0.25  1.47  2.70  3.80\n",
      "2010-09-01   0.15   0.19   0.25  1.41  2.65  3.77\n",
      "2010-10-01   0.13   0.18   0.22  1.18  2.54  3.87\n",
      "2010-11-01   0.14   0.18   0.24  1.35  2.76  4.19\n",
      "2010-12-01   0.14   0.19   0.28  1.93  3.29  4.42\n",
      "2011-01-01   0.15   0.18   0.26  1.99  3.39  4.52\n",
      "2011-02-01   0.13   0.17   0.27  2.26  3.58  4.65\n",
      "2011-03-01   0.10   0.16   0.24  2.11  3.41  4.51\n",
      "2011-04-01   0.06   0.12   0.23  2.17  3.46  4.50\n",
      "2011-05-01   0.04   0.09   0.17  1.84  3.17  4.29\n",
      "2011-06-01   0.04   0.10   0.17  1.58  3.00  4.23\n",
      "2011-07-01   0.04   0.08   0.18  1.54  3.00  4.27\n",
      "2011-08-01   0.02   0.06   0.11  1.02  2.30  3.65\n",
      "2011-09-01   0.01   0.04   0.10  0.90  1.98  3.18\n",
      "2011-10-01   0.02   0.05   0.11  1.06  2.15  3.13\n",
      "2011-11-01   0.01   0.05   0.11  0.91  2.01  3.02\n",
      "2011-12-01   0.01   0.05   0.11  0.89  1.98  2.98\n",
      "2012-01-01   0.03   0.07   0.11  0.84  1.97  3.03\n",
      "2012-02-01   0.09   0.12   0.15  0.83  1.97  3.11\n",
      "2012-03-01   0.08   0.14   0.18  1.02  2.17  3.28\n",
      "2012-04-01   0.08   0.14   0.18  0.89  2.05  3.18\n",
      "2012-05-01   0.09   0.15   0.19  0.76  1.80  2.93\n",
      "2012-06-01   0.09   0.15   0.18  0.71  1.62  2.70\n",
      "...           ...    ...    ...   ...   ...   ...\n",
      "2014-08-01   0.03   0.05   0.10  1.63  2.42  3.20\n",
      "2014-09-01   0.02   0.04   0.10  1.77  2.53  3.26\n",
      "2014-10-01   0.02   0.05   0.10  1.55  2.30  3.04\n",
      "2014-11-01   0.02   0.07   0.12  1.62  2.33  3.04\n",
      "2014-12-01   0.03   0.11   0.20  1.64  2.21  2.83\n",
      "2015-01-01   0.03   0.08   0.18  1.37  1.88  2.46\n",
      "2015-02-01   0.02   0.07   0.21  1.47  1.98  2.57\n",
      "2015-03-01   0.03   0.11   0.24  1.52  2.04  2.63\n",
      "2015-04-01   0.02   0.09   0.22  1.35  1.94  2.59\n",
      "2015-05-01   0.02   0.08   0.22  1.54  2.20  2.96\n",
      "2015-06-01   0.02   0.09   0.26  1.68  2.36  3.11\n",
      "2015-07-01   0.03   0.12   0.28  1.63  2.32  3.07\n",
      "2015-08-01   0.07   0.22   0.36  1.54  2.17  2.86\n",
      "2015-09-01   0.02   0.18   0.35  1.49  2.17  2.95\n",
      "2015-10-01   0.02   0.11   0.25  1.39  2.07  2.89\n",
      "2015-11-01   0.12   0.32   0.45  1.67  2.26  3.03\n",
      "2015-12-01   0.23   0.49   0.63  1.70  2.24  2.97\n",
      "2016-01-01   0.26   0.43   0.52  1.52  2.09  2.86\n",
      "2016-02-01   0.31   0.44   0.52  1.22  1.78  2.62\n",
      "2016-03-01   0.29   0.46   0.64  1.38  1.89  2.68\n",
      "2016-04-01   0.23   0.37   0.54  1.26  1.81  2.62\n",
      "2016-05-01   0.27   0.41   0.57  1.30  1.81  2.63\n",
      "2016-06-01   0.27   0.40   0.54  1.17  1.64  2.45\n",
      "2016-07-01   0.30   0.39   0.50  1.07  1.50  2.23\n",
      "2016-08-01   0.30   0.44   0.55  1.13  1.56  2.26\n",
      "2016-09-01   0.29   0.46   0.58  1.18  1.63  2.35\n",
      "2016-10-01   0.33   0.47   0.64  1.27  1.76  2.50\n",
      "2016-11-01   0.45   0.57   0.71  1.60  2.14  2.86\n",
      "2016-12-01   0.51   0.63   0.84  1.96  2.49  3.11\n",
      "2017-01-01   0.51   0.61   0.80  1.92  2.43  3.02\n",
      "\n",
      "[85 rows x 6 columns]\n"
     ]
    }
   ],
   "source": [
    "bondYields = pdr.fred.FredReader([\"TB3MS\",\"TB6MS\",\"TB1YR\",\"GS5\",\"GS10\",\"GS30\"], start, end).read()\n",
    "#We can also get multiple columns as with the stock data\n",
    "#Let's get bond yields\n",
    "print(bondYields)"
   ]
  },
  {
   "cell_type": "code",
   "execution_count": 4,
   "metadata": {},
   "outputs": [
    {
     "name": "stdout",
     "output_type": "stream",
     "text": [
      "            0.25   0.50   1.00   5.00   10.00  30.00\n",
      "DATE                                                \n",
      "2010-01-01   0.06   0.15   0.32   2.48   3.73   4.60\n",
      "2010-02-01   0.11   0.18   0.33   2.36   3.69   4.62\n",
      "2010-03-01   0.15   0.22   0.37   2.43   3.73   4.64\n",
      "2010-04-01   0.16   0.24   0.42   2.58   3.85   4.69\n",
      "2010-05-01   0.16   0.22   0.35   2.18   3.42   4.29\n",
      "2010-06-01   0.12   0.19   0.30   2.00   3.20   4.13\n",
      "2010-07-01   0.16   0.20   0.28   1.76   3.01   3.99\n",
      "2010-08-01   0.16   0.19   0.25   1.47   2.70   3.80\n",
      "2010-09-01   0.15   0.19   0.25   1.41   2.65   3.77\n",
      "2010-10-01   0.13   0.18   0.22   1.18   2.54   3.87\n",
      "2010-11-01   0.14   0.18   0.24   1.35   2.76   4.19\n",
      "2010-12-01   0.14   0.19   0.28   1.93   3.29   4.42\n",
      "2011-01-01   0.15   0.18   0.26   1.99   3.39   4.52\n",
      "2011-02-01   0.13   0.17   0.27   2.26   3.58   4.65\n",
      "2011-03-01   0.10   0.16   0.24   2.11   3.41   4.51\n",
      "2011-04-01   0.06   0.12   0.23   2.17   3.46   4.50\n",
      "2011-05-01   0.04   0.09   0.17   1.84   3.17   4.29\n",
      "2011-06-01   0.04   0.10   0.17   1.58   3.00   4.23\n",
      "2011-07-01   0.04   0.08   0.18   1.54   3.00   4.27\n",
      "2011-08-01   0.02   0.06   0.11   1.02   2.30   3.65\n",
      "2011-09-01   0.01   0.04   0.10   0.90   1.98   3.18\n",
      "2011-10-01   0.02   0.05   0.11   1.06   2.15   3.13\n",
      "2011-11-01   0.01   0.05   0.11   0.91   2.01   3.02\n",
      "2011-12-01   0.01   0.05   0.11   0.89   1.98   2.98\n",
      "2012-01-01   0.03   0.07   0.11   0.84   1.97   3.03\n",
      "2012-02-01   0.09   0.12   0.15   0.83   1.97   3.11\n",
      "2012-03-01   0.08   0.14   0.18   1.02   2.17   3.28\n",
      "2012-04-01   0.08   0.14   0.18   0.89   2.05   3.18\n",
      "2012-05-01   0.09   0.15   0.19   0.76   1.80   2.93\n",
      "2012-06-01   0.09   0.15   0.18   0.71   1.62   2.70\n",
      "...           ...    ...    ...    ...    ...    ...\n",
      "2014-08-01   0.03   0.05   0.10   1.63   2.42   3.20\n",
      "2014-09-01   0.02   0.04   0.10   1.77   2.53   3.26\n",
      "2014-10-01   0.02   0.05   0.10   1.55   2.30   3.04\n",
      "2014-11-01   0.02   0.07   0.12   1.62   2.33   3.04\n",
      "2014-12-01   0.03   0.11   0.20   1.64   2.21   2.83\n",
      "2015-01-01   0.03   0.08   0.18   1.37   1.88   2.46\n",
      "2015-02-01   0.02   0.07   0.21   1.47   1.98   2.57\n",
      "2015-03-01   0.03   0.11   0.24   1.52   2.04   2.63\n",
      "2015-04-01   0.02   0.09   0.22   1.35   1.94   2.59\n",
      "2015-05-01   0.02   0.08   0.22   1.54   2.20   2.96\n",
      "2015-06-01   0.02   0.09   0.26   1.68   2.36   3.11\n",
      "2015-07-01   0.03   0.12   0.28   1.63   2.32   3.07\n",
      "2015-08-01   0.07   0.22   0.36   1.54   2.17   2.86\n",
      "2015-09-01   0.02   0.18   0.35   1.49   2.17   2.95\n",
      "2015-10-01   0.02   0.11   0.25   1.39   2.07   2.89\n",
      "2015-11-01   0.12   0.32   0.45   1.67   2.26   3.03\n",
      "2015-12-01   0.23   0.49   0.63   1.70   2.24   2.97\n",
      "2016-01-01   0.26   0.43   0.52   1.52   2.09   2.86\n",
      "2016-02-01   0.31   0.44   0.52   1.22   1.78   2.62\n",
      "2016-03-01   0.29   0.46   0.64   1.38   1.89   2.68\n",
      "2016-04-01   0.23   0.37   0.54   1.26   1.81   2.62\n",
      "2016-05-01   0.27   0.41   0.57   1.30   1.81   2.63\n",
      "2016-06-01   0.27   0.40   0.54   1.17   1.64   2.45\n",
      "2016-07-01   0.30   0.39   0.50   1.07   1.50   2.23\n",
      "2016-08-01   0.30   0.44   0.55   1.13   1.56   2.26\n",
      "2016-09-01   0.29   0.46   0.58   1.18   1.63   2.35\n",
      "2016-10-01   0.33   0.47   0.64   1.27   1.76   2.50\n",
      "2016-11-01   0.45   0.57   0.71   1.60   2.14   2.86\n",
      "2016-12-01   0.51   0.63   0.84   1.96   2.49   3.11\n",
      "2017-01-01   0.51   0.61   0.80   1.92   2.43   3.02\n",
      "\n",
      "[85 rows x 6 columns]\n"
     ]
    }
   ],
   "source": [
    "bondYields.columns = [.25,.5,1,5,10,30]\n",
    "#Let's also assign the tenor as the number of years\n",
    "print(bondYields)"
   ]
  },
  {
   "cell_type": "code",
   "execution_count": 5,
   "metadata": {},
   "outputs": [
    {
     "data": {
      "image/png": "[encoded data removed]",
      "text/plain": [
       "<matplotlib.figure.Figure at 0x1087d06d8>"
      ]
     },
     "metadata": {},
     "output_type": "display_data"
    }
   ],
   "source": [
    "import matplotlib.pyplot as plt\n",
    "plt.plot(bondYields.columns,bondYields.iloc[0],linestyle='--', marker='o', color='b')\n",
    "#Let's break down this plot\n",
    "#The first argument is our x values\n",
    "#The second argument is our y values\n",
    "#Line style is what our line will look like, the default is a filled line\n",
    "#Marker is an additional argument that we can add in if we want to see not only the line but our points\n",
    "#The \"o\" gives us a circle marker\n",
    "#Finally, color is given a color code, otherwise matplotlib will decide the colors\n",
    "plt.show()"
   ]
  },
  {
   "cell_type": "code",
   "execution_count": 6,
   "metadata": {},
   "outputs": [
    {
     "data": {
      "image/png": "[encoded data removed]",
      "text/plain": [
       "<matplotlib.figure.Figure at 0x10e6d0668>"
      ]
     },
     "metadata": {},
     "output_type": "display_data"
    }
   ],
   "source": [
    "import matplotlib.pyplot as plt\n",
    "plt.plot(bondYields.columns,bondYields.iloc[0],linestyle='--', marker='o', color='b')\n",
    "plt.plot(bondYields.columns,bondYields.iloc[-1],linestyle='--', marker='o', color='r')\n",
    "#We could also plot multiple lines, such as the first and last yield curves\n",
    "plt.show()"
   ]
  },
  {
   "cell_type": "code",
   "execution_count": 7,
   "metadata": {},
   "outputs": [
    {
     "data": {
      "image/png": "[encoded data removed]",
      "text/plain": [
       "<matplotlib.figure.Figure at 0x10e700f28>"
      ]
     },
     "metadata": {},
     "output_type": "display_data"
    }
   ],
   "source": [
    "import matplotlib.pyplot as plt\n",
    "plt.plot(bondYields.columns,bondYields.iloc[0],linestyle='--', marker='o', color='b',label=\"2010\")\n",
    "plt.plot(bondYields.columns,bondYields.iloc[-1],linestyle='--', marker='o', color='r',label=\"2017\")\n",
    "#Add a label argument for the legend\n",
    "plt.xlabel(\"Time\")\n",
    "plt.ylabel(\"Yield\")\n",
    "plt.title(\"Yield Curves\")\n",
    "plt.legend()\n",
    "#Call the legend function to add in our legend\n",
    "plt.show()"
   ]
  }
 ],
 "metadata": {
  "kernelspec": {
   "display_name": "Python 3",
   "language": "python",
   "name": "python3"
  },
  "language_info": {
   "codemirror_mode": {
    "name": "ipython",
    "version": 3
   },
   "file_extension": ".py",
   "mimetype": "text/x-python",
   "name": "python",
   "nbconvert_exporter": "python",
   "pygments_lexer": "ipython3",
   "version": "3.6.3"
  }
 },
 "nbformat": 4,
 "nbformat_minor": 2
}
