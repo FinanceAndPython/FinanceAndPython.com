{
 "cells": [
  {
   "cell_type": "markdown",
   "metadata": {},
   "source": [
    "# Grouping\n",
    "\n",
    "Like in many database languages, grouping can be one of the most commonly used actions. What it allows you to do is quickly apply some sort of function based on groups within data. Let's begin with an example of a dataset of sales where we have 4 columns: the day of the sale, the store of the sale, the product number, and the amount of sales."
   ]
  },
  {
   "cell_type": "code",
   "execution_count": 1,
   "metadata": {},
   "outputs": [
    {
     "name": "stdout",
     "output_type": "stream",
     "text": [
      "    Day  Store  Product  Sales\n",
      "0     1      1        1     10\n",
      "1     1      1        2     74\n",
      "2     1      1        3     27\n",
      "3     1      2        1     41\n",
      "4     1      2        2     66\n",
      "5     1      2        3     95\n",
      "6     2      1        1      1\n",
      "7     2      1        2     23\n",
      "8     2      1        3     67\n",
      "9     2      2        1     86\n",
      "10    2      2        2     87\n",
      "11    2      2        3     19\n",
      "12    3      1        1      6\n",
      "13    3      1        2     30\n",
      "14    3      1        3     55\n",
      "15    3      2        1     68\n",
      "16    3      2        2     32\n",
      "17    3      2        3     50\n"
     ]
    }
   ],
   "source": [
    "import pandas as pd\n",
    "\n",
    "#Create the data\n",
    "sales = pd.DataFrame([[1, 1, 1, 10],\n",
    " [1, 1, 2, 74],\n",
    " [1, 1, 3, 27],\n",
    " [1, 2, 1, 41],\n",
    " [1, 2, 2, 66],\n",
    " [1, 2, 3, 95],\n",
    " [2, 1, 1, 1],\n",
    " [2, 1, 2, 23],\n",
    " [2, 1, 3, 67],\n",
    " [2, 2, 1, 86],\n",
    " [2, 2, 2, 87],\n",
    " [2, 2, 3, 19],\n",
    " [3, 1, 1, 6],\n",
    " [3, 1, 2, 30],\n",
    " [3, 1, 3, 55],\n",
    " [3, 2, 1, 68],\n",
    " [3, 2, 2, 32],\n",
    " [3, 2, 3, 50]],\n",
    "columns=['Day', 'Store', 'Product', 'Sales'])\n",
    "\n",
    "print(sales)"
   ]
  },
  {
   "cell_type": "markdown",
   "metadata": {},
   "source": [
    "The way we use groupby is we call groupby() on a dataframe, and pass in the column to group with as an argument. Then we need to call some sort of function to run after this! So in this case we are going to work with sum(). The following syntax will give us the total number of sales on each given day below. The index is also going to be set to the grouping column."
   ]
  },
  {
   "cell_type": "code",
   "execution_count": 2,
   "metadata": {},
   "outputs": [
    {
     "name": "stdout",
     "output_type": "stream",
     "text": [
      "     Store  Product  Sales\n",
      "Day                       \n",
      "1        9       12    313\n",
      "2        9       12    283\n",
      "3        9       12    241\n"
     ]
    }
   ],
   "source": [
    "#Get the sum by day\n",
    "print(sales.groupby('Day').sum())"
   ]
  },
  {
   "cell_type": "markdown",
   "metadata": {},
   "source": [
    "The sales data makes sense, but for the product and store, we aren't actually getting real data. Those numbers were the store identifiers. So maybe we want to just limit to our sales data. If that is the case then we can use indexing prior to sum to make it so that only sales data is shown."
   ]
  },
  {
   "cell_type": "code",
   "execution_count": 3,
   "metadata": {},
   "outputs": [
    {
     "name": "stdout",
     "output_type": "stream",
     "text": [
      "Day\n",
      "1    313\n",
      "2    283\n",
      "3    241\n",
      "Name: Sales, dtype: int64\n"
     ]
    }
   ],
   "source": [
    "#Get the sum by day only for the sales\n",
    "print(sales.groupby('Day')['Sales'].sum())"
   ]
  },
  {
   "cell_type": "markdown",
   "metadata": {},
   "source": [
    "Likewise, any of the other columns could be used instead!"
   ]
  },
  {
   "cell_type": "code",
   "execution_count": 4,
   "metadata": {},
   "outputs": [
    {
     "name": "stdout",
     "output_type": "stream",
     "text": [
      "Product\n",
      "1    212\n",
      "2    312\n",
      "3    313\n",
      "Name: Sales, dtype: int64\n",
      "Store\n",
      "1    293\n",
      "2    544\n",
      "Name: Sales, dtype: int64\n"
     ]
    }
   ],
   "source": [
    "#Get sales by product\n",
    "print(sales.groupby('Product')['Sales'].sum())\n",
    "\n",
    "#Get sales by store\n",
    "print(sales.groupby('Store')['Sales'].sum())"
   ]
  },
  {
   "cell_type": "markdown",
   "metadata": {},
   "source": [
    "## Example of Using Groupby and Join\n",
    "\n",
    "You can combine this with a join to do something like find the percent of daily sales that each row is contributing. The steps are the following:"
   ]
  },
  {
   "cell_type": "markdown",
   "metadata": {},
   "source": [
    "1. Find the total sales by day"
   ]
  },
  {
   "cell_type": "code",
   "execution_count": 5,
   "metadata": {},
   "outputs": [
    {
     "name": "stdout",
     "output_type": "stream",
     "text": [
      "Day\n",
      "1    313\n",
      "2    283\n",
      "3    241\n",
      "Name: Sales, dtype: int64\n"
     ]
    }
   ],
   "source": [
    "#Find the daily sales\n",
    "daily_sales = sales.groupby('Day')['Sales'].sum()\n",
    "print(daily_sales)"
   ]
  },
  {
   "cell_type": "markdown",
   "metadata": {},
   "source": [
    "2. Give this series a name to be called when we join it."
   ]
  },
  {
   "cell_type": "code",
   "execution_count": 6,
   "metadata": {},
   "outputs": [
    {
     "name": "stdout",
     "output_type": "stream",
     "text": [
      "Day\n",
      "1    313\n",
      "2    283\n",
      "3    241\n",
      "Name: Total Daily Sales, dtype: int64\n"
     ]
    }
   ],
   "source": [
    "#Give the name to the series\n",
    "daily_sales.name = \"Total Daily Sales\"\n",
    "print(daily_sales)"
   ]
  },
  {
   "cell_type": "markdown",
   "metadata": {},
   "source": [
    "3. Join this data into our main dataset. Keep in mind that daily_sales has an index of day, but there is no index for our main data. Instead of setting the index on our main data we can use the keyword on and give the column to use as the index."
   ]
  },
  {
   "cell_type": "code",
   "execution_count": 7,
   "metadata": {},
   "outputs": [
    {
     "name": "stdout",
     "output_type": "stream",
     "text": [
      "    Day  Store  Product  Sales  Total Daily Sales\n",
      "0     1      1        1     10                313\n",
      "1     1      1        2     74                313\n",
      "2     1      1        3     27                313\n",
      "3     1      2        1     41                313\n",
      "4     1      2        2     66                313\n",
      "5     1      2        3     95                313\n",
      "6     2      1        1      1                283\n",
      "7     2      1        2     23                283\n",
      "8     2      1        3     67                283\n",
      "9     2      2        1     86                283\n",
      "10    2      2        2     87                283\n",
      "11    2      2        3     19                283\n",
      "12    3      1        1      6                241\n",
      "13    3      1        2     30                241\n",
      "14    3      1        3     55                241\n",
      "15    3      2        1     68                241\n",
      "16    3      2        2     32                241\n",
      "17    3      2        3     50                241\n"
     ]
    }
   ],
   "source": [
    "#Join the daily sales data\n",
    "sales = sales.join(daily_sales, on=\"Day\")\n",
    "print(sales)"
   ]
  },
  {
   "cell_type": "markdown",
   "metadata": {},
   "source": [
    "4. Create a new column which divides sales by total daily sales."
   ]
  },
  {
   "cell_type": "code",
   "execution_count": 8,
   "metadata": {},
   "outputs": [
    {
     "name": "stdout",
     "output_type": "stream",
     "text": [
      "    Day  Store  Product  Sales  Total Daily Sales  Percent of Daily Sales\n",
      "0     1      1        1     10                313                0.031949\n",
      "1     1      1        2     74                313                0.236422\n",
      "2     1      1        3     27                313                0.086262\n",
      "3     1      2        1     41                313                0.130990\n",
      "4     1      2        2     66                313                0.210863\n",
      "5     1      2        3     95                313                0.303514\n",
      "6     2      1        1      1                283                0.003534\n",
      "7     2      1        2     23                283                0.081272\n",
      "8     2      1        3     67                283                0.236749\n",
      "9     2      2        1     86                283                0.303887\n",
      "10    2      2        2     87                283                0.307420\n",
      "11    2      2        3     19                283                0.067138\n",
      "12    3      1        1      6                241                0.024896\n",
      "13    3      1        2     30                241                0.124481\n",
      "14    3      1        3     55                241                0.228216\n",
      "15    3      2        1     68                241                0.282158\n",
      "16    3      2        2     32                241                0.132780\n",
      "17    3      2        3     50                241                0.207469\n"
     ]
    }
   ],
   "source": [
    "sales['Percent of Daily Sales'] = sales['Sales'] / sales['Total Daily Sales']\n",
    "print(sales)"
   ]
  },
  {
   "cell_type": "markdown",
   "metadata": {},
   "source": [
    "## Multi-index Grouping\n",
    "\n",
    "You are not limited to just using a single column for grouping, you can also pass in a list to do the grouping based on multiple groupings. Let's take an example by bringing back the original dataset again. One thing to keep in mind is you will get back data with a multi-index based on these groupings."
   ]
  },
  {
   "cell_type": "code",
   "execution_count": 9,
   "metadata": {},
   "outputs": [
    {
     "name": "stdout",
     "output_type": "stream",
     "text": [
      "    Day  Store  Product  Sales\n",
      "0     1      1        1     10\n",
      "1     1      1        2     74\n",
      "2     1      1        3     27\n",
      "3     1      2        1     41\n",
      "4     1      2        2     66\n",
      "5     1      2        3     95\n",
      "6     2      1        1      1\n",
      "7     2      1        2     23\n",
      "8     2      1        3     67\n",
      "9     2      2        1     86\n",
      "10    2      2        2     87\n",
      "11    2      2        3     19\n",
      "12    3      1        1      6\n",
      "13    3      1        2     30\n",
      "14    3      1        3     55\n",
      "15    3      2        1     68\n",
      "16    3      2        2     32\n",
      "17    3      2        3     50\n"
     ]
    }
   ],
   "source": [
    "#Create the data\n",
    "sales = pd.DataFrame([[1, 1, 1, 10],\n",
    " [1, 1, 2, 74],\n",
    " [1, 1, 3, 27],\n",
    " [1, 2, 1, 41],\n",
    " [1, 2, 2, 66],\n",
    " [1, 2, 3, 95],\n",
    " [2, 1, 1, 1],\n",
    " [2, 1, 2, 23],\n",
    " [2, 1, 3, 67],\n",
    " [2, 2, 1, 86],\n",
    " [2, 2, 2, 87],\n",
    " [2, 2, 3, 19],\n",
    " [3, 1, 1, 6],\n",
    " [3, 1, 2, 30],\n",
    " [3, 1, 3, 55],\n",
    " [3, 2, 1, 68],\n",
    " [3, 2, 2, 32],\n",
    " [3, 2, 3, 50]],\n",
    "columns=['Day', 'Store', 'Product', 'Sales'])\n",
    "\n",
    "print(sales)"
   ]
  },
  {
   "cell_type": "markdown",
   "metadata": {},
   "source": [
    "Now what if we wanted to find the total sales by day and product? We can use both of them in grouping like below:"
   ]
  },
  {
   "cell_type": "code",
   "execution_count": 10,
   "metadata": {},
   "outputs": [
    {
     "name": "stdout",
     "output_type": "stream",
     "text": [
      "Day  Product\n",
      "1    1           51\n",
      "     2          140\n",
      "     3          122\n",
      "2    1           87\n",
      "     2          110\n",
      "     3           86\n",
      "3    1           74\n",
      "     2           62\n",
      "     3          105\n",
      "Name: Sales, dtype: int64\n"
     ]
    }
   ],
   "source": [
    "#Group by day and product\n",
    "group_data = sales.groupby(['Day', 'Product'])['Sales'].sum()\n",
    "print(group_data)"
   ]
  },
  {
   "cell_type": "markdown",
   "metadata": {},
   "source": [
    "You might also want something like average sales for each store-day combo."
   ]
  },
  {
   "cell_type": "code",
   "execution_count": 11,
   "metadata": {},
   "outputs": [
    {
     "name": "stdout",
     "output_type": "stream",
     "text": [
      "Store  Day\n",
      "1      1      37.000000\n",
      "       2      30.333333\n",
      "       3      30.333333\n",
      "2      1      67.333333\n",
      "       2      64.000000\n",
      "       3      50.000000\n",
      "Name: Sales, dtype: float64\n"
     ]
    }
   ],
   "source": [
    "group_data = sales.groupby(['Store', 'Day'])['Sales'].mean()\n",
    "print(group_data)"
   ]
  },
  {
   "cell_type": "markdown",
   "metadata": {},
   "source": [
    "## Using Groupby to Apply a Function\n",
    "\n",
    "You are not only limited to the regular functions, you have the freedom to also specify a function of your own to apply to each group. This is a very powerful level of functionality that I recommend mastering as it can save lots of time. Let's take the example that we did for percent of daily sales, there is actually a way to do this with using the apply function. To begin with we need to create a function that could execute these things.\n",
    "\n",
    "The first step is going to be to find an example of one slice of the group. Define the grouping object below."
   ]
  },
  {
   "cell_type": "code",
   "execution_count": 12,
   "metadata": {},
   "outputs": [],
   "source": [
    "#Create the group_obj\n",
    "group_obj = sales.groupby('Day')"
   ]
  },
  {
   "cell_type": "markdown",
   "metadata": {},
   "source": [
    "There is an attribute, groups, within the object the denotes which indices go to which group."
   ]
  },
  {
   "cell_type": "code",
   "execution_count": 13,
   "metadata": {},
   "outputs": [
    {
     "name": "stdout",
     "output_type": "stream",
     "text": [
      "{1: Int64Index([0, 1, 2, 3, 4, 5], dtype='int64'), 2: Int64Index([6, 7, 8, 9, 10, 11], dtype='int64'), 3: Int64Index([12, 13, 14, 15, 16, 17], dtype='int64')}\n"
     ]
    }
   ],
   "source": [
    "#Print the groups\n",
    "print(group_obj.groups)"
   ]
  },
  {
   "cell_type": "markdown",
   "metadata": {},
   "source": [
    "By calling get_group() with the key for the group that you want, you can get a group sample!"
   ]
  },
  {
   "cell_type": "code",
   "execution_count": 14,
   "metadata": {},
   "outputs": [
    {
     "name": "stdout",
     "output_type": "stream",
     "text": [
      "   Day  Store  Product  Sales\n",
      "0    1      1        1     10\n",
      "1    1      1        2     74\n",
      "2    1      1        3     27\n",
      "3    1      2        1     41\n",
      "4    1      2        2     66\n",
      "5    1      2        3     95\n"
     ]
    }
   ],
   "source": [
    "#Get the sample group\n",
    "sample_group = group_obj.get_group(1)\n",
    "print(sample_group)"
   ]
  },
  {
   "cell_type": "markdown",
   "metadata": {},
   "source": [
    "Now to build the function, it will need to take one parameter which is the passed data for each group. Let's denote it as g, and then from there we can index into sales, and get it divided by the sum!"
   ]
  },
  {
   "cell_type": "code",
   "execution_count": 15,
   "metadata": {},
   "outputs": [
    {
     "name": "stdout",
     "output_type": "stream",
     "text": [
      "0    0.031949\n",
      "1    0.236422\n",
      "2    0.086262\n",
      "3    0.130990\n",
      "4    0.210863\n",
      "5    0.303514\n",
      "Name: Sales, dtype: float64\n"
     ]
    }
   ],
   "source": [
    "#Create the function\n",
    "def find_pct(g):\n",
    "    pct = g['Sales'] / g['Sales'].sum()\n",
    "    return pct\n",
    "\n",
    "#Test our function\n",
    "print(find_pct(sample_group))"
   ]
  },
  {
   "cell_type": "markdown",
   "metadata": {},
   "source": [
    "Finally, to run this, we do groupby and then call apply passing this function."
   ]
  },
  {
   "cell_type": "code",
   "execution_count": 16,
   "metadata": {},
   "outputs": [
    {
     "name": "stdout",
     "output_type": "stream",
     "text": [
      "Day    \n",
      "1    0     0.031949\n",
      "     1     0.236422\n",
      "     2     0.086262\n",
      "     3     0.130990\n",
      "     4     0.210863\n",
      "     5     0.303514\n",
      "2    6     0.003534\n",
      "     7     0.081272\n",
      "     8     0.236749\n",
      "     9     0.303887\n",
      "     10    0.307420\n",
      "     11    0.067138\n",
      "3    12    0.024896\n",
      "     13    0.124481\n",
      "     14    0.228216\n",
      "     15    0.282158\n",
      "     16    0.132780\n",
      "     17    0.207469\n",
      "Name: Sales, dtype: float64\n"
     ]
    }
   ],
   "source": [
    "#Apply the function\n",
    "print(sales.groupby(\"Day\").apply(find_pct))"
   ]
  },
  {
   "cell_type": "markdown",
   "metadata": {},
   "source": [
    "One modification you may want to make is to get rid of the grouping column as the index. This can be done by setting , group_keys=False in the groupby."
   ]
  },
  {
   "cell_type": "code",
   "execution_count": 17,
   "metadata": {},
   "outputs": [
    {
     "name": "stdout",
     "output_type": "stream",
     "text": [
      "0     0.031949\n",
      "1     0.236422\n",
      "2     0.086262\n",
      "3     0.130990\n",
      "4     0.210863\n",
      "5     0.303514\n",
      "6     0.003534\n",
      "7     0.081272\n",
      "8     0.236749\n",
      "9     0.303887\n",
      "10    0.307420\n",
      "11    0.067138\n",
      "12    0.024896\n",
      "13    0.124481\n",
      "14    0.228216\n",
      "15    0.282158\n",
      "16    0.132780\n",
      "17    0.207469\n",
      "Name: Sales, dtype: float64\n"
     ]
    }
   ],
   "source": [
    "#Apply the function without the day index\n",
    "print(sales.groupby(\"Day\", group_keys=False).apply(find_pct))"
   ]
  },
  {
   "cell_type": "markdown",
   "metadata": {},
   "source": [
    "With this data you can add it into the dataframe by creating a column and setting the values equal to it."
   ]
  },
  {
   "cell_type": "code",
   "execution_count": 18,
   "metadata": {},
   "outputs": [
    {
     "name": "stdout",
     "output_type": "stream",
     "text": [
      "    Day  Store  Product  Sales  Percent Daily Sales\n",
      "0     1      1        1     10             0.031949\n",
      "1     1      1        2     74             0.236422\n",
      "2     1      1        3     27             0.086262\n",
      "3     1      2        1     41             0.130990\n",
      "4     1      2        2     66             0.210863\n",
      "5     1      2        3     95             0.303514\n",
      "6     2      1        1      1             0.003534\n",
      "7     2      1        2     23             0.081272\n",
      "8     2      1        3     67             0.236749\n",
      "9     2      2        1     86             0.303887\n",
      "10    2      2        2     87             0.307420\n",
      "11    2      2        3     19             0.067138\n",
      "12    3      1        1      6             0.024896\n",
      "13    3      1        2     30             0.124481\n",
      "14    3      1        3     55             0.228216\n",
      "15    3      2        1     68             0.282158\n",
      "16    3      2        2     32             0.132780\n",
      "17    3      2        3     50             0.207469\n"
     ]
    }
   ],
   "source": [
    "#Create the new column\n",
    "sales[\"Percent Daily Sales\"] = sales.groupby(\"Day\", group_keys=False).apply(find_pct)\n",
    "print(sales)"
   ]
  }
 ],
 "metadata": {
  "kernelspec": {
   "display_name": "Python 3",
   "language": "python",
   "name": "python3"
  },
  "language_info": {
   "codemirror_mode": {
    "name": "ipython",
    "version": 3
   },
   "file_extension": ".py",
   "mimetype": "text/x-python",
   "name": "python",
   "nbconvert_exporter": "python",
   "pygments_lexer": "ipython3",
   "version": "3.8.3"
  }
 },
 "nbformat": 4,
 "nbformat_minor": 4
}
