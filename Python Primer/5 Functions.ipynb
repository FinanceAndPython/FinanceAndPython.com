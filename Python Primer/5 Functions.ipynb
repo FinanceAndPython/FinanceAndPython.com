{
 "cells": [
  {
   "cell_type": "markdown",
   "metadata": {},
   "source": [
    "# Functions\n",
    "\n",
    "A function takes inputs and then runs some code given these inputs. The format of defining a function is:\n",
    "\n",
    "<code>def function_name(arguments):\n",
    "    execute code</code>\n",
    "\n",
    "In our first example we are going to not use any arguments to simply things. Notice we are once again using tabs to denote what is in the function. We start by using the function name of hello_world, and making it so our function just simply prints the string hello world."
   ]
  },
  {
   "cell_type": "code",
   "execution_count": 1,
   "metadata": {},
   "outputs": [],
   "source": [
    "#The way to define a function is def followed by a function name with parentheses and a colon\n",
    "#Then indent anything within the function\n",
    "def say_hello():\n",
    "    print(\"Hello World\")"
   ]
  },
  {
   "cell_type": "markdown",
   "metadata": {},
   "source": [
    "Once we have defined a function, we can run it by calling the function followed by parentheses with any arguments. In our first function we do not have arguments so it is simply called like below."
   ]
  },
  {
   "cell_type": "code",
   "execution_count": 2,
   "metadata": {},
   "outputs": [
    {
     "name": "stdout",
     "output_type": "stream",
     "text": [
      "Hello World\n"
     ]
    }
   ],
   "source": [
    "#You can then call it using that same name\n",
    "say_hello()"
   ]
  },
  {
   "cell_type": "markdown",
   "metadata": {},
   "source": [
    "## Arguments\n",
    "\n",
    "For a function, we can define what arguments need to be passed within the parentheses. In this case, we are now going to name our function say_something, and we will ask for one argument word. Then we can print out this argument word."
   ]
  },
  {
   "cell_type": "code",
   "execution_count": 3,
   "metadata": {},
   "outputs": [],
   "source": [
    "#You can also add a argument. In this case we ask for a word then we print the word in the code\n",
    "def say_something(word):\n",
    "    print(word)"
   ]
  },
  {
   "cell_type": "markdown",
   "metadata": {},
   "source": [
    "By giving the string \"Hi\", our function prints out hi."
   ]
  },
  {
   "cell_type": "code",
   "execution_count": 4,
   "metadata": {},
   "outputs": [
    {
     "name": "stdout",
     "output_type": "stream",
     "text": [
      "Hi\n"
     ]
    }
   ],
   "source": [
    "#So now, we give the argument \"Hi\" and it gets printed out\n",
    "say_something(\"Hi\")"
   ]
  },
  {
   "cell_type": "markdown",
   "metadata": {},
   "source": [
    "With another argument, we get a different result."
   ]
  },
  {
   "cell_type": "code",
   "execution_count": 5,
   "metadata": {},
   "outputs": [
    {
     "name": "stdout",
     "output_type": "stream",
     "text": [
      "Something\n"
     ]
    }
   ],
   "source": [
    "#Or give it another argument!\n",
    "say_something(\"Something\")"
   ]
  },
  {
   "cell_type": "markdown",
   "metadata": {},
   "source": [
    "You can use more than one argument, so if you want a function which prints out the sum of two arguments a and b, you need to have a followed by a comma and then b in the function definition."
   ]
  },
  {
   "cell_type": "code",
   "execution_count": 6,
   "metadata": {},
   "outputs": [
    {
     "name": "stdout",
     "output_type": "stream",
     "text": [
      "3\n"
     ]
    }
   ],
   "source": [
    "#We can have more than one argument, for example a and b\n",
    "def add(a, b):\n",
    "    print(a + b)\n",
    "add(1,2)"
   ]
  },
  {
   "cell_type": "markdown",
   "metadata": {},
   "source": [
    "## Return\n",
    "\n",
    "In a function, return acts as a way to get the value back from the function. When return is called in a function it will end that function even if there is more code after it. Below we change the print statement to be a return of the sum. Then we can capture the return value in a variable c"
   ]
  },
  {
   "cell_type": "code",
   "execution_count": 7,
   "metadata": {},
   "outputs": [
    {
     "name": "stdout",
     "output_type": "stream",
     "text": [
      "3\n"
     ]
    }
   ],
   "source": [
    "#Using return gives back the sum\n",
    "def add(a, b):\n",
    "    return a + b\n",
    "\n",
    "#Run the add function and capture the value in c\n",
    "c = add(1, 2)\n",
    "\n",
    "#Print the value for c\n",
    "print(c)"
   ]
  },
  {
   "cell_type": "markdown",
   "metadata": {},
   "source": [
    "### Example\n",
    "\n",
    "Combining if statements with a function we can build a function to compare which of two values is greater."
   ]
  },
  {
   "cell_type": "code",
   "execution_count": 8,
   "metadata": {},
   "outputs": [
    {
     "name": "stdout",
     "output_type": "stream",
     "text": [
      "b is greater than a\n",
      "a is greater than b\n",
      "a and b are equal\n"
     ]
    }
   ],
   "source": [
    "#Example: A function to print out which number is greater\n",
    "def greater(a, b):\n",
    "    if a > b:\n",
    "        print(\"a is greater than b\")\n",
    "    elif b > a:\n",
    "        print(\"b is greater than a\")\n",
    "    else:\n",
    "        print(\"a and b are equal\")\n",
    "        \n",
    "#Run the function with different arguments\n",
    "greater(1,2)\n",
    "greater(3,2)\n",
    "greater(2,2)"
   ]
  },
  {
   "cell_type": "markdown",
   "metadata": {},
   "source": [
    "### Example\n",
    "\n",
    "Another easy example is one that flips two variables. We take arguments a and b, but return b and a which we can then assign to a and b essentially flipping the two."
   ]
  },
  {
   "cell_type": "code",
   "execution_count": 9,
   "metadata": {},
   "outputs": [],
   "source": [
    "#You can return two arguments and have those two arguments be assigned to different variables\n",
    "def switch(a, b):\n",
    "    return b, a"
   ]
  },
  {
   "cell_type": "code",
   "execution_count": 10,
   "metadata": {},
   "outputs": [
    {
     "name": "stdout",
     "output_type": "stream",
     "text": [
      "10\n",
      "5\n"
     ]
    }
   ],
   "source": [
    "#Here we can overwrite the values of a and b with b and a (switching them)\n",
    "a = 5\n",
    "b = 10\n",
    "\n",
    "#Switch the variables\n",
    "a,b = switch(a,b)\n",
    "print(a)\n",
    "print(b)"
   ]
  },
  {
   "cell_type": "markdown",
   "metadata": {},
   "source": [
    "## Default Arguments\n",
    "\n",
    "Sometimes we want to have an optional argument that takes a default value if nothing is passed for it. What about a multiplication function where we multiply a by b, but if we don't get b then we assume it is 2? The way we will set it up is by defining all required arguments followed by all optional ones. Optional ones will have the form of the argument name followed by an equal sign and the default values. Below, we define a multiplication function like we described."
   ]
  },
  {
   "cell_type": "code",
   "execution_count": 11,
   "metadata": {},
   "outputs": [],
   "source": [
    "#Define a function with a default argument for b\n",
    "def multiply(a, b=2):\n",
    "    return a*b"
   ]
  },
  {
   "cell_type": "markdown",
   "metadata": {},
   "source": [
    "When we just give one value it assumes b=2."
   ]
  },
  {
   "cell_type": "code",
   "execution_count": 12,
   "metadata": {},
   "outputs": [
    {
     "name": "stdout",
     "output_type": "stream",
     "text": [
      "4\n"
     ]
    }
   ],
   "source": [
    "#So saying multiply 2 sets a=2 and b=2 by default\n",
    "print(multiply(2))"
   ]
  },
  {
   "cell_type": "markdown",
   "metadata": {},
   "source": [
    "In the case of changing this default value, we can pass in the variable the same kind of way we defined it above. Notice how the arguments are 2 and b=3. This makes it so b is no longer equal to the default value."
   ]
  },
  {
   "cell_type": "code",
   "execution_count": 13,
   "metadata": {},
   "outputs": [
    {
     "name": "stdout",
     "output_type": "stream",
     "text": [
      "6\n"
     ]
    }
   ],
   "source": [
    "#Over-ride the default b values\n",
    "print(multiply(2, b=3))"
   ]
  },
  {
   "cell_type": "markdown",
   "metadata": {},
   "source": [
    "## Function Scope\n",
    "\n",
    "An important thing to understand with functions is the scope that functions work in. With the a lot of variables, if they are modified within the function they don't actually change outside of the function once it has ended. This is what the scope of the function means. Any new variables you define within a function also are not going to be there anymore once the function ends! This is why you need to return any values you want to keep.\n",
    "\n",
    "Below we have a function that doubles a within the function and then prints it. Once the function has ended, a still equals 2 though."
   ]
  },
  {
   "cell_type": "code",
   "execution_count": 14,
   "metadata": {},
   "outputs": [
    {
     "name": "stdout",
     "output_type": "stream",
     "text": [
      "4\n",
      "4\n",
      "4\n"
     ]
    }
   ],
   "source": [
    "#When you overwrite a value in a function, it is only modified within the function (usually)\n",
    "#So setting a new value on a only changes it locally\n",
    "def double(a):\n",
    "    a = a*2\n",
    "    print(a)\n",
    "\n",
    "a = 2\n",
    "double(a)\n",
    "double(a)\n",
    "double(a)"
   ]
  },
  {
   "cell_type": "markdown",
   "metadata": {},
   "source": [
    "If you want to actually double the variable, you will need to return it and capture it in that same variable. Below is a way to achieve the desired effect of doubling it each time."
   ]
  },
  {
   "cell_type": "code",
   "execution_count": 15,
   "metadata": {},
   "outputs": [
    {
     "name": "stdout",
     "output_type": "stream",
     "text": [
      "4\n",
      "8\n",
      "16\n"
     ]
    }
   ],
   "source": [
    "#If we wanted to actually keep doubling it, we would need to double within the function, return it then overwrite the \n",
    "#current value\n",
    "def double(a):\n",
    "    a = a*2\n",
    "    return a\n",
    "\n",
    "a = 2\n",
    "a = double(a)\n",
    "print(a)\n",
    "a = double(a)\n",
    "print(a)\n",
    "a = double(a)\n",
    "print(a)"
   ]
  },
  {
   "cell_type": "markdown",
   "metadata": {},
   "source": [
    "## Mutable Structures\n",
    "\n",
    "There are some exceptions with scope to be aware of, and one example is lists. They are mutable meaning when we pass in a list to a function we are actually passing a reference to it in the memory of our machine. If we change it within a function, we change it everywhere!\n",
    "\n",
    "If we have a function that doubles the first value in a list each time then prints it, we can see that the number is actually being changed outside the function."
   ]
  },
  {
   "cell_type": "code",
   "execution_count": 16,
   "metadata": {},
   "outputs": [
    {
     "name": "stdout",
     "output_type": "stream",
     "text": [
      "[2, 2, 3]\n",
      "[4, 2, 3]\n",
      "[8, 2, 3]\n"
     ]
    }
   ],
   "source": [
    "#This is going to actually double the elements outside the function\n",
    "def double(l):\n",
    "    l[0] = l[0]*2\n",
    "    print(l)\n",
    "\n",
    "l = [1,2,3]\n",
    "double(l)\n",
    "double(l)\n",
    "double(l)"
   ]
  },
  {
   "cell_type": "markdown",
   "metadata": {},
   "source": [
    "## Copying a List\n",
    "\n",
    "If you want to pass in a copy of a list instead of the actual list, you can either pass it as l[:] or l.copy() and then anything that happens to the list in the function won't change the original list."
   ]
  },
  {
   "cell_type": "code",
   "execution_count": 17,
   "metadata": {},
   "outputs": [
    {
     "name": "stdout",
     "output_type": "stream",
     "text": [
      "[2, 2, 3]\n",
      "[2, 2, 3]\n",
      "[2, 2, 3]\n",
      "[2, 2, 3]\n"
     ]
    }
   ],
   "source": [
    "#The way to work around this is to give a copy of the list or a slice of the list, for example....\n",
    "l = [1,2,3]\n",
    "double(l[:])\n",
    "double(l.copy())\n",
    "double(l[:])\n",
    "double(l.copy())"
   ]
  },
  {
   "cell_type": "markdown",
   "metadata": {},
   "source": [
    "## Nested Functions\n",
    "\n",
    "Functions may be nested within one and if you would like. The following definition will define for us f1 which within its scope defines f2, a function to square something. Then we multiply the argument a by 2, and then apply our defined function before returning it."
   ]
  },
  {
   "cell_type": "code",
   "execution_count": 18,
   "metadata": {},
   "outputs": [],
   "source": [
    "#It is also possible to define functions within functions, so for this we have f1, and also f2 defined within it\n",
    "def f1(a):\n",
    "    def f2(b):\n",
    "        return b**2\n",
    "    a = a*2\n",
    "    a = f2(a)\n",
    "    return a"
   ]
  },
  {
   "cell_type": "code",
   "execution_count": 19,
   "metadata": {},
   "outputs": [
    {
     "name": "stdout",
     "output_type": "stream",
     "text": [
      "36\n"
     ]
    }
   ],
   "source": [
    "#So we multiply a by 2, then square it with f2\n",
    "print(f1(3))"
   ]
  },
  {
   "cell_type": "markdown",
   "metadata": {},
   "source": [
    "When you nest a function it is not defined outside the function scope. The code below fails for this reason."
   ]
  },
  {
   "cell_type": "code",
   "execution_count": 20,
   "metadata": {},
   "outputs": [
    {
     "ename": "NameError",
     "evalue": "name 'f2' is not defined",
     "output_type": "error",
     "traceback": [
      "\u001b[0;31m---------------------------------------------------------------------------\u001b[0m",
      "\u001b[0;31mNameError\u001b[0m                                 Traceback (most recent call last)",
      "\u001b[0;32m<ipython-input-20-e7ba8d554e48>\u001b[0m in \u001b[0;36m<module>\u001b[0;34m\u001b[0m\n\u001b[1;32m      1\u001b[0m \u001b[0;31m#These functions are NOT defined outside of the f1 function however\u001b[0m\u001b[0;34m\u001b[0m\u001b[0;34m\u001b[0m\u001b[0;34m\u001b[0m\u001b[0m\n\u001b[1;32m      2\u001b[0m \u001b[0;31m#So you'll get an error\u001b[0m\u001b[0;34m\u001b[0m\u001b[0;34m\u001b[0m\u001b[0;34m\u001b[0m\u001b[0m\n\u001b[0;32m----> 3\u001b[0;31m \u001b[0mf2\u001b[0m\u001b[0;34m(\u001b[0m\u001b[0;36m3\u001b[0m\u001b[0;34m)\u001b[0m\u001b[0;34m\u001b[0m\u001b[0;34m\u001b[0m\u001b[0m\n\u001b[0m",
      "\u001b[0;31mNameError\u001b[0m: name 'f2' is not defined"
     ]
    }
   ],
   "source": [
    "#These functions are NOT defined outside of the f1 function however\n",
    "#So you'll get an error\n",
    "f2(3)"
   ]
  },
  {
   "cell_type": "markdown",
   "metadata": {},
   "source": [
    "## Lambda Functions\n",
    "\n",
    "Lambda functions are a way to define in short hand a function. They become very useful when we need simple one line functions. The format is:\n",
    "\n",
    "<code>y = lambda x: f(x)</code>\n",
    "\n",
    "where y then becomes the function you created. Below is a function which creates y, a function to square any input."
   ]
  },
  {
   "cell_type": "code",
   "execution_count": 21,
   "metadata": {},
   "outputs": [],
   "source": [
    "#Finally, lambda is a short hand way to define a function\n",
    "#Call lambda x: followed by what you want x to be returned as\n",
    "y = lambda x: x**2"
   ]
  },
  {
   "cell_type": "code",
   "execution_count": 22,
   "metadata": {},
   "outputs": [
    {
     "name": "stdout",
     "output_type": "stream",
     "text": [
      "4\n"
     ]
    }
   ],
   "source": [
    "#So we now square 2 with the y function\n",
    "print(y(2))"
   ]
  }
 ],
 "metadata": {
  "kernelspec": {
   "display_name": "Python 3",
   "language": "python",
   "name": "python3"
  },
  "language_info": {
   "codemirror_mode": {
    "name": "ipython",
    "version": 3
   },
   "file_extension": ".py",
   "mimetype": "text/x-python",
   "name": "python",
   "nbconvert_exporter": "python",
   "pygments_lexer": "ipython3",
   "version": "3.8.3"
  }
 },
 "nbformat": 4,
 "nbformat_minor": 2
}
