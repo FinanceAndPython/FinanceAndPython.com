{
 "cells": [
  {
   "cell_type": "markdown",
   "metadata": {},
   "source": [
    "<h3>Welcome to FinanceAndPython.com, please refer to the website for the full tutorial. Presented here is the source code.<h3>"
   ]
  },
  {
   "cell_type": "code",
   "execution_count": 1,
   "metadata": {
    "collapsed": true
   },
   "outputs": [],
   "source": [
    "#The way to define a function is def followed by a function name with parentheses and a colon\n",
    "#Then indent anything within the function\n",
    "def sayHi():\n",
    "    print(\"Hello World\")"
   ]
  },
  {
   "cell_type": "code",
   "execution_count": 2,
   "metadata": {},
   "outputs": [
    {
     "name": "stdout",
     "output_type": "stream",
     "text": [
      "Hello World\n"
     ]
    }
   ],
   "source": [
    "#You can then call it using that same name\n",
    "sayHi()"
   ]
  },
  {
   "cell_type": "code",
   "execution_count": 3,
   "metadata": {
    "collapsed": true
   },
   "outputs": [],
   "source": [
    "#You can also add a argument. In this case we ask for a word then we print the word in the code\n",
    "def saySomething(word):\n",
    "    print(word)"
   ]
  },
  {
   "cell_type": "code",
   "execution_count": 4,
   "metadata": {},
   "outputs": [
    {
     "name": "stdout",
     "output_type": "stream",
     "text": [
      "Hi\n"
     ]
    }
   ],
   "source": [
    "#So now, we give the argument \"Hi\" and it gets printed out\n",
    "saySomething(\"Hi\")"
   ]
  },
  {
   "cell_type": "code",
   "execution_count": 5,
   "metadata": {},
   "outputs": [
    {
     "name": "stdout",
     "output_type": "stream",
     "text": [
      "Something\n"
     ]
    }
   ],
   "source": [
    "#Or give it another argument!\n",
    "saySomething(\"Something\")"
   ]
  },
  {
   "cell_type": "code",
   "execution_count": 6,
   "metadata": {},
   "outputs": [
    {
     "name": "stdout",
     "output_type": "stream",
     "text": [
      "3\n"
     ]
    }
   ],
   "source": [
    "#We can have more than one argument, for example a and b\n",
    "def add(a,b):\n",
    "    print(a+b)\n",
    "add(1,2)"
   ]
  },
  {
   "cell_type": "code",
   "execution_count": 7,
   "metadata": {},
   "outputs": [
    {
     "name": "stdout",
     "output_type": "stream",
     "text": [
      "3\n"
     ]
    }
   ],
   "source": [
    "#If we want to actually get the value back we use return\n",
    "#This let's you get a value back and then assign it to something\n",
    "#Here we assign the variable c the value that we get by adding 1 and 2\n",
    "def add(a,b):\n",
    "    return a+b\n",
    "c = add(1,2)\n",
    "print(c)"
   ]
  },
  {
   "cell_type": "code",
   "execution_count": 8,
   "metadata": {
    "collapsed": true
   },
   "outputs": [],
   "source": [
    "#Example: A function to print out which number is greater\n",
    "def greater(a,b):\n",
    "    if a>b:\n",
    "        print(\"a is greater than b\")\n",
    "    elif b>a:\n",
    "        print(\"b is greater than a\")\n",
    "    else:\n",
    "        print(\"a and b are equal\")"
   ]
  },
  {
   "cell_type": "code",
   "execution_count": 9,
   "metadata": {},
   "outputs": [
    {
     "name": "stdout",
     "output_type": "stream",
     "text": [
      "b is greater than a\n",
      "a is greater than b\n",
      "a and b are equal\n"
     ]
    }
   ],
   "source": [
    "greater(1,2)\n",
    "greater(3,2)\n",
    "greater(2,2)"
   ]
  },
  {
   "cell_type": "code",
   "execution_count": 10,
   "metadata": {
    "collapsed": true
   },
   "outputs": [],
   "source": [
    "#You can return two arguments and have those two arguments be assigned to different variables\n",
    "def switch(a,b):\n",
    "    return b,a"
   ]
  },
  {
   "cell_type": "code",
   "execution_count": 11,
   "metadata": {},
   "outputs": [
    {
     "name": "stdout",
     "output_type": "stream",
     "text": [
      "10\n",
      "5\n"
     ]
    }
   ],
   "source": [
    "#Here we can overwrite the values of a and b with b and a (switching them)\n",
    "a = 5\n",
    "b = 10\n",
    "a,b = switch(a,b)\n",
    "print(a)\n",
    "print(b)"
   ]
  },
  {
   "cell_type": "code",
   "execution_count": 12,
   "metadata": {
    "collapsed": true
   },
   "outputs": [],
   "source": [
    "#You can also have optional arguments if you give them a default value to begin with\n",
    "#In this case b is by default 2\n",
    "def multiply(a,b=2):\n",
    "    return a*b"
   ]
  },
  {
   "cell_type": "code",
   "execution_count": 13,
   "metadata": {},
   "outputs": [
    {
     "name": "stdout",
     "output_type": "stream",
     "text": [
      "4\n"
     ]
    }
   ],
   "source": [
    "#So saying multiply 2 sets a=2 and b=2 by default\n",
    "print(multiply(2))"
   ]
  },
  {
   "cell_type": "code",
   "execution_count": 14,
   "metadata": {},
   "outputs": [
    {
     "name": "stdout",
     "output_type": "stream",
     "text": [
      "6\n"
     ]
    }
   ],
   "source": [
    "#But you can use something besides the default value too\n",
    "print(multiply(2,3))"
   ]
  },
  {
   "cell_type": "code",
   "execution_count": 15,
   "metadata": {},
   "outputs": [
    {
     "name": "stdout",
     "output_type": "stream",
     "text": [
      "4\n",
      "4\n",
      "4\n"
     ]
    }
   ],
   "source": [
    "#When you overwrite a value in a function, it is only modified within the function (usually)\n",
    "#So setting a new value on a only changes it locally\n",
    "def double(a):\n",
    "    a = a*2\n",
    "    print(a)\n",
    "\n",
    "a = 2\n",
    "double(a)\n",
    "double(a)\n",
    "double(a)"
   ]
  },
  {
   "cell_type": "code",
   "execution_count": 16,
   "metadata": {},
   "outputs": [
    {
     "name": "stdout",
     "output_type": "stream",
     "text": [
      "4\n",
      "8\n",
      "16\n"
     ]
    }
   ],
   "source": [
    "#If we wanted to actually keep doubling it, we would need to double within the function, return it then overwrite the \n",
    "#current value\n",
    "def double(a):\n",
    "    a = a*2\n",
    "    return a\n",
    "\n",
    "a = 2\n",
    "a = double(a)\n",
    "print(a)\n",
    "a = double(a)\n",
    "print(a)\n",
    "a = double(a)\n",
    "print(a)"
   ]
  },
  {
   "cell_type": "code",
   "execution_count": 17,
   "metadata": {},
   "outputs": [
    {
     "name": "stdout",
     "output_type": "stream",
     "text": [
      "[2, 2, 3]\n",
      "[4, 2, 3]\n",
      "[8, 2, 3]\n"
     ]
    }
   ],
   "source": [
    "#List are an exception\n",
    "#If you change something within a list it affects it outside the function\n",
    "#These are mutable meaning that there is one version of them passed by reference\n",
    "#Notice how the first value keeps being doubled from within the function\n",
    "def double(l):\n",
    "    l[0] = l[0]*2\n",
    "    print(l)\n",
    "\n",
    "l = [1,2,3]\n",
    "double(l)\n",
    "double(l)\n",
    "double(l)"
   ]
  },
  {
   "cell_type": "code",
   "execution_count": 18,
   "metadata": {},
   "outputs": [
    {
     "name": "stdout",
     "output_type": "stream",
     "text": [
      "[2, 2, 3]\n",
      "[2, 2, 3]\n",
      "[2, 2, 3]\n"
     ]
    }
   ],
   "source": [
    "#The way to work around this is to give a copy of the list or a slice of the list, for example....\n",
    "l = [1,2,3]\n",
    "double(l[:])\n",
    "double(l[:])\n",
    "double(l[:])"
   ]
  },
  {
   "cell_type": "code",
   "execution_count": 19,
   "metadata": {},
   "outputs": [
    {
     "name": "stdout",
     "output_type": "stream",
     "text": [
      "[1, 4, 9, 16, 25]\n"
     ]
    }
   ],
   "source": [
    "#Example: Using a function to square elements in a list and then filter them if they're less than 300\n",
    "def square(l):\n",
    "    for i in range(0,len(l)):\n",
    "        l[i] = l[i]**2\n",
    "l = [1,2,3,4,5]\n",
    "square(l)\n",
    "print(l)"
   ]
  },
  {
   "cell_type": "code",
   "execution_count": 20,
   "metadata": {},
   "outputs": [
    {
     "name": "stdout",
     "output_type": "stream",
     "text": [
      "[2, 3, 4, 5, 6]\n",
      "[4, 9, 16, 25, 36]\n",
      "[16, 81, 256]\n",
      "[256]\n"
     ]
    }
   ],
   "source": [
    "l = [2,3,4,5,6]\n",
    "while len(l)>0:\n",
    "    print(l)\n",
    "    square(l)\n",
    "    l = [x for x in l if x<300]"
   ]
  },
  {
   "cell_type": "code",
   "execution_count": 21,
   "metadata": {
    "collapsed": true
   },
   "outputs": [],
   "source": [
    "#It is also possible to define functions within functions, so for this we have f1, and also f2 defined within it\n",
    "def f1(a):\n",
    "    def f2(b):\n",
    "        return b**2\n",
    "    a = a*2\n",
    "    a = f2(a)\n",
    "    return a"
   ]
  },
  {
   "cell_type": "code",
   "execution_count": 22,
   "metadata": {},
   "outputs": [
    {
     "name": "stdout",
     "output_type": "stream",
     "text": [
      "36\n"
     ]
    }
   ],
   "source": [
    "#So we multiply a by 2, then square it with f2\n",
    "print(f1(3))"
   ]
  },
  {
   "cell_type": "code",
   "execution_count": 23,
   "metadata": {},
   "outputs": [
    {
     "ename": "NameError",
     "evalue": "name 'f2' is not defined",
     "output_type": "error",
     "traceback": [
      "\u001b[0;31m---------------------------------------------------------------------------\u001b[0m",
      "\u001b[0;31mNameError\u001b[0m                                 Traceback (most recent call last)",
      "\u001b[0;32m<ipython-input-23-35de3f1ca495>\u001b[0m in \u001b[0;36m<module>\u001b[0;34m()\u001b[0m\n\u001b[1;32m      1\u001b[0m \u001b[0;31m#These functions are NOT defined outside of the f1 function however\u001b[0m\u001b[0;34m\u001b[0m\u001b[0;34m\u001b[0m\u001b[0m\n\u001b[1;32m      2\u001b[0m \u001b[0;31m#So you'll get an error\u001b[0m\u001b[0;34m\u001b[0m\u001b[0;34m\u001b[0m\u001b[0m\n\u001b[0;32m----> 3\u001b[0;31m \u001b[0mf2\u001b[0m\u001b[0;34m(\u001b[0m\u001b[0;36m3\u001b[0m\u001b[0;34m)\u001b[0m\u001b[0;34m\u001b[0m\u001b[0m\n\u001b[0m",
      "\u001b[0;31mNameError\u001b[0m: name 'f2' is not defined"
     ]
    }
   ],
   "source": [
    "#These functions are NOT defined outside of the f1 function however\n",
    "#So you'll get an error\n",
    "f2(3)"
   ]
  },
  {
   "cell_type": "code",
   "execution_count": 24,
   "metadata": {
    "collapsed": true
   },
   "outputs": [],
   "source": [
    "#Finally, lambda is a short hand way to define a function\n",
    "#Call lambda x: followed by what you want x to be returned as\n",
    "y = lambda x: x**2"
   ]
  },
  {
   "cell_type": "code",
   "execution_count": 25,
   "metadata": {},
   "outputs": [
    {
     "data": {
      "text/plain": [
       "4"
      ]
     },
     "execution_count": 25,
     "metadata": {},
     "output_type": "execute_result"
    }
   ],
   "source": [
    "#So we now square 2 with the y function\n",
    "y(2)"
   ]
  }
 ],
 "metadata": {
  "kernelspec": {
   "display_name": "Python 3",
   "language": "python",
   "name": "python3"
  },
  "language_info": {
   "codemirror_mode": {
    "name": "ipython",
    "version": 3
   },
   "file_extension": ".py",
   "mimetype": "text/x-python",
   "name": "python",
   "nbconvert_exporter": "python",
   "pygments_lexer": "ipython3",
   "version": "3.6.3"
  }
 },
 "nbformat": 4,
 "nbformat_minor": 2
}
