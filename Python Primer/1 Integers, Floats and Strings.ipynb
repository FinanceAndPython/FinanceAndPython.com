{
 "cells": [
  {
   "cell_type": "markdown",
   "metadata": {},
   "source": [
    "# What is a Variable\n",
    "\n",
    "The first thing to learn about coding is naturally variables. Variables in programming are quite similar to those in your basic math class. They are symbols that hold some value for us. This notebook goes through examples of integers, floating point numbers and strings which are some of the basic building blocks in python. For each cell in this notebook, when run it will execute any of the code which we have in that cell. Anything that has # before it will not be run though, because this is a comment in the code. Comments are recommended for clean coding and are added to explain some of the code better. Below, you will see first a comment explaining what the code does followed by a line of code which declares our first variable. In this case, the first variable we make is the number 5. The way we set the variable is to say x = 5, the variable name goes on the right, followed by the equal sign, followed by the value we give it."
   ]
  },
  {
   "cell_type": "code",
   "execution_count": 1,
   "metadata": {},
   "outputs": [],
   "source": [
    "#Create a variable x and set it equal to 5\n",
    "x = 5"
   ]
  },
  {
   "cell_type": "markdown",
   "metadata": {},
   "source": [
    "## The Print Function\n",
    "\n",
    "So now we have our first variable, but how do we actually see the value? The print function in python prints out the value of whatever we pass it. To do so, we need to call print() and then within the parentheses pass in the variable to print out. In this case that variable is going to be x, so we call it like print(x)"
   ]
  },
  {
   "cell_type": "code",
   "execution_count": 2,
   "metadata": {},
   "outputs": [
    {
     "name": "stdout",
     "output_type": "stream",
     "text": [
      "5\n"
     ]
    }
   ],
   "source": [
    "#Print out the value for x\n",
    "print(x)"
   ]
  },
  {
   "cell_type": "markdown",
   "metadata": {},
   "source": [
    "## Strings\n",
    "\n",
    "Strings are variables for textual data. We use quotes when we define a string, for example:"
   ]
  },
  {
   "cell_type": "code",
   "execution_count": 3,
   "metadata": {},
   "outputs": [
    {
     "name": "stdout",
     "output_type": "stream",
     "text": [
      "Hello World\n"
     ]
    }
   ],
   "source": [
    "#Create a string variable\n",
    "string_example = \"Hello World\"\n",
    "print(string_example)"
   ]
  },
  {
   "cell_type": "markdown",
   "metadata": {},
   "source": [
    "It is also not necessary always to declare a variable object. If we wanted to just print \"Hello World\", the following will work."
   ]
  },
  {
   "cell_type": "code",
   "execution_count": 4,
   "metadata": {},
   "outputs": [
    {
     "name": "stdout",
     "output_type": "stream",
     "text": [
      "Hello World\n"
     ]
    }
   ],
   "source": [
    "#Print \"Hello World\"\n",
    "print(\"Hello World\")"
   ]
  },
  {
   "cell_type": "markdown",
   "metadata": {},
   "source": [
    "If you want to check the type of a variable, all one needs to do is use type() and pass in as an argument the variable."
   ]
  },
  {
   "cell_type": "code",
   "execution_count": 5,
   "metadata": {},
   "outputs": [
    {
     "name": "stdout",
     "output_type": "stream",
     "text": [
      "<class 'str'>\n",
      "<class 'int'>\n"
     ]
    }
   ],
   "source": [
    "#Print the types of the variables\n",
    "print(type(string_example))\n",
    "print(type(x))"
   ]
  },
  {
   "cell_type": "markdown",
   "metadata": {},
   "source": [
    "Variables can be re-used. In the following block of code we are going to set the variable x equal to 5 first, print it out, set it equal to 10 after, then print it again."
   ]
  },
  {
   "cell_type": "code",
   "execution_count": 6,
   "metadata": {},
   "outputs": [
    {
     "name": "stdout",
     "output_type": "stream",
     "text": [
      "5\n",
      "10\n"
     ]
    }
   ],
   "source": [
    "#Set x equal to 5\n",
    "x = 5\n",
    "print(x)\n",
    "\n",
    "#Set x equal to 10\n",
    "x = 10\n",
    "print(x)"
   ]
  },
  {
   "cell_type": "markdown",
   "metadata": {},
   "source": [
    "Mathematical functions are supported in python as well. Addition for example is done by just simply using the plus sign."
   ]
  },
  {
   "cell_type": "code",
   "execution_count": 7,
   "metadata": {},
   "outputs": [
    {
     "name": "stdout",
     "output_type": "stream",
     "text": [
      "4\n"
     ]
    }
   ],
   "source": [
    "#Add 2 + 2\n",
    "print(2 + 2)"
   ]
  },
  {
   "cell_type": "code",
   "execution_count": 8,
   "metadata": {},
   "outputs": [
    {
     "name": "stdout",
     "output_type": "stream",
     "text": [
      "6\n"
     ]
    }
   ],
   "source": [
    "#Set x equal to 5\n",
    "x = 5\n",
    "#Add 1 to x\n",
    "x = x + 1\n",
    "print(x)"
   ]
  },
  {
   "cell_type": "markdown",
   "metadata": {},
   "source": [
    "If we have a variable that we want to add a number to, we could do it like before with x = x + 1, or the the operation += adds whatever is on the right hand side to the left hand side. Below, the code is going to add 1 to x."
   ]
  },
  {
   "cell_type": "code",
   "execution_count": 9,
   "metadata": {},
   "outputs": [
    {
     "name": "stdout",
     "output_type": "stream",
     "text": [
      "6\n"
     ]
    }
   ],
   "source": [
    "#Add 1 to x\n",
    "x = 5\n",
    "x += 1\n",
    "print(x)"
   ]
  },
  {
   "cell_type": "markdown",
   "metadata": {},
   "source": [
    "Variables may also be added together. If we have x and y, and want to find the sum of the two as z, we can do it like below:"
   ]
  },
  {
   "cell_type": "code",
   "execution_count": 10,
   "metadata": {},
   "outputs": [
    {
     "name": "stdout",
     "output_type": "stream",
     "text": [
      "15\n"
     ]
    }
   ],
   "source": [
    "#Add x + y to create z\n",
    "x = 5\n",
    "y = 10\n",
    "z = x + y\n",
    "print(z)"
   ]
  },
  {
   "cell_type": "markdown",
   "metadata": {},
   "source": [
    "### Mathematical Functions\n",
    "\n",
    "The following are some of the basic math functions that python has:\n",
    "\n",
    "1. Add A and B: A + B\n",
    "2. Subtract B from A: A - B\n",
    "3. Divide A by B: A / B\n",
    "4. Raise A to the Bth power: A ** B"
   ]
  },
  {
   "cell_type": "code",
   "execution_count": 11,
   "metadata": {},
   "outputs": [
    {
     "name": "stdout",
     "output_type": "stream",
     "text": [
      "5\n",
      "10\n",
      "2.0\n",
      "8\n"
     ]
    }
   ],
   "source": [
    "#Subtract\n",
    "print(10 - 5)\n",
    "\n",
    "#Multiply\n",
    "print(2 * 5)\n",
    "\n",
    "#Divide\n",
    "print(10 / 5)\n",
    "\n",
    "#Raise 2 to the 3rd power\n",
    "print(2 ** 3)"
   ]
  },
  {
   "cell_type": "markdown",
   "metadata": {},
   "source": [
    "Parentheses are used the same way as in math."
   ]
  },
  {
   "cell_type": "code",
   "execution_count": 12,
   "metadata": {},
   "outputs": [
    {
     "name": "stdout",
     "output_type": "stream",
     "text": [
      "25\n"
     ]
    }
   ],
   "source": [
    "print((2+3)**2)"
   ]
  },
  {
   "cell_type": "markdown",
   "metadata": {},
   "source": [
    "## More String Functionality"
   ]
  },
  {
   "cell_type": "markdown",
   "metadata": {},
   "source": [
    "As long as you are consistent with what you use on the left and the right, you are allowed to use either single or double quotes to declare a string."
   ]
  },
  {
   "cell_type": "code",
   "execution_count": 13,
   "metadata": {},
   "outputs": [
    {
     "name": "stdout",
     "output_type": "stream",
     "text": [
      "string1\n",
      "string2\n"
     ]
    }
   ],
   "source": [
    "#Both ways of initializing work\n",
    "a = 'string1'\n",
    "b = \"string2\"\n",
    "print(a)\n",
    "print(b)"
   ]
  },
  {
   "cell_type": "markdown",
   "metadata": {},
   "source": [
    "If of course you want either single or double quotes to be part of the string, you can include them together where the inner one is the one that you want for your string and the outer one declares the string."
   ]
  },
  {
   "cell_type": "code",
   "execution_count": 14,
   "metadata": {},
   "outputs": [
    {
     "name": "stdout",
     "output_type": "stream",
     "text": [
      "'Single Quote'\n",
      "\"Double Quote\"\n"
     ]
    }
   ],
   "source": [
    "a = \"'Single Quote'\"\n",
    "b = '\"Double Quote\"'\n",
    "print(a)\n",
    "print(b)"
   ]
  },
  {
   "cell_type": "markdown",
   "metadata": {},
   "source": [
    "Using the plus sign between two strings will lead to the two of them being added together (also referred to as concatenated). "
   ]
  },
  {
   "cell_type": "code",
   "execution_count": 15,
   "metadata": {},
   "outputs": [
    {
     "name": "stdout",
     "output_type": "stream",
     "text": [
      "John Doe\n"
     ]
    }
   ],
   "source": [
    "#Adding strings together concatenates them\n",
    "first = \"John \"\n",
    "last = \"Doe\"\n",
    "print(first+last)"
   ]
  },
  {
   "cell_type": "markdown",
   "metadata": {},
   "source": [
    "## String Formatting\n",
    "\n",
    "To insert a value into a string, we can use curly braces where we want to be able to substitute in variables. Then we call format() and pass in whatever variables we are substituting."
   ]
  },
  {
   "cell_type": "code",
   "execution_count": 16,
   "metadata": {},
   "outputs": [
    {
     "name": "stdout",
     "output_type": "stream",
     "text": [
      "-- 500 --\n"
     ]
    }
   ],
   "source": [
    "fstring = \"-- {} --\".format(500)\n",
    "print(fstring)"
   ]
  },
  {
   "cell_type": "markdown",
   "metadata": {},
   "source": [
    "You can pass more than one variable."
   ]
  },
  {
   "cell_type": "code",
   "execution_count": 17,
   "metadata": {},
   "outputs": [
    {
     "name": "stdout",
     "output_type": "stream",
     "text": [
      "-- 500 ABC --\n"
     ]
    }
   ],
   "source": [
    "fstring = \"-- {} {} --\".format(500, \"ABC\")\n",
    "print(fstring)"
   ]
  },
  {
   "cell_type": "markdown",
   "metadata": {},
   "source": [
    "Note that you can't add a string and an integer together normally. The code below will break because they are two different types of variables."
   ]
  },
  {
   "cell_type": "code",
   "execution_count": 18,
   "metadata": {},
   "outputs": [
    {
     "ename": "TypeError",
     "evalue": "can only concatenate str (not \"int\") to str",
     "output_type": "error",
     "traceback": [
      "\u001b[0;31m---------------------------------------------------------------------------\u001b[0m",
      "\u001b[0;31mTypeError\u001b[0m                                 Traceback (most recent call last)",
      "\u001b[0;32m<ipython-input-18-40c4350b5c6f>\u001b[0m in \u001b[0;36m<module>\u001b[0;34m\u001b[0m\n\u001b[1;32m      1\u001b[0m \u001b[0;31m#This will break\u001b[0m\u001b[0;34m\u001b[0m\u001b[0;34m\u001b[0m\u001b[0;34m\u001b[0m\u001b[0m\n\u001b[0;32m----> 2\u001b[0;31m \u001b[0mprint\u001b[0m\u001b[0;34m(\u001b[0m\u001b[0;34m\"A\"\u001b[0m\u001b[0;34m+\u001b[0m\u001b[0;36m1\u001b[0m\u001b[0;34m)\u001b[0m\u001b[0;34m\u001b[0m\u001b[0;34m\u001b[0m\u001b[0m\n\u001b[0m",
      "\u001b[0;31mTypeError\u001b[0m: can only concatenate str (not \"int\") to str"
     ]
    }
   ],
   "source": [
    "#This will break\n",
    "print(\"A\"+1)"
   ]
  },
  {
   "cell_type": "markdown",
   "metadata": {},
   "source": [
    "You can, however, convert an integer to a string using the function str(). This will change the type to string."
   ]
  },
  {
   "cell_type": "code",
   "execution_count": 19,
   "metadata": {},
   "outputs": [
    {
     "name": "stdout",
     "output_type": "stream",
     "text": [
      "A1\n"
     ]
    }
   ],
   "source": [
    "#You can add a string and a number by converting\n",
    "print(\"A\"+str(1))"
   ]
  },
  {
   "cell_type": "markdown",
   "metadata": {},
   "source": [
    "Likewise, a string could be converted to an integer by calling int() on a string. This will only work if the string could be a valid integer!"
   ]
  },
  {
   "cell_type": "code",
   "execution_count": 20,
   "metadata": {},
   "outputs": [
    {
     "data": {
      "text/plain": [
       "3"
      ]
     },
     "execution_count": 20,
     "metadata": {},
     "output_type": "execute_result"
    }
   ],
   "source": [
    "#int() converts a variable to an integer\n",
    "int(\"1\")+2"
   ]
  },
  {
   "cell_type": "markdown",
   "metadata": {},
   "source": [
    "## String Indexing\n",
    "\n",
    "In python, as well as other computer programming languages, we use indices to keep track of different pieces of data. These indices in python begin at 0 as the first element, followed by 1, 2, etc. By passing [i] where i is an index number, we get back the value at that index. For example to get the first letter of the string in \"Hello World\", we need to pass [0]."
   ]
  },
  {
   "cell_type": "code",
   "execution_count": 21,
   "metadata": {},
   "outputs": [
    {
     "name": "stdout",
     "output_type": "stream",
     "text": [
      "H\n"
     ]
    }
   ],
   "source": [
    "#Create the variable\n",
    "s = \"Hello World\"\n",
    "\n",
    "#Grab the first character, which is the letter H\n",
    "print(s[0])"
   ]
  },
  {
   "cell_type": "markdown",
   "metadata": {},
   "source": [
    "Likewise, the second element is found by calling [1]."
   ]
  },
  {
   "cell_type": "code",
   "execution_count": 22,
   "metadata": {},
   "outputs": [
    {
     "name": "stdout",
     "output_type": "stream",
     "text": [
      "e\n"
     ]
    }
   ],
   "source": [
    "#Get the second element\n",
    "print(s[1])"
   ]
  },
  {
   "cell_type": "markdown",
   "metadata": {},
   "source": [
    "You can also get a range of elements by calling [i1:i2] where i1 is the first element to include, and all elements from i1 to i2 - 1 are included. So i1:i2 means all elements from i1 to i2 excluding i2. In the following example, [0:2] returns the first and second characters."
   ]
  },
  {
   "cell_type": "code",
   "execution_count": 23,
   "metadata": {},
   "outputs": [
    {
     "name": "stdout",
     "output_type": "stream",
     "text": [
      "He\n"
     ]
    }
   ],
   "source": [
    "#Get the first and second characters\n",
    "print(s[0:2])"
   ]
  },
  {
   "cell_type": "code",
   "execution_count": 24,
   "metadata": {},
   "outputs": [
    {
     "name": "stdout",
     "output_type": "stream",
     "text": [
      "H\n"
     ]
    }
   ],
   "source": [
    "#Here i1=0 and i2=1, so we get only the first element\n",
    "print(s[0:1])"
   ]
  },
  {
   "cell_type": "code",
   "execution_count": 25,
   "metadata": {},
   "outputs": [
    {
     "name": "stdout",
     "output_type": "stream",
     "text": [
      "el\n"
     ]
    }
   ],
   "source": [
    "#Grab the second and third element\n",
    "print(s[1:3])"
   ]
  },
  {
   "cell_type": "markdown",
   "metadata": {},
   "source": [
    "If you leave out i1, it means grab all elements to the left of i2. It is the same as saying i1=0."
   ]
  },
  {
   "cell_type": "code",
   "execution_count": 26,
   "metadata": {},
   "outputs": [
    {
     "name": "stdout",
     "output_type": "stream",
     "text": [
      "Hel\n"
     ]
    }
   ],
   "source": [
    "#Leaving out the left index gives us everything up to but not including the right index\n",
    "print(s[:3])"
   ]
  },
  {
   "cell_type": "markdown",
   "metadata": {},
   "source": [
    "Likewise, leaving out i2 gives everything to the right of i1 including i1."
   ]
  },
  {
   "cell_type": "code",
   "execution_count": 27,
   "metadata": {},
   "outputs": [
    {
     "name": "stdout",
     "output_type": "stream",
     "text": [
      "lo World\n"
     ]
    }
   ],
   "source": [
    "#Leaving out the right index gives us everything from the left index on\n",
    "print(s[3:])"
   ]
  },
  {
   "cell_type": "markdown",
   "metadata": {},
   "source": [
    "If, instead of finding the largest index and subtracting, we wanted to have a simple way to say the last, second to last etc. index, we would use negative indexing. To get everything except the last element, we could use -1."
   ]
  },
  {
   "cell_type": "code",
   "execution_count": 28,
   "metadata": {},
   "outputs": [
    {
     "name": "stdout",
     "output_type": "stream",
     "text": [
      "Hello Worl\n"
     ]
    }
   ],
   "source": [
    "print(s[:-1])"
   ]
  },
  {
   "cell_type": "markdown",
   "metadata": {},
   "source": [
    "Likewise, -2 stands for the second to last element."
   ]
  },
  {
   "cell_type": "code",
   "execution_count": 29,
   "metadata": {},
   "outputs": [
    {
     "name": "stdout",
     "output_type": "stream",
     "text": [
      "Hello Wor\n"
     ]
    }
   ],
   "source": [
    "print(s[:-2])"
   ]
  },
  {
   "cell_type": "markdown",
   "metadata": {},
   "source": [
    "If we wanted to get the last five letters of a string:"
   ]
  },
  {
   "cell_type": "code",
   "execution_count": 30,
   "metadata": {},
   "outputs": [
    {
     "name": "stdout",
     "output_type": "stream",
     "text": [
      "World\n"
     ]
    }
   ],
   "source": [
    "print(s[-5:])"
   ]
  },
  {
   "cell_type": "markdown",
   "metadata": {},
   "source": [
    "### Finding the length of a string\n",
    "\n",
    "The len() function will return back the length of a string."
   ]
  },
  {
   "cell_type": "code",
   "execution_count": 31,
   "metadata": {},
   "outputs": [],
   "source": [
    "#Create a long string variable\n",
    "text = \"Technology is nothing. What's important is that you have a faith in people, that they're basically good and smart, and if you give them tools, they'll do wonderful things with them.\""
   ]
  },
  {
   "cell_type": "markdown",
   "metadata": {},
   "source": [
    "The len function returns the length of a string (as well as certain other variables)."
   ]
  },
  {
   "cell_type": "code",
   "execution_count": 32,
   "metadata": {},
   "outputs": [
    {
     "name": "stdout",
     "output_type": "stream",
     "text": [
      "181\n"
     ]
    }
   ],
   "source": [
    "#len() returns the length of something\n",
    "#In this case our string has 181 characters\n",
    "print(len(text))"
   ]
  },
  {
   "cell_type": "markdown",
   "metadata": {},
   "source": [
    "The string from before is way too long for one line, which is bad practice. For these cases, you can use triple quotes and multiple lines. These are called block quotes and are useful when you need multiple lines."
   ]
  },
  {
   "cell_type": "code",
   "execution_count": 33,
   "metadata": {},
   "outputs": [
    {
     "name": "stdout",
     "output_type": "stream",
     "text": [
      "Technology is nothing. What's important is that you have a faith in people,\n",
      "that they're basically good and smart, and if you give them tools, they'll do wonderful things with them.\n"
     ]
    }
   ],
   "source": [
    "#Block quotes let us write out a string on multiple lines\n",
    "text = \"\"\"Technology is nothing. What's important is that you have a faith in people,\n",
    "that they're basically good and smart, and if you give them tools, they'll do wonderful things with them.\"\"\"\n",
    "print(text)"
   ]
  },
  {
   "cell_type": "markdown",
   "metadata": {},
   "source": [
    "The lower() function which is called on the string object puts every single character into lowercase."
   ]
  },
  {
   "cell_type": "code",
   "execution_count": 34,
   "metadata": {},
   "outputs": [
    {
     "name": "stdout",
     "output_type": "stream",
     "text": [
      "technology is nothing. what's important is that you have a faith in people,\n",
      "that they're basically good and smart, and if you give them tools, they'll do wonderful things with them.\n"
     ]
    }
   ],
   "source": [
    "#lower() will lower the text for us\n",
    "print(text.lower())"
   ]
  },
  {
   "cell_type": "markdown",
   "metadata": {},
   "source": [
    "It is important to note that this does NOT modify it in place. If we print the string again it is still in its prior format."
   ]
  },
  {
   "cell_type": "code",
   "execution_count": 35,
   "metadata": {},
   "outputs": [
    {
     "name": "stdout",
     "output_type": "stream",
     "text": [
      "Technology is nothing. What's important is that you have a faith in people,\n",
      "that they're basically good and smart, and if you give them tools, they'll do wonderful things with them.\n"
     ]
    }
   ],
   "source": [
    "#It is not modified in place!\n",
    "print(text)"
   ]
  },
  {
   "cell_type": "code",
   "execution_count": 36,
   "metadata": {},
   "outputs": [
    {
     "name": "stdout",
     "output_type": "stream",
     "text": [
      "technology is nothing. what's important is that you have a faith in people,\n",
      "that they're basically good and smart, and if you give them tools, they'll do wonderful things with them.\n"
     ]
    }
   ],
   "source": [
    "#So if we want it to be permanent then we would say text equals the lowercased version\n",
    "text = text.lower()\n",
    "print(text)"
   ]
  },
  {
   "cell_type": "markdown",
   "metadata": {},
   "source": [
    "The upper function puts everything into uppercase."
   ]
  },
  {
   "cell_type": "code",
   "execution_count": 37,
   "metadata": {},
   "outputs": [
    {
     "name": "stdout",
     "output_type": "stream",
     "text": [
      "TECHNOLOGY IS NOTHING. WHAT'S IMPORTANT IS THAT YOU HAVE A FAITH IN PEOPLE,\n",
      "THAT THEY'RE BASICALLY GOOD AND SMART, AND IF YOU GIVE THEM TOOLS, THEY'LL DO WONDERFUL THINGS WITH THEM.\n"
     ]
    }
   ],
   "source": [
    "#Upper makes everything uppercased\n",
    "print(text.upper())"
   ]
  },
  {
   "cell_type": "code",
   "execution_count": 38,
   "metadata": {},
   "outputs": [],
   "source": [
    "#Bring back the original\n",
    "text = \"\"\"Technology is nothing. What's important is that you have a faith in people,\n",
    "that they're basically good and smart, and if you give them tools, they'll do wonderful things with them.\"\"\""
   ]
  },
  {
   "cell_type": "markdown",
   "metadata": {},
   "source": [
    "The find() function returns the index of a string within the string it is called on. Below, if we want to find the string is, we call it like below."
   ]
  },
  {
   "cell_type": "code",
   "execution_count": 39,
   "metadata": {},
   "outputs": [
    {
     "name": "stdout",
     "output_type": "stream",
     "text": [
      "11\n"
     ]
    }
   ],
   "source": [
    "#Find returns to us the index of a word we give it\n",
    "print(text.find(\"is\"))"
   ]
  },
  {
   "cell_type": "markdown",
   "metadata": {},
   "source": [
    "This is useful if, for example, we wanted all text after the word is."
   ]
  },
  {
   "cell_type": "code",
   "execution_count": 40,
   "metadata": {},
   "outputs": [
    {
     "name": "stdout",
     "output_type": "stream",
     "text": [
      "is nothing. What's important is that you have a faith in people,\n",
      "that they're basically good and smart, and if you give them tools, they'll do wonderful things with them.\n"
     ]
    }
   ],
   "source": [
    "#Get the index\n",
    "i = text.find(\"is\")\n",
    "\n",
    "#Get all text after\n",
    "print(text[i:])"
   ]
  },
  {
   "cell_type": "markdown",
   "metadata": {},
   "source": [
    "This function will only find the index of the first instance unless we pass a second argument which is the index to start looking after. If we pass 12 then we look for the word is after the index of 12."
   ]
  },
  {
   "cell_type": "code",
   "execution_count": 41,
   "metadata": {},
   "outputs": [
    {
     "name": "stdout",
     "output_type": "stream",
     "text": [
      "40\n"
     ]
    }
   ],
   "source": [
    "#We find that the next instance is at 40\n",
    "print(text.find(\"is\",12))"
   ]
  },
  {
   "cell_type": "code",
   "execution_count": 42,
   "metadata": {},
   "outputs": [
    {
     "name": "stdout",
     "output_type": "stream",
     "text": [
      "is that you have a faith in people,\n",
      "that they're basically good and smart, and if you give them tools, they'll do wonderful things with them.\n"
     ]
    }
   ],
   "source": [
    "#Get the index\n",
    "i = text.find(\"is\",12)\n",
    "\n",
    "#Get all text after\n",
    "print(text[i:])"
   ]
  },
  {
   "cell_type": "markdown",
   "metadata": {},
   "source": [
    "If the string is not in there then -1 will be returned."
   ]
  },
  {
   "cell_type": "code",
   "execution_count": 43,
   "metadata": {},
   "outputs": [
    {
     "name": "stdout",
     "output_type": "stream",
     "text": [
      "-1\n"
     ]
    }
   ],
   "source": [
    "print(text.find(\"sleep\"))"
   ]
  },
  {
   "cell_type": "markdown",
   "metadata": {},
   "source": [
    "A final function to look at is split. What this does is find all instances of a string and then splits the string up into pieces where that string is present. We have not learned about lists yet, so just take this as a sneak peak."
   ]
  },
  {
   "cell_type": "code",
   "execution_count": 44,
   "metadata": {},
   "outputs": [
    {
     "name": "stdout",
     "output_type": "stream",
     "text": [
      "[\"Technology is nothing. What's important is that you have a \", \" in people,\\nthat they're basically good and smart, and if you give them tools, they'll do wonderful things with them.\"]\n"
     ]
    }
   ],
   "source": [
    "#The split function returns the string split into pieces\n",
    "print(text.split('faith'))"
   ]
  },
  {
   "cell_type": "markdown",
   "metadata": {},
   "source": [
    "## Floating Point Numbers\n",
    "\n",
    "Floating point numbers are similar to integers except that they have decimal components. Integers on the other hand are only whole numbers."
   ]
  },
  {
   "cell_type": "code",
   "execution_count": 45,
   "metadata": {},
   "outputs": [
    {
     "name": "stdout",
     "output_type": "stream",
     "text": [
      "2.5\n",
      "<class 'float'>\n"
     ]
    }
   ],
   "source": [
    "#Create a number with a decimal\n",
    "a = 2.5\n",
    "\n",
    "#Print the number\n",
    "print(a)\n",
    "\n",
    "#The type is a float\n",
    "print(type(a))"
   ]
  },
  {
   "cell_type": "markdown",
   "metadata": {},
   "source": [
    "If we want to quickly set multiple variables to the same value we can have multiple equal signs and then all the variables to the left are set equal to the variable on the right."
   ]
  },
  {
   "cell_type": "code",
   "execution_count": 46,
   "metadata": {},
   "outputs": [
    {
     "name": "stdout",
     "output_type": "stream",
     "text": [
      "5\n",
      "5\n"
     ]
    }
   ],
   "source": [
    "#The way to define two variables with the same values\n",
    "a = b = 5\n",
    "print(a)\n",
    "print(b)"
   ]
  },
  {
   "cell_type": "markdown",
   "metadata": {},
   "source": [
    "To set two variables equal to different things at the same time you can use one equal sign and set multiple variables separated by commas to multiple values separated by values."
   ]
  },
  {
   "cell_type": "code",
   "execution_count": 47,
   "metadata": {},
   "outputs": [
    {
     "name": "stdout",
     "output_type": "stream",
     "text": [
      "10\n",
      "100\n"
     ]
    }
   ],
   "source": [
    "a, b = 10, 100\n",
    "print(a)\n",
    "print(b)"
   ]
  }
 ],
 "metadata": {
  "kernelspec": {
   "display_name": "Python 3",
   "language": "python",
   "name": "python3"
  },
  "language_info": {
   "codemirror_mode": {
    "name": "ipython",
    "version": 3
   },
   "file_extension": ".py",
   "mimetype": "text/x-python",
   "name": "python",
   "nbconvert_exporter": "python",
   "pygments_lexer": "ipython3",
   "version": "3.8.3"
  }
 },
 "nbformat": 4,
 "nbformat_minor": 2
}
