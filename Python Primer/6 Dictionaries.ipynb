{
 "cells": [
  {
   "cell_type": "markdown",
   "metadata": {},
   "source": [
    "# Dictionaries\n",
    "\n",
    "A dictionary is a data structure that holds keys and associated values for them. The structure of defining a dictionary is:\n",
    "\n",
    "<code>dictionary = {key_1: value_1,\n",
    "key_2: value_2,\n",
    "....\n",
    "key_n: value_n}</code>\n",
    "    \n",
    "Each of the keys is going to be unique when we do this. Let's do a first example where the two keys are first and last, and then the values are John and Doe."
   ]
  },
  {
   "cell_type": "code",
   "execution_count": 1,
   "metadata": {},
   "outputs": [],
   "source": [
    "#Define a dictionary\n",
    "name =  {\"First\":\"John\",\n",
    "         \"Last\":\"Doe\"}"
   ]
  },
  {
   "cell_type": "markdown",
   "metadata": {},
   "source": [
    "We can get the values for a given key by indexing with the key. The format is:\n",
    "\n",
    "<code>dictionary[key]</code>\n",
    "\n",
    "Let's see the value for first and last."
   ]
  },
  {
   "cell_type": "code",
   "execution_count": 2,
   "metadata": {},
   "outputs": [
    {
     "name": "stdout",
     "output_type": "stream",
     "text": [
      "John\n"
     ]
    }
   ],
   "source": [
    "#Find the value for First\n",
    "print(name[\"First\"])"
   ]
  },
  {
   "cell_type": "code",
   "execution_count": 3,
   "metadata": {},
   "outputs": [
    {
     "name": "stdout",
     "output_type": "stream",
     "text": [
      "Doe\n"
     ]
    }
   ],
   "source": [
    "#Find the value for Last\n",
    "print(name[\"Last\"])"
   ]
  },
  {
   "cell_type": "markdown",
   "metadata": {},
   "source": [
    "We will get an error if we try to find the value for a key which does not actually exist in the dictionary."
   ]
  },
  {
   "cell_type": "code",
   "execution_count": 4,
   "metadata": {},
   "outputs": [
    {
     "ename": "KeyError",
     "evalue": "'Middle'",
     "output_type": "error",
     "traceback": [
      "\u001b[0;31m---------------------------------------------------------------------------\u001b[0m",
      "\u001b[0;31mKeyError\u001b[0m                                  Traceback (most recent call last)",
      "\u001b[0;32m<ipython-input-4-c079bbee29c2>\u001b[0m in \u001b[0;36m<module>\u001b[0;34m\u001b[0m\n\u001b[1;32m      1\u001b[0m \u001b[0;31m#We will get a key error if we don't have the key in our dictionary\u001b[0m\u001b[0;34m\u001b[0m\u001b[0;34m\u001b[0m\u001b[0;34m\u001b[0m\u001b[0m\n\u001b[0;32m----> 2\u001b[0;31m \u001b[0mprint\u001b[0m\u001b[0;34m(\u001b[0m\u001b[0mname\u001b[0m\u001b[0;34m[\u001b[0m\u001b[0;34m\"Middle\"\u001b[0m\u001b[0;34m]\u001b[0m\u001b[0;34m)\u001b[0m\u001b[0;34m\u001b[0m\u001b[0;34m\u001b[0m\u001b[0m\n\u001b[0m",
      "\u001b[0;31mKeyError\u001b[0m: 'Middle'"
     ]
    }
   ],
   "source": [
    "#We will get a key error if we don't have the key in our dictionary\n",
    "print(name[\"Middle\"])"
   ]
  },
  {
   "cell_type": "markdown",
   "metadata": {},
   "source": [
    "## Adding a Key\n",
    "\n",
    "You can add a key and value pair to a dictionary by doing the following:\n",
    "\n",
    "<code>dictionary[key] = value</code>\n",
    "\n",
    "Now, add in the key for \"Middle\" and define it as Edgar."
   ]
  },
  {
   "cell_type": "code",
   "execution_count": 5,
   "metadata": {},
   "outputs": [
    {
     "name": "stdout",
     "output_type": "stream",
     "text": [
      "Edgar\n"
     ]
    }
   ],
   "source": [
    "#You can assign a value to a key by indexing with brackets then passing the key a value\n",
    "name[\"Middle\"] = \"Edgar\"\n",
    "\n",
    "#Print the value\n",
    "print(name[\"Middle\"])"
   ]
  },
  {
   "cell_type": "markdown",
   "metadata": {},
   "source": [
    "If you print out a dictionary you get to see all the pairs of keys and values."
   ]
  },
  {
   "cell_type": "code",
   "execution_count": 6,
   "metadata": {},
   "outputs": [
    {
     "name": "stdout",
     "output_type": "stream",
     "text": [
      "{'First': 'John', 'Last': 'Doe', 'Middle': 'Edgar'}\n"
     ]
    }
   ],
   "source": [
    "#Now our dictionary has three key value pairs\n",
    "print(name)"
   ]
  },
  {
   "cell_type": "markdown",
   "metadata": {},
   "source": [
    "You also can overwrite a value if you want. Let's change middle to be Michael."
   ]
  },
  {
   "cell_type": "code",
   "execution_count": 7,
   "metadata": {},
   "outputs": [
    {
     "name": "stdout",
     "output_type": "stream",
     "text": [
      "{'First': 'John', 'Last': 'Doe', 'Middle': 'Michael'}\n"
     ]
    }
   ],
   "source": [
    "#Change middle to Michael\n",
    "name['Middle'] = \"Michael\"\n",
    "print(name)"
   ]
  },
  {
   "cell_type": "markdown",
   "metadata": {},
   "source": [
    "## Getting Keys and Values\n",
    "\n",
    "There are two dictionary functions that are very useful, keys() and values(). The first one returns all the keys in the dictionary and then values returns all the values in dictionary."
   ]
  },
  {
   "cell_type": "code",
   "execution_count": 8,
   "metadata": {},
   "outputs": [
    {
     "name": "stdout",
     "output_type": "stream",
     "text": [
      "dict_keys(['First', 'Last', 'Middle'])\n"
     ]
    }
   ],
   "source": [
    "#Calling keys on the dictionary returns the keys\n",
    "print(name.keys())"
   ]
  },
  {
   "cell_type": "code",
   "execution_count": 9,
   "metadata": {},
   "outputs": [
    {
     "name": "stdout",
     "output_type": "stream",
     "text": [
      "dict_values(['John', 'Doe', 'Michael'])\n"
     ]
    }
   ],
   "source": [
    "#Calling values on the dictionary returns the values of the dictionary\n",
    "print(name.values())"
   ]
  },
  {
   "cell_type": "markdown",
   "metadata": {},
   "source": [
    "## Deleting a Key\n",
    "\n",
    "Using del followed by the dictionary indexed by a key will delete that key-value pair. The format of it is:\n",
    "\n",
    "<code>del dictionary[key]</code>"
   ]
  },
  {
   "cell_type": "code",
   "execution_count": 10,
   "metadata": {},
   "outputs": [
    {
     "name": "stdout",
     "output_type": "stream",
     "text": [
      "{'First': 'John', 'Last': 'Doe'}\n"
     ]
    }
   ],
   "source": [
    "#del deletes a key value pair\n",
    "del name[\"Middle\"]\n",
    "print(name)"
   ]
  },
  {
   "cell_type": "markdown",
   "metadata": {},
   "source": [
    "The len() function returns the number of pairs of keys and values."
   ]
  },
  {
   "cell_type": "code",
   "execution_count": 11,
   "metadata": {},
   "outputs": [
    {
     "name": "stdout",
     "output_type": "stream",
     "text": [
      "2\n"
     ]
    }
   ],
   "source": [
    "#Len returns the number of pairs\n",
    "print(len(name))"
   ]
  },
  {
   "cell_type": "markdown",
   "metadata": {},
   "source": [
    "## Checking Keys\n",
    "\n",
    "If you want to check whether or not a key exists you can call the following and get back True/False:\n",
    "\n",
    "<code>key in dictionary</code>"
   ]
  },
  {
   "cell_type": "code",
   "execution_count": 12,
   "metadata": {},
   "outputs": [
    {
     "name": "stdout",
     "output_type": "stream",
     "text": [
      "True\n"
     ]
    }
   ],
   "source": [
    "#If we ask if something is in a dictionary we check if it's in the keys\n",
    "print('First' in name)"
   ]
  },
  {
   "cell_type": "code",
   "execution_count": 13,
   "metadata": {},
   "outputs": [
    {
     "name": "stdout",
     "output_type": "stream",
     "text": [
      "False\n"
     ]
    }
   ],
   "source": [
    "#Middle is not a key in the dictionary\n",
    "print('Middle' in name)"
   ]
  },
  {
   "cell_type": "markdown",
   "metadata": {},
   "source": [
    "This will NOT return whether or not a value is in the dictionary. Below we get back False because while it is a value it is not a key."
   ]
  },
  {
   "cell_type": "code",
   "execution_count": 14,
   "metadata": {},
   "outputs": [
    {
     "name": "stdout",
     "output_type": "stream",
     "text": [
      "False\n"
     ]
    }
   ],
   "source": [
    "#John is a value in the dictionary but not a key, so we get false here\n",
    "print('John' in name)"
   ]
  },
  {
   "cell_type": "markdown",
   "metadata": {},
   "source": [
    "It can be checked in terms of whether or not it is in values by doing the same but modifying the dictionary to be dictionary.values()"
   ]
  },
  {
   "cell_type": "code",
   "execution_count": 15,
   "metadata": {},
   "outputs": [
    {
     "name": "stdout",
     "output_type": "stream",
     "text": [
      "True\n"
     ]
    }
   ],
   "source": [
    "#This will return true\n",
    "print('John' in name.values())"
   ]
  },
  {
   "cell_type": "markdown",
   "metadata": {},
   "source": [
    "### Example\n",
    "\n",
    "An example bringing this all together is a function that checks if the key is in keys then prints the value, otherwise it checks if it is a value and in that case it just prints the value. If neither is true then it prints that is in neither."
   ]
  },
  {
   "cell_type": "code",
   "execution_count": 16,
   "metadata": {},
   "outputs": [
    {
     "name": "stdout",
     "output_type": "stream",
     "text": [
      "John\n",
      "The key is not in the dictionary or in the values\n",
      "John\n"
     ]
    }
   ],
   "source": [
    "#Example: Printing the value of a key, or if the value is not a key but in the dictionary the key\n",
    "def dictPrint(dictionary, key):\n",
    "    if key in dictionary:\n",
    "        print(dictionary[key])\n",
    "    elif key in dictionary.values():\n",
    "        print(key)\n",
    "    else:\n",
    "        print(\"The key is not in the dictionary or in the values\")\n",
    "dictPrint(name,'First')\n",
    "dictPrint(name,'Middle')\n",
    "dictPrint(name,'John')"
   ]
  },
  {
   "cell_type": "markdown",
   "metadata": {},
   "source": [
    "## For Loops and Dictionaries\n",
    "\n",
    "When you call a loop on a dictionary it is going to iterate over the keys."
   ]
  },
  {
   "cell_type": "code",
   "execution_count": 17,
   "metadata": {},
   "outputs": [
    {
     "name": "stdout",
     "output_type": "stream",
     "text": [
      "First\n",
      "Last\n"
     ]
    }
   ],
   "source": [
    "#If you iterate over a dictionary you iterate over the keys\n",
    "for x in name:\n",
    "    print(x)"
   ]
  },
  {
   "cell_type": "markdown",
   "metadata": {},
   "source": [
    "Finally, tuples could be used for a key if you wanted. For example, here we are defining keys that are 2 element tuples for names. By then indexing with one of those tuples we get back the value."
   ]
  },
  {
   "cell_type": "code",
   "execution_count": 18,
   "metadata": {},
   "outputs": [
    {
     "name": "stdout",
     "output_type": "stream",
     "text": [
      "{('John', 'Doe'): 'A', ('Mary', 'Smith'): 'B+'}\n",
      "A\n"
     ]
    }
   ],
   "source": [
    "#You could also have a key that is more complex like a tuple taking first and last name\n",
    "grades = {}\n",
    "grades[(\"John\",\"Doe\")] = \"A\"\n",
    "grades[(\"Mary\",\"Smith\")] = \"B+\"\n",
    "print(grades)\n",
    "print(grades[(\"John\",\"Doe\")])"
   ]
  },
  {
   "cell_type": "markdown",
   "metadata": {},
   "source": [
    "This will not work if we feed just an element of the name. We have to use (\"John\", \"Doe\"), \"John\" will not work. The code below will fail."
   ]
  },
  {
   "cell_type": "code",
   "execution_count": 19,
   "metadata": {},
   "outputs": [
    {
     "ename": "KeyError",
     "evalue": "'John'",
     "output_type": "error",
     "traceback": [
      "\u001b[0;31m---------------------------------------------------------------------------\u001b[0m",
      "\u001b[0;31mKeyError\u001b[0m                                  Traceback (most recent call last)",
      "\u001b[0;32m<ipython-input-19-7be44dadf683>\u001b[0m in \u001b[0;36m<module>\u001b[0;34m\u001b[0m\n\u001b[1;32m      1\u001b[0m \u001b[0;31m#Notice we get an error if we use just the name John for the key\u001b[0m\u001b[0;34m\u001b[0m\u001b[0;34m\u001b[0m\u001b[0;34m\u001b[0m\u001b[0m\n\u001b[0;32m----> 2\u001b[0;31m \u001b[0mprint\u001b[0m\u001b[0;34m(\u001b[0m\u001b[0mgrades\u001b[0m\u001b[0;34m[\u001b[0m\u001b[0;34m\"John\"\u001b[0m\u001b[0;34m]\u001b[0m\u001b[0;34m)\u001b[0m\u001b[0;34m\u001b[0m\u001b[0;34m\u001b[0m\u001b[0m\n\u001b[0m",
      "\u001b[0;31mKeyError\u001b[0m: 'John'"
     ]
    }
   ],
   "source": [
    "#Notice we get an error if we use just the name John for the key\n",
    "print(grades[\"John\"])"
   ]
  }
 ],
 "metadata": {
  "kernelspec": {
   "display_name": "Python 3",
   "language": "python",
   "name": "python3"
  },
  "language_info": {
   "codemirror_mode": {
    "name": "ipython",
    "version": 3
   },
   "file_extension": ".py",
   "mimetype": "text/x-python",
   "name": "python",
   "nbconvert_exporter": "python",
   "pygments_lexer": "ipython3",
   "version": "3.8.3"
  }
 },
 "nbformat": 4,
 "nbformat_minor": 2
}
