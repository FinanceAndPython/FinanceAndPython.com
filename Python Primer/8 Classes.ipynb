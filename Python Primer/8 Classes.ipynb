{
 "cells": [
  {
   "cell_type": "markdown",
   "metadata": {},
   "source": [
    "# Classes\n",
    "\n",
    "Classes are what we use to make the blueprints of objects. Let's start with absolute basics, you define a class similar to functions with the following format followed by any definitions:\n",
    "\n",
    "<code>class ClassName:</code>\n",
    "\n",
    "Let's just say pass for now, we are going to define nothing about this class just yet."
   ]
  },
  {
   "cell_type": "code",
   "execution_count": 1,
   "metadata": {},
   "outputs": [],
   "source": [
    "#The way to define a class is class followed by the name of the class\n",
    "#Here we define a person class\n",
    "class Person:\n",
    "    pass"
   ]
  },
  {
   "cell_type": "markdown",
   "metadata": {},
   "source": [
    "## Creating Class Objects\n",
    "\n",
    "You call a class like a function with the parentheses holding any arguments and this will make an instance of that class. Below is how we can make an instance of the class."
   ]
  },
  {
   "cell_type": "code",
   "execution_count": 2,
   "metadata": {},
   "outputs": [],
   "source": [
    "#The way to define a class object is as so\n",
    "carl = Person()"
   ]
  },
  {
   "cell_type": "code",
   "execution_count": 3,
   "metadata": {},
   "outputs": [
    {
     "name": "stdout",
     "output_type": "stream",
     "text": [
      "<__main__.Person object at 0x105ffee20>\n"
     ]
    }
   ],
   "source": [
    "#You don't get too much out of the class object printing\n",
    "print(carl)"
   ]
  },
  {
   "cell_type": "markdown",
   "metadata": {},
   "source": [
    "## Class Functions\n",
    "\n",
    "Functions are created in the class the same way as regular functions are defined except they need to be within the tabbed area, and all class functions begin with the self argument. Below we show how to add a function that prints out hi."
   ]
  },
  {
   "cell_type": "code",
   "execution_count": 4,
   "metadata": {},
   "outputs": [],
   "source": [
    "#If you define a function within a class you can then use that function for the class\n",
    "#You have to give the argument self for the function in the class meaning pass the class object to the function\n",
    "class Person:\n",
    "    def say_hi(self):\n",
    "        print(\"Hi\")"
   ]
  },
  {
   "cell_type": "markdown",
   "metadata": {},
   "source": [
    "The way we call the function is to write the instance of the class object followed by a period followed by the function. One thing to note is that the code below fails because we created the object using the old definition. It is important to note that if you change the definition of a class you need to re-define the objects you made to reflect that. So this first code is no good....."
   ]
  },
  {
   "cell_type": "code",
   "execution_count": 5,
   "metadata": {},
   "outputs": [
    {
     "ename": "AttributeError",
     "evalue": "'Person' object has no attribute 'say_hi'",
     "output_type": "error",
     "traceback": [
      "\u001b[0;31m---------------------------------------------------------------------------\u001b[0m",
      "\u001b[0;31mAttributeError\u001b[0m                            Traceback (most recent call last)",
      "\u001b[0;32m<ipython-input-5-4c3d9367fa49>\u001b[0m in \u001b[0;36m<module>\u001b[0;34m\u001b[0m\n\u001b[1;32m      1\u001b[0m \u001b[0;31m#We get an error if we call it right away, because our object was defined with a previous class definition\u001b[0m\u001b[0;34m\u001b[0m\u001b[0;34m\u001b[0m\u001b[0;34m\u001b[0m\u001b[0m\n\u001b[0;32m----> 2\u001b[0;31m \u001b[0mcarl\u001b[0m\u001b[0;34m.\u001b[0m\u001b[0msay_hi\u001b[0m\u001b[0;34m(\u001b[0m\u001b[0;34m)\u001b[0m\u001b[0;34m\u001b[0m\u001b[0;34m\u001b[0m\u001b[0m\n\u001b[0m",
      "\u001b[0;31mAttributeError\u001b[0m: 'Person' object has no attribute 'say_hi'"
     ]
    }
   ],
   "source": [
    "#We get an error if we call it right away, because our object was defined with a previous class definition\n",
    "carl.say_hi()"
   ]
  },
  {
   "cell_type": "markdown",
   "metadata": {},
   "source": [
    "This will work though...."
   ]
  },
  {
   "cell_type": "code",
   "execution_count": 6,
   "metadata": {},
   "outputs": [
    {
     "name": "stdout",
     "output_type": "stream",
     "text": [
      "Hi\n"
     ]
    }
   ],
   "source": [
    "#Now it should be good to go\n",
    "carl = Person()\n",
    "carl.say_hi()"
   ]
  },
  {
   "cell_type": "markdown",
   "metadata": {},
   "source": [
    "# Attributes\n",
    "\n",
    "Classes can have attributes defined to hold different variables. This is done within the tabbed area Below, we can make an attribute of age and set it to 15."
   ]
  },
  {
   "cell_type": "code",
   "execution_count": 7,
   "metadata": {},
   "outputs": [],
   "source": [
    "class Person:\n",
    "    age = 15\n",
    "    \n",
    "    def say_hi(self):\n",
    "        print(\"Hi\")"
   ]
  },
  {
   "cell_type": "markdown",
   "metadata": {},
   "source": [
    "We can access this variable from a class object we define."
   ]
  },
  {
   "cell_type": "code",
   "execution_count": 8,
   "metadata": {},
   "outputs": [
    {
     "name": "stdout",
     "output_type": "stream",
     "text": [
      "15\n"
     ]
    }
   ],
   "source": [
    "carl = Person()\n",
    "print(carl.age)"
   ]
  },
  {
   "cell_type": "markdown",
   "metadata": {},
   "source": [
    "If we want to use an attribute from a class within a class function, we need to preface it with self. The function below, tell_age, uses the attribute age by doing self.age."
   ]
  },
  {
   "cell_type": "code",
   "execution_count": 9,
   "metadata": {},
   "outputs": [],
   "source": [
    "class Person:\n",
    "    age = 15\n",
    "    \n",
    "    def say_hi(self):\n",
    "        print(\"Hi\")\n",
    "        \n",
    "    def tell_age(self):\n",
    "        print(\"I am {} years old.\".format(self.age))"
   ]
  },
  {
   "cell_type": "markdown",
   "metadata": {},
   "source": [
    "Create two class instances and have them both say their age."
   ]
  },
  {
   "cell_type": "code",
   "execution_count": 10,
   "metadata": {},
   "outputs": [
    {
     "name": "stdout",
     "output_type": "stream",
     "text": [
      "I am 15 years old.\n",
      "I am 15 years old.\n"
     ]
    }
   ],
   "source": [
    "carl = Person()\n",
    "carl.tell_age()\n",
    "tom = Person()\n",
    "tom.tell_age()"
   ]
  },
  {
   "cell_type": "markdown",
   "metadata": {},
   "source": [
    "You can overwrite an attribute in an instance of class, and it will not change another instance's attribute. Below we do this with changing carl's age to 20, and seeing that dan still has the age of 15."
   ]
  },
  {
   "cell_type": "code",
   "execution_count": 11,
   "metadata": {},
   "outputs": [
    {
     "name": "stdout",
     "output_type": "stream",
     "text": [
      "I am 15 years old.\n",
      "I am 20 years old.\n",
      "I am 15 years old.\n"
     ]
    }
   ],
   "source": [
    "dan = Person()\n",
    "dan.tell_age()\n",
    "\n",
    "#If we assign a value over the current one we get a different result\n",
    "carl = Person()\n",
    "carl.age = 20\n",
    "carl.tell_age()\n",
    "\n",
    "#But the attribute stays the same for Dan\n",
    "dan.tell_age()"
   ]
  },
  {
   "cell_type": "markdown",
   "metadata": {},
   "source": [
    "## Class Initialization\n",
    "\n",
    "A class can be set up to accept arguments to set up some basic attributes and other things set up when it is created. This is done by using the \\_\\_init__ class function and passing self followed by any arguments that you want to require for the class. Let's set up our person to now take age as an argument."
   ]
  },
  {
   "cell_type": "code",
   "execution_count": 12,
   "metadata": {},
   "outputs": [],
   "source": [
    "#Using __init__ let's us set up an initialization\n",
    "#We pass it arguments and then we can use those to set attributes or properties\n",
    "#Here we pass an age attribute and give it to our class object\n",
    "class Person:\n",
    "    def __init__(self, age):\n",
    "        self.age = age\n",
    "    \n",
    "    def say_hi(self):\n",
    "        print(\"Hi\")\n",
    "        \n",
    "    def tell_age(self):\n",
    "        print(\"I am {} years old.\".format(self.age))"
   ]
  },
  {
   "cell_type": "markdown",
   "metadata": {},
   "source": [
    "When we create a class instance, we have to pass in the age for it work."
   ]
  },
  {
   "cell_type": "code",
   "execution_count": 13,
   "metadata": {},
   "outputs": [
    {
     "name": "stdout",
     "output_type": "stream",
     "text": [
      "I am 25 years old.\n"
     ]
    }
   ],
   "source": [
    "#Now Carl is 25 years old\n",
    "Carl = Person(25)\n",
    "Carl.tell_age()"
   ]
  },
  {
   "cell_type": "markdown",
   "metadata": {},
   "source": [
    "What about doing age in terms of number of days? We can do that too by dividing by 365 from the days."
   ]
  },
  {
   "cell_type": "code",
   "execution_count": 14,
   "metadata": {},
   "outputs": [
    {
     "name": "stdout",
     "output_type": "stream",
     "text": [
      "I am 27.397260273972602 years old.\n"
     ]
    }
   ],
   "source": [
    "class Person:\n",
    "    def __init__(self, days):\n",
    "        self.age = days / 365\n",
    "    \n",
    "    def say_hi(self):\n",
    "        print(\"Hi\")\n",
    "        \n",
    "    def tell_age(self):\n",
    "        print(\"I am {} years old.\".format(self.age))\n",
    "        \n",
    "carl = Person(10000)\n",
    "carl.tell_age()"
   ]
  },
  {
   "cell_type": "markdown",
   "metadata": {},
   "source": [
    "One problem is that we do not know if we are going to get the correct input. A good practice would be to force the type to be something like, say integer. Let's switch it back to the way from before and ensure that if we give it a string \"fish\" that it will fail."
   ]
  },
  {
   "cell_type": "code",
   "execution_count": 15,
   "metadata": {},
   "outputs": [],
   "source": [
    "class Person:\n",
    "    def __init__(self, age):\n",
    "        assert type(age) == int, \"Age must be an integer\"\n",
    "        self.age = age\n",
    "    \n",
    "    def say_hi(self):\n",
    "        print(\"Hi\")\n",
    "        \n",
    "    def tell_age(self):\n",
    "        print(\"I am {} years old.\".format(self.age))"
   ]
  },
  {
   "cell_type": "code",
   "execution_count": 16,
   "metadata": {},
   "outputs": [
    {
     "ename": "AssertionError",
     "evalue": "Age must be an integer",
     "output_type": "error",
     "traceback": [
      "\u001b[0;31m---------------------------------------------------------------------------\u001b[0m",
      "\u001b[0;31mAssertionError\u001b[0m                            Traceback (most recent call last)",
      "\u001b[0;32m<ipython-input-16-92acaa32ab7f>\u001b[0m in \u001b[0;36m<module>\u001b[0;34m\u001b[0m\n\u001b[1;32m      1\u001b[0m \u001b[0;31m#This will fail\u001b[0m\u001b[0;34m\u001b[0m\u001b[0;34m\u001b[0m\u001b[0;34m\u001b[0m\u001b[0m\n\u001b[0;32m----> 2\u001b[0;31m \u001b[0mcarl\u001b[0m \u001b[0;34m=\u001b[0m \u001b[0mPerson\u001b[0m\u001b[0;34m(\u001b[0m\u001b[0;34m\"Fish\"\u001b[0m\u001b[0;34m)\u001b[0m\u001b[0;34m\u001b[0m\u001b[0;34m\u001b[0m\u001b[0m\n\u001b[0m\u001b[1;32m      3\u001b[0m \u001b[0mcarl\u001b[0m\u001b[0;34m.\u001b[0m\u001b[0mtell_age\u001b[0m\u001b[0;34m(\u001b[0m\u001b[0;34m)\u001b[0m\u001b[0;34m\u001b[0m\u001b[0;34m\u001b[0m\u001b[0m\n",
      "\u001b[0;32m<ipython-input-15-1f81541ad6dc>\u001b[0m in \u001b[0;36m__init__\u001b[0;34m(self, age)\u001b[0m\n\u001b[1;32m      1\u001b[0m \u001b[0;32mclass\u001b[0m \u001b[0mPerson\u001b[0m\u001b[0;34m:\u001b[0m\u001b[0;34m\u001b[0m\u001b[0;34m\u001b[0m\u001b[0m\n\u001b[1;32m      2\u001b[0m     \u001b[0;32mdef\u001b[0m \u001b[0m__init__\u001b[0m\u001b[0;34m(\u001b[0m\u001b[0mself\u001b[0m\u001b[0;34m,\u001b[0m \u001b[0mage\u001b[0m\u001b[0;34m)\u001b[0m\u001b[0;34m:\u001b[0m\u001b[0;34m\u001b[0m\u001b[0;34m\u001b[0m\u001b[0m\n\u001b[0;32m----> 3\u001b[0;31m         \u001b[0;32massert\u001b[0m \u001b[0mtype\u001b[0m\u001b[0;34m(\u001b[0m\u001b[0mage\u001b[0m\u001b[0;34m)\u001b[0m \u001b[0;34m==\u001b[0m \u001b[0mint\u001b[0m\u001b[0;34m,\u001b[0m \u001b[0;34m\"Age must be an integer\"\u001b[0m\u001b[0;34m\u001b[0m\u001b[0;34m\u001b[0m\u001b[0m\n\u001b[0m\u001b[1;32m      4\u001b[0m         \u001b[0mself\u001b[0m\u001b[0;34m.\u001b[0m\u001b[0mage\u001b[0m \u001b[0;34m=\u001b[0m \u001b[0mage\u001b[0m\u001b[0;34m\u001b[0m\u001b[0;34m\u001b[0m\u001b[0m\n\u001b[1;32m      5\u001b[0m \u001b[0;34m\u001b[0m\u001b[0m\n",
      "\u001b[0;31mAssertionError\u001b[0m: Age must be an integer"
     ]
    }
   ],
   "source": [
    "#This will fail\n",
    "carl = Person(\"Fish\")\n",
    "carl.tell_age()"
   ]
  },
  {
   "cell_type": "code",
   "execution_count": 17,
   "metadata": {},
   "outputs": [
    {
     "name": "stdout",
     "output_type": "stream",
     "text": [
      "I am 25 years old.\n"
     ]
    }
   ],
   "source": [
    "#This will work\n",
    "carl = Person(25)\n",
    "carl.tell_age()"
   ]
  },
  {
   "cell_type": "markdown",
   "metadata": {},
   "source": [
    "What about a name for our person? We will do the same as before."
   ]
  },
  {
   "cell_type": "code",
   "execution_count": 18,
   "metadata": {},
   "outputs": [
    {
     "name": "stdout",
     "output_type": "stream",
     "text": [
      "I am 25 years old.\n"
     ]
    }
   ],
   "source": [
    "class Person:\n",
    "    def __init__(self, age, name):\n",
    "        assert type(age) == int, \"Age must be an integer\"\n",
    "        assert type(name) == str, \"Name must be a string\"\n",
    "        \n",
    "        self.age = age\n",
    "        self.name = name\n",
    "        \n",
    "    def say_hi(self):\n",
    "        print(\"Hi\")\n",
    "        \n",
    "    def tell_age(self):\n",
    "        print(\"I am {} years old.\".format(self.age))\n",
    "\n",
    "carl = Person(25, \"Carl\")\n",
    "carl.tell_age()"
   ]
  },
  {
   "cell_type": "markdown",
   "metadata": {},
   "source": [
    "In case someone has a birthday, or they entered the wrong age, the ability to set the age would be useful. Let's also add this function."
   ]
  },
  {
   "cell_type": "code",
   "execution_count": 19,
   "metadata": {},
   "outputs": [
    {
     "name": "stdout",
     "output_type": "stream",
     "text": [
      "I am 25 years old.\n",
      "I am 26 years old.\n"
     ]
    }
   ],
   "source": [
    "class Person:\n",
    "    def __init__(self, age, name):\n",
    "        assert type(age) == int, \"Age must be an integer\"\n",
    "        assert type(name) == str, \"Name must be a string\"\n",
    "        \n",
    "        self.age = age\n",
    "        self.name = name\n",
    "        \n",
    "    def say_hi(self):\n",
    "        print(\"Hi\")\n",
    "        \n",
    "    def tell_age(self):\n",
    "        print(\"I am {} years old.\".format(self.age))\n",
    "    \n",
    "    def set_age(self, age):\n",
    "        assert type(age) == int, \"Age must be an integer\"\n",
    "        self.age = age\n",
    "\n",
    "#Create person\n",
    "carl = Person(25, \"Carl\")\n",
    "\n",
    "#Get the age\n",
    "carl.tell_age()\n",
    "\n",
    "#Change the age\n",
    "carl.set_age(26)\n",
    "\n",
    "#Get the age again\n",
    "carl.tell_age()"
   ]
  },
  {
   "cell_type": "markdown",
   "metadata": {},
   "source": [
    "## The \\_\\_str__ Function\n",
    "\n",
    "The purpose of the \\_\\_str__ is to define what happens when you print a class instance. Right now it is nothing useful, but when you define the \\_\\_str__ you can decide what it should be. The way you do this is add it into the class declaration then return whatever should be outputted. Below, we make the function return the name."
   ]
  },
  {
   "cell_type": "code",
   "execution_count": 20,
   "metadata": {},
   "outputs": [
    {
     "name": "stdout",
     "output_type": "stream",
     "text": [
      "Carl\n"
     ]
    }
   ],
   "source": [
    "class Person:\n",
    "    def __init__(self, age, name):\n",
    "        assert type(age) == int, \"Age must be an integer\"\n",
    "        assert type(name) == str, \"Name must be a string\"\n",
    "        \n",
    "        self.age = age\n",
    "        self.name = name\n",
    "        \n",
    "    def say_hi(self):\n",
    "        print(\"Hi\")\n",
    "        \n",
    "    def tell_age(self):\n",
    "        print(\"I am {} years old.\".format(self.age))\n",
    "    \n",
    "    def set_age(self, age):\n",
    "        assert type(age) == int, \"Age must be an integer\"\n",
    "        self.age = age\n",
    "        \n",
    "    def __str__(self):\n",
    "        return self.name\n",
    "    \n",
    "#Create the class instance\n",
    "carl = Person(25, \"Carl\")\n",
    "\n",
    "#Print it\n",
    "print(carl)"
   ]
  },
  {
   "cell_type": "markdown",
   "metadata": {},
   "source": [
    "# Sub-Classes and Inheritance\n",
    "\n",
    "One way to extend a class is to create sub-classes. These classes inherit all the functionality of the class they were created off of while allowing for extensions of functionality. We define it by modifying the first line of the class definition to include the class to inherit from in parentheses. Below we create a class Student which is a sub-class of the Person class. Then we can make a function which takes as an argument college and returns a phrase that the person says including their name."
   ]
  },
  {
   "cell_type": "code",
   "execution_count": 21,
   "metadata": {},
   "outputs": [],
   "source": [
    "#Create a sub-class\n",
    "class Student(Person):\n",
    "    def college_talk(self, college):\n",
    "        print(\"I'm {} and I go to {}\".format(self.name, college))"
   ]
  },
  {
   "cell_type": "markdown",
   "metadata": {},
   "source": [
    "When we create the instance of the student, we also are going to need to still pass in the same initialization arguments."
   ]
  },
  {
   "cell_type": "code",
   "execution_count": 22,
   "metadata": {},
   "outputs": [
    {
     "name": "stdout",
     "output_type": "stream",
     "text": [
      "I'm Joe Smith and I go to Harvard\n"
     ]
    }
   ],
   "source": [
    "#Create the instance and then run the sub-class function\n",
    "joe = Student(22, \"Joe Smith\")\n",
    "joe.college_talk(\"Harvard\")"
   ]
  },
  {
   "cell_type": "markdown",
   "metadata": {},
   "source": [
    "Of course we also can use any of the functions that it had inherited too."
   ]
  },
  {
   "cell_type": "code",
   "execution_count": 23,
   "metadata": {},
   "outputs": [
    {
     "name": "stdout",
     "output_type": "stream",
     "text": [
      "I am 22 years old.\n"
     ]
    }
   ],
   "source": [
    "joe.tell_age()"
   ]
  },
  {
   "cell_type": "markdown",
   "metadata": {},
   "source": [
    "## Adding More Initialization\n",
    "\n",
    "In the case that we want to add specific initialization to our sub-class, we can do the following:\n",
    "\n",
    "1. Create the \\_\\_init__ function to accept the arguments for the super class as well as any new arguments.\n",
    "2. Call super().\\_\\_init__() and pass in any arguments needed for the super class.\n",
    "3. Do any other definitions as needed for the sub-class.\n",
    "\n",
    "Below we do just that by adding a college argument and then modifying the function from before to report back that college we set the student up with."
   ]
  },
  {
   "cell_type": "code",
   "execution_count": 24,
   "metadata": {},
   "outputs": [
    {
     "name": "stdout",
     "output_type": "stream",
     "text": [
      "I'm Joe Smith and I go to Harvard\n"
     ]
    }
   ],
   "source": [
    "class Student(Person):\n",
    "    def __init__(self, age, name, college):\n",
    "        super().__init__(age, name)\n",
    "        self.college = college\n",
    "    def college_talk(self):\n",
    "        print(\"I'm {} and I go to {}\".format(self.name, self.college))\n",
    "\n",
    "joe = Student(22, \"Joe Smith\", \"Harvard\")\n",
    "joe.college_talk()"
   ]
  }
 ],
 "metadata": {
  "kernelspec": {
   "display_name": "Python 3",
   "language": "python",
   "name": "python3"
  },
  "language_info": {
   "codemirror_mode": {
    "name": "ipython",
    "version": 3
   },
   "file_extension": ".py",
   "mimetype": "text/x-python",
   "name": "python",
   "nbconvert_exporter": "python",
   "pygments_lexer": "ipython3",
   "version": "3.8.3"
  }
 },
 "nbformat": 4,
 "nbformat_minor": 2
}
