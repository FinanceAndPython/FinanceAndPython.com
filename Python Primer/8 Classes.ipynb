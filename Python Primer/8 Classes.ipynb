{
 "cells": [
  {
   "cell_type": "markdown",
   "metadata": {},
   "source": [
    "<h3>Welcome to FinanceAndPython.com, please refer to the website for the full tutorial. Presented here is the source code.<h3>"
   ]
  },
  {
   "cell_type": "code",
   "execution_count": 1,
   "metadata": {
    "collapsed": true
   },
   "outputs": [],
   "source": [
    "#The way to define a class is class followed by the name of the class\n",
    "#Here we define a person class\n",
    "class person:\n",
    "    pass"
   ]
  },
  {
   "cell_type": "code",
   "execution_count": 2,
   "metadata": {
    "collapsed": true
   },
   "outputs": [],
   "source": [
    "#The way to define a class object is as so\n",
    "Carl = person()"
   ]
  },
  {
   "cell_type": "code",
   "execution_count": 3,
   "metadata": {},
   "outputs": [
    {
     "name": "stdout",
     "output_type": "stream",
     "text": [
      "<__main__.person object at 0x10958e7b8>\n"
     ]
    }
   ],
   "source": [
    "#You don't get too much out of the class object printing\n",
    "print(Carl)"
   ]
  },
  {
   "cell_type": "code",
   "execution_count": 4,
   "metadata": {
    "collapsed": true
   },
   "outputs": [],
   "source": [
    "#If you define a function within a class you can then use that function for the class\n",
    "#You have to give the argument self for the function in the class meaning pass the class object to the function\n",
    "class person:\n",
    "    def sayHi(self):\n",
    "        print(\"Hi\")"
   ]
  },
  {
   "cell_type": "code",
   "execution_count": 5,
   "metadata": {},
   "outputs": [
    {
     "ename": "AttributeError",
     "evalue": "'person' object has no attribute 'sayHi'",
     "output_type": "error",
     "traceback": [
      "\u001b[0;31m---------------------------------------------------------------------------\u001b[0m",
      "\u001b[0;31mAttributeError\u001b[0m                            Traceback (most recent call last)",
      "\u001b[0;32m<ipython-input-5-dd1646564dd5>\u001b[0m in \u001b[0;36m<module>\u001b[0;34m()\u001b[0m\n\u001b[1;32m      1\u001b[0m \u001b[0;31m#We get an error if we call it right away, because our object was defined with a previous class definition\u001b[0m\u001b[0;34m\u001b[0m\u001b[0;34m\u001b[0m\u001b[0m\n\u001b[0;32m----> 2\u001b[0;31m \u001b[0mCarl\u001b[0m\u001b[0;34m.\u001b[0m\u001b[0msayHi\u001b[0m\u001b[0;34m(\u001b[0m\u001b[0;34m)\u001b[0m\u001b[0;34m\u001b[0m\u001b[0m\n\u001b[0m",
      "\u001b[0;31mAttributeError\u001b[0m: 'person' object has no attribute 'sayHi'"
     ]
    }
   ],
   "source": [
    "#We get an error if we call it right away, because our object was defined with a previous class definition\n",
    "Carl.sayHi()"
   ]
  },
  {
   "cell_type": "code",
   "execution_count": 6,
   "metadata": {},
   "outputs": [
    {
     "name": "stdout",
     "output_type": "stream",
     "text": [
      "Hi\n"
     ]
    }
   ],
   "source": [
    "#Now it should be good to go\n",
    "Carl = person()\n",
    "Carl.sayHi()"
   ]
  },
  {
   "cell_type": "code",
   "execution_count": 7,
   "metadata": {
    "collapsed": true
   },
   "outputs": [],
   "source": [
    "#You can also define attributes for your class\n",
    "#Here we define the person's age as 15\n",
    "#It can then be used in functions such as the tell age function by calling self.attribute\n",
    "class person:\n",
    "    age = 15\n",
    "    def sayHi(self):\n",
    "        print(\"Hi\")\n",
    "    def tellAge(self):\n",
    "        print(\"I am \"+str(self.age)+\" years old.\")"
   ]
  },
  {
   "cell_type": "code",
   "execution_count": 8,
   "metadata": {},
   "outputs": [
    {
     "name": "stdout",
     "output_type": "stream",
     "text": [
      "I am 15 years old.\n",
      "I am 15 years old.\n"
     ]
    }
   ],
   "source": [
    "Carl = person()\n",
    "Carl.tellAge()\n",
    "Tom = person()\n",
    "Tom.tellAge()"
   ]
  },
  {
   "cell_type": "code",
   "execution_count": 9,
   "metadata": {},
   "outputs": [
    {
     "name": "stdout",
     "output_type": "stream",
     "text": [
      "I am 15 years old.\n",
      "I am 20 years old.\n",
      "I am 15 years old.\n"
     ]
    }
   ],
   "source": [
    "Dan = person()\n",
    "Dan.tellAge()\n",
    "#If we assign a value over the current one we get a different result\n",
    "Carl = person()\n",
    "Carl.age = 20\n",
    "Carl.tellAge()\n",
    "#But the attribute stays the same for Dan\n",
    "Dan.tellAge()"
   ]
  },
  {
   "cell_type": "code",
   "execution_count": 10,
   "metadata": {
    "collapsed": true
   },
   "outputs": [],
   "source": [
    "#Using __init__ let's us set up an initialization\n",
    "#We pass it arguments and then we can use those to set attributes or properties\n",
    "#Here we pass an age attribute and give it to our class object\n",
    "class person:\n",
    "    def __init__(self, age):\n",
    "        self.age = age\n",
    "    def sayHi(self):\n",
    "        print(\"Hi\")\n",
    "    def tellAge(self):\n",
    "        print(\"I am \"+str(self.age)+\" years old.\")"
   ]
  },
  {
   "cell_type": "code",
   "execution_count": 11,
   "metadata": {},
   "outputs": [
    {
     "name": "stdout",
     "output_type": "stream",
     "text": [
      "I am 25 years old.\n"
     ]
    }
   ],
   "source": [
    "#Now Carl is 25 years old\n",
    "Carl = person(25)\n",
    "Carl.tellAge()"
   ]
  },
  {
   "cell_type": "code",
   "execution_count": 12,
   "metadata": {},
   "outputs": [
    {
     "name": "stdout",
     "output_type": "stream",
     "text": [
      "I am 27.397260273972602 years old.\n"
     ]
    }
   ],
   "source": [
    "#We could also give days and assign an age in years\n",
    "class person:\n",
    "    def __init__(self, days):\n",
    "        self.age = days/365\n",
    "    def sayHi(self):\n",
    "        print(\"Hi\")\n",
    "    def tellAge(self):\n",
    "        print(\"I am \"+str(self.age)+\" years old.\")\n",
    "Carl = person(10000)\n",
    "Carl.tellAge()"
   ]
  },
  {
   "cell_type": "code",
   "execution_count": 13,
   "metadata": {
    "collapsed": true
   },
   "outputs": [],
   "source": [
    "#Let's go back to the last definition\n",
    "class person:\n",
    "    def __init__(self, age):\n",
    "        self.age = age\n",
    "    def sayHi(self):\n",
    "        print(\"Hi\")\n",
    "    def tellAge(self):\n",
    "        print(\"I am \"+str(self.age)+\" years old.\")"
   ]
  },
  {
   "cell_type": "code",
   "execution_count": 14,
   "metadata": {},
   "outputs": [
    {
     "name": "stdout",
     "output_type": "stream",
     "text": [
      "I am Fish years old.\n"
     ]
    }
   ],
   "source": [
    "#This does not make sense!\n",
    "Carl = person(\"Fish\")\n",
    "Carl.tellAge()"
   ]
  },
  {
   "cell_type": "code",
   "execution_count": 15,
   "metadata": {
    "collapsed": true
   },
   "outputs": [],
   "source": [
    "#Let's add an assertion\n",
    "class person:\n",
    "    def __init__(self, age):\n",
    "        assert type(age)==int\n",
    "        self.age = age\n",
    "    def sayHi(self):\n",
    "        print(\"Hi\")\n",
    "    def tellAge(self):\n",
    "        print(\"I am \"+str(self.age)+\" years old.\")\n",
    "    def setAge(self,age):\n",
    "        self.age = age"
   ]
  },
  {
   "cell_type": "code",
   "execution_count": 16,
   "metadata": {},
   "outputs": [
    {
     "name": "stdout",
     "output_type": "stream",
     "text": [
      "I am 25 years old.\n"
     ]
    }
   ],
   "source": [
    "Carl = person(25)\n",
    "Carl.tellAge()"
   ]
  },
  {
   "cell_type": "code",
   "execution_count": 17,
   "metadata": {},
   "outputs": [
    {
     "ename": "AssertionError",
     "evalue": "",
     "output_type": "error",
     "traceback": [
      "\u001b[0;31m---------------------------------------------------------------------------\u001b[0m",
      "\u001b[0;31mAssertionError\u001b[0m                            Traceback (most recent call last)",
      "\u001b[0;32m<ipython-input-17-0243b9f25a55>\u001b[0m in \u001b[0;36m<module>\u001b[0;34m()\u001b[0m\n\u001b[0;32m----> 1\u001b[0;31m \u001b[0mCarl\u001b[0m \u001b[0;34m=\u001b[0m \u001b[0mperson\u001b[0m\u001b[0;34m(\u001b[0m\u001b[0;34m\"Fish\"\u001b[0m\u001b[0;34m)\u001b[0m\u001b[0;34m\u001b[0m\u001b[0m\n\u001b[0m\u001b[1;32m      2\u001b[0m \u001b[0mCarl\u001b[0m\u001b[0;34m.\u001b[0m\u001b[0mtellAge\u001b[0m\u001b[0;34m(\u001b[0m\u001b[0;34m)\u001b[0m\u001b[0;34m\u001b[0m\u001b[0m\n",
      "\u001b[0;32m<ipython-input-15-bc938a24f97f>\u001b[0m in \u001b[0;36m__init__\u001b[0;34m(self, age)\u001b[0m\n\u001b[1;32m      2\u001b[0m \u001b[0;32mclass\u001b[0m \u001b[0mperson\u001b[0m\u001b[0;34m:\u001b[0m\u001b[0;34m\u001b[0m\u001b[0m\n\u001b[1;32m      3\u001b[0m     \u001b[0;32mdef\u001b[0m \u001b[0m__init__\u001b[0m\u001b[0;34m(\u001b[0m\u001b[0mself\u001b[0m\u001b[0;34m,\u001b[0m \u001b[0mage\u001b[0m\u001b[0;34m)\u001b[0m\u001b[0;34m:\u001b[0m\u001b[0;34m\u001b[0m\u001b[0m\n\u001b[0;32m----> 4\u001b[0;31m         \u001b[0;32massert\u001b[0m \u001b[0mtype\u001b[0m\u001b[0;34m(\u001b[0m\u001b[0mage\u001b[0m\u001b[0;34m)\u001b[0m\u001b[0;34m==\u001b[0m\u001b[0mint\u001b[0m\u001b[0;34m\u001b[0m\u001b[0m\n\u001b[0m\u001b[1;32m      5\u001b[0m         \u001b[0mself\u001b[0m\u001b[0;34m.\u001b[0m\u001b[0mage\u001b[0m \u001b[0;34m=\u001b[0m \u001b[0mage\u001b[0m\u001b[0;34m\u001b[0m\u001b[0m\n\u001b[1;32m      6\u001b[0m     \u001b[0;32mdef\u001b[0m \u001b[0msayHi\u001b[0m\u001b[0;34m(\u001b[0m\u001b[0mself\u001b[0m\u001b[0;34m)\u001b[0m\u001b[0;34m:\u001b[0m\u001b[0;34m\u001b[0m\u001b[0m\n",
      "\u001b[0;31mAssertionError\u001b[0m: "
     ]
    }
   ],
   "source": [
    "Carl = person(\"Fish\")\n",
    "Carl.tellAge()"
   ]
  },
  {
   "cell_type": "code",
   "execution_count": 18,
   "metadata": {
    "collapsed": true
   },
   "outputs": [],
   "source": [
    "#Update the assertion to give a message\n",
    "class person:\n",
    "    def __init__(self, age):\n",
    "        assert type(age)==int, \"Age must be an integer\"\n",
    "        self.age = age\n",
    "    def sayHi(self):\n",
    "        print(\"Hi\")\n",
    "    def tellAge(self):\n",
    "        print(\"I am \"+str(self.age)+\" years old.\")\n",
    "    def setAge(self,age):\n",
    "        self.age = age"
   ]
  },
  {
   "cell_type": "code",
   "execution_count": 19,
   "metadata": {},
   "outputs": [
    {
     "ename": "AssertionError",
     "evalue": "Age must be an integer",
     "output_type": "error",
     "traceback": [
      "\u001b[0;31m---------------------------------------------------------------------------\u001b[0m",
      "\u001b[0;31mAssertionError\u001b[0m                            Traceback (most recent call last)",
      "\u001b[0;32m<ipython-input-19-0243b9f25a55>\u001b[0m in \u001b[0;36m<module>\u001b[0;34m()\u001b[0m\n\u001b[0;32m----> 1\u001b[0;31m \u001b[0mCarl\u001b[0m \u001b[0;34m=\u001b[0m \u001b[0mperson\u001b[0m\u001b[0;34m(\u001b[0m\u001b[0;34m\"Fish\"\u001b[0m\u001b[0;34m)\u001b[0m\u001b[0;34m\u001b[0m\u001b[0m\n\u001b[0m\u001b[1;32m      2\u001b[0m \u001b[0mCarl\u001b[0m\u001b[0;34m.\u001b[0m\u001b[0mtellAge\u001b[0m\u001b[0;34m(\u001b[0m\u001b[0;34m)\u001b[0m\u001b[0;34m\u001b[0m\u001b[0m\n",
      "\u001b[0;32m<ipython-input-18-c5b1098543ec>\u001b[0m in \u001b[0;36m__init__\u001b[0;34m(self, age)\u001b[0m\n\u001b[1;32m      2\u001b[0m \u001b[0;32mclass\u001b[0m \u001b[0mperson\u001b[0m\u001b[0;34m:\u001b[0m\u001b[0;34m\u001b[0m\u001b[0m\n\u001b[1;32m      3\u001b[0m     \u001b[0;32mdef\u001b[0m \u001b[0m__init__\u001b[0m\u001b[0;34m(\u001b[0m\u001b[0mself\u001b[0m\u001b[0;34m,\u001b[0m \u001b[0mage\u001b[0m\u001b[0;34m)\u001b[0m\u001b[0;34m:\u001b[0m\u001b[0;34m\u001b[0m\u001b[0m\n\u001b[0;32m----> 4\u001b[0;31m         \u001b[0;32massert\u001b[0m \u001b[0mtype\u001b[0m\u001b[0;34m(\u001b[0m\u001b[0mage\u001b[0m\u001b[0;34m)\u001b[0m\u001b[0;34m==\u001b[0m\u001b[0mint\u001b[0m\u001b[0;34m,\u001b[0m \u001b[0;34m\"Age must be an integer\"\u001b[0m\u001b[0;34m\u001b[0m\u001b[0m\n\u001b[0m\u001b[1;32m      5\u001b[0m         \u001b[0mself\u001b[0m\u001b[0;34m.\u001b[0m\u001b[0mage\u001b[0m \u001b[0;34m=\u001b[0m \u001b[0mage\u001b[0m\u001b[0;34m\u001b[0m\u001b[0m\n\u001b[1;32m      6\u001b[0m     \u001b[0;32mdef\u001b[0m \u001b[0msayHi\u001b[0m\u001b[0;34m(\u001b[0m\u001b[0mself\u001b[0m\u001b[0;34m)\u001b[0m\u001b[0;34m:\u001b[0m\u001b[0;34m\u001b[0m\u001b[0m\n",
      "\u001b[0;31mAssertionError\u001b[0m: Age must be an integer"
     ]
    }
   ],
   "source": [
    "Carl = person(\"Fish\")\n",
    "Carl.tellAge()"
   ]
  },
  {
   "cell_type": "code",
   "execution_count": 20,
   "metadata": {
    "collapsed": true
   },
   "outputs": [],
   "source": [
    "#Now add in a name to our class object\n",
    "class person:\n",
    "    def __init__(self, age,name):\n",
    "        assert type(age)==int, \"Age must be an integer\"\n",
    "        assert type(name) == str, \"Name must be a string\"\n",
    "        self.age = age\n",
    "        self.name = name\n",
    "    def sayHi(self):\n",
    "        print(\"Hi\")\n",
    "    def tellAge(self):\n",
    "        print(\"I am \"+str(self.age)+\" years old.\")\n",
    "    def setAge(self,age):\n",
    "        self.age = age"
   ]
  },
  {
   "cell_type": "code",
   "execution_count": 21,
   "metadata": {
    "collapsed": true
   },
   "outputs": [],
   "source": [
    "#The __str__ function is a way to say what gets printed when you print a class object\n",
    "class person:\n",
    "    def __init__(self, age,name):\n",
    "        assert type(age)==int, \"Age must be an integer\"\n",
    "        assert type(name) == str, \"Name must be a string\"\n",
    "        self.age = age\n",
    "        self.name = name\n",
    "    def sayHi(self):\n",
    "        print(\"Hi\")\n",
    "    def tellAge(self):\n",
    "        print(\"I am \"+str(self.age)+\" years old.\")\n",
    "    def setAge(self,age):\n",
    "        self.age = age\n",
    "    def __str__(self):\n",
    "        return self.name"
   ]
  },
  {
   "cell_type": "code",
   "execution_count": 22,
   "metadata": {},
   "outputs": [
    {
     "name": "stdout",
     "output_type": "stream",
     "text": [
      "Joe Smith\n"
     ]
    }
   ],
   "source": [
    "#Now the name is printed!\n",
    "Joe = person(22,\"Joe Smith\")\n",
    "print(Joe)"
   ]
  },
  {
   "cell_type": "code",
   "execution_count": 23,
   "metadata": {
    "collapsed": true
   },
   "outputs": [],
   "source": [
    "#You can create sub classes of classes by passing the class in the parantheses of the class definition\n",
    "#This let's you inherit the traits and functions of the class above\n",
    "#So if we wanted all the functionality of the person but then want to add a function only for students we do this\n",
    "class student(person):\n",
    "    def collegeTalk(self,college):\n",
    "        print(\"I'm \"+str(self.name)+\" and I go to \"+college+\".\")"
   ]
  },
  {
   "cell_type": "code",
   "execution_count": 24,
   "metadata": {},
   "outputs": [
    {
     "name": "stdout",
     "output_type": "stream",
     "text": [
      "I'm Joe Smith and I go to Harvard.\n"
     ]
    }
   ],
   "source": [
    "Joe = student(22,\"Joe Smith\")\n",
    "Joe.collegeTalk(\"Harvard\")\n",
    "#We give it the same arguments for class creation\n",
    "#but now we also have a cool new function only students get"
   ]
  },
  {
   "cell_type": "code",
   "execution_count": 25,
   "metadata": {
    "collapsed": true
   },
   "outputs": [],
   "source": [
    "#Calling super() gives access to the super class functionality\n",
    "#So if we want a new __init__ we could first call the super classes's __init__ function then add our own on\n",
    "class student(person):\n",
    "    def __init__(self, age, name, college):\n",
    "        super().__init__(age, name)\n",
    "        self.college = college\n",
    "    def collegeTalk(self):\n",
    "        print(\"I'm \"+str(self.name)+\" and I go to \"+self.college+\".\")"
   ]
  },
  {
   "cell_type": "code",
   "execution_count": 26,
   "metadata": {},
   "outputs": [
    {
     "name": "stdout",
     "output_type": "stream",
     "text": [
      "I am 25 years old.\n",
      "I'm Joe and I go to Harvard.\n"
     ]
    }
   ],
   "source": [
    "Joe = student(25,\"Joe\",\"Harvard\")\n",
    "Joe.tellAge()\n",
    "Joe.collegeTalk()"
   ]
  }
 ],
 "metadata": {
  "kernelspec": {
   "display_name": "Python 3",
   "language": "python",
   "name": "python3"
  },
  "language_info": {
   "codemirror_mode": {
    "name": "ipython",
    "version": 3
   },
   "file_extension": ".py",
   "mimetype": "text/x-python",
   "name": "python",
   "nbconvert_exporter": "python",
   "pygments_lexer": "ipython3",
   "version": "3.6.3"
  }
 },
 "nbformat": 4,
 "nbformat_minor": 2
}
