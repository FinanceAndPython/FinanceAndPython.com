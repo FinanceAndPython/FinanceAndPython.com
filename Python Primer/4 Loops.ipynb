{
 "cells": [
  {
   "cell_type": "markdown",
   "metadata": {},
   "source": [
    "# Loops\n",
    "\n",
    "Loops are the way in which we iterate through a range of numbers. Get used to using them now because they are going to be crucial for programming. I am going to use the word iterable to be what we are iterating through. We have already seen a common type, the range, in the lesson prior. Recall that a range takes the form range(a, b) and returns the integers from a to b not including b. \n",
    "\n",
    "The format of a for loop is:\n",
    "\n",
    "<code>for i in iterable:\n",
    "    execute code</code>\n",
    "    \n",
    "The first line basically says to define a varaible i and set it equal to the first value in the iterable, then the second, then the third. The tabbed in code is what gets executed each time that variable is defined. So if the iterable is n elements long, the code will be executed n times, once for each item. Let's create our first loop!"
   ]
  },
  {
   "cell_type": "code",
   "execution_count": 1,
   "metadata": {},
   "outputs": [
    {
     "name": "stdout",
     "output_type": "stream",
     "text": [
      "0\n",
      "1\n",
      "2\n",
      "3\n",
      "4\n"
     ]
    }
   ],
   "source": [
    "#Loops let you iterate through something\n",
    "#In the case of range we go from a to b, but not including b, so in the below case 0, 1, 2, 3 and 4\n",
    "#We assign these values to i and execute any code that is indented\n",
    "for i in range(0,5):\n",
    "    print(i)"
   ]
  },
  {
   "cell_type": "markdown",
   "metadata": {},
   "source": [
    "Of course you might want to do something more than just print it, what about printing the number squared?"
   ]
  },
  {
   "cell_type": "code",
   "execution_count": 2,
   "metadata": {},
   "outputs": [
    {
     "name": "stdout",
     "output_type": "stream",
     "text": [
      "0\n",
      "1\n",
      "4\n",
      "9\n",
      "16\n"
     ]
    }
   ],
   "source": [
    "#You could also print the number squared\n",
    "for i in range(0,5):\n",
    "    print(i**2)"
   ]
  },
  {
   "cell_type": "markdown",
   "metadata": {},
   "source": [
    "An important thing to understand is that you can change the variable in the tabbed area, but after the tabbed code has run it will be reset to whatever the next value in the iterable is. In the code below, we are going to loop through with a variable i then re-define it to be its square and print it. It will still get reset though! We will print the value of i before and after squaring to really make it obvious."
   ]
  },
  {
   "cell_type": "code",
   "execution_count": 3,
   "metadata": {},
   "outputs": [
    {
     "name": "stdout",
     "output_type": "stream",
     "text": [
      "0\n",
      "0\n",
      "\n",
      "1\n",
      "1\n",
      "\n",
      "2\n",
      "4\n",
      "\n",
      "3\n",
      "9\n",
      "\n",
      "4\n",
      "16\n",
      "\n"
     ]
    }
   ],
   "source": [
    "#The loop will overwrite the value of i each time it begins again\n",
    "for i in range(0,5):\n",
    "    print(i)\n",
    "    i = i**2\n",
    "    print(i)\n",
    "    print()"
   ]
  },
  {
   "cell_type": "markdown",
   "metadata": {},
   "source": [
    "Loops are especially useful when you want to do something like find the sum of all values after a function is applied to it. Let's say we have the numbers 0 to 4 again, and we want to find the value of the square of all these numbers. Loops will help us. Pay attention to how the counter variable is set outside of the loop, this is because otherwise it would keep getting re-defined to 0. Instead it gets set to 0 once at the top and then we add to it with the loop!"
   ]
  },
  {
   "cell_type": "code",
   "execution_count": 4,
   "metadata": {},
   "outputs": [
    {
     "name": "stdout",
     "output_type": "stream",
     "text": [
      "0\n",
      "1\n",
      "5\n",
      "14\n",
      "30\n"
     ]
    }
   ],
   "source": [
    "counter = 0\n",
    "for i in range(0,5):\n",
    "    counter += i**2\n",
    "    print(counter)"
   ]
  },
  {
   "cell_type": "markdown",
   "metadata": {},
   "source": [
    "## Nested Loops\n",
    "\n",
    "Just like nested if statements, we are able to use loop statements within loop statements. When we do this, you need to think about how if we do the outer loop n times, then in the inner loop will be run n times. So if the inner loop runs m times, then the total number of times the code on the inside will be run is n * m. Below, we show how we run through two loops. An important thing that we need to do is to make sure we use a different variable to be assigned in the loops to keep track of them. In this case we use i in the outer loop and j in the inner loop."
   ]
  },
  {
   "cell_type": "code",
   "execution_count": 5,
   "metadata": {},
   "outputs": [
    {
     "name": "stdout",
     "output_type": "stream",
     "text": [
      "First: 0, Last: 0\n",
      "First: 0, Last: 1\n",
      "First: 0, Last: 2\n",
      "First: 1, Last: 0\n",
      "First: 1, Last: 1\n",
      "First: 1, Last: 2\n",
      "First: 2, Last: 0\n",
      "First: 2, Last: 1\n",
      "First: 2, Last: 2\n",
      "First: 3, Last: 0\n",
      "First: 3, Last: 1\n",
      "First: 3, Last: 2\n",
      "First: 4, Last: 0\n",
      "First: 4, Last: 1\n",
      "First: 4, Last: 2\n"
     ]
    }
   ],
   "source": [
    "#We could also have a loop within a loop\n",
    "#You'll notice we have 15 things printed because we have 5 in the outter loop and 3 in the inner loop\n",
    "#Each time we set i equal to a new number, we also go through all 3 loops of j\n",
    "#So we call the j loop 5 times in total and each time we call the j loop we loop through it 3 times\n",
    "for i in range(0,5):\n",
    "    for j in range(0,3):\n",
    "        print(\"First: \"+str(i)+\", Last: \"+str(j))"
   ]
  },
  {
   "cell_type": "markdown",
   "metadata": {},
   "source": [
    "## Break\n",
    "\n",
    "Sometimes we have a reason that we need to stop a loop. In this case we can call break which ends the current loop. Below you will see how if the variable x is equal to 2 we are going to end the loop with break."
   ]
  },
  {
   "cell_type": "code",
   "execution_count": 6,
   "metadata": {},
   "outputs": [
    {
     "name": "stdout",
     "output_type": "stream",
     "text": [
      "0\n",
      "1\n",
      "2\n"
     ]
    }
   ],
   "source": [
    "#If we call break then we stop a loop\n",
    "for x in range(5):\n",
    "    print(x)\n",
    "    if x==2:\n",
    "        break"
   ]
  },
  {
   "cell_type": "markdown",
   "metadata": {},
   "source": [
    "Break will only stop the current loop, this is very important to understand. If it stopped all loops, then in the code below we would only print out three lines. However, it only stops the current loop so we cycle through the inner loop 3 times and break, but do this 5 total times because of the outer loop. The code below should make it more clear."
   ]
  },
  {
   "cell_type": "code",
   "execution_count": 7,
   "metadata": {},
   "outputs": [
    {
     "name": "stdout",
     "output_type": "stream",
     "text": [
      "First: 0, Last: 0\n",
      "First: 0, Last: 1\n",
      "First: 0, Last: 2\n",
      "First: 1, Last: 0\n",
      "First: 1, Last: 1\n",
      "First: 1, Last: 2\n",
      "First: 2, Last: 0\n",
      "First: 2, Last: 1\n",
      "First: 2, Last: 2\n",
      "First: 3, Last: 0\n",
      "First: 3, Last: 1\n",
      "First: 3, Last: 2\n",
      "First: 4, Last: 0\n",
      "First: 4, Last: 1\n",
      "First: 4, Last: 2\n"
     ]
    }
   ],
   "source": [
    "#But break will only break the current loop, not any outter loops\n",
    "for i in range(0,5):\n",
    "    for j in range(0,5):\n",
    "        print(\"First: \"+str(i)+\", Last: \"+str(j))\n",
    "        if j ==2:\n",
    "            break"
   ]
  },
  {
   "cell_type": "markdown",
   "metadata": {},
   "source": [
    "### Continue\n",
    "\n",
    "Using continue makes the loop skip whatever else is there in the tabbed code and move on to the next iteration of the loop. Below you will see how normally the code prints the variable x being iterated over followed by three lines of XX. However, if the variable x is greater than 2 it skips the rest of the code and moves to the next iteration."
   ]
  },
  {
   "cell_type": "code",
   "execution_count": 8,
   "metadata": {},
   "outputs": [
    {
     "name": "stdout",
     "output_type": "stream",
     "text": [
      "0\n",
      "XX\n",
      "XX\n",
      "XX\n",
      "1\n",
      "XX\n",
      "XX\n",
      "XX\n",
      "2\n",
      "XX\n",
      "XX\n",
      "XX\n",
      "3\n",
      "4\n"
     ]
    }
   ],
   "source": [
    "#Continue forces the loop to go to the top of the loop with the next iterable\n",
    "#Notice how once x>2 we don't see XX printed out anymore\n",
    "for x in range(0,5):\n",
    "    print(x)\n",
    "    if x>2:\n",
    "        continue\n",
    "    print(\"XX\")\n",
    "    print(\"XX\")\n",
    "    print(\"XX\")"
   ]
  },
  {
   "cell_type": "markdown",
   "metadata": {},
   "source": [
    "You are able to iterate over more than just a range. For example, lists are valid things to iterate over. Below we define a list and use a loop for all the values in it."
   ]
  },
  {
   "cell_type": "code",
   "execution_count": 9,
   "metadata": {},
   "outputs": [
    {
     "name": "stdout",
     "output_type": "stream",
     "text": [
      "1\n",
      "5\n",
      "10\n",
      "20\n"
     ]
    }
   ],
   "source": [
    "#Instead of a range you can also iterate over a list\n",
    "l = [1,5,10,20]\n",
    "for x in l:\n",
    "    print(x)"
   ]
  },
  {
   "cell_type": "markdown",
   "metadata": {},
   "source": [
    "You may recall from an earlier lesson how we used zip. You can use it here to iterate over two iterables at the same time. In the code below, we are going to do three iterations. One where x=1, y=2, one where x=2, y=6, and finally one where x=3, y=10. "
   ]
  },
  {
   "cell_type": "code",
   "execution_count": 10,
   "metadata": {},
   "outputs": [
    {
     "name": "stdout",
     "output_type": "stream",
     "text": [
      "2\n",
      "12\n",
      "30\n"
     ]
    }
   ],
   "source": [
    "#Zip let's you iterate through lists together\n",
    "l1 = [1,2,3]\n",
    "l2 = [2,6,10]\n",
    "for x,y in zip(l1,l2):\n",
    "    print(x*y)"
   ]
  },
  {
   "cell_type": "markdown",
   "metadata": {},
   "source": [
    "When using nested lists, you will end up iterating over the inner lists. In the code below, the nested list has a length of 3 where each element is a list. Iterating over it will print out each of these inner lists."
   ]
  },
  {
   "cell_type": "code",
   "execution_count": 11,
   "metadata": {},
   "outputs": [
    {
     "name": "stdout",
     "output_type": "stream",
     "text": [
      "[1, 2, 3]\n",
      "[4, 5, 6]\n",
      "[7, 8, 9]\n"
     ]
    }
   ],
   "source": [
    "#If you have a nested list you can iterate through the inner lists\n",
    "l = [[1,2,3],[4,5,6],[7,8,9]]\n",
    "for x in l:\n",
    "    print(x)"
   ]
  },
  {
   "cell_type": "markdown",
   "metadata": {},
   "source": [
    "You could also iterate over the inner list by iterating over that variable x from the for loop."
   ]
  },
  {
   "cell_type": "code",
   "execution_count": 12,
   "metadata": {},
   "outputs": [
    {
     "name": "stdout",
     "output_type": "stream",
     "text": [
      "1\n",
      "2\n",
      "3\n",
      "4\n",
      "5\n",
      "6\n",
      "7\n",
      "8\n",
      "9\n"
     ]
    }
   ],
   "source": [
    "#But if you wanted the inner numbers you would use a second loop to go through your iterable x\n",
    "for x in l:\n",
    "    for y in x:\n",
    "        print(y)"
   ]
  },
  {
   "cell_type": "markdown",
   "metadata": {},
   "source": [
    "## Examples"
   ]
  },
  {
   "cell_type": "markdown",
   "metadata": {},
   "source": [
    "We could get the sum of a list by iterating over it with a for loop easily."
   ]
  },
  {
   "cell_type": "code",
   "execution_count": 13,
   "metadata": {},
   "outputs": [
    {
     "name": "stdout",
     "output_type": "stream",
     "text": [
      "15\n"
     ]
    }
   ],
   "source": [
    "#Example: Summing values of a list\n",
    "total = 0\n",
    "l = [1,2,3,4,5]\n",
    "for x in l:\n",
    "    total+=x\n",
    "print(total)"
   ]
  },
  {
   "cell_type": "markdown",
   "metadata": {},
   "source": [
    "By combining a set and a for loop, we could list out the unique values and their counts."
   ]
  },
  {
   "cell_type": "code",
   "execution_count": 14,
   "metadata": {},
   "outputs": [
    {
     "name": "stdout",
     "output_type": "stream",
     "text": [
      "Count of 1: 3\n",
      "Count of 2: 2\n",
      "Count of 3: 2\n",
      "Count of 4: 1\n",
      "Count of 5: 2\n",
      "Count of 7: 1\n",
      "Count of 8: 5\n"
     ]
    }
   ],
   "source": [
    "#Example: Finding the count of each unique number in a list\n",
    "l = [1,1,1,2,2,3,4,3,5,7,8,5,8,8,8,8]\n",
    "unique = set(l)\n",
    "for x in unique:\n",
    "    print(\"Count of \"+str(x)+\": \"+str(l.count(x)))"
   ]
  },
  {
   "cell_type": "markdown",
   "metadata": {},
   "source": [
    "By combining an if statement and a for loop over a range, we can get the sum of even numbers in a range."
   ]
  },
  {
   "cell_type": "code",
   "execution_count": 15,
   "metadata": {},
   "outputs": [
    {
     "name": "stdout",
     "output_type": "stream",
     "text": [
      "0\n",
      "2\n",
      "4\n",
      "6\n",
      "8\n",
      "The total is: 20\n"
     ]
    }
   ],
   "source": [
    "#Example: Getting the sum of even numbers\n",
    "total = 0\n",
    "for x in range(10):\n",
    "    if x%2==1:\n",
    "        continue\n",
    "    print(x)\n",
    "    total+=x\n",
    "print(\"The total is: \"+str(total))"
   ]
  },
  {
   "cell_type": "markdown",
   "metadata": {},
   "source": [
    "# While Loop\n",
    "\n",
    "A while loop is one which runs until a condition is false or break is called within it. The format of it is:\n",
    "\n",
    "<code>while condition:\n",
    "    execute code</code>\n",
    "\n",
    "These are very helpful when you have a loop that will need to run for a variable amount of time (based on some conditions). It is dangerous sometimes because it could go on forever if you the conditon never changes to false. Below, we start with i=0, and print i and add 1 to it during each loop. Once i is no longer less than 5 it will stop. You can imagine, if you were to forget to put the part where you add 1 to i, it would never terminate because i would always be equal to 0! So be careful!"
   ]
  },
  {
   "cell_type": "code",
   "execution_count": 16,
   "metadata": {},
   "outputs": [
    {
     "name": "stdout",
     "output_type": "stream",
     "text": [
      "0\n",
      "1\n",
      "2\n",
      "3\n",
      "4\n"
     ]
    }
   ],
   "source": [
    "#A while loop does something until the condition is not true\n",
    "#So the below code will keep printing i until it is not less than 5\n",
    "#Be careful, this could run forever if there isn't a way for the condition to one day not be false\n",
    "i = 0\n",
    "while i<5:\n",
    "    print(i)\n",
    "    i+=1"
   ]
  },
  {
   "cell_type": "markdown",
   "metadata": {},
   "source": [
    "### Example\n",
    "\n",
    "If you need the next integer that is divisible by 8, you could use a while loop checking that the number divided by 8 has no remainder and adding 1 each time."
   ]
  },
  {
   "cell_type": "code",
   "execution_count": 17,
   "metadata": {},
   "outputs": [
    {
     "name": "stdout",
     "output_type": "stream",
     "text": [
      "16\n"
     ]
    }
   ],
   "source": [
    "#Example: Keep adding one until the value of i is divisible by 8\n",
    "i = 9\n",
    "while i%8 != 0:\n",
    "    i+=1\n",
    "print(i)"
   ]
  }
 ],
 "metadata": {
  "kernelspec": {
   "display_name": "Python 3",
   "language": "python",
   "name": "python3"
  },
  "language_info": {
   "codemirror_mode": {
    "name": "ipython",
    "version": 3
   },
   "file_extension": ".py",
   "mimetype": "text/x-python",
   "name": "python",
   "nbconvert_exporter": "python",
   "pygments_lexer": "ipython3",
   "version": "3.8.3"
  }
 },
 "nbformat": 4,
 "nbformat_minor": 2
}
