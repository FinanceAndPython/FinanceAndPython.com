{
 "cells": [
  {
   "cell_type": "markdown",
   "metadata": {},
   "source": [
    "<h3>Welcome to FinanceAndPython.com, please refer to the website for the full tutorial. Presented here is the source code.<h3>"
   ]
  },
  {
   "cell_type": "code",
   "execution_count": 1,
   "metadata": {},
   "outputs": [
    {
     "name": "stdout",
     "output_type": "stream",
     "text": [
      "0\n",
      "1\n",
      "2\n",
      "3\n",
      "4\n"
     ]
    }
   ],
   "source": [
    "#Loops let you iterate through something\n",
    "#In the case of range we go from a to b, but not including b, so in the below case 0, 1, 2, 3 and 4\n",
    "#We assign these values to i and execute any code that is indented\n",
    "for i in range(0,5):\n",
    "    print(i)"
   ]
  },
  {
   "cell_type": "code",
   "execution_count": 2,
   "metadata": {},
   "outputs": [
    {
     "name": "stdout",
     "output_type": "stream",
     "text": [
      "0\n",
      "2\n",
      "4\n",
      "6\n",
      "8\n"
     ]
    }
   ],
   "source": [
    "#You could also print the number times two for example\n",
    "for i in range(0,5):\n",
    "    print(i*2)"
   ]
  },
  {
   "cell_type": "code",
   "execution_count": 3,
   "metadata": {},
   "outputs": [
    {
     "name": "stdout",
     "output_type": "stream",
     "text": [
      "0\n",
      "2\n",
      "4\n",
      "6\n",
      "8\n"
     ]
    }
   ],
   "source": [
    "#If you assign a value over the iterator (i in this case) then it will be changed but only for the code under the block\n",
    "#Notice it gets set to the next number after the indented block is done\n",
    "for i in range(0,5):\n",
    "    i = i*2\n",
    "    print(i)"
   ]
  },
  {
   "cell_type": "code",
   "execution_count": 4,
   "metadata": {},
   "outputs": [
    {
     "name": "stdout",
     "output_type": "stream",
     "text": [
      "First: 0, Last: 0\n",
      "First: 0, Last: 1\n",
      "First: 0, Last: 2\n",
      "First: 0, Last: 3\n",
      "First: 0, Last: 4\n",
      "First: 1, Last: 0\n",
      "First: 1, Last: 1\n",
      "First: 1, Last: 2\n",
      "First: 1, Last: 3\n",
      "First: 1, Last: 4\n",
      "First: 2, Last: 0\n",
      "First: 2, Last: 1\n",
      "First: 2, Last: 2\n",
      "First: 2, Last: 3\n",
      "First: 2, Last: 4\n",
      "First: 3, Last: 0\n",
      "First: 3, Last: 1\n",
      "First: 3, Last: 2\n",
      "First: 3, Last: 3\n",
      "First: 3, Last: 4\n",
      "First: 4, Last: 0\n",
      "First: 4, Last: 1\n",
      "First: 4, Last: 2\n",
      "First: 4, Last: 3\n",
      "First: 4, Last: 4\n"
     ]
    }
   ],
   "source": [
    "#We could also have a loop within a loop\n",
    "#You'll notice we have 25 things printed because we have 5 in the outter loop and 5 in the inner loop\n",
    "#Each time we set i equal to a new number, we also go through all 5 loops of j\n",
    "#So we call the j loop 5 times in total and each time we call the j loop we loop through it 5 times\n",
    "for i in range(0,5):\n",
    "    for j in range(0,5):\n",
    "        print(\"First: \"+str(i)+\", Last: \"+str(j))"
   ]
  },
  {
   "cell_type": "code",
   "execution_count": 5,
   "metadata": {},
   "outputs": [
    {
     "name": "stdout",
     "output_type": "stream",
     "text": [
      "0\n",
      "1\n",
      "2\n"
     ]
    }
   ],
   "source": [
    "#If we call break then we stop a loop\n",
    "for x in range(5):\n",
    "    print(x)\n",
    "    if x==2:\n",
    "        break"
   ]
  },
  {
   "cell_type": "code",
   "execution_count": 6,
   "metadata": {},
   "outputs": [
    {
     "name": "stdout",
     "output_type": "stream",
     "text": [
      "First: 0, Last: 0\n",
      "First: 0, Last: 1\n",
      "First: 0, Last: 2\n",
      "First: 1, Last: 0\n",
      "First: 1, Last: 1\n",
      "First: 1, Last: 2\n",
      "First: 2, Last: 0\n",
      "First: 2, Last: 1\n",
      "First: 2, Last: 2\n",
      "First: 3, Last: 0\n",
      "First: 3, Last: 1\n",
      "First: 3, Last: 2\n",
      "First: 4, Last: 0\n",
      "First: 4, Last: 1\n",
      "First: 4, Last: 2\n"
     ]
    }
   ],
   "source": [
    "#But break will only break the current loop, not any outter loops\n",
    "for i in range(0,5):\n",
    "    for j in range(0,5):\n",
    "        print(\"First: \"+str(i)+\", Last: \"+str(j))\n",
    "        if j ==2:\n",
    "            break"
   ]
  },
  {
   "cell_type": "code",
   "execution_count": 7,
   "metadata": {},
   "outputs": [
    {
     "name": "stdout",
     "output_type": "stream",
     "text": [
      "0\n",
      "XX\n",
      "XX\n",
      "XX\n",
      "1\n",
      "XX\n",
      "XX\n",
      "XX\n",
      "2\n",
      "XX\n",
      "XX\n",
      "XX\n",
      "3\n",
      "4\n"
     ]
    }
   ],
   "source": [
    "#Continue forces the loop to go to the top of the loop with the next iterable\n",
    "#Notice how once x>2 we don't see XX printed out anymore\n",
    "for x in range(0,5):\n",
    "    print(x)\n",
    "    if x>2:\n",
    "        continue\n",
    "    print(\"XX\")\n",
    "    print(\"XX\")\n",
    "    print(\"XX\")"
   ]
  },
  {
   "cell_type": "code",
   "execution_count": 8,
   "metadata": {},
   "outputs": [
    {
     "name": "stdout",
     "output_type": "stream",
     "text": [
      "0\n",
      "2\n",
      "4\n",
      "6\n"
     ]
    }
   ],
   "source": [
    "#Example: Print ounly numbers greater less than 6, that are also even\n",
    "for x in range(0,11):\n",
    "    if x>6:\n",
    "        break\n",
    "    if x%2==0:\n",
    "        print(x)"
   ]
  },
  {
   "cell_type": "code",
   "execution_count": 9,
   "metadata": {},
   "outputs": [
    {
     "name": "stdout",
     "output_type": "stream",
     "text": [
      "1\n",
      "5\n",
      "10\n",
      "20\n"
     ]
    }
   ],
   "source": [
    "#Instead of a range you can also iterate over a list\n",
    "l = [1,5,10,20]\n",
    "for x in l:\n",
    "    print(x)"
   ]
  },
  {
   "cell_type": "code",
   "execution_count": 10,
   "metadata": {},
   "outputs": [
    {
     "name": "stdout",
     "output_type": "stream",
     "text": [
      "2\n",
      "12\n",
      "30\n"
     ]
    }
   ],
   "source": [
    "#Zip let's you iterate through lists together\n",
    "l1 = [1,2,3]\n",
    "l2 = [2,6,10]\n",
    "for x,y in zip(l1,l2):\n",
    "    print(x*y)"
   ]
  },
  {
   "cell_type": "code",
   "execution_count": 11,
   "metadata": {},
   "outputs": [
    {
     "name": "stdout",
     "output_type": "stream",
     "text": [
      "[1, 2, 3]\n",
      "[4, 5, 6]\n",
      "[7, 8, 9]\n"
     ]
    }
   ],
   "source": [
    "#If you have a nested list you can iterate through the inner lists\n",
    "l = [[1,2,3],[4,5,6],[7,8,9]]\n",
    "for x in l:\n",
    "    print(x)"
   ]
  },
  {
   "cell_type": "code",
   "execution_count": 12,
   "metadata": {},
   "outputs": [
    {
     "name": "stdout",
     "output_type": "stream",
     "text": [
      "1\n",
      "2\n",
      "3\n",
      "4\n",
      "5\n",
      "6\n",
      "7\n",
      "8\n",
      "9\n"
     ]
    }
   ],
   "source": [
    "#But if you wanted the inner numbers you would use a second loop to go through your iterable x\n",
    "for x in l:\n",
    "    for y in x:\n",
    "        print(y)"
   ]
  },
  {
   "cell_type": "code",
   "execution_count": 13,
   "metadata": {},
   "outputs": [
    {
     "name": "stdout",
     "output_type": "stream",
     "text": [
      "15\n"
     ]
    }
   ],
   "source": [
    "#Example: Summing values of a list\n",
    "total = 0\n",
    "l = [1,2,3,4,5]\n",
    "for x in l:\n",
    "    total+=x\n",
    "print(total)"
   ]
  },
  {
   "cell_type": "code",
   "execution_count": 14,
   "metadata": {},
   "outputs": [
    {
     "name": "stdout",
     "output_type": "stream",
     "text": [
      "Count of 1: 3\n",
      "Count of 2: 2\n",
      "Count of 3: 2\n",
      "Count of 4: 1\n",
      "Count of 5: 2\n",
      "Count of 7: 1\n",
      "Count of 8: 5\n"
     ]
    }
   ],
   "source": [
    "#Example: Finding the count of each unique number in a list\n",
    "l = [1,1,1,2,2,3,4,3,5,7,8,5,8,8,8,8]\n",
    "unique = set(l)\n",
    "for x in unique:\n",
    "    print(\"Count of \"+str(x)+\": \"+str(l.count(x)))"
   ]
  },
  {
   "cell_type": "code",
   "execution_count": 15,
   "metadata": {},
   "outputs": [
    {
     "name": "stdout",
     "output_type": "stream",
     "text": [
      "0\n",
      "2\n",
      "4\n",
      "6\n",
      "8\n",
      "The total is: 20\n"
     ]
    }
   ],
   "source": [
    "#Example: Getting the sum of even numbers\n",
    "total = 0\n",
    "for x in range(10):\n",
    "    if x%2==1:\n",
    "        continue\n",
    "    print(x)\n",
    "    total+=x\n",
    "print(\"The total is: \"+str(total))"
   ]
  },
  {
   "cell_type": "code",
   "execution_count": 16,
   "metadata": {},
   "outputs": [
    {
     "name": "stdout",
     "output_type": "stream",
     "text": [
      "0\n",
      "1\n",
      "2\n",
      "3\n",
      "4\n"
     ]
    }
   ],
   "source": [
    "#A while loop does something until the condition is not true\n",
    "#So the below code will keep printing i until it is not less than 5\n",
    "#Be careful, this could run forever if there isn't a way for the condition to one day not be false\n",
    "i = 0\n",
    "while i<5:\n",
    "    print(i)\n",
    "    i+=1"
   ]
  },
  {
   "cell_type": "code",
   "execution_count": 17,
   "metadata": {},
   "outputs": [
    {
     "name": "stdout",
     "output_type": "stream",
     "text": [
      "6\n"
     ]
    }
   ],
   "source": [
    "#Example: Keep adding one until the value of i is divisible by 8\n",
    "i = 1\n",
    "while i%6 != 0:\n",
    "    i+=1\n",
    "print(i)"
   ]
  },
  {
   "cell_type": "code",
   "execution_count": 18,
   "metadata": {},
   "outputs": [
    {
     "name": "stdout",
     "output_type": "stream",
     "text": [
      "[0, 1, 2, 3, 4, 5, 6, 7, 8, 9]\n"
     ]
    }
   ],
   "source": [
    "#You can also get a list from a range very easily\n",
    "print(list(range(10)))"
   ]
  },
  {
   "cell_type": "code",
   "execution_count": 19,
   "metadata": {},
   "outputs": [
    {
     "name": "stdout",
     "output_type": "stream",
     "text": [
      "[0, 2, 4, 6, 8]\n"
     ]
    }
   ],
   "source": [
    "#Adding a third parameter determines a step, in this case 2\n",
    "print(list(range(0,10,2)))"
   ]
  },
  {
   "cell_type": "code",
   "execution_count": 20,
   "metadata": {},
   "outputs": [
    {
     "name": "stdout",
     "output_type": "stream",
     "text": [
      "[0, 3, 6, 9]\n"
     ]
    }
   ],
   "source": [
    "#The step here is 3\n",
    "print(list(range(0,10,3)))"
   ]
  }
 ],
 "metadata": {
  "kernelspec": {
   "display_name": "Python 3",
   "language": "python",
   "name": "python3"
  },
  "language_info": {
   "codemirror_mode": {
    "name": "ipython",
    "version": 3
   },
   "file_extension": ".py",
   "mimetype": "text/x-python",
   "name": "python",
   "nbconvert_exporter": "python",
   "pygments_lexer": "ipython3",
   "version": "3.6.3"
  }
 },
 "nbformat": 4,
 "nbformat_minor": 2
}
