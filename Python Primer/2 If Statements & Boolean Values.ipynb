{
 "cells": [
  {
   "cell_type": "markdown",
   "metadata": {},
   "source": [
    "# If Statements and Boolean Values\n",
    "\n",
    "One of the most important parts of programming is understanding how boolean values and if statements work. Boolean values are those that take on either the value of True or the value of False. The two ways which they are represented are either as True/False or 1/0 respectively. Below you can observe that converting values of True to integer gives back the value 1. For false it returns the value of 0."
   ]
  },
  {
   "cell_type": "code",
   "execution_count": 1,
   "metadata": {},
   "outputs": [
    {
     "name": "stdout",
     "output_type": "stream",
     "text": [
      "True\n",
      "1\n"
     ]
    }
   ],
   "source": [
    "#Create a boolean value of True\n",
    "a = True\n",
    "print(a)\n",
    "\n",
    "#Convert and print that boolean value as an integer\n",
    "print(int(a))"
   ]
  },
  {
   "cell_type": "code",
   "execution_count": 2,
   "metadata": {},
   "outputs": [
    {
     "name": "stdout",
     "output_type": "stream",
     "text": [
      "False\n",
      "0\n"
     ]
    }
   ],
   "source": [
    "#Create a boolean value of False\n",
    "a = False\n",
    "print(a)\n",
    "#Convert and print that boolean value as an integer\n",
    "print(int(a))"
   ]
  },
  {
   "cell_type": "markdown",
   "metadata": {},
   "source": [
    "The opposite conversion can be done by using bool() and passing in either 1 or 0."
   ]
  },
  {
   "cell_type": "code",
   "execution_count": 3,
   "metadata": {},
   "outputs": [
    {
     "name": "stdout",
     "output_type": "stream",
     "text": [
      "True\n",
      "False\n"
     ]
    }
   ],
   "source": [
    "#Convert 1 and 0 to be boolean values\n",
    "print(bool(1))\n",
    "print(bool(0))"
   ]
  },
  {
   "cell_type": "markdown",
   "metadata": {},
   "source": [
    "## Checking Equality\n",
    "\n",
    "When you use two equal signs, ==, you check if two variables are equal to one and other. If they are then it will return the value True, otherwise it will return False"
   ]
  },
  {
   "cell_type": "code",
   "execution_count": 4,
   "metadata": {},
   "outputs": [
    {
     "name": "stdout",
     "output_type": "stream",
     "text": [
      "True\n"
     ]
    }
   ],
   "source": [
    "#You can create a boolean value by checking a condition\n",
    "print(5 == 5)"
   ]
  },
  {
   "cell_type": "markdown",
   "metadata": {},
   "source": [
    "This applies to a variable being checked against an actual value as well. The following will also return True."
   ]
  },
  {
   "cell_type": "code",
   "execution_count": 5,
   "metadata": {},
   "outputs": [
    {
     "name": "stdout",
     "output_type": "stream",
     "text": [
      "True\n"
     ]
    }
   ],
   "source": [
    "#Check the variable 5 against 5\n",
    "a = 5\n",
    "print(a==5)"
   ]
  },
  {
   "cell_type": "markdown",
   "metadata": {},
   "source": [
    "Even if one is a floating point number, if the two are equal it still comes back as True."
   ]
  },
  {
   "cell_type": "code",
   "execution_count": 6,
   "metadata": {},
   "outputs": [
    {
     "name": "stdout",
     "output_type": "stream",
     "text": [
      "True\n"
     ]
    }
   ],
   "source": [
    "#Check the variable 5 against 5\n",
    "a = 5.0\n",
    "print(a==5)"
   ]
  },
  {
   "cell_type": "markdown",
   "metadata": {},
   "source": [
    "But of course 5.1 is not equal to 5."
   ]
  },
  {
   "cell_type": "code",
   "execution_count": 7,
   "metadata": {},
   "outputs": [
    {
     "name": "stdout",
     "output_type": "stream",
     "text": [
      "False\n"
     ]
    }
   ],
   "source": [
    "#Check the variable 5.1 against 5\n",
    "a = 5.1\n",
    "print(a==5)"
   ]
  },
  {
   "cell_type": "markdown",
   "metadata": {},
   "source": [
    "Besides checking equality, there are a few other comparisons which we can make, they are:\n",
    "\n",
    "- a == b : a is equal to b\n",
    "- a != b : a is not equal to b\n",
    "- a >= b : a is greater than or equal to b\n",
    "- a > b : a is greater than b\n",
    "- a <= b : a is less than or equal to b\n",
    "- a < b : a is less than b"
   ]
  },
  {
   "cell_type": "code",
   "execution_count": 8,
   "metadata": {},
   "outputs": [
    {
     "name": "stdout",
     "output_type": "stream",
     "text": [
      "True\n",
      "True\n",
      "True\n",
      "False\n",
      "False\n",
      "True\n"
     ]
    }
   ],
   "source": [
    "#Examples of comparisons\n",
    "print(5 == 5)\n",
    "print(6 != 5)\n",
    "print(5 >= 5)\n",
    "print(5 <= 4)\n",
    "print(5 > 5)\n",
    "print(3 < 4)"
   ]
  },
  {
   "cell_type": "markdown",
   "metadata": {},
   "source": [
    "## The If Statement\n",
    "\n",
    "The if statement has the following form, where the space is created by pressing tab on your computer:\n",
    "\n",
    "<code>if boolean:\n",
    "    execute code</code>\n",
    "    \n",
    "What this means is that a boolean value passed after if is true, the code which is tabbed in it will be run. Otherwise it is skipped over. Of course that boolean can be created by testing a condition as well. Let's begin first by looking at what happens when we use if followed by True and have code to print success."
   ]
  },
  {
   "cell_type": "code",
   "execution_count": 9,
   "metadata": {},
   "outputs": [
    {
     "name": "stdout",
     "output_type": "stream",
     "text": [
      "Success\n"
     ]
    }
   ],
   "source": [
    "#The way an if statement works is that anything tabbed in under the if statement executes if what follows if is true\n",
    "if True:\n",
    "    print(\"Success\")"
   ]
  },
  {
   "cell_type": "markdown",
   "metadata": {},
   "source": [
    "When you have False, the code will not be executed."
   ]
  },
  {
   "cell_type": "code",
   "execution_count": 10,
   "metadata": {},
   "outputs": [],
   "source": [
    "#Notice this one won't print\n",
    "if False:\n",
    "    print(\"Success\")"
   ]
  },
  {
   "cell_type": "markdown",
   "metadata": {},
   "source": [
    "The if statement only concerns that which is tabbed under it. There can also be multiple lines, so the following will print twice for example."
   ]
  },
  {
   "cell_type": "code",
   "execution_count": 11,
   "metadata": {},
   "outputs": [
    {
     "name": "stdout",
     "output_type": "stream",
     "text": [
      "Success\n",
      "Success\n"
     ]
    }
   ],
   "source": [
    "#This will print success twice\n",
    "if True:\n",
    "    print(\"Success\")\n",
    "    print(\"Success\")"
   ]
  },
  {
   "cell_type": "markdown",
   "metadata": {},
   "source": [
    "Things outside the tabbed area will still run normally whether or not the if statement was True. So the following will not print Success, but will print Not because that is outside the if statement."
   ]
  },
  {
   "cell_type": "code",
   "execution_count": 12,
   "metadata": {},
   "outputs": [
    {
     "name": "stdout",
     "output_type": "stream",
     "text": [
      "Not\n"
     ]
    }
   ],
   "source": [
    "#But anything outside an if statement still executes\n",
    "if False:\n",
    "    print(\"Success\")\n",
    "print(\"Not\")"
   ]
  },
  {
   "cell_type": "markdown",
   "metadata": {},
   "source": [
    "If that were true though, both would get printed. Soon we will see how to handle the case where an if statement is not True."
   ]
  },
  {
   "cell_type": "code",
   "execution_count": 13,
   "metadata": {},
   "outputs": [
    {
     "name": "stdout",
     "output_type": "stream",
     "text": [
      "Success\n",
      "Not\n"
     ]
    }
   ],
   "source": [
    "#Both will execute\n",
    "if True:\n",
    "    print(\"Success\")\n",
    "print(\"Not\")"
   ]
  },
  {
   "cell_type": "markdown",
   "metadata": {},
   "source": [
    "Combining what we have learned so far, you can also check and equality and use an if statement."
   ]
  },
  {
   "cell_type": "code",
   "execution_count": 14,
   "metadata": {},
   "outputs": [
    {
     "name": "stdout",
     "output_type": "stream",
     "text": [
      "True\n"
     ]
    }
   ],
   "source": [
    "#Instead of true and false we can actually put a condition in\n",
    "a = 5\n",
    "if a == 5:\n",
    "    print(\"True\")"
   ]
  },
  {
   "cell_type": "markdown",
   "metadata": {},
   "source": [
    "An example where we want to divide a number by 5, and if that is equal to 2 we know that it must be a 10."
   ]
  },
  {
   "cell_type": "code",
   "execution_count": 15,
   "metadata": {},
   "outputs": [
    {
     "name": "stdout",
     "output_type": "stream",
     "text": [
      "It's 10\n"
     ]
    }
   ],
   "source": [
    "a = 10\n",
    "if a/5 == 2:\n",
    "    print(\"It's 10\")"
   ]
  },
  {
   "cell_type": "markdown",
   "metadata": {},
   "source": [
    "## Nesting If Statements\n",
    "\n",
    "If statements are nested by using tab again. What this means is that those lines that are in the nested if statement must be tabbed twice! In the code below we show how we first check if a number is less than 10 and print out something, then check once again if it is less than 8 and if this is also true we print again! Notice, however, that you must tab in twice."
   ]
  },
  {
   "cell_type": "code",
   "execution_count": 16,
   "metadata": {},
   "outputs": [
    {
     "name": "stdout",
     "output_type": "stream",
     "text": [
      "Less than 10\n",
      "Less than 8\n"
     ]
    }
   ],
   "source": [
    "#You can also have multiple if statements within one and other\n",
    "a = 5\n",
    "\n",
    "if a < 10:\n",
    "    print(\"Less than 10\")\n",
    "    if a<8:\n",
    "        print(\"Less than 8\")"
   ]
  },
  {
   "cell_type": "markdown",
   "metadata": {},
   "source": [
    "If only the outer if statement is true, then it will still be run but the inner if statement will not be run."
   ]
  },
  {
   "cell_type": "code",
   "execution_count": 17,
   "metadata": {},
   "outputs": [
    {
     "name": "stdout",
     "output_type": "stream",
     "text": [
      "Less than 10\n"
     ]
    }
   ],
   "source": [
    "#Notice this time only the first indent's code is executed because only that condition is true\n",
    "a = 9\n",
    "if a<10:\n",
    "    print(\"Less than 10\")\n",
    "    if a<8:\n",
    "        print(\"Less than 8\")"
   ]
  },
  {
   "cell_type": "markdown",
   "metadata": {},
   "source": [
    "Even if that inner statement is not run, if you write more code at the level of one tab in, it will still be run (as long as the outer if statement is still True."
   ]
  },
  {
   "cell_type": "code",
   "execution_count": 18,
   "metadata": {},
   "outputs": [
    {
     "name": "stdout",
     "output_type": "stream",
     "text": [
      "Less than 10\n",
      "This still gets executed!\n"
     ]
    }
   ],
   "source": [
    "#This will run code within the first if statement before and after checking the second if statement\n",
    "if a<10:\n",
    "    print(\"Less than 10\")\n",
    "    \n",
    "    if a<8:\n",
    "        print(\"Less than 8\")\n",
    "    \n",
    "    print(\"This still gets executed!\")"
   ]
  },
  {
   "cell_type": "markdown",
   "metadata": {},
   "source": [
    "Also notice that if the outer if statement is false, nothing inside it gets run. So even if the inner if statement is true, it will not run. In this case we know a == 8 is true, but because it is nested within an if statement that is false is will never run!"
   ]
  },
  {
   "cell_type": "code",
   "execution_count": 19,
   "metadata": {},
   "outputs": [],
   "source": [
    "#Nothing gets printed in here because the first statement is false\n",
    "a = 8\n",
    "if a==10:\n",
    "    print(\"Equals 10\")\n",
    "    if a==8:\n",
    "        print(\"Equals 8\")"
   ]
  },
  {
   "cell_type": "markdown",
   "metadata": {},
   "source": [
    "## Else Statement\n",
    "\n",
    "The else statement follows the if statement and gives code to execute when the if statement is not true. The format of it is:\n",
    "\n",
    "<code>if boolean:\n",
    "    execute code\n",
    "else:\n",
    "    execute other code</code>"
   ]
  },
  {
   "cell_type": "code",
   "execution_count": 20,
   "metadata": {},
   "outputs": [
    {
     "name": "stdout",
     "output_type": "stream",
     "text": [
      "Else Statement\n"
     ]
    }
   ],
   "source": [
    "#Else gets executed when our if statement is not true\n",
    "a = 5\n",
    "if a==6:\n",
    "    print(\"If Statement\")\n",
    "else:\n",
    "    print(\"Else Statement\")"
   ]
  },
  {
   "cell_type": "code",
   "execution_count": 21,
   "metadata": {},
   "outputs": [
    {
     "name": "stdout",
     "output_type": "stream",
     "text": [
      "If Statement\n"
     ]
    }
   ],
   "source": [
    "#Else does not get executed here\n",
    "a = 6\n",
    "if a==6:\n",
    "    print(\"If Statement\")\n",
    "else:\n",
    "    print(\"Else Statement\")"
   ]
  },
  {
   "cell_type": "markdown",
   "metadata": {},
   "source": [
    "## Elif Statement\n",
    "\n",
    "By using elif, we get to check if another condition is true after we have seen that the if statement is in fact not true. We can use it with or without an else statement after it. The code below first checks if a equals 5 and prints Good if it is, otherwise it will check if it is equal to 6 and print Meh it is, and finally in all other cases it will print bad."
   ]
  },
  {
   "cell_type": "code",
   "execution_count": 22,
   "metadata": {},
   "outputs": [
    {
     "name": "stdout",
     "output_type": "stream",
     "text": [
      "Meh\n"
     ]
    }
   ],
   "source": [
    "#elif lets us check other conditions if the statement above it is false\n",
    "a = 6\n",
    "if a==5:\n",
    "    print(\"Good\")\n",
    "elif a==6:\n",
    "    print(\"Meh\")\n",
    "else:\n",
    "    print(\"Bad\")"
   ]
  },
  {
   "cell_type": "code",
   "execution_count": 23,
   "metadata": {},
   "outputs": [
    {
     "name": "stdout",
     "output_type": "stream",
     "text": [
      "Bad\n"
     ]
    }
   ],
   "source": [
    "a = 10\n",
    "if a==5:\n",
    "    print(\"Good\")\n",
    "elif a==6:\n",
    "    print(\"Meh\")\n",
    "elif a==10:\n",
    "    print(\"Bad\")"
   ]
  },
  {
   "cell_type": "markdown",
   "metadata": {},
   "source": [
    "You can use as many elif statements as you please, each gets checked after the one before it comes back false and only if it comes back false. Below, we will check if a is equal to 5, then if it is equal to 6, then if it is equal to 10. If none of these are true, nothing happens."
   ]
  },
  {
   "cell_type": "code",
   "execution_count": 24,
   "metadata": {},
   "outputs": [],
   "source": [
    "#Nothing gets printed because none of these statements are true\n",
    "a = 11\n",
    "if a==5:\n",
    "    print(\"Good\")\n",
    "elif a==6:\n",
    "    print(\"Meh\")\n",
    "elif a==10:\n",
    "    print(\"Bad\")"
   ]
  },
  {
   "cell_type": "markdown",
   "metadata": {},
   "source": [
    "A final note on elif. When one of the conditions is true, it no longer checks anything afterwards. In the code below, it will not print the condition checking if a >= 0 because the condition a == 6 already was true. "
   ]
  },
  {
   "cell_type": "code",
   "execution_count": 25,
   "metadata": {},
   "outputs": [
    {
     "name": "stdout",
     "output_type": "stream",
     "text": [
      "Meh\n"
     ]
    }
   ],
   "source": [
    "a = 6\n",
    "if a==5:\n",
    "    print(\"Good\")\n",
    "elif a==6:\n",
    "    print(\"Meh\")\n",
    "elif a >= 0:\n",
    "    print(\"This is a positive number\")"
   ]
  },
  {
   "cell_type": "markdown",
   "metadata": {},
   "source": [
    "## And/Or\n",
    "\n",
    "The and statement takes two boolean values and returns true only if both are true. The or statement returns true if either of the statements are true. Below we can see that the only case where we get true for an and statement is when both are true."
   ]
  },
  {
   "cell_type": "code",
   "execution_count": 26,
   "metadata": {},
   "outputs": [
    {
     "name": "stdout",
     "output_type": "stream",
     "text": [
      "True\n",
      "False\n",
      "False\n",
      "False\n"
     ]
    }
   ],
   "source": [
    "print(True and True)\n",
    "print(False and True)\n",
    "print(True and False)\n",
    "print(False and False)"
   ]
  },
  {
   "cell_type": "markdown",
   "metadata": {},
   "source": [
    "Of course we can use conditions as well..."
   ]
  },
  {
   "cell_type": "code",
   "execution_count": 27,
   "metadata": {},
   "outputs": [
    {
     "name": "stdout",
     "output_type": "stream",
     "text": [
      "False\n",
      "True\n"
     ]
    }
   ],
   "source": [
    "print(5>6 and 5<6)\n",
    "print(True and 5==5)"
   ]
  },
  {
   "cell_type": "markdown",
   "metadata": {},
   "source": [
    "Notice how or is only false if both of the boolean values are false."
   ]
  },
  {
   "cell_type": "code",
   "execution_count": 28,
   "metadata": {},
   "outputs": [
    {
     "name": "stdout",
     "output_type": "stream",
     "text": [
      "True\n",
      "True\n",
      "True\n",
      "False\n"
     ]
    }
   ],
   "source": [
    "print(True or True)\n",
    "print(False or True)\n",
    "print(True or False)\n",
    "print(False or False)"
   ]
  },
  {
   "cell_type": "markdown",
   "metadata": {},
   "source": [
    "Once again we can have conditions"
   ]
  },
  {
   "cell_type": "code",
   "execution_count": 29,
   "metadata": {},
   "outputs": [
    {
     "name": "stdout",
     "output_type": "stream",
     "text": [
      "True\n",
      "True\n"
     ]
    }
   ],
   "source": [
    "print(5>6 or 5<6)\n",
    "print(False or 5==5)"
   ]
  }
 ],
 "metadata": {
  "kernelspec": {
   "display_name": "Python 3",
   "language": "python",
   "name": "python3"
  },
  "language_info": {
   "codemirror_mode": {
    "name": "ipython",
    "version": 3
   },
   "file_extension": ".py",
   "mimetype": "text/x-python",
   "name": "python",
   "nbconvert_exporter": "python",
   "pygments_lexer": "ipython3",
   "version": "3.8.3"
  }
 },
 "nbformat": 4,
 "nbformat_minor": 2
}
