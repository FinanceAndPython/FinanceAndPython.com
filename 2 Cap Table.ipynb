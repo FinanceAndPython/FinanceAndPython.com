{
 "cells": [
  {
   "cell_type": "markdown",
   "metadata": {},
   "source": [
    "# Capitalization Table\n",
    "\n",
    "The capitalization table, often called the cap table, tracks ownership in a startup. During rounds of financing, it will get updated to reflect what new ownership has been allocated. We will work through a few examples and create ways to track historical owernship, measure dilution of shares, and see how the valuation evolves over time."
   ]
  },
  {
   "cell_type": "markdown",
   "metadata": {},
   "source": [
    "## The Cap Table at Inception\n",
    "\n",
    "When a company is first created, the shares can be allocated however the founders want to. For example, if the founders have fronted the cost of the startup, they may allocate shares to themselves as well as an allocation to be given to employees to incentivize them. Let's say that the two founders, Michael and Sean, decide to each take 1500 shares and then reserve 1000 shares to be given to employees."
   ]
  },
  {
   "cell_type": "code",
   "execution_count": 1,
   "metadata": {},
   "outputs": [
    {
     "name": "stdout",
     "output_type": "stream",
     "text": [
      "    Investor  Shares\n",
      "0    Michael    1500\n",
      "1       Sean    1500\n",
      "2  Employees    1000\n"
     ]
    }
   ],
   "source": [
    "import pandas as pd\n",
    "\n",
    "cap_table = pd.DataFrame([['Michael', 1500],\n",
    "['Sean', 1500],\n",
    "['Employees', 1000]], columns = ['Investor', 'Shares'])\n",
    "\n",
    "print(cap_table)"
   ]
  },
  {
   "cell_type": "markdown",
   "metadata": {},
   "source": [
    "The owernship in the company for each party equals the number of shares divided by the total number of shares outstanding. We can add that column easily."
   ]
  },
  {
   "cell_type": "code",
   "execution_count": 2,
   "metadata": {},
   "outputs": [
    {
     "name": "stdout",
     "output_type": "stream",
     "text": [
      "    Investor  Shares  % Ownership\n",
      "0    Michael    1500        0.375\n",
      "1       Sean    1500        0.375\n",
      "2  Employees    1000        0.250\n"
     ]
    }
   ],
   "source": [
    "cap_table['% Ownership'] = cap_table['Shares'] / cap_table['Shares'].sum()\n",
    "print(cap_table)"
   ]
  },
  {
   "cell_type": "markdown",
   "metadata": {},
   "source": [
    "Before we receive any funding, we can't know what the value of the company is. So until we are able to give a price per share, we can use a null value for the share price and value."
   ]
  },
  {
   "cell_type": "code",
   "execution_count": 3,
   "metadata": {},
   "outputs": [
    {
     "name": "stdout",
     "output_type": "stream",
     "text": [
      "    Investor  Shares  % Ownership  Price  Value\n",
      "0    Michael    1500        0.375    NaN    NaN\n",
      "1       Sean    1500        0.375    NaN    NaN\n",
      "2  Employees    1000        0.250    NaN    NaN\n"
     ]
    }
   ],
   "source": [
    "import numpy as np\n",
    "cap_table['Price'] = np.NaN\n",
    "cap_table['Value'] = np.NaN\n",
    "print(cap_table)"
   ]
  },
  {
   "cell_type": "markdown",
   "metadata": {},
   "source": [
    "## The First Valuation\n",
    "\n",
    "The first time we will know a price to give to the shares is once money is raised. If investors put forward I amount of money, for a stake of S in the company, than the valuation of the company should be I/S.\n",
    "\n",
    "$ V_{POST} = \\frac{I}{S}$\n",
    "\n",
    "where \n",
    "\n",
    "$ V_{POST} = \\text{Post-money Valuation}$\n",
    "\n",
    "$ I = \\text{The amount of investment}$\n",
    "\n",
    "$ S = \\text{The ownership stake for investors}$"
   ]
  },
  {
   "cell_type": "markdown",
   "metadata": {},
   "source": [
    "For example, if $100,000 is given for a 20% stake in a company, we can calculate what the valuation of the company is implied to be."
   ]
  },
  {
   "cell_type": "code",
   "execution_count": 4,
   "metadata": {},
   "outputs": [
    {
     "name": "stdout",
     "output_type": "stream",
     "text": [
      "500000.0\n"
     ]
    }
   ],
   "source": [
    "investment = 100000\n",
    "stake = .2\n",
    "post_money_valuation = investment / stake\n",
    "print(post_money_valuation)"
   ]
  },
  {
   "cell_type": "markdown",
   "metadata": {},
   "source": [
    "## Pre-Money Valuation\n",
    "\n",
    "If we have the valuation after the money has been invested, we can find what the implied valuation without the investment would be based on simply subtracting it out.\n",
    "\n",
    "$ V_{PRE} = V_{POST} - I $\n",
    "\n",
    "where \n",
    "\n",
    "$ V_{PRE} = \\text{Pre-money Valuation}$\n",
    "\n",
    "$ V_{POST} = \\text{Post-money Valuation}$\n",
    "\n",
    "$ I = \\text{The amount of investment}$"
   ]
  },
  {
   "cell_type": "markdown",
   "metadata": {},
   "source": [
    "Using our example from before, the valuation for the company prior to receiving the new capital would be $400,000."
   ]
  },
  {
   "cell_type": "code",
   "execution_count": 5,
   "metadata": {},
   "outputs": [
    {
     "name": "stdout",
     "output_type": "stream",
     "text": [
      "400000.0\n"
     ]
    }
   ],
   "source": [
    "pre_money_valuation = post_money_valuation - investment\n",
    "print(pre_money_valuation)"
   ]
  },
  {
   "cell_type": "markdown",
   "metadata": {},
   "source": [
    "The other way that we could work through fund raising is when investors come to the pre-money valuation first and then decide on the shares they want to purchase. In this case, if we have the pre-money valuation and the investment that the investor wants to put in we can find the share they will own as:\n",
    "\n",
    "$ S = \\frac{I}{V_{PRE} + I}$\n",
    "\n",
    "where \n",
    "\n",
    "$ V_{PRE} = \\text{Pre-money Valuation}$\n",
    "\n",
    "$ I = \\text{The amount of investment}$\n",
    "\n",
    "$ S = \\text{The ownership stake for investors}$"
   ]
  },
  {
   "cell_type": "code",
   "execution_count": 6,
   "metadata": {},
   "outputs": [
    {
     "name": "stdout",
     "output_type": "stream",
     "text": [
      "0.2\n"
     ]
    }
   ],
   "source": [
    "#Find the share\n",
    "pre_money_valuation = 400000\n",
    "I = 100000\n",
    "S = I / (pre_money_valuation + I)\n",
    "print(S)"
   ]
  },
  {
   "cell_type": "markdown",
   "metadata": {},
   "source": [
    "## Share Price\n",
    "\n",
    "Using the cap table, prior to counting the investment, we could back out what the share price must be given the pre-money valuation and shares outstanding.\n",
    "\n",
    "$ V_{PRE} = S * P $\n",
    "\n",
    "where \n",
    "\n",
    "$ V_{PRE} = \\text{Pre-money Valuation}$\n",
    "\n",
    "$ S = \\text{Number of shares prior to new investors}$\n",
    "\n",
    "$ P = \\text{Price of shares}$"
   ]
  },
  {
   "cell_type": "code",
   "execution_count": 7,
   "metadata": {},
   "outputs": [
    {
     "name": "stdout",
     "output_type": "stream",
     "text": [
      "100.0\n"
     ]
    }
   ],
   "source": [
    "#Find the total number of shares\n",
    "total_shares = cap_table['Shares'].sum()\n",
    "\n",
    "#Calculate the implied share price\n",
    "share_price = pre_money_valuation / total_shares\n",
    "print(share_price)"
   ]
  },
  {
   "cell_type": "code",
   "execution_count": 8,
   "metadata": {},
   "outputs": [
    {
     "name": "stdout",
     "output_type": "stream",
     "text": [
      "    Investor  Shares  % Ownership  Price     Value\n",
      "0    Michael    1500        0.375  100.0  150000.0\n",
      "1       Sean    1500        0.375  100.0  150000.0\n",
      "2  Employees    1000        0.250  100.0  100000.0\n"
     ]
    }
   ],
   "source": [
    "#Now we could calculate the value of shares pre-money\n",
    "cap_table['Price'] = share_price\n",
    "cap_table['Value'] = share_price * cap_table['Shares']\n",
    "print(cap_table)"
   ]
  },
  {
   "cell_type": "markdown",
   "metadata": {},
   "source": [
    "## New Shares\n",
    "\n",
    "To calculate the number of new shares that will be created and given to investors is simple. It is the investment divided by the implied share price.\n",
    "\n",
    "$ S_{NEW} = \\frac{I}{P} $\n",
    "\n",
    "where\n",
    "\n",
    "$ S_{NEW} = \\text{The number of newly created shares} $\n",
    "\n",
    "$ I = \\text{The amount of investment}$\n",
    "\n",
    "$ P = \\text{Price of shares}$"
   ]
  },
  {
   "cell_type": "code",
   "execution_count": 9,
   "metadata": {},
   "outputs": [
    {
     "name": "stdout",
     "output_type": "stream",
     "text": [
      "1000.0\n"
     ]
    }
   ],
   "source": [
    "#Calculate new shares\n",
    "new_shares = investment / share_price\n",
    "print(new_shares)"
   ]
  },
  {
   "cell_type": "code",
   "execution_count": 10,
   "metadata": {},
   "outputs": [
    {
     "name": "stdout",
     "output_type": "stream",
     "text": [
      "      Investor  Shares  % Ownership  Price     Value\n",
      "0      Michael  1500.0        0.375  100.0  150000.0\n",
      "1         Sean  1500.0        0.375  100.0  150000.0\n",
      "2    Employees  1000.0        0.250  100.0  100000.0\n",
      "3  XYZ Capital  1000.0          NaN  100.0       NaN\n"
     ]
    }
   ],
   "source": [
    "#Add in the newly created shares to the cap table\n",
    "cap_table.loc[3] = ['XYZ Capital', new_shares, np.NaN, share_price, np.NaN]\n",
    "print(cap_table)"
   ]
  },
  {
   "cell_type": "code",
   "execution_count": 11,
   "metadata": {},
   "outputs": [
    {
     "name": "stdout",
     "output_type": "stream",
     "text": [
      "      Investor  Shares  % Ownership  Price     Value\n",
      "0      Michael  1500.0          0.3  100.0  150000.0\n",
      "1         Sean  1500.0          0.3  100.0  150000.0\n",
      "2    Employees  1000.0          0.2  100.0  100000.0\n",
      "3  XYZ Capital  1000.0          0.2  100.0  100000.0\n"
     ]
    }
   ],
   "source": [
    "#Recalculate the % ownership and values\n",
    "cap_table['% Ownership'] = cap_table['Shares'] / cap_table['Shares'].sum()\n",
    "cap_table['Price'] = share_price\n",
    "cap_table['Value'] = share_price * cap_table['Shares']\n",
    "print(cap_table)"
   ]
  },
  {
   "cell_type": "markdown",
   "metadata": {},
   "source": [
    "You will notice already that the owernships of all other parties have been diluted. This naturally happens as more investment in the company is added."
   ]
  },
  {
   "cell_type": "markdown",
   "metadata": {},
   "source": [
    "## Second Round of Investment\n",
    "\n",
    "What if a new investor comes along and wants a 20% stake as well, but is willing to pay double and invest $200,000 in? Calculating the post-money valuation, we see that the valuation of the company has doubled!"
   ]
  },
  {
   "cell_type": "code",
   "execution_count": 12,
   "metadata": {},
   "outputs": [
    {
     "name": "stdout",
     "output_type": "stream",
     "text": [
      "1000000.0\n"
     ]
    }
   ],
   "source": [
    "investment = 200000\n",
    "stake = .2\n",
    "post_money_valuation = investment / stake\n",
    "print(post_money_valuation)"
   ]
  },
  {
   "cell_type": "markdown",
   "metadata": {},
   "source": [
    "The pre-money valuation has also grown! Prior to this investment, the value was \\\\$500,000 distributed between the founders, employees and XYZ capital. Now, the pre-money valuation is \\\\$800,000 meaning the company created $300,000 worth of value between the two rounds of financing!"
   ]
  },
  {
   "cell_type": "code",
   "execution_count": 13,
   "metadata": {},
   "outputs": [
    {
     "name": "stdout",
     "output_type": "stream",
     "text": [
      "800000.0\n"
     ]
    }
   ],
   "source": [
    "#Calculate the pre-money valuation\n",
    "pre_money_valuation = post_money_valuation - investment\n",
    "print(pre_money_valuation)"
   ]
  },
  {
   "cell_type": "markdown",
   "metadata": {},
   "source": [
    "Equivalently, the investor might have come in and said they believed the company was worth 800K and wanted to get a 20%, we can calculate it by re-arranging some of the terms.\n",
    "\n",
    "$ S = \\frac{I}{V_{PRE} + I}$\n",
    "\n",
    "$ S*(V_{PRE} + I) = I$\n",
    "\n",
    "$ S*V_{PRE} = (1-S)*I$\n",
    "\n",
    "$ I = \\frac{S*V_{PRE}}{1-S}$\n",
    "\n",
    "\n",
    "where \n",
    "\n",
    "$ V_{PRE} = \\text{Pre-money Valuation}$\n",
    "\n",
    "$ I = \\text{The amount of investment}$\n",
    "\n",
    "$ S = \\text{The ownership stake for investors}$"
   ]
  },
  {
   "cell_type": "code",
   "execution_count": 14,
   "metadata": {},
   "outputs": [
    {
     "name": "stdout",
     "output_type": "stream",
     "text": [
      "200000.0\n"
     ]
    }
   ],
   "source": [
    "#Confirm the investment amount comes out to the same thing\n",
    "pre_money_valuation = 800000\n",
    "s = .2\n",
    "I = (s * pre_money_valuation)/(1-s)\n",
    "print(I)"
   ]
  },
  {
   "cell_type": "code",
   "execution_count": 15,
   "metadata": {},
   "outputs": [
    {
     "name": "stdout",
     "output_type": "stream",
     "text": [
      "160.0\n"
     ]
    }
   ],
   "source": [
    "#Find the share price\n",
    "total_shares = cap_table['Shares'].sum()\n",
    "share_price = pre_money_valuation / total_shares\n",
    "print(share_price)"
   ]
  },
  {
   "cell_type": "markdown",
   "metadata": {},
   "source": [
    "Notice in both the case of the valuation and the share price, the implied growth between the rounds of financing for all parties was 60%."
   ]
  },
  {
   "cell_type": "code",
   "execution_count": 16,
   "metadata": {},
   "outputs": [
    {
     "name": "stdout",
     "output_type": "stream",
     "text": [
      "0.6000000000000001\n",
      "0.6000000000000001\n"
     ]
    }
   ],
   "source": [
    "print(share_price/100-1)\n",
    "print(pre_money_valuation/500000-1)"
   ]
  },
  {
   "cell_type": "code",
   "execution_count": 17,
   "metadata": {},
   "outputs": [
    {
     "name": "stdout",
     "output_type": "stream",
     "text": [
      "1250.0\n"
     ]
    }
   ],
   "source": [
    "#Once again figure out how many new shares are created\n",
    "new_shares = investment / share_price\n",
    "print(new_shares)"
   ]
  },
  {
   "cell_type": "code",
   "execution_count": 18,
   "metadata": {},
   "outputs": [
    {
     "name": "stdout",
     "output_type": "stream",
     "text": [
      "      Investor  Shares  % Ownership  Price     Value\n",
      "0      Michael  1500.0         0.24  160.0  240000.0\n",
      "1         Sean  1500.0         0.24  160.0  240000.0\n",
      "2    Employees  1000.0         0.16  160.0  160000.0\n",
      "3  XYZ Capital  1000.0         0.16  160.0  160000.0\n",
      "4  ABC Capital  1250.0         0.20  160.0  200000.0\n"
     ]
    }
   ],
   "source": [
    "#Update the cap table\n",
    "cap_table.loc[4] = ['ABC Capital', new_shares, np.NaN, share_price, np.NaN]\n",
    "cap_table['Price'] = share_price\n",
    "cap_table['% Ownership'] = cap_table['Shares'] / cap_table['Shares'].sum()\n",
    "cap_table['Value'] = cap_table['Shares'] * cap_table['Price']\n",
    "print(cap_table)"
   ]
  },
  {
   "cell_type": "markdown",
   "metadata": {},
   "source": [
    "While all other parties have been diluted, the value of their investments has actually grown. The amount of dilution can be found by considering that if a x% stake is sold to investors, then (1-x)% of each investors stake must be diluted to support it. For investors who are not getting new owernship, we can calculated their diluted ownership like so:\n",
    "\n",
    "$ O_{POST} = O_{PRE} * (1- S) $\n",
    "\n",
    "where\n",
    "\n",
    "$O_{POST} = \\text{Ownerhsip Percent after Latest Round}$ \n",
    "\n",
    "$O_{PRE} = \\text{Ownerhsip Percent prior to Latest Round}$ \n",
    "\n",
    "$S = \\text{The stake being sold to new investors}$ "
   ]
  },
  {
   "cell_type": "markdown",
   "metadata": {},
   "source": [
    "For example, XYZ Capital had a 20% stake before, but after has a 16% stake."
   ]
  },
  {
   "cell_type": "code",
   "execution_count": 19,
   "metadata": {},
   "outputs": [
    {
     "name": "stdout",
     "output_type": "stream",
     "text": [
      "0.16000000000000003\n"
     ]
    }
   ],
   "source": [
    "print(.2 * (1-.2))"
   ]
  },
  {
   "cell_type": "markdown",
   "metadata": {},
   "source": [
    "We can finally confirm that the post-money valuation matches the total value in the cap table after including the new investor."
   ]
  },
  {
   "cell_type": "code",
   "execution_count": 20,
   "metadata": {},
   "outputs": [
    {
     "name": "stdout",
     "output_type": "stream",
     "text": [
      "1000000.0\n"
     ]
    }
   ],
   "source": [
    "print(cap_table['Value'].sum())"
   ]
  },
  {
   "cell_type": "markdown",
   "metadata": {},
   "source": [
    "## Creating Functions to Track Cap Tables\n",
    "\n",
    "Instead of doing this over and over again, we can create a function which takes a current cap table as well as the new investor information and returns what the new cap table will look like."
   ]
  },
  {
   "cell_type": "code",
   "execution_count": 21,
   "metadata": {},
   "outputs": [],
   "source": [
    "import pandas as pd\n",
    "\n",
    "#Start with our basic cap table\n",
    "cap_table = pd.DataFrame([['Michael', 1500],\n",
    "['Sean', 1500],\n",
    "['Employees', 1000]], columns = ['Investor', 'Shares'])\n",
    "cap_table['% Ownership'] = cap_table['Shares'] / cap_table['Shares'].sum()\n",
    "cap_table['Price'] = np.NaN\n",
    "cap_table['Value'] = np.NaN"
   ]
  },
  {
   "cell_type": "markdown",
   "metadata": {},
   "source": [
    "Our inputs would be the total amount raised and the amount owernship that is going to be given after creation of new shares."
   ]
  },
  {
   "cell_type": "code",
   "execution_count": 22,
   "metadata": {},
   "outputs": [],
   "source": [
    "#Create our inputs\n",
    "total_raised = 100000\n",
    "post_ownership = {\"ABC Capital\": .1,\n",
    "                 \"XYZ Capital\": .1}"
   ]
  },
  {
   "cell_type": "markdown",
   "metadata": {},
   "source": [
    "To make it easier to understand, we will break down each part of the function to see how it all flows. One new thing that we are going to control for is the case where an investor who is already invested in the company decides to increase their stake. We need to consolidate their previous stake and new stake in this case."
   ]
  },
  {
   "cell_type": "code",
   "execution_count": 23,
   "metadata": {},
   "outputs": [],
   "source": [
    "#Create a copy of the table to update with\n",
    "new_cap_table = cap_table.copy()"
   ]
  },
  {
   "cell_type": "code",
   "execution_count": 24,
   "metadata": {},
   "outputs": [
    {
     "name": "stdout",
     "output_type": "stream",
     "text": [
      "0.2\n",
      "500000.0\n",
      "400000.0\n"
     ]
    }
   ],
   "source": [
    "#Find the valuations\n",
    "new_ownership = sum(post_ownership.values())\n",
    "post_money_valuation = total_raised / new_ownership\n",
    "pre_money_valuation = post_money_valuation - total_raised\n",
    "    \n",
    "print(new_ownership)\n",
    "print(post_money_valuation)\n",
    "print(pre_money_valuation)"
   ]
  },
  {
   "cell_type": "code",
   "execution_count": 25,
   "metadata": {},
   "outputs": [
    {
     "name": "stdout",
     "output_type": "stream",
     "text": [
      "100.0\n"
     ]
    }
   ],
   "source": [
    "#Compute the price\n",
    "total_shares = cap_table['Shares'].sum()\n",
    "share_price = pre_money_valuation / total_shares\n",
    "print(share_price)"
   ]
  },
  {
   "cell_type": "code",
   "execution_count": 26,
   "metadata": {},
   "outputs": [
    {
     "name": "stdout",
     "output_type": "stream",
     "text": [
      "      Investor  % Ownership  Shares\n",
      "0  ABC Capital          0.1   500.0\n",
      "1  XYZ Capital          0.1   500.0\n"
     ]
    }
   ],
   "source": [
    "#Create a dataframe to track the newly created shares\n",
    "post_ownership = pd.Series(post_ownership).reset_index()\n",
    "post_ownership.columns = [\"Investor\", \"% Ownership\"]\n",
    "post_ownership['Shares'] = post_ownership[\"% Ownership\"] * post_money_valuation / share_price\n",
    "print(post_ownership)"
   ]
  },
  {
   "cell_type": "code",
   "execution_count": 27,
   "metadata": {},
   "outputs": [
    {
     "name": "stdout",
     "output_type": "stream",
     "text": [
      "      Investor  Shares\n",
      "0  ABC Capital   500.0\n",
      "1    Employees  1000.0\n",
      "2      Michael  1500.0\n",
      "3         Sean  1500.0\n",
      "4  XYZ Capital   500.0\n"
     ]
    }
   ],
   "source": [
    "#Combine the old and new data, and group by the investor name to get the total shares (to consolidate)\n",
    "new_cap_table = pd.concat([new_cap_table, post_ownership])\n",
    "new_cap_table = new_cap_table.groupby(\"Investor\")['Shares'].sum()\n",
    "new_cap_table = new_cap_table.reset_index()\n",
    "print(new_cap_table)"
   ]
  },
  {
   "cell_type": "code",
   "execution_count": 28,
   "metadata": {},
   "outputs": [
    {
     "name": "stdout",
     "output_type": "stream",
     "text": [
      "      Investor  Shares  Price     Value  % Ownership\n",
      "0  ABC Capital   500.0  100.0   50000.0          0.1\n",
      "1    Employees  1000.0  100.0  100000.0          0.2\n",
      "2      Michael  1500.0  100.0  150000.0          0.3\n",
      "3         Sean  1500.0  100.0  150000.0          0.3\n",
      "4  XYZ Capital   500.0  100.0   50000.0          0.1\n"
     ]
    }
   ],
   "source": [
    "#Add back in the columns for price, value and percent ownership\n",
    "new_cap_table['Price'] = share_price\n",
    "new_cap_table['Value'] = new_cap_table['Price'] * new_cap_table['Shares']\n",
    "new_cap_table['% Ownership'] = new_cap_table['Shares'] / new_cap_table['Shares'].sum()\n",
    "print(new_cap_table)"
   ]
  },
  {
   "cell_type": "code",
   "execution_count": 29,
   "metadata": {},
   "outputs": [
    {
     "name": "stdout",
     "output_type": "stream",
     "text": [
      "      Investor  Shares  Price     Value  % Ownership\n",
      "0  ABC Capital   500.0  100.0   50000.0          0.1\n",
      "1    Employees  1000.0  100.0  100000.0          0.2\n",
      "2      Michael  1500.0  100.0  150000.0          0.3\n",
      "3         Sean  1500.0  100.0  150000.0          0.3\n",
      "4  XYZ Capital   500.0  100.0   50000.0          0.1\n"
     ]
    }
   ],
   "source": [
    "#Put it all into a function\n",
    "def update_cap_table(cap_table, total_raised, post_ownership):\n",
    "    #Create a copy of the table to update with\n",
    "    new_cap_table = cap_table.copy()\n",
    "    \n",
    "    #Find the valuations\n",
    "    new_ownership = sum(post_ownership.values())\n",
    "    post_money_valuation = total_raised / new_ownership\n",
    "    pre_money_valuation = post_money_valuation - total_raised\n",
    "    \n",
    "    #Compute the price\n",
    "    total_shares = cap_table['Shares'].sum()\n",
    "    share_price = pre_money_valuation / total_shares\n",
    "    \n",
    "    #Create a dataframe to track the newly created shares\n",
    "    post_ownership = pd.Series(post_ownership).reset_index()\n",
    "    post_ownership.columns = [\"Investor\", \"% Ownership\"]\n",
    "    post_ownership['Shares'] = post_ownership[\"% Ownership\"] * post_money_valuation / share_price\n",
    "    \n",
    "    #Combine the old and new data, and group by the investor name to get the total shares (to consolidate)\n",
    "    new_cap_table = pd.concat([new_cap_table, post_ownership])\n",
    "    new_cap_table = new_cap_table.groupby(\"Investor\")['Shares'].sum()\n",
    "    new_cap_table = new_cap_table.reset_index()\n",
    "    \n",
    "    #Add back in the columns for price, value and percent ownership\n",
    "    new_cap_table['Price'] = share_price\n",
    "    new_cap_table['Value'] = new_cap_table['Price'] * new_cap_table['Shares']\n",
    "    new_cap_table['% Ownership'] = new_cap_table['Shares'] / new_cap_table['Shares'].sum()\n",
    "    return new_cap_table\n",
    "cap_table = pd.DataFrame([['Michael', 1500],\n",
    "['Sean', 1500],\n",
    "['Employees', 1000]], columns = ['Investor', 'Shares'])\n",
    "cap_table['% Ownership'] = cap_table['Shares'] / cap_table['Shares'].sum()\n",
    "cap_table['Price'] = np.NaN\n",
    "cap_table['Value'] = np.NaN\n",
    "total_raised = 100000\n",
    "post_ownership = {\"ABC Capital\": .1,\n",
    "                 \"XYZ Capital\": .1}\n",
    "print(update_cap_table(cap_table, total_raised, post_ownership))"
   ]
  },
  {
   "cell_type": "markdown",
   "metadata": {},
   "source": [
    "Now that we have created a function to update our cap tables, we can try it with a few rounds of financing. This function will make the process automated and much easier! We will track all the cap tables over time as well to see the evolution."
   ]
  },
  {
   "cell_type": "code",
   "execution_count": 30,
   "metadata": {},
   "outputs": [
    {
     "name": "stdout",
     "output_type": "stream",
     "text": [
      "[    Investor  Shares  % Ownership  Price  Value\n",
      "0    Michael    1500        0.375    NaN    NaN\n",
      "1       Sean    1500        0.375    NaN    NaN\n",
      "2  Employees    1000        0.250    NaN    NaN,       Investor  Shares  Price     Value  % Ownership\n",
      "0  ABC Capital   500.0  100.0   50000.0          0.1\n",
      "1    Employees  1000.0  100.0  100000.0          0.2\n",
      "2      Michael  1500.0  100.0  150000.0          0.3\n",
      "3         Sean  1500.0  100.0  150000.0          0.3\n",
      "4  XYZ Capital   500.0  100.0   50000.0          0.1,       Investor       Shares       Price          Value  % Ownership\n",
      "0  ABC Capital  1088.235294  226.666667  246666.666667        0.185\n",
      "1    Employees  1000.000000  226.666667  226666.666667        0.170\n",
      "2   M Ventures   294.117647  226.666667   66666.666667        0.050\n",
      "3      Michael  1500.000000  226.666667  340000.000000        0.255\n",
      "4         Sean  1500.000000  226.666667  340000.000000        0.255\n",
      "5  XYZ Capital   500.000000  226.666667  113333.333333        0.085,       Investor       Shares  Price      Value  % Ownership\n",
      "0  ABC Capital  1415.032680  765.0  1082500.0       0.2165\n",
      "1    Employees  1000.000000  765.0   765000.0       0.1530\n",
      "2   M Ventures   620.915033  765.0   475000.0       0.0950\n",
      "3      Michael  1500.000000  765.0  1147500.0       0.2295\n",
      "4         Sean  1500.000000  765.0  1147500.0       0.2295\n",
      "5  XYZ Capital   500.000000  765.0   382500.0       0.0765,       Investor       Shares   Price      Value  % Ownership\n",
      "0  ABC Capital  1587.031304  2907.0  4613500.0     0.230675\n",
      "1    Employees  1000.000000  2907.0  2907000.0     0.145350\n",
      "2  Growth Fund   171.998624  2907.0   500000.0     0.025000\n",
      "3   M Ventures   620.915033  2907.0  1805000.0     0.090250\n",
      "4      Michael  1500.000000  2907.0  4360500.0     0.218025\n",
      "5         Sean  1500.000000  2907.0  4360500.0     0.218025\n",
      "6  XYZ Capital   500.000000  2907.0  1453500.0     0.072675]\n"
     ]
    }
   ],
   "source": [
    "cap_table = pd.DataFrame([['Michael', 1500],\n",
    "['Sean', 1500],\n",
    "['Employees', 1000]], columns = ['Investor', 'Shares'])\n",
    "cap_table['% Ownership'] = cap_table['Shares'] / cap_table['Shares'].sum()\n",
    "cap_table['Price'] = np.NaN\n",
    "cap_table['Value'] = np.NaN\n",
    "\n",
    "\n",
    "historical_cap_tables = [cap_table]\n",
    "\n",
    "total_raised = 100000\n",
    "post_ownership = {\"ABC Capital\": .1,\n",
    "                 \"XYZ Capital\": .1}\n",
    "cap_table = update_cap_table(cap_table, total_raised, post_ownership)\n",
    "historical_cap_tables.append(cap_table)\n",
    "\n",
    "total_raised = 200000\n",
    "post_ownership = {\"ABC Capital\": .1,\n",
    "                 \"M Ventures\": .05}\n",
    "cap_table = update_cap_table(cap_table, total_raised, post_ownership)\n",
    "historical_cap_tables.append(cap_table)\n",
    "\n",
    "total_raised = 500000\n",
    "post_ownership = {\"ABC Capital\": .05,\n",
    "                 \"M Ventures\": .05,\n",
    "                 \"ABC Capital\": .05}\n",
    "cap_table = update_cap_table(cap_table, total_raised, post_ownership)\n",
    "historical_cap_tables.append(cap_table)\n",
    "\n",
    "total_raised = 1000000\n",
    "post_ownership = {\"ABC Capital\": .025,\n",
    "                 \"Growth Fund\": .025}\n",
    "cap_table = update_cap_table(cap_table, total_raised, post_ownership)\n",
    "historical_cap_tables.append(cap_table)\n",
    "print(historical_cap_tables)"
   ]
  },
  {
   "cell_type": "markdown",
   "metadata": {},
   "source": [
    "The first thing to track is how the ownership changes over time. If we pull the column for ownernship from each of the historical cap tables, we begin to see the evolution. First let's look at what we are pulling out with list comprehension."
   ]
  },
  {
   "cell_type": "code",
   "execution_count": 31,
   "metadata": {},
   "outputs": [
    {
     "name": "stdout",
     "output_type": "stream",
     "text": [
      "[Investor\n",
      "Michael      0.375\n",
      "Sean         0.375\n",
      "Employees    0.250\n",
      "Name: % Ownership, dtype: float64, Investor\n",
      "ABC Capital    0.1\n",
      "Employees      0.2\n",
      "Michael        0.3\n",
      "Sean           0.3\n",
      "XYZ Capital    0.1\n",
      "Name: % Ownership, dtype: float64, Investor\n",
      "ABC Capital    0.185\n",
      "Employees      0.170\n",
      "M Ventures     0.050\n",
      "Michael        0.255\n",
      "Sean           0.255\n",
      "XYZ Capital    0.085\n",
      "Name: % Ownership, dtype: float64, Investor\n",
      "ABC Capital    0.2165\n",
      "Employees      0.1530\n",
      "M Ventures     0.0950\n",
      "Michael        0.2295\n",
      "Sean           0.2295\n",
      "XYZ Capital    0.0765\n",
      "Name: % Ownership, dtype: float64, Investor\n",
      "ABC Capital    0.230675\n",
      "Employees      0.145350\n",
      "Growth Fund    0.025000\n",
      "M Ventures     0.090250\n",
      "Michael        0.218025\n",
      "Sean           0.218025\n",
      "XYZ Capital    0.072675\n",
      "Name: % Ownership, dtype: float64]\n"
     ]
    }
   ],
   "source": [
    "historical_owernship = [x.set_index('Investor')['% Ownership'] for x in historical_cap_tables]\n",
    "print(historical_owernship)"
   ]
  },
  {
   "cell_type": "markdown",
   "metadata": {},
   "source": [
    "Now, we concat these together and transpose them (so that the columns correspond to the different inevstors). "
   ]
  },
  {
   "cell_type": "code",
   "execution_count": 32,
   "metadata": {},
   "outputs": [
    {
     "name": "stdout",
     "output_type": "stream",
     "text": [
      "              Michael      Sean  Employees  ABC Capital  XYZ Capital  \\\n",
      "% Ownership  0.375000  0.375000    0.25000          NaN          NaN   \n",
      "% Ownership  0.300000  0.300000    0.20000     0.100000     0.100000   \n",
      "% Ownership  0.255000  0.255000    0.17000     0.185000     0.085000   \n",
      "% Ownership  0.229500  0.229500    0.15300     0.216500     0.076500   \n",
      "% Ownership  0.218025  0.218025    0.14535     0.230675     0.072675   \n",
      "\n",
      "             M Ventures  Growth Fund  \n",
      "% Ownership         NaN          NaN  \n",
      "% Ownership         NaN          NaN  \n",
      "% Ownership     0.05000          NaN  \n",
      "% Ownership     0.09500          NaN  \n",
      "% Ownership     0.09025        0.025  \n"
     ]
    }
   ],
   "source": [
    "historical_owernship = [x.set_index('Investor')['% Ownership'] for x in historical_cap_tables]\n",
    "historical_owernship = pd.concat(historical_owernship, axis=1).transpose()\n",
    "print(historical_owernship)"
   ]
  },
  {
   "cell_type": "markdown",
   "metadata": {},
   "source": [
    "Finally, let's reset the index (dropping it) because it is all labeled the same, and fillna with 0 to denote that if there is no value, it should be 0% ownernship."
   ]
  },
  {
   "cell_type": "code",
   "execution_count": 33,
   "metadata": {},
   "outputs": [
    {
     "name": "stdout",
     "output_type": "stream",
     "text": [
      "    Michael      Sean  Employees  ABC Capital  XYZ Capital  M Ventures  \\\n",
      "0  0.375000  0.375000    0.25000     0.000000     0.000000     0.00000   \n",
      "1  0.300000  0.300000    0.20000     0.100000     0.100000     0.00000   \n",
      "2  0.255000  0.255000    0.17000     0.185000     0.085000     0.05000   \n",
      "3  0.229500  0.229500    0.15300     0.216500     0.076500     0.09500   \n",
      "4  0.218025  0.218025    0.14535     0.230675     0.072675     0.09025   \n",
      "\n",
      "   Growth Fund  \n",
      "0        0.000  \n",
      "1        0.000  \n",
      "2        0.000  \n",
      "3        0.000  \n",
      "4        0.025  \n"
     ]
    }
   ],
   "source": [
    "historical_owernship = [x.set_index(\"Investor\")['% Ownership'] for x in historical_cap_tables]\n",
    "historical_owernship = pd.concat(historical_owernship, axis=1).transpose()\n",
    "historical_owernship = historical_owernship.reset_index(drop=True).fillna(0)\n",
    "print(historical_owernship)"
   ]
  },
  {
   "cell_type": "markdown",
   "metadata": {},
   "source": [
    "Plotting the ownership that different parties have over time really drives home how these rounds of financing have led to dilution for many parties that were not increasing their stakes in the rounds."
   ]
  },
  {
   "cell_type": "code",
   "execution_count": 34,
   "metadata": {},
   "outputs": [
    {
     "data": {
      "image/png": "[encoded data removed]",
      "text/plain": [
       "<Figure size 432x288 with 1 Axes>"
      ]
     },
     "metadata": {
      "needs_background": "light"
     },
     "output_type": "display_data"
    }
   ],
   "source": [
    "import matplotlib.pyplot as plt\n",
    "from matplotlib.ticker import PercentFormatter\n",
    "\n",
    "ax = historical_owernship.plot(kind='line')\n",
    "ax.set_xlabel(\"Round\")\n",
    "ax.set_ylabel(\"Percent Ownership\")\n",
    "\n",
    "ax.set_title(\"Company Ownership over Time\")\n",
    "ax.yaxis.set_major_formatter(PercentFormatter(1))\n",
    "\n",
    "plt.show()"
   ]
  },
  {
   "cell_type": "code",
   "execution_count": 35,
   "metadata": {},
   "outputs": [
    {
     "name": "stdout",
     "output_type": "stream",
     "text": [
      "     Michael       Sean     Employees   ABC Capital   XYZ Capital  \\\n",
      "0        NaN        NaN           NaN           NaN           NaN   \n",
      "1   150000.0   150000.0  1.000000e+05  5.000000e+04  5.000000e+04   \n",
      "2   340000.0   340000.0  2.266667e+05  2.466667e+05  1.133333e+05   \n",
      "3  1147500.0  1147500.0  7.650000e+05  1.082500e+06  3.825000e+05   \n",
      "4  4360500.0  4360500.0  2.907000e+06  4.613500e+06  1.453500e+06   \n",
      "\n",
      "     M Ventures  Growth Fund  \n",
      "0           NaN          NaN  \n",
      "1           NaN          NaN  \n",
      "2  6.666667e+04          NaN  \n",
      "3  4.750000e+05          NaN  \n",
      "4  1.805000e+06     500000.0  \n"
     ]
    }
   ],
   "source": [
    "historical_value = [x.set_index(\"Investor\")['Value'] for x in historical_cap_tables]\n",
    "historical_value = pd.concat(historical_value, axis=1).transpose()\n",
    "historical_value = historical_value.reset_index(drop=True)\n",
    "print(historical_value)"
   ]
  },
  {
   "cell_type": "code",
   "execution_count": 36,
   "metadata": {},
   "outputs": [
    {
     "data": {
      "image/png": "[encoded data removed]",
      "text/plain": [
       "<Figure size 432x288 with 1 Axes>"
      ]
     },
     "metadata": {
      "needs_background": "light"
     },
     "output_type": "display_data"
    }
   ],
   "source": [
    "historical_value.plot(kind='line')\n",
    "plt.show()"
   ]
  }
 ],
 "metadata": {
  "kernelspec": {
   "display_name": "Python 3",
   "language": "python",
   "name": "python3"
  },
  "language_info": {
   "codemirror_mode": {
    "name": "ipython",
    "version": 3
   },
   "file_extension": ".py",
   "mimetype": "text/x-python",
   "name": "python",
   "nbconvert_exporter": "python",
   "pygments_lexer": "ipython3",
   "version": "3.9.4"
  }
 },
 "nbformat": 4,
 "nbformat_minor": 4
}
