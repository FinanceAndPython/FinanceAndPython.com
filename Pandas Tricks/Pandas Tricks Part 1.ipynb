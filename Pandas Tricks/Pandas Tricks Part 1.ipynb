{
 "cells": [
  {
   "cell_type": "markdown",
   "id": "0a3ee8c0",
   "metadata": {},
   "source": [
    "# Advanced Groupby Indexing\n",
    "\n",
    "When you use groupby and want to test on individual pieces of the groupby (generally for debugging), it can be useful to go item by item or examine the different groups. This can be done in two different ways."
   ]
  },
  {
   "cell_type": "code",
   "execution_count": 1,
   "id": "4dadea90",
   "metadata": {},
   "outputs": [],
   "source": [
    "import pandas as pd\n",
    "#Create data + groupby object\n",
    "df = pd.DataFrame([[\"Type{}\".format(x%5+1), x, x**2] for x in range(200)],\n",
    "                 columns=[\"Type\", \"Value\", \"Value Squared\"])\n",
    "groupby_object = df.groupby(\"Type\")"
   ]
  },
  {
   "cell_type": "markdown",
   "id": "167a9cc9",
   "metadata": {},
   "source": [
    "You can first, simply convert the groupby object to a list."
   ]
  },
  {
   "cell_type": "code",
   "execution_count": 2,
   "id": "6ef43bd6",
   "metadata": {},
   "outputs": [
    {
     "name": "stdout",
     "output_type": "stream",
     "text": [
      "Key: Type1\n",
      "Values (First 3)\n",
      "     Type  Value  Value Squared\n",
      "0   Type1      0              0\n",
      "5   Type1      5             25\n",
      "10  Type1     10            100\n"
     ]
    }
   ],
   "source": [
    "#Get the groupby object as a list\n",
    "groupby_object_list = list(groupby_object)\n",
    "print(\"Key: {}\".format(groupby_object_list[0][0]))\n",
    "print(\"Values (First 3)\")\n",
    "print(groupby_object_list[0][1].head(3))"
   ]
  },
  {
   "cell_type": "markdown",
   "id": "3568c4ca",
   "metadata": {},
   "source": [
    "You are also able to index into specific keys."
   ]
  },
  {
   "cell_type": "code",
   "execution_count": 3,
   "id": "5f089025",
   "metadata": {},
   "outputs": [
    {
     "name": "stdout",
     "output_type": "stream",
     "text": [
      "     Type  Value  Value Squared\n",
      "0   Type1      0              0\n",
      "5   Type1      5             25\n",
      "10  Type1     10            100\n"
     ]
    }
   ],
   "source": [
    "#Get one of the groupby pieces\n",
    "print(groupby_object.get_group(\"Type1\").head(3))"
   ]
  },
  {
   "cell_type": "markdown",
   "id": "953abd3c",
   "metadata": {},
   "source": [
    "# Using Where On DataFrames\n",
    "\n",
    "Given a dataframe, you can call where and give a boolean condition. This will change any false boolean indices to have a value of null."
   ]
  },
  {
   "cell_type": "code",
   "execution_count": 4,
   "id": "fb2f6bea",
   "metadata": {},
   "outputs": [
    {
     "name": "stdout",
     "output_type": "stream",
     "text": [
      "      Type  Value  Value Squared\n",
      "0    Type1    0.0            0.0\n",
      "1      NaN    NaN            NaN\n",
      "2    Type3    2.0            4.0\n",
      "3      NaN    NaN            NaN\n",
      "4      NaN    NaN            NaN\n",
      "..     ...    ...            ...\n",
      "195  Type1  195.0        38025.0\n",
      "196    NaN    NaN            NaN\n",
      "197  Type3  197.0        38809.0\n",
      "198    NaN    NaN            NaN\n",
      "199    NaN    NaN            NaN\n",
      "\n",
      "[200 rows x 3 columns]\n"
     ]
    }
   ],
   "source": [
    "import pandas as pd\n",
    "#Create data + groupby object\n",
    "df = pd.DataFrame([[\"Type{}\".format(x%5+1), x, x**2] for x in range(200)],\n",
    "                 columns=[\"Type\", \"Value\", \"Value Squared\"])\n",
    "\n",
    "#Use where\n",
    "print(df.where((df[\"Type\"] == \"Type1\") | (df[\"Type\"] == \"Type3\")))"
   ]
  },
  {
   "cell_type": "code",
   "execution_count": 5,
   "id": "a9568f97",
   "metadata": {},
   "outputs": [
    {
     "name": "stdout",
     "output_type": "stream",
     "text": [
      "      Type  Value  Value Squared\n",
      "0    Type1    0.0            0.0\n",
      "1    Type2    1.0            1.0\n",
      "2    Type3    2.0            4.0\n",
      "3      NaN    NaN            NaN\n",
      "4      NaN    NaN            NaN\n",
      "..     ...    ...            ...\n",
      "195    NaN    NaN            NaN\n",
      "196    NaN    NaN            NaN\n",
      "197    NaN    NaN            NaN\n",
      "198    NaN    NaN            NaN\n",
      "199    NaN    NaN            NaN\n",
      "\n",
      "[200 rows x 3 columns]\n"
     ]
    }
   ],
   "source": [
    "#Pick just values < 3\n",
    "print(df.where(df[\"Value\"] < 3))"
   ]
  },
  {
   "cell_type": "markdown",
   "id": "43b903c6",
   "metadata": {},
   "source": [
    "# Align Two DataFrames\n",
    "\n",
    "Using align you can align two dataframes to have the same rows, columns, or both. First create some dummy data."
   ]
  },
  {
   "cell_type": "code",
   "execution_count": 6,
   "id": "ca51a7de",
   "metadata": {},
   "outputs": [
    {
     "name": "stdout",
     "output_type": "stream",
     "text": [
      "   A  B\n",
      "1  1  2\n",
      "2  3  4\n",
      "\n",
      "   A  C\n",
      "1  1  2\n",
      "3  3  4\n"
     ]
    }
   ],
   "source": [
    "import pandas as pd\n",
    "df1 = pd.DataFrame([[1, 2],\n",
    "                   [3, 4]], columns=[\"A\", \"B\"],\n",
    "                  index=[1, 2])\n",
    "\n",
    "df2 = pd.DataFrame([[1, 2],\n",
    "                   [3, 4]], columns=[\"A\", \"C\"],\n",
    "                  index=[1, 3])\n",
    "print(df1)\n",
    "print()\n",
    "print(df2)"
   ]
  },
  {
   "cell_type": "markdown",
   "id": "7574b4ed",
   "metadata": {},
   "source": [
    "By default, align outer joins all columns and all rows and fills with NaN. So every row and column in either dataframe will be pressent in both."
   ]
  },
  {
   "cell_type": "code",
   "execution_count": 7,
   "id": "01c48d20",
   "metadata": {},
   "outputs": [
    {
     "name": "stdout",
     "output_type": "stream",
     "text": [
      "     A    B   C\n",
      "1  1.0  2.0 NaN\n",
      "2  3.0  4.0 NaN\n",
      "3  NaN  NaN NaN\n",
      "\n",
      "     A   B    C\n",
      "1  1.0 NaN  2.0\n",
      "2  NaN NaN  NaN\n",
      "3  3.0 NaN  4.0\n"
     ]
    }
   ],
   "source": [
    "temp1, temp2 = df1.align(df2)\n",
    "print(temp1)\n",
    "print()\n",
    "print(temp2)"
   ]
  },
  {
   "cell_type": "markdown",
   "id": "d64b487b",
   "metadata": {},
   "source": [
    "The join argument can be changed to inner to get an inner join instead (as well as left or right join). Now we only will get the column A and the row 1 because they are present in both dataframes."
   ]
  },
  {
   "cell_type": "code",
   "execution_count": 8,
   "id": "15470246",
   "metadata": {},
   "outputs": [
    {
     "name": "stdout",
     "output_type": "stream",
     "text": [
      "   A\n",
      "1  1\n",
      "\n",
      "   A\n",
      "1  1\n"
     ]
    }
   ],
   "source": [
    "temp1, temp2 = df1.align(df2, join='inner')\n",
    "print(temp1)\n",
    "print()\n",
    "print(temp2)"
   ]
  },
  {
   "cell_type": "markdown",
   "id": "4fb0aa50",
   "metadata": {},
   "source": [
    "By using axis, you can align to only columns or only rows. 1 will give the align on columns where 0 will give the rows."
   ]
  },
  {
   "cell_type": "code",
   "execution_count": 9,
   "id": "ffded242",
   "metadata": {},
   "outputs": [
    {
     "name": "stdout",
     "output_type": "stream",
     "text": [
      "   A\n",
      "1  1\n",
      "2  3\n",
      "\n",
      "   A\n",
      "1  1\n",
      "3  3\n"
     ]
    }
   ],
   "source": [
    "temp1, temp2 = df1.align(df2, join='inner', axis=1)\n",
    "print(temp1)\n",
    "print()\n",
    "print(temp2)"
   ]
  },
  {
   "cell_type": "markdown",
   "id": "9f432cd2",
   "metadata": {},
   "source": [
    "# Switch Types\n",
    "\n",
    "By using astype, you can set the type of a pandas series to another type. Below the series will return a combination of the strings even though they are supposed to be numbers. By converting to int we can get the actual sum."
   ]
  },
  {
   "cell_type": "code",
   "execution_count": 10,
   "id": "96bd938d",
   "metadata": {},
   "outputs": [
    {
     "name": "stdout",
     "output_type": "stream",
     "text": [
      "1234\n"
     ]
    }
   ],
   "source": [
    "import pandas as pd\n",
    "#Series of strings\n",
    "df = pd.Series([\"1\", \"2\", \"3\", \"4\"])\n",
    "\n",
    "#Sum will be a string\n",
    "print(df.sum())"
   ]
  },
  {
   "cell_type": "code",
   "execution_count": 11,
   "id": "1a240acc",
   "metadata": {},
   "outputs": [
    {
     "name": "stdout",
     "output_type": "stream",
     "text": [
      "10\n"
     ]
    }
   ],
   "source": [
    "#Convert to integer type\n",
    "df = df.astype(int)\n",
    "\n",
    "#The sum is a number now\n",
    "print(df.sum())"
   ]
  },
  {
   "cell_type": "markdown",
   "id": "6c5e8831",
   "metadata": {},
   "source": [
    "# Getting the n Smallest Elements of a Series\n",
    "\n",
    "When given a series of data, it is possible to grab the n smallest numbers by using nsmallest and giving the parameter of n for how many numbers you want."
   ]
  },
  {
   "cell_type": "code",
   "execution_count": 12,
   "id": "344614fc",
   "metadata": {},
   "outputs": [
    {
     "name": "stdout",
     "output_type": "stream",
     "text": [
      "0      2500\n",
      "1      2401\n",
      "2      2304\n",
      "3      2209\n",
      "4      2116\n",
      "       ... \n",
      "96     2116\n",
      "97     2209\n",
      "98     2304\n",
      "99     2401\n",
      "100    2500\n",
      "Length: 101, dtype: int64\n"
     ]
    }
   ],
   "source": [
    "import pandas as pd\n",
    "# Create data\n",
    "df = (pd.Series(list(range(101))) - 50)**2\n",
    "print(df)"
   ]
  },
  {
   "cell_type": "code",
   "execution_count": 13,
   "id": "ab24a9d7",
   "metadata": {},
   "outputs": [
    {
     "name": "stdout",
     "output_type": "stream",
     "text": [
      "50    0\n",
      "49    1\n",
      "51    1\n",
      "48    4\n",
      "52    4\n",
      "dtype: int64\n"
     ]
    }
   ],
   "source": [
    "#Get n smallest\n",
    "print(df.nsmallest(n=5))"
   ]
  },
  {
   "cell_type": "markdown",
   "id": "2d99eca1",
   "metadata": {},
   "source": [
    "# Getting the n Smallest Elements of a DataFrame\n",
    "\n",
    "You can get the n smallest elements of a dataframe by using n_smallest and giving a list of columns. The earliest columns get used for finding the smallest where as subsequent columns break any ties between prior columns."
   ]
  },
  {
   "cell_type": "code",
   "execution_count": 14,
   "id": "3b932e87",
   "metadata": {},
   "outputs": [
    {
     "name": "stdout",
     "output_type": "stream",
     "text": [
      "     Value1  Value2\n",
      "0      2500       0\n",
      "1      2401       1\n",
      "2      2304       2\n",
      "3      2209       3\n",
      "4      2116       4\n",
      "..      ...     ...\n",
      "96     2116      96\n",
      "97     2209      97\n",
      "98     2304      98\n",
      "99     2401      99\n",
      "100    2500     100\n",
      "\n",
      "[101 rows x 2 columns]\n"
     ]
    }
   ],
   "source": [
    "import pandas as pd\n",
    "#Create the data\n",
    "df = pd.concat([(pd.Series(list(range(101))) - 50)**2,\n",
    "                pd.Series(list(range((101))))], axis=1)\n",
    "df.columns = [\"Value1\", \"Value2\"]\n",
    "print(df)"
   ]
  },
  {
   "cell_type": "code",
   "execution_count": 15,
   "id": "fb8782b2",
   "metadata": {},
   "outputs": [
    {
     "data": {
      "text/html": [
       "<div>\n",
       "<style scoped>\n",
       "    .dataframe tbody tr th:only-of-type {\n",
       "        vertical-align: middle;\n",
       "    }\n",
       "\n",
       "    .dataframe tbody tr th {\n",
       "        vertical-align: top;\n",
       "    }\n",
       "\n",
       "    .dataframe thead th {\n",
       "        text-align: right;\n",
       "    }\n",
       "</style>\n",
       "<table border=\"1\" class=\"dataframe\">\n",
       "  <thead>\n",
       "    <tr style=\"text-align: right;\">\n",
       "      <th></th>\n",
       "      <th>Value1</th>\n",
       "      <th>Value2</th>\n",
       "    </tr>\n",
       "  </thead>\n",
       "  <tbody>\n",
       "    <tr>\n",
       "      <th>50</th>\n",
       "      <td>0</td>\n",
       "      <td>50</td>\n",
       "    </tr>\n",
       "    <tr>\n",
       "      <th>49</th>\n",
       "      <td>1</td>\n",
       "      <td>49</td>\n",
       "    </tr>\n",
       "    <tr>\n",
       "      <th>51</th>\n",
       "      <td>1</td>\n",
       "      <td>51</td>\n",
       "    </tr>\n",
       "  </tbody>\n",
       "</table>\n",
       "</div>"
      ],
      "text/plain": [
       "    Value1  Value2\n",
       "50       0      50\n",
       "49       1      49\n",
       "51       1      51"
      ]
     },
     "execution_count": 15,
     "metadata": {},
     "output_type": "execute_result"
    }
   ],
   "source": [
    "#Find the n smallest by value 1 then 2, notice how the values come out\n",
    "df.nsmallest(n=3, columns=[\"Value1\", \"Value2\"])"
   ]
  },
  {
   "cell_type": "code",
   "execution_count": 16,
   "id": "705410ea",
   "metadata": {},
   "outputs": [
    {
     "data": {
      "text/html": [
       "<div>\n",
       "<style scoped>\n",
       "    .dataframe tbody tr th:only-of-type {\n",
       "        vertical-align: middle;\n",
       "    }\n",
       "\n",
       "    .dataframe tbody tr th {\n",
       "        vertical-align: top;\n",
       "    }\n",
       "\n",
       "    .dataframe thead th {\n",
       "        text-align: right;\n",
       "    }\n",
       "</style>\n",
       "<table border=\"1\" class=\"dataframe\">\n",
       "  <thead>\n",
       "    <tr style=\"text-align: right;\">\n",
       "      <th></th>\n",
       "      <th>Value1</th>\n",
       "      <th>Value2</th>\n",
       "    </tr>\n",
       "  </thead>\n",
       "  <tbody>\n",
       "    <tr>\n",
       "      <th>0</th>\n",
       "      <td>2500</td>\n",
       "      <td>0</td>\n",
       "    </tr>\n",
       "    <tr>\n",
       "      <th>1</th>\n",
       "      <td>2401</td>\n",
       "      <td>1</td>\n",
       "    </tr>\n",
       "    <tr>\n",
       "      <th>2</th>\n",
       "      <td>2304</td>\n",
       "      <td>2</td>\n",
       "    </tr>\n",
       "  </tbody>\n",
       "</table>\n",
       "</div>"
      ],
      "text/plain": [
       "   Value1  Value2\n",
       "0    2500       0\n",
       "1    2401       1\n",
       "2    2304       2"
      ]
     },
     "execution_count": 16,
     "metadata": {},
     "output_type": "execute_result"
    }
   ],
   "source": [
    "#Find the smallest values by value 2 then 1, notice the values are different now\n",
    "df.nsmallest(n=3, columns=[ \"Value2\", \"Value1\"])"
   ]
  },
  {
   "cell_type": "markdown",
   "id": "11fcb0a7",
   "metadata": {},
   "source": [
    "# Expanding Windows\n",
    "\n",
    "Pandas has the ability to create expanding windows which compute functions across larger and larger subsections of the dataframe starting from the beginning. Below we first show how to do this for finding the expanding sum and mean."
   ]
  },
  {
   "cell_type": "code",
   "execution_count": 17,
   "id": "1772ae0c",
   "metadata": {},
   "outputs": [
    {
     "name": "stdout",
     "output_type": "stream",
     "text": [
      "0        0\n",
      "1        1\n",
      "2        2\n",
      "3        3\n",
      "4        4\n",
      "      ... \n",
      "96      96\n",
      "97      97\n",
      "98      98\n",
      "99      99\n",
      "100    100\n",
      "Length: 101, dtype: int64\n"
     ]
    }
   ],
   "source": [
    "import pandas as pd\n",
    "\n",
    "# Create data\n",
    "data = pd.Series(list(range(101)))\n",
    "print(data)"
   ]
  },
  {
   "cell_type": "code",
   "execution_count": 18,
   "id": "9491db69",
   "metadata": {},
   "outputs": [
    {
     "name": "stdout",
     "output_type": "stream",
     "text": [
      "0         0.0\n",
      "1         1.0\n",
      "2         3.0\n",
      "3         6.0\n",
      "4        10.0\n",
      "        ...  \n",
      "96     4656.0\n",
      "97     4753.0\n",
      "98     4851.0\n",
      "99     4950.0\n",
      "100    5050.0\n",
      "Length: 101, dtype: float64\n"
     ]
    }
   ],
   "source": [
    "# Find the expanding sum\n",
    "expanding_sum = data.expanding().sum()\n",
    "print(expanding_sum)"
   ]
  },
  {
   "cell_type": "code",
   "execution_count": 19,
   "id": "6683fd34",
   "metadata": {},
   "outputs": [
    {
     "name": "stdout",
     "output_type": "stream",
     "text": [
      "0       0.0\n",
      "1       0.5\n",
      "2       1.0\n",
      "3       1.5\n",
      "4       2.0\n",
      "       ... \n",
      "96     48.0\n",
      "97     48.5\n",
      "98     49.0\n",
      "99     49.5\n",
      "100    50.0\n",
      "Length: 101, dtype: float64\n"
     ]
    }
   ],
   "source": [
    "# Find the expanding mean\n",
    "expanding_mean = data.expanding().mean()\n",
    "print(expanding_mean)"
   ]
  },
  {
   "cell_type": "markdown",
   "id": "4a879750",
   "metadata": {},
   "source": [
    "## Using Custom Functions\n",
    "\n",
    "You can also use a custom function with expanding by calling apply. Below, we define a lambda function which returns the number of multiples of 5 by finding the boolean values of whether a number is evenly divisible by 5 then summing all the boolean values (remember true equals 1)."
   ]
  },
  {
   "cell_type": "code",
   "execution_count": 20,
   "id": "8456eb18",
   "metadata": {},
   "outputs": [
    {
     "name": "stdout",
     "output_type": "stream",
     "text": [
      "0       1.0\n",
      "1       1.0\n",
      "2       1.0\n",
      "3       1.0\n",
      "4       1.0\n",
      "       ... \n",
      "96     20.0\n",
      "97     20.0\n",
      "98     20.0\n",
      "99     20.0\n",
      "100    21.0\n",
      "Length: 101, dtype: float64\n"
     ]
    }
   ],
   "source": [
    "# Apply a custom function\n",
    "expanding_multiples_of_five = data.expanding().apply(lambda x: ((x % 5) == 0).sum())\n",
    "print(expanding_multiples_of_five)"
   ]
  },
  {
   "cell_type": "markdown",
   "id": "147acb9c",
   "metadata": {},
   "source": [
    "# Find Memory Usage\n",
    "\n",
    "The function memory_usage will return how much memory each column of a dataframe takes up in bytes."
   ]
  },
  {
   "cell_type": "code",
   "execution_count": 21,
   "id": "3dc3f2b0",
   "metadata": {},
   "outputs": [
    {
     "name": "stdout",
     "output_type": "stream",
     "text": [
      "Index        128\n",
      "Value1    800000\n",
      "Value2    800000\n",
      "Value3    800000\n",
      "dtype: int64\n"
     ]
    }
   ],
   "source": [
    "import pandas as pd\n",
    "\n",
    "# Create data\n",
    "data = pd.DataFrame([list(range(100000))]).T\n",
    "data.columns = [\"Value1\"]\n",
    "data[\"Value2\"] = data[\"Value1\"] * 10\n",
    "data[\"Value3\"] = data[\"Value1\"] * 5\n",
    "\n",
    "# Find memory usage\n",
    "print(data.memory_usage())"
   ]
  },
  {
   "cell_type": "markdown",
   "id": "ec81cde7",
   "metadata": {},
   "source": [
    "You can of course divide this by the number of bytes in a gigabyte to find that information."
   ]
  },
  {
   "cell_type": "code",
   "execution_count": 22,
   "id": "f1a54cea",
   "metadata": {},
   "outputs": [
    {
     "name": "stdout",
     "output_type": "stream",
     "text": [
      "Index     1.192093e-07\n",
      "Value1    7.450581e-04\n",
      "Value2    7.450581e-04\n",
      "Value3    7.450581e-04\n",
      "dtype: float64\n"
     ]
    }
   ],
   "source": [
    "bytes_in_gb = 1073741824\n",
    "\n",
    "#Find memory in GB\n",
    "print(data.memory_usage() / bytes_in_gb)"
   ]
  }
 ],
 "metadata": {
  "kernelspec": {
   "display_name": "Python 3 (ipykernel)",
   "language": "python",
   "name": "python3"
  },
  "language_info": {
   "codemirror_mode": {
    "name": "ipython",
    "version": 3
   },
   "file_extension": ".py",
   "mimetype": "text/x-python",
   "name": "python",
   "nbconvert_exporter": "python",
   "pygments_lexer": "ipython3",
   "version": "3.9.7"
  }
 },
 "nbformat": 4,
 "nbformat_minor": 5
}
