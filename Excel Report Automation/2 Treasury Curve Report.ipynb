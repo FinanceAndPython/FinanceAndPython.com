{
 "cells": [
  {
   "cell_type": "code",
   "execution_count": 1,
   "metadata": {
    "collapsed": true
   },
   "outputs": [],
   "source": [
    "import openpyxl\n",
    "import pandas as pd\n",
    "\n",
    "#With openpyxl, we start an empty workbook first\n",
    "wb = openpyxl.Workbook()\n",
    "\n",
    "# grab the active worksheet\n",
    "ws = wb.active\n",
    "\n",
    "# Write data to cell by the letter number combination\n",
    "ws['A1'] = 42\n",
    "\n",
    "#Write data to cell by the row/column combination\n",
    "ws.cell(row=1,column=5).value = 5\n",
    "ws.cell(row=5,column=1).value = 5\n",
    "\n",
    "# Save the file\n",
    "import os\n",
    "if not os.path.exists(\"Workbooks\"):\n",
    "    os.mkdir(\"Workbooks\")\n",
    "wb.save(\"Workbooks/Example.xlsx\")"
   ]
  },
  {
   "cell_type": "code",
   "execution_count": 2,
   "metadata": {},
   "outputs": [
    {
     "data": {
      "text/html": [
       "<div>\n",
       "<style scoped>\n",
       "    .dataframe tbody tr th:only-of-type {\n",
       "        vertical-align: middle;\n",
       "    }\n",
       "\n",
       "    .dataframe tbody tr th {\n",
       "        vertical-align: top;\n",
       "    }\n",
       "\n",
       "    .dataframe thead th {\n",
       "        text-align: right;\n",
       "    }\n",
       "</style>\n",
       "<table border=\"1\" class=\"dataframe\">\n",
       "  <thead>\n",
       "    <tr style=\"text-align: right;\">\n",
       "      <th></th>\n",
       "      <th>Current</th>\n",
       "      <th>1 Year Ago Curve</th>\n",
       "      <th>1 Year Change</th>\n",
       "      <th>5 Years Ago Curve</th>\n",
       "      <th>5 Year Change</th>\n",
       "    </tr>\n",
       "  </thead>\n",
       "  <tbody>\n",
       "    <tr>\n",
       "      <th>1 Mo</th>\n",
       "      <td>1.48</td>\n",
       "      <td>2.44</td>\n",
       "      <td>-0.96</td>\n",
       "      <td>0.03</td>\n",
       "      <td>1.45</td>\n",
       "    </tr>\n",
       "    <tr>\n",
       "      <th>3 Mo</th>\n",
       "      <td>1.55</td>\n",
       "      <td>2.45</td>\n",
       "      <td>-0.90</td>\n",
       "      <td>0.04</td>\n",
       "      <td>1.51</td>\n",
       "    </tr>\n",
       "    <tr>\n",
       "      <th>6 Mo</th>\n",
       "      <td>1.60</td>\n",
       "      <td>2.56</td>\n",
       "      <td>-0.96</td>\n",
       "      <td>0.12</td>\n",
       "      <td>1.48</td>\n",
       "    </tr>\n",
       "    <tr>\n",
       "      <th>1 Yr</th>\n",
       "      <td>1.59</td>\n",
       "      <td>2.63</td>\n",
       "      <td>-1.04</td>\n",
       "      <td>0.25</td>\n",
       "      <td>1.34</td>\n",
       "    </tr>\n",
       "    <tr>\n",
       "      <th>2 Yr</th>\n",
       "      <td>1.58</td>\n",
       "      <td>2.48</td>\n",
       "      <td>-0.90</td>\n",
       "      <td>0.67</td>\n",
       "      <td>0.91</td>\n",
       "    </tr>\n",
       "    <tr>\n",
       "      <th>3 Yr</th>\n",
       "      <td>1.62</td>\n",
       "      <td>2.46</td>\n",
       "      <td>-0.84</td>\n",
       "      <td>1.10</td>\n",
       "      <td>0.52</td>\n",
       "    </tr>\n",
       "    <tr>\n",
       "      <th>5 Yr</th>\n",
       "      <td>1.69</td>\n",
       "      <td>2.51</td>\n",
       "      <td>-0.82</td>\n",
       "      <td>1.65</td>\n",
       "      <td>0.04</td>\n",
       "    </tr>\n",
       "    <tr>\n",
       "      <th>7 Yr</th>\n",
       "      <td>1.83</td>\n",
       "      <td>2.59</td>\n",
       "      <td>-0.76</td>\n",
       "      <td>1.97</td>\n",
       "      <td>-0.14</td>\n",
       "    </tr>\n",
       "    <tr>\n",
       "      <th>10 Yr</th>\n",
       "      <td>1.92</td>\n",
       "      <td>2.69</td>\n",
       "      <td>-0.77</td>\n",
       "      <td>2.17</td>\n",
       "      <td>-0.25</td>\n",
       "    </tr>\n",
       "    <tr>\n",
       "      <th>20 Yr</th>\n",
       "      <td>2.25</td>\n",
       "      <td>2.87</td>\n",
       "      <td>-0.62</td>\n",
       "      <td>2.47</td>\n",
       "      <td>-0.22</td>\n",
       "    </tr>\n",
       "    <tr>\n",
       "      <th>30 Yr</th>\n",
       "      <td>2.39</td>\n",
       "      <td>3.02</td>\n",
       "      <td>-0.63</td>\n",
       "      <td>2.75</td>\n",
       "      <td>-0.36</td>\n",
       "    </tr>\n",
       "  </tbody>\n",
       "</table>\n",
       "</div>"
      ],
      "text/plain": [
       "       Current  1 Year Ago Curve  1 Year Change  5 Years Ago Curve  \\\n",
       "1 Mo      1.48              2.44          -0.96               0.03   \n",
       "3 Mo      1.55              2.45          -0.90               0.04   \n",
       "6 Mo      1.60              2.56          -0.96               0.12   \n",
       "1 Yr      1.59              2.63          -1.04               0.25   \n",
       "2 Yr      1.58              2.48          -0.90               0.67   \n",
       "3 Yr      1.62              2.46          -0.84               1.10   \n",
       "5 Yr      1.69              2.51          -0.82               1.65   \n",
       "7 Yr      1.83              2.59          -0.76               1.97   \n",
       "10 Yr     1.92              2.69          -0.77               2.17   \n",
       "20 Yr     2.25              2.87          -0.62               2.47   \n",
       "30 Yr     2.39              3.02          -0.63               2.75   \n",
       "\n",
       "       5 Year Change  \n",
       "1 Mo            1.45  \n",
       "3 Mo            1.51  \n",
       "6 Mo            1.48  \n",
       "1 Yr            1.34  \n",
       "2 Yr            0.91  \n",
       "3 Yr            0.52  \n",
       "5 Yr            0.04  \n",
       "7 Yr           -0.14  \n",
       "10 Yr          -0.25  \n",
       "20 Yr          -0.22  \n",
       "30 Yr          -0.36  "
      ]
     },
     "execution_count": 2,
     "metadata": {},
     "output_type": "execute_result"
    }
   ],
   "source": [
    "#Read in table\n",
    "yield_curve_table = pd.read_csv(\"Tables/Treasury Yield Table.csv\",index_col=0)\n",
    "yield_curve_table"
   ]
  },
  {
   "cell_type": "code",
   "execution_count": 3,
   "metadata": {},
   "outputs": [
    {
     "name": "stdout",
     "output_type": "stream",
     "text": [
      "[['1 Mo', 1.48, 2.44, -0.96, 0.03, 1.45], ['3 Mo', 1.55, 2.45, -0.9000000000000001, 0.04, 1.51], ['6 Mo', 1.6, 2.56, -0.96, 0.12, 1.48], ['1 Yr', 1.59, 2.63, -1.0399999999999998, 0.25, 1.34], ['2 Yr', 1.58, 2.48, -0.8999999999999999, 0.67, 0.91], ['3 Yr', 1.62, 2.46, -0.8399999999999999, 1.1, 0.52], ['5 Yr', 1.69, 2.51, -0.8199999999999998, 1.65, 0.040000000000000036], ['7 Yr', 1.83, 2.59, -0.7599999999999998, 1.97, -0.1399999999999999], ['10 Yr', 1.92, 2.69, -0.77, 2.17, -0.25], ['20 Yr', 2.25, 2.87, -0.6200000000000001, 2.47, -0.2200000000000002], ['30 Yr', 2.39, 3.02, -0.6299999999999999, 2.75, -0.3599999999999999]]\n"
     ]
    }
   ],
   "source": [
    "#Doing values.tolist() on a dataframe returns the following\n",
    "print(yield_curve_table.reset_index().values.tolist())"
   ]
  },
  {
   "cell_type": "code",
   "execution_count": 4,
   "metadata": {
    "collapsed": true
   },
   "outputs": [],
   "source": [
    "#Define a function to write a pandas dataframe to excel\n",
    "def write_to_excel(ws, start_row, start_column, df, index=True, columns = True):\n",
    "    #If we want to include the index, reset the index on the dataframe first\n",
    "    if index:\n",
    "        write_data = df.reset_index().values.tolist()\n",
    "    else:\n",
    "        write_data = df.values.tolist()\n",
    "    \n",
    "    #If we want to include columns we need to add the columns as the first in the nested lists\n",
    "    if columns:\n",
    "        #If we already added an index, then we are going to want also include a blank space since\n",
    "        #we don't want a label above the index\n",
    "        if index:\n",
    "            write_data = [[\"\"]+list(df.columns)]+write_data\n",
    "        else:\n",
    "            write_data = [list(df.columns)]+write_data\n",
    "    \n",
    "    #For every value iterate through finding the location to place it in\n",
    "    for row in range(len(write_data)):\n",
    "        for column in range(len(write_data[0])):\n",
    "            ws.cell(row=start_row+row,column=start_column+column).value = write_data[row][column]\n",
    "\n",
    "wb = openpyxl.Workbook()\n",
    "ws = wb.active\n",
    "\n",
    "#Examples of writing to excel\n",
    "write_to_excel(ws, 1, 1, yield_curve_table)\n",
    "write_to_excel(ws, 16, 1, yield_curve_table,index=False)\n",
    "write_to_excel(ws, 31, 1, yield_curve_table,columns=False)\n",
    "write_to_excel(ws, 46, 1, yield_curve_table,index=False,columns=False)\n",
    "\n",
    "wb.save(\"Workbooks/Example 2.xlsx\")"
   ]
  },
  {
   "cell_type": "code",
   "execution_count": 5,
   "metadata": {
    "collapsed": true
   },
   "outputs": [],
   "source": [
    "from openpyxl.styles import PatternFill\n",
    "\n",
    "wb = openpyxl.Workbook()\n",
    "ws = wb.active\n",
    "\n",
    "write_to_excel(ws, 3, 1, yield_curve_table)\n",
    "#PatternFill is a way to get colors, here we pass the start and end color as the same and use a fill type solid\n",
    "my_fill_color = PatternFill(start_color='FF0000',\n",
    "                   end_color='FF0000',\n",
    "                   fill_type='solid')\n",
    "\n",
    "#The fill attribute of a cell is the color to use\n",
    "ws.cell(row=1,column=1).fill = my_fill_color\n",
    "wb.save(\"Workbooks/Example 3.xlsx\")"
   ]
  },
  {
   "cell_type": "code",
   "execution_count": 6,
   "metadata": {
    "collapsed": true
   },
   "outputs": [],
   "source": [
    "#Create a function to map red and green colors based on whether a field is positive or negative\n",
    "def red_green_map(df, start_row, start_column):\n",
    "    write_data = df.values.tolist()\n",
    "    for row in range(len(write_data)):\n",
    "        for column in range(len(write_data[0])):\n",
    "            if write_data[row][column] > 0:\n",
    "                fill = fill = PatternFill(start_color='008000',\n",
    "                   end_color='008000',\n",
    "                   fill_type='solid')\n",
    "            elif write_data[row][column] < 0:\n",
    "                fill = PatternFill(start_color='FF0000',\n",
    "                   end_color='FF0000',\n",
    "                   fill_type='solid')\n",
    "            ws.cell(row=start_row+row,column=start_column+column).fill = fill\n",
    "\n",
    "\n",
    "wb = openpyxl.Workbook()\n",
    "ws = wb.active\n",
    "\n",
    "#Write the data to excel\n",
    "write_to_excel(ws, 3, 1, yield_curve_table)\n",
    "#We'll deal with only the two change columns\n",
    "#So pass the data for only those and also pass their starting columns/rows\n",
    "red_green_map(yield_curve_table[[\"1 Year Change\"]], 4, 4)\n",
    "red_green_map(yield_curve_table[[\"5 Year Change\"]], 4, 6)\n",
    "\n",
    "wb.save(\"Workbooks/Example 4.xlsx\")"
   ]
  },
  {
   "cell_type": "code",
   "execution_count": 7,
   "metadata": {
    "collapsed": true
   },
   "outputs": [],
   "source": [
    "#Put it all together for a function that takes a worksheet and yield curve data then writes the sheet\n",
    "def write_treasury_sheet(ws, yield_curve_table):\n",
    "    #Write the yield curve table\n",
    "    write_to_excel(ws, 3, 1, yield_curve_table)\n",
    "    #Color the yield curve changes red/green\n",
    "    red_green_map(yield_curve_table[[\"1 Year Change\"]], 4, 4)\n",
    "    red_green_map(yield_curve_table[[\"5 Year Change\"]], 4, 6)\n",
    "    \n",
    "wb = openpyxl.Workbook()\n",
    "ws = wb.active\n",
    "write_treasury_sheet(ws, yield_curve_table)\n",
    "wb.save(\"Workbooks/Economic Report.xlsx\")"
   ]
  },
  {
   "cell_type": "code",
   "execution_count": 8,
   "metadata": {},
   "outputs": [
    {
     "name": "stdout",
     "output_type": "stream",
     "text": [
      "A\n"
     ]
    }
   ],
   "source": [
    "from openpyxl.utils.cell import get_column_letter\n",
    "#The get_column_letter function will convert a number to a letter for excel\n",
    "print(get_column_letter(1))"
   ]
  },
  {
   "cell_type": "code",
   "execution_count": 9,
   "metadata": {
    "collapsed": true
   },
   "outputs": [],
   "source": [
    "#If we choose a specific column through ws.column_dimensions, we can set the width\n",
    "def adjust_columns(ws,start,values):\n",
    "    for i, width in enumerate(values):\n",
    "        ws.column_dimensions[get_column_letter(start+i)].width = width\n",
    "\n",
    "wb = openpyxl.Workbook()\n",
    "ws = wb.active\n",
    "\n",
    "write_to_excel(ws, 3, 1, yield_curve_table)\n",
    "\n",
    "adjust_columns(ws,1,[2,10,20,5])\n",
    "\n",
    "wb.save(\"Workbooks/Example 5.xlsx\")"
   ]
  },
  {
   "cell_type": "code",
   "execution_count": 10,
   "metadata": {
    "collapsed": true
   },
   "outputs": [],
   "source": [
    "#Update the function\n",
    "def write_treasury_sheet(ws, yield_curve_table):\n",
    "    #Write the yield curve table\n",
    "    write_to_excel(ws, 3, 1, yield_curve_table)\n",
    "    \n",
    "    #Color the yield curve changes red/green\n",
    "    red_green_map(yield_curve_table[[\"1 Year Change\"]], 4, 4)\n",
    "    red_green_map(yield_curve_table[[\"5 Year Change\"]], 4, 6)\n",
    "    \n",
    "    #Adjust the column widths for the table\n",
    "    adjust_columns(ws,2,[15]*len(yield_curve_table.columns))\n",
    "    \n",
    "wb = openpyxl.Workbook()\n",
    "ws = wb.active\n",
    "write_treasury_sheet(ws, yield_curve_table)\n",
    "wb.save(\"Workbooks/Economic Report.xlsx\")"
   ]
  },
  {
   "cell_type": "code",
   "execution_count": 11,
   "metadata": {},
   "outputs": [
    {
     "name": "stdout",
     "output_type": "stream",
     "text": [
      "<openpyxl.styles.fonts.Font object>\n",
      "Parameters:\n",
      "name='Calibri', charset=None, family=2.0, b=False, i=False, strike=None, outline=None, shadow=None, condense=None, color=<openpyxl.styles.colors.Color object>\n",
      "Parameters:\n",
      "rgb=None, indexed=None, auto=None, theme=1, tint=0.0, type='theme', extend=None, sz=11.0, u=None, vertAlign=None, scheme='minor'\n"
     ]
    },
    {
     "name": "stderr",
     "output_type": "stream",
     "text": [
      "/Users/seanmcowen/anaconda/lib/python3.6/site-packages/ipykernel_launcher.py:15: DeprecationWarning: Call to deprecated function copy (Use copy(obj) or cell.obj = cell.obj + other).\n",
      "  from ipykernel import kernelapp as app\n"
     ]
    }
   ],
   "source": [
    "from openpyxl.styles import Font\n",
    "\n",
    "\n",
    "wb = openpyxl.Workbook()\n",
    "ws = wb.active\n",
    "\n",
    "\n",
    "\n",
    "#We can import Font and set one like so\n",
    "write_to_excel(ws, 3, 1, yield_curve_table)\n",
    "font = Font(bold=True)\n",
    "ws.cell(row=4,column=1).font = font\n",
    "\n",
    "#Or we can take the current fond and modify it like so to make it bold\n",
    "font = ws.cell(row=3,column=2).font.copy()\n",
    "print(font)\n",
    "font.bold = True\n",
    "ws.cell(row=3,column=2).font = font\n",
    "\n",
    "wb.save(\"Workbooks/Example 6.xlsx\")"
   ]
  },
  {
   "cell_type": "code",
   "execution_count": 12,
   "metadata": {},
   "outputs": [
    {
     "name": "stderr",
     "output_type": "stream",
     "text": [
      "/Users/seanmcowen/anaconda/lib/python3.6/site-packages/ipykernel_launcher.py:9: DeprecationWarning: Call to deprecated function copy (Use copy(obj) or cell.obj = cell.obj + other).\n",
      "  if __name__ == '__main__':\n"
     ]
    }
   ],
   "source": [
    "#A function to bold everything in either a vertical or horizontal manner given a length of cells to bold\n",
    "#and starting position\n",
    "def bold_cells_line(ws, start_row, start_column, length, vertical=True):\n",
    "    for i in range(length):\n",
    "        if vertical:\n",
    "            cell = ws.cell(row=start_row+i,column=start_column)\n",
    "        else:\n",
    "            cell = ws.cell(row=start_row,column=start_column+i)\n",
    "        font = cell.font.copy()\n",
    "        font.bold = True\n",
    "        cell.font = font\n",
    "\n",
    "def write_treasury_sheet(ws, yield_curve_table):\n",
    "    #Write the yield curve table\n",
    "    write_to_excel(ws, 3, 1, yield_curve_table)\n",
    "    \n",
    "    #Color the yield curve changes red/green\n",
    "    red_green_map(yield_curve_table[[\"1 Year Change\"]], 4, 4)\n",
    "    red_green_map(yield_curve_table[[\"5 Year Change\"]], 4, 6)\n",
    "    \n",
    "    #Adjust the column widths for the table\n",
    "    adjust_columns(ws,2,[15]*len(yield_curve_table.columns))\n",
    "    \n",
    "    #Bold the index and columns\n",
    "    bold_cells_line(ws, 4, 1, len(yield_curve_table), vertical=True)\n",
    "    bold_cells_line(ws, 3, 2, len(yield_curve_table.columns), vertical=False)\n",
    "    \n",
    "wb = openpyxl.Workbook()\n",
    "ws = wb.active\n",
    "write_treasury_sheet(ws, yield_curve_table)\n",
    "wb.save(\"Workbooks/Economic Report.xlsx\")"
   ]
  },
  {
   "cell_type": "code",
   "execution_count": 13,
   "metadata": {
    "collapsed": true
   },
   "outputs": [],
   "source": [
    "wb = openpyxl.Workbook()\n",
    "ws = wb.active\n",
    "\n",
    "write_to_excel(ws, 3, 1, yield_curve_table)\n",
    "\n",
    "#Merging cells can be done with ws.merge_cells\n",
    "ws.merge_cells('A1:F1')\n",
    "\n",
    "wb.save(\"Workbooks/Example 7.xlsx\")"
   ]
  },
  {
   "cell_type": "code",
   "execution_count": 14,
   "metadata": {},
   "outputs": [
    {
     "name": "stdout",
     "output_type": "stream",
     "text": [
      "('B', 6)\n",
      "2\n"
     ]
    }
   ],
   "source": [
    "from openpyxl.utils.cell import coordinate_from_string, column_index_from_string\n",
    "\n",
    "#coordinate_from_string returns the coordinates for the string representation of a cell  \n",
    "print(coordinate_from_string(\"B6\"))\n",
    "\n",
    "#column_index_from_string converts a letter to the actual number in the excel sheet for a coordinate\n",
    "print(column_index_from_string(\"B\"))"
   ]
  },
  {
   "cell_type": "code",
   "execution_count": 15,
   "metadata": {},
   "outputs": [
    {
     "name": "stderr",
     "output_type": "stream",
     "text": [
      "/Users/seanmcowen/anaconda/lib/python3.6/site-packages/ipykernel_launcher.py:9: DeprecationWarning: Call to deprecated function copy (Use copy(obj) or cell.obj = cell.obj + other).\n",
      "  if __name__ == '__main__':\n"
     ]
    }
   ],
   "source": [
    "from openpyxl.styles.alignment import Alignment\n",
    "\n",
    "#A title function for the worksheet\n",
    "def create_title(ws, area, text):\n",
    "    ws.merge_cells(area)\n",
    "    #Given an area such as A1:A5, we want to first isolate the first cell\n",
    "    first_cell = area.split(\":\")[0]\n",
    "    #And then find the numerical row and column associated\n",
    "    first_cell = coordinate_from_string(first_cell)\n",
    "    col = column_index_from_string(first_cell[0])\n",
    "    row = first_cell[1]\n",
    "    \n",
    "    #Change the text of the merged cell to whatever was passed as input\n",
    "    ws.cell(row=row, column=col).value = text\n",
    "    #Change the font of the title\n",
    "    font = font = Font(size=16,\n",
    "                       bold=True,\n",
    "                      color=\"283747\")\n",
    "    ws.cell(row=row, column=col).font = font\n",
    "    #Change alignment to be centered\n",
    "    ws.cell(row=row, column=col).alignment = Alignment(horizontal=\"center\")\n",
    "\n",
    "#Update the function\n",
    "def write_treasury_sheet(ws, yield_curve_table):\n",
    "    #Write the yield curve table\n",
    "    write_to_excel(ws, 3, 1, yield_curve_table)\n",
    "    \n",
    "    #Color the yield curve changes red/green\n",
    "    red_green_map(yield_curve_table[[\"1 Year Change\"]], 4, 4)\n",
    "    red_green_map(yield_curve_table[[\"5 Year Change\"]], 4, 6)\n",
    "    \n",
    "    #Adjust the column widths for the table\n",
    "    adjust_columns(ws,2,[15]*len(yield_curve_table.columns))\n",
    "    \n",
    "    #Bold the index and columns\n",
    "    bold_cells_line(ws, 4, 1, len(yield_curve_table), vertical=True)\n",
    "    bold_cells_line(ws, 3, 2, len(yield_curve_table.columns), vertical=False)\n",
    "    \n",
    "    #Create title\n",
    "    create_title(ws, 'A1:F1', \"Treasury Yield Curve\")\n",
    "    \n",
    "wb = openpyxl.Workbook()\n",
    "ws = wb.active\n",
    "write_treasury_sheet(ws, yield_curve_table)\n",
    "wb.save(\"Workbooks/Economic Report.xlsx\")"
   ]
  },
  {
   "cell_type": "code",
   "execution_count": 16,
   "metadata": {
    "collapsed": true
   },
   "outputs": [],
   "source": [
    "from openpyxl.styles import Border, Side\n",
    "\n",
    "wb = openpyxl.Workbook()\n",
    "ws = wb.active\n",
    "\n",
    "\n",
    "write_to_excel(ws, 3, 1, yield_curve_table)\n",
    "\n",
    "#With borders we need to speicify the styles we want to use for each border\n",
    "border = Border(left=Side(border_style='thin'),\n",
    "         right=Side(border_style='thin'),\n",
    "         top=Side(border_style='thin'),\n",
    "         bottom=Side(border_style='thin'))\n",
    "temp = ws.cell(row=5,column=5)\n",
    "temp.border = border\n",
    "wb.save(\"Workbooks/Example 8.xlsx\")\n"
   ]
  },
  {
   "cell_type": "code",
   "execution_count": 17,
   "metadata": {
    "collapsed": true
   },
   "outputs": [],
   "source": [
    "#Create a function which takes a starting position and the length vertically and horizontally\n",
    "#and then creates borders around all of them\n",
    "def create_border(ws, start_row, start_column, vertical_length, horizontal_length):\n",
    "    border = Border(left=Side(border_style='thin'),\n",
    "         right=Side(border_style='thin'),\n",
    "         top=Side(border_style='thin'),\n",
    "         bottom=Side(border_style='thin'))\n",
    "    for row in range(vertical_length):\n",
    "        for column in range(horizontal_length):\n",
    "            ws.cell(row=start_row+row,column=start_column+column).border = border\n",
    "            \n",
    "            \n",
    "wb = openpyxl.Workbook()\n",
    "ws = wb.active\n",
    "\n",
    "write_to_excel(ws, 3, 1, yield_curve_table)\n",
    "create_border(ws, 4, 2, yield_curve_table.shape[0], yield_curve_table.shape[1])\n",
    "\n",
    "wb.save(\"Workbooks/Example 9.xlsx\")"
   ]
  },
  {
   "cell_type": "code",
   "execution_count": 18,
   "metadata": {},
   "outputs": [
    {
     "name": "stderr",
     "output_type": "stream",
     "text": [
      "/Users/seanmcowen/anaconda/lib/python3.6/site-packages/ipykernel_launcher.py:9: DeprecationWarning: Call to deprecated function copy (Use copy(obj) or cell.obj = cell.obj + other).\n",
      "  if __name__ == '__main__':\n"
     ]
    }
   ],
   "source": [
    "#Update function\n",
    "def write_treasury_sheet(ws, yield_curve_table):\n",
    "    #Write the yield curve table\n",
    "    write_to_excel(ws, 3, 1, yield_curve_table)\n",
    "    \n",
    "    #Color the yield curve changes red/green\n",
    "    red_green_map(yield_curve_table[[\"1 Year Change\"]], 4, 4)\n",
    "    red_green_map(yield_curve_table[[\"5 Year Change\"]], 4, 6)\n",
    "    \n",
    "    #Adjust the column widths for the table\n",
    "    adjust_columns(ws,2,[15]*len(yield_curve_table.columns))\n",
    "    \n",
    "    #Bold the index and columns\n",
    "    bold_cells_line(ws, 4, 1, len(yield_curve_table), vertical=True)\n",
    "    bold_cells_line(ws, 3, 2, len(yield_curve_table.columns), vertical=False)\n",
    "    \n",
    "    #Create title\n",
    "    create_title(ws, 'A1:F1', \"Treasury Yield Curve\")\n",
    "    \n",
    "    #Add borders\n",
    "    create_border(ws, 4, 2, yield_curve_table.shape[0], yield_curve_table.shape[1])\n",
    "    \n",
    "wb = openpyxl.Workbook()\n",
    "ws = wb.active\n",
    "write_treasury_sheet(ws, yield_curve_table)\n",
    "wb.save(\"Workbooks/Economic Report.xlsx\")"
   ]
  },
  {
   "cell_type": "code",
   "execution_count": 19,
   "metadata": {
    "collapsed": true
   },
   "outputs": [],
   "source": [
    "wb = openpyxl.Workbook()\n",
    "ws = wb.active\n",
    "\n",
    "write_to_excel(ws, 3, 1, yield_curve_table)\n",
    "#We might be interested in switching off gridlines\n",
    "ws.sheet_view.showGridLines = False\n",
    "wb.save(\"Workbooks/Example 10.xlsx\")"
   ]
  },
  {
   "cell_type": "code",
   "execution_count": 20,
   "metadata": {},
   "outputs": [
    {
     "name": "stderr",
     "output_type": "stream",
     "text": [
      "/Users/seanmcowen/anaconda/lib/python3.6/site-packages/ipykernel_launcher.py:9: DeprecationWarning: Call to deprecated function copy (Use copy(obj) or cell.obj = cell.obj + other).\n",
      "  if __name__ == '__main__':\n"
     ]
    }
   ],
   "source": [
    "#Updated again\n",
    "def write_treasury_sheet(ws, yield_curve_table):\n",
    "    #Write the yield curve table\n",
    "    write_to_excel(ws, 3, 1, yield_curve_table)\n",
    "    \n",
    "    #Color the yield curve changes red/green\n",
    "    red_green_map(yield_curve_table[[\"1 Year Change\"]], 4, 4)\n",
    "    red_green_map(yield_curve_table[[\"5 Year Change\"]], 4, 6)\n",
    "    \n",
    "    #Adjust the column widths for the table\n",
    "    adjust_columns(ws,2,[15]*len(yield_curve_table.columns))\n",
    "    \n",
    "    #Bold the index and columns\n",
    "    bold_cells_line(ws, 4, 1, len(yield_curve_table), vertical=True)\n",
    "    bold_cells_line(ws, 3, 2, len(yield_curve_table.columns), vertical=False)\n",
    "    \n",
    "    #Create title\n",
    "    create_title(ws, 'A1:F1', \"Treasury Yield Curve\")\n",
    "    \n",
    "    #Add borders\n",
    "    create_border(ws, 4, 2, yield_curve_table.shape[0], yield_curve_table.shape[1])\n",
    "    \n",
    "    #Get rid of gridlines\n",
    "    ws.sheet_view.showGridLines = False\n",
    "    \n",
    "wb = openpyxl.Workbook()\n",
    "ws = wb.active\n",
    "write_treasury_sheet(ws, yield_curve_table)\n",
    "wb.save(\"Workbooks/Economic Report.xlsx\")"
   ]
  },
  {
   "cell_type": "code",
   "execution_count": 21,
   "metadata": {
    "collapsed": true
   },
   "outputs": [],
   "source": [
    "from openpyxl.drawing.image import Image\n",
    "\n",
    "wb = openpyxl.Workbook()\n",
    "ws = wb.active\n",
    "\n",
    "write_to_excel(ws, 3, 1, yield_curve_table)\n",
    "\n",
    "#Images can be put into excel worksheets by loading them then adding image to a given position\n",
    "img = Image('Images/Treasury Yield Curves.png')\n",
    "ws.add_image(img, 'H1')\n",
    "\n",
    "wb.save(\"Workbooks/Example 11.xlsx\")"
   ]
  },
  {
   "cell_type": "code",
   "execution_count": 22,
   "metadata": {},
   "outputs": [
    {
     "name": "stderr",
     "output_type": "stream",
     "text": [
      "/Users/seanmcowen/anaconda/lib/python3.6/site-packages/ipykernel_launcher.py:9: DeprecationWarning: Call to deprecated function copy (Use copy(obj) or cell.obj = cell.obj + other).\n",
      "  if __name__ == '__main__':\n"
     ]
    }
   ],
   "source": [
    "#Do the final update of the function\n",
    "def write_treasury_sheet(ws, yield_curve_table):\n",
    "    #Write the yield curve table\n",
    "    write_to_excel(ws, 3, 1, yield_curve_table)\n",
    "    \n",
    "    #Color the yield curve changes red/green\n",
    "    red_green_map(yield_curve_table[[\"1 Year Change\"]], 4, 4)\n",
    "    red_green_map(yield_curve_table[[\"5 Year Change\"]], 4, 6)\n",
    "    \n",
    "    #Adjust the column widths for the table\n",
    "    adjust_columns(ws,2,[15]*len(yield_curve_table.columns))\n",
    "    \n",
    "    #Bold the index and columns\n",
    "    bold_cells_line(ws, 4, 1, len(yield_curve_table), vertical=True)\n",
    "    bold_cells_line(ws, 3, 2, len(yield_curve_table.columns), vertical=False)\n",
    "    \n",
    "    #Create title\n",
    "    create_title(ws, 'A1:F1', \"Treasury Yield Curve\")\n",
    "    \n",
    "    #Add borders\n",
    "    create_border(ws, 4, 2, yield_curve_table.shape[0], yield_curve_table.shape[1])\n",
    "    \n",
    "    #Get rid of gridlines\n",
    "    ws.sheet_view.showGridLines = False\n",
    "    \n",
    "    #Add yield curve graphs\n",
    "    img = Image('Images/Treasury Yield Curves.png')\n",
    "    ws.add_image(img, 'H1')\n",
    "    \n",
    "wb = openpyxl.Workbook()\n",
    "ws = wb.active\n",
    "write_treasury_sheet(ws, yield_curve_table)\n",
    "wb.save(\"Workbooks/Economic Report.xlsx\")"
   ]
  }
 ],
 "metadata": {
  "kernelspec": {
   "display_name": "Python 3",
   "language": "python",
   "name": "python3"
  },
  "language_info": {
   "codemirror_mode": {
    "name": "ipython",
    "version": 3
   },
   "file_extension": ".py",
   "mimetype": "text/x-python",
   "name": "python",
   "nbconvert_exporter": "python",
   "pygments_lexer": "ipython3",
   "version": "3.6.3"
  }
 },
 "nbformat": 4,
 "nbformat_minor": 2
}
