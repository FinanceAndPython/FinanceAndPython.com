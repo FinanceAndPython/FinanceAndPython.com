{
 "cells": [
  {
   "cell_type": "markdown",
   "metadata": {},
   "source": [
    "# Treasury Curve Report\n",
    "\n",
    "This lessons works through how we can create our first report, the treasury curve report. It will take some of our functions created from before and translate it into an automated pipeline for writing an excel sheet for our report.\n",
    "\n",
    "## Creating our First Workbook\n",
    "\n",
    "Before we get to the stage of writing our treasury curve report, we need to make our first excel workbook using the openpyxl library. If you do not have openpyxl installed you can install it through pip install or however you prefer to install your python libraries."
   ]
  },
  {
   "cell_type": "code",
   "execution_count": 1,
   "metadata": {},
   "outputs": [
    {
     "name": "stdout",
     "output_type": "stream",
     "text": [
      "Requirement already satisfied: openpyxl in /Users/seanmcowen/opt/anaconda3/lib/python3.9/site-packages (3.0.9)\n",
      "Requirement already satisfied: et-xmlfile in /Users/seanmcowen/opt/anaconda3/lib/python3.9/site-packages (from openpyxl) (1.1.0)\n"
     ]
    }
   ],
   "source": [
    "! pip install openpyxl"
   ]
  },
  {
   "cell_type": "markdown",
   "metadata": {},
   "source": [
    "With openpyxl, you can create an excel workbook to modify. To build a blank template, just call openpyxl.Workbook() and it will return a workbook object."
   ]
  },
  {
   "cell_type": "code",
   "execution_count": 2,
   "metadata": {},
   "outputs": [],
   "source": [
    "import openpyxl\n",
    "wb = openpyxl.Workbook()"
   ]
  },
  {
   "cell_type": "markdown",
   "metadata": {},
   "source": [
    "With our workbook, we can grab the active sheet through wb.active. This will return to us what the current active sheet is in the excel workbook."
   ]
  },
  {
   "cell_type": "code",
   "execution_count": 3,
   "metadata": {},
   "outputs": [],
   "source": [
    "# Grab the active worksheet\n",
    "ws = wb.active"
   ]
  },
  {
   "cell_type": "markdown",
   "metadata": {},
   "source": [
    "One way to index into cells of a worksheet is to give the letter and number combination and then set a value. So, for example, below we can see how to set the value for the A1 cell to 42."
   ]
  },
  {
   "cell_type": "code",
   "execution_count": 4,
   "metadata": {},
   "outputs": [],
   "source": [
    "# Write data to cell by the letter number combination\n",
    "ws['A1'] = 42"
   ]
  },
  {
   "cell_type": "markdown",
   "metadata": {},
   "source": [
    "The other way that we can index into cells is by passing the argument of row and column."
   ]
  },
  {
   "cell_type": "code",
   "execution_count": 5,
   "metadata": {},
   "outputs": [],
   "source": [
    "# Write data to cell by the row/column combination\n",
    "ws.cell(row=1,column=5).value = 5\n",
    "ws.cell(row=5,column=1).value = 5"
   ]
  },
  {
   "cell_type": "markdown",
   "metadata": {},
   "source": [
    "Just in case the folder does not yet exist for the workbooks folder. We can create it using the os library."
   ]
  },
  {
   "cell_type": "code",
   "execution_count": 6,
   "metadata": {},
   "outputs": [],
   "source": [
    "# Save the file\n",
    "import os\n",
    "\n",
    "if not os.path.exists(\"Workbooks\"):\n",
    "    os.mkdir(\"Workbooks\")"
   ]
  },
  {
   "cell_type": "markdown",
   "metadata": {},
   "source": [
    "Then we can save the workbook with wb.save with a filename."
   ]
  },
  {
   "cell_type": "code",
   "execution_count": 7,
   "metadata": {},
   "outputs": [],
   "source": [
    "wb.save(\"Workbooks/Example.xlsx\")"
   ]
  },
  {
   "cell_type": "markdown",
   "metadata": {},
   "source": [
    "Now that we know how to create and modify a workbook we can read in our data to use it."
   ]
  },
  {
   "cell_type": "code",
   "execution_count": 8,
   "metadata": {},
   "outputs": [
    {
     "name": "stdout",
     "output_type": "stream",
     "text": [
      "       Current  1 Year Ago Curve  1 Year Change  5 Years Ago Curve  \\\n",
      "1 Mo      1.48              2.44          -0.96               0.03   \n",
      "3 Mo      1.55              2.45          -0.90               0.04   \n",
      "6 Mo      1.60              2.56          -0.96               0.12   \n",
      "1 Yr      1.59              2.63          -1.04               0.25   \n",
      "2 Yr      1.58              2.48          -0.90               0.67   \n",
      "3 Yr      1.62              2.46          -0.84               1.10   \n",
      "5 Yr      1.69              2.51          -0.82               1.65   \n",
      "7 Yr      1.83              2.59          -0.76               1.97   \n",
      "10 Yr     1.92              2.69          -0.77               2.17   \n",
      "20 Yr     2.25              2.87          -0.62               2.47   \n",
      "30 Yr     2.39              3.02          -0.63               2.75   \n",
      "\n",
      "       5 Year Change  \n",
      "1 Mo            1.45  \n",
      "3 Mo            1.51  \n",
      "6 Mo            1.48  \n",
      "1 Yr            1.34  \n",
      "2 Yr            0.91  \n",
      "3 Yr            0.52  \n",
      "5 Yr            0.04  \n",
      "7 Yr           -0.14  \n",
      "10 Yr          -0.25  \n",
      "20 Yr          -0.22  \n",
      "30 Yr          -0.36  \n"
     ]
    }
   ],
   "source": [
    "import pandas as pd\n",
    "\n",
    "# Read in table\n",
    "yield_curve_table = pd.read_csv(\"Tables/Treasury Yield Table.csv\", index_col=0)\n",
    "print(yield_curve_table)"
   ]
  },
  {
   "cell_type": "markdown",
   "metadata": {},
   "source": [
    "## Creating our Table Writing Function"
   ]
  },
  {
   "cell_type": "markdown",
   "metadata": {},
   "source": [
    "In case you have not seen it before, calling values with a DataFrame will return a numpy array of data and calling tolist() converts it to a nested list."
   ]
  },
  {
   "cell_type": "code",
   "execution_count": 9,
   "metadata": {},
   "outputs": [
    {
     "name": "stdout",
     "output_type": "stream",
     "text": [
      "[['1 Mo', 1.48, 2.44, -0.96, 0.03, 1.45], ['3 Mo', 1.55, 2.45, -0.9000000000000001, 0.04, 1.51], ['6 Mo', 1.6, 2.56, -0.96, 0.12, 1.48], ['1 Yr', 1.59, 2.63, -1.0399999999999998, 0.25, 1.34], ['2 Yr', 1.58, 2.48, -0.8999999999999999, 0.67, 0.91], ['3 Yr', 1.62, 2.46, -0.8399999999999999, 1.1, 0.52], ['5 Yr', 1.69, 2.51, -0.8199999999999998, 1.65, 0.04], ['7 Yr', 1.83, 2.59, -0.7599999999999998, 1.97, -0.1399999999999999], ['10 Yr', 1.92, 2.69, -0.77, 2.17, -0.25], ['20 Yr', 2.25, 2.87, -0.6200000000000001, 2.47, -0.2200000000000002], ['30 Yr', 2.39, 3.02, -0.6299999999999999, 2.75, -0.3599999999999999]]\n"
     ]
    }
   ],
   "source": [
    "# Doing values.tolist() on a dataframe returns the following\n",
    "print(yield_curve_table.reset_index().values.tolist())"
   ]
  },
  {
   "cell_type": "markdown",
   "metadata": {},
   "source": [
    "Now that we know how to get the values out, we have everything we need to be able to create the function for writing the tables into the excel worksheet."
   ]
  },
  {
   "cell_type": "code",
   "execution_count": 10,
   "metadata": {},
   "outputs": [],
   "source": [
    "from openpyxl.worksheet.worksheet import Worksheet\n",
    "from pandas import DataFrame\n",
    "\n",
    "# Define a function to write a pandas dataframe to excel\n",
    "\n",
    "def write_to_excel(ws: Worksheet, start_row: int,\n",
    "                   start_column: int, df: DataFrame,\n",
    "                   index: bool = True, columns: bool = True) -> None:\n",
    "    \"\"\"\n",
    "    Function which takes a worksheet and writes a table of data to it.\n",
    "\n",
    "    Parameters\n",
    "    ----------\n",
    "    ws : Worksheet\n",
    "        The worksheet to modify\n",
    "    start_row : int\n",
    "        The row to begin on\n",
    "    start_column : int\n",
    "        The column to start on\n",
    "    df : DataFrame\n",
    "        The data to write\n",
    "    index : bool, optional\n",
    "        Whether to write the index labels. The default is True.\n",
    "    columns : bool, optional\n",
    "        Whether to write the column labels. The default is True.\n",
    "\n",
    "    \"\"\"\n",
    "    \n",
    "    # If we want to include the index, reset the index on the dataframe first\n",
    "    if index:\n",
    "        write_data = df.reset_index().values.tolist()\n",
    "    else:\n",
    "        write_data = df.values.tolist()\n",
    "    \n",
    "    # If we want to include columns we need to add the columns as the first in the nested lists\n",
    "    if columns:\n",
    "        # If we already added an index, then we are going to want also include a blank space since\n",
    "        # we don't want a label above the index\n",
    "        if index:\n",
    "            write_data = [[\"\"]+list(df.columns)]+write_data\n",
    "        else:\n",
    "            write_data = [list(df.columns)]+write_data\n",
    "    \n",
    "    # For every value iterate through finding the location to place it in\n",
    "    for row in range(len(write_data)):\n",
    "        for column in range(len(write_data[0])):\n",
    "            ws.cell(row=start_row+row,column=start_column+column).value = write_data[row][column]\n",
    "\n",
    "wb = openpyxl.Workbook()\n",
    "ws = wb.active\n",
    "\n",
    "#Examples of writing to excel\n",
    "write_to_excel(ws, 1, 1, yield_curve_table)\n",
    "write_to_excel(ws, 16, 1, yield_curve_table,index=False)\n",
    "write_to_excel(ws, 31, 1, yield_curve_table,columns=False)\n",
    "write_to_excel(ws, 46, 1, yield_curve_table,index=False,columns=False)\n",
    "\n",
    "wb.save(\"Workbooks/Example 2.xlsx\")"
   ]
  },
  {
   "cell_type": "markdown",
   "metadata": {},
   "source": [
    "### Drawing Colors\n",
    "\n",
    "We can change the colors in the workbook by using the attribute fill. We just need to get create a PatternFill object with the color we want. "
   ]
  },
  {
   "cell_type": "code",
   "execution_count": 11,
   "metadata": {},
   "outputs": [],
   "source": [
    "from openpyxl.styles import PatternFill\n",
    "\n",
    "# Create a workbook\n",
    "wb = openpyxl.Workbook()\n",
    "ws = wb.active\n",
    "\n",
    "# Write the table in\n",
    "write_to_excel(ws, 3, 1, yield_curve_table)\n",
    "\n",
    "# PatternFill is a way to get colors, here we pass the start and end color as the same and use a fill type solid\n",
    "# The color used here is red\n",
    "my_fill_color = PatternFill(start_color='FF0000',\n",
    "                   end_color='FF0000',\n",
    "                   fill_type='solid')\n",
    "\n",
    "# The fill attribute of a cell is the color to use\n",
    "ws.cell(row=1,column=1).fill = my_fill_color\n",
    "\n",
    "wb.save(\"Workbooks/Example 3.xlsx\")"
   ]
  },
  {
   "cell_type": "markdown",
   "metadata": {},
   "source": [
    "### Red-Green Map\n",
    "\n",
    "We want a function that takes a set of data and colors it red or green depending on if the value is negative or positive. For changes in the yield curve, this will make it much more readable to see the changes overall."
   ]
  },
  {
   "cell_type": "code",
   "execution_count": 12,
   "metadata": {},
   "outputs": [],
   "source": [
    "#Create a function to map red and green colors based on whether a field is positive or negative\n",
    "def red_green_map(ws: Worksheet, df: DataFrame, start_row: int, start_column: int) -> None:\n",
    "    \"\"\"\n",
    "    Function which colors cells green or red depending on if\n",
    "    they are positive or negative\n",
    "\n",
    "    Parameters\n",
    "    ----------\n",
    "    ws : Worksheet\n",
    "        The worksheet to modify\n",
    "    df : DataFrame\n",
    "        The dataframe of data\n",
    "    start_row : int\n",
    "        The row to start coloring on\n",
    "    start_column : int\n",
    "        The color to start coloring on\n",
    "\n",
    "    \"\"\"\n",
    "    \n",
    "    # Get the values\n",
    "    write_data = df.values.tolist()\n",
    "    \n",
    "    # Iterate over the rows and columns\n",
    "    for row in range(len(write_data)):\n",
    "        for column in range(len(write_data[0])):\n",
    "            # Set the fill color to green for positive numbers\n",
    "            if write_data[row][column] > 0:\n",
    "                fill = fill = PatternFill(start_color='008000',\n",
    "                   end_color='008000',\n",
    "                   fill_type='solid')\n",
    "            # Set the fill color to red for negative numbers\n",
    "            elif write_data[row][column] < 0:\n",
    "                fill = PatternFill(start_color='FF0000',\n",
    "                   end_color='FF0000',\n",
    "                   fill_type='solid')\n",
    "                \n",
    "            # Change the color for the cell\n",
    "            ws.cell(row=start_row+row,column=start_column+column).fill = fill\n",
    "\n",
    "# Create the excel workbook\n",
    "wb = openpyxl.Workbook()\n",
    "ws = wb.active\n",
    "\n",
    "#Write the data to excel\n",
    "write_to_excel(ws, 3, 1, yield_curve_table)\n",
    "\n",
    "# We'll deal with only the two change columns\n",
    "# So pass the data for only those and also pass their starting columns/rows\n",
    "red_green_map(ws, yield_curve_table[[\"1 Year Change\"]], 4, 4)\n",
    "red_green_map(ws, yield_curve_table[[\"5 Year Change\"]], 4, 6)\n",
    "\n",
    "wb.save(\"Workbooks/Example 4.xlsx\")"
   ]
  },
  {
   "cell_type": "markdown",
   "metadata": {},
   "source": [
    "We finished some of the basic functionality we are going to want to use. Now we can write the function to wrap these functions up that should be used to fill out the treasury sheet."
   ]
  },
  {
   "cell_type": "code",
   "execution_count": 13,
   "metadata": {},
   "outputs": [],
   "source": [
    "#Put it all together for a function that takes a worksheet and yield curve data then writes the sheet\n",
    "def write_treasury_sheet(ws: Worksheet, yield_curve_table: DataFrame):\n",
    "    \"\"\"\n",
    "    Function to fill out the treasury curve data\n",
    "\n",
    "    Parameters\n",
    "    ----------\n",
    "    ws : Worksheet\n",
    "        The worksheet to modify\n",
    "    yield_curve_table : DataFrame\n",
    "        The yield curve data\n",
    "\n",
    "\n",
    "    \"\"\"\n",
    "    # Write the yield curve table\n",
    "    write_to_excel(ws, 3, 1, yield_curve_table)\n",
    "    \n",
    "    # Color the yield curve changes red/green\n",
    "    red_green_map(ws, yield_curve_table[[\"1 Year Change\"]], 4, 4)\n",
    "    red_green_map(ws, yield_curve_table[[\"5 Year Change\"]], 4, 6)\n",
    "    \n",
    "wb = openpyxl.Workbook()\n",
    "ws = wb.active\n",
    "write_treasury_sheet(ws, yield_curve_table)\n",
    "wb.save(\"Workbooks/Economic Report.xlsx\")"
   ]
  },
  {
   "cell_type": "markdown",
   "metadata": {},
   "source": [
    "## More Modifications for Our Excel Worksheet\n",
    "\n",
    "### Converting Column Number to Letter\n",
    "\n",
    "You may have noticed that in excel, the columns are letters. While we can use the number for the column most of the time, we might at times need the letter version. To convert an integer version of the column to the letter version, you can use get_column_letter."
   ]
  },
  {
   "cell_type": "code",
   "execution_count": 14,
   "metadata": {},
   "outputs": [
    {
     "name": "stdout",
     "output_type": "stream",
     "text": [
      "A\n"
     ]
    }
   ],
   "source": [
    "from openpyxl.utils.cell import get_column_letter\n",
    "\n",
    "# The get_column_letter function will convert a number to a letter for excel\n",
    "print(get_column_letter(1))"
   ]
  },
  {
   "cell_type": "markdown",
   "metadata": {},
   "source": [
    "### Adjusting Column Width\n",
    "\n",
    "The way to adjust the width of a column in excel is to use ws.column_dimensions and then change the width of column (which is found by indexing into ws.column_dimensions with the letter version of the column).\n"
   ]
  },
  {
   "cell_type": "code",
   "execution_count": 15,
   "metadata": {},
   "outputs": [],
   "source": [
    "from typing import List\n",
    "\n",
    "def adjust_column_widths(ws: Worksheet, start: int, values: List[int]):\n",
    "    \"\"\"\n",
    "    Function to adjust the width of the columns starting at the start value\n",
    "    to the values listed in values\n",
    "\n",
    "    Parameters\n",
    "    ----------\n",
    "    ws : Worksheet\n",
    "        The worksheet to modify\n",
    "    start : int\n",
    "        The column to begin adjustments at\n",
    "    values : List[int]\n",
    "        The widths to set each column to in order\n",
    "\n",
    "\n",
    "    \"\"\"\n",
    "    # Iterate through the values\n",
    "    for i, width in enumerate(values):\n",
    "        # Set the width of the column\n",
    "        ws.column_dimensions[get_column_letter(start+i)].width = width\n",
    "\n",
    "wb = openpyxl.Workbook()\n",
    "ws = wb.active\n",
    "\n",
    "write_to_excel(ws, 3, 1, yield_curve_table)\n",
    "\n",
    "adjust_column_widths(ws,1,[2,10,20,5])\n",
    "\n",
    "wb.save(\"Workbooks/Example 5.xlsx\")"
   ]
  },
  {
   "cell_type": "markdown",
   "metadata": {},
   "source": [
    "Given our new function, we want to update the write_treasury_sheet function. We will update the column lengths starting at column 2 (B) to have a length of 15."
   ]
  },
  {
   "cell_type": "code",
   "execution_count": 16,
   "metadata": {},
   "outputs": [],
   "source": [
    "# Update the function\n",
    "\n",
    "def write_treasury_sheet(ws: Worksheet, yield_curve_table: DataFrame) -> None:\n",
    "    \"\"\"\n",
    "    Function to fill out the treasury curve data\n",
    "\n",
    "    Parameters\n",
    "    ----------\n",
    "    ws : Worksheet\n",
    "        The worksheet to modify\n",
    "    yield_curve_table : DataFrame\n",
    "        The yield curve data\n",
    "\n",
    "    \"\"\"\n",
    "    #Write the yield curve table\n",
    "    write_to_excel(ws, 3, 1, yield_curve_table)\n",
    "    \n",
    "    #Color the yield curve changes red/green\n",
    "    red_green_map(ws, yield_curve_table[[\"1 Year Change\"]], 4, 4)\n",
    "    red_green_map(ws, yield_curve_table[[\"5 Year Change\"]], 4, 6)\n",
    "    \n",
    "    #Adjust the column widths for the table\n",
    "    adjust_column_widths(ws,2,[15]*len(yield_curve_table.columns))\n",
    "    \n",
    "wb = openpyxl.Workbook()\n",
    "ws = wb.active\n",
    "write_treasury_sheet(ws, yield_curve_table)\n",
    "wb.save(\"Workbooks/Economic Report.xlsx\")"
   ]
  },
  {
   "cell_type": "markdown",
   "metadata": {},
   "source": [
    "### Font\n",
    "\n",
    "For each cell, there is an attribute of font which can be modified to change the style, size, etc of the font. We access it through the font attribute of the cell, and we can change it by passing a Font object. Some of the things that can be modified within the font object is bolding with bold = True/False.\n",
    "\n",
    "One thing to note is that fonts are immutable when taken from the attribute so you need to use copy if you want to take a font and modify it."
   ]
  },
  {
   "cell_type": "code",
   "execution_count": 17,
   "metadata": {},
   "outputs": [
    {
     "name": "stdout",
     "output_type": "stream",
     "text": [
      "<openpyxl.styles.fonts.Font object>\n",
      "Parameters:\n",
      "name='Calibri', charset=None, family=2.0, b=False, i=False, strike=None, outline=None, shadow=None, condense=None, color=<openpyxl.styles.colors.Color object>\n",
      "Parameters:\n",
      "rgb=None, indexed=None, auto=None, theme=1, tint=0.0, type='theme', extend=None, sz=11.0, u=None, vertAlign=None, scheme='minor'\n"
     ]
    }
   ],
   "source": [
    "from openpyxl.styles import Font\n",
    "from copy import copy\n",
    "\n",
    "# Create a new workbook\n",
    "wb = openpyxl.Workbook()\n",
    "ws = wb.active\n",
    "\n",
    "# Write our table like before\n",
    "write_to_excel(ws, 3, 1, yield_curve_table)\n",
    "\n",
    "# Create a font with bold = True\n",
    "font = Font(bold=True)\n",
    "\n",
    "# Set the font on the cell at A4 to the font we just defined\n",
    "ws.cell(row=4,column=1).font = font\n",
    "\n",
    "# Or we can take the current fond and modify it like so to make it bold\n",
    "font = copy(ws.cell(row=3,column=2).font)\n",
    "print(font)\n",
    "font.bold = True\n",
    "ws.cell(row=3,column=2).font = font\n",
    "\n",
    "wb.save(\"Workbooks/Example 6.xlsx\")"
   ]
  },
  {
   "cell_type": "markdown",
   "metadata": {},
   "source": [
    "Now we want to make a function which goes through cells in a line and bolds them to make it easier to bold a column or row."
   ]
  },
  {
   "cell_type": "code",
   "execution_count": 18,
   "metadata": {},
   "outputs": [],
   "source": [
    "# Create the function\n",
    "\n",
    "def bold_cells_line(ws: Worksheet, start_row: int, start_column: int,\n",
    "                    length: int, vertical: bool = True) -> None:\n",
    "    \"\"\"\n",
    "    Function which bolds a column or row of a worksheet\n",
    "\n",
    "    Parameters\n",
    "    ----------\n",
    "    ws : Worksheet\n",
    "        The worksheet to modify\n",
    "    start_row : int\n",
    "        The row to start at for bolding\n",
    "    start_column : int\n",
    "        The column to start at for bolding\n",
    "    length : int\n",
    "        The length of the column or row to bold through\n",
    "    vertical : bool, optional\n",
    "        Decides if it is a row or column of the parameter length\n",
    "        that is bolded. The default is True.\n",
    "\n",
    "    \"\"\"\n",
    "    \n",
    "    # Iterate through the length of the row/column\n",
    "    for i in range(length):\n",
    "        # Increment the row or column depending on if vertical is true\n",
    "        if vertical:\n",
    "            cell = ws.cell(row=start_row+i,column=start_column)\n",
    "        else:\n",
    "            cell = ws.cell(row=start_row,column=start_column+i)\n",
    "            \n",
    "        # Copy the font and set the bold property to true\n",
    "        font = copy(cell.font)\n",
    "        font.bold = True\n",
    "        cell.font = font\n",
    "        \n",
    "# Update the treasury sheet function\n",
    "def write_treasury_sheet(ws: Worksheet, yield_curve_table: DataFrame) -> None:\n",
    "    \"\"\"\n",
    "    Function to fill out the treasury curve data\n",
    "\n",
    "    Parameters\n",
    "    ----------\n",
    "    ws : Worksheet\n",
    "        The worksheet to modify\n",
    "    yield_curve_table : DataFrame\n",
    "        The yield curve data\n",
    "\n",
    "    \"\"\"\n",
    "    #Write the yield curve table\n",
    "    write_to_excel(ws, 3, 1, yield_curve_table)\n",
    "    \n",
    "    #Color the yield curve changes red/green\n",
    "    red_green_map(ws, yield_curve_table[[\"1 Year Change\"]], 4, 4)\n",
    "    red_green_map(ws, yield_curve_table[[\"5 Year Change\"]], 4, 6)\n",
    "    \n",
    "    #Adjust the column widths for the table\n",
    "    adjust_column_widths(ws,2,[15]*len(yield_curve_table.columns))\n",
    "    \n",
    "    #Bold the index and columns\n",
    "    bold_cells_line(ws, 4, 1, len(yield_curve_table), vertical=True)\n",
    "    bold_cells_line(ws, 3, 2, len(yield_curve_table.columns), vertical=False)\n",
    "    \n",
    "    \n",
    "# Test the new function\n",
    "wb = openpyxl.Workbook()\n",
    "ws = wb.active\n",
    "write_treasury_sheet(ws, yield_curve_table)\n",
    "wb.save(\"Workbooks/Economic Report.xlsx\")"
   ]
  },
  {
   "cell_type": "markdown",
   "metadata": {},
   "source": [
    "### Merging Cells\n",
    "\n",
    "We can merge cells together by passing a range in the format X:Y where X is the upper left corner and Y is the bottom right corner. For example A1:F1 passed into the merge_cells function will merge those cells together. Below is an example of it."
   ]
  },
  {
   "cell_type": "code",
   "execution_count": 19,
   "metadata": {},
   "outputs": [],
   "source": [
    "# Set up the worksheet\n",
    "wb = openpyxl.Workbook()\n",
    "ws = wb.active\n",
    "write_to_excel(ws, 3, 1, yield_curve_table)\n",
    "\n",
    "# Merging cells can be done with ws.merge_cells\n",
    "ws.merge_cells('A1:F1')\n",
    "\n",
    "wb.save(\"Workbooks/Example 7.xlsx\")"
   ]
  },
  {
   "cell_type": "markdown",
   "metadata": {},
   "source": [
    "### Getting Coordinates\n",
    "\n",
    "There are two more functions we want to learn more about as they will help us when we move on to some other improvements in our workbook.\n",
    "\n",
    "1. coordinate_from_string: This returns the coordinates for the string representation of a cell  \n",
    "2. column_index_from_string: This converts a letter to the actual number in the excel sheet for a coordinate\n",
    "\n",
    "Below we show both examples."
   ]
  },
  {
   "cell_type": "code",
   "execution_count": 20,
   "metadata": {},
   "outputs": [
    {
     "name": "stdout",
     "output_type": "stream",
     "text": [
      "('B', 6)\n",
      "2\n"
     ]
    }
   ],
   "source": [
    "from openpyxl.utils.cell import coordinate_from_string, column_index_from_string\n",
    "\n",
    "# coordinate_from_string returns the coordinates for the string representation of a cell  \n",
    "print(coordinate_from_string(\"B6\"))\n",
    "\n",
    "# column_index_from_string converts a letter to the actual number in the excel sheet for a coordinate\n",
    "print(column_index_from_string(\"B\"))"
   ]
  },
  {
   "cell_type": "markdown",
   "metadata": {},
   "source": [
    "### Title Function Creation Challenge\n",
    "\n",
    "Given what we have learned so far, here is a challenge. Create a function for creating the title in a workbook which takes as arguments the worksheet, the area to make the title (such as A1:A5), and the text to put in the title.\n",
    "\n",
    "It should do the following:\n",
    "1. Merge the cells for the area\n",
    "2. Find the row/column of the most upper left cell in the area parameter\n",
    "3. Set the text of this cell to the text (which will set it for the full merged cell)\n",
    "4. Change the font of this cell to be of size 16, with bold as true, and a color of \"283747\".\n",
    "\n",
    "We will also learn how to do alignment when we see the answer!"
   ]
  },
  {
   "cell_type": "markdown",
   "metadata": {},
   "source": [
    "## Borders and Images\n",
    "\n",
    "In this section, we build on how to create borders and images after we work through the title function creation solution."
   ]
  },
  {
   "cell_type": "markdown",
   "metadata": {},
   "source": [
    "### Title Function Creation Solution\n",
    "\n",
    "Below is the solution to the problem. As well, we can see the last line sets the alignment to horizontal by creating an Alignment object."
   ]
  },
  {
   "cell_type": "code",
   "execution_count": 21,
   "metadata": {},
   "outputs": [],
   "source": [
    "from openpyxl.styles.alignment import Alignment\n",
    "\n",
    "# A title function for the worksheet\n",
    "def create_title(ws: Worksheet, area: str, text: str) -> None:\n",
    "    \"\"\"\n",
    "    Writes a title on to the passed worksheet\n",
    "\n",
    "    Parameters\n",
    "    ----------\n",
    "    ws : Worksheet\n",
    "        The worksheet to modify\n",
    "    area : str\n",
    "        The area to put the title in (of the form A1:A5 or similar)\n",
    "    text : str\n",
    "        The text for the title\n",
    "\n",
    "    \"\"\"\n",
    "    # Merge the cells in the area\n",
    "    ws.merge_cells(area)\n",
    "    \n",
    "    # Given an area such as A1:A5, we want to first isolate the first cell\n",
    "    # Split will break the area into the two components, we take the first one\n",
    "    first_cell = area.split(\":\")[0]\n",
    "    \n",
    "    # Find the coordinates\n",
    "    first_cell = coordinate_from_string(first_cell)\n",
    "    \n",
    "    # Convert the components to the numerical values for column and row\n",
    "    col = column_index_from_string(first_cell[0])\n",
    "    row = first_cell[1]\n",
    "    \n",
    "    # Change the text of the merged cell to whatever was passed as input\n",
    "    ws.cell(row=row, column=col).value = text\n",
    "    \n",
    "    # Change the font of the title\n",
    "    font = font = Font(size=16,\n",
    "                       bold=True,\n",
    "                      color=\"283747\")\n",
    "    ws.cell(row=row, column=col).font = font\n",
    "    \n",
    "    # Change alignment to be centered\n",
    "    ws.cell(row=row, column=col).alignment = Alignment(horizontal=\"center\")\n",
    "\n",
    "\n",
    "# Update the treasury sheet function\n",
    "def write_treasury_sheet(ws: Worksheet, yield_curve_table: DataFrame) -> None:\n",
    "    \"\"\"\n",
    "    Function to fill out the treasury curve data\n",
    "\n",
    "    Parameters\n",
    "    ----------\n",
    "    ws : Worksheet\n",
    "        The worksheet to modify\n",
    "    yield_curve_table : DataFrame\n",
    "        The yield curve data\n",
    "\n",
    "    \"\"\"\n",
    "    #Write the yield curve table\n",
    "    write_to_excel(ws, 3, 1, yield_curve_table)\n",
    "    \n",
    "    #Color the yield curve changes red/green\n",
    "    red_green_map(ws, yield_curve_table[[\"1 Year Change\"]], 4, 4)\n",
    "    red_green_map(ws, yield_curve_table[[\"5 Year Change\"]], 4, 6)\n",
    "    \n",
    "    #Adjust the column widths for the table\n",
    "    adjust_column_widths(ws,2,[15]*len(yield_curve_table.columns))\n",
    "    \n",
    "    #Bold the index and columns\n",
    "    bold_cells_line(ws, 4, 1, len(yield_curve_table), vertical=True)\n",
    "    bold_cells_line(ws, 3, 2, len(yield_curve_table.columns), vertical=False)\n",
    "    \n",
    "    # Create title\n",
    "    create_title(ws, 'A1:F1', \"Treasury Yield Curve\")\n",
    "    \n",
    "wb = openpyxl.Workbook()\n",
    "ws = wb.active\n",
    "write_treasury_sheet(ws, yield_curve_table)\n",
    "wb.save(\"Workbooks/Economic Report.xlsx\")"
   ]
  },
  {
   "cell_type": "markdown",
   "metadata": {},
   "source": [
    "### Borders\n",
    "\n",
    "For borders, a cell can be modified by using its border attribute.\n",
    "\n",
    "What needs to be passed is a Border object in which we specify the borders for each side left, right, top and bottom. These borders can be any of the permissible excel borders. \n",
    "\n",
    "Below is an example of creating borders for a cell."
   ]
  },
  {
   "cell_type": "code",
   "execution_count": 22,
   "metadata": {},
   "outputs": [],
   "source": [
    "from openpyxl.styles import Border, Side\n",
    "\n",
    "# Create the base workbook\n",
    "wb = openpyxl.Workbook()\n",
    "ws = wb.active\n",
    "write_to_excel(ws, 3, 1, yield_curve_table)\n",
    "\n",
    "# With borders we need to specify the styles we want to use for each border\n",
    "border = Border(left=Side(border_style='thin'),\n",
    "         right=Side(border_style='thin'),\n",
    "         top=Side(border_style='thin'),\n",
    "         bottom=Side(border_style='thin'))\n",
    "\n",
    "# Set the border\n",
    "temp = ws.cell(row=5,column=5)\n",
    "temp.border = border\n",
    "\n",
    "wb.save(\"Workbooks/Example 8.xlsx\")"
   ]
  },
  {
   "cell_type": "markdown",
   "metadata": {},
   "source": [
    "Now that we know how borders work, how about we build a function for giving thin borders in a region of our worksheet."
   ]
  },
  {
   "cell_type": "code",
   "execution_count": 23,
   "metadata": {},
   "outputs": [],
   "source": [
    "#Create a function which takes a starting position and the length vertically and horizontally\n",
    "#and then creates borders around all of them\n",
    "def create_border(ws: Worksheet, start_row: int, start_column: int,\n",
    "                  vertical_length: int, horizontal_length: int) -> None:\n",
    "    \"\"\"\n",
    "    Function which takes a starting position and the length vertically\n",
    "    and horizontally, then creates thin borders around all of them\n",
    "\n",
    "    Parameters\n",
    "    ----------\n",
    "    ws : Worksheet\n",
    "        The worksheet to modify\n",
    "    start_row : int\n",
    "        The row to begin at\n",
    "    start_column : int\n",
    "        The column to begin at\n",
    "    vertical_length : int\n",
    "        How far down borders should be applied\n",
    "    horizontal_length : int\n",
    "        How far right borders should be applied\n",
    "    \"\"\"\n",
    "    # Create the border\n",
    "    border = Border(left=Side(border_style='thin'),\n",
    "         right=Side(border_style='thin'),\n",
    "         top=Side(border_style='thin'),\n",
    "         bottom=Side(border_style='thin'))\n",
    "    \n",
    "    # Iterate and set the border\n",
    "    for row in range(vertical_length):\n",
    "        for column in range(horizontal_length):\n",
    "            ws.cell(row=start_row+row,column=start_column+column).border = border\n",
    "            \n",
    "# Create the base notebook\n",
    "wb = openpyxl.Workbook()\n",
    "ws = wb.active\n",
    "write_to_excel(ws, 3, 1, yield_curve_table)\n",
    "\n",
    "# Write the border\n",
    "create_border(ws, 4, 2, yield_curve_table.shape[0], yield_curve_table.shape[1])\n",
    "\n",
    "wb.save(\"Workbooks/Example 9.xlsx\")"
   ]
  },
  {
   "cell_type": "markdown",
   "metadata": {},
   "source": [
    "Naturally, we can update our main function for writing at this point."
   ]
  },
  {
   "cell_type": "code",
   "execution_count": 24,
   "metadata": {},
   "outputs": [],
   "source": [
    "def write_treasury_sheet(ws: Worksheet, yield_curve_table: DataFrame) -> None:\n",
    "    \"\"\"\n",
    "    Function to fill out the treasury curve data\n",
    "\n",
    "    Parameters\n",
    "    ----------\n",
    "    ws : Worksheet\n",
    "        The worksheet to modify\n",
    "    yield_curve_table : DataFrame\n",
    "        The yield curve data\n",
    "\n",
    "    \"\"\"\n",
    "    # Write the yield curve table\n",
    "    write_to_excel(ws, 3, 1, yield_curve_table)\n",
    "    \n",
    "    # Color the yield curve changes red/green\n",
    "    red_green_map(ws, yield_curve_table[[\"1 Year Change\"]], 4, 4)\n",
    "    red_green_map(ws, yield_curve_table[[\"5 Year Change\"]], 4, 6)\n",
    "    \n",
    "    # Adjust the column widths for the table\n",
    "    adjust_column_widths(ws,2,[15]*len(yield_curve_table.columns))\n",
    "    \n",
    "    # Bold the index and columns\n",
    "    bold_cells_line(ws, 4, 1, len(yield_curve_table), vertical=True)\n",
    "    bold_cells_line(ws, 3, 2, len(yield_curve_table.columns), vertical=False)\n",
    "    \n",
    "    # Create title\n",
    "    create_title(ws, 'A1:F1', \"Treasury Yield Curve\")\n",
    "    \n",
    "    # Add borders\n",
    "    create_border(ws, 4, 2, yield_curve_table.shape[0], yield_curve_table.shape[1])\n",
    "    \n",
    "wb = openpyxl.Workbook()\n",
    "ws = wb.active\n",
    "write_treasury_sheet(ws, yield_curve_table)\n",
    "wb.save(\"Workbooks/Economic Report.xlsx\")"
   ]
  },
  {
   "cell_type": "markdown",
   "metadata": {},
   "source": [
    "### Gridlines\n",
    "\n",
    "For the excel worksheet, there is an attribute sheet_view which has a few other modifications we can make. One of those is the attribute showGridLines which when set to false will get rid of the gridlines in the worksheet. Below is an example of turning it off."
   ]
  },
  {
   "cell_type": "code",
   "execution_count": 25,
   "metadata": {},
   "outputs": [],
   "source": [
    "# Write the base worksheet\n",
    "wb = openpyxl.Workbook()\n",
    "ws = wb.active\n",
    "write_to_excel(ws, 3, 1, yield_curve_table)\n",
    "\n",
    "# We might be interested in switching off gridlines\n",
    "ws.sheet_view.showGridLines = False\n",
    "\n",
    "wb.save(\"Workbooks/Example 10.xlsx\")"
   ]
  },
  {
   "cell_type": "markdown",
   "metadata": {},
   "source": [
    "Then update the write_treasury_sheet function."
   ]
  },
  {
   "cell_type": "code",
   "execution_count": 26,
   "metadata": {},
   "outputs": [],
   "source": [
    "def write_treasury_sheet(ws: Worksheet, yield_curve_table: DataFrame) -> None:\n",
    "    \"\"\"\n",
    "    Function to fill out the treasury curve data\n",
    "\n",
    "    Parameters\n",
    "    ----------\n",
    "    ws : Worksheet\n",
    "        The worksheet to modify\n",
    "    yield_curve_table : DataFrame\n",
    "        The yield curve data\n",
    "\n",
    "    \"\"\"\n",
    "    # Write the yield curve table\n",
    "    write_to_excel(ws, 3, 1, yield_curve_table)\n",
    "    \n",
    "    # Color the yield curve changes red/green\n",
    "    red_green_map(ws, yield_curve_table[[\"1 Year Change\"]], 4, 4)\n",
    "    red_green_map(ws, yield_curve_table[[\"5 Year Change\"]], 4, 6)\n",
    "    \n",
    "    # Adjust the column widths for the table\n",
    "    adjust_column_widths(ws,2,[15]*len(yield_curve_table.columns))\n",
    "    \n",
    "    # Bold the index and columns\n",
    "    bold_cells_line(ws, 4, 1, len(yield_curve_table), vertical=True)\n",
    "    bold_cells_line(ws, 3, 2, len(yield_curve_table.columns), vertical=False)\n",
    "    \n",
    "    # Create title\n",
    "    create_title(ws, 'A1:F1', \"Treasury Yield Curve\")\n",
    "    \n",
    "    # Add borders\n",
    "    create_border(ws, 4, 2, yield_curve_table.shape[0], yield_curve_table.shape[1])\n",
    "    \n",
    "    # Get rid of gridlines\n",
    "    ws.sheet_view.showGridLines = False\n",
    "    \n",
    "wb = openpyxl.Workbook()\n",
    "ws = wb.active\n",
    "write_treasury_sheet(ws, yield_curve_table)\n",
    "wb.save(\"Workbooks/Economic Report.xlsx\")"
   ]
  },
  {
   "cell_type": "markdown",
   "metadata": {},
   "source": [
    "### Adding Images\n",
    "\n",
    "With the function add_image, we just need to specify and image and where to place it and we will then have it placed nicely in our worksheet. For example, below, we pull in the treasury yield curve image we created in the last lesson as an image that we want to add to our workbook. Then we call add image and give it the location of H1 that we want it placed at."
   ]
  },
  {
   "cell_type": "code",
   "execution_count": 27,
   "metadata": {},
   "outputs": [],
   "source": [
    "from openpyxl.drawing.image import Image\n",
    "\n",
    "# Create the base worksheet\n",
    "wb = openpyxl.Workbook()\n",
    "ws = wb.active\n",
    "write_to_excel(ws, 3, 1, yield_curve_table)\n",
    "\n",
    "# Images can be put into excel worksheets by loading them then adding image to a given position\n",
    "img = Image('Images/Treasury Yield Curves.png')\n",
    "ws.add_image(img, 'H1')\n",
    "\n",
    "wb.save(\"Workbooks/Example 11.xlsx\")"
   ]
  },
  {
   "cell_type": "markdown",
   "metadata": {},
   "source": [
    "Add the final modifications to our write_treasury_sheet function."
   ]
  },
  {
   "cell_type": "code",
   "execution_count": 28,
   "metadata": {},
   "outputs": [],
   "source": [
    "def write_treasury_sheet(ws: Worksheet, yield_curve_table: DataFrame) -> None:\n",
    "    \"\"\"\n",
    "    Function to fill out the treasury curve data\n",
    "\n",
    "    Parameters\n",
    "    ----------\n",
    "    ws : Worksheet\n",
    "        The worksheet to modify\n",
    "    yield_curve_table : DataFrame\n",
    "        The yield curve data\n",
    "\n",
    "    \"\"\"\n",
    "    # Write the yield curve table\n",
    "    write_to_excel(ws, 3, 1, yield_curve_table)\n",
    "    \n",
    "    # Color the yield curve changes red/green\n",
    "    red_green_map(ws, yield_curve_table[[\"1 Year Change\"]], 4, 4)\n",
    "    red_green_map(ws, yield_curve_table[[\"5 Year Change\"]], 4, 6)\n",
    "    \n",
    "    # Adjust the column widths for the table\n",
    "    adjust_column_widths(ws,2,[15]*len(yield_curve_table.columns))\n",
    "    \n",
    "    # Bold the index and columns\n",
    "    bold_cells_line(ws, 4, 1, len(yield_curve_table), vertical=True)\n",
    "    bold_cells_line(ws, 3, 2, len(yield_curve_table.columns), vertical=False)\n",
    "    \n",
    "    # Create title\n",
    "    create_title(ws, 'A1:F1', \"Treasury Yield Curve\")\n",
    "    \n",
    "    # Add borders\n",
    "    create_border(ws, 4, 2, yield_curve_table.shape[0], yield_curve_table.shape[1])\n",
    "    \n",
    "    # Get rid of gridlines\n",
    "    ws.sheet_view.showGridLines = False\n",
    "    \n",
    "    # Add yield curve graphs\n",
    "    img = Image('Images/Treasury Yield Curves.png')\n",
    "    ws.add_image(img, 'H1')\n",
    "    \n",
    "wb = openpyxl.Workbook()\n",
    "ws = wb.active\n",
    "write_treasury_sheet(ws, yield_curve_table)\n",
    "wb.save(\"Workbooks/Economic Report.xlsx\")"
   ]
  }
 ],
 "metadata": {
  "kernelspec": {
   "display_name": "Python 3 (ipykernel)",
   "language": "python",
   "name": "python3"
  },
  "language_info": {
   "codemirror_mode": {
    "name": "ipython",
    "version": 3
   },
   "file_extension": ".py",
   "mimetype": "text/x-python",
   "name": "python",
   "nbconvert_exporter": "python",
   "pygments_lexer": "ipython3",
   "version": "3.9.7"
  }
 },
 "nbformat": 4,
 "nbformat_minor": 2
}
