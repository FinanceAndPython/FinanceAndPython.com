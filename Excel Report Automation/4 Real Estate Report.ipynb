{
 "cells": [
  {
   "cell_type": "code",
   "execution_count": 1,
   "metadata": {
    "collapsed": true
   },
   "outputs": [],
   "source": [
    "import openpyxl\n",
    "import pandas as pd\n",
    "\n",
    "def write_to_excel(ws, start_row, start_column, df, index=True, columns = True):\n",
    "    if index:\n",
    "        write_data = df.reset_index().values.tolist()\n",
    "    else:\n",
    "        write_data = df.values.tolist()\n",
    "        \n",
    "    if columns:\n",
    "        if index:\n",
    "            write_data = [[\"\"]+list(df.columns)]+write_data\n",
    "        else:\n",
    "            write_data = [list(df.columns)]+write_data\n",
    "    \n",
    "    for row in range(len(write_data)):\n",
    "        for column in range(len(write_data[0])):\n",
    "            ws.cell(row=start_row+row,column=start_column+column).value = write_data[row][column]\n",
    "\n",
    "real_estate_returns = pd.read_csv(\"Tables/Real Estate Returns.csv\", index_col=0)         \n",
    "real_estate_returns.columns = \"Q\"+real_estate_returns.columns\n",
    "\n",
    "wb = openpyxl.Workbook()\n",
    "ws = wb.active\n",
    "\n",
    "write_to_excel(ws, 4, 2, real_estate_returns)\n",
    "\n",
    "\n",
    "wb.save(\"Workbooks/Economic Report.xlsx\")"
   ]
  },
  {
   "cell_type": "code",
   "execution_count": 2,
   "metadata": {
    "collapsed": true
   },
   "outputs": [],
   "source": [
    "from openpyxl.styles.alignment import Alignment\n",
    "from openpyxl.styles import Font\n",
    "\n",
    "\n",
    "\n",
    "def create_axis_labels(ws):\n",
    "\n",
    "    ws.merge_cells(start_row=4, start_column=1, end_row=5+real_estate_returns.shape[0]-1, end_column=1)\n",
    "    ws.cell(row=4,column=1).value = \"Year\"\n",
    "    #Text rotation is an option to rotate the text\n",
    "    ws.cell(row=4, column=1).alignment = Alignment(horizontal=\"center\", vertical=\"center\", textRotation=90)\n",
    "    ws.cell(row=4, column=1).font = Font(size=16, bold=True, color=\"283747\")\n",
    "\n",
    "    ws.merge_cells(\"B3:F3\")\n",
    "    ws.cell(row=3,column=2).value = \"Quarter\"\n",
    "    ws.cell(row=3, column=2).font = Font(size=16, bold=True, color=\"283747\")\n",
    "    ws.cell(row=3, column=2).alignment = Alignment(horizontal=\"center\", vertical=\"center\")\n",
    "\n",
    "def create_real_estate_report(ws, real_estate_returns):\n",
    "    #Write the table\n",
    "    write_to_excel(ws, 4, 2, real_estate_returns)\n",
    "    \n",
    "    #Create the axis labels\n",
    "    create_axis_labels(ws)\n",
    "    \n",
    "wb = openpyxl.Workbook()\n",
    "ws = wb.active\n",
    "create_real_estate_report(ws, real_estate_returns)\n",
    "wb.save(\"Workbooks/Economic Report.xlsx\")\n"
   ]
  },
  {
   "cell_type": "code",
   "execution_count": 3,
   "metadata": {
    "collapsed": true
   },
   "outputs": [],
   "source": [
    "#Number formats are useful if you want to use percents for example\n",
    "\n",
    "wb = openpyxl.Workbook()\n",
    "ws = wb.active\n",
    "\n",
    "ws.cell(row=1,column=1).value = 5.5542\n",
    "ws.cell(row=2,column=1).value = 5.5542\n",
    "ws.cell(row=3,column=1).value = 5.5542\n",
    "\n",
    "#An integer format\n",
    "ws.cell(row=1,column=1).number_format = '0'\n",
    "#An integer with one decimal format\n",
    "ws.cell(row=2,column=1).number_format = '0.0'\n",
    "#A percentage format with one decimal\n",
    "ws.cell(row=3,column=1).number_format = '0.0%'\n",
    "\n",
    "wb.save(\"Workbooks/Example 12.xlsx\")"
   ]
  },
  {
   "cell_type": "code",
   "execution_count": 4,
   "metadata": {
    "collapsed": true
   },
   "outputs": [],
   "source": [
    "def create_number_formatting(ws, start_row, start_column, vertical_length, horizontal_length,num_format):\n",
    "    for row in range(vertical_length):\n",
    "        for column in range(horizontal_length):\n",
    "            ws.cell(row=start_row+row,column=start_column+column).number_format = num_format\n",
    "\n",
    "def create_real_estate_report(ws, real_estate_returns):\n",
    "    #Write the table\n",
    "    write_to_excel(ws, 4, 2, real_estate_returns)\n",
    "    \n",
    "    #Create the axis labels\n",
    "    create_axis_labels(ws)\n",
    "    \n",
    "    #Create percentage number formatting\n",
    "    create_number_formatting(ws, 5, 3, real_estate_returns.shape[0], real_estate_returns.shape[1],\"0.0%\")\n",
    "    \n",
    "wb = openpyxl.Workbook()\n",
    "ws = wb.active\n",
    "create_real_estate_report(ws, real_estate_returns)\n",
    "wb.save(\"Workbooks/Economic Report.xlsx\")"
   ]
  },
  {
   "cell_type": "code",
   "execution_count": 5,
   "metadata": {},
   "outputs": [
    {
     "name": "stdout",
     "output_type": "stream",
     "text": [
      "ff0000\n"
     ]
    }
   ],
   "source": [
    "from openpyxl.styles import PatternFill\n",
    "\n",
    "#Now let's think about the rgb scale, it is defined on values 0 to 255 for all three colors\n",
    "#where 255 is the maximum of that color, the following will convert rgb to hex\n",
    "def rgb_to_hex(rgb):\n",
    "    return '%02x%02x%02x' % rgb\n",
    "#For example just a red color\n",
    "print(rgb_to_hex((255,0,0)))\n",
    "\n",
    "wb = openpyxl.Workbook()\n",
    "ws = wb.active\n",
    "\n",
    "ws.cell(row=1,column=1).value = -5\n",
    "ws.cell(row=1,column=2).value = 5\n",
    "\n",
    "\n",
    "my_fill_color = PatternFill(start_color=rgb_to_hex((255,0,0)),\n",
    "                   end_color=rgb_to_hex((255,0,0)),\n",
    "                   fill_type='solid')\n",
    "\n",
    "ws.cell(row=1,column=1).fill = my_fill_color\n",
    "\n",
    "\n",
    "my_fill_color = PatternFill(start_color=rgb_to_hex((0,255,0)),\n",
    "                   end_color=rgb_to_hex((0,255,0)),\n",
    "                   fill_type='solid')\n",
    "\n",
    "ws.cell(row=1,column=2).fill = my_fill_color\n",
    "\n",
    "wb.save(\"Workbooks/Example 13.xlsx\")"
   ]
  },
  {
   "cell_type": "code",
   "execution_count": 6,
   "metadata": {},
   "outputs": [
    {
     "name": "stdout",
     "output_type": "stream",
     "text": [
      "            Q1        Q2        Q3        Q4\n",
      "Year                                        \n",
      "2000  0.501924  0.427211  0.476710  0.403999\n",
      "2001  0.646400  0.439358  0.407005  0.325572\n",
      "2002  0.376532  0.446444  0.519857  0.371430\n",
      "2003  0.319508  0.319430  0.404023  0.742608\n",
      "2004  0.410111  0.639926  1.000000  0.559631\n",
      "2005  0.602081  0.837421  0.791595  0.593759\n",
      "2006  0.414928  0.268256  0.215263  0.268995\n",
      "2007  0.098024 -0.018008 -0.294563 -0.082714\n",
      "2008 -0.191266 -0.663725 -0.826315 -0.243130\n",
      "2009  0.193901 -0.692468 -0.689631 -0.199075\n",
      "2010 -0.314883 -0.236202  0.249777 -0.190012\n",
      "2011 -0.723244 -0.456476  0.191793  0.115932\n",
      "2012 -0.278024 -0.110698  0.338634  0.209370\n",
      "2013  0.136520  0.408270  0.406933  0.214090\n",
      "2014  0.230787  0.500442  0.376485  0.219005\n",
      "2015  0.265963  0.451142  0.399753  0.230843\n",
      "2016  0.240415  0.505880  0.468144  0.238611\n",
      "2017  0.227549  0.642798  0.443037  0.251752\n",
      "2018  0.387603  0.586302  0.391035  0.155833\n",
      "2019  0.287869  0.490456  0.305569  0.221268\n"
     ]
    }
   ],
   "source": [
    "#We can make a function to take each value and normalize by the absolute maximum value\n",
    "def create_color_scale(returns):\n",
    "    max_abs_return = abs(returns).max().max()\n",
    "    return returns / max_abs_return\n",
    "color_scale = create_color_scale(real_estate_returns)\n",
    "print(color_scale)"
   ]
  },
  {
   "cell_type": "code",
   "execution_count": 7,
   "metadata": {},
   "outputs": [
    {
     "name": "stdout",
     "output_type": "stream",
     "text": [
      "          Q1      Q2      Q3      Q4\n",
      "Year                                \n",
      "2000  7fff7f  92ff92  85ff85  97ff97\n",
      "2001  5aff5a  8eff8e  97ff97  abffab\n",
      "2002  9eff9e  8dff8d  7aff7a  a0ffa0\n",
      "2003  adffad  adffad  97ff97  41ff41\n",
      "2004  96ff96  5bff5b  00ff00  70ff70\n",
      "2005  65ff65  29ff29  35ff35  67ff67\n",
      "2006  95ff95  baffba  c8ffc8  baffba\n",
      "2007  e6ffe6  fffafa  ffb3b3  ffe9e9\n",
      "2008  ffcece  ff5555  ff2c2c  ffc1c1\n",
      "2009  cdffcd  ff4e4e  ff4f4f  ffcccc\n",
      "2010  ffaeae  ffc2c2  bfffbf  ffcece\n",
      "2011  ff4646  ff8a8a  ceffce  e1ffe1\n",
      "2012  ffb8b8  ffe2e2  a8ffa8  c9ffc9\n",
      "2013  dcffdc  96ff96  97ff97  c8ffc8\n",
      "2014  c4ffc4  7fff7f  9eff9e  c7ffc7\n",
      "2015  bbffbb  8bff8b  99ff99  c4ffc4\n",
      "2016  c1ffc1  7eff7e  87ff87  c2ffc2\n",
      "2017  c4ffc4  5bff5b  8eff8e  beffbe\n",
      "2018  9cff9c  69ff69  9bff9b  d7ffd7\n",
      "2019  b5ffb5  81ff81  b1ffb1  c6ffc6\n"
     ]
    }
   ],
   "source": [
    "#Now let's add in the ability to convert this to a tuple of rgb\n",
    "#For positive values we will set the green value to 255 and decrease the other two based on how positive\n",
    "#For negative we will do the same except with the red value\n",
    "\n",
    "def value_to_red_green(value):\n",
    "    if value > 0:\n",
    "        return (int(255-value*255), 255, int(255-value*255))\n",
    "    else:\n",
    "        value = abs(value)\n",
    "        return (255, int(255-value*255), int(255-value*255))\n",
    "    \n",
    "def create_color_scale(returns):\n",
    "    max_abs_return = abs(returns).max().max()\n",
    "    scale = returns / max_abs_return\n",
    "    \n",
    "    #Map the conversion to rgb\n",
    "    scale = scale.applymap(value_to_red_green)\n",
    "    \n",
    "    #Map rgb to hex\n",
    "    scale = scale.applymap(rgb_to_hex)\n",
    "    \n",
    "    return scale\n",
    "    \n",
    "color_scale = create_color_scale(real_estate_returns)\n",
    "print(color_scale)"
   ]
  },
  {
   "cell_type": "code",
   "execution_count": 8,
   "metadata": {
    "collapsed": true
   },
   "outputs": [],
   "source": [
    "#Create a function which iterates over each cell and changes the color to the rgb_scale\n",
    "\n",
    "def red_green_map(returns, start_row, start_column):\n",
    "    color_scale = create_color_scale(real_estate_returns.fillna(0))\n",
    "    \n",
    "    for row in range(returns.shape[0]):\n",
    "        for column in range(returns.shape[1]):\n",
    "            color = PatternFill(start_color=color_scale.iloc[row, column],\n",
    "                   end_color=color_scale.iloc[row, column],\n",
    "                   fill_type='solid')\n",
    "            \n",
    "            ws.cell(row=start_row+row,column=start_column+column).fill = color\n",
    "    \n",
    "\n",
    "def create_real_estate_report(ws, real_estate_returns):\n",
    "    #Write the table\n",
    "    write_to_excel(ws, 4, 2, real_estate_returns)\n",
    "    \n",
    "    #Create the axis labels\n",
    "    create_axis_labels(ws)\n",
    "    \n",
    "    #Create percentage number formatting\n",
    "    create_number_formatting(ws, 5, 3, real_estate_returns.shape[0], real_estate_returns.shape[1],\"0.0%\")\n",
    "    \n",
    "    #Map the red-green color map\n",
    "    red_green_map(real_estate_returns, 5, 3)\n",
    "    \n",
    "wb = openpyxl.Workbook()\n",
    "ws = wb.active\n",
    "create_real_estate_report(ws, real_estate_returns)\n",
    "wb.save(\"Workbooks/Economic Report.xlsx\")"
   ]
  },
  {
   "cell_type": "code",
   "execution_count": 9,
   "metadata": {
    "collapsed": true
   },
   "outputs": [],
   "source": [
    "#Add in an image to add by the given name\n",
    "from openpyxl.drawing.image import Image\n",
    "\n",
    "def create_real_estate_report(ws, real_estate_returns, image_name):\n",
    "    #Write the table\n",
    "    write_to_excel(ws, 4, 2, real_estate_returns)\n",
    "    \n",
    "    #Create the axis labels\n",
    "    create_axis_labels(ws)\n",
    "    \n",
    "    #Create percentage number formatting\n",
    "    create_number_formatting(ws, 5, 3, real_estate_returns.shape[0], real_estate_returns.shape[1],\"0.0%\")\n",
    "    \n",
    "    #Map the red-green color map\n",
    "    red_green_map(real_estate_returns, 5, 3)\n",
    "    \n",
    "    #Add image\n",
    "    img = Image(image_name)\n",
    "    ws.add_image(img, 'H5')\n",
    "    \n",
    "wb = openpyxl.Workbook()\n",
    "ws = wb.active\n",
    "create_real_estate_report(ws, real_estate_returns, \"Images/Real Estate vs. Inflation.png\")\n",
    "wb.save(\"Workbooks/Economic Report.xlsx\")"
   ]
  }
 ],
 "metadata": {
  "kernelspec": {
   "display_name": "Python 3",
   "language": "python",
   "name": "python3"
  },
  "language_info": {
   "codemirror_mode": {
    "name": "ipython",
    "version": 3
   },
   "file_extension": ".py",
   "mimetype": "text/x-python",
   "name": "python",
   "nbconvert_exporter": "python",
   "pygments_lexer": "ipython3",
   "version": "3.6.3"
  }
 },
 "nbformat": 4,
 "nbformat_minor": 2
}
