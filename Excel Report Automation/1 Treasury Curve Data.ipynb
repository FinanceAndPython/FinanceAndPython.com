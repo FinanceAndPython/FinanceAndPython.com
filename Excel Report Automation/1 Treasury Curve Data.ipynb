{
 "cells": [
  {
   "cell_type": "markdown",
   "metadata": {},
   "source": [
    "# Excel Report Automation \n",
    "\n",
    "A common task asked of analysts early on in their career is to keep updating certain excel reports. While important, it can become tedious and boring. This course is meant to teach the skill of automatically writing excel reports to save time.\n",
    "\n",
    "To get started, one needs the to have a Data folder with the relevant data sources (which can be downloaded from the FinanceAndPython.com github repository)."
   ]
  },
  {
   "cell_type": "markdown",
   "metadata": {},
   "source": [
    "## Treasury Curve Data Introduction\n",
    "\n",
    "The treasury curve is a curve of yields that different treasury instruments yield at any point in time. This data has been sourced from FRED and we will use it to create part of our economic dashboard. The first thing we are going to do is actually read in the data and do some simple parsing on it.\n",
    "\n",
    "This lesson is not going to use any excel reporting quite yet, but it is essential to understand this part of the workflow as the data prep is just as important as the actual automation of excel writing, and some might even say more important."
   ]
  },
  {
   "cell_type": "code",
   "execution_count": 1,
   "metadata": {},
   "outputs": [
    {
     "name": "stdout",
     "output_type": "stream",
     "text": [
      "            1 Mo  2 Mo  3 Mo  6 Mo  1 Yr  2 Yr  3 Yr  5 Yr  7 Yr  10 Yr  \\\n",
      "Date                                                                      \n",
      "1990-01-02   NaN   NaN  7.83  7.89  7.81  7.87  7.90  7.87  7.98   7.94   \n",
      "1990-01-03   NaN   NaN  7.89  7.94  7.85  7.94  7.96  7.92  8.04   7.99   \n",
      "1990-01-04   NaN   NaN  7.84  7.90  7.82  7.92  7.93  7.91  8.02   7.98   \n",
      "1990-01-05   NaN   NaN  7.79  7.85  7.79  7.90  7.94  7.92  8.03   7.99   \n",
      "1990-01-08   NaN   NaN  7.79  7.88  7.81  7.90  7.95  7.92  8.05   8.02   \n",
      "...          ...   ...   ...   ...   ...   ...   ...   ...   ...    ...   \n",
      "2020-03-12  0.41  0.33  0.33  0.37  0.39  0.50  0.58  0.66  0.82   0.88   \n",
      "2020-03-13  0.33  0.30  0.28  0.38  0.38  0.49  0.58  0.70  0.89   0.94   \n",
      "2020-03-16  0.25  0.25  0.24  0.29  0.29  0.36  0.43  0.49  0.67   0.73   \n",
      "2020-03-17  0.12  0.18  0.19  0.24  0.30  0.47  0.54  0.66  0.91   1.02   \n",
      "2020-03-18  0.04  0.03  0.02  0.08  0.21  0.54  0.66  0.79  1.08   1.18   \n",
      "\n",
      "            20 Yr  30 Yr  \n",
      "Date                      \n",
      "1990-01-02    NaN   8.00  \n",
      "1990-01-03    NaN   8.04  \n",
      "1990-01-04    NaN   8.04  \n",
      "1990-01-05    NaN   8.06  \n",
      "1990-01-08    NaN   8.09  \n",
      "...           ...    ...  \n",
      "2020-03-12   1.27   1.49  \n",
      "2020-03-13   1.31   1.56  \n",
      "2020-03-16   1.10   1.34  \n",
      "2020-03-17   1.45   1.63  \n",
      "2020-03-18   1.60   1.77  \n",
      "\n",
      "[7559 rows x 12 columns]\n"
     ]
    }
   ],
   "source": [
    "import pandas as pd\n",
    "\n",
    "# Import the data, index column is the first column\n",
    "yield_curve = pd.read_csv(\"Data/Yield Curve.csv\", index_col=0)\n",
    "\n",
    "# Convert the index column to be a datetime object\n",
    "yield_curve.index = pd.to_datetime(yield_curve.index)\n",
    "\n",
    "print(yield_curve)"
   ]
  },
  {
   "cell_type": "markdown",
   "metadata": {},
   "source": [
    "For working with this data, we do not need the 2 month yield and we also want to get rid of any dates which have null values"
   ]
  },
  {
   "cell_type": "code",
   "execution_count": 2,
   "metadata": {},
   "outputs": [
    {
     "name": "stdout",
     "output_type": "stream",
     "text": [
      "            1 Mo  3 Mo  6 Mo  1 Yr  2 Yr  3 Yr  5 Yr  7 Yr  10 Yr  20 Yr  \\\n",
      "Date                                                                       \n",
      "2001-07-31  3.67  3.54  3.47  3.53  3.79  4.06  4.57  4.86   5.07   5.61   \n",
      "2001-08-01  3.65  3.53  3.47  3.56  3.83  4.09  4.62  4.90   5.11   5.63   \n",
      "2001-08-02  3.65  3.53  3.46  3.57  3.89  4.17  4.69  4.97   5.17   5.68   \n",
      "2001-08-03  3.63  3.52  3.47  3.57  3.91  4.22  4.72  4.99   5.20   5.70   \n",
      "2001-08-06  3.62  3.52  3.47  3.56  3.88  4.17  4.71  4.99   5.19   5.70   \n",
      "...          ...   ...   ...   ...   ...   ...   ...   ...    ...    ...   \n",
      "2020-03-12  0.41  0.33  0.37  0.39  0.50  0.58  0.66  0.82   0.88   1.27   \n",
      "2020-03-13  0.33  0.28  0.38  0.38  0.49  0.58  0.70  0.89   0.94   1.31   \n",
      "2020-03-16  0.25  0.24  0.29  0.29  0.36  0.43  0.49  0.67   0.73   1.10   \n",
      "2020-03-17  0.12  0.19  0.24  0.30  0.47  0.54  0.66  0.91   1.02   1.45   \n",
      "2020-03-18  0.04  0.02  0.08  0.21  0.54  0.66  0.79  1.08   1.18   1.60   \n",
      "\n",
      "            30 Yr  \n",
      "Date               \n",
      "2001-07-31   5.51  \n",
      "2001-08-01   5.53  \n",
      "2001-08-02   5.57  \n",
      "2001-08-03   5.59  \n",
      "2001-08-06   5.59  \n",
      "...           ...  \n",
      "2020-03-12   1.49  \n",
      "2020-03-13   1.56  \n",
      "2020-03-16   1.34  \n",
      "2020-03-17   1.63  \n",
      "2020-03-18   1.77  \n",
      "\n",
      "[3662 rows x 11 columns]\n"
     ]
    }
   ],
   "source": [
    "# Get rid of the 2 month rate\n",
    "yield_curve = yield_curve.drop(columns=\"2 Mo\")\n",
    "\n",
    "# Drop any dates that don't have all yields\n",
    "yield_curve = yield_curve.dropna()\n",
    "print(yield_curve)"
   ]
  },
  {
   "cell_type": "markdown",
   "metadata": {},
   "source": [
    "Now that we have some simple data processing done, let's check out the yield curve at a certain date."
   ]
  },
  {
   "cell_type": "code",
   "execution_count": 3,
   "metadata": {},
   "outputs": [
    {
     "name": "stdout",
     "output_type": "stream",
     "text": [
      "1 Mo     2.44\n",
      "3 Mo     2.45\n",
      "6 Mo     2.56\n",
      "1 Yr     2.63\n",
      "2 Yr     2.48\n",
      "3 Yr     2.46\n",
      "5 Yr     2.51\n",
      "7 Yr     2.59\n",
      "10 Yr    2.69\n",
      "20 Yr    2.87\n",
      "30 Yr    3.02\n",
      "Name: 2018-12-31 00:00:00, dtype: float64\n"
     ]
    }
   ],
   "source": [
    "# Inspect a given date's yield curve\n",
    "print(yield_curve.loc[\"2018-12-31\"])"
   ]
  },
  {
   "cell_type": "markdown",
   "metadata": {},
   "source": [
    "For comparing dates, we could start by looking at what the end of 2019 looks like versus the end of 2018. We go through all the different data processing steps below."
   ]
  },
  {
   "cell_type": "code",
   "execution_count": 4,
   "metadata": {},
   "outputs": [
    {
     "name": "stdout",
     "output_type": "stream",
     "text": [
      "            1 Mo  3 Mo  6 Mo  1 Yr  2 Yr  3 Yr  5 Yr  7 Yr  10 Yr  20 Yr  \\\n",
      "Date                                                                       \n",
      "2019-12-31  1.48  1.55  1.60  1.59  1.58  1.62  1.69  1.83   1.92   2.25   \n",
      "2018-12-31  2.44  2.45  2.56  2.63  2.48  2.46  2.51  2.59   2.69   2.87   \n",
      "\n",
      "            30 Yr  \n",
      "Date               \n",
      "2019-12-31   2.39  \n",
      "2018-12-31   3.02  \n"
     ]
    }
   ],
   "source": [
    "# Index into the two dates and copy\n",
    "yield_table = yield_curve.loc[[\"2019-12-31\", \"2018-12-31\"]].copy()\n",
    "print(yield_table)"
   ]
  },
  {
   "cell_type": "code",
   "execution_count": 5,
   "metadata": {},
   "outputs": [
    {
     "name": "stdout",
     "output_type": "stream",
     "text": [
      "Date   2019-12-31  2018-12-31\n",
      "1 Mo         1.48        2.44\n",
      "3 Mo         1.55        2.45\n",
      "6 Mo         1.60        2.56\n",
      "1 Yr         1.59        2.63\n",
      "2 Yr         1.58        2.48\n",
      "3 Yr         1.62        2.46\n",
      "5 Yr         1.69        2.51\n",
      "7 Yr         1.83        2.59\n",
      "10 Yr        1.92        2.69\n",
      "20 Yr        2.25        2.87\n",
      "30 Yr        2.39        3.02\n"
     ]
    }
   ],
   "source": [
    "# Transpose the table\n",
    "yield_table = yield_table.T\n",
    "print(yield_table)"
   ]
  },
  {
   "cell_type": "code",
   "execution_count": 6,
   "metadata": {},
   "outputs": [
    {
     "name": "stdout",
     "output_type": "stream",
     "text": [
      "       Current  1 Year Ago\n",
      "1 Mo      1.48        2.44\n",
      "3 Mo      1.55        2.45\n",
      "6 Mo      1.60        2.56\n",
      "1 Yr      1.59        2.63\n",
      "2 Yr      1.58        2.48\n",
      "3 Yr      1.62        2.46\n",
      "5 Yr      1.69        2.51\n",
      "7 Yr      1.83        2.59\n",
      "10 Yr     1.92        2.69\n",
      "20 Yr     2.25        2.87\n",
      "30 Yr     2.39        3.02\n"
     ]
    }
   ],
   "source": [
    "# Rename the columns\n",
    "yield_table.columns = [\"Current\", \"1 Year Ago\"]\n",
    "print(yield_table)"
   ]
  },
  {
   "cell_type": "code",
   "execution_count": 7,
   "metadata": {},
   "outputs": [
    {
     "name": "stdout",
     "output_type": "stream",
     "text": [
      "       Current  1 Year Ago  Change\n",
      "1 Mo      1.48        2.44   -0.96\n",
      "3 Mo      1.55        2.45   -0.90\n",
      "6 Mo      1.60        2.56   -0.96\n",
      "1 Yr      1.59        2.63   -1.04\n",
      "2 Yr      1.58        2.48   -0.90\n",
      "3 Yr      1.62        2.46   -0.84\n",
      "5 Yr      1.69        2.51   -0.82\n",
      "7 Yr      1.83        2.59   -0.76\n",
      "10 Yr     1.92        2.69   -0.77\n",
      "20 Yr     2.25        2.87   -0.62\n",
      "30 Yr     2.39        3.02   -0.63\n"
     ]
    }
   ],
   "source": [
    "# Add in a column for the change in the rate\n",
    "yield_table[\"Change\"] = yield_table[\"Current\"] -  yield_table[\"1 Year Ago\"]\n",
    "print(yield_table)"
   ]
  },
  {
   "cell_type": "markdown",
   "metadata": {},
   "source": [
    "## Handling Dates\n",
    "\n",
    "There are a few date aspects to take care of with the data going forward. One nice property of datetimes is we can replace a component such as the year. This will not make the change in place, however."
   ]
  },
  {
   "cell_type": "code",
   "execution_count": 8,
   "metadata": {},
   "outputs": [
    {
     "name": "stdout",
     "output_type": "stream",
     "text": [
      "2019-12-31 00:00:00\n",
      "2018-12-31 00:00:00\n",
      "2019\n"
     ]
    }
   ],
   "source": [
    "from datetime import datetime\n",
    "\n",
    "# Create an example date\n",
    "test = datetime(2019,12,31)\n",
    "print(test)\n",
    "\n",
    "# Replace the year with 2018\n",
    "print(test.replace(year=2018))\n",
    "\n",
    "# But it will not change the element, it will actually return it so the variable test stays the same\n",
    "print(test.year)"
   ]
  },
  {
   "cell_type": "markdown",
   "metadata": {},
   "source": [
    "Below is an example of how we can have a first date, then also have the date for the year before."
   ]
  },
  {
   "cell_type": "code",
   "execution_count": 9,
   "metadata": {},
   "outputs": [
    {
     "name": "stdout",
     "output_type": "stream",
     "text": [
      "1 Mo     1.48\n",
      "3 Mo     1.55\n",
      "6 Mo     1.60\n",
      "1 Yr     1.59\n",
      "2 Yr     1.58\n",
      "3 Yr     1.62\n",
      "5 Yr     1.69\n",
      "7 Yr     1.83\n",
      "10 Yr    1.92\n",
      "20 Yr    2.25\n",
      "30 Yr    2.39\n",
      "Name: 2019-12-31 00:00:00, dtype: float64\n",
      "\n",
      "\n",
      "1 Mo     2.44\n",
      "3 Mo     2.45\n",
      "6 Mo     2.56\n",
      "1 Yr     2.63\n",
      "2 Yr     2.48\n",
      "3 Yr     2.46\n",
      "5 Yr     2.51\n",
      "7 Yr     2.59\n",
      "10 Yr    2.69\n",
      "20 Yr    2.87\n",
      "30 Yr    3.02\n",
      "Name: 2018-12-31 00:00:00, dtype: float64\n"
     ]
    }
   ],
   "source": [
    "# Create the first date\n",
    "date1 = datetime(2019, 12, 31)\n",
    "\n",
    "# Find the date for the year prior\n",
    "date2 = date1.replace(year=date1.year-1)\n",
    "\n",
    "# Print the yield curves at the date\n",
    "print(yield_curve.loc[date1])\n",
    "print()\n",
    "print()\n",
    "print(yield_curve.loc[date2])"
   ]
  },
  {
   "cell_type": "markdown",
   "metadata": {},
   "source": [
    "One issue when working with data that is based on trading schedules is that we can run into an issue where a date we need is missing. For example, if we take the year prior version of a date, there is a chance that it could have been on a weekend the year before."
   ]
  },
  {
   "cell_type": "code",
   "execution_count": 10,
   "metadata": {
    "scrolled": false
   },
   "outputs": [
    {
     "name": "stdout",
     "output_type": "stream",
     "text": [
      "1 Mo     1.51\n",
      "3 Mo     1.57\n",
      "6 Mo     1.60\n",
      "1 Yr     1.57\n",
      "2 Yr     1.58\n",
      "3 Yr     1.59\n",
      "5 Yr     1.68\n",
      "7 Yr     1.81\n",
      "10 Yr    1.90\n",
      "20 Yr    2.21\n",
      "30 Yr    2.34\n",
      "Name: 2019-12-30 00:00:00, dtype: float64\n",
      "\n",
      "\n"
     ]
    },
    {
     "ename": "KeyError",
     "evalue": "datetime.datetime(2018, 12, 30, 0, 0)",
     "output_type": "error",
     "traceback": [
      "\u001b[0;31m---------------------------------------------------------------------------\u001b[0m",
      "\u001b[0;31mKeyError\u001b[0m                                  Traceback (most recent call last)",
      "\u001b[0;32m~/opt/anaconda3/envs/FinanceAndPython/lib/python3.9/site-packages/pandas/_libs/index.pyx\u001b[0m in \u001b[0;36mpandas._libs.index.DatetimeEngine.get_loc\u001b[0;34m()\u001b[0m\n",
      "\u001b[0;32mpandas/_libs/hashtable_class_helper.pxi\u001b[0m in \u001b[0;36mpandas._libs.hashtable.Int64HashTable.get_item\u001b[0;34m()\u001b[0m\n",
      "\u001b[0;32mpandas/_libs/hashtable_class_helper.pxi\u001b[0m in \u001b[0;36mpandas._libs.hashtable.Int64HashTable.get_item\u001b[0;34m()\u001b[0m\n",
      "\u001b[0;31mKeyError\u001b[0m: 1546128000000000000",
      "\nDuring handling of the above exception, another exception occurred:\n",
      "\u001b[0;31mKeyError\u001b[0m                                  Traceback (most recent call last)",
      "\u001b[0;32m~/opt/anaconda3/envs/FinanceAndPython/lib/python3.9/site-packages/pandas/core/indexes/base.py\u001b[0m in \u001b[0;36mget_loc\u001b[0;34m(self, key, method, tolerance)\u001b[0m\n\u001b[1;32m   3620\u001b[0m             \u001b[0;32mtry\u001b[0m\u001b[0;34m:\u001b[0m\u001b[0;34m\u001b[0m\u001b[0;34m\u001b[0m\u001b[0m\n\u001b[0;32m-> 3621\u001b[0;31m                 \u001b[0;32mreturn\u001b[0m \u001b[0mself\u001b[0m\u001b[0;34m.\u001b[0m\u001b[0m_engine\u001b[0m\u001b[0;34m.\u001b[0m\u001b[0mget_loc\u001b[0m\u001b[0;34m(\u001b[0m\u001b[0mcasted_key\u001b[0m\u001b[0;34m)\u001b[0m\u001b[0;34m\u001b[0m\u001b[0;34m\u001b[0m\u001b[0m\n\u001b[0m\u001b[1;32m   3622\u001b[0m             \u001b[0;32mexcept\u001b[0m \u001b[0mKeyError\u001b[0m \u001b[0;32mas\u001b[0m \u001b[0merr\u001b[0m\u001b[0;34m:\u001b[0m\u001b[0;34m\u001b[0m\u001b[0;34m\u001b[0m\u001b[0m\n",
      "\u001b[0;32m~/opt/anaconda3/envs/FinanceAndPython/lib/python3.9/site-packages/pandas/_libs/index.pyx\u001b[0m in \u001b[0;36mpandas._libs.index.DatetimeEngine.get_loc\u001b[0;34m()\u001b[0m\n",
      "\u001b[0;32m~/opt/anaconda3/envs/FinanceAndPython/lib/python3.9/site-packages/pandas/_libs/index.pyx\u001b[0m in \u001b[0;36mpandas._libs.index.DatetimeEngine.get_loc\u001b[0;34m()\u001b[0m\n",
      "\u001b[0;31mKeyError\u001b[0m: Timestamp('2018-12-30 00:00:00')",
      "\nThe above exception was the direct cause of the following exception:\n",
      "\u001b[0;31mKeyError\u001b[0m                                  Traceback (most recent call last)",
      "\u001b[0;32m~/opt/anaconda3/envs/FinanceAndPython/lib/python3.9/site-packages/pandas/core/indexes/datetimes.py\u001b[0m in \u001b[0;36mget_loc\u001b[0;34m(self, key, method, tolerance)\u001b[0m\n\u001b[1;32m    678\u001b[0m         \u001b[0;32mtry\u001b[0m\u001b[0;34m:\u001b[0m\u001b[0;34m\u001b[0m\u001b[0;34m\u001b[0m\u001b[0m\n\u001b[0;32m--> 679\u001b[0;31m             \u001b[0;32mreturn\u001b[0m \u001b[0mIndex\u001b[0m\u001b[0;34m.\u001b[0m\u001b[0mget_loc\u001b[0m\u001b[0;34m(\u001b[0m\u001b[0mself\u001b[0m\u001b[0;34m,\u001b[0m \u001b[0mkey\u001b[0m\u001b[0;34m,\u001b[0m \u001b[0mmethod\u001b[0m\u001b[0;34m,\u001b[0m \u001b[0mtolerance\u001b[0m\u001b[0;34m)\u001b[0m\u001b[0;34m\u001b[0m\u001b[0;34m\u001b[0m\u001b[0m\n\u001b[0m\u001b[1;32m    680\u001b[0m         \u001b[0;32mexcept\u001b[0m \u001b[0mKeyError\u001b[0m \u001b[0;32mas\u001b[0m \u001b[0merr\u001b[0m\u001b[0;34m:\u001b[0m\u001b[0;34m\u001b[0m\u001b[0;34m\u001b[0m\u001b[0m\n",
      "\u001b[0;32m~/opt/anaconda3/envs/FinanceAndPython/lib/python3.9/site-packages/pandas/core/indexes/base.py\u001b[0m in \u001b[0;36mget_loc\u001b[0;34m(self, key, method, tolerance)\u001b[0m\n\u001b[1;32m   3622\u001b[0m             \u001b[0;32mexcept\u001b[0m \u001b[0mKeyError\u001b[0m \u001b[0;32mas\u001b[0m \u001b[0merr\u001b[0m\u001b[0;34m:\u001b[0m\u001b[0;34m\u001b[0m\u001b[0;34m\u001b[0m\u001b[0m\n\u001b[0;32m-> 3623\u001b[0;31m                 \u001b[0;32mraise\u001b[0m \u001b[0mKeyError\u001b[0m\u001b[0;34m(\u001b[0m\u001b[0mkey\u001b[0m\u001b[0;34m)\u001b[0m \u001b[0;32mfrom\u001b[0m \u001b[0merr\u001b[0m\u001b[0;34m\u001b[0m\u001b[0;34m\u001b[0m\u001b[0m\n\u001b[0m\u001b[1;32m   3624\u001b[0m             \u001b[0;32mexcept\u001b[0m \u001b[0mTypeError\u001b[0m\u001b[0;34m:\u001b[0m\u001b[0;34m\u001b[0m\u001b[0;34m\u001b[0m\u001b[0m\n",
      "\u001b[0;31mKeyError\u001b[0m: Timestamp('2018-12-30 00:00:00')",
      "\nThe above exception was the direct cause of the following exception:\n",
      "\u001b[0;31mKeyError\u001b[0m                                  Traceback (most recent call last)",
      "\u001b[0;32m/var/folders/y0/fwkpk2ps087b_2qxvhjstrfr0000gn/T/ipykernel_78142/4089274187.py\u001b[0m in \u001b[0;36m<module>\u001b[0;34m\u001b[0m\n\u001b[1;32m     10\u001b[0m \u001b[0mprint\u001b[0m\u001b[0;34m(\u001b[0m\u001b[0;34m)\u001b[0m\u001b[0;34m\u001b[0m\u001b[0;34m\u001b[0m\u001b[0m\n\u001b[1;32m     11\u001b[0m \u001b[0mprint\u001b[0m\u001b[0;34m(\u001b[0m\u001b[0;34m)\u001b[0m\u001b[0;34m\u001b[0m\u001b[0;34m\u001b[0m\u001b[0m\n\u001b[0;32m---> 12\u001b[0;31m \u001b[0mprint\u001b[0m\u001b[0;34m(\u001b[0m\u001b[0myield_curve\u001b[0m\u001b[0;34m.\u001b[0m\u001b[0mloc\u001b[0m\u001b[0;34m[\u001b[0m\u001b[0mdate2\u001b[0m\u001b[0;34m]\u001b[0m\u001b[0;34m)\u001b[0m\u001b[0;34m\u001b[0m\u001b[0;34m\u001b[0m\u001b[0m\n\u001b[0m\u001b[1;32m     13\u001b[0m \u001b[0;34m\u001b[0m\u001b[0m\n",
      "\u001b[0;32m~/opt/anaconda3/envs/FinanceAndPython/lib/python3.9/site-packages/pandas/core/indexing.py\u001b[0m in \u001b[0;36m__getitem__\u001b[0;34m(self, key)\u001b[0m\n\u001b[1;32m    965\u001b[0m \u001b[0;34m\u001b[0m\u001b[0m\n\u001b[1;32m    966\u001b[0m             \u001b[0mmaybe_callable\u001b[0m \u001b[0;34m=\u001b[0m \u001b[0mcom\u001b[0m\u001b[0;34m.\u001b[0m\u001b[0mapply_if_callable\u001b[0m\u001b[0;34m(\u001b[0m\u001b[0mkey\u001b[0m\u001b[0;34m,\u001b[0m \u001b[0mself\u001b[0m\u001b[0;34m.\u001b[0m\u001b[0mobj\u001b[0m\u001b[0;34m)\u001b[0m\u001b[0;34m\u001b[0m\u001b[0;34m\u001b[0m\u001b[0m\n\u001b[0;32m--> 967\u001b[0;31m             \u001b[0;32mreturn\u001b[0m \u001b[0mself\u001b[0m\u001b[0;34m.\u001b[0m\u001b[0m_getitem_axis\u001b[0m\u001b[0;34m(\u001b[0m\u001b[0mmaybe_callable\u001b[0m\u001b[0;34m,\u001b[0m \u001b[0maxis\u001b[0m\u001b[0;34m=\u001b[0m\u001b[0maxis\u001b[0m\u001b[0;34m)\u001b[0m\u001b[0;34m\u001b[0m\u001b[0;34m\u001b[0m\u001b[0m\n\u001b[0m\u001b[1;32m    968\u001b[0m \u001b[0;34m\u001b[0m\u001b[0m\n\u001b[1;32m    969\u001b[0m     \u001b[0;32mdef\u001b[0m \u001b[0m_is_scalar_access\u001b[0m\u001b[0;34m(\u001b[0m\u001b[0mself\u001b[0m\u001b[0;34m,\u001b[0m \u001b[0mkey\u001b[0m\u001b[0;34m:\u001b[0m \u001b[0mtuple\u001b[0m\u001b[0;34m)\u001b[0m\u001b[0;34m:\u001b[0m\u001b[0;34m\u001b[0m\u001b[0;34m\u001b[0m\u001b[0m\n",
      "\u001b[0;32m~/opt/anaconda3/envs/FinanceAndPython/lib/python3.9/site-packages/pandas/core/indexing.py\u001b[0m in \u001b[0;36m_getitem_axis\u001b[0;34m(self, key, axis)\u001b[0m\n\u001b[1;32m   1200\u001b[0m         \u001b[0;31m# fall thru to straight lookup\u001b[0m\u001b[0;34m\u001b[0m\u001b[0;34m\u001b[0m\u001b[0m\n\u001b[1;32m   1201\u001b[0m         \u001b[0mself\u001b[0m\u001b[0;34m.\u001b[0m\u001b[0m_validate_key\u001b[0m\u001b[0;34m(\u001b[0m\u001b[0mkey\u001b[0m\u001b[0;34m,\u001b[0m \u001b[0maxis\u001b[0m\u001b[0;34m)\u001b[0m\u001b[0;34m\u001b[0m\u001b[0;34m\u001b[0m\u001b[0m\n\u001b[0;32m-> 1202\u001b[0;31m         \u001b[0;32mreturn\u001b[0m \u001b[0mself\u001b[0m\u001b[0;34m.\u001b[0m\u001b[0m_get_label\u001b[0m\u001b[0;34m(\u001b[0m\u001b[0mkey\u001b[0m\u001b[0;34m,\u001b[0m \u001b[0maxis\u001b[0m\u001b[0;34m=\u001b[0m\u001b[0maxis\u001b[0m\u001b[0;34m)\u001b[0m\u001b[0;34m\u001b[0m\u001b[0;34m\u001b[0m\u001b[0m\n\u001b[0m\u001b[1;32m   1203\u001b[0m \u001b[0;34m\u001b[0m\u001b[0m\n\u001b[1;32m   1204\u001b[0m     \u001b[0;32mdef\u001b[0m \u001b[0m_get_slice_axis\u001b[0m\u001b[0;34m(\u001b[0m\u001b[0mself\u001b[0m\u001b[0;34m,\u001b[0m \u001b[0mslice_obj\u001b[0m\u001b[0;34m:\u001b[0m \u001b[0mslice\u001b[0m\u001b[0;34m,\u001b[0m \u001b[0maxis\u001b[0m\u001b[0;34m:\u001b[0m \u001b[0mint\u001b[0m\u001b[0;34m)\u001b[0m\u001b[0;34m:\u001b[0m\u001b[0;34m\u001b[0m\u001b[0;34m\u001b[0m\u001b[0m\n",
      "\u001b[0;32m~/opt/anaconda3/envs/FinanceAndPython/lib/python3.9/site-packages/pandas/core/indexing.py\u001b[0m in \u001b[0;36m_get_label\u001b[0;34m(self, label, axis)\u001b[0m\n\u001b[1;32m   1151\u001b[0m     \u001b[0;32mdef\u001b[0m \u001b[0m_get_label\u001b[0m\u001b[0;34m(\u001b[0m\u001b[0mself\u001b[0m\u001b[0;34m,\u001b[0m \u001b[0mlabel\u001b[0m\u001b[0;34m,\u001b[0m \u001b[0maxis\u001b[0m\u001b[0;34m:\u001b[0m \u001b[0mint\u001b[0m\u001b[0;34m)\u001b[0m\u001b[0;34m:\u001b[0m\u001b[0;34m\u001b[0m\u001b[0;34m\u001b[0m\u001b[0m\n\u001b[1;32m   1152\u001b[0m         \u001b[0;31m# GH#5667 this will fail if the label is not present in the axis.\u001b[0m\u001b[0;34m\u001b[0m\u001b[0;34m\u001b[0m\u001b[0m\n\u001b[0;32m-> 1153\u001b[0;31m         \u001b[0;32mreturn\u001b[0m \u001b[0mself\u001b[0m\u001b[0;34m.\u001b[0m\u001b[0mobj\u001b[0m\u001b[0;34m.\u001b[0m\u001b[0mxs\u001b[0m\u001b[0;34m(\u001b[0m\u001b[0mlabel\u001b[0m\u001b[0;34m,\u001b[0m \u001b[0maxis\u001b[0m\u001b[0;34m=\u001b[0m\u001b[0maxis\u001b[0m\u001b[0;34m)\u001b[0m\u001b[0;34m\u001b[0m\u001b[0;34m\u001b[0m\u001b[0m\n\u001b[0m\u001b[1;32m   1154\u001b[0m \u001b[0;34m\u001b[0m\u001b[0m\n\u001b[1;32m   1155\u001b[0m     \u001b[0;32mdef\u001b[0m \u001b[0m_handle_lowerdim_multi_index_axis0\u001b[0m\u001b[0;34m(\u001b[0m\u001b[0mself\u001b[0m\u001b[0;34m,\u001b[0m \u001b[0mtup\u001b[0m\u001b[0;34m:\u001b[0m \u001b[0mtuple\u001b[0m\u001b[0;34m)\u001b[0m\u001b[0;34m:\u001b[0m\u001b[0;34m\u001b[0m\u001b[0;34m\u001b[0m\u001b[0m\n",
      "\u001b[0;32m~/opt/anaconda3/envs/FinanceAndPython/lib/python3.9/site-packages/pandas/core/generic.py\u001b[0m in \u001b[0;36mxs\u001b[0;34m(self, key, axis, level, drop_level)\u001b[0m\n\u001b[1;32m   3874\u001b[0m                     \u001b[0mnew_index\u001b[0m \u001b[0;34m=\u001b[0m \u001b[0mindex\u001b[0m\u001b[0;34m[\u001b[0m\u001b[0mloc\u001b[0m\u001b[0;34m]\u001b[0m\u001b[0;34m\u001b[0m\u001b[0;34m\u001b[0m\u001b[0m\n\u001b[1;32m   3875\u001b[0m         \u001b[0;32melse\u001b[0m\u001b[0;34m:\u001b[0m\u001b[0;34m\u001b[0m\u001b[0;34m\u001b[0m\u001b[0m\n\u001b[0;32m-> 3876\u001b[0;31m             \u001b[0mloc\u001b[0m \u001b[0;34m=\u001b[0m \u001b[0mindex\u001b[0m\u001b[0;34m.\u001b[0m\u001b[0mget_loc\u001b[0m\u001b[0;34m(\u001b[0m\u001b[0mkey\u001b[0m\u001b[0;34m)\u001b[0m\u001b[0;34m\u001b[0m\u001b[0;34m\u001b[0m\u001b[0m\n\u001b[0m\u001b[1;32m   3877\u001b[0m \u001b[0;34m\u001b[0m\u001b[0m\n\u001b[1;32m   3878\u001b[0m             \u001b[0;32mif\u001b[0m \u001b[0misinstance\u001b[0m\u001b[0;34m(\u001b[0m\u001b[0mloc\u001b[0m\u001b[0;34m,\u001b[0m \u001b[0mnp\u001b[0m\u001b[0;34m.\u001b[0m\u001b[0mndarray\u001b[0m\u001b[0;34m)\u001b[0m\u001b[0;34m:\u001b[0m\u001b[0;34m\u001b[0m\u001b[0;34m\u001b[0m\u001b[0m\n",
      "\u001b[0;32m~/opt/anaconda3/envs/FinanceAndPython/lib/python3.9/site-packages/pandas/core/indexes/datetimes.py\u001b[0m in \u001b[0;36mget_loc\u001b[0;34m(self, key, method, tolerance)\u001b[0m\n\u001b[1;32m    679\u001b[0m             \u001b[0;32mreturn\u001b[0m \u001b[0mIndex\u001b[0m\u001b[0;34m.\u001b[0m\u001b[0mget_loc\u001b[0m\u001b[0;34m(\u001b[0m\u001b[0mself\u001b[0m\u001b[0;34m,\u001b[0m \u001b[0mkey\u001b[0m\u001b[0;34m,\u001b[0m \u001b[0mmethod\u001b[0m\u001b[0;34m,\u001b[0m \u001b[0mtolerance\u001b[0m\u001b[0;34m)\u001b[0m\u001b[0;34m\u001b[0m\u001b[0;34m\u001b[0m\u001b[0m\n\u001b[1;32m    680\u001b[0m         \u001b[0;32mexcept\u001b[0m \u001b[0mKeyError\u001b[0m \u001b[0;32mas\u001b[0m \u001b[0merr\u001b[0m\u001b[0;34m:\u001b[0m\u001b[0;34m\u001b[0m\u001b[0;34m\u001b[0m\u001b[0m\n\u001b[0;32m--> 681\u001b[0;31m             \u001b[0;32mraise\u001b[0m \u001b[0mKeyError\u001b[0m\u001b[0;34m(\u001b[0m\u001b[0morig_key\u001b[0m\u001b[0;34m)\u001b[0m \u001b[0;32mfrom\u001b[0m \u001b[0merr\u001b[0m\u001b[0;34m\u001b[0m\u001b[0;34m\u001b[0m\u001b[0m\n\u001b[0m\u001b[1;32m    682\u001b[0m \u001b[0;34m\u001b[0m\u001b[0m\n\u001b[1;32m    683\u001b[0m     \u001b[0;32mdef\u001b[0m \u001b[0m_maybe_cast_for_get_loc\u001b[0m\u001b[0;34m(\u001b[0m\u001b[0mself\u001b[0m\u001b[0;34m,\u001b[0m \u001b[0mkey\u001b[0m\u001b[0;34m)\u001b[0m \u001b[0;34m->\u001b[0m \u001b[0mTimestamp\u001b[0m\u001b[0;34m:\u001b[0m\u001b[0;34m\u001b[0m\u001b[0;34m\u001b[0m\u001b[0m\n",
      "\u001b[0;31mKeyError\u001b[0m: datetime.datetime(2018, 12, 30, 0, 0)"
     ]
    }
   ],
   "source": [
    "# Below is an example of how an error could be thrown\n",
    "\n",
    "# Create the first date\n",
    "date1 = datetime(2019, 12, 30)\n",
    "\n",
    "# Find the date for the year prior\n",
    "date2 = date1.replace(year=date1.year-1)\n",
    "\n",
    "print(yield_curve.loc[date1])\n",
    "print()\n",
    "print()\n",
    "print(yield_curve.loc[date2])\n",
    "\n"
   ]
  },
  {
   "cell_type": "markdown",
   "metadata": {},
   "source": [
    "The way that we will approach this issue is the following:\n",
    "\n",
    "1. Create a daily date range between the minimum and maximum of the yield curve dates\n",
    "2. Reindex the yield curve data with the new range\n",
    "3. Fill in the null values\n",
    "\n",
    "For the first step, we use pd.date_range which will return the daily dates between a start and end date"
   ]
  },
  {
   "cell_type": "code",
   "execution_count": 11,
   "metadata": {},
   "outputs": [
    {
     "name": "stdout",
     "output_type": "stream",
     "text": [
      "DatetimeIndex(['2001-07-31', '2001-08-01', '2001-08-02', '2001-08-03',\n",
      "               '2001-08-04', '2001-08-05', '2001-08-06', '2001-08-07',\n",
      "               '2001-08-08', '2001-08-09',\n",
      "               ...\n",
      "               '2020-03-09', '2020-03-10', '2020-03-11', '2020-03-12',\n",
      "               '2020-03-13', '2020-03-14', '2020-03-15', '2020-03-16',\n",
      "               '2020-03-17', '2020-03-18'],\n",
      "              dtype='datetime64[ns]', length=6806, freq='D')\n"
     ]
    }
   ],
   "source": [
    "# Find the start and end of the yield_curve dates\n",
    "date1 = yield_curve.index.min()\n",
    "date2 = yield_curve.index.max()\n",
    "\n",
    "date_range = pd.date_range(date1, date2)\n",
    "print(date_range)"
   ]
  },
  {
   "cell_type": "markdown",
   "metadata": {},
   "source": [
    "For the second step, we use reindex for the yield_curve and this will change the index to be what we pass in. If there are not values present for a certain index, they get filled in with null."
   ]
  },
  {
   "cell_type": "code",
   "execution_count": 12,
   "metadata": {},
   "outputs": [
    {
     "name": "stdout",
     "output_type": "stream",
     "text": [
      "            1 Mo  3 Mo  6 Mo  1 Yr  2 Yr  3 Yr  5 Yr  7 Yr  10 Yr  20 Yr  \\\n",
      "2001-07-31  3.67  3.54  3.47  3.53  3.79  4.06  4.57  4.86   5.07   5.61   \n",
      "2001-08-01  3.65  3.53  3.47  3.56  3.83  4.09  4.62  4.90   5.11   5.63   \n",
      "2001-08-02  3.65  3.53  3.46  3.57  3.89  4.17  4.69  4.97   5.17   5.68   \n",
      "2001-08-03  3.63  3.52  3.47  3.57  3.91  4.22  4.72  4.99   5.20   5.70   \n",
      "2001-08-04   NaN   NaN   NaN   NaN   NaN   NaN   NaN   NaN    NaN    NaN   \n",
      "...          ...   ...   ...   ...   ...   ...   ...   ...    ...    ...   \n",
      "2020-03-14   NaN   NaN   NaN   NaN   NaN   NaN   NaN   NaN    NaN    NaN   \n",
      "2020-03-15   NaN   NaN   NaN   NaN   NaN   NaN   NaN   NaN    NaN    NaN   \n",
      "2020-03-16  0.25  0.24  0.29  0.29  0.36  0.43  0.49  0.67   0.73   1.10   \n",
      "2020-03-17  0.12  0.19  0.24  0.30  0.47  0.54  0.66  0.91   1.02   1.45   \n",
      "2020-03-18  0.04  0.02  0.08  0.21  0.54  0.66  0.79  1.08   1.18   1.60   \n",
      "\n",
      "            30 Yr  \n",
      "2001-07-31   5.51  \n",
      "2001-08-01   5.53  \n",
      "2001-08-02   5.57  \n",
      "2001-08-03   5.59  \n",
      "2001-08-04    NaN  \n",
      "...           ...  \n",
      "2020-03-14    NaN  \n",
      "2020-03-15    NaN  \n",
      "2020-03-16   1.34  \n",
      "2020-03-17   1.63  \n",
      "2020-03-18   1.77  \n",
      "\n",
      "[6806 rows x 11 columns]\n"
     ]
    }
   ],
   "source": [
    "# Re-index the yield curve\n",
    "yield_curve = yield_curve.reindex(index = date_range)\n",
    "print(yield_curve)"
   ]
  },
  {
   "cell_type": "markdown",
   "metadata": {},
   "source": [
    "To fill in the null values, we are going to employ the fillna function and pass it the method of ffill which means to fill values forward. This will mean that the values of yesterday will be pushed forward to fill in dates with null values."
   ]
  },
  {
   "cell_type": "code",
   "execution_count": 13,
   "metadata": {},
   "outputs": [
    {
     "name": "stdout",
     "output_type": "stream",
     "text": [
      "            1 Mo  3 Mo  6 Mo  1 Yr  2 Yr  3 Yr  5 Yr  7 Yr  10 Yr  20 Yr  \\\n",
      "2001-07-31  3.67  3.54  3.47  3.53  3.79  4.06  4.57  4.86   5.07   5.61   \n",
      "2001-08-01  3.65  3.53  3.47  3.56  3.83  4.09  4.62  4.90   5.11   5.63   \n",
      "2001-08-02  3.65  3.53  3.46  3.57  3.89  4.17  4.69  4.97   5.17   5.68   \n",
      "2001-08-03  3.63  3.52  3.47  3.57  3.91  4.22  4.72  4.99   5.20   5.70   \n",
      "2001-08-04  3.63  3.52  3.47  3.57  3.91  4.22  4.72  4.99   5.20   5.70   \n",
      "...          ...   ...   ...   ...   ...   ...   ...   ...    ...    ...   \n",
      "2020-03-14  0.33  0.28  0.38  0.38  0.49  0.58  0.70  0.89   0.94   1.31   \n",
      "2020-03-15  0.33  0.28  0.38  0.38  0.49  0.58  0.70  0.89   0.94   1.31   \n",
      "2020-03-16  0.25  0.24  0.29  0.29  0.36  0.43  0.49  0.67   0.73   1.10   \n",
      "2020-03-17  0.12  0.19  0.24  0.30  0.47  0.54  0.66  0.91   1.02   1.45   \n",
      "2020-03-18  0.04  0.02  0.08  0.21  0.54  0.66  0.79  1.08   1.18   1.60   \n",
      "\n",
      "            30 Yr  \n",
      "2001-07-31   5.51  \n",
      "2001-08-01   5.53  \n",
      "2001-08-02   5.57  \n",
      "2001-08-03   5.59  \n",
      "2001-08-04   5.59  \n",
      "...           ...  \n",
      "2020-03-14   1.56  \n",
      "2020-03-15   1.56  \n",
      "2020-03-16   1.34  \n",
      "2020-03-17   1.63  \n",
      "2020-03-18   1.77  \n",
      "\n",
      "[6806 rows x 11 columns]\n"
     ]
    }
   ],
   "source": [
    "# Fill null values\n",
    "yield_curve = yield_curve.fillna(method='ffill')\n",
    "print(yield_curve)"
   ]
  },
  {
   "cell_type": "markdown",
   "metadata": {},
   "source": [
    "## Yield Table Creation\n",
    "\n",
    "What we want to do now is create a function which will take a given date and build a table which has the current date's yield curve, the yield curve from 1 year ago from that date, and the yield curve from 5 years ago. We also want to grab the change in rates over the two periods."
   ]
  },
  {
   "cell_type": "code",
   "execution_count": 14,
   "metadata": {},
   "outputs": [
    {
     "name": "stdout",
     "output_type": "stream",
     "text": [
      "       Current  1 Year Ago Curve  5 Years Ago Curve  1 Year Change  \\\n",
      "1 Mo      1.48              2.44               0.03          -0.96   \n",
      "3 Mo      1.55              2.45               0.04          -0.90   \n",
      "6 Mo      1.60              2.56               0.12          -0.96   \n",
      "1 Yr      1.59              2.63               0.25          -1.04   \n",
      "2 Yr      1.58              2.48               0.67          -0.90   \n",
      "3 Yr      1.62              2.46               1.10          -0.84   \n",
      "5 Yr      1.69              2.51               1.65          -0.82   \n",
      "7 Yr      1.83              2.59               1.97          -0.76   \n",
      "10 Yr     1.92              2.69               2.17          -0.77   \n",
      "20 Yr     2.25              2.87               2.47          -0.62   \n",
      "30 Yr     2.39              3.02               2.75          -0.63   \n",
      "\n",
      "       5 Year Change  \n",
      "1 Mo            1.45  \n",
      "3 Mo            1.51  \n",
      "6 Mo            1.48  \n",
      "1 Yr            1.34  \n",
      "2 Yr            0.91  \n",
      "3 Yr            0.52  \n",
      "5 Yr            0.04  \n",
      "7 Yr           -0.14  \n",
      "10 Yr          -0.25  \n",
      "20 Yr          -0.22  \n",
      "30 Yr          -0.36  \n"
     ]
    }
   ],
   "source": [
    "from pandas import DataFrame\n",
    "\n",
    "# Write and test the function\n",
    "\n",
    "def create_yield_table(data: DataFrame, date: datetime) -> DataFrame:\n",
    "    \"\"\"\n",
    "    Function to build a yield table object\n",
    "\n",
    "    Parameters\n",
    "    ----------\n",
    "    data : DataFrame\n",
    "        Yield curve data to be used\n",
    "    date : datetime\n",
    "        The date to use for the current date\n",
    "\n",
    "    Yields\n",
    "    ------\n",
    "    DataFrame\n",
    "        A yield table\n",
    "\n",
    "    \"\"\"\n",
    "    # Find the other two dates\n",
    "    date2 = date.replace(year=date.year-1)\n",
    "    date3 = date.replace(year=date.year-5)\n",
    "\n",
    "    # Index into the three dates and copy\n",
    "    table = yield_curve.loc[[date, date2, date3]].copy()\n",
    "\n",
    "    # Transpose\n",
    "    table = table.T\n",
    "\n",
    "    # Rename the columns\n",
    "    table.columns = [\"Current\", \"1 Year Ago Curve\", \"5 Years Ago Curve\"]\n",
    "\n",
    "    # Get the changes in the yield curve\n",
    "    table[\"1 Year Change\"] = table[\"Current\"] - table[\"1 Year Ago Curve\"]\n",
    "    table[\"5 Year Change\"] = table[\"Current\"] - table[\"5 Years Ago Curve\"]\n",
    "\n",
    "    return table\n",
    "\n",
    "yield_table = create_yield_table(yield_curve, datetime(2019,12,31))\n",
    "print(yield_table)"
   ]
  },
  {
   "cell_type": "markdown",
   "metadata": {},
   "source": [
    "### Re-indexing Columns\n",
    "\n",
    "We used re-indexing before when we wanted to change the dates used in our data to include weekends. It is also possible to sue re-indexing on columns to change the order or add in columns not there. Below is an example of how we could re-organize the columns so that the change in the curves columns are next to their respective curve columns (i.e. 1 Year Change is next to 1 Year Ago Curve).\n",
    "\n",
    "All that needs to be changed is to give an argument of columns followed by the re-index columns."
   ]
  },
  {
   "cell_type": "code",
   "execution_count": 15,
   "metadata": {},
   "outputs": [
    {
     "name": "stdout",
     "output_type": "stream",
     "text": [
      "       Current  1 Year Ago Curve  1 Year Change  5 Years Ago Curve  \\\n",
      "1 Mo      1.48              2.44          -0.96               0.03   \n",
      "3 Mo      1.55              2.45          -0.90               0.04   \n",
      "6 Mo      1.60              2.56          -0.96               0.12   \n",
      "1 Yr      1.59              2.63          -1.04               0.25   \n",
      "2 Yr      1.58              2.48          -0.90               0.67   \n",
      "3 Yr      1.62              2.46          -0.84               1.10   \n",
      "5 Yr      1.69              2.51          -0.82               1.65   \n",
      "7 Yr      1.83              2.59          -0.76               1.97   \n",
      "10 Yr     1.92              2.69          -0.77               2.17   \n",
      "20 Yr     2.25              2.87          -0.62               2.47   \n",
      "30 Yr     2.39              3.02          -0.63               2.75   \n",
      "\n",
      "       5 Year Change  \n",
      "1 Mo            1.45  \n",
      "3 Mo            1.51  \n",
      "6 Mo            1.48  \n",
      "1 Yr            1.34  \n",
      "2 Yr            0.91  \n",
      "3 Yr            0.52  \n",
      "5 Yr            0.04  \n",
      "7 Yr           -0.14  \n",
      "10 Yr          -0.25  \n",
      "20 Yr          -0.22  \n",
      "30 Yr          -0.36  \n"
     ]
    }
   ],
   "source": [
    "# Here you see how re-indexing can be done with columns\n",
    "print(yield_table.reindex(columns=['Current', '1 Year Ago Curve','1 Year Change', '5 Years Ago Curve','5 Year Change']))"
   ]
  },
  {
   "cell_type": "markdown",
   "metadata": {},
   "source": [
    "Let's add this feature into our function from before!"
   ]
  },
  {
   "cell_type": "code",
   "execution_count": 16,
   "metadata": {},
   "outputs": [
    {
     "name": "stdout",
     "output_type": "stream",
     "text": [
      "       Current  1 Year Ago Curve  1 Year Change  5 Years Ago Curve  \\\n",
      "1 Mo      1.48              2.44          -0.96               0.03   \n",
      "3 Mo      1.55              2.45          -0.90               0.04   \n",
      "6 Mo      1.60              2.56          -0.96               0.12   \n",
      "1 Yr      1.59              2.63          -1.04               0.25   \n",
      "2 Yr      1.58              2.48          -0.90               0.67   \n",
      "3 Yr      1.62              2.46          -0.84               1.10   \n",
      "5 Yr      1.69              2.51          -0.82               1.65   \n",
      "7 Yr      1.83              2.59          -0.76               1.97   \n",
      "10 Yr     1.92              2.69          -0.77               2.17   \n",
      "20 Yr     2.25              2.87          -0.62               2.47   \n",
      "30 Yr     2.39              3.02          -0.63               2.75   \n",
      "\n",
      "       5 Year Change  \n",
      "1 Mo            1.45  \n",
      "3 Mo            1.51  \n",
      "6 Mo            1.48  \n",
      "1 Yr            1.34  \n",
      "2 Yr            0.91  \n",
      "3 Yr            0.52  \n",
      "5 Yr            0.04  \n",
      "7 Yr           -0.14  \n",
      "10 Yr          -0.25  \n",
      "20 Yr          -0.22  \n",
      "30 Yr          -0.36  \n"
     ]
    }
   ],
   "source": [
    "# Revise the code\n",
    "def create_yield_table(data: DataFrame, date: datetime) -> DataFrame:\n",
    "    \"\"\"\n",
    "    Function to build a yield table object\n",
    "\n",
    "    Parameters\n",
    "    ----------\n",
    "    data : DataFrame\n",
    "        Yield curve data to be used\n",
    "    date : datetime\n",
    "        The date to use for the current date\n",
    "\n",
    "    Yields\n",
    "    ------\n",
    "    DataFrame\n",
    "        A yield table\n",
    "\n",
    "    \"\"\"\n",
    "    # Find the other two dates\n",
    "    date2 = date.replace(year=date.year-1)\n",
    "    date3 = date.replace(year=date.year-5)\n",
    "\n",
    "    # Index into the three dates and copy\n",
    "    table = yield_curve.loc[[date, date2, date3]].copy()\n",
    "\n",
    "    # Transpose\n",
    "    table = table.T\n",
    "\n",
    "    # Rename the columns\n",
    "    table.columns = [\"Current\", \"1 Year Ago Curve\", \"5 Years Ago Curve\"]\n",
    "\n",
    "    # Get the changes in the yield curve\n",
    "    table[\"1 Year Change\"] = table[\"Current\"] - table[\"1 Year Ago Curve\"]\n",
    "    table[\"5 Year Change\"] = table[\"Current\"] - table[\"5 Years Ago Curve\"]\n",
    "    \n",
    "    # Re-index the columns\n",
    "    table = table.reindex(columns=['Current', '1 Year Ago Curve','1 Year Change',\n",
    "                                   '5 Years Ago Curve','5 Year Change'])\n",
    "\n",
    "    return table\n",
    "\n",
    "yield_table = create_yield_table(yield_curve, datetime(2019,12,31))\n",
    "print(yield_table)"
   ]
  },
  {
   "cell_type": "markdown",
   "metadata": {},
   "source": [
    "## Visualization\n",
    "\n",
    "With our data finalized, we move on to graphing the actual data."
   ]
  },
  {
   "cell_type": "code",
   "execution_count": 17,
   "metadata": {},
   "outputs": [],
   "source": [
    "# Grab some of the data to play with\n",
    "graph_data = yield_table[['Current', '1 Year Ago Curve', '5 Years Ago Curve']].copy()"
   ]
  },
  {
   "cell_type": "markdown",
   "metadata": {},
   "source": [
    "### Converting the Index\n",
    "\n",
    "Our index right now is in the form of strings that we are able to read, but our code will not understand right away. To make it so that it can be properly graphed, we want to build out a function that given a string can convert it to what number of years it is (including being a fraction of a year).\n",
    "\n",
    "We will look for whether the string has Mo for month in it, or Yr for year in it, then map the remaining numerical value to either a value for the year or a value divided by 12 for a fraction of a year in the case of months."
   ]
  },
  {
   "cell_type": "code",
   "execution_count": 18,
   "metadata": {},
   "outputs": [
    {
     "name": "stdout",
     "output_type": "stream",
     "text": [
      "0.08333333333333333\n"
     ]
    }
   ],
   "source": [
    "def convert_to_year_frac(label: str) -> float:\n",
    "    \"\"\"\n",
    "    Function to convert treasury curve indices to floating\n",
    "    point numbers\n",
    "\n",
    "    Parameters\n",
    "    ----------\n",
    "    label : str\n",
    "        The string index label.\n",
    "\n",
    "    Returns\n",
    "    -------\n",
    "    float\n",
    "        A floating point number representing a fraction of a year.\n",
    "\n",
    "    \"\"\"\n",
    "    \n",
    "    # Handle months\n",
    "    if \"Mo\" in label:\n",
    "        # Get rid of string part\n",
    "        frac = label.replace(' Mo','')\n",
    "        \n",
    "        # Convert to a fraction over 12\n",
    "        frac = float(frac)\n",
    "        frac = frac/12\n",
    "    # Handle years\n",
    "    else:\n",
    "        # Get rid of string part\n",
    "        frac = label.replace(' Yr','')\n",
    "        # Convert to floating point number\n",
    "        frac = float(frac)\n",
    "    \n",
    "    return frac\n",
    "\n",
    "print(convert_to_year_frac('1 Mo'))"
   ]
  },
  {
   "cell_type": "markdown",
   "metadata": {},
   "source": [
    "Pandas indices can be modified by calling map and passing a function to map over each index. For example, below we see how that could be done with the function we just created."
   ]
  },
  {
   "cell_type": "code",
   "execution_count": 19,
   "metadata": {},
   "outputs": [
    {
     "name": "stdout",
     "output_type": "stream",
     "text": [
      "Float64Index([0.08333333333333333, 0.25, 0.5, 1.0, 2.0, 3.0, 5.0, 7.0, 10.0,\n",
      "              20.0, 30.0],\n",
      "             dtype='float64')\n"
     ]
    }
   ],
   "source": [
    "# We can use map to map a function on to the index\n",
    "print(graph_data.index.map(convert_to_year_frac))"
   ]
  },
  {
   "cell_type": "code",
   "execution_count": 20,
   "metadata": {},
   "outputs": [
    {
     "name": "stdout",
     "output_type": "stream",
     "text": [
      "           Current  1 Year Ago Curve  5 Years Ago Curve\n",
      "0.083333      1.48              2.44               0.03\n",
      "0.250000      1.55              2.45               0.04\n",
      "0.500000      1.60              2.56               0.12\n",
      "1.000000      1.59              2.63               0.25\n",
      "2.000000      1.58              2.48               0.67\n",
      "3.000000      1.62              2.46               1.10\n",
      "5.000000      1.69              2.51               1.65\n",
      "7.000000      1.83              2.59               1.97\n",
      "10.000000     1.92              2.69               2.17\n",
      "20.000000     2.25              2.87               2.47\n",
      "30.000000     2.39              3.02               2.75\n"
     ]
    }
   ],
   "source": [
    "# Set the index to this new one\n",
    "graph_data.index = graph_data.index.map(convert_to_year_frac)\n",
    "print(graph_data)"
   ]
  },
  {
   "cell_type": "markdown",
   "metadata": {},
   "source": [
    "Now to plot the data we employ matplotlib and begin the basic plotting."
   ]
  },
  {
   "cell_type": "code",
   "execution_count": 21,
   "metadata": {},
   "outputs": [
    {
     "data": {
      "image/png": "[encoded data removed]",
      "text/plain": [
       "<Figure size 432x288 with 1 Axes>"
      ]
     },
     "metadata": {
      "needs_background": "light"
     },
     "output_type": "display_data"
    }
   ],
   "source": [
    "import matplotlib.pyplot as plt\n",
    "\n",
    "# Plot\n",
    "graph_data.plot(kind=\"line\")\n",
    "\n",
    "# Add labels\n",
    "plt.xlabel(\"Maturity\")\n",
    "plt.ylabel(\"Yield\")\n",
    "plt.title(\"Yield Curves\")\n",
    "\n",
    "plt.show()"
   ]
  },
  {
   "cell_type": "code",
   "execution_count": 22,
   "metadata": {},
   "outputs": [
    {
     "data": {
      "image/png": "[encoded data removed]",
      "text/plain": [
       "<Figure size 432x288 with 1 Axes>"
      ]
     },
     "metadata": {
      "needs_background": "light"
     },
     "output_type": "display_data"
    }
   ],
   "source": [
    "# Let's see what just the current would look like\n",
    "\n",
    "# Plot\n",
    "graph_data[[\"Current\"]].plot(kind=\"line\")\n",
    "\n",
    "# Add labels\n",
    "plt.xlabel(\"Maturity\")\n",
    "plt.ylabel(\"Yield\")\n",
    "plt.title(\"Yield Curves\")\n",
    "\n",
    "plt.show()"
   ]
  },
  {
   "cell_type": "markdown",
   "metadata": {},
   "source": [
    "### Axis Limits\n",
    "\n",
    "Sometimes, it can be a matter of preference to use a different axis limit when plotting. Matplotlib allows you to modify these through plt.ylim() for the y limits and naturally plt.xlim() for the x limits.\n",
    "\n",
    "Calling it without an argument will return the current limits, and passing a tuple/list of length two will set the bottom and top limits with the values passed."
   ]
  },
  {
   "cell_type": "code",
   "execution_count": 23,
   "metadata": {},
   "outputs": [
    {
     "name": "stdout",
     "output_type": "stream",
     "text": [
      "(1.4344999999999999, 2.4355)\n"
     ]
    },
    {
     "data": {
      "image/png": "[encoded data removed]",
      "text/plain": [
       "<Figure size 432x288 with 1 Axes>"
      ]
     },
     "metadata": {
      "needs_background": "light"
     },
     "output_type": "display_data"
    }
   ],
   "source": [
    "# An example of grabbing the current limits\n",
    "\n",
    "# Plot\n",
    "graph_data[[\"Current\"]].plot(kind=\"line\")\n",
    "\n",
    "# Set labels\n",
    "plt.xlabel(\"Maturity\")\n",
    "plt.ylabel(\"Yield\")\n",
    "plt.title(\"Yield Curves\")\n",
    "\n",
    "# Find the current y limits\n",
    "print(plt.ylim())\n",
    "\n",
    "plt.show()"
   ]
  },
  {
   "cell_type": "code",
   "execution_count": 24,
   "metadata": {},
   "outputs": [
    {
     "data": {
      "image/png": "[encoded data removed]",
      "text/plain": [
       "<Figure size 432x288 with 1 Axes>"
      ]
     },
     "metadata": {
      "needs_background": "light"
     },
     "output_type": "display_data"
    }
   ],
   "source": [
    "#By passing plt.ylim() a set of limits to use, we can set the boundaries\n",
    "\n",
    "# Plot the data\n",
    "graph_data[[\"Current\"]].plot(kind=\"line\")\n",
    "\n",
    "# Get the current limit\n",
    "current_lim = plt.ylim()\n",
    "\n",
    "#Set the new limits so that it is 0 at the bottom, and the same limit on the top\n",
    "new_lim = [0,current_lim[1]]\n",
    "plt.ylim(new_lim)\n",
    "\n",
    "# Set the labels\n",
    "plt.xlabel(\"Maturity\")\n",
    "plt.ylabel(\"Yield\")\n",
    "plt.title(\"Yield Curves\")\n",
    "\n",
    "plt.show()"
   ]
  },
  {
   "cell_type": "markdown",
   "metadata": {},
   "source": [
    "### Setting the Ticks\n",
    "\n",
    "Our current graph is shaping up, but one problem is that the ticks are in nominal values but they are yields so they should really be percentages. We have the ability to modify this as well.\n",
    "\n",
    "We have to get back the axis from plotting and then we can set the major formatter in this way. If we take PercentFormatter from matplotlib.ticker, we can pass it in to ax.yaxis.set_major_formatter and this will tell our plot that the y axis is going to be formatted into percents."
   ]
  },
  {
   "cell_type": "code",
   "execution_count": 25,
   "metadata": {},
   "outputs": [
    {
     "data": {
      "image/png": "[encoded data removed]",
      "text/plain": [
       "<Figure size 432x288 with 1 Axes>"
      ]
     },
     "metadata": {
      "needs_background": "light"
     },
     "output_type": "display_data"
    }
   ],
   "source": [
    "from matplotlib.ticker import PercentFormatter\n",
    "\n",
    "# When we plot in this way we can return the axis\n",
    "ax = graph_data.plot(kind=\"line\")\n",
    "\n",
    "# Get the current limit and set the limit to have 0 on the bottom\n",
    "current_lim = plt.ylim()\n",
    "new_lim = [0 ,current_lim[1]]\n",
    "plt.ylim(new_lim)\n",
    "\n",
    "# Set the labels\n",
    "plt.xlabel(\"Maturity\")\n",
    "plt.ylabel(\"Yield\")\n",
    "plt.title(\"Yield Curves\")\n",
    "\n",
    "# We can also set the plot formatter to one that converts numbers to percents\n",
    "ax.yaxis.set_major_formatter(PercentFormatter())\n",
    "\n",
    "plt.show()"
   ]
  },
  {
   "cell_type": "markdown",
   "metadata": {},
   "source": [
    "### Creating Folder Structure\n",
    "\n",
    "With the os library, we have the ability to create folder structures and move around files. By calling os.path.exists with a path, we can check if a folder exists (in this case we want to see if there is an Images and Tables folder in our current repository). By calling os.mkdir we can actually create a directory!"
   ]
  },
  {
   "cell_type": "code",
   "execution_count": 26,
   "metadata": {},
   "outputs": [],
   "source": [
    "import os\n",
    "\n",
    "#Using os, check if a folder exists and if not we can create the folder\n",
    "if not os.path.exists(\"Images\"):\n",
    "    os.mkdir(\"Images\")\n",
    "if not os.path.exists(\"Tables\"):\n",
    "    os.mkdir(\"Tables\")"
   ]
  },
  {
   "cell_type": "markdown",
   "metadata": {},
   "source": [
    "We want to save down the csv file for the processed data we just finished up with."
   ]
  },
  {
   "cell_type": "code",
   "execution_count": 27,
   "metadata": {},
   "outputs": [],
   "source": [
    "# Save the table to a tables folder\n",
    "yield_table.to_csv(\"Tables/Treasury Yield Table.csv\")"
   ]
  },
  {
   "cell_type": "markdown",
   "metadata": {},
   "source": [
    "We can also use plt.savefig to save a figure that we just created instead of showing it. We want to save down our image for later possible use."
   ]
  },
  {
   "cell_type": "code",
   "execution_count": 28,
   "metadata": {},
   "outputs": [
    {
     "data": {
      "image/png": "[encoded data removed]",
      "text/plain": [
       "<Figure size 432x288 with 1 Axes>"
      ]
     },
     "metadata": {
      "needs_background": "light"
     },
     "output_type": "display_data"
    }
   ],
   "source": [
    "# Plot\n",
    "ax = graph_data.plot(kind=\"line\")\n",
    "\n",
    "# Get the current limit and set the limit to have 0 on the bottom\n",
    "current_lim = plt.ylim()\n",
    "new_lim = [0 ,current_lim[1]]\n",
    "plt.ylim(new_lim)\n",
    "\n",
    "# Set the labels\n",
    "plt.xlabel(\"Maturity\")\n",
    "plt.ylabel(\"Yield\")\n",
    "plt.title(\"Yield Curves\")\n",
    "\n",
    "# We can also set the plot formatter to one that converts numbers to percents\n",
    "ax.yaxis.set_major_formatter(PercentFormatter())\n",
    "\n",
    "# plt.savefig() will save a picture of a graph\n",
    "plt.savefig(\"Images/Treasury Yield Curves.png\")"
   ]
  }
 ],
 "metadata": {
  "kernelspec": {
   "display_name": "Python 3 (ipykernel)",
   "language": "python",
   "name": "python3"
  },
  "language_info": {
   "codemirror_mode": {
    "name": "ipython",
    "version": 3
   },
   "file_extension": ".py",
   "mimetype": "text/x-python",
   "name": "python",
   "nbconvert_exporter": "python",
   "pygments_lexer": "ipython3",
   "version": "3.9.7"
  }
 },
 "nbformat": 4,
 "nbformat_minor": 2
}
