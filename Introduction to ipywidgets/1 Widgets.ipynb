{
 "cells": [
  {
   "cell_type": "code",
   "execution_count": 1,
   "metadata": {},
   "outputs": [
    {
     "data": {
      "application/vnd.jupyter.widget-view+json": {
       "model_id": "00f6f0a0945a436d9a3f42efe49de2c0",
       "version_major": 2,
       "version_minor": 0
      },
      "text/plain": [
       "IntSlider(value=0)"
      ]
     },
     "metadata": {},
     "output_type": "display_data"
    }
   ],
   "source": [
    "from IPython.display import display\n",
    "from ipywidgets import widgets\n",
    "\n",
    "#A widget is an interactive ipython object that allows you to control a variable with a UI\n",
    "#The following will give you an integer slider for example\n",
    "X = widgets.IntSlider(\n",
    ")\n",
    "display(X)"
   ]
  },
  {
   "cell_type": "code",
   "execution_count": 2,
   "metadata": {},
   "outputs": [
    {
     "data": {
      "application/vnd.jupyter.widget-view+json": {
       "model_id": "1be6cf26ed1b406285782e21461a190e",
       "version_major": 2,
       "version_minor": 0
      },
      "text/plain": [
       "IntSlider(value=50, max=200, min=1)"
      ]
     },
     "metadata": {},
     "output_type": "display_data"
    }
   ],
   "source": [
    "#You can set a default value with value as well as minimum and maximum\n",
    "X = widgets.IntSlider(value=50,\n",
    "                          min=1,\n",
    "    max=200,\n",
    ")\n",
    "display(X)"
   ]
  },
  {
   "cell_type": "code",
   "execution_count": 3,
   "metadata": {},
   "outputs": [
    {
     "data": {
      "application/vnd.jupyter.widget-view+json": {
       "model_id": "83161fa23acb43b19a177c29728ecf7f",
       "version_major": 2,
       "version_minor": 0
      },
      "text/plain": [
       "IntSlider(value=50, max=200, min=10, step=10)"
      ]
     },
     "metadata": {},
     "output_type": "display_data"
    }
   ],
   "source": [
    "#If you want to control the jumps you could also set a step\n",
    "X = widgets.IntSlider(value=50,\n",
    "                          min=10,\n",
    "    max=200,\n",
    "                      step=10,\n",
    ")\n",
    "display(X)"
   ]
  },
  {
   "cell_type": "code",
   "execution_count": 4,
   "metadata": {},
   "outputs": [
    {
     "data": {
      "application/vnd.jupyter.widget-view+json": {
       "model_id": "0dfd7b8eb8df496eab12d0d2fea680e4",
       "version_major": 2,
       "version_minor": 0
      },
      "text/plain": [
       "FloatSlider(value=50.0, max=200.0, min=10.0)"
      ]
     },
     "metadata": {},
     "output_type": "display_data"
    }
   ],
   "source": [
    "#A float slider works the same except for floating point numbers\n",
    "#Here we will have a slide with a minimum of 10 and a maximum of 200 that will go up by .1 at a time\n",
    "X = widgets.FloatSlider(value=50,\n",
    "                          min=10,\n",
    "    max=200,\n",
    "                      step=.1,\n",
    ")\n",
    "display(X)"
   ]
  },
  {
   "cell_type": "code",
   "execution_count": 5,
   "metadata": {},
   "outputs": [
    {
     "data": {
      "application/vnd.jupyter.widget-view+json": {
       "model_id": "6a104dc3a6844cffb7723e8a22b6a029",
       "version_major": 2,
       "version_minor": 0
      },
      "text/plain": [
       "FloatSlider(value=50.0, description='Value:', max=200.0, min=10.0)"
      ]
     },
     "metadata": {},
     "output_type": "display_data"
    }
   ],
   "source": [
    "#Of course sometimes you want to add a label, which can be done with description\n",
    "X = widgets.FloatSlider(value=50,\n",
    "                          min=10,\n",
    "    max=200,\n",
    "                      step=.1,\n",
    "                        description='Value:',\n",
    ")\n",
    "display(X)"
   ]
  },
  {
   "cell_type": "code",
   "execution_count": 6,
   "metadata": {},
   "outputs": [
    {
     "data": {
      "application/vnd.jupyter.widget-view+json": {
       "model_id": "",
       "version_major": 2,
       "version_minor": 0
      },
      "text/plain": [
       "FloatSlider(value=50.0, description='Value:', max=200.0, min=10.0, readout_format='.1f')"
      ]
     },
     "metadata": {},
     "output_type": "display_data"
    }
   ],
   "source": [
    "#Or maybe you want to change the read out format\n",
    "#Giving a number formatting string will achieve this, the following says to show just one decimal\n",
    "X = widgets.FloatSlider(value=50,\n",
    "                          min=10,\n",
    "    max=200,\n",
    "                      step=.1,\n",
    "                        description='Value:',\n",
    "                            readout_format='.1f'\n",
    ")\n",
    "display(X)"
   ]
  },
  {
   "cell_type": "code",
   "execution_count": 7,
   "metadata": {},
   "outputs": [
    {
     "data": {
      "application/vnd.jupyter.widget-view+json": {
       "model_id": "",
       "version_major": 2,
       "version_minor": 0
      },
      "text/plain": [
       "FloatSlider(value=50.0, description='Value:', max=200.0, min=10.0, readout_format='.1f')"
      ]
     },
     "metadata": {},
     "output_type": "display_data"
    }
   ],
   "source": [
    "#Something to realize is that when you display a widget a second time it is still linked\n",
    "#If you toggle this one you will notice the one above also moves with it\n",
    "display(X)"
   ]
  },
  {
   "cell_type": "code",
   "execution_count": 8,
   "metadata": {},
   "outputs": [],
   "source": [
    "#You can close a widget with close()\n",
    "X.close()"
   ]
  },
  {
   "cell_type": "code",
   "execution_count": 9,
   "metadata": {},
   "outputs": [
    {
     "data": {
      "application/vnd.jupyter.widget-view+json": {
       "model_id": "7b93f5a507224c7494b4c26d07329fda",
       "version_major": 2,
       "version_minor": 0
      },
      "text/plain": [
       "BoundedFloatText(value=5.5, description='Number:', max=20.0, step=0.05)"
      ]
     },
     "metadata": {},
     "output_type": "display_data"
    }
   ],
   "source": [
    "#If you prefer to enter the number in you can use the BoundedFloatText\n",
    "X = widgets.BoundedFloatText(\n",
    "    value=5.5,\n",
    "    min=0,\n",
    "    max=20.0,\n",
    "    step=0.05,\n",
    "    description='Number:')\n",
    "display(X)"
   ]
  },
  {
   "cell_type": "code",
   "execution_count": 10,
   "metadata": {},
   "outputs": [
    {
     "data": {
      "application/vnd.jupyter.widget-view+json": {
       "model_id": "140c8de8cdbd41d09b8edcbf4ddd6404",
       "version_major": 2,
       "version_minor": 0
      },
      "text/plain": [
       "IntText(value=7, description='Number:')"
      ]
     },
     "metadata": {},
     "output_type": "display_data"
    }
   ],
   "source": [
    "#Or the integer version\n",
    "X = widgets.IntText(\n",
    "    value=7,\n",
    "    description='Number:')\n",
    "display(X)"
   ]
  },
  {
   "cell_type": "code",
   "execution_count": 11,
   "metadata": {},
   "outputs": [
    {
     "data": {
      "application/vnd.jupyter.widget-view+json": {
       "model_id": "17de3e94ef5349b7967a645e14379262",
       "version_major": 2,
       "version_minor": 0
      },
      "text/plain": [
       "FloatText(value=7.5, description='Number:')"
      ]
     },
     "metadata": {},
     "output_type": "display_data"
    }
   ],
   "source": [
    "#This version, FloatText is not bounded\n",
    "X = widgets.FloatText(\n",
    "    value=7.5,\n",
    "    description='Number:'\n",
    ")\n",
    "display(X)"
   ]
  },
  {
   "cell_type": "code",
   "execution_count": 12,
   "metadata": {},
   "outputs": [
    {
     "data": {
      "application/vnd.jupyter.widget-view+json": {
       "model_id": "75e6307c01df473ca4085fd4a9e32a73",
       "version_major": 2,
       "version_minor": 0
      },
      "text/plain": [
       "ToggleButton(value=False, description='On/Off')"
      ]
     },
     "metadata": {},
     "output_type": "display_data"
    }
   ],
   "source": [
    "#Toggle buttons allow for switching between true and false\n",
    "X = widgets.ToggleButton(\n",
    "    value=False,\n",
    "    description='On/Off',\n",
    "    button_style=''\n",
    ")\n",
    "display(X)"
   ]
  },
  {
   "cell_type": "code",
   "execution_count": 13,
   "metadata": {},
   "outputs": [
    {
     "data": {
      "application/vnd.jupyter.widget-view+json": {
       "model_id": "a6a9e1e44f3d4ec6bc85b75e3c1a4319",
       "version_major": 2,
       "version_minor": 0
      },
      "text/plain": [
       "ToggleButton(value=False, button_style='success', description='Success')"
      ]
     },
     "metadata": {},
     "output_type": "display_data"
    },
    {
     "data": {
      "application/vnd.jupyter.widget-view+json": {
       "model_id": "0733767952384774abdecb07a72542ba",
       "version_major": 2,
       "version_minor": 0
      },
      "text/plain": [
       "ToggleButton(value=False, button_style='info', description='Info')"
      ]
     },
     "metadata": {},
     "output_type": "display_data"
    },
    {
     "data": {
      "application/vnd.jupyter.widget-view+json": {
       "model_id": "170eae8bd24045559b6db5f529b32b58",
       "version_major": 2,
       "version_minor": 0
      },
      "text/plain": [
       "ToggleButton(value=False, button_style='warning', description='Warning')"
      ]
     },
     "metadata": {},
     "output_type": "display_data"
    },
    {
     "data": {
      "application/vnd.jupyter.widget-view+json": {
       "model_id": "4dfc475b699940bd962d2eb7ad4c3390",
       "version_major": 2,
       "version_minor": 0
      },
      "text/plain": [
       "ToggleButton(value=False, button_style='danger', description='Danger')"
      ]
     },
     "metadata": {},
     "output_type": "display_data"
    }
   ],
   "source": [
    "#The following are all the button styles you can pick from if you wnt a certain style\n",
    "X = widgets.ToggleButton(\n",
    "    value=False,\n",
    "    description='Success',\n",
    "    button_style='success', \n",
    ")\n",
    "display(X)\n",
    "\n",
    "X = widgets.ToggleButton(\n",
    "    value=False,\n",
    "    description='Info',\n",
    "    button_style='info',\n",
    ")\n",
    "display(X)\n",
    "\n",
    "X = widgets.ToggleButton(\n",
    "    value=False,\n",
    "    description='Warning',\n",
    "    button_style='warning',\n",
    ")\n",
    "display(X)\n",
    "\n",
    "X = widgets.ToggleButton(\n",
    "    value=False,\n",
    "    description='Danger',\n",
    "    button_style='danger',\n",
    ")\n",
    "display(X)"
   ]
  },
  {
   "cell_type": "code",
   "execution_count": 14,
   "metadata": {},
   "outputs": [
    {
     "data": {
      "application/vnd.jupyter.widget-view+json": {
       "model_id": "39c99607161448628eb757c66801edca",
       "version_major": 2,
       "version_minor": 0
      },
      "text/plain": [
       "ToggleButton(value=False, description='On/Off', icon='check')"
      ]
     },
     "metadata": {},
     "output_type": "display_data"
    }
   ],
   "source": [
    "#You can also add an icon like a check\n",
    "X = widgets.ToggleButton(\n",
    "    value=False,\n",
    "    description='On/Off',\n",
    "    button_style='',\n",
    "    icon='check'\n",
    ")\n",
    "display(X)"
   ]
  },
  {
   "cell_type": "code",
   "execution_count": 15,
   "metadata": {},
   "outputs": [
    {
     "data": {
      "application/vnd.jupyter.widget-view+json": {
       "model_id": "24e84c141e0140829856d21ad6f72ff0",
       "version_major": 2,
       "version_minor": 0
      },
      "text/plain": [
       "Checkbox(value=False, description='Checkbox')"
      ]
     },
     "metadata": {},
     "output_type": "display_data"
    }
   ],
   "source": [
    "#Alternatively, you might prefer a checkbox\n",
    "X = widgets.Checkbox(\n",
    "    value=False,\n",
    "    description='Checkbox'\n",
    ")\n",
    "display(X)"
   ]
  },
  {
   "cell_type": "code",
   "execution_count": 16,
   "metadata": {},
   "outputs": [
    {
     "data": {
      "application/vnd.jupyter.widget-view+json": {
       "model_id": "7b814fd2602d4fa4ab23fc657454f151",
       "version_major": 2,
       "version_minor": 0
      },
      "text/plain": [
       "Dropdown(description='Choose:', index=1, options=('Choice 1', 'Choice 2', 'Choice 3'), value='Choice 2')"
      ]
     },
     "metadata": {},
     "output_type": "display_data"
    }
   ],
   "source": [
    "#Dropdowns can be used to allow choosing from a list\n",
    "X = widgets.Dropdown(\n",
    "    options=['Choice 1', 'Choice 2', 'Choice 3'],\n",
    "    value='Choice 2',\n",
    "    description='Choose:'\n",
    ")\n",
    "display(X)"
   ]
  },
  {
   "cell_type": "code",
   "execution_count": 17,
   "metadata": {},
   "outputs": [
    {
     "name": "stdout",
     "output_type": "stream",
     "text": [
      "Choice 2\n"
     ]
    }
   ],
   "source": [
    "#If you print X.value it will give you whatever the current value is on the UI\n",
    "#If you change the UI and run this it will reflect what you chose\n",
    "print(X.value)"
   ]
  },
  {
   "cell_type": "code",
   "execution_count": 18,
   "metadata": {},
   "outputs": [
    {
     "data": {
      "application/vnd.jupyter.widget-view+json": {
       "model_id": "d7ae6854e32d4883bb59d480926c4ff7",
       "version_major": 2,
       "version_minor": 0
      },
      "text/plain": [
       "Dropdown(description='Choose:', index=1, options=(('Choice 1', 1), ('Choice 2', 2), ('Choice 3', 3)), value=2)"
      ]
     },
     "metadata": {},
     "output_type": "display_data"
    },
    {
     "name": "stdout",
     "output_type": "stream",
     "text": [
      "2\n"
     ]
    }
   ],
   "source": [
    "#If you prefer to have a label like Choice 1 but have it route to an easier representation like say integers\n",
    "#You can give tuples like so, you need to set the value equal to the second element of the tuple\n",
    "#but it will be displayed as the label (first element in the tuple)\n",
    "X = widgets.Dropdown(\n",
    "    options=[('Choice 1', 1), ('Choice 2', 2), ('Choice 3', 3)],\n",
    "    value=2,\n",
    "    description='Choose:'\n",
    ")\n",
    "display(X)\n",
    "print(X.value)"
   ]
  },
  {
   "cell_type": "code",
   "execution_count": 19,
   "metadata": {},
   "outputs": [
    {
     "data": {
      "application/vnd.jupyter.widget-view+json": {
       "model_id": "11b91e35ef494271b6f322387acf04bb",
       "version_major": 2,
       "version_minor": 0
      },
      "text/plain": [
       "RadioButtons(description='Choose:', index=1, options=(('Choice 1', 1), ('Choice 2', 2), ('Choice 3', 3)), valu…"
      ]
     },
     "metadata": {},
     "output_type": "display_data"
    }
   ],
   "source": [
    "#If you like radio buttons before it works the same\n",
    "X = widgets.RadioButtons(\n",
    "    options=[('Choice 1', 1), ('Choice 2', 2), ('Choice 3', 3)],\n",
    "    value=2,\n",
    "    description='Choose:'\n",
    ")\n",
    "display(X)"
   ]
  },
  {
   "cell_type": "code",
   "execution_count": 20,
   "metadata": {},
   "outputs": [
    {
     "data": {
      "application/vnd.jupyter.widget-view+json": {
       "model_id": "093288c6397640169e11a9aa66658784",
       "version_major": 2,
       "version_minor": 0
      },
      "text/plain": [
       "Select(description='Choose:', index=1, options=(('Choice 1', 1), ('Choice 2', 2), ('Choice 3', 3)), value=2)"
      ]
     },
     "metadata": {},
     "output_type": "display_data"
    }
   ],
   "source": [
    "#Or a select box\n",
    "X = widgets.Select(\n",
    "    options=[('Choice 1', 1), ('Choice 2', 2), ('Choice 3', 3)],\n",
    "    value=2,\n",
    "    description='Choose:'\n",
    ")\n",
    "display(X)"
   ]
  },
  {
   "cell_type": "code",
   "execution_count": 21,
   "metadata": {},
   "outputs": [
    {
     "data": {
      "application/vnd.jupyter.widget-view+json": {
       "model_id": "95e7870ce81e4386ad394dea6cd15bf3",
       "version_major": 2,
       "version_minor": 0
      },
      "text/plain": [
       "SelectionSlider(description='Choose:', index=1, options=(('Choice 1', 1), ('Choice 2', 2), ('Choice 3', 3)), v…"
      ]
     },
     "metadata": {},
     "output_type": "display_data"
    }
   ],
   "source": [
    "#The SelectionSlider turns it into a slider\n",
    "X = widgets.SelectionSlider(\n",
    "    options=[('Choice 1', 1), ('Choice 2', 2), ('Choice 3', 3)],\n",
    "    value=2,\n",
    "    description='Choose:'\n",
    ")\n",
    "display(X)"
   ]
  },
  {
   "cell_type": "code",
   "execution_count": 22,
   "metadata": {},
   "outputs": [
    {
     "data": {
      "application/vnd.jupyter.widget-view+json": {
       "model_id": "88709f869c9b484aae2b082e7f435c33",
       "version_major": 2,
       "version_minor": 0
      },
      "text/plain": [
       "SelectionSlider(description='Choose:', index=1, options=(('Choice 1', 1), ('Choice 2', 2), ('Choice 3', 3)), o…"
      ]
     },
     "metadata": {},
     "output_type": "display_data"
    }
   ],
   "source": [
    "#Notice if you give it the orientation='vertical' it is now displayed vertically\n",
    "X = widgets.SelectionSlider(\n",
    "    options=[('Choice 1', 1), ('Choice 2', 2), ('Choice 3', 3)],\n",
    "    value=2,\n",
    "    description='Choose:',\n",
    "    orientation='vertical'\n",
    ")\n",
    "display(X)"
   ]
  },
  {
   "cell_type": "code",
   "execution_count": 23,
   "metadata": {},
   "outputs": [
    {
     "data": {
      "application/vnd.jupyter.widget-view+json": {
       "model_id": "7086dc0efb2546ac96db87d74db47046",
       "version_major": 2,
       "version_minor": 0
      },
      "text/plain": [
       "ToggleButtons(description='Choose:', index=1, options=(('Choice 1', 1), ('Choice 2', 2), ('Choice 3', 3)), val…"
      ]
     },
     "metadata": {},
     "output_type": "display_data"
    }
   ],
   "source": [
    "#Toggle buttons are also a good choice\n",
    "X = widgets.ToggleButtons(\n",
    "    options=[('Choice 1', 1), ('Choice 2', 2), ('Choice 3', 3)],\n",
    "    value=2,\n",
    "    description='Choose:',\n",
    ")\n",
    "display(X)"
   ]
  },
  {
   "cell_type": "code",
   "execution_count": 24,
   "metadata": {},
   "outputs": [
    {
     "data": {
      "application/vnd.jupyter.widget-view+json": {
       "model_id": "2d22f70792c0486799f22758e51a532f",
       "version_major": 2,
       "version_minor": 0
      },
      "text/plain": [
       "SelectMultiple(description='Choose', index=(0, 1), options=('Choice 1', 'Choice 2', 'Choice 3'), value=('Choic…"
      ]
     },
     "metadata": {},
     "output_type": "display_data"
    }
   ],
   "source": [
    "#If you want the ability to choose multiple use the SelectMultiple widget\n",
    "#You need to give a value of a list of active choices\n",
    "#Use shift or control/command to select multiple\n",
    "X = widgets.SelectMultiple(\n",
    "    options=['Choice 1', 'Choice 2', 'Choice 3'],\n",
    "    value=['Choice 1', 'Choice 2'],\n",
    "    description='Choose')\n",
    "display(X)"
   ]
  },
  {
   "cell_type": "code",
   "execution_count": 25,
   "metadata": {},
   "outputs": [
    {
     "data": {
      "application/vnd.jupyter.widget-view+json": {
       "model_id": "f9a6a2eaf5b944deadcfa2cf3d951d00",
       "version_major": 2,
       "version_minor": 0
      },
      "text/plain": [
       "DatePicker(value=None, description='Pick a Date')"
      ]
     },
     "metadata": {},
     "output_type": "display_data"
    }
   ],
   "source": [
    "#A DatePicker widget allows for a nice calendar UI to pick widgets\n",
    "X = widgets.DatePicker(\n",
    "    description='Pick a Date'\n",
    ")\n",
    "display(X)"
   ]
  },
  {
   "cell_type": "code",
   "execution_count": 26,
   "metadata": {},
   "outputs": [
    {
     "data": {
      "application/vnd.jupyter.widget-view+json": {
       "model_id": "b639fb08e4e345f4b61db0768b711108",
       "version_major": 2,
       "version_minor": 0
      },
      "text/plain": [
       "ColorPicker(value='red', description='Pick a color')"
      ]
     },
     "metadata": {},
     "output_type": "display_data"
    }
   ],
   "source": [
    "#You can also pick a color\n",
    "#Concise set to false will display more information on the color\n",
    "X = widgets.ColorPicker(\n",
    "    concise=False,\n",
    "    description='Pick a color',\n",
    "    value='red')\n",
    "display(X)"
   ]
  },
  {
   "cell_type": "code",
   "execution_count": 27,
   "metadata": {},
   "outputs": [
    {
     "data": {
      "application/vnd.jupyter.widget-view+json": {
       "model_id": "4a81b12da06f42649e63524aafae2ad8",
       "version_major": 2,
       "version_minor": 0
      },
      "text/plain": [
       "ColorPicker(value='red', concise=True, description='Pick a color')"
      ]
     },
     "metadata": {},
     "output_type": "display_data"
    }
   ],
   "source": [
    "#You can also set concise to True to just display the color\n",
    "X = widgets.ColorPicker(\n",
    "    concise=True,\n",
    "    description='Pick a color',\n",
    "    value='red')\n",
    "display(X)"
   ]
  }
 ],
 "metadata": {
  "kernelspec": {
   "display_name": "Python 3",
   "language": "python",
   "name": "python3"
  },
  "language_info": {
   "codemirror_mode": {
    "name": "ipython",
    "version": 3
   },
   "file_extension": ".py",
   "mimetype": "text/x-python",
   "name": "python",
   "nbconvert_exporter": "python",
   "pygments_lexer": "ipython3",
   "version": "3.8.3"
  }
 },
 "nbformat": 4,
 "nbformat_minor": 4
}
