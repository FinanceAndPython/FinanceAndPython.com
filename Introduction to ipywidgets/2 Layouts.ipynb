{
 "cells": [
  {
   "cell_type": "code",
   "execution_count": 1,
   "metadata": {},
   "outputs": [
    {
     "data": {
      "application/vnd.jupyter.widget-view+json": {
       "model_id": "cb393b6427624adeaee27c75b25d7d11",
       "version_major": 2,
       "version_minor": 0
      },
      "text/plain": [
       "Box(children=(FloatSlider(value=50.0, description='Value:', max=200.0, min=10.0), FloatSlider(value=50.0, desc…"
      ]
     },
     "metadata": {},
     "output_type": "display_data"
    }
   ],
   "source": [
    "from IPython.display import display\n",
    "from ipywidgets import widgets\n",
    "\n",
    "A = widgets.FloatSlider(value=50,\n",
    "                          min=10,\n",
    "    max=200,\n",
    "                      step=.1,\n",
    "                        description='Value:',\n",
    ")\n",
    "\n",
    "B = widgets.FloatSlider(value=50,\n",
    "                          min=10,\n",
    "    max=200,\n",
    "                      step=.1,\n",
    "                        description='Value:',\n",
    ")\n",
    "\n",
    "C = widgets.FloatSlider(value=50,\n",
    "                          min=10,\n",
    "    max=200,\n",
    "                      step=.1,\n",
    "                        description='Value:',\n",
    ")\n",
    "\n",
    "box_items = widgets.Box([A,B,C])\n",
    "display(box_items)"
   ]
  },
  {
   "cell_type": "code",
   "execution_count": 2,
   "metadata": {},
   "outputs": [
    {
     "data": {
      "application/vnd.jupyter.widget-view+json": {
       "model_id": "365e455ec682427ea3d367902d36d421",
       "version_major": 2,
       "version_minor": 0
      },
      "text/plain": [
       "HBox(children=(FloatSlider(value=50.0, description='Value:', max=200.0, min=10.0), FloatSlider(value=50.0, des…"
      ]
     },
     "metadata": {},
     "output_type": "display_data"
    }
   ],
   "source": [
    "box_items = widgets.HBox([A,B,C])\n",
    "display(box_items)"
   ]
  },
  {
   "cell_type": "code",
   "execution_count": 3,
   "metadata": {},
   "outputs": [
    {
     "data": {
      "application/vnd.jupyter.widget-view+json": {
       "model_id": "c98fe259ddf94d79a8eba4e7e35b4fb1",
       "version_major": 2,
       "version_minor": 0
      },
      "text/plain": [
       "VBox(children=(FloatSlider(value=50.0, description='Value:', max=200.0, min=10.0), FloatSlider(value=50.0, des…"
      ]
     },
     "metadata": {},
     "output_type": "display_data"
    }
   ],
   "source": [
    "box_items = widgets.VBox([A,B,C])\n",
    "display(box_items)"
   ]
  },
  {
   "cell_type": "code",
   "execution_count": 4,
   "metadata": {},
   "outputs": [
    {
     "data": {
      "application/vnd.jupyter.widget-view+json": {
       "model_id": "0e864b8acf9f421b9cbf54fd2b187b4a",
       "version_major": 2,
       "version_minor": 0
      },
      "text/plain": [
       "GridBox(children=(FloatSlider(value=50.0, description='Value 1:', max=200.0, min=10.0), FloatSlider(value=50.0…"
      ]
     },
     "metadata": {},
     "output_type": "display_data"
    }
   ],
   "source": [
    "items = []\n",
    "for i in range(9):\n",
    "    items.append(widgets.FloatSlider(value=50,\n",
    "                          min=10,\n",
    "    max=200,\n",
    "                      step=.1,\n",
    "                        description='Value {}:'.format(i+1),\n",
    "))\n",
    "widgets.GridBox(items, layout=widgets.Layout(grid_template_columns=\"repeat(3, 300px)\"))"
   ]
  },
  {
   "cell_type": "code",
   "execution_count": 5,
   "metadata": {},
   "outputs": [
    {
     "data": {
      "application/vnd.jupyter.widget-view+json": {
       "model_id": "c1b59520f08741f69b78f8dfbcadc5f1",
       "version_major": 2,
       "version_minor": 0
      },
      "text/plain": [
       "Accordion(children=(FloatSlider(value=50.0, description='Value:', max=200.0, min=10.0), FloatSlider(value=50.0…"
      ]
     },
     "metadata": {},
     "output_type": "display_data"
    }
   ],
   "source": [
    "accordion = widgets.Accordion(children=[A, B])\n",
    "accordion.set_title(0, 'Title 1')\n",
    "accordion.set_title(1, 'Title 2')\n",
    "display(accordion)"
   ]
  },
  {
   "cell_type": "code",
   "execution_count": 6,
   "metadata": {},
   "outputs": [
    {
     "data": {
      "application/vnd.jupyter.widget-view+json": {
       "model_id": "74ddb9f35b2f4013a4c116e628ccb17e",
       "version_major": 2,
       "version_minor": 0
      },
      "text/plain": [
       "Tab(children=(FloatSlider(value=50.0, description='Value:', max=200.0, min=10.0), FloatSlider(value=50.0, desc…"
      ]
     },
     "metadata": {},
     "output_type": "display_data"
    }
   ],
   "source": [
    "tab = widgets.Tab([A, B])\n",
    "tab.set_title(0, 'Title 1')\n",
    "tab.set_title(1, 'Title 2')\n",
    "display(tab)"
   ]
  }
 ],
 "metadata": {
  "kernelspec": {
   "display_name": "Python 3",
   "language": "python",
   "name": "python3"
  },
  "language_info": {
   "codemirror_mode": {
    "name": "ipython",
    "version": 3
   },
   "file_extension": ".py",
   "mimetype": "text/x-python",
   "name": "python",
   "nbconvert_exporter": "python",
   "pygments_lexer": "ipython3",
   "version": "3.8.3"
  }
 },
 "nbformat": 4,
 "nbformat_minor": 4
}
