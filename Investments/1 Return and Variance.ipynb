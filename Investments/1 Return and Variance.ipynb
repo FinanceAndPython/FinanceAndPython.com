{
 "cells": [
  {
   "cell_type": "code",
   "execution_count": 1,
   "metadata": {
    "collapsed": true
   },
   "outputs": [],
   "source": [
    "class stock:\n",
    "    def __init__(self,expectedReturn):\n",
    "        self.expectedReturn = expectedReturn"
   ]
  },
  {
   "cell_type": "code",
   "execution_count": 2,
   "metadata": {
    "collapsed": true
   },
   "outputs": [],
   "source": [
    "stocks = [stock(.04),stock(.02),stock(.03)]"
   ]
  },
  {
   "cell_type": "code",
   "execution_count": 3,
   "metadata": {
    "collapsed": true
   },
   "outputs": [],
   "source": [
    "investments = [10000,20000,5000]"
   ]
  },
  {
   "cell_type": "code",
   "execution_count": 4,
   "metadata": {},
   "outputs": [
    {
     "name": "stdout",
     "output_type": "stream",
     "text": [
      "[0.04, 0.02, 0.03]\n"
     ]
    }
   ],
   "source": [
    "print([x.expectedReturn for x in stocks])"
   ]
  },
  {
   "cell_type": "code",
   "execution_count": 5,
   "metadata": {},
   "outputs": [
    {
     "name": "stdout",
     "output_type": "stream",
     "text": [
      "0.04\n",
      "10000\n",
      "0.02\n",
      "20000\n",
      "0.03\n",
      "5000\n"
     ]
    }
   ],
   "source": [
    "for x,y in zip(stocks,investments):\n",
    "    print(x.expectedReturn)\n",
    "    print(y)"
   ]
  },
  {
   "cell_type": "code",
   "execution_count": 6,
   "metadata": {},
   "outputs": [
    {
     "data": {
      "text/plain": [
       "[400.0, 400.0, 150.0]"
      ]
     },
     "execution_count": 6,
     "metadata": {},
     "output_type": "execute_result"
    }
   ],
   "source": [
    "[x.expectedReturn * y for x,y in zip(stocks,investments)]"
   ]
  },
  {
   "cell_type": "code",
   "execution_count": 7,
   "metadata": {},
   "outputs": [
    {
     "data": {
      "text/plain": [
       "[10400.0, 20400.0, 5150.0]"
      ]
     },
     "execution_count": 7,
     "metadata": {},
     "output_type": "execute_result"
    }
   ],
   "source": [
    "[(x.expectedReturn+1) * y for x,y in zip(stocks,investments)]"
   ]
  },
  {
   "cell_type": "code",
   "execution_count": 8,
   "metadata": {},
   "outputs": [
    {
     "data": {
      "text/plain": [
       "0.027142857142857142"
      ]
     },
     "execution_count": 8,
     "metadata": {},
     "output_type": "execute_result"
    }
   ],
   "source": [
    "sum([x.expectedReturn * y for x,y in zip(stocks,investments)])/sum(investments)"
   ]
  },
  {
   "cell_type": "code",
   "execution_count": 9,
   "metadata": {},
   "outputs": [
    {
     "name": "stdout",
     "output_type": "stream",
     "text": [
      "0.027142857142857142\n"
     ]
    }
   ],
   "source": [
    "weights = [x/sum(investments) for x in investments]\n",
    "print(sum([x.expectedReturn * y for x,y in zip(stocks,weights)]))"
   ]
  },
  {
   "cell_type": "code",
   "execution_count": 10,
   "metadata": {},
   "outputs": [
    {
     "name": "stdout",
     "output_type": "stream",
     "text": [
      "Requirement already satisfied: pandas_datareader in /Library/Frameworks/Python.framework/Versions/2.7/lib/python2.7/site-packages\n",
      "Requirement already satisfied: requests>=2.3.0 in /Library/Frameworks/Python.framework/Versions/2.7/lib/python2.7/site-packages (from pandas_datareader)\n",
      "Requirement already satisfied: requests-ftp in /Library/Frameworks/Python.framework/Versions/2.7/lib/python2.7/site-packages (from pandas_datareader)\n",
      "Requirement already satisfied: requests-file in /Library/Frameworks/Python.framework/Versions/2.7/lib/python2.7/site-packages (from pandas_datareader)\n",
      "Requirement already satisfied: pandas>=0.17.0 in /Library/Frameworks/Python.framework/Versions/2.7/lib/python2.7/site-packages (from pandas_datareader)\n",
      "Requirement already satisfied: chardet<3.1.0,>=3.0.2 in /Library/Frameworks/Python.framework/Versions/2.7/lib/python2.7/site-packages (from requests>=2.3.0->pandas_datareader)\n",
      "Requirement already satisfied: certifi>=2017.4.17 in /Library/Frameworks/Python.framework/Versions/2.7/lib/python2.7/site-packages (from requests>=2.3.0->pandas_datareader)\n",
      "Requirement already satisfied: urllib3<1.23,>=1.21.1 in /Library/Frameworks/Python.framework/Versions/2.7/lib/python2.7/site-packages (from requests>=2.3.0->pandas_datareader)\n",
      "Requirement already satisfied: idna<2.7,>=2.5 in /Library/Frameworks/Python.framework/Versions/2.7/lib/python2.7/site-packages (from requests>=2.3.0->pandas_datareader)\n",
      "Requirement already satisfied: six in /Library/Frameworks/Python.framework/Versions/2.7/lib/python2.7/site-packages (from requests-file->pandas_datareader)\n",
      "Requirement already satisfied: numpy>=1.9.0 in /Library/Frameworks/Python.framework/Versions/2.7/lib/python2.7/site-packages (from pandas>=0.17.0->pandas_datareader)\n",
      "Requirement already satisfied: python-dateutil in /Library/Frameworks/Python.framework/Versions/2.7/lib/python2.7/site-packages (from pandas>=0.17.0->pandas_datareader)\n",
      "Requirement already satisfied: pytz>=2011k in /Library/Frameworks/Python.framework/Versions/2.7/lib/python2.7/site-packages (from pandas>=0.17.0->pandas_datareader)\n"
     ]
    }
   ],
   "source": [
    "!pip install pandas_datareader"
   ]
  },
  {
   "cell_type": "code",
   "execution_count": 11,
   "metadata": {},
   "outputs": [
    {
     "data": {
      "text/html": [
       "<div>\n",
       "<style scoped>\n",
       "    .dataframe tbody tr th:only-of-type {\n",
       "        vertical-align: middle;\n",
       "    }\n",
       "\n",
       "    .dataframe tbody tr th {\n",
       "        vertical-align: top;\n",
       "    }\n",
       "\n",
       "    .dataframe thead th {\n",
       "        text-align: right;\n",
       "    }\n",
       "</style>\n",
       "<table border=\"1\" class=\"dataframe\">\n",
       "  <thead>\n",
       "    <tr style=\"text-align: right;\">\n",
       "      <th></th>\n",
       "      <th>Open</th>\n",
       "      <th>High</th>\n",
       "      <th>Low</th>\n",
       "      <th>Close</th>\n",
       "      <th>Adj Close</th>\n",
       "      <th>Volume</th>\n",
       "    </tr>\n",
       "    <tr>\n",
       "      <th>Date</th>\n",
       "      <th></th>\n",
       "      <th></th>\n",
       "      <th></th>\n",
       "      <th></th>\n",
       "      <th></th>\n",
       "      <th></th>\n",
       "    </tr>\n",
       "  </thead>\n",
       "  <tbody>\n",
       "    <tr>\n",
       "      <th>2010-01-04</th>\n",
       "      <td>10.17</td>\n",
       "      <td>10.28</td>\n",
       "      <td>10.05</td>\n",
       "      <td>10.28</td>\n",
       "      <td>8.100866</td>\n",
       "      <td>60855800</td>\n",
       "    </tr>\n",
       "    <tr>\n",
       "      <th>2010-01-05</th>\n",
       "      <td>10.45</td>\n",
       "      <td>11.24</td>\n",
       "      <td>10.40</td>\n",
       "      <td>10.96</td>\n",
       "      <td>8.636724</td>\n",
       "      <td>215620200</td>\n",
       "    </tr>\n",
       "    <tr>\n",
       "      <th>2010-01-06</th>\n",
       "      <td>11.21</td>\n",
       "      <td>11.46</td>\n",
       "      <td>11.13</td>\n",
       "      <td>11.37</td>\n",
       "      <td>8.959811</td>\n",
       "      <td>200070600</td>\n",
       "    </tr>\n",
       "    <tr>\n",
       "      <th>2010-01-07</th>\n",
       "      <td>11.46</td>\n",
       "      <td>11.69</td>\n",
       "      <td>11.32</td>\n",
       "      <td>11.66</td>\n",
       "      <td>9.188335</td>\n",
       "      <td>130201700</td>\n",
       "    </tr>\n",
       "    <tr>\n",
       "      <th>2010-01-08</th>\n",
       "      <td>11.67</td>\n",
       "      <td>11.74</td>\n",
       "      <td>11.46</td>\n",
       "      <td>11.69</td>\n",
       "      <td>9.211980</td>\n",
       "      <td>130463000</td>\n",
       "    </tr>\n",
       "    <tr>\n",
       "      <th>2010-01-11</th>\n",
       "      <td>11.90</td>\n",
       "      <td>12.14</td>\n",
       "      <td>11.78</td>\n",
       "      <td>12.11</td>\n",
       "      <td>9.542947</td>\n",
       "      <td>170626200</td>\n",
       "    </tr>\n",
       "    <tr>\n",
       "      <th>2010-01-12</th>\n",
       "      <td>11.98</td>\n",
       "      <td>12.03</td>\n",
       "      <td>11.72</td>\n",
       "      <td>11.87</td>\n",
       "      <td>9.353823</td>\n",
       "      <td>162995900</td>\n",
       "    </tr>\n",
       "    <tr>\n",
       "      <th>2010-01-13</th>\n",
       "      <td>11.91</td>\n",
       "      <td>11.93</td>\n",
       "      <td>11.47</td>\n",
       "      <td>11.68</td>\n",
       "      <td>9.204099</td>\n",
       "      <td>154527100</td>\n",
       "    </tr>\n",
       "    <tr>\n",
       "      <th>2010-01-14</th>\n",
       "      <td>11.65</td>\n",
       "      <td>11.86</td>\n",
       "      <td>11.51</td>\n",
       "      <td>11.76</td>\n",
       "      <td>9.267142</td>\n",
       "      <td>116531200</td>\n",
       "    </tr>\n",
       "    <tr>\n",
       "      <th>2010-01-15</th>\n",
       "      <td>11.74</td>\n",
       "      <td>11.76</td>\n",
       "      <td>11.55</td>\n",
       "      <td>11.60</td>\n",
       "      <td>9.141056</td>\n",
       "      <td>96149800</td>\n",
       "    </tr>\n",
       "    <tr>\n",
       "      <th>2010-01-19</th>\n",
       "      <td>11.51</td>\n",
       "      <td>11.83</td>\n",
       "      <td>11.46</td>\n",
       "      <td>11.75</td>\n",
       "      <td>9.259260</td>\n",
       "      <td>65934000</td>\n",
       "    </tr>\n",
       "    <tr>\n",
       "      <th>2010-01-20</th>\n",
       "      <td>11.68</td>\n",
       "      <td>11.69</td>\n",
       "      <td>11.50</td>\n",
       "      <td>11.51</td>\n",
       "      <td>9.070133</td>\n",
       "      <td>71649500</td>\n",
       "    </tr>\n",
       "    <tr>\n",
       "      <th>2010-01-21</th>\n",
       "      <td>11.53</td>\n",
       "      <td>11.62</td>\n",
       "      <td>11.01</td>\n",
       "      <td>11.18</td>\n",
       "      <td>8.810086</td>\n",
       "      <td>121451400</td>\n",
       "    </tr>\n",
       "    <tr>\n",
       "      <th>2010-01-22</th>\n",
       "      <td>11.01</td>\n",
       "      <td>11.12</td>\n",
       "      <td>10.41</td>\n",
       "      <td>10.52</td>\n",
       "      <td>8.289990</td>\n",
       "      <td>161530100</td>\n",
       "    </tr>\n",
       "    <tr>\n",
       "      <th>2010-01-25</th>\n",
       "      <td>10.73</td>\n",
       "      <td>11.10</td>\n",
       "      <td>10.61</td>\n",
       "      <td>11.03</td>\n",
       "      <td>8.691883</td>\n",
       "      <td>121621500</td>\n",
       "    </tr>\n",
       "    <tr>\n",
       "      <th>2010-01-26</th>\n",
       "      <td>11.17</td>\n",
       "      <td>11.46</td>\n",
       "      <td>11.07</td>\n",
       "      <td>11.19</td>\n",
       "      <td>8.817967</td>\n",
       "      <td>108250500</td>\n",
       "    </tr>\n",
       "    <tr>\n",
       "      <th>2010-01-27</th>\n",
       "      <td>11.57</td>\n",
       "      <td>11.62</td>\n",
       "      <td>11.22</td>\n",
       "      <td>11.55</td>\n",
       "      <td>9.101653</td>\n",
       "      <td>105091600</td>\n",
       "    </tr>\n",
       "    <tr>\n",
       "      <th>2010-01-28</th>\n",
       "      <td>11.90</td>\n",
       "      <td>11.95</td>\n",
       "      <td>11.27</td>\n",
       "      <td>11.41</td>\n",
       "      <td>8.991328</td>\n",
       "      <td>203320000</td>\n",
       "    </tr>\n",
       "    <tr>\n",
       "      <th>2010-01-29</th>\n",
       "      <td>11.60</td>\n",
       "      <td>11.61</td>\n",
       "      <td>10.70</td>\n",
       "      <td>10.84</td>\n",
       "      <td>8.542161</td>\n",
       "      <td>159741200</td>\n",
       "    </tr>\n",
       "    <tr>\n",
       "      <th>2010-02-01</th>\n",
       "      <td>11.14</td>\n",
       "      <td>11.18</td>\n",
       "      <td>10.93</td>\n",
       "      <td>11.12</td>\n",
       "      <td>8.762806</td>\n",
       "      <td>82748200</td>\n",
       "    </tr>\n",
       "    <tr>\n",
       "      <th>2010-02-02</th>\n",
       "      <td>11.26</td>\n",
       "      <td>11.52</td>\n",
       "      <td>11.19</td>\n",
       "      <td>11.39</td>\n",
       "      <td>8.975571</td>\n",
       "      <td>119714900</td>\n",
       "    </tr>\n",
       "    <tr>\n",
       "      <th>2010-02-03</th>\n",
       "      <td>11.49</td>\n",
       "      <td>11.66</td>\n",
       "      <td>11.42</td>\n",
       "      <td>11.64</td>\n",
       "      <td>9.172575</td>\n",
       "      <td>90125500</td>\n",
       "    </tr>\n",
       "    <tr>\n",
       "      <th>2010-02-04</th>\n",
       "      <td>11.49</td>\n",
       "      <td>11.53</td>\n",
       "      <td>11.00</td>\n",
       "      <td>11.06</td>\n",
       "      <td>8.715526</td>\n",
       "      <td>129792200</td>\n",
       "    </tr>\n",
       "    <tr>\n",
       "      <th>2010-02-05</th>\n",
       "      <td>10.97</td>\n",
       "      <td>11.11</td>\n",
       "      <td>10.49</td>\n",
       "      <td>10.91</td>\n",
       "      <td>8.597323</td>\n",
       "      <td>181535200</td>\n",
       "    </tr>\n",
       "    <tr>\n",
       "      <th>2010-02-08</th>\n",
       "      <td>11.09</td>\n",
       "      <td>11.32</td>\n",
       "      <td>10.88</td>\n",
       "      <td>10.97</td>\n",
       "      <td>8.644605</td>\n",
       "      <td>92031400</td>\n",
       "    </tr>\n",
       "    <tr>\n",
       "      <th>2010-02-09</th>\n",
       "      <td>11.18</td>\n",
       "      <td>11.22</td>\n",
       "      <td>11.02</td>\n",
       "      <td>11.15</td>\n",
       "      <td>8.786447</td>\n",
       "      <td>83207100</td>\n",
       "    </tr>\n",
       "    <tr>\n",
       "      <th>2010-02-10</th>\n",
       "      <td>11.12</td>\n",
       "      <td>11.14</td>\n",
       "      <td>10.90</td>\n",
       "      <td>10.94</td>\n",
       "      <td>8.620962</td>\n",
       "      <td>73395600</td>\n",
       "    </tr>\n",
       "    <tr>\n",
       "      <th>2010-02-11</th>\n",
       "      <td>11.00</td>\n",
       "      <td>11.19</td>\n",
       "      <td>10.88</td>\n",
       "      <td>11.18</td>\n",
       "      <td>8.810086</td>\n",
       "      <td>65116200</td>\n",
       "    </tr>\n",
       "    <tr>\n",
       "      <th>2010-02-12</th>\n",
       "      <td>10.92</td>\n",
       "      <td>11.18</td>\n",
       "      <td>10.85</td>\n",
       "      <td>11.12</td>\n",
       "      <td>8.762806</td>\n",
       "      <td>69465400</td>\n",
       "    </tr>\n",
       "    <tr>\n",
       "      <th>2010-02-16</th>\n",
       "      <td>11.21</td>\n",
       "      <td>11.38</td>\n",
       "      <td>11.11</td>\n",
       "      <td>11.32</td>\n",
       "      <td>8.920410</td>\n",
       "      <td>62537500</td>\n",
       "    </tr>\n",
       "    <tr>\n",
       "      <th>...</th>\n",
       "      <td>...</td>\n",
       "      <td>...</td>\n",
       "      <td>...</td>\n",
       "      <td>...</td>\n",
       "      <td>...</td>\n",
       "      <td>...</td>\n",
       "    </tr>\n",
       "    <tr>\n",
       "      <th>2017-03-20</th>\n",
       "      <td>12.48</td>\n",
       "      <td>12.49</td>\n",
       "      <td>12.25</td>\n",
       "      <td>12.28</td>\n",
       "      <td>11.816341</td>\n",
       "      <td>45329700</td>\n",
       "    </tr>\n",
       "    <tr>\n",
       "      <th>2017-03-21</th>\n",
       "      <td>12.30</td>\n",
       "      <td>12.32</td>\n",
       "      <td>11.70</td>\n",
       "      <td>11.72</td>\n",
       "      <td>11.277486</td>\n",
       "      <td>101559900</td>\n",
       "    </tr>\n",
       "    <tr>\n",
       "      <th>2017-03-22</th>\n",
       "      <td>11.72</td>\n",
       "      <td>11.83</td>\n",
       "      <td>11.62</td>\n",
       "      <td>11.77</td>\n",
       "      <td>11.325597</td>\n",
       "      <td>71107900</td>\n",
       "    </tr>\n",
       "    <tr>\n",
       "      <th>2017-03-23</th>\n",
       "      <td>11.57</td>\n",
       "      <td>11.75</td>\n",
       "      <td>11.50</td>\n",
       "      <td>11.67</td>\n",
       "      <td>11.229373</td>\n",
       "      <td>71209300</td>\n",
       "    </tr>\n",
       "    <tr>\n",
       "      <th>2017-03-24</th>\n",
       "      <td>11.66</td>\n",
       "      <td>11.77</td>\n",
       "      <td>11.55</td>\n",
       "      <td>11.62</td>\n",
       "      <td>11.181261</td>\n",
       "      <td>43772400</td>\n",
       "    </tr>\n",
       "    <tr>\n",
       "      <th>2017-03-27</th>\n",
       "      <td>11.51</td>\n",
       "      <td>11.55</td>\n",
       "      <td>11.41</td>\n",
       "      <td>11.46</td>\n",
       "      <td>11.027302</td>\n",
       "      <td>57713400</td>\n",
       "    </tr>\n",
       "    <tr>\n",
       "      <th>2017-03-28</th>\n",
       "      <td>11.51</td>\n",
       "      <td>11.80</td>\n",
       "      <td>11.48</td>\n",
       "      <td>11.65</td>\n",
       "      <td>11.210128</td>\n",
       "      <td>57662800</td>\n",
       "    </tr>\n",
       "    <tr>\n",
       "      <th>2017-03-29</th>\n",
       "      <td>11.73</td>\n",
       "      <td>11.76</td>\n",
       "      <td>11.64</td>\n",
       "      <td>11.68</td>\n",
       "      <td>11.238996</td>\n",
       "      <td>35795700</td>\n",
       "    </tr>\n",
       "    <tr>\n",
       "      <th>2017-03-30</th>\n",
       "      <td>11.67</td>\n",
       "      <td>11.74</td>\n",
       "      <td>11.61</td>\n",
       "      <td>11.68</td>\n",
       "      <td>11.238996</td>\n",
       "      <td>28008200</td>\n",
       "    </tr>\n",
       "    <tr>\n",
       "      <th>2017-03-31</th>\n",
       "      <td>11.66</td>\n",
       "      <td>11.68</td>\n",
       "      <td>11.60</td>\n",
       "      <td>11.64</td>\n",
       "      <td>11.200506</td>\n",
       "      <td>26717500</td>\n",
       "    </tr>\n",
       "    <tr>\n",
       "      <th>2017-04-03</th>\n",
       "      <td>11.64</td>\n",
       "      <td>11.64</td>\n",
       "      <td>11.28</td>\n",
       "      <td>11.44</td>\n",
       "      <td>11.008057</td>\n",
       "      <td>65671100</td>\n",
       "    </tr>\n",
       "    <tr>\n",
       "      <th>2017-04-04</th>\n",
       "      <td>11.38</td>\n",
       "      <td>11.48</td>\n",
       "      <td>11.28</td>\n",
       "      <td>11.37</td>\n",
       "      <td>10.940701</td>\n",
       "      <td>40068200</td>\n",
       "    </tr>\n",
       "    <tr>\n",
       "      <th>2017-04-05</th>\n",
       "      <td>11.48</td>\n",
       "      <td>11.50</td>\n",
       "      <td>11.25</td>\n",
       "      <td>11.26</td>\n",
       "      <td>10.834854</td>\n",
       "      <td>43316100</td>\n",
       "    </tr>\n",
       "    <tr>\n",
       "      <th>2017-04-06</th>\n",
       "      <td>11.27</td>\n",
       "      <td>11.36</td>\n",
       "      <td>11.22</td>\n",
       "      <td>11.27</td>\n",
       "      <td>10.844477</td>\n",
       "      <td>36165300</td>\n",
       "    </tr>\n",
       "    <tr>\n",
       "      <th>2017-04-07</th>\n",
       "      <td>11.26</td>\n",
       "      <td>11.31</td>\n",
       "      <td>11.21</td>\n",
       "      <td>11.23</td>\n",
       "      <td>10.805985</td>\n",
       "      <td>28874900</td>\n",
       "    </tr>\n",
       "    <tr>\n",
       "      <th>2017-04-10</th>\n",
       "      <td>11.26</td>\n",
       "      <td>11.35</td>\n",
       "      <td>11.24</td>\n",
       "      <td>11.25</td>\n",
       "      <td>10.825231</td>\n",
       "      <td>25857100</td>\n",
       "    </tr>\n",
       "    <tr>\n",
       "      <th>2017-04-11</th>\n",
       "      <td>11.27</td>\n",
       "      <td>11.28</td>\n",
       "      <td>11.17</td>\n",
       "      <td>11.28</td>\n",
       "      <td>10.854098</td>\n",
       "      <td>36366300</td>\n",
       "    </tr>\n",
       "    <tr>\n",
       "      <th>2017-04-12</th>\n",
       "      <td>11.27</td>\n",
       "      <td>11.30</td>\n",
       "      <td>11.20</td>\n",
       "      <td>11.23</td>\n",
       "      <td>10.805985</td>\n",
       "      <td>56588400</td>\n",
       "    </tr>\n",
       "    <tr>\n",
       "      <th>2017-04-13</th>\n",
       "      <td>11.22</td>\n",
       "      <td>11.25</td>\n",
       "      <td>11.11</td>\n",
       "      <td>11.11</td>\n",
       "      <td>10.690516</td>\n",
       "      <td>32789900</td>\n",
       "    </tr>\n",
       "    <tr>\n",
       "      <th>2017-04-17</th>\n",
       "      <td>11.22</td>\n",
       "      <td>11.30</td>\n",
       "      <td>11.14</td>\n",
       "      <td>11.28</td>\n",
       "      <td>10.854098</td>\n",
       "      <td>44731700</td>\n",
       "    </tr>\n",
       "    <tr>\n",
       "      <th>2017-04-18</th>\n",
       "      <td>11.15</td>\n",
       "      <td>11.18</td>\n",
       "      <td>11.08</td>\n",
       "      <td>11.14</td>\n",
       "      <td>10.863851</td>\n",
       "      <td>35660000</td>\n",
       "    </tr>\n",
       "    <tr>\n",
       "      <th>2017-04-19</th>\n",
       "      <td>11.19</td>\n",
       "      <td>11.28</td>\n",
       "      <td>11.17</td>\n",
       "      <td>11.19</td>\n",
       "      <td>10.912611</td>\n",
       "      <td>37524400</td>\n",
       "    </tr>\n",
       "    <tr>\n",
       "      <th>2017-04-20</th>\n",
       "      <td>11.25</td>\n",
       "      <td>11.50</td>\n",
       "      <td>11.24</td>\n",
       "      <td>11.47</td>\n",
       "      <td>11.185670</td>\n",
       "      <td>49990200</td>\n",
       "    </tr>\n",
       "    <tr>\n",
       "      <th>2017-04-21</th>\n",
       "      <td>11.46</td>\n",
       "      <td>11.48</td>\n",
       "      <td>11.32</td>\n",
       "      <td>11.34</td>\n",
       "      <td>11.058892</td>\n",
       "      <td>26076200</td>\n",
       "    </tr>\n",
       "    <tr>\n",
       "      <th>2017-04-24</th>\n",
       "      <td>11.48</td>\n",
       "      <td>11.50</td>\n",
       "      <td>11.36</td>\n",
       "      <td>11.43</td>\n",
       "      <td>11.146662</td>\n",
       "      <td>41071300</td>\n",
       "    </tr>\n",
       "    <tr>\n",
       "      <th>2017-04-25</th>\n",
       "      <td>11.47</td>\n",
       "      <td>11.50</td>\n",
       "      <td>11.43</td>\n",
       "      <td>11.48</td>\n",
       "      <td>11.195421</td>\n",
       "      <td>35862500</td>\n",
       "    </tr>\n",
       "    <tr>\n",
       "      <th>2017-04-26</th>\n",
       "      <td>11.47</td>\n",
       "      <td>11.70</td>\n",
       "      <td>11.45</td>\n",
       "      <td>11.60</td>\n",
       "      <td>11.312448</td>\n",
       "      <td>51685800</td>\n",
       "    </tr>\n",
       "    <tr>\n",
       "      <th>2017-04-27</th>\n",
       "      <td>11.66</td>\n",
       "      <td>11.68</td>\n",
       "      <td>11.34</td>\n",
       "      <td>11.47</td>\n",
       "      <td>11.185670</td>\n",
       "      <td>50203700</td>\n",
       "    </tr>\n",
       "    <tr>\n",
       "      <th>2017-04-28</th>\n",
       "      <td>11.51</td>\n",
       "      <td>11.51</td>\n",
       "      <td>11.40</td>\n",
       "      <td>11.47</td>\n",
       "      <td>11.185670</td>\n",
       "      <td>41133000</td>\n",
       "    </tr>\n",
       "    <tr>\n",
       "      <th>2017-05-01</th>\n",
       "      <td>11.49</td>\n",
       "      <td>11.54</td>\n",
       "      <td>11.40</td>\n",
       "      <td>11.42</td>\n",
       "      <td>11.136909</td>\n",
       "      <td>32118400</td>\n",
       "    </tr>\n",
       "  </tbody>\n",
       "</table>\n",
       "<p>1844 rows × 6 columns</p>\n",
       "</div>"
      ],
      "text/plain": [
       "             Open   High    Low  Close  Adj Close     Volume\n",
       "Date                                                        \n",
       "2010-01-04  10.17  10.28  10.05  10.28   8.100866   60855800\n",
       "2010-01-05  10.45  11.24  10.40  10.96   8.636724  215620200\n",
       "2010-01-06  11.21  11.46  11.13  11.37   8.959811  200070600\n",
       "2010-01-07  11.46  11.69  11.32  11.66   9.188335  130201700\n",
       "2010-01-08  11.67  11.74  11.46  11.69   9.211980  130463000\n",
       "2010-01-11  11.90  12.14  11.78  12.11   9.542947  170626200\n",
       "2010-01-12  11.98  12.03  11.72  11.87   9.353823  162995900\n",
       "2010-01-13  11.91  11.93  11.47  11.68   9.204099  154527100\n",
       "2010-01-14  11.65  11.86  11.51  11.76   9.267142  116531200\n",
       "2010-01-15  11.74  11.76  11.55  11.60   9.141056   96149800\n",
       "2010-01-19  11.51  11.83  11.46  11.75   9.259260   65934000\n",
       "2010-01-20  11.68  11.69  11.50  11.51   9.070133   71649500\n",
       "2010-01-21  11.53  11.62  11.01  11.18   8.810086  121451400\n",
       "2010-01-22  11.01  11.12  10.41  10.52   8.289990  161530100\n",
       "2010-01-25  10.73  11.10  10.61  11.03   8.691883  121621500\n",
       "2010-01-26  11.17  11.46  11.07  11.19   8.817967  108250500\n",
       "2010-01-27  11.57  11.62  11.22  11.55   9.101653  105091600\n",
       "2010-01-28  11.90  11.95  11.27  11.41   8.991328  203320000\n",
       "2010-01-29  11.60  11.61  10.70  10.84   8.542161  159741200\n",
       "2010-02-01  11.14  11.18  10.93  11.12   8.762806   82748200\n",
       "2010-02-02  11.26  11.52  11.19  11.39   8.975571  119714900\n",
       "2010-02-03  11.49  11.66  11.42  11.64   9.172575   90125500\n",
       "2010-02-04  11.49  11.53  11.00  11.06   8.715526  129792200\n",
       "2010-02-05  10.97  11.11  10.49  10.91   8.597323  181535200\n",
       "2010-02-08  11.09  11.32  10.88  10.97   8.644605   92031400\n",
       "2010-02-09  11.18  11.22  11.02  11.15   8.786447   83207100\n",
       "2010-02-10  11.12  11.14  10.90  10.94   8.620962   73395600\n",
       "2010-02-11  11.00  11.19  10.88  11.18   8.810086   65116200\n",
       "2010-02-12  10.92  11.18  10.85  11.12   8.762806   69465400\n",
       "2010-02-16  11.21  11.38  11.11  11.32   8.920410   62537500\n",
       "...           ...    ...    ...    ...        ...        ...\n",
       "2017-03-20  12.48  12.49  12.25  12.28  11.816341   45329700\n",
       "2017-03-21  12.30  12.32  11.70  11.72  11.277486  101559900\n",
       "2017-03-22  11.72  11.83  11.62  11.77  11.325597   71107900\n",
       "2017-03-23  11.57  11.75  11.50  11.67  11.229373   71209300\n",
       "2017-03-24  11.66  11.77  11.55  11.62  11.181261   43772400\n",
       "2017-03-27  11.51  11.55  11.41  11.46  11.027302   57713400\n",
       "2017-03-28  11.51  11.80  11.48  11.65  11.210128   57662800\n",
       "2017-03-29  11.73  11.76  11.64  11.68  11.238996   35795700\n",
       "2017-03-30  11.67  11.74  11.61  11.68  11.238996   28008200\n",
       "2017-03-31  11.66  11.68  11.60  11.64  11.200506   26717500\n",
       "2017-04-03  11.64  11.64  11.28  11.44  11.008057   65671100\n",
       "2017-04-04  11.38  11.48  11.28  11.37  10.940701   40068200\n",
       "2017-04-05  11.48  11.50  11.25  11.26  10.834854   43316100\n",
       "2017-04-06  11.27  11.36  11.22  11.27  10.844477   36165300\n",
       "2017-04-07  11.26  11.31  11.21  11.23  10.805985   28874900\n",
       "2017-04-10  11.26  11.35  11.24  11.25  10.825231   25857100\n",
       "2017-04-11  11.27  11.28  11.17  11.28  10.854098   36366300\n",
       "2017-04-12  11.27  11.30  11.20  11.23  10.805985   56588400\n",
       "2017-04-13  11.22  11.25  11.11  11.11  10.690516   32789900\n",
       "2017-04-17  11.22  11.30  11.14  11.28  10.854098   44731700\n",
       "2017-04-18  11.15  11.18  11.08  11.14  10.863851   35660000\n",
       "2017-04-19  11.19  11.28  11.17  11.19  10.912611   37524400\n",
       "2017-04-20  11.25  11.50  11.24  11.47  11.185670   49990200\n",
       "2017-04-21  11.46  11.48  11.32  11.34  11.058892   26076200\n",
       "2017-04-24  11.48  11.50  11.36  11.43  11.146662   41071300\n",
       "2017-04-25  11.47  11.50  11.43  11.48  11.195421   35862500\n",
       "2017-04-26  11.47  11.70  11.45  11.60  11.312448   51685800\n",
       "2017-04-27  11.66  11.68  11.34  11.47  11.185670   50203700\n",
       "2017-04-28  11.51  11.51  11.40  11.47  11.185670   41133000\n",
       "2017-05-01  11.49  11.54  11.40  11.42  11.136909   32118400\n",
       "\n",
       "[1844 rows x 6 columns]"
      ]
     },
     "execution_count": 11,
     "metadata": {},
     "output_type": "execute_result"
    }
   ],
   "source": [
    "import pandas_datareader as pdr\n",
    "import datetime\n",
    "start = datetime.date(2010,1,1)\n",
    "end = datetime.date(2017,5,1)\n",
    "stock = pdr.get_data_yahoo('F',start,end)\n",
    "stock"
   ]
  },
  {
   "cell_type": "code",
   "execution_count": 12,
   "metadata": {},
   "outputs": [
    {
     "name": "stdout",
     "output_type": "stream",
     "text": [
      "Date\n",
      "2010-01-04     8.100866\n",
      "2010-01-05     8.636724\n",
      "2010-01-06     8.959811\n",
      "2010-01-07     9.188335\n",
      "2010-01-08     9.211980\n",
      "2010-01-11     9.542947\n",
      "2010-01-12     9.353823\n",
      "2010-01-13     9.204099\n",
      "2010-01-14     9.267142\n",
      "2010-01-15     9.141056\n",
      "2010-01-19     9.259260\n",
      "2010-01-20     9.070133\n",
      "2010-01-21     8.810086\n",
      "2010-01-22     8.289990\n",
      "2010-01-25     8.691883\n",
      "2010-01-26     8.817967\n",
      "2010-01-27     9.101653\n",
      "2010-01-28     8.991328\n",
      "2010-01-29     8.542161\n",
      "2010-02-01     8.762806\n",
      "2010-02-02     8.975571\n",
      "2010-02-03     9.172575\n",
      "2010-02-04     8.715526\n",
      "2010-02-05     8.597323\n",
      "2010-02-08     8.644605\n",
      "2010-02-09     8.786447\n",
      "2010-02-10     8.620962\n",
      "2010-02-11     8.810086\n",
      "2010-02-12     8.762806\n",
      "2010-02-16     8.920410\n",
      "                ...    \n",
      "2017-03-20    11.816341\n",
      "2017-03-21    11.277486\n",
      "2017-03-22    11.325597\n",
      "2017-03-23    11.229373\n",
      "2017-03-24    11.181261\n",
      "2017-03-27    11.027302\n",
      "2017-03-28    11.210128\n",
      "2017-03-29    11.238996\n",
      "2017-03-30    11.238996\n",
      "2017-03-31    11.200506\n",
      "2017-04-03    11.008057\n",
      "2017-04-04    10.940701\n",
      "2017-04-05    10.834854\n",
      "2017-04-06    10.844477\n",
      "2017-04-07    10.805985\n",
      "2017-04-10    10.825231\n",
      "2017-04-11    10.854098\n",
      "2017-04-12    10.805985\n",
      "2017-04-13    10.690516\n",
      "2017-04-17    10.854098\n",
      "2017-04-18    10.863851\n",
      "2017-04-19    10.912611\n",
      "2017-04-20    11.185670\n",
      "2017-04-21    11.058892\n",
      "2017-04-24    11.146662\n",
      "2017-04-25    11.195421\n",
      "2017-04-26    11.312448\n",
      "2017-04-27    11.185670\n",
      "2017-04-28    11.185670\n",
      "2017-05-01    11.136909\n",
      "Name: Adj Close, Length: 1844, dtype: float64\n"
     ]
    }
   ],
   "source": [
    "print(stock[\"Adj Close\"])"
   ]
  },
  {
   "cell_type": "code",
   "execution_count": 13,
   "metadata": {},
   "outputs": [
    {
     "name": "stdout",
     "output_type": "stream",
     "text": [
      "Date\n",
      "2010-01-04         NaN\n",
      "2010-01-05    0.066148\n",
      "2010-01-06    0.037409\n",
      "2010-01-07    0.025505\n",
      "2010-01-08    0.002573\n",
      "2010-01-11    0.035928\n",
      "2010-01-12   -0.019818\n",
      "2010-01-13   -0.016007\n",
      "2010-01-14    0.006849\n",
      "2010-01-15   -0.013606\n",
      "2010-01-19    0.012931\n",
      "2010-01-20   -0.020426\n",
      "2010-01-21   -0.028671\n",
      "2010-01-22   -0.059034\n",
      "2010-01-25    0.048479\n",
      "2010-01-26    0.014506\n",
      "2010-01-27    0.032171\n",
      "2010-01-28   -0.012121\n",
      "2010-01-29   -0.049956\n",
      "2010-02-01    0.025830\n",
      "2010-02-02    0.024280\n",
      "2010-02-03    0.021949\n",
      "2010-02-04   -0.049828\n",
      "2010-02-05   -0.013562\n",
      "2010-02-08    0.005500\n",
      "2010-02-09    0.016408\n",
      "2010-02-10   -0.018834\n",
      "2010-02-11    0.021938\n",
      "2010-02-12   -0.005367\n",
      "2010-02-16    0.017986\n",
      "                ...   \n",
      "2017-03-20   -0.016026\n",
      "2017-03-21   -0.045603\n",
      "2017-03-22    0.004266\n",
      "2017-03-23   -0.008496\n",
      "2017-03-24   -0.004284\n",
      "2017-03-27   -0.013769\n",
      "2017-03-28    0.016579\n",
      "2017-03-29    0.002575\n",
      "2017-03-30    0.000000\n",
      "2017-03-31   -0.003425\n",
      "2017-04-03   -0.017182\n",
      "2017-04-04   -0.006119\n",
      "2017-04-05   -0.009675\n",
      "2017-04-06    0.000888\n",
      "2017-04-07   -0.003549\n",
      "2017-04-10    0.001781\n",
      "2017-04-11    0.002667\n",
      "2017-04-12   -0.004433\n",
      "2017-04-13   -0.010686\n",
      "2017-04-17    0.015302\n",
      "2017-04-18    0.000899\n",
      "2017-04-19    0.004488\n",
      "2017-04-20    0.025022\n",
      "2017-04-21   -0.011334\n",
      "2017-04-24    0.007937\n",
      "2017-04-25    0.004374\n",
      "2017-04-26    0.010453\n",
      "2017-04-27   -0.011207\n",
      "2017-04-28    0.000000\n",
      "2017-05-01   -0.004359\n",
      "Name: Adj Close, Length: 1844, dtype: float64\n"
     ]
    }
   ],
   "source": [
    "print(stock[\"Adj Close\"].pct_change())"
   ]
  },
  {
   "cell_type": "code",
   "execution_count": 14,
   "metadata": {
    "collapsed": true
   },
   "outputs": [],
   "source": [
    "dailyReturns = stock[\"Adj Close\"].pct_change()"
   ]
  },
  {
   "cell_type": "code",
   "execution_count": 15,
   "metadata": {},
   "outputs": [
    {
     "name": "stdout",
     "output_type": "stream",
     "text": [
      "Date\n",
      "2010-01-05    0.066148\n",
      "2010-01-06    0.037409\n",
      "2010-01-07    0.025505\n",
      "2010-01-08    0.002573\n",
      "2010-01-11    0.035928\n",
      "2010-01-12   -0.019818\n",
      "2010-01-13   -0.016007\n",
      "2010-01-14    0.006849\n",
      "2010-01-15   -0.013606\n",
      "2010-01-19    0.012931\n",
      "2010-01-20   -0.020426\n",
      "2010-01-21   -0.028671\n",
      "2010-01-22   -0.059034\n",
      "2010-01-25    0.048479\n",
      "2010-01-26    0.014506\n",
      "2010-01-27    0.032171\n",
      "2010-01-28   -0.012121\n",
      "2010-01-29   -0.049956\n",
      "2010-02-01    0.025830\n",
      "2010-02-02    0.024280\n",
      "2010-02-03    0.021949\n",
      "2010-02-04   -0.049828\n",
      "2010-02-05   -0.013562\n",
      "2010-02-08    0.005500\n",
      "2010-02-09    0.016408\n",
      "2010-02-10   -0.018834\n",
      "2010-02-11    0.021938\n",
      "2010-02-12   -0.005367\n",
      "2010-02-16    0.017986\n",
      "2010-02-17    0.015018\n",
      "                ...   \n",
      "2017-03-20   -0.016026\n",
      "2017-03-21   -0.045603\n",
      "2017-03-22    0.004266\n",
      "2017-03-23   -0.008496\n",
      "2017-03-24   -0.004284\n",
      "2017-03-27   -0.013769\n",
      "2017-03-28    0.016579\n",
      "2017-03-29    0.002575\n",
      "2017-03-30    0.000000\n",
      "2017-03-31   -0.003425\n",
      "2017-04-03   -0.017182\n",
      "2017-04-04   -0.006119\n",
      "2017-04-05   -0.009675\n",
      "2017-04-06    0.000888\n",
      "2017-04-07   -0.003549\n",
      "2017-04-10    0.001781\n",
      "2017-04-11    0.002667\n",
      "2017-04-12   -0.004433\n",
      "2017-04-13   -0.010686\n",
      "2017-04-17    0.015302\n",
      "2017-04-18    0.000899\n",
      "2017-04-19    0.004488\n",
      "2017-04-20    0.025022\n",
      "2017-04-21   -0.011334\n",
      "2017-04-24    0.007937\n",
      "2017-04-25    0.004374\n",
      "2017-04-26    0.010453\n",
      "2017-04-27   -0.011207\n",
      "2017-04-28    0.000000\n",
      "2017-05-01   -0.004359\n",
      "Name: Adj Close, Length: 1843, dtype: float64\n"
     ]
    }
   ],
   "source": [
    "dailyReturns = dailyReturns.dropna()\n",
    "print(dailyReturns)"
   ]
  },
  {
   "cell_type": "code",
   "execution_count": 16,
   "metadata": {},
   "outputs": [
    {
     "name": "stdout",
     "output_type": "stream",
     "text": [
      "0.01801302013120101\n",
      "0.0003244688942470529\n"
     ]
    }
   ],
   "source": [
    "import numpy as np\n",
    "print(np.std(dailyReturns, ddof=1))\n",
    "print(np.var(dailyReturns, ddof=1))"
   ]
  },
  {
   "cell_type": "code",
   "execution_count": 17,
   "metadata": {},
   "outputs": [
    {
     "name": "stdout",
     "output_type": "stream",
     "text": [
      "0.01801302013120101\n",
      "0.01801302013120101\n"
     ]
    }
   ],
   "source": [
    "print(np.std(dailyReturns, ddof=1))\n",
    "print(np.var(dailyReturns, ddof=1)**.5)"
   ]
  },
  {
   "cell_type": "code",
   "execution_count": 18,
   "metadata": {},
   "outputs": [
    {
     "name": "stdout",
     "output_type": "stream",
     "text": [
      "0.000335531255262394\n"
     ]
    }
   ],
   "source": [
    "print(np.mean(dailyReturns))"
   ]
  },
  {
   "cell_type": "code",
   "execution_count": 19,
   "metadata": {},
   "outputs": [
    {
     "data": {
      "image/png": "[encoded data removed]",
      "text/plain": [
       "<matplotlib.figure.Figure at 0x112691b00>"
      ]
     },
     "metadata": {},
     "output_type": "display_data"
    }
   ],
   "source": [
    "import matplotlib.pyplot as plt\n",
    "dailyReturns.plot.hist()\n",
    "plt.show()"
   ]
  },
  {
   "cell_type": "code",
   "execution_count": 20,
   "metadata": {},
   "outputs": [
    {
     "data": {
      "image/png": "[encoded data removed]",
      "text/plain": [
       "<matplotlib.figure.Figure at 0x10b73eb70>"
      ]
     },
     "metadata": {},
     "output_type": "display_data"
    },
    {
     "data": {
      "image/png": "[encoded data removed]",
      "text/plain": [
       "<matplotlib.figure.Figure at 0x112763080>"
      ]
     },
     "metadata": {},
     "output_type": "display_data"
    }
   ],
   "source": [
    "import matplotlib.pyplot as plt\n",
    "dailyReturns.plot.hist(bins=20)\n",
    "plt.show()\n",
    "import matplotlib.pyplot as plt\n",
    "dailyReturns.plot.hist(bins=50)\n",
    "plt.show()"
   ]
  },
  {
   "cell_type": "code",
   "execution_count": 21,
   "metadata": {
    "collapsed": true
   },
   "outputs": [],
   "source": [
    "ford = pdr.get_data_yahoo(\"F\", start, end)[\"Adj Close\"].pct_change().dropna()\n",
    "honda = pdr.get_data_yahoo(\"HMC\", start, end)[\"Adj Close\"].pct_change().dropna()\n",
    "toyota = pdr.get_data_yahoo(\"TM\", start, end)[\"Adj Close\"].pct_change().dropna()"
   ]
  },
  {
   "cell_type": "code",
   "execution_count": 22,
   "metadata": {},
   "outputs": [
    {
     "name": "stdout",
     "output_type": "stream",
     "text": [
      "[[ 0.00032447  0.00011716  0.00010744]\n",
      " [ 0.00011716  0.00023024  0.00014691]\n",
      " [ 0.00010744  0.00014691  0.00019199]]\n"
     ]
    }
   ],
   "source": [
    "matrix = np.cov([ford,honda,toyota])\n",
    "print(matrix)"
   ]
  },
  {
   "cell_type": "code",
   "execution_count": 23,
   "metadata": {},
   "outputs": [
    {
     "name": "stdout",
     "output_type": "stream",
     "text": [
      "[[ 1.          0.42865289]\n",
      " [ 0.42865289  1.        ]]\n"
     ]
    }
   ],
   "source": [
    "print(np.corrcoef(ford,honda))"
   ]
  },
  {
   "cell_type": "code",
   "execution_count": 24,
   "metadata": {},
   "outputs": [
    {
     "name": "stdout",
     "output_type": "stream",
     "text": [
      "0.428652886804\n"
     ]
    }
   ],
   "source": [
    "fordSD = matrix[0][0]**.5\n",
    "hondaSD = matrix[1][1]**.5\n",
    "cov = matrix[0][1]\n",
    "\n",
    "print(cov/(fordSD*hondaSD))"
   ]
  },
  {
   "cell_type": "code",
   "execution_count": 25,
   "metadata": {
    "collapsed": true
   },
   "outputs": [],
   "source": [
    "start = datetime.date(2015,1,1)\n",
    "end = datetime.date(2016,1,1)\n",
    "ford = pdr.get_data_yahoo(\"F\", start, end)[\"Adj Close\"]\n",
    "honda = pdr.get_data_yahoo(\"HMC\", start, end)[\"Adj Close\"]\n",
    "toyota = pdr.get_data_yahoo(\"TM\", start, end)[\"Adj Close\"]"
   ]
  },
  {
   "cell_type": "code",
   "execution_count": 26,
   "metadata": {},
   "outputs": [
    {
     "name": "stdout",
     "output_type": "stream",
     "text": [
      "Date\n",
      "2015-01-02    13.06631\n",
      "Name: Adj Close, dtype: float64\n",
      "Date\n",
      "2015-12-31    12.472959\n",
      "Name: Adj Close, dtype: float64\n"
     ]
    }
   ],
   "source": [
    "print(ford.first('1D'))\n",
    "print(ford.last('1D'))"
   ]
  },
  {
   "cell_type": "code",
   "execution_count": 27,
   "metadata": {},
   "outputs": [
    {
     "name": "stdout",
     "output_type": "stream",
     "text": [
      "[ 13.06631]\n"
     ]
    }
   ],
   "source": [
    "print(ford.first('1D').values)"
   ]
  },
  {
   "cell_type": "code",
   "execution_count": 28,
   "metadata": {},
   "outputs": [
    {
     "name": "stdout",
     "output_type": "stream",
     "text": [
      "[ 0.95458925]\n"
     ]
    }
   ],
   "source": [
    "print(ford.last('1D').values/ford.first('1D').values)"
   ]
  },
  {
   "cell_type": "code",
   "execution_count": 29,
   "metadata": {
    "collapsed": true
   },
   "outputs": [],
   "source": [
    "retFord = (ford.last('1D').values/ford.first('1D').values)[0]-1\n",
    "retToyota = (toyota.last('1D').values/toyota.first('1D').values)[0]-1"
   ]
  },
  {
   "cell_type": "code",
   "execution_count": 30,
   "metadata": {},
   "outputs": [
    {
     "name": "stdout",
     "output_type": "stream",
     "text": [
      "-0.00881781631403\n"
     ]
    }
   ],
   "source": [
    "print(retFord*.3+retToyota*.7)"
   ]
  },
  {
   "cell_type": "code",
   "execution_count": 31,
   "metadata": {
    "collapsed": true
   },
   "outputs": [],
   "source": [
    "fordStocks = 3000/ford.first('1D').values[0]\n",
    "toyotaStocks = 7000/toyota.first('1D').values[0]"
   ]
  },
  {
   "cell_type": "code",
   "execution_count": 32,
   "metadata": {},
   "outputs": [
    {
     "name": "stdout",
     "output_type": "stream",
     "text": [
      "2863.7677355\n",
      "7048.05410136\n"
     ]
    }
   ],
   "source": [
    "print(fordStocks*ford.last('1D').values[0])\n",
    "print(toyotaStocks*toyota.last('1D').values[0])"
   ]
  },
  {
   "cell_type": "code",
   "execution_count": 33,
   "metadata": {},
   "outputs": [
    {
     "name": "stdout",
     "output_type": "stream",
     "text": [
      "-0.00881781631403\n"
     ]
    }
   ],
   "source": [
    "print(((fordStocks*ford.last('1D').values[0]+toyotaStocks*toyota.last('1D').values[0])/10000)-1)"
   ]
  },
  {
   "cell_type": "code",
   "execution_count": 34,
   "metadata": {},
   "outputs": [
    {
     "name": "stdout",
     "output_type": "stream",
     "text": [
      "                 Ford      Toyota\n",
      "Date                             \n",
      "2015-01-02  13.066310  118.139427\n",
      "2015-01-05  12.555905  115.977257\n",
      "2015-01-06  12.436813  114.783340\n",
      "2015-01-07  12.794093  117.669380\n",
      "2015-01-08  13.117348  119.934975\n",
      "2015-01-09  12.938708  118.524857\n",
      "2015-01-12  12.947216  118.487259\n",
      "2015-01-13  12.938708  118.835083\n",
      "2015-01-14  12.853642  118.280434\n",
      "2015-01-15  12.640973  119.182907\n",
      "2015-01-16  12.777081  121.157074\n",
      "2015-01-20  12.768573  121.420296\n",
      "2015-01-21  12.734546  120.950264\n",
      "2015-01-22  12.785588  122.078354\n",
      "2015-01-23  12.683506  121.890327\n",
      "2015-01-26  12.828120  123.958496\n",
      "2015-01-27  12.632466  123.244049\n",
      "2015-01-28  12.426223  123.103020\n",
      "2015-01-29  12.761371  124.231125\n",
      "2015-01-30  12.641061  121.128876\n",
      "2015-02-02  13.122296  123.234627\n",
      "2015-02-03  13.448850  123.244049\n",
      "2015-02-04  13.637907  124.729355\n",
      "2015-02-05  13.620722  123.845703\n",
      "2015-02-06  13.629312  121.805733\n",
      "2015-02-09  13.680876  121.420296\n",
      "2015-02-10  13.826965  123.009033\n",
      "2015-02-11  13.964459  123.168839\n",
      "2015-02-12  14.058991  123.920906\n",
      "2015-02-13  14.007427  124.550758\n",
      "...               ...         ...\n",
      "2015-11-18  12.800496  120.758286\n",
      "2015-11-19  12.897873  119.772186\n",
      "2015-11-20  12.924429  119.559502\n",
      "2015-11-23  12.880167  119.027786\n",
      "2015-11-24  12.880167  119.897865\n",
      "2015-11-25  12.880167  119.743187\n",
      "2015-11-27  12.862462  120.236244\n",
      "2015-11-30  12.685414  120.284569\n",
      "2015-12-01  12.889019  121.734711\n",
      "2015-12-02  12.623448  121.560699\n",
      "2015-12-03  12.375582  120.574600\n",
      "2015-12-04  12.570333  121.715385\n",
      "2015-12-07  12.499516  120.990311\n",
      "2015-12-08  12.366731  118.447723\n",
      "2015-12-09  12.295913  119.781860\n",
      "2015-12-10  12.357880  120.738953\n",
      "2015-12-11  12.074605  119.559502\n",
      "2015-12-14  12.056899  118.428391\n",
      "2015-12-15  12.278207  118.109360\n",
      "2015-12-16  12.711970  122.450127\n",
      "2015-12-17  12.375582  120.651947\n",
      "2015-12-18  12.216241  120.255569\n",
      "2015-12-21  12.154275  120.506927\n",
      "2015-12-22  12.570333  121.406013\n",
      "2015-12-23  12.711970  122.923836\n",
      "2015-12-24  12.667711  121.589699\n",
      "2015-12-28  12.552629  120.332916\n",
      "2015-12-29  12.596891  120.613274\n",
      "2015-12-30  12.543777  119.124458\n",
      "2015-12-31  12.472959  118.950439\n",
      "\n",
      "[252 rows x 2 columns]\n"
     ]
    }
   ],
   "source": [
    "import pandas as pd\n",
    "ford = ford.rename(\"Ford\")\n",
    "toyota = toyota.rename(\"Toyota\")\n",
    "stocks = pd.concat([ford,toyota],axis=1)\n",
    "print(stocks)"
   ]
  },
  {
   "cell_type": "code",
   "execution_count": 35,
   "metadata": {},
   "outputs": [
    {
     "name": "stdout",
     "output_type": "stream",
     "text": [
      "Ford       13.066310\n",
      "Toyota    118.139427\n",
      "Name: 2015-01-02 00:00:00, dtype: float64\n"
     ]
    }
   ],
   "source": [
    "print(stocks.iloc[0,:])"
   ]
  },
  {
   "cell_type": "code",
   "execution_count": 36,
   "metadata": {},
   "outputs": [
    {
     "name": "stdout",
     "output_type": "stream",
     "text": [
      "                Ford    Toyota\n",
      "Date                          \n",
      "2015-01-02  1.000000  1.000000\n",
      "2015-01-05  0.960937  0.981698\n",
      "2015-01-06  0.951823  0.971592\n",
      "2015-01-07  0.979166  0.996021\n",
      "2015-01-08  1.003906  1.015199\n",
      "2015-01-09  0.990234  1.003263\n",
      "2015-01-12  0.990885  1.002944\n",
      "2015-01-13  0.990234  1.005888\n",
      "2015-01-14  0.983724  1.001194\n",
      "2015-01-15  0.967448  1.008833\n",
      "2015-01-16  0.977865  1.025543\n",
      "2015-01-20  0.977213  1.027771\n",
      "2015-01-21  0.974609  1.023793\n",
      "2015-01-22  0.978516  1.033341\n",
      "2015-01-23  0.970703  1.031750\n",
      "2015-01-26  0.981771  1.049256\n",
      "2015-01-27  0.966797  1.043208\n",
      "2015-01-28  0.951012  1.042015\n",
      "2015-01-29  0.976662  1.051564\n",
      "2015-01-30  0.967455  1.025304\n",
      "2015-02-02  1.004285  1.043129\n",
      "2015-02-03  1.029277  1.043208\n",
      "2015-02-04  1.043746  1.055781\n",
      "2015-02-05  1.042431  1.048301\n",
      "2015-02-06  1.043088  1.031034\n",
      "2015-02-09  1.047034  1.027771\n",
      "2015-02-10  1.058215  1.041219\n",
      "2015-02-11  1.068738  1.042572\n",
      "2015-02-12  1.075973  1.048938\n",
      "2015-02-13  1.072026  1.054269\n",
      "...              ...       ...\n",
      "2015-11-18  0.979657  1.022168\n",
      "2015-11-19  0.987109  1.013821\n",
      "2015-11-20  0.989141  1.012020\n",
      "2015-11-23  0.985754  1.007520\n",
      "2015-11-24  0.985754  1.014884\n",
      "2015-11-25  0.985754  1.013575\n",
      "2015-11-27  0.984399  1.017749\n",
      "2015-11-30  0.970849  1.018158\n",
      "2015-12-01  0.986431  1.030433\n",
      "2015-12-02  0.966107  1.028960\n",
      "2015-12-03  0.947137  1.020613\n",
      "2015-12-04  0.962042  1.030269\n",
      "2015-12-07  0.956622  1.024132\n",
      "2015-12-08  0.946459  1.002610\n",
      "2015-12-09  0.941039  1.013902\n",
      "2015-12-10  0.945782  1.022004\n",
      "2015-12-11  0.924102  1.012020\n",
      "2015-12-14  0.922747  1.002446\n",
      "2015-12-15  0.939684  0.999745\n",
      "2015-12-16  0.972881  1.036488\n",
      "2015-12-17  0.947137  1.021267\n",
      "2015-12-18  0.934942  1.017912\n",
      "2015-12-21  0.930199  1.020040\n",
      "2015-12-22  0.962042  1.027650\n",
      "2015-12-23  0.972881  1.040498\n",
      "2015-12-24  0.969494  1.029205\n",
      "2015-12-28  0.960687  1.018567\n",
      "2015-12-29  0.964074  1.020940\n",
      "2015-12-30  0.960009  1.008338\n",
      "2015-12-31  0.954589  1.006865\n",
      "\n",
      "[252 rows x 2 columns]\n"
     ]
    }
   ],
   "source": [
    "print(stocks/stocks.iloc[0,:])"
   ]
  },
  {
   "cell_type": "code",
   "execution_count": 37,
   "metadata": {},
   "outputs": [
    {
     "name": "stdout",
     "output_type": "stream",
     "text": [
      "                   Ford       Toyota\n",
      "Date                                \n",
      "2015-01-02  3000.000000  7000.000000\n",
      "2015-01-05  2882.811980  6871.887054\n",
      "2015-01-06  2855.468682  6801.145057\n",
      "2015-01-07  2937.499493  6972.148765\n",
      "2015-01-08  3011.718228  7106.389851\n",
      "2015-01-09  2970.702823  7022.837507\n",
      "2015-01-12  2972.656243  7020.609750\n",
      "2015-01-13  2970.702823  7041.219025\n",
      "2015-01-14  2951.171830  7008.354950\n",
      "2015-01-15  2902.343431  7061.828301\n",
      "2015-01-16  2933.593570  7178.801688\n",
      "2015-01-20  2931.640149  7194.398124\n",
      "2015-01-21  2923.827615  7166.547777\n",
      "2015-01-22  2935.546761  7233.389392\n",
      "2015-01-23  2912.108927  7222.248412\n",
      "2015-01-26  2945.312028  7344.791608\n",
      "2015-01-27  2900.390240  7302.459178\n",
      "2015-01-28  2853.037239  7294.102925\n",
      "2015-01-29  2929.986584  7360.945428\n",
      "2015-01-30  2902.363636  7177.130900\n",
      "2015-02-02  3012.854279  7301.900906\n",
      "2015-02-03  3087.830459  7302.459178\n",
      "2015-02-04  3131.237587  7390.466563\n",
      "2015-02-05  3127.291944  7338.108395\n",
      "2015-02-06  3129.264192  7217.236046\n",
      "2015-02-09  3141.103188  7194.398124\n",
      "2015-02-10  3174.644946  7288.534005\n",
      "2015-02-11  3206.213307  7298.002834\n",
      "2015-02-12  3227.917675  7342.564324\n",
      "2015-02-13  3216.078679  7379.884329\n",
      "...                 ...          ...\n",
      "2015-11-18  2938.969610  7155.172693\n",
      "2015-11-19  2961.327184  7096.744273\n",
      "2015-11-20  2967.424391  7084.142316\n",
      "2015-11-23  2957.261920  7052.637068\n",
      "2015-11-24  2957.261920  7104.191008\n",
      "2015-11-25  2957.261920  7095.026024\n",
      "2015-11-27  2953.196886  7124.240648\n",
      "2015-11-30  2912.547001  7127.104002\n",
      "2015-12-01  2959.294323  7213.027849\n",
      "2015-12-02  2898.319725  7202.717286\n",
      "2015-12-03  2841.410161  7144.288926\n",
      "2015-12-04  2886.124621  7211.882744\n",
      "2015-12-07  2869.865172  7168.920643\n",
      "2015-12-08  2839.377988  7018.267162\n",
      "2015-12-09  2823.118310  7097.317477\n",
      "2015-12-10  2837.345815  7154.027173\n",
      "2015-12-11  2772.306412  7084.142316\n",
      "2015-12-14  2768.241148  7017.121701\n",
      "2015-12-15  2819.053046  6998.218469\n",
      "2015-12-16  2918.644208  7255.417694\n",
      "2015-12-17  2841.410161  7148.871892\n",
      "2015-12-18  2804.825769  7125.385694\n",
      "2015-12-21  2790.598493  7140.279164\n",
      "2015-12-22  2886.124621  7193.551828\n",
      "2015-12-23  2918.644208  7283.485910\n",
      "2015-12-24  2908.482425  7204.435595\n",
      "2015-12-28  2882.059816  7129.968660\n",
      "2015-12-29  2892.222288  7146.580438\n",
      "2015-12-30  2880.027414  7058.365079\n",
      "2015-12-31  2863.767735  7048.054101\n",
      "\n",
      "[252 rows x 2 columns]\n"
     ]
    }
   ],
   "source": [
    "print(stocks/stocks.iloc[0,:]*[3000,7000])"
   ]
  },
  {
   "cell_type": "code",
   "execution_count": 38,
   "metadata": {},
   "outputs": [
    {
     "name": "stdout",
     "output_type": "stream",
     "text": [
      "                   Ford       Toyota     Portfolio\n",
      "Date                                              \n",
      "2015-01-02  3000.000000  7000.000000  10000.000000\n",
      "2015-01-05  2882.811980  6871.887054   9754.699034\n",
      "2015-01-06  2855.468682  6801.145057   9656.613740\n",
      "2015-01-07  2937.499493  6972.148765   9909.648257\n",
      "2015-01-08  3011.718228  7106.389851  10118.108079\n",
      "2015-01-09  2970.702823  7022.837507   9993.540330\n",
      "2015-01-12  2972.656243  7020.609750   9993.265993\n",
      "2015-01-13  2970.702823  7041.219025  10011.921848\n",
      "2015-01-14  2951.171830  7008.354950   9959.526780\n",
      "2015-01-15  2902.343431  7061.828301   9964.171732\n",
      "2015-01-16  2933.593570  7178.801688  10112.395258\n",
      "2015-01-20  2931.640149  7194.398124  10126.038274\n",
      "2015-01-21  2923.827615  7166.547777  10090.375392\n",
      "2015-01-22  2935.546761  7233.389392  10168.936153\n",
      "2015-01-23  2912.108927  7222.248412  10134.357339\n",
      "2015-01-26  2945.312028  7344.791608  10290.103636\n",
      "2015-01-27  2900.390240  7302.459178  10202.849418\n",
      "2015-01-28  2853.037239  7294.102925  10147.140163\n",
      "2015-01-29  2929.986584  7360.945428  10290.932011\n",
      "2015-01-30  2902.363636  7177.130900  10079.494536\n",
      "2015-02-02  3012.854279  7301.900906  10314.755185\n",
      "2015-02-03  3087.830459  7302.459178  10390.289637\n",
      "2015-02-04  3131.237587  7390.466563  10521.704150\n",
      "2015-02-05  3127.291944  7338.108395  10465.400339\n",
      "2015-02-06  3129.264192  7217.236046  10346.500238\n",
      "2015-02-09  3141.103188  7194.398124  10335.501312\n",
      "2015-02-10  3174.644946  7288.534005  10463.178950\n",
      "2015-02-11  3206.213307  7298.002834  10504.216141\n",
      "2015-02-12  3227.917675  7342.564324  10570.482000\n",
      "2015-02-13  3216.078679  7379.884329  10595.963008\n",
      "...                 ...          ...           ...\n",
      "2015-11-18  2938.969610  7155.172693  10094.142302\n",
      "2015-11-19  2961.327184  7096.744273  10058.071457\n",
      "2015-11-20  2967.424391  7084.142316  10051.566707\n",
      "2015-11-23  2957.261920  7052.637068  10009.898988\n",
      "2015-11-24  2957.261920  7104.191008  10061.452928\n",
      "2015-11-25  2957.261920  7095.026024  10052.287944\n",
      "2015-11-27  2953.196886  7124.240648  10077.437534\n",
      "2015-11-30  2912.547001  7127.104002  10039.651003\n",
      "2015-12-01  2959.294323  7213.027849  10172.322171\n",
      "2015-12-02  2898.319725  7202.717286  10101.037010\n",
      "2015-12-03  2841.410161  7144.288926   9985.699087\n",
      "2015-12-04  2886.124621  7211.882744  10098.007366\n",
      "2015-12-07  2869.865172  7168.920643  10038.785816\n",
      "2015-12-08  2839.377988  7018.267162   9857.645150\n",
      "2015-12-09  2823.118310  7097.317477   9920.435787\n",
      "2015-12-10  2837.345815  7154.027173   9991.372989\n",
      "2015-12-11  2772.306412  7084.142316   9856.448728\n",
      "2015-12-14  2768.241148  7017.121701   9785.362850\n",
      "2015-12-15  2819.053046  6998.218469   9817.271515\n",
      "2015-12-16  2918.644208  7255.417694  10174.061902\n",
      "2015-12-17  2841.410161  7148.871892   9990.282053\n",
      "2015-12-18  2804.825769  7125.385694   9930.211463\n",
      "2015-12-21  2790.598493  7140.279164   9930.877657\n",
      "2015-12-22  2886.124621  7193.551828  10079.676449\n",
      "2015-12-23  2918.644208  7283.485910  10202.130118\n",
      "2015-12-24  2908.482425  7204.435595  10112.918020\n",
      "2015-12-28  2882.059816  7129.968660  10012.028476\n",
      "2015-12-29  2892.222288  7146.580438  10038.802726\n",
      "2015-12-30  2880.027414  7058.365079   9938.392493\n",
      "2015-12-31  2863.767735  7048.054101   9911.821837\n",
      "\n",
      "[252 rows x 3 columns]\n"
     ]
    }
   ],
   "source": [
    "stocks = stocks/stocks.iloc[0,:]*[3000,7000]\n",
    "stocks[\"Portfolio\"]=stocks[\"Ford\"]+stocks[\"Toyota\"]\n",
    "print(stocks)"
   ]
  },
  {
   "cell_type": "code",
   "execution_count": 39,
   "metadata": {},
   "outputs": [
    {
     "data": {
      "image/png": "[encoded data removed]",
      "text/plain": [
       "<matplotlib.figure.Figure at 0x1128aaef0>"
      ]
     },
     "metadata": {},
     "output_type": "display_data"
    }
   ],
   "source": [
    "stocks.plot.line()\n",
    "plt.gca().set_ylim(bottom=0)\n",
    "plt.show()"
   ]
  },
  {
   "cell_type": "code",
   "execution_count": 40,
   "metadata": {
    "collapsed": true
   },
   "outputs": [],
   "source": [
    "stocks = stocks.pct_change()\n",
    "stocks = stocks.dropna()"
   ]
  },
  {
   "cell_type": "code",
   "execution_count": 41,
   "metadata": {},
   "outputs": [
    {
     "name": "stdout",
     "output_type": "stream",
     "text": [
      "0.01190630043823396\n",
      "0.0118922798987\n"
     ]
    }
   ],
   "source": [
    "print(np.var(stocks[\"Portfolio\"],ddof=1)**.5)\n",
    "var1 = np.var(stocks[\"Ford\"],ddof=1)\n",
    "var2 = np.var(stocks[\"Toyota\"],ddof=1)\n",
    "cov = np.cov(stocks[\"Ford\"],stocks[\"Toyota\"])[0][1]\n",
    "w1=.3\n",
    "w2=.7\n",
    "print((w1**2*var1+w2**2*var2+2*w1*w2*cov)**.5)"
   ]
  }
 ],
 "metadata": {
  "kernelspec": {
   "display_name": "Python 3",
   "language": "python",
   "name": "python3"
  },
  "language_info": {
   "codemirror_mode": {
    "name": "ipython",
    "version": 3
   },
   "file_extension": ".py",
   "mimetype": "text/x-python",
   "name": "python",
   "nbconvert_exporter": "python",
   "pygments_lexer": "ipython3",
   "version": "3.6.1"
  }
 },
 "nbformat": 4,
 "nbformat_minor": 2
}
