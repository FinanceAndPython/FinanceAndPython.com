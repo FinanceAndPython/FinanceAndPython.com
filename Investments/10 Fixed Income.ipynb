{
 "cells": [
  {
   "cell_type": "code",
   "execution_count": 1,
   "metadata": {},
   "outputs": [
    {
     "data": {
      "text/plain": [
       "0.019999999999048713"
      ]
     },
     "execution_count": 1,
     "metadata": {},
     "output_type": "execute_result"
    }
   ],
   "source": [
    "from scipy.optimize import fsolve\n",
    "def value(r,price,fv,year,cr):\n",
    "    final_pay = fv/(1+r)**year\n",
    "    coupon_payment = (fv*cr)\n",
    "    annuity_value = coupon_payment*(1-(1+r)**(-year))/r\n",
    "    return annuity_value+final_pay-price\n",
    "def findYield(price,fv,year,cr):\n",
    "    return fsolve(value, cr,(price,fv,year,cr))[0]\n",
    "findYield(1141.40378526,1000,5,.05)"
   ]
  },
  {
   "cell_type": "code",
   "execution_count": 2,
   "metadata": {},
   "outputs": [
    {
     "name": "stdout",
     "output_type": "stream",
     "text": [
      "0.10319016332\n",
      "0.04563955259127317\n"
     ]
    }
   ],
   "source": [
    "print(findYield(800,1000,5,.05))\n",
    "print((1000/800)**(1/5)-1)"
   ]
  },
  {
   "cell_type": "code",
   "execution_count": 3,
   "metadata": {},
   "outputs": [
    {
     "name": "stdout",
     "output_type": "stream",
     "text": [
      "            TB3MS  TB6MS  TB1YR   GS5  GS10  GS30\n",
      "DATE                                             \n",
      "2016-01-01   0.26   0.43   0.52  1.52  2.09  2.86\n",
      "2016-02-01   0.31   0.44   0.52  1.22  1.78  2.62\n",
      "2016-03-01   0.29   0.46   0.64  1.38  1.89  2.68\n",
      "2016-04-01   0.23   0.37   0.54  1.26  1.81  2.62\n",
      "2016-05-01   0.27   0.41   0.57  1.30  1.81  2.63\n",
      "2016-06-01   0.27   0.40   0.54  1.17  1.64  2.45\n",
      "2016-07-01   0.30   0.39   0.50  1.07  1.50  2.23\n",
      "2016-08-01   0.30   0.44   0.55  1.13  1.56  2.26\n",
      "2016-09-01   0.29   0.46   0.58  1.18  1.63  2.35\n",
      "2016-10-01   0.33   0.47   0.64  1.27  1.76  2.50\n",
      "2016-11-01   0.45   0.57   0.71  1.60  2.14  2.86\n",
      "2016-12-01   0.51   0.63   0.84  1.96  2.49  3.11\n",
      "2017-01-01   0.51   0.61   0.80  1.92  2.43  3.02\n"
     ]
    }
   ],
   "source": [
    "import datetime\n",
    "import pandas_datareader as pdr\n",
    "start = datetime.datetime(2016, 1, 1)\n",
    "end = datetime.datetime(2017, 1, 1)\n",
    "bondYields = pdr.fred.FredReader([\"TB3MS\",\"TB6MS\",\"TB1YR\",\"GS5\",\"GS10\",\"GS30\"], start, end).read()\n",
    "print(bondYields)"
   ]
  },
  {
   "cell_type": "code",
   "execution_count": 4,
   "metadata": {},
   "outputs": [
    {
     "name": "stdout",
     "output_type": "stream",
     "text": [
      "TB3MS    0.51\n",
      "TB6MS    0.61\n",
      "TB1YR    0.80\n",
      "GS5      1.92\n",
      "GS10     2.43\n",
      "GS30     3.02\n",
      "Name: 2017-01-01 00:00:00, dtype: float64\n"
     ]
    }
   ],
   "source": [
    "print(bondYields.iloc[-1,:])"
   ]
  },
  {
   "cell_type": "code",
   "execution_count": 5,
   "metadata": {},
   "outputs": [
    {
     "data": {
      "image/png": "[encoded data removed]",
      "text/plain": [
       "<matplotlib.figure.Figure at 0x10e1e1978>"
      ]
     },
     "metadata": {},
     "output_type": "display_data"
    }
   ],
   "source": [
    "import matplotlib.pyplot as plt\n",
    "plt.plot([.25,.5,1,5,10,30],bondYields.iloc[-1,:])\n",
    "plt.title(\"Yield Curve\")\n",
    "plt.xlabel(\"Maturity\")\n",
    "plt.ylabel(\"Yield\")\n",
    "plt.show()"
   ]
  },
  {
   "cell_type": "code",
   "execution_count": 6,
   "metadata": {},
   "outputs": [
    {
     "data": {
      "image/png": "[encoded data removed]",
      "text/plain": [
       "<matplotlib.figure.Figure at 0x10e147cc0>"
      ]
     },
     "metadata": {},
     "output_type": "display_data"
    }
   ],
   "source": [
    "start = datetime.datetime(2010, 1, 1)\n",
    "end = datetime.datetime(2017, 1, 1)\n",
    "bondYields = pdr.fred.FredReader([\"TB3MS\",\"TB6MS\",\"TB1YR\",\"GS5\",\"GS10\",\"GS30\"], start, end).read()\n",
    "plt.plot([.25,.5,1,5,10,30],bondYields.iloc[0,:])\n",
    "plt.plot([.25,.5,1,5,10,30],bondYields.iloc[-1,:])\n",
    "plt.title(\"Yield Curve\")\n",
    "plt.xlabel(\"Maturity\")\n",
    "plt.ylabel(\"Yield\")\n",
    "plt.legend([\"2010\",\"2017\"])\n",
    "plt.show()"
   ]
  }
 ],
 "metadata": {
  "kernelspec": {
   "display_name": "Python 3",
   "language": "python",
   "name": "python3"
  },
  "language_info": {
   "codemirror_mode": {
    "name": "ipython",
    "version": 3
   },
   "file_extension": ".py",
   "mimetype": "text/x-python",
   "name": "python",
   "nbconvert_exporter": "python",
   "pygments_lexer": "ipython3",
   "version": "3.6.1"
  }
 },
 "nbformat": 4,
 "nbformat_minor": 2
}
