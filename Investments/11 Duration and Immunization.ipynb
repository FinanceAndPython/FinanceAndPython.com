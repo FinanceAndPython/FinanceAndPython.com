{
 "cells": [
  {
   "cell_type": "code",
   "execution_count": 1,
   "metadata": {},
   "outputs": [
    {
     "name": "stdout",
     "output_type": "stream",
     "text": [
      "[46.29629629629629, 42.86694101508916, 833.5238530711781]\n",
      "922.6870903825636\n"
     ]
    }
   ],
   "source": [
    "flows = [50,50,1050]\n",
    "period = [1,2,3]\n",
    "flowsPV = [x/(1.08)**y for x,y in zip(flows,period)]\n",
    "print(flowsPV)\n",
    "print(sum(flowsPV))"
   ]
  },
  {
   "cell_type": "code",
   "execution_count": 2,
   "metadata": {},
   "outputs": [
    {
     "name": "stdout",
     "output_type": "stream",
     "text": [
      "[0.05017551104687177, 0.04645880652488127, 0.9033656824282469]\n"
     ]
    }
   ],
   "source": [
    "weights = [x/922.6870903825636 for x in flowsPV]\n",
    "print(weights)"
   ]
  },
  {
   "cell_type": "code",
   "execution_count": 3,
   "metadata": {},
   "outputs": [
    {
     "name": "stdout",
     "output_type": "stream",
     "text": [
      "[0.05017551104687177, 0.09291761304976254, 2.7100970472847408]\n",
      "2.853190171381375\n"
     ]
    }
   ],
   "source": [
    "weightedYears = [x*y for x,y in zip(weights,period)]\n",
    "print(weightedYears)\n",
    "print(sum(weightedYears))"
   ]
  },
  {
   "cell_type": "code",
   "execution_count": 4,
   "metadata": {},
   "outputs": [
    {
     "data": {
      "text/plain": [
       "2.853190171381375"
      ]
     },
     "execution_count": 4,
     "metadata": {},
     "output_type": "execute_result"
    }
   ],
   "source": [
    "def duration(couponRate,periods,r):\n",
    "    flows = [couponRate]*periods\n",
    "    flows[-1]+=1\n",
    "    periodsAr = list(range(1,periods+1))\n",
    "    pv = [x/(1+r)**y for x,y in zip(flows,periodsAr)]\n",
    "    price = sum(pv)\n",
    "    weights = [x/price for x in pv]\n",
    "    duration = sum([x*y for x,y in zip(periodsAr,weights)])\n",
    "    return duration\n",
    "duration(.05,3,.08)"
   ]
  },
  {
   "cell_type": "code",
   "execution_count": 5,
   "metadata": {},
   "outputs": [
    {
     "data": {
      "image/png": "[encoded data removed]",
      "text/plain": [
       "<matplotlib.figure.Figure at 0x102373b00>"
      ]
     },
     "metadata": {},
     "output_type": "display_data"
    }
   ],
   "source": [
    "import matplotlib.pyplot as plt\n",
    "couponRate = [x/100 for x in range(0,21)]\n",
    "durationAr = [duration(x,3,.08) for x in couponRate]\n",
    "plt.plot(couponRate,durationAr)\n",
    "plt.xlabel(\"Coupon Rate\")\n",
    "plt.ylabel(\"Duration\")\n",
    "plt.title(\"Duration vs. Coupon Rate\")\n",
    "plt.show()"
   ]
  },
  {
   "cell_type": "code",
   "execution_count": 6,
   "metadata": {},
   "outputs": [
    {
     "data": {
      "image/png": "[encoded data removed]",
      "text/plain": [
       "<matplotlib.figure.Figure at 0x103c08668>"
      ]
     },
     "metadata": {},
     "output_type": "display_data"
    }
   ],
   "source": [
    "import matplotlib.pyplot as plt\n",
    "r = [x/100 for x in range(0,21)]\n",
    "durationAr = [duration(.05,3,x) for x in r]\n",
    "plt.plot(couponRate,durationAr)\n",
    "plt.xlabel(\"Discount Rate\")\n",
    "plt.ylabel(\"Duration\")\n",
    "plt.title(\"Duration vs. Discount Rate\")\n",
    "plt.show()"
   ]
  },
  {
   "cell_type": "code",
   "execution_count": 7,
   "metadata": {},
   "outputs": [
    {
     "name": "stdout",
     "output_type": "stream",
     "text": [
      "922.6870903825636\n",
      "917.829598293161\n",
      "-0.005264506396625337\n"
     ]
    }
   ],
   "source": [
    "def bondValue(r,fv,year,cr):\n",
    "    final_pay = fv/(1+r)**year\n",
    "    coupon_payment = (fv*cr)\n",
    "    annuity_value = coupon_payment*(1-(1+r)**(-year))/r\n",
    "    return annuity_value+final_pay\n",
    "p1 = bondValue(.08,1000,3,.05)\n",
    "p2 = bondValue(.082,1000,3,.05)\n",
    "print(p1)\n",
    "print(p2)\n",
    "print((p2-p1)/p1)"
   ]
  },
  {
   "cell_type": "code",
   "execution_count": 8,
   "metadata": {},
   "outputs": [
    {
     "name": "stdout",
     "output_type": "stream",
     "text": [
      "-0.005283685502558101\n"
     ]
    }
   ],
   "source": [
    "d = duration(.05,3,.08)\n",
    "print(-d/(1.08)*.002)"
   ]
  },
  {
   "cell_type": "code",
   "execution_count": 9,
   "metadata": {},
   "outputs": [
    {
     "name": "stdout",
     "output_type": "stream",
     "text": [
      "0.4875188402851868\n",
      "438.76695625666815\n"
     ]
    }
   ],
   "source": [
    "print((p1*d)/(900*6))\n",
    "print((p1*d)/(6))"
   ]
  }
 ],
 "metadata": {
  "kernelspec": {
   "display_name": "Python 3",
   "language": "python",
   "name": "python3"
  },
  "language_info": {
   "codemirror_mode": {
    "name": "ipython",
    "version": 3
   },
   "file_extension": ".py",
   "mimetype": "text/x-python",
   "name": "python",
   "nbconvert_exporter": "python",
   "pygments_lexer": "ipython3",
   "version": "3.6.1"
  }
 },
 "nbformat": 4,
 "nbformat_minor": 2
}
