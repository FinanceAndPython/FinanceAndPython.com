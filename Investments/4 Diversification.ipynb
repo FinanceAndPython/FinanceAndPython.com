{
 "cells": [
  {
   "cell_type": "code",
   "execution_count": 1,
   "metadata": {
    "collapsed": true
   },
   "outputs": [],
   "source": [
    "stocks = ['MMM', 'ABT', 'ABBV', 'ACN', 'ATVI', 'AYI', 'ADBE', 'AMD', 'AAP', 'AES', 'AET', 'AMG', 'AFL', 'A', 'APD', 'AKAM', 'ALK', 'ALB', 'ARE', 'ALXN', 'ALLE', 'AGN', 'ADS', 'LNT', 'ALL', 'GOOGL', 'GOOG', 'MO', 'AMZN', 'AEE', 'AAL', 'AEP', 'AXP', 'AIG', 'AMT', 'AWK', 'AMP', 'ABC', 'AME', 'AMGN', 'APH', 'APC', 'ADI', 'ANTM', 'AON', 'APA', 'AIV', 'AAPL', 'AMAT', 'ADM', 'ARNC', 'AJG', 'AIZ', 'T', 'ADSK', 'ADP', 'AN', 'AZO', 'AVB', 'AVY', 'BHI', 'BLL', 'BAC', 'BK', 'BCR', 'BAX', 'BBT', 'BDX', 'BBBY', 'BRK.B', 'BBY', 'BIIB', 'BLK', 'HRB', 'BA', 'BWA', 'BXP', 'BSX', 'BMY', 'AVGO', 'BF.B', 'CHRW', 'CA', 'COG', 'CPB', 'COF', 'CAH', 'CBOE', 'KMX', 'CCL', 'CAT', 'CBG', 'CBS', 'CELG', 'CNC', 'CNP', 'CTL', 'CERN', 'CF', 'SCHW', 'CHTR', 'CHK', 'CVX', 'CMG', 'CB', 'CHD', 'CI', 'XEC', 'CINF', 'CTAS', 'CSCO', 'C', 'CFG', 'CTXS', 'CLX', 'CME', 'CMS', 'COH', 'KO', 'CTSH', 'CL', 'CMCSA', 'CMA', 'CAG', 'CXO', 'COP', 'ED', 'STZ', 'COO', 'GLW', 'COST', 'COTY', 'CCI', 'CSRA', 'CSX', 'CMI', 'CVS', 'DHI', 'DHR', 'DRI', 'DVA', 'DE', 'DLPH', 'DAL', 'XRAY', 'DVN', 'DLR', 'DFS', 'DISCA', 'DISCK', 'DISH', 'DG', 'DLTR', 'D', 'DOV', 'DOW', 'DPS', 'DTE', 'DD', 'DUK', 'DXC', 'ETFC', 'EMN', 'ETN', 'EBAY', 'ECL', 'EIX', 'EW', 'EA', 'EMR', 'ETR', 'EVHC', 'EOG', 'EQT', 'EFX', 'EQIX', 'EQR', 'ESS', 'EL', 'ES', 'EXC', 'EXPE', 'EXPD', 'ESRX', 'EXR', 'XOM', 'FFIV', 'FB', 'FAST', 'FRT', 'FDX', 'FIS', 'FITB', 'FE', 'FISV', 'FLIR', 'FLS', 'FLR', 'FMC', 'FL', 'F', 'FTV', 'FBHS', 'BEN', 'FCX', 'GPS', 'GRMN', 'IT', 'GD', 'GE', 'GGP', 'GIS', 'GM', 'GPC', 'GILD', 'GPN', 'GS', 'GT', 'GWW', 'HAL', 'HBI', 'HOG', 'HRS', 'HIG', 'HAS', 'HCA', 'HCP', 'HP', 'HSIC', 'HSY', 'HES', 'HPE', 'HOLX', 'HD', 'HON', 'HRL', 'HST', 'HPQ', 'HUM', 'HBAN', 'IDXX', 'INFO', 'ITW', 'ILMN', 'IR', 'INTC', 'ICE', 'IBM', 'INCY', 'IP', 'IPG', 'IFF', 'INTU', 'ISRG', 'IVZ', 'IRM', 'JEC', 'JBHT', 'SJM', 'JNJ', 'JCI', 'JPM', 'JNPR', 'KSU', 'K', 'KEY', 'KMB', 'KIM', 'KMI', 'KLAC', 'KSS', 'KHC', 'KR', 'LB', 'LLL', 'LH', 'LRCX', 'LEG', 'LEN', 'LVLT', 'LUK', 'LLY', 'LNC', 'LKQ', 'LMT', 'L', 'LOW', 'LYB', 'MTB', 'MAC', 'M', 'MNK', 'MRO', 'MPC', 'MAR', 'MMC', 'MLM', 'MAS', 'MA', 'MAT', 'MKC', 'MCD', 'MCK', 'MJN', 'MDT', 'MRK', 'MET', 'MTD', 'KORS', 'MCHP', 'MU', 'MSFT', 'MAA', 'MHK', 'TAP', 'MDLZ', 'MON', 'MNST', 'MCO', 'MS', 'MOS', 'MSI', 'MUR', 'MYL', 'NDAQ', 'NOV', 'NAVI', 'NTAP', 'NFLX', 'NWL', 'NFX', 'NEM', 'NWSA', 'NWS', 'NEE', 'NLSN', 'NKE', 'NI', 'NBL', 'JWN', 'NSC', 'NTRS', 'NOC', 'NRG', 'NUE', 'NVDA', 'ORLY', 'OXY', 'OMC', 'OKE', 'ORCL', 'PCAR', 'PH', 'PDCO', 'PAYX', 'PYPL', 'PNR', 'PBCT', 'PEP', 'PKI', 'PRGO', 'PFE', 'PCG', 'PM', 'PSX', 'PNW', 'PXD', 'PNC', 'RL', 'PPG', 'PPL', 'PX', 'PCLN', 'PFG', 'PG', 'PGR', 'PLD', 'PRU', 'PEG', 'PSA', 'PHM', 'PVH', 'QRVO', 'PWR', 'QCOM', 'DGX', 'RRC', 'RJF', 'RTN', 'O', 'RHT', 'REG', 'REGN', 'RF', 'RSG', 'RAI', 'RHI', 'ROK', 'COL', 'ROP', 'ROST', 'RCL', 'R', 'CRM', 'SCG', 'SLB', 'SNI', 'STX', 'SEE', 'SRE', 'SHW', 'SIG', 'SPG', 'SWKS', 'SLG', 'SNA', 'SO', 'LUV', 'SPGI', 'SWK', 'SPLS', 'SBUX', 'STT', 'SRCL', 'SYK', 'STI', 'SYMC', 'SYF', 'SNPS', 'SYY', 'TROW', 'TGT', 'TEL', 'FTI', 'TDC', 'TSO', 'TXN', 'TXT', 'TMO', 'TIF', 'TWX', 'TJX', 'TMK', 'TSS', 'TSCO', 'TDG', 'RIG', 'TRV', 'TRIP', 'FOXA', 'FOX', 'TSN', 'UDR', 'ULTA', 'USB', 'UA', 'UAA', 'UNP', 'UAL', 'UNH', 'UPS', 'URI', 'UTX', 'UHS', 'UNM', 'VFC', 'VLO', 'VAR', 'VTR', 'VRSN', 'VRSK', 'VZ', 'VRTX', 'VIAB', 'V', 'VNO', 'VMC', 'WMT', 'WBA', 'DIS', 'WM', 'WAT', 'WEC', 'WFC', 'HCN', 'WDC', 'WU', 'WRK', 'WY', 'WHR', 'WFM', 'WMB', 'WLTW', 'WYN', 'WYNN', 'XEL', 'XRX', 'XLNX', 'XL', 'XYL', 'YHOO', 'YUM', 'ZBH', 'ZION', 'ZTS']"
   ]
  },
  {
   "cell_type": "code",
   "execution_count": 2,
   "metadata": {},
   "outputs": [
    {
     "name": "stdout",
     "output_type": "stream",
     "text": [
      "Date\n",
      "2016-01-04    12.366731\n",
      "2016-01-05    12.145422\n",
      "2016-01-06    11.605429\n",
      "2016-01-07    11.242483\n",
      "2016-01-08    11.100844\n",
      "2016-01-11    11.304450\n",
      "2016-01-12    11.375270\n",
      "2016-01-13    10.799866\n",
      "2016-01-14    10.791012\n",
      "2016-01-15    10.596263\n",
      "2016-01-19    10.578556\n",
      "2016-01-20    10.534292\n",
      "2016-01-21    10.631671\n",
      "2016-01-22    10.746751\n",
      "2016-01-25    10.605112\n",
      "2016-01-26    10.852979\n",
      "2016-01-27    10.843828\n",
      "2016-01-28    10.715714\n",
      "2016-01-29    10.926186\n",
      "2016-02-01    11.045148\n",
      "2016-02-02    10.532697\n",
      "2016-02-03    10.486941\n",
      "2016-02-04    10.550999\n",
      "2016-02-05    10.477792\n",
      "2016-02-08    10.605904\n",
      "2016-02-09    10.386283\n",
      "2016-02-10    10.377131\n",
      "2016-02-11    10.221566\n",
      "2016-02-12    10.569302\n",
      "2016-02-16    10.862129\n",
      "                ...    \n",
      "2016-11-17    11.240666\n",
      "2016-11-18    11.136499\n",
      "2016-11-21    11.164908\n",
      "2016-11-22    11.259607\n",
      "2016-11-23    11.269075\n",
      "2016-11-25    11.401652\n",
      "2016-11-28    11.288016\n",
      "2016-11-29    11.288016\n",
      "2016-11-30    11.325895\n",
      "2016-12-01    11.770975\n",
      "2016-12-02    11.591049\n",
      "2016-12-05    11.780445\n",
      "2016-12-06    11.894083\n",
      "2016-12-07    12.367574\n",
      "2016-12-08    12.339165\n",
      "2016-12-09    12.471742\n",
      "2016-12-12    12.140299\n",
      "2016-12-13    12.092950\n",
      "2016-12-14    11.865673\n",
      "2016-12-15    11.913024\n",
      "2016-12-16    11.960372\n",
      "2016-12-19    11.988781\n",
      "2016-12-20    12.102418\n",
      "2016-12-21    11.969843\n",
      "2016-12-22    11.742565\n",
      "2016-12-23    11.799386\n",
      "2016-12-27    11.733097\n",
      "2016-12-28    11.600519\n",
      "2016-12-29    11.581578\n",
      "2016-12-30    11.486880\n",
      "Name: Adj Close, Length: 252, dtype: float64\n"
     ]
    }
   ],
   "source": [
    "import pandas_datareader as pdr\n",
    "import datetime\n",
    "start = datetime.datetime(2016, 1, 1)\n",
    "end = datetime.datetime(2017, 1, 1)\n",
    "stocks1 = pdr.get_data_yahoo(\"F\",start, end)[\"Adj Close\"]\n",
    "print(stocks1)"
   ]
  },
  {
   "cell_type": "code",
   "execution_count": 3,
   "metadata": {},
   "outputs": [
    {
     "name": "stdout",
     "output_type": "stream",
     "text": [
      "Date\n",
      "2016-01-04    1.000000\n",
      "2016-01-05    0.982104\n",
      "2016-01-06    0.938440\n",
      "2016-01-07    0.909091\n",
      "2016-01-08    0.897638\n",
      "2016-01-11    0.914102\n",
      "2016-01-12    0.919828\n",
      "2016-01-13    0.873300\n",
      "2016-01-14    0.872584\n",
      "2016-01-15    0.856836\n",
      "2016-01-19    0.855404\n",
      "2016-01-20    0.851825\n",
      "2016-01-21    0.859699\n",
      "2016-01-22    0.869005\n",
      "2016-01-25    0.857552\n",
      "2016-01-26    0.877595\n",
      "2016-01-27    0.876855\n",
      "2016-01-28    0.866495\n",
      "2016-01-29    0.883514\n",
      "2016-02-01    0.893134\n",
      "2016-02-02    0.851696\n",
      "2016-02-03    0.847996\n",
      "2016-02-04    0.853176\n",
      "2016-02-05    0.847256\n",
      "2016-02-08    0.857616\n",
      "2016-02-09    0.839857\n",
      "2016-02-10    0.839117\n",
      "2016-02-11    0.826537\n",
      "2016-02-12    0.854656\n",
      "2016-02-16    0.878335\n",
      "                ...   \n",
      "2016-11-17    0.908944\n",
      "2016-11-18    0.900521\n",
      "2016-11-21    0.902818\n",
      "2016-11-22    0.910476\n",
      "2016-11-23    0.911241\n",
      "2016-11-25    0.921962\n",
      "2016-11-28    0.912773\n",
      "2016-11-29    0.912773\n",
      "2016-11-30    0.915836\n",
      "2016-12-01    0.951826\n",
      "2016-12-02    0.937277\n",
      "2016-12-05    0.952592\n",
      "2016-12-06    0.961781\n",
      "2016-12-07    1.000068\n",
      "2016-12-08    0.997771\n",
      "2016-12-09    1.008491\n",
      "2016-12-12    0.981690\n",
      "2016-12-13    0.977861\n",
      "2016-12-14    0.959483\n",
      "2016-12-15    0.963312\n",
      "2016-12-16    0.967141\n",
      "2016-12-19    0.969438\n",
      "2016-12-20    0.978627\n",
      "2016-12-21    0.967907\n",
      "2016-12-22    0.949529\n",
      "2016-12-23    0.954123\n",
      "2016-12-27    0.948763\n",
      "2016-12-28    0.938042\n",
      "2016-12-29    0.936511\n",
      "2016-12-30    0.928853\n",
      "Name: Adj Close, Length: 252, dtype: float64\n"
     ]
    }
   ],
   "source": [
    "import numpy as np\n",
    "stocks1 = stocks1/stocks1.iloc[0]\n",
    "print(stocks1)"
   ]
  },
  {
   "cell_type": "code",
   "execution_count": 4,
   "metadata": {},
   "outputs": [
    {
     "name": "stdout",
     "output_type": "stream",
     "text": [
      "0.000268289653642407\n"
     ]
    }
   ],
   "source": [
    "stocks1 = stocks1.pct_change().dropna()\n",
    "print(np.var(stocks1,ddof=1))"
   ]
  },
  {
   "cell_type": "code",
   "execution_count": 5,
   "metadata": {},
   "outputs": [
    {
     "name": "stdout",
     "output_type": "stream",
     "text": [
      "0.06760899271788658\n",
      "0.26001729311314387\n"
     ]
    }
   ],
   "source": [
    "print(np.var(stocks1,ddof=1)*252)\n",
    "print((np.var(stocks1,ddof=1)*252)**.5)"
   ]
  },
  {
   "cell_type": "code",
   "execution_count": 6,
   "metadata": {},
   "outputs": [
    {
     "name": "stdout",
     "output_type": "stream",
     "text": [
      "Date\n",
      "2016-12-30    1.000000\n",
      "2016-12-29    1.005872\n",
      "2016-12-28    1.002677\n",
      "2016-12-27    1.016153\n",
      "2016-12-23    1.008938\n",
      "2016-12-22    1.006748\n",
      "2016-12-21    1.009557\n",
      "2016-12-20    1.017861\n",
      "2016-12-19    1.015799\n",
      "2016-12-16    1.008749\n",
      "2016-12-15    1.014974\n",
      "2016-12-14    1.011442\n",
      "2016-12-13    1.022788\n",
      "2016-12-12    1.019703\n",
      "2016-12-09    1.014099\n",
      "2016-12-08    1.008771\n",
      "2016-12-07    1.001404\n",
      "2016-12-06    0.988377\n",
      "2016-12-05    0.978135\n",
      "2016-12-02    0.966330\n",
      "2016-12-01    0.963450\n",
      "2016-11-30    0.981926\n",
      "2016-11-29    0.996811\n",
      "2016-11-28    0.990697\n",
      "2016-11-25    0.993875\n",
      "2016-11-23    0.987407\n",
      "2016-11-22    0.982052\n",
      "2016-11-21    0.993127\n",
      "2016-11-18    0.985511\n",
      "2016-11-17    0.995200\n",
      "                ...   \n",
      "2016-02-16    0.765420\n",
      "2016-02-12    0.745817\n",
      "2016-02-11    0.740700\n",
      "2016-02-10    0.752732\n",
      "2016-02-09    0.748739\n",
      "2016-02-08    0.749259\n",
      "2016-02-05    0.769216\n",
      "2016-02-04    0.798869\n",
      "2016-02-03    0.801793\n",
      "2016-02-02    0.795319\n",
      "2016-02-01    0.811150\n",
      "2016-01-29    0.811143\n",
      "2016-01-28    0.785977\n",
      "2016-01-27    0.800204\n",
      "2016-01-26    0.805917\n",
      "2016-01-25    0.791941\n",
      "2016-01-22    0.806298\n",
      "2016-01-21    0.793056\n",
      "2016-01-20    0.788540\n",
      "2016-01-19    0.796242\n",
      "2016-01-15    0.795434\n",
      "2016-01-14    0.802090\n",
      "2016-01-13    0.784170\n",
      "2016-01-12    0.811395\n",
      "2016-01-11    0.803500\n",
      "2016-01-08    0.804502\n",
      "2016-01-07    0.818641\n",
      "2016-01-06    0.834811\n",
      "2016-01-05    0.849640\n",
      "2016-01-04    0.848637\n",
      "Length: 252, dtype: float64\n"
     ]
    }
   ],
   "source": [
    "stocks10 = pdr.get_data_yahoo(stocks[:10], start, end)[\"Adj Close\"]\n",
    "stocks10 = stocks10/stocks10.iloc[0,:]\n",
    "stocks10 = stocks10.sum(axis=1)/10\n",
    "print(stocks10)"
   ]
  },
  {
   "cell_type": "code",
   "execution_count": 7,
   "metadata": {},
   "outputs": [
    {
     "name": "stdout",
     "output_type": "stream",
     "text": [
      "0.17305781593928904\n"
     ]
    }
   ],
   "source": [
    "stocks10 = stocks10.pct_change().dropna()\n",
    "print((np.var(stocks10,ddof=1)*252)**.5)"
   ]
  },
  {
   "cell_type": "code",
   "execution_count": 8,
   "metadata": {},
   "outputs": [
    {
     "name": "stdout",
     "output_type": "stream",
     "text": [
      "0.14846848465310294\n"
     ]
    }
   ],
   "source": [
    "stocks50 = pdr.get_data_yahoo(stocks[:50], start, end,retry_count=10)[\"Adj Close\"]\n",
    "stocks50 = stocks50/stocks50.iloc[0,:]\n",
    "stocks50 = stocks50.sum(axis=1)/10\n",
    "stocks50 = stocks50.pct_change().dropna()\n",
    "print((np.var(stocks50,ddof=1)*252)**.5)"
   ]
  }
 ],
 "metadata": {
  "kernelspec": {
   "display_name": "Python 3",
   "language": "python",
   "name": "python3"
  },
  "language_info": {
   "codemirror_mode": {
    "name": "ipython",
    "version": 3
   },
   "file_extension": ".py",
   "mimetype": "text/x-python",
   "name": "python",
   "nbconvert_exporter": "python",
   "pygments_lexer": "ipython3",
   "version": "3.6.1"
  }
 },
 "nbformat": 4,
 "nbformat_minor": 2
}
