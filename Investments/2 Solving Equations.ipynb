{
 "cells": [
  {
   "cell_type": "code",
   "execution_count": 1,
   "metadata": {},
   "outputs": [
    {
     "name": "stdout",
     "output_type": "stream",
     "text": [
      "Requirement already satisfied: sympy in /Library/Frameworks/Python.framework/Versions/2.7/lib/python2.7/site-packages\r\n",
      "Requirement already satisfied: mpmath>=0.19 in /Library/Frameworks/Python.framework/Versions/2.7/lib/python2.7/site-packages (from sympy)\r\n"
     ]
    }
   ],
   "source": [
    "!pip install sympy"
   ]
  },
  {
   "cell_type": "code",
   "execution_count": 2,
   "metadata": {},
   "outputs": [
    {
     "name": "stdout",
     "output_type": "stream",
     "text": [
      "p1\n"
     ]
    }
   ],
   "source": [
    "import sympy\n",
    "p1 = sympy.Symbol(\"p1\")\n",
    "print(p1)"
   ]
  },
  {
   "cell_type": "code",
   "execution_count": 3,
   "metadata": {
    "collapsed": true
   },
   "outputs": [],
   "source": [
    "p1 = sympy.Symbol(\"p1\")\n",
    "p2 = sympy.Symbol(\"p2\")\n",
    "totalReturn = sympy.Symbol(\"totalReturn\")\n",
    "ret1 = .03\n",
    "ret2 = .09"
   ]
  },
  {
   "cell_type": "code",
   "execution_count": 4,
   "metadata": {
    "collapsed": true
   },
   "outputs": [],
   "source": [
    "retEquation = sympy.Eq(totalReturn,p1*ret1+p2*ret2)"
   ]
  },
  {
   "cell_type": "code",
   "execution_count": 5,
   "metadata": {},
   "outputs": [
    {
     "name": "stdout",
     "output_type": "stream",
     "text": [
      "Eq(totalReturn, 0.03*p1 + 0.09*p2)\n",
      "0.03*p1 + 0.09*p2\n",
      "totalReturn\n"
     ]
    }
   ],
   "source": [
    "print(retEquation)\n",
    "print(retEquation.rhs)\n",
    "print(retEquation.lhs)"
   ]
  },
  {
   "cell_type": "code",
   "execution_count": 6,
   "metadata": {},
   "outputs": [
    {
     "name": "stdout",
     "output_type": "stream",
     "text": [
      "Eq(totalReturn, 0.09*p2 + 0.015)\n"
     ]
    }
   ],
   "source": [
    "print(retEquation.subs(p1,.5))"
   ]
  },
  {
   "cell_type": "code",
   "execution_count": 7,
   "metadata": {},
   "outputs": [
    {
     "name": "stdout",
     "output_type": "stream",
     "text": [
      "Eq(totalReturn, 0.0600000000000000)\n"
     ]
    }
   ],
   "source": [
    "print(retEquation.subs([(p1,.5),(p2,.5)]))"
   ]
  },
  {
   "cell_type": "code",
   "execution_count": 8,
   "metadata": {},
   "outputs": [
    {
     "name": "stdout",
     "output_type": "stream",
     "text": [
      "Eq(totalReturn, 0.0600000000000000)\n",
      "0.0600000000000000\n"
     ]
    }
   ],
   "source": [
    "def findReturn(w1,w2):\n",
    "    return retEquation.subs([(p1,w1),(p2,w2)])\n",
    "print(findReturn(.5,.5))\n",
    "print(findReturn(.5,.5).rhs)"
   ]
  },
  {
   "cell_type": "code",
   "execution_count": 9,
   "metadata": {},
   "outputs": [
    {
     "name": "stdout",
     "output_type": "stream",
     "text": [
      "Eq(1, p1 + p2)\n"
     ]
    }
   ],
   "source": [
    "totalPercent = sympy.Eq(1,p1+p2)\n",
    "print(totalPercent)"
   ]
  },
  {
   "cell_type": "code",
   "execution_count": 10,
   "metadata": {},
   "outputs": [
    {
     "name": "stdout",
     "output_type": "stream",
     "text": [
      "{p1: 0.500000000000000, p2: 0.500000000000000}\n"
     ]
    }
   ],
   "source": [
    "retEquation = sympy.Eq(.06,p1*ret1+p2*ret2)\n",
    "print(sympy.solve((retEquation,totalPercent)))"
   ]
  },
  {
   "cell_type": "code",
   "execution_count": 11,
   "metadata": {
    "collapsed": true
   },
   "outputs": [],
   "source": [
    "def twoChoice(ret1,ret2,goalReturn):\n",
    "    retEquation = sympy.Eq(goalReturn,p1*ret1+p2*ret2)\n",
    "    totalPercent = sympy.Eq(1,p1+p2)\n",
    "    return sympy.solve((retEquation,totalPercent))"
   ]
  },
  {
   "cell_type": "code",
   "execution_count": 12,
   "metadata": {},
   "outputs": [
    {
     "data": {
      "text/plain": [
       "{p1: 0.500000000000000, p2: 0.500000000000000}"
      ]
     },
     "execution_count": 12,
     "metadata": {},
     "output_type": "execute_result"
    }
   ],
   "source": [
    "twoChoice(.03,.09,.06)"
   ]
  },
  {
   "cell_type": "code",
   "execution_count": 13,
   "metadata": {},
   "outputs": [
    {
     "name": "stdout",
     "output_type": "stream",
     "text": [
      "0.500000000000000\n",
      "0.500000000000000\n"
     ]
    }
   ],
   "source": [
    "d = twoChoice(.03,.09,.06)\n",
    "print(d[p1])\n",
    "print(d[p2])"
   ]
  },
  {
   "cell_type": "code",
   "execution_count": 14,
   "metadata": {
    "collapsed": true
   },
   "outputs": [],
   "source": [
    "p1 = sympy.Symbol(\"p1\")\n",
    "p2 = sympy.Symbol(\"p2\")\n",
    "def twoChoice(ret1,ret2,var1,var2,cov,goalReturn):\n",
    "    retEquation = sympy.Eq(goalReturn,p1*ret1+p2*ret2)\n",
    "    totalPercent = sympy.Eq(1,p1+p2)\n",
    "    dictionary = sympy.solve((retEquation,totalPercent))\n",
    "    percent1 = dictionary[p1]\n",
    "    percent2 = dictionary[p2]\n",
    "    variance = percent1**2*var1+percent2**2*var2+2*percent1*percent2*cov\n",
    "    print(\"Put \"+str(percent1*100)+\"% in asset 1.\")\n",
    "    print(\"Put \"+str(percent2*100)+\"% in asset 2.\")\n",
    "    print(\"Your variance will be \"+str(variance))"
   ]
  },
  {
   "cell_type": "code",
   "execution_count": 15,
   "metadata": {},
   "outputs": [
    {
     "name": "stdout",
     "output_type": "stream",
     "text": [
      "Put 50.0000000000000% in asset 1.\n",
      "Put 50.0000000000000% in asset 2.\n",
      "Your variance will be 0.0450000000000000\n"
     ]
    }
   ],
   "source": [
    "twoChoice(.03,.09,.05,.07,.03,.06)"
   ]
  },
  {
   "cell_type": "code",
   "execution_count": 16,
   "metadata": {
    "collapsed": true
   },
   "outputs": [],
   "source": [
    "p1 = sympy.Symbol(\"p1\")\n",
    "p2 = sympy.Symbol(\"p2\")\n",
    "def twoChoice2(ret1,ret2,var1,var2,cov,goalVar):\n",
    "    varEquation = sympy.Eq(goalVar,p1**2*var1+p2**2*var2+2*p1*p2*cov)\n",
    "    totalPercent = sympy.Eq(1,p1+p2)\n",
    "    dictionary = sympy.solve((varEquation,totalPercent))\n",
    "    return dictionary"
   ]
  },
  {
   "cell_type": "code",
   "execution_count": 17,
   "metadata": {},
   "outputs": [
    {
     "data": {
      "text/plain": [
       "[{p1: 0.500000000000000, p2: 0.500000000000000},\n",
       " {p1: 0.833333333333333, p2: 0.166666666666667}]"
      ]
     },
     "execution_count": 17,
     "metadata": {},
     "output_type": "execute_result"
    }
   ],
   "source": [
    "twoChoice2(.03,.09,.05,.07,.03,.045)"
   ]
  },
  {
   "cell_type": "code",
   "execution_count": 18,
   "metadata": {},
   "outputs": [
    {
     "name": "stdout",
     "output_type": "stream",
     "text": [
      "Put 50.0000000000000% in asset 1.\n",
      "Put 50.0000000000000% in asset 2.\n",
      "Your return will be 0.0600000000000000\n",
      "Put 83.3333333333333% in asset 1.\n",
      "Put 16.6666666666667% in asset 2.\n",
      "Your return will be 0.0400000000000000\n"
     ]
    }
   ],
   "source": [
    "def twoChoice2(ret1,ret2,var1,var2,cov,goalVar):\n",
    "    varEquation = sympy.Eq(goalVar,p1**2*var1+p2**2*var2+2*p1*p2*cov)\n",
    "    totalPercent = sympy.Eq(1,p1+p2)\n",
    "    dictionaries = sympy.solve((varEquation,totalPercent))\n",
    "    for dictionary in dictionaries:\n",
    "        percent1 = dictionary[p1]\n",
    "        percent2 = dictionary[p2]\n",
    "        ret = percent1*ret1+percent2*ret2\n",
    "        print(\"Put \"+str(percent1*100)+\"% in asset 1.\")\n",
    "        print(\"Put \"+str(percent2*100)+\"% in asset 2.\")\n",
    "        print(\"Your return will be \"+str(ret))\n",
    "twoChoice2(.03,.09,.05,.07,.03,.045)"
   ]
  },
  {
   "cell_type": "code",
   "execution_count": 19,
   "metadata": {},
   "outputs": [
    {
     "name": "stdout",
     "output_type": "stream",
     "text": [
      "Put 50.0000000000000% in asset 1.\n",
      "Put 50.0000000000000% in asset 2.\n",
      "Your return will be 0.0600000000000000\n"
     ]
    }
   ],
   "source": [
    "def twoChoice2(ret1,ret2,var1,var2,cov,goalVar):\n",
    "    varEquation = sympy.Eq(goalVar,p1**2*var1+p2**2*var2+2*p1*p2*cov)\n",
    "    totalPercent = sympy.Eq(1,p1+p2)\n",
    "    dictionaries = sympy.solve((varEquation,totalPercent))\n",
    "    best = [1,0,0]\n",
    "    for dictionary in dictionaries:\n",
    "        percent1 = dictionary[p1]\n",
    "        percent2 = dictionary[p2]\n",
    "        ret = percent1*ret1+percent2*ret2\n",
    "        if ret>best[2]:\n",
    "            best = [percent1,percent2,ret]\n",
    "        \n",
    "    print(\"Put \"+str(best[0]*100)+\"% in asset 1.\")\n",
    "    print(\"Put \"+str(best[1]*100)+\"% in asset 2.\")\n",
    "    print(\"Your return will be \"+str(best[2]))\n",
    "twoChoice2(.03,.09,.05,.07,.03,.045)"
   ]
  }
 ],
 "metadata": {
  "kernelspec": {
   "display_name": "Python 3",
   "language": "python",
   "name": "python3"
  },
  "language_info": {
   "codemirror_mode": {
    "name": "ipython",
    "version": 3
   },
   "file_extension": ".py",
   "mimetype": "text/x-python",
   "name": "python",
   "nbconvert_exporter": "python",
   "pygments_lexer": "ipython3",
   "version": "3.6.1"
  }
 },
 "nbformat": 4,
 "nbformat_minor": 2
}
