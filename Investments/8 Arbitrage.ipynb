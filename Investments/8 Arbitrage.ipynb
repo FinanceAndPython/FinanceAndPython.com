{
 "cells": [
  {
   "cell_type": "code",
   "execution_count": 1,
   "metadata": {},
   "outputs": [
    {
     "name": "stdout",
     "output_type": "stream",
     "text": [
      "140\n"
     ]
    }
   ],
   "source": [
    "price = 40*2+15*4\n",
    "print(price)"
   ]
  },
  {
   "cell_type": "code",
   "execution_count": 2,
   "metadata": {
    "collapsed": true
   },
   "outputs": [],
   "source": [
    "cashFlows = [[50,0],[0,25]]\n",
    "assetFlows = [100,100]"
   ]
  },
  {
   "cell_type": "code",
   "execution_count": 3,
   "metadata": {},
   "outputs": [
    {
     "data": {
      "text/plain": [
       "array([ 2.,  4.])"
      ]
     },
     "execution_count": 3,
     "metadata": {},
     "output_type": "execute_result"
    }
   ],
   "source": [
    "import numpy as np\n",
    "np.linalg.solve(cashFlows,assetFlows)"
   ]
  },
  {
   "cell_type": "code",
   "execution_count": 4,
   "metadata": {},
   "outputs": [
    {
     "name": "stdout",
     "output_type": "stream",
     "text": [
      "[ 80.  60.]\n",
      "140.0\n"
     ]
    }
   ],
   "source": [
    "allocations = np.linalg.solve(cashFlows,assetFlows)\n",
    "prices = [40,15]\n",
    "print(allocations*prices)\n",
    "print(sum(allocations*prices))"
   ]
  },
  {
   "cell_type": "code",
   "execution_count": 5,
   "metadata": {},
   "outputs": [
    {
     "data": {
      "text/plain": [
       "(array([ 2.,  4.]), 140.0)"
      ]
     },
     "execution_count": 5,
     "metadata": {},
     "output_type": "execute_result"
    }
   ],
   "source": [
    "def matchFlows(flowsAr,pricesAr,assetFlows):\n",
    "    allocations = np.linalg.solve(flowsAr,assetFlows)\n",
    "    price = allocations.dot(pricesAr)\n",
    "    return allocations,price\n",
    "matchFlows([[50,0],[0,25]],[40,15],[100,100])"
   ]
  },
  {
   "cell_type": "code",
   "execution_count": 6,
   "metadata": {
    "collapsed": true
   },
   "outputs": [],
   "source": [
    "def Arbitrage(flowsAr,pricesAr,assetFlows,assetPrice):\n",
    "    allocations,priceFlows = matchFlows(flowsAr,pricesAr,assetFlows)\n",
    "    if priceFlows<assetPrice:\n",
    "        print(\"Buy the bonds with the following allocations: \"+'...'.join(map(str,allocations)))\n",
    "        print(\"Sell one of the asset being replicated to offset the cashflows\")\n",
    "        print(\"The payoff will be \"+str(assetPrice-priceFlows))\n",
    "    else:\n",
    "        print(\"Buy the bonds with the following allocations: \"+'...'.join(map(str,-allocations)))\n",
    "        print(\"Buy one of the asset being replicated to offset the cashflows\")\n",
    "        print(\"The payoff will be \"+str(priceFlows-assetPrice))\n"
   ]
  },
  {
   "cell_type": "code",
   "execution_count": 7,
   "metadata": {},
   "outputs": [
    {
     "name": "stdout",
     "output_type": "stream",
     "text": [
      "Buy the bonds with the following allocations: 2.0...1.0\n",
      "Sell one of the asset being replicated to offset the cashflows\n",
      "The payoff will be 15.0\n",
      "Buy the bonds with the following allocations: -2.0...-1.0\n",
      "Buy one of the asset being replicated to offset the cashflows\n",
      "The payoff will be 35.0\n"
     ]
    }
   ],
   "source": [
    "Arbitrage([[25,50],[50,0]],[40,15],[100,100],110)\n",
    "Arbitrage([[25,50],[50,0]],[40,15],[100,100],60)"
   ]
  },
  {
   "cell_type": "code",
   "execution_count": 8,
   "metadata": {},
   "outputs": [
    {
     "data": {
      "text/plain": [
       "0.035999999999999997"
      ]
     },
     "execution_count": 8,
     "metadata": {},
     "output_type": "execute_result"
    }
   ],
   "source": [
    "def APT(rf,riskFactorBetas,riskFactorReturns):\n",
    "    return rf+np.array(riskFactorBetas).dot(riskFactorReturns)\n",
    "APT(.01,[1.2,-.4,.3],[.04,.07,.02])"
   ]
  }
 ],
 "metadata": {
  "kernelspec": {
   "display_name": "Python 3",
   "language": "python",
   "name": "python3"
  },
  "language_info": {
   "codemirror_mode": {
    "name": "ipython",
    "version": 3
   },
   "file_extension": ".py",
   "mimetype": "text/x-python",
   "name": "python",
   "nbconvert_exporter": "python",
   "pygments_lexer": "ipython3",
   "version": "3.6.1"
  }
 },
 "nbformat": 4,
 "nbformat_minor": 2
}
