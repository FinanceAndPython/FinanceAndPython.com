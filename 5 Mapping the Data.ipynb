{
 "cells": [
  {
   "cell_type": "code",
   "execution_count": 1,
   "metadata": {
    "collapsed": true
   },
   "outputs": [],
   "source": [
    "import pandas as pd\n",
    "import numpy as np\n",
    "import gmplot\n",
    "def Create_Map():\n",
    "    gmap = gmplot.GoogleMapPlotter.from_geocode(\"Boston\")\n",
    "    gmap.draw(\"Boston_Real_Estate.html\")\n",
    "Create_Map()"
   ]
  },
  {
   "cell_type": "code",
   "execution_count": 2,
   "metadata": {
    "collapsed": true
   },
   "outputs": [],
   "source": [
    "latMax = 42.39615117\n",
    "latMin = 42.23108386\n",
    "lonMax = -70.92757284\n",
    "lonMin = -71.18485204\n",
    "def Create_Map():\n",
    "    gmap = gmplot.GoogleMapPlotter.from_geocode(\"Boston\")\n",
    "    xPoints=[latMax,latMin,latMin,latMax]\n",
    "    yPoints=[lonMin,lonMin,lonMax,lonMax]\n",
    "    gmap.polygon(xPoints, yPoints, color=\"#ff0000\")\n",
    "    gmap.draw(\"Boston_Real_Estate.html\")\n",
    "Create_Map()       "
   ]
  },
  {
   "cell_type": "code",
   "execution_count": 3,
   "metadata": {
    "collapsed": true
   },
   "outputs": [],
   "source": [
    "MapData = pd.DataFrame.from_csv(\"MapData.csv\", encoding=\"UTF-8\")"
   ]
  },
  {
   "cell_type": "code",
   "execution_count": 4,
   "metadata": {
    "collapsed": true
   },
   "outputs": [],
   "source": [
    "def Create_Map():\n",
    "    gmap = gmplot.GoogleMapPlotter.from_geocode(\"Boston\")\n",
    "    for index, row in MapData.iterrows():\n",
    "        xPoints=[row[\"Lat 2\"],row[\"Lat 0\"],row[\"Lat 0\"],row[\"Lat 2\"]]\n",
    "        yPoints=[row[\"Lon 0\"],row[\"Lon 0\"],row[\"Lon 2\"],row[\"Lon 2\"]]\n",
    "\n",
    "        gmap.polygon(xPoints, yPoints, color=\"#ff0000\")\n",
    "    gmap.draw(\"Boston_Real_Estate.html\")\n",
    "Create_Map()"
   ]
  },
  {
   "cell_type": "code",
   "execution_count": 5,
   "metadata": {
    "collapsed": true
   },
   "outputs": [],
   "source": [
    "MapData['Rank'] = MapData[\"AV_TOTAL\"].rank(pct=True)\n",
    "def Create_Map():\n",
    "    gmap = gmplot.GoogleMapPlotter.from_geocode(\"Boston\")\n",
    "    for index, row in MapData.iterrows():\n",
    "        xPoints=[row[\"Lat 2\"],row[\"Lat 0\"],row[\"Lat 0\"],row[\"Lat 2\"]]\n",
    "        yPoints=[row[\"Lon 0\"],row[\"Lon 0\"],row[\"Lon 2\"],row[\"Lon 2\"]]\n",
    "        if row[\"Rank\"]<=.5:\n",
    "            color ='#%02X%02X%02X' % (255,0,0)\n",
    "        else:\n",
    "            color ='#%02X%02X%02X' % (0,255,0)\n",
    "        \n",
    "        gmap.polygon(xPoints, yPoints, color=color)\n",
    "    gmap.draw(\"Boston_Real_Estate.html\")\n",
    "Create_Map()"
   ]
  },
  {
   "cell_type": "code",
   "execution_count": 6,
   "metadata": {
    "collapsed": true
   },
   "outputs": [],
   "source": [
    "def Create_Map():\n",
    "    gmap = gmplot.GoogleMapPlotter.from_geocode(\"Boston\")\n",
    "    for index, row in MapData.iterrows():\n",
    "        xPoints=[row[\"Lat 2\"],row[\"Lat 0\"],row[\"Lat 0\"],row[\"Lat 2\"]]\n",
    "        yPoints=[row[\"Lon 0\"],row[\"Lon 0\"],row[\"Lon 2\"],row[\"Lon 2\"]]\n",
    "        if row[\"Rank\"]<=.5:\n",
    "            color ='#%02X%02X%02X' % (int(255*((1-row[\"Rank\"]*2))),0,0)\n",
    "        else:\n",
    "            color ='#%02X%02X%02X' % (0,int(255*((row[\"Rank\"]-.5)*2)),0)\n",
    "        \n",
    "        gmap.polygon(xPoints, yPoints, color=color)\n",
    "    gmap.draw(\"Boston_Real_Estate.html\")\n",
    "Create_Map()"
   ]
  },
  {
   "cell_type": "code",
   "execution_count": 7,
   "metadata": {
    "collapsed": true
   },
   "outputs": [],
   "source": [
    "MapData[\"Growth\"] = MapData[\"AV_TOTAL\"]/MapData[\"AV_TOTAL_PRE\"]\n",
    "MapData['Rank'] = MapData[\"Growth\"].rank(pct=True)\n",
    "MapData = MapData[MapData[\"Growth\"].notnull()]\n",
    "Create_Map()"
   ]
  }
 ],
 "metadata": {
  "kernelspec": {
   "display_name": "Python 3",
   "language": "python",
   "name": "python3"
  },
  "language_info": {
   "codemirror_mode": {
    "name": "ipython",
    "version": 3
   },
   "file_extension": ".py",
   "mimetype": "text/x-python",
   "name": "python",
   "nbconvert_exporter": "python",
   "pygments_lexer": "ipython3",
   "version": "3.6.1"
  }
 },
 "nbformat": 4,
 "nbformat_minor": 2
}
