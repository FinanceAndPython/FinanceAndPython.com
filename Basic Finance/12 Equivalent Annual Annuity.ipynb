{
 "cells": [
  {
   "cell_type": "code",
   "execution_count": 1,
   "metadata": {
    "collapsed": true
   },
   "outputs": [],
   "source": [
    "def annuityValue(year,payment,r):\n",
    "    annuity_value = payment*(1-(1+r)**(-year))/r\n",
    "    return annuity_value"
   ]
  },
  {
   "cell_type": "code",
   "execution_count": 2,
   "metadata": {},
   "outputs": [
    {
     "name": "stdout",
     "output_type": "stream",
     "text": [
      "16.473833531541146\n",
      "11.162401468523967\n"
     ]
    }
   ],
   "source": [
    "print(annuityValue(5,50,.05)-200)\n",
    "print(annuityValue(3,50,.05)-125)"
   ]
  },
  {
   "cell_type": "code",
   "execution_count": 3,
   "metadata": {
    "collapsed": true
   },
   "outputs": [],
   "source": [
    "A= annuityValue(5,50,.05)-200\n",
    "B= annuityValue(3,50,.05)-125"
   ]
  },
  {
   "cell_type": "code",
   "execution_count": 4,
   "metadata": {
    "collapsed": true
   },
   "outputs": [],
   "source": [
    "def aFactor(r,t):\n",
    "    return (1-(1+r)**(-t))/r"
   ]
  },
  {
   "cell_type": "code",
   "execution_count": 5,
   "metadata": {},
   "outputs": [
    {
     "name": "stdout",
     "output_type": "stream",
     "text": [
      "3.805040374346408\n",
      "4.098929421094386\n"
     ]
    }
   ],
   "source": [
    "print(A/aFactor(.05,5))\n",
    "print(B/aFactor(.05,3))"
   ]
  }
 ],
 "metadata": {
  "kernelspec": {
   "display_name": "Python 3",
   "language": "python",
   "name": "python3"
  },
  "language_info": {
   "codemirror_mode": {
    "name": "ipython",
    "version": 3
   },
   "file_extension": ".py",
   "mimetype": "text/x-python",
   "name": "python",
   "nbconvert_exporter": "python",
   "pygments_lexer": "ipython3",
   "version": "3.6.1"
  }
 },
 "nbformat": 4,
 "nbformat_minor": 2
}
