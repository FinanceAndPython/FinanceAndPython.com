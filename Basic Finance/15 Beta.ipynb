{
 "cells": [
  {
   "cell_type": "code",
   "execution_count": 1,
   "metadata": {},
   "outputs": [
    {
     "name": "stdout",
     "output_type": "stream",
     "text": [
      "[[ 0.00375  0.0075 ]\n",
      " [ 0.0075   0.015  ]]\n"
     ]
    }
   ],
   "source": [
    "import numpy as np\n",
    "index = [.1,.05,-.05,.05,.1]\n",
    "A = [.2,.1,-.1,.1,.2]\n",
    "B = [.15,0,.05,0,.2]\n",
    "C = [.1,.15,.1,.15,.1]\n",
    "print(np.cov(index,A))"
   ]
  },
  {
   "cell_type": "code",
   "execution_count": 2,
   "metadata": {},
   "outputs": [
    {
     "name": "stdout",
     "output_type": "stream",
     "text": [
      "0.0075\n"
     ]
    }
   ],
   "source": [
    "print(np.cov(index,A)[0][1])"
   ]
  },
  {
   "cell_type": "code",
   "execution_count": 3,
   "metadata": {
    "collapsed": true
   },
   "outputs": [],
   "source": [
    "index = [.1,.05,-.05,0,.1]\n",
    "A = [.2,.1,-.1,0,.2]\n",
    "B = [.15,0,.05,0,.2]\n",
    "C = [.1,.1,.1,.1,.1]"
   ]
  },
  {
   "cell_type": "code",
   "execution_count": 4,
   "metadata": {
    "collapsed": true
   },
   "outputs": [],
   "source": [
    "def beta(indx,stock):\n",
    "    return np.cov(indx,stock)[0][1]/np.var(indx, ddof=1)"
   ]
  },
  {
   "cell_type": "code",
   "execution_count": 5,
   "metadata": {},
   "outputs": [
    {
     "name": "stdout",
     "output_type": "stream",
     "text": [
      "2.0\n",
      "0.970588235294\n",
      "0.0\n"
     ]
    }
   ],
   "source": [
    "print(beta(index,A))\n",
    "print(beta(index,B))\n",
    "print(beta(index,C))"
   ]
  }
 ],
 "metadata": {
  "kernelspec": {
   "display_name": "Python 3",
   "language": "python",
   "name": "python3"
  },
  "language_info": {
   "codemirror_mode": {
    "name": "ipython",
    "version": 3
   },
   "file_extension": ".py",
   "mimetype": "text/x-python",
   "name": "python",
   "nbconvert_exporter": "python",
   "pygments_lexer": "ipython3",
   "version": "3.6.1"
  }
 },
 "nbformat": 4,
 "nbformat_minor": 2
}
