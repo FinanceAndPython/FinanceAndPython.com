{
 "cells": [
  {
   "cell_type": "code",
   "execution_count": 1,
   "metadata": {
    "collapsed": true
   },
   "outputs": [],
   "source": [
    "def bondValue(fv,year,cr,r):\n",
    "    final_pay = fv/(1+r)**year\n",
    "    coupon_payment = (fv*cr)\n",
    "    annuity_value = coupon_payment*(1-(1+r)**(-year))/r\n",
    "    return annuity_value+final_pay"
   ]
  },
  {
   "cell_type": "code",
   "execution_count": 2,
   "metadata": {},
   "outputs": [
    {
     "name": "stdout",
     "output_type": "stream",
     "text": [
      "1141.4037852551264\n"
     ]
    }
   ],
   "source": [
    "print(bondValue(1000,5,.05,.02))"
   ]
  },
  {
   "cell_type": "code",
   "execution_count": 3,
   "metadata": {},
   "outputs": [
    {
     "data": {
      "text/plain": [
       "0.05000000000103398"
      ]
     },
     "execution_count": 3,
     "metadata": {},
     "output_type": "execute_result"
    }
   ],
   "source": [
    "def findCR(pv,fv,year,r):\n",
    "    final_pay = fv/(1+r)**year\n",
    "    annuity_factor = (1-(1+r)**(-year))/r\n",
    "    annuity_value = pv-final_pay\n",
    "    coupon_payment = annuity_value/annuity_factor\n",
    "    cr = coupon_payment/fv\n",
    "    return cr\n",
    "\n",
    "findCR(1141.40378526,1000,5,.02)"
   ]
  },
  {
   "cell_type": "code",
   "execution_count": 4,
   "metadata": {
    "collapsed": true
   },
   "outputs": [],
   "source": [
    "def function(r,price,fv,year,cr):\n",
    "    final_pay = fv/(1+r)**year\n",
    "    coupon_payment = (fv*cr)\n",
    "    annuity_value = coupon_payment*(1-(1+r)**(-year))/r\n",
    "    return annuity_value+final_pay-price"
   ]
  },
  {
   "cell_type": "code",
   "execution_count": 5,
   "metadata": {},
   "outputs": [
    {
     "data": {
      "text/plain": [
       "-4.873527359450236e-09"
      ]
     },
     "execution_count": 5,
     "metadata": {},
     "output_type": "execute_result"
    }
   ],
   "source": [
    "function(.02,1141.40378526,1000,5,.05)"
   ]
  },
  {
   "cell_type": "code",
   "execution_count": 6,
   "metadata": {
    "collapsed": true
   },
   "outputs": [],
   "source": [
    "from scipy.optimize import fsolve\n",
    "def findYield(price,fv,year,cr):\n",
    "    return fsolve(function, cr,(price,fv,year,cr))[0]"
   ]
  },
  {
   "cell_type": "code",
   "execution_count": 7,
   "metadata": {},
   "outputs": [
    {
     "data": {
      "text/plain": [
       "0.019999999999048713"
      ]
     },
     "execution_count": 7,
     "metadata": {},
     "output_type": "execute_result"
    }
   ],
   "source": [
    "findYield(1141.40378526,1000,5,.05)"
   ]
  }
 ],
 "metadata": {
  "kernelspec": {
   "display_name": "Python 3",
   "language": "python",
   "name": "python3"
  },
  "language_info": {
   "codemirror_mode": {
    "name": "ipython",
    "version": 3
   },
   "file_extension": ".py",
   "mimetype": "text/x-python",
   "name": "python",
   "nbconvert_exporter": "python",
   "pygments_lexer": "ipython3",
   "version": "3.6.1"
  }
 },
 "nbformat": 4,
 "nbformat_minor": 2
}
