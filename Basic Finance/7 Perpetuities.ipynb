{
 "cells": [
  {
   "cell_type": "code",
   "execution_count": 1,
   "metadata": {
    "collapsed": true
   },
   "outputs": [],
   "source": [
    "def TVM(C,r,t,mode):\n",
    "    discount = (1+r)**t\n",
    "    if mode==\"FV\":\n",
    "        return C*discount\n",
    "    if mode==\"PV\":\n",
    "        return C/discount"
   ]
  },
  {
   "cell_type": "code",
   "execution_count": 2,
   "metadata": {},
   "outputs": [
    {
     "name": "stdout",
     "output_type": "stream",
     "text": [
      "82.03482998751551\n",
      "13.803296719774542\n",
      "2.5108931858165077e-07\n",
      "9.960528462617324e-85\n"
     ]
    }
   ],
   "source": [
    "print(TVM(100,.02,10,\"PV\"))\n",
    "print(TVM(100,.02,100,\"PV\"))\n",
    "print(TVM(100,.02,1000,\"PV\"))\n",
    "print(TVM(100,.02,10000,\"PV\"))"
   ]
  },
  {
   "cell_type": "code",
   "execution_count": 3,
   "metadata": {},
   "outputs": [
    {
     "name": "stdout",
     "output_type": "stream",
     "text": [
      "4999.999987445526\n"
     ]
    }
   ],
   "source": [
    "total=0\n",
    "for year in range(1,1001):\n",
    "    total+= TVM(100,.02,year,\"PV\")\n",
    "print(total)"
   ]
  }
 ],
 "metadata": {
  "kernelspec": {
   "display_name": "Python 3",
   "language": "python",
   "name": "python3"
  },
  "language_info": {
   "codemirror_mode": {
    "name": "ipython",
    "version": 3
   },
   "file_extension": ".py",
   "mimetype": "text/x-python",
   "name": "python",
   "nbconvert_exporter": "python",
   "pygments_lexer": "ipython3",
   "version": "3.6.1"
  }
 },
 "nbformat": 4,
 "nbformat_minor": 2
}
