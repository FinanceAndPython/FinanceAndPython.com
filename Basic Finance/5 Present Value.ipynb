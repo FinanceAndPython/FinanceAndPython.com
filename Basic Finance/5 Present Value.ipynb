{
 "cells": [
  {
   "cell_type": "code",
   "execution_count": 1,
   "metadata": {
    "collapsed": true
   },
   "outputs": [],
   "source": [
    "def compoundInterest(p,r,t):\n",
    "    A = p*(1+r)**t\n",
    "    return A"
   ]
  },
  {
   "cell_type": "code",
   "execution_count": 2,
   "metadata": {
    "collapsed": true
   },
   "outputs": [],
   "source": [
    "def presentValue(C,r,t):\n",
    "    PV = C/(1+r)**t\n",
    "    return PV"
   ]
  },
  {
   "cell_type": "code",
   "execution_count": 3,
   "metadata": {
    "collapsed": true
   },
   "outputs": [],
   "source": [
    "principal = 100\n",
    "rate = .08\n",
    "time = 5"
   ]
  },
  {
   "cell_type": "code",
   "execution_count": 4,
   "metadata": {},
   "outputs": [
    {
     "name": "stdout",
     "output_type": "stream",
     "text": [
      "1.4693280768000005\n"
     ]
    }
   ],
   "source": [
    "discount = (1+rate)**time\n",
    "print(discount)"
   ]
  },
  {
   "cell_type": "code",
   "execution_count": 5,
   "metadata": {},
   "outputs": [
    {
     "name": "stdout",
     "output_type": "stream",
     "text": [
      "68.05831970337529\n",
      "68.05831970337529\n"
     ]
    }
   ],
   "source": [
    "print(principal/discount)\n",
    "print(presentValue(principal,rate,time))"
   ]
  },
  {
   "cell_type": "code",
   "execution_count": 6,
   "metadata": {
    "collapsed": true
   },
   "outputs": [],
   "source": [
    "principal = 200\n",
    "rate = .06\n",
    "time = 3"
   ]
  },
  {
   "cell_type": "code",
   "execution_count": 7,
   "metadata": {
    "collapsed": true
   },
   "outputs": [],
   "source": [
    "def futureValue(PV,r,t):\n",
    "    FV = PV*(1+r)**t\n",
    "    return FV"
   ]
  },
  {
   "cell_type": "code",
   "execution_count": 8,
   "metadata": {},
   "outputs": [
    {
     "name": "stdout",
     "output_type": "stream",
     "text": [
      "238.2032\n",
      "238.2032\n"
     ]
    }
   ],
   "source": [
    "print((200*(1+.06)**3))\n",
    "print(futureValue(principal,rate,time))"
   ]
  },
  {
   "cell_type": "code",
   "execution_count": 9,
   "metadata": {},
   "outputs": [
    {
     "name": "stdout",
     "output_type": "stream",
     "text": [
      "1\n",
      "1\n"
     ]
    }
   ],
   "source": [
    "x = 1\n",
    "if x==1:\n",
    "    print(x)\n",
    "    print(x)"
   ]
  },
  {
   "cell_type": "code",
   "execution_count": 10,
   "metadata": {},
   "outputs": [
    {
     "name": "stdout",
     "output_type": "stream",
     "text": [
      "ERROR!!\n"
     ]
    }
   ],
   "source": [
    "x = 2\n",
    "if x==1:\n",
    "    print(x)\n",
    "    print(x)\n",
    "else:\n",
    "    print(\"ERROR!!\")"
   ]
  },
  {
   "cell_type": "code",
   "execution_count": 11,
   "metadata": {},
   "outputs": [
    {
     "name": "stdout",
     "output_type": "stream",
     "text": [
      "Now we have 2\n"
     ]
    }
   ],
   "source": [
    "x = 2\n",
    "if x==1:\n",
    "    print(x)\n",
    "    print(x)\n",
    "elif x==2:\n",
    "    print(\"Now we have 2\")\n",
    "else:\n",
    "    print(\"ERROR!!\")"
   ]
  },
  {
   "cell_type": "code",
   "execution_count": 12,
   "metadata": {
    "collapsed": true
   },
   "outputs": [],
   "source": [
    "def TVM(C,r,t,mode):\n",
    "    discount = (1+r)**t\n",
    "    if mode==\"FV\":\n",
    "        return C*discount\n",
    "    if mode==\"PV\":\n",
    "        return C/discount"
   ]
  }
 ],
 "metadata": {
  "kernelspec": {
   "display_name": "Python 3",
   "language": "python",
   "name": "python3"
  },
  "language_info": {
   "codemirror_mode": {
    "name": "ipython",
    "version": 3
   },
   "file_extension": ".py",
   "mimetype": "text/x-python",
   "name": "python",
   "nbconvert_exporter": "python",
   "pygments_lexer": "ipython3",
   "version": "3.6.1"
  }
 },
 "nbformat": 4,
 "nbformat_minor": 2
}
