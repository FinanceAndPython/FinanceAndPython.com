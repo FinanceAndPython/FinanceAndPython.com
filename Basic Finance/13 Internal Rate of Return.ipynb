{
 "cells": [
  {
   "cell_type": "code",
   "execution_count": 1,
   "metadata": {
    "collapsed": true
   },
   "outputs": [],
   "source": [
    "def TVM(C,r,t,mode):\n",
    "    discount = (1+r)**t\n",
    "    if mode==\"FV\":\n",
    "        return C*discount\n",
    "    if mode==\"PV\":\n",
    "        return C/discount\n",
    "def totalTVM(payments,rate,years):\n",
    "    total = 0\n",
    "    for index in range(0,len(payments)):\n",
    "        total+= TVM(payments[index],rate,years[index],\"PV\")\n",
    "    return total"
   ]
  },
  {
   "cell_type": "code",
   "execution_count": 2,
   "metadata": {},
   "outputs": [
    {
     "data": {
      "image/png": "[encoded data removed]",
      "text/plain": [
       "<matplotlib.figure.Figure at 0x1045bf7f0>"
      ]
     },
     "metadata": {},
     "output_type": "display_data"
    }
   ],
   "source": [
    "import matplotlib.pyplot as plt\n",
    "r=0\n",
    "payments=[-300,100,150,50,50]\n",
    "years=[0,2,4,6,8]\n",
    "rates = []\n",
    "values= []\n",
    "for _ in range(20):\n",
    "\n",
    "    rates+=[r]\n",
    "    v=totalTVM(payments,r,years)\n",
    "    values +=[v]\n",
    "    r+=.01\n",
    "plt.plot(rates,values)\n",
    "plt.xlabel(\"IRR\")\n",
    "plt.ylabel(\"Present Value\")\n",
    "plt.title(\"Finding IRR\")\n",
    "plt.show()"
   ]
  },
  {
   "cell_type": "code",
   "execution_count": 3,
   "metadata": {},
   "outputs": [
    {
     "data": {
      "text/plain": [
       "0.037247891452590935"
      ]
     },
     "execution_count": 3,
     "metadata": {},
     "output_type": "execute_result"
    }
   ],
   "source": [
    "def totalTVM(rate,payments,years):\n",
    "    total = 0\n",
    "    for index in range(0,len(payments)):\n",
    "        total+= TVM(payments[index],rate,years[index],\"PV\")\n",
    "    return total\n",
    "\n",
    "\n",
    "from scipy.optimize import fsolve\n",
    "def findIRR(payments,years):\n",
    "    return fsolve(totalTVM, 0,(payments,years))[0]\n",
    "findIRR(payments,years)"
   ]
  }
 ],
 "metadata": {
  "kernelspec": {
   "display_name": "Python 3",
   "language": "python",
   "name": "python3"
  },
  "language_info": {
   "codemirror_mode": {
    "name": "ipython",
    "version": 3
   },
   "file_extension": ".py",
   "mimetype": "text/x-python",
   "name": "python",
   "nbconvert_exporter": "python",
   "pygments_lexer": "ipython3",
   "version": "3.6.1"
  }
 },
 "nbformat": 4,
 "nbformat_minor": 2
}
