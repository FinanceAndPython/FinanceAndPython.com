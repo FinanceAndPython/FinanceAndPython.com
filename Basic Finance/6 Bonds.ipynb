{
 "cells": [
  {
   "cell_type": "code",
   "execution_count": 1,
   "metadata": {
    "collapsed": true
   },
   "outputs": [],
   "source": [
    "#Bond's are agreements where one party either pays one payment in the future (the face value)\n",
    "#Or multiple payments (coupon payments) until the bond maturity where the face value is paid\n",
    "#Bonds without coupons are the same as we have done already where we can just discount the payment back\n",
    "#On the other hand let's look at what a bond looks like on a timeline"
   ]
  },
  {
   "cell_type": "code",
   "execution_count": 2,
   "metadata": {},
   "outputs": [
    {
     "name": "stdout",
     "output_type": "stream",
     "text": [
      "[20.0, 20.0, 20.0, 20.0, 1020.0]\n"
     ]
    }
   ],
   "source": [
    "FV = 1000\n",
    "#Coupon Rate\n",
    "cr = .02\n",
    "#coupon payment\n",
    "coupon = FV*cr\n",
    "periods = 5\n",
    "payments = [coupon]*periods\n",
    "#Last period we also get the face value\n",
    "payments[-1]+=FV\n",
    "print(payments)"
   ]
  },
  {
   "cell_type": "code",
   "execution_count": 3,
   "metadata": {},
   "outputs": [
    {
     "name": "stdout",
     "output_type": "stream",
     "text": [
      "[19.047619047619047, 18.140589569160998, 17.27675197062952, 16.454049495837637, 799.196689797828]\n"
     ]
    }
   ],
   "source": [
    "time = list(range(1,6))\n",
    "#Now let's say we have r=5%, what is our present value of the bond?\n",
    "PV = [x/(1.05)**t for x,t in zip(payments,time)]\n",
    "print(PV)"
   ]
  },
  {
   "cell_type": "code",
   "execution_count": 4,
   "metadata": {},
   "outputs": [
    {
     "name": "stdout",
     "output_type": "stream",
     "text": [
      "870.1156998810752\n"
     ]
    }
   ],
   "source": [
    "PV = sum(PV)\n",
    "print(PV)"
   ]
  },
  {
   "cell_type": "code",
   "execution_count": 5,
   "metadata": {
    "collapsed": true
   },
   "outputs": [],
   "source": [
    "#Bringing back our timeline function\n",
    "import matplotlib.pyplot as plt\n",
    "plt.rcParams[\"figure.figsize\"] = [12,4]\n",
    "def timelinePlot(periods,values):\n",
    "    #Create our plot\n",
    "    fig = plt.figure()\n",
    "    ax = fig.add_subplot(111)\n",
    "    \n",
    "    #Set the limits of our plots (in terms of values, not dimensions)\n",
    "    ax.set_xlim(0,10)\n",
    "    ax.set_ylim(0,10)\n",
    "    \n",
    "    #Set the minimums that we will be plotting in (we give a 1 or 10% margin on each side)\n",
    "    xmin = 1\n",
    "    xmax = 9\n",
    "    \n",
    "    #Set the y of where our plot will be centered around, 5 is the middle\n",
    "    y = 5\n",
    "    \n",
    "    #Set height for our ticks\n",
    "    height = 1\n",
    "    \n",
    "    #Get the spacing between each tick\n",
    "    delta = (xmax-xmin)/periods\n",
    "    #Create the positions for each tick\n",
    "    positions = [xmin+delta*x for x in list(range(periods+1))]\n",
    "    \n",
    "    #Plot the horizontal line\n",
    "    plt.hlines(y, xmin, xmax)\n",
    "\n",
    "    for t in range(periods+1):\n",
    "        #Plot the tick\n",
    "        plt.vlines(positions[t], y - .5, y + .5)\n",
    "        #Plot the time period below\n",
    "        plt.text(positions[t], y-1.2, t, horizontalalignment='center',fontsize=14)\n",
    "    #Get rid of axes\n",
    "    plt.axis('off')\n",
    "    \n",
    "    for value in values:\n",
    "        #Plot a red dot on the year that our value is at\n",
    "        plt.plot(positions[value[1]],y, 'ro', ms = 15, mfc = 'r')\n",
    "        #Plot the values above, use rounding to keep it clean\n",
    "        plt.text(positions[value[1]], y+1.2, \"$\"+str(round(value[0],1)), horizontalalignment='center',fontsize=18)\n",
    "\n",
    "    \n",
    "    plt.show()"
   ]
  },
  {
   "cell_type": "code",
   "execution_count": 6,
   "metadata": {},
   "outputs": [
    {
     "data": {
      "image/png": "[encoded data removed]",
      "text/plain": [
       "<matplotlib.figure.Figure at 0x105b4d588>"
      ]
     },
     "metadata": {},
     "output_type": "display_data"
    }
   ],
   "source": [
    "data = [(-PV,0)]\n",
    "for x,t in zip(payments,time):\n",
    "    data.append((x,t))\n",
    "\n",
    "timelinePlot(5,data)"
   ]
  },
  {
   "cell_type": "code",
   "execution_count": 7,
   "metadata": {},
   "outputs": [
    {
     "name": "stdout",
     "output_type": "stream",
     "text": [
      "0.02298544894975868\n"
     ]
    }
   ],
   "source": [
    "#Now you might be wondering, if I pay 870.1, how do I get to 5% return in period 1?\n",
    "#Since after all the return of the coupon is...\n",
    "print(20/PV)"
   ]
  },
  {
   "cell_type": "code",
   "execution_count": 8,
   "metadata": {},
   "outputs": [
    {
     "name": "stdout",
     "output_type": "stream",
     "text": [
      "[20.0, 20.0, 20.0, 1020.0]\n"
     ]
    }
   ],
   "source": [
    "#The trick is understanding that the bond is actually worth more now!\n",
    "#Let's look at what each payment is worth in time 1\n",
    "#One way we can do this is by defining time 1 as the new period 0 and shifting everything... so if that were the case\n",
    "payments = payments[1:]\n",
    "print(payments)"
   ]
  },
  {
   "cell_type": "code",
   "execution_count": 9,
   "metadata": {},
   "outputs": [
    {
     "data": {
      "image/png": "[encoded data removed]",
      "text/plain": [
       "<matplotlib.figure.Figure at 0x105b4d3c8>"
      ]
     },
     "metadata": {},
     "output_type": "display_data"
    }
   ],
   "source": [
    "time = list(range(1,5))\n",
    "data = []\n",
    "for x,t in zip(payments,time):\n",
    "    data.append((x,t))\n",
    "\n",
    "timelinePlot(4,data)"
   ]
  },
  {
   "cell_type": "code",
   "execution_count": 10,
   "metadata": {},
   "outputs": [
    {
     "name": "stdout",
     "output_type": "stream",
     "text": [
      "893.621484875129\n"
     ]
    }
   ],
   "source": [
    "time = list(range(1,6))\n",
    "#Now let's say we have r=5%, what is our present value of the bond?\n",
    "PV = sum([x/(1.05)**t for x,t in zip(payments,time)])\n",
    "print(PV)"
   ]
  },
  {
   "cell_type": "code",
   "execution_count": 11,
   "metadata": {},
   "outputs": [
    {
     "name": "stdout",
     "output_type": "stream",
     "text": [
      "1.05\n"
     ]
    }
   ],
   "source": [
    "#The bond is now worth more because the remaining coupons, and more importantly the large payment at the end\n",
    "#are discounted less\n",
    "#So we get $20 as well a bond that is now worth more if we want to sell it\n",
    "print((893.621484875129+20)/870.1156998810752)\n",
    "#5% Return"
   ]
  },
  {
   "cell_type": "code",
   "execution_count": 12,
   "metadata": {
    "collapsed": true
   },
   "outputs": [],
   "source": [
    "#A bond is an annuity plus a face value payment at the end, so we can define it as our annuity formula plus face value\n",
    "#discounted back\n",
    "def annuityTVM(P,n,r):\n",
    "    annuityFactor = (1-(1+r)**-n)/r\n",
    "    annuity = annuityFactor*P\n",
    "    return annuity\n",
    "def bond(FV,cr,n,r):\n",
    "    #payment is equal to the coupon rate times the FV\n",
    "    P = FV*cr\n",
    "    annuityPV = annuityTVM(P,n,r)\n",
    "    return annuityPV+(FV)/(1+r)**n"
   ]
  },
  {
   "cell_type": "code",
   "execution_count": 13,
   "metadata": {},
   "outputs": [
    {
     "name": "stdout",
     "output_type": "stream",
     "text": [
      "870.1156998810752\n"
     ]
    }
   ],
   "source": [
    "print(bond(1000,.02,5,.05))\n",
    "#Same value as before"
   ]
  },
  {
   "cell_type": "code",
   "execution_count": 14,
   "metadata": {
    "collapsed": true
   },
   "outputs": [],
   "source": [
    "#If we pay less for our bond than the face value then we say we are buying at a discount\n",
    "#Let's see how the value of our bond changes as we get closer to the maturity date"
   ]
  },
  {
   "cell_type": "code",
   "execution_count": 15,
   "metadata": {},
   "outputs": [
    {
     "name": "stdout",
     "output_type": "stream",
     "text": [
      "768.3479521244554\n",
      "786.7653497306782\n",
      "806.1036172172122\n",
      "826.4087980780728\n",
      "847.7292379819763\n",
      "870.1156998810752\n",
      "893.6214848751291\n",
      "918.3025591188856\n",
      "944.21768707483\n",
      "971.4285714285713\n"
     ]
    }
   ],
   "source": [
    "n = 10\n",
    "FV = 1000\n",
    "cr = .02\n",
    "r = .05\n",
    "time = list(range(n))\n",
    "timeLeft = [n-x for x in time]\n",
    "PV = []\n",
    "for i in timeLeft:\n",
    "    val = bond(FV,cr,i,r)\n",
    "    PV.append(val)\n",
    "    print(val)\n",
    "#As we get closer to maturity, our bond appreciates in value"
   ]
  },
  {
   "cell_type": "code",
   "execution_count": 16,
   "metadata": {},
   "outputs": [
    {
     "data": {
      "image/png": "[encoded data removed]",
      "text/plain": [
       "<matplotlib.figure.Figure at 0x107906198>"
      ]
     },
     "metadata": {},
     "output_type": "display_data"
    }
   ],
   "source": [
    "plt.rcParams[\"figure.figsize\"] = [8,6]\n",
    "plt.plot(timeLeft,PV)\n",
    "plt.xlim([10,0])\n",
    "plt.xlabel(\"Time to Maturity\")\n",
    "plt.ylabel(\"Bond Present Value\")\n",
    "plt.title(\"Bond Present Value vs. Time to Maturity\")\n",
    "plt.show()"
   ]
  },
  {
   "cell_type": "code",
   "execution_count": 17,
   "metadata": {},
   "outputs": [
    {
     "name": "stdout",
     "output_type": "stream",
     "text": [
      "999.9999999999999\n"
     ]
    }
   ],
   "source": [
    "#When a bond has a coupon rate that equals r, it is priced at par, let's see why\n",
    "plt.rcParams[\"figure.figsize\"] = [12,4]\n",
    "FV = 1000\n",
    "cr = .05\n",
    "r = .05\n",
    "n = 5\n",
    "print(bond(FV,cr,n,r))"
   ]
  },
  {
   "cell_type": "code",
   "execution_count": 18,
   "metadata": {},
   "outputs": [
    {
     "data": {
      "image/png": "[encoded data removed]",
      "text/plain": [
       "<matplotlib.figure.Figure at 0x10773b6d8>"
      ]
     },
     "metadata": {},
     "output_type": "display_data"
    }
   ],
   "source": [
    "data = [(-1000,0)]\n",
    "for t in range(1,n):\n",
    "    data.append((50,t))\n",
    "data.append((1050,5))\n",
    "timelinePlot(5,data)"
   ]
  },
  {
   "cell_type": "code",
   "execution_count": 19,
   "metadata": {},
   "outputs": [
    {
     "name": "stdout",
     "output_type": "stream",
     "text": [
      "0.05\n"
     ]
    }
   ],
   "source": [
    "#If you notice, the return on our bond from 0 to 1, is 5% because we have a $50 return on a $1000 investment\n",
    "print(50/1000)"
   ]
  },
  {
   "cell_type": "code",
   "execution_count": 20,
   "metadata": {},
   "outputs": [
    {
     "name": "stdout",
     "output_type": "stream",
     "text": [
      "1000.0\n"
     ]
    }
   ],
   "source": [
    "#The value/price of the bond stays the same, so there are no gains from bond price appreciation like in the discount bond\n",
    "print(bond(FV,cr,n-1,r))"
   ]
  },
  {
   "cell_type": "code",
   "execution_count": 21,
   "metadata": {},
   "outputs": [
    {
     "name": "stdout",
     "output_type": "stream",
     "text": [
      "[[768.3479521244554, 786.7653497306782, 806.1036172172122, 826.4087980780728, 847.7292379819763, 870.1156998810752, 893.6214848751291, 918.3025591188856, 944.21768707483, 971.4285714285713], [1000.0, 999.9999999999999, 1000.0, 1000.0, 999.9999999999998, 999.9999999999999, 1000.0, 1000.0, 1000.0, 1000.0]]\n"
     ]
    }
   ],
   "source": [
    "n = 10\n",
    "FV = 1000\n",
    "cr = [.02,.05]\n",
    "r = .05\n",
    "time = list(range(n))\n",
    "timeLeft = [n-x for x in time]\n",
    "data = []\n",
    "#Loop through the credit rates and get the present values at the different maturities\n",
    "for cr_i in cr:\n",
    "    PV = []\n",
    "    for i in timeLeft:\n",
    "        val = bond(FV,cr_i,i,r)\n",
    "        PV.append(val)\n",
    "    data.append(PV)\n",
    "print(data)"
   ]
  },
  {
   "cell_type": "code",
   "execution_count": 22,
   "metadata": {},
   "outputs": [
    {
     "data": {
      "image/png": "[encoded data removed]",
      "text/plain": [
       "<matplotlib.figure.Figure at 0x107b829b0>"
      ]
     },
     "metadata": {},
     "output_type": "display_data"
    }
   ],
   "source": [
    "plt.rcParams[\"figure.figsize\"] = [8,6]\n",
    "for PV,cr_i in zip(data,cr):\n",
    "    plt.plot(timeLeft,PV,label=\"Coupon Rate=\"+str(cr_i))\n",
    "plt.xlim([10,0])\n",
    "plt.xlabel(\"Time to Maturity\")\n",
    "plt.ylabel(\"Bond Present Value\")\n",
    "plt.title(\"Bond Present Value vs. Time to Maturity\")\n",
    "plt.legend()\n",
    "plt.show()"
   ]
  },
  {
   "cell_type": "code",
   "execution_count": 23,
   "metadata": {},
   "outputs": [
    {
     "name": "stdout",
     "output_type": "stream",
     "text": [
      "[[768.3479521244554, 786.7653497306782, 806.1036172172122, 826.4087980780728, 847.7292379819763, 870.1156998810752, 893.6214848751291, 918.3025591188856, 944.21768707483, 971.4285714285713], [1000.0, 999.9999999999999, 1000.0, 1000.0, 999.9999999999998, 999.9999999999999, 1000.0, 1000.0, 1000.0, 1000.0], [1386.0867464592409, 1355.3910837822027, 1323.160637971313, 1289.3186698698787, 1253.7846033633723, 1216.473833531541, 1177.2975252081183, 1136.162401468524, 1092.9705215419503, 1047.6190476190477]]\n"
     ]
    }
   ],
   "source": [
    "#When we have a bond where the coupon rate is beter than r, we actually pay more for it since\n",
    "#we are earning interest at a better rate than we could holding the money in the bank\n",
    "n = 10\n",
    "FV = 1000\n",
    "cr = [.02,.05,.1]\n",
    "r = .05\n",
    "time = list(range(n))\n",
    "timeLeft = [n-x for x in time]\n",
    "data = []\n",
    "#Loop through the credit rates and get the present values at the different maturities\n",
    "for cr_i in cr:\n",
    "    PV = []\n",
    "    for i in timeLeft:\n",
    "        val = bond(FV,cr_i,i,r)\n",
    "        PV.append(val)\n",
    "    data.append(PV)\n",
    "print(data)"
   ]
  },
  {
   "cell_type": "code",
   "execution_count": 24,
   "metadata": {},
   "outputs": [
    {
     "data": {
      "image/png": "[encoded data removed]",
      "text/plain": [
       "<matplotlib.figure.Figure at 0x107c964a8>"
      ]
     },
     "metadata": {},
     "output_type": "display_data"
    }
   ],
   "source": [
    "plt.rcParams[\"figure.figsize\"] = [8,6]\n",
    "for PV,cr_i in zip(data,cr):\n",
    "    plt.plot(timeLeft,PV,label=\"Coupon Rate=\"+str(cr_i))\n",
    "plt.xlim([10,0])\n",
    "plt.xlabel(\"Time to Maturity\")\n",
    "plt.ylabel(\"Bond Present Value\")\n",
    "plt.title(\"Bond Present Value vs. Time to Maturity\")\n",
    "plt.legend()\n",
    "plt.show()\n",
    "#The three converge"
   ]
  },
  {
   "cell_type": "code",
   "execution_count": 25,
   "metadata": {},
   "outputs": [
    {
     "name": "stdout",
     "output_type": "stream",
     "text": [
      "100.0\n",
      "-30.69566267703817\n",
      "\n",
      "69.30433732296183\n",
      "0.04999999999999984\n"
     ]
    }
   ],
   "source": [
    "#Look at how our rate is still 5%\n",
    "n = 10\n",
    "FV = 1000\n",
    "cr = .1\n",
    "r = .05\n",
    "#The price when we buy it with 10 periods to go\n",
    "price = bond(FV,cr,n,r)\n",
    "#The difference between the price at with 9 periods and 10 periods to go\n",
    "diff = bond(FV,cr,n-1,r)-bond(FV,cr,n,r)\n",
    "#Our coupon payment\n",
    "print(cr*FV)\n",
    "#Our change in bond value\n",
    "print(diff)\n",
    "print()\n",
    "#The total value change\n",
    "print(cr*FV+diff)\n",
    "#Divided by our initial investment\n",
    "print((cr*FV+diff)/price)\n",
    "#5% still"
   ]
  },
  {
   "cell_type": "code",
   "execution_count": 26,
   "metadata": {
    "collapsed": true
   },
   "outputs": [],
   "source": [
    "#We can also use the equation to find the coupon rate that corresponds to a certain PV, FV, n and r\n",
    "PV = 926.399129485853\n",
    "FV = 1000\n",
    "n = 10\n",
    "r = .06"
   ]
  },
  {
   "cell_type": "code",
   "execution_count": 27,
   "metadata": {},
   "outputs": [
    {
     "name": "stdout",
     "output_type": "stream",
     "text": [
      "558.3947769151179\n"
     ]
    }
   ],
   "source": [
    "#to find the coupon rate, first we need to figure out what the annuity part of the bond is worth\n",
    "faceValuePV = FV/(1+r)**n\n",
    "print(faceValuePV)"
   ]
  },
  {
   "cell_type": "code",
   "execution_count": 28,
   "metadata": {},
   "outputs": [
    {
     "name": "stdout",
     "output_type": "stream",
     "text": [
      "368.00435257073514\n"
     ]
    }
   ],
   "source": [
    "#So let's take out that from the PV\n",
    "annuityPV = PV - faceValuePV\n",
    "print(annuityPV)"
   ]
  },
  {
   "cell_type": "code",
   "execution_count": 29,
   "metadata": {
    "collapsed": true
   },
   "outputs": [],
   "source": [
    "#So we know that the annuity is worth $368\n",
    "#We also can find the annuity factor since we have r and n"
   ]
  },
  {
   "cell_type": "code",
   "execution_count": 30,
   "metadata": {},
   "outputs": [
    {
     "name": "stdout",
     "output_type": "stream",
     "text": [
      "7.360087051414703\n"
     ]
    }
   ],
   "source": [
    "annuityFactor = (1-(1.06)**-n)/r\n",
    "print(annuityFactor)"
   ]
  },
  {
   "cell_type": "code",
   "execution_count": 31,
   "metadata": {},
   "outputs": [
    {
     "name": "stdout",
     "output_type": "stream",
     "text": [
      "50.0\n"
     ]
    }
   ],
   "source": [
    "#So we know that the payment times the annuity factor is what an annuity's present value equals, so....\n",
    "coupon = annuityPV/annuityFactor\n",
    "print(coupon)"
   ]
  },
  {
   "cell_type": "code",
   "execution_count": 32,
   "metadata": {},
   "outputs": [
    {
     "name": "stdout",
     "output_type": "stream",
     "text": [
      "0.05\n"
     ]
    }
   ],
   "source": [
    "#Coupon rate is coupon/face value\n",
    "print(coupon/1000)"
   ]
  },
  {
   "cell_type": "code",
   "execution_count": 33,
   "metadata": {
    "collapsed": true
   },
   "outputs": [],
   "source": [
    "#For finding r, we would have a lot more issue\n",
    "#We could use some advanced libraries, but that's a little too advanced for this course\n",
    "#Instead, we can try different rates of r and see which one finds us the right present value\n",
    "PV = 768.3479521244554\n",
    "FV = 1000\n",
    "cr = .02\n",
    "n = 10"
   ]
  },
  {
   "cell_type": "code",
   "execution_count": 34,
   "metadata": {},
   "outputs": [
    {
     "name": "stdout",
     "output_type": "stream",
     "text": [
      "1000.0\n",
      "\n",
      "231.65204787554455\n"
     ]
    }
   ],
   "source": [
    "#Let's try to see what our PV would be if r=2%\n",
    "print(bond(FV,cr,n,.02))\n",
    "#That is not the correct r because the PV is different\n",
    "#The difference is...\n",
    "print()\n",
    "print(bond(FV,cr,n,.02)-PV)"
   ]
  },
  {
   "cell_type": "code",
   "execution_count": 35,
   "metadata": {},
   "outputs": [
    {
     "name": "stdout",
     "output_type": "stream",
     "text": [
      "[0.01, 0.02, 0.03, 0.04, 0.05, 0.06, 0.07, 0.08, 0.09, 0.1, 0.11, 0.12]\n"
     ]
    }
   ],
   "source": [
    "#What we could do is test different rates and see which one gets us closest to the PV we are given\n",
    "rates = [x/100 for x in range(1,13)]\n",
    "print(rates)"
   ]
  },
  {
   "cell_type": "code",
   "execution_count": 36,
   "metadata": {},
   "outputs": [
    {
     "name": "stdout",
     "output_type": "stream",
     "text": [
      "[1094.7130453070167, 1000.0, 914.6979716322417, 837.7820844128994, 768.3479521244554, 705.596517943412, 648.8209229533697, 597.3951160635131, 550.7639609188691, 508.4346315436251, 469.9691189972911, 434.97769715891326]\n"
     ]
    }
   ],
   "source": [
    "values = [bond(FV,cr,n,x) for x in rates]\n",
    "print(values)"
   ]
  },
  {
   "cell_type": "code",
   "execution_count": 37,
   "metadata": {},
   "outputs": [
    {
     "name": "stdout",
     "output_type": "stream",
     "text": [
      "[326.3650931825613, 231.65204787554455, 146.35001950778621, 69.43413228844395, 0.0, 62.751434181043464, 119.5270291710857, 170.95283606094233, 217.58399120558636, 259.9133205808304, 298.37883312716434, 333.3702549655422]\n"
     ]
    }
   ],
   "source": [
    "#Differences\n",
    "diff = [abs(x-PV) for x in values]\n",
    "print(diff)"
   ]
  },
  {
   "cell_type": "code",
   "execution_count": 38,
   "metadata": {},
   "outputs": [
    {
     "name": "stdout",
     "output_type": "stream",
     "text": [
      "0.0\n"
     ]
    }
   ],
   "source": [
    "#So let's grab the minimum error\n",
    "print(min(diff))"
   ]
  },
  {
   "cell_type": "code",
   "execution_count": 39,
   "metadata": {},
   "outputs": [
    {
     "name": "stdout",
     "output_type": "stream",
     "text": [
      "4\n"
     ]
    }
   ],
   "source": [
    "#Get the index of it\n",
    "i = diff.index(min(diff))\n",
    "print(i)"
   ]
  },
  {
   "cell_type": "code",
   "execution_count": 40,
   "metadata": {},
   "outputs": [
    {
     "name": "stdout",
     "output_type": "stream",
     "text": [
      "0.05\n"
     ]
    }
   ],
   "source": [
    "#And find the rate that got us there\n",
    "print(rates[i])"
   ]
  },
  {
   "cell_type": "code",
   "execution_count": 41,
   "metadata": {},
   "outputs": [
    {
     "name": "stdout",
     "output_type": "stream",
     "text": [
      "768.3479521244554\n",
      "768.3479521244554\n"
     ]
    }
   ],
   "source": [
    "print(PV)\n",
    "print(bond(FV,cr,n,rates[i]))"
   ]
  }
 ],
 "metadata": {
  "kernelspec": {
   "display_name": "Python 3",
   "language": "python",
   "name": "python3"
  },
  "language_info": {
   "codemirror_mode": {
    "name": "ipython",
    "version": 3
   },
   "file_extension": ".py",
   "mimetype": "text/x-python",
   "name": "python",
   "nbconvert_exporter": "python",
   "pygments_lexer": "ipython3",
   "version": "3.6.3"
  }
 },
 "nbformat": 4,
 "nbformat_minor": 2
}
