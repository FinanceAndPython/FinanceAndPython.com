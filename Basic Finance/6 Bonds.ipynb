{
 "cells": [
  {
   "cell_type": "markdown",
   "metadata": {},
   "source": [
    "# Bonds\n",
    "\n",
    "Bonds are financial instruments that have two types of cashflows. The first type is coupon payments which are periodic payments where as the second type is the principal payment at the end of the bond. The principal payment is a large payout where as the coupon payments are much smaller but frequent payments. The principal is also called the face value. Let's begin with seeing what this looks like on a timeline. Let's say we have a bond with a \\\\$1000 face value which also pays a 2% coupon (equal to \\\\$20) every year over 5 years. Then we receive \\\\$20 in all years except the last one where we get that coupon plus the face value of \\\\$1000."
   ]
  },
  {
   "cell_type": "code",
   "execution_count": 1,
   "metadata": {},
   "outputs": [
    {
     "name": "stdout",
     "output_type": "stream",
     "text": [
      "[20.0, 20.0, 20.0, 20.0, 1020.0]\n"
     ]
    }
   ],
   "source": [
    "#Face value\n",
    "FV = 1000\n",
    "\n",
    "#Coupon Rate\n",
    "cr = .02\n",
    "\n",
    "#Coupon payment\n",
    "coupon = FV*cr\n",
    "\n",
    "#Periods\n",
    "periods = 5\n",
    "\n",
    "#We get one payment every year\n",
    "payments = [coupon]*periods\n",
    "\n",
    "#Last period we also get the face value\n",
    "payments[-1]+=FV\n",
    "print(payments)"
   ]
  },
  {
   "cell_type": "markdown",
   "metadata": {},
   "source": [
    "Now if our discount rate is 5% we can also find what the present value is going to be as we did before."
   ]
  },
  {
   "cell_type": "code",
   "execution_count": 2,
   "metadata": {},
   "outputs": [
    {
     "name": "stdout",
     "output_type": "stream",
     "text": [
      "[19.047619047619047, 18.140589569160998, 17.27675197062952, 16.454049495837637, 799.196689797828]\n",
      "870.1156998810752\n"
     ]
    }
   ],
   "source": [
    "time = list(range(1,6))\n",
    "\n",
    "#Get the present value for each year\n",
    "PV = [x/(1.05)**t for x,t in zip(payments,time)]\n",
    "print(PV)\n",
    "\n",
    "#Find the sum over the years\n",
    "PV = sum(PV)\n",
    "print(PV)"
   ]
  },
  {
   "cell_type": "code",
   "execution_count": 3,
   "metadata": {},
   "outputs": [
    {
     "data": {
      "image/png": "[encoded data removed]",
      "text/plain": [
       "<Figure size 864x288 with 1 Axes>"
      ]
     },
     "metadata": {
      "needs_background": "light"
     },
     "output_type": "display_data"
    }
   ],
   "source": [
    "#Bringing back our timeline function\n",
    "import matplotlib.pyplot as plt\n",
    "def timelinePlot(periods,values):\n",
    "#Create our plot\n",
    "    fig = plt.figure(figsize=(12, 4))\n",
    "    ax = fig.add_subplot(111)\n",
    "    \n",
    "    #Set the limits of our plots (in terms of values, not dimensions)\n",
    "    ax.set_xlim(0,10)\n",
    "    ax.set_ylim(0,10)\n",
    "    \n",
    "    #Set the minimums that we will be plotting in (we give a 1 or 10% margin on each side)\n",
    "    xmin = 1\n",
    "    xmax = 9\n",
    "    \n",
    "    #Set the y of where our plot will be centered around, 5 is the middle\n",
    "    y = 5\n",
    "    \n",
    "    #Set height for our ticks\n",
    "    height = 1\n",
    "    \n",
    "    #Get the spacing between each tick\n",
    "    delta = (xmax-xmin)/periods\n",
    "    \n",
    "    #Create the positions for each tick\n",
    "    positions = [xmin+delta*x for x in list(range(periods+1))]\n",
    "    \n",
    "    #Plot the horizontal line\n",
    "    plt.hlines(y, xmin, xmax, color='grey')\n",
    "\n",
    "    for t in range(periods+1):\n",
    "        #Plot the tick\n",
    "        plt.vlines(positions[t], y - .5, y + .5, color='grey')\n",
    "        \n",
    "        #Plot the time period below\n",
    "        plt.text(positions[t], y-1.2, t, horizontalalignment='center',fontsize=14)\n",
    "        \n",
    "    #Get rid of axes\n",
    "    plt.axis('off')\n",
    "    \n",
    "    for value in values:\n",
    "        #Plot a red dot on the year that our value is at\n",
    "        plt.plot(positions[value[1]],y, 'ro', ms = 15, mfc = 'r')\n",
    "        #Plot the values above, use rounding to keep it clean\n",
    "        plt.text(positions[value[1]], y+1.2, \"$\"+str(round(value[0],1)), horizontalalignment='center',fontsize=18)\n",
    "\n",
    "    \n",
    "    plt.show()\n",
    "\n",
    "#Plot the data\n",
    "data = [(-PV,0)]\n",
    "for x,t in zip(payments,time):\n",
    "    data.append((x,t))\n",
    "\n",
    "timelinePlot(5,data)"
   ]
  },
  {
   "cell_type": "markdown",
   "metadata": {},
   "source": [
    "At first, it may seem like it does not make sense that this bond can have this present value and rate of return given the coupon payments. For example, the $20 payment divided by the present value of the bond equals just 2.3%."
   ]
  },
  {
   "cell_type": "code",
   "execution_count": 4,
   "metadata": {},
   "outputs": [
    {
     "name": "stdout",
     "output_type": "stream",
     "text": [
      "0.02298544894975868\n"
     ]
    }
   ],
   "source": [
    "#The coupon divided by the present value equals 2.3%\n",
    "print(20/PV)"
   ]
  },
  {
   "cell_type": "markdown",
   "metadata": {},
   "source": [
    "Where does the rest of the return come from if the one year return would just be 2.3% from the coupon? The answer is that the bond is also worth more now because the future coupons are discounted less, but more importantly the much larger face value payment is even less discounted. What is the bond going to be worth in a year, let's calculate it after visualizing the structure again."
   ]
  },
  {
   "cell_type": "code",
   "execution_count": 5,
   "metadata": {},
   "outputs": [
    {
     "name": "stdout",
     "output_type": "stream",
     "text": [
      "[20.0, 20.0, 20.0, 1020.0]\n"
     ]
    }
   ],
   "source": [
    "#Now one coupon has been paid out and we have moved forward one year\n",
    "payments = payments[1:]\n",
    "print(payments)"
   ]
  },
  {
   "cell_type": "code",
   "execution_count": 6,
   "metadata": {},
   "outputs": [
    {
     "data": {
      "image/png": "[encoded data removed]",
      "text/plain": [
       "<Figure size 864x288 with 1 Axes>"
      ]
     },
     "metadata": {
      "needs_background": "light"
     },
     "output_type": "display_data"
    }
   ],
   "source": [
    "#Plot the cashflows\n",
    "time = list(range(1,5))\n",
    "data = []\n",
    "for x,t in zip(payments,time):\n",
    "    data.append((x,t))\n",
    "\n",
    "timelinePlot(4,data)"
   ]
  },
  {
   "cell_type": "markdown",
   "metadata": {},
   "source": [
    "Calculate the value of the bond now."
   ]
  },
  {
   "cell_type": "code",
   "execution_count": 7,
   "metadata": {},
   "outputs": [
    {
     "name": "stdout",
     "output_type": "stream",
     "text": [
      "893.621484875129\n"
     ]
    }
   ],
   "source": [
    "time = list(range(1,6))\n",
    "#Now let's say we still have r=5%, what is our present value of the bond?\n",
    "PV = sum([x/(1.05)**t for x,t in zip(payments,time)])\n",
    "print(PV)"
   ]
  },
  {
   "cell_type": "markdown",
   "metadata": {},
   "source": [
    "Now if we add the price appreciation of the bond plus the coupon we see that what we get back is 5%."
   ]
  },
  {
   "cell_type": "code",
   "execution_count": 8,
   "metadata": {},
   "outputs": [
    {
     "name": "stdout",
     "output_type": "stream",
     "text": [
      "0.050000000000000024\n"
     ]
    }
   ],
   "source": [
    "PV0 = 870.1156998810752\n",
    "PV1 = 893.621484875129\n",
    "c = 20\n",
    "print((PV1-PV0+c)/PV0)"
   ]
  },
  {
   "cell_type": "markdown",
   "metadata": {},
   "source": [
    "## Components of Bond Return\n",
    "\n",
    "Now we can say that there are two components of the bond return. We are actually paid out a coupon payment, but besides that the present value of the bond appreciates (in future cases we will see that it may depreciate as well though). We do not actually get those payments, but if the rate stays the same we could hypothetically sell it for more than we bought it at that point to get the rest of our return."
   ]
  },
  {
   "cell_type": "markdown",
   "metadata": {},
   "source": [
    "## Bond Equation\n",
    "\n",
    "Bonds also have a simple equation to represent them which is just an annuity formula plus the present value of the face value.\n",
    "\n",
    "$$ PV = F \\cdot c \\cdot \\frac{1-(1+r)^n}{r} + \\frac{F}{(1+r)^n}$$\n",
    "\n",
    "where\n",
    "\n",
    "$ PV = \\text{Present Value} $\n",
    "\n",
    "$ F = \\text{Face Value} $\n",
    "\n",
    "$ c = \\text{Coupon Rate} $\n",
    "\n",
    "$ r = \\text{Discount Rate} $\n",
    "\n",
    "$ n = \\text{Number of Periods} $"
   ]
  },
  {
   "cell_type": "code",
   "execution_count": 9,
   "metadata": {},
   "outputs": [],
   "source": [
    "#Convert this to some formulas\n",
    "\n",
    "#Use our annuity formula from before\n",
    "def annuityTVM(P, n, r):\n",
    "    annuityFactor = (1-(1+r)**-n)/r\n",
    "    annuity = annuityFactor*P\n",
    "    return annuity\n",
    "\n",
    "def bond_value(F, c, n, r):\n",
    "    #Payment is equal to the coupon rate times the FV\n",
    "    P = F*c\n",
    "    \n",
    "    #Find the annuity present value\n",
    "    annuity_PV = annuityTVM(P,n,r)\n",
    "    \n",
    "    #Find the face value present value\n",
    "    face_value_PV = (F)/(1+r)**n\n",
    "    \n",
    "    #Return the sum\n",
    "    return annuity_PV + face_value_PV"
   ]
  },
  {
   "cell_type": "code",
   "execution_count": 10,
   "metadata": {},
   "outputs": [
    {
     "name": "stdout",
     "output_type": "stream",
     "text": [
      "870.1156998810752\n"
     ]
    }
   ],
   "source": [
    "#Same value as before\n",
    "print(bond_value(1000, .02, 5, .05))"
   ]
  },
  {
   "cell_type": "markdown",
   "metadata": {},
   "source": [
    "## Par Bonds\n",
    "\n",
    "A bond which is at par value is one which has a present value equal to its face value. This happens when the coupon matches the discount rate. Let's see some examples of this below."
   ]
  },
  {
   "cell_type": "code",
   "execution_count": 11,
   "metadata": {},
   "outputs": [
    {
     "name": "stdout",
     "output_type": "stream",
     "text": [
      "999.9999999999999\n",
      "1000.0\n",
      "1000.0\n",
      "5000.0\n",
      "5000.0\n"
     ]
    }
   ],
   "source": [
    "print(bond_value(1000, .05, 5, .05))\n",
    "print(bond_value(1000, .07, 5, .07))\n",
    "print(bond_value(1000, .07, 10, .07))\n",
    "print(bond_value(5000, .05, 5, .05))\n",
    "print(bond_value(5000, .1, 10, .1))"
   ]
  },
  {
   "cell_type": "markdown",
   "metadata": {},
   "source": [
    "## Discount Bonds and Pull to Par\n",
    "\n",
    "When a bond has a coupon rate less than the discount rate, it will result in a present value less than the face value. This is a discount bond because you buy it at a discount! As time passes it will approach par value and appreciate in value. This is pulling to par. Let's see an example with a ten year bond with face value of $1000, coupon rate of 2%, and discount rate of 5%"
   ]
  },
  {
   "cell_type": "code",
   "execution_count": 12,
   "metadata": {},
   "outputs": [],
   "source": [
    "#Define parameters\n",
    "n = 10\n",
    "F = 1000\n",
    "c = .02\n",
    "r = .05"
   ]
  },
  {
   "cell_type": "markdown",
   "metadata": {},
   "source": [
    "We want to track the what time period we are at, and we will also find the number of years left. Then we can find the values in all of these cases and finally graph it."
   ]
  },
  {
   "cell_type": "code",
   "execution_count": 13,
   "metadata": {},
   "outputs": [
    {
     "name": "stdout",
     "output_type": "stream",
     "text": [
      "Year:\n",
      "[0, 1, 2, 3, 4, 5, 6, 7, 8, 9]\n",
      "Years left:\n",
      "[10, 9, 8, 7, 6, 5, 4, 3, 2, 1]\n"
     ]
    }
   ],
   "source": [
    "time = list(range(n))\n",
    "time_left = [n-x for x in time]\n",
    "\n",
    "print(\"Year:\")\n",
    "print(time)\n",
    "print(\"Years left:\")\n",
    "print(time_left)"
   ]
  },
  {
   "cell_type": "code",
   "execution_count": 14,
   "metadata": {},
   "outputs": [
    {
     "name": "stdout",
     "output_type": "stream",
     "text": [
      "Bond values:\n",
      "[768.3479521244554, 786.7653497306782, 806.1036172172122, 826.4087980780728, 847.7292379819763, 870.1156998810752, 893.6214848751291, 918.3025591188856, 944.21768707483, 971.4285714285713]\n"
     ]
    }
   ],
   "source": [
    "#Find the bond values\n",
    "vals = [bond_value(F, c, t, r) for t in time_left]\n",
    "print(\"Bond values:\")\n",
    "print(vals)"
   ]
  },
  {
   "cell_type": "code",
   "execution_count": 15,
   "metadata": {},
   "outputs": [
    {
     "data": {
      "image/png": "[encoded data removed]",
      "text/plain": [
       "<Figure size 432x288 with 1 Axes>"
      ]
     },
     "metadata": {
      "needs_background": "light"
     },
     "output_type": "display_data"
    }
   ],
   "source": [
    "plt.plot(time_left, vals)\n",
    "plt.xlim([10,0])\n",
    "plt.xlabel(\"Time to Maturity\")\n",
    "plt.ylabel(\"Bond Present Value\")\n",
    "plt.title(\"Bond Present Value vs. Time to Maturity\")\n",
    "plt.show()"
   ]
  },
  {
   "cell_type": "markdown",
   "metadata": {},
   "source": [
    "## Premium Bonds\n",
    "\n",
    "Premium bonds act in the opposite way. Their coupon payments are greater than the discount rate so they pull to par but do so from a premium over the par value in the beginning. "
   ]
  },
  {
   "cell_type": "code",
   "execution_count": 16,
   "metadata": {},
   "outputs": [
    {
     "data": {
      "image/png": "[encoded data removed]",
      "text/plain": [
       "<Figure size 432x288 with 1 Axes>"
      ]
     },
     "metadata": {
      "needs_background": "light"
     },
     "output_type": "display_data"
    }
   ],
   "source": [
    "#Define parameters\n",
    "n = 10\n",
    "F = 1000\n",
    "c = .08\n",
    "r = .05\n",
    "\n",
    "vals = [bond_value(F, c, t, r) for t in time_left]\n",
    "plt.plot(time_left, vals)\n",
    "plt.xlim([10,0])\n",
    "plt.xlabel(\"Time to Maturity\")\n",
    "plt.ylabel(\"Bond Present Value\")\n",
    "plt.title(\"Bond Present Value vs. Time to Maturity\")\n",
    "plt.show()"
   ]
  },
  {
   "cell_type": "markdown",
   "metadata": {},
   "source": [
    "## Comparing the Discount, Par, and Premium Bonds\n",
    "\n",
    "We can see that in all three cases, the values are going to approach par as the time to maturity gets smaller and smaller."
   ]
  },
  {
   "cell_type": "code",
   "execution_count": 17,
   "metadata": {},
   "outputs": [
    {
     "data": {
      "image/png": "[encoded data removed]",
      "text/plain": [
       "<Figure size 432x288 with 1 Axes>"
      ]
     },
     "metadata": {
      "needs_background": "light"
     },
     "output_type": "display_data"
    }
   ],
   "source": [
    "#Get the different values\n",
    "vals1 = [bond_value(F, .02, t, r) for t in time_left]\n",
    "vals2 = [bond_value(F, .05, t, r) for t in time_left]\n",
    "vals3 = [bond_value(F, .08, t, r) for t in time_left]\n",
    "\n",
    "#Plot the values\n",
    "plt.plot(time_left, vals1)\n",
    "plt.plot(time_left, vals2)\n",
    "plt.plot(time_left, vals3)\n",
    "plt.xlim([10,0])\n",
    "plt.xlabel(\"Time to Maturity\")\n",
    "plt.ylabel(\"Bond Present Value\")\n",
    "plt.title(\"Bond Present Value vs. Time to Maturity\")\n",
    "plt.legend([\"Coupon Rate=2%\",\n",
    "           \"Coupon Rate=5%\",\n",
    "           \"Coupon Rate=8%\"])\n",
    "\n",
    "plt.show()"
   ]
  },
  {
   "cell_type": "markdown",
   "metadata": {},
   "source": [
    "## Solving for the Coupon Rate\n",
    "\n",
    "There are some cases where what we are solving for is not actually the present value but instead some other component, like, for example the coupon rate. We can re-arrange the equation to do this. Start with the equation from before.\n",
    "\n",
    "$$ PV = F \\cdot c \\cdot \\frac{1-(1+r)^n}{r} + \\frac{F}{(1+r)^n}$$\n",
    "\n",
    "where\n",
    "\n",
    "$ PV = \\text{Present Value} $\n",
    "\n",
    "$ F = \\text{Face Value} $\n",
    "\n",
    "$ c = \\text{Coupon Rate} $\n",
    "\n",
    "$ r = \\text{Discount Rate} $\n",
    "\n",
    "$ n = \\text{Number of Periods} $\n",
    "\n",
    "Subtract the face value part of the equation.\n",
    "\n",
    "$$ PV - \\frac{F}{(1+r)^n} = F \\cdot c \\cdot \\frac{1-(1+r)^n}{r}$$\n",
    "\n",
    "Now, on the right side there is the coupon rate times the face value and the annuity factor. Dividing by this we can compute the coupon rate.\n",
    "\n",
    "$$c = \\frac{PV - \\frac{F}{(1+r)^n}}{F \\cdot \\frac{1-(1+r)^n}{r}}$$\n",
    "\n",
    "Let's do an example with the parameters below."
   ]
  },
  {
   "cell_type": "code",
   "execution_count": 18,
   "metadata": {},
   "outputs": [],
   "source": [
    "#We can also use the equation to find the coupon rate that corresponds to a certain PV, FV, n and r\n",
    "PV = 926.399129485853\n",
    "F = 1000\n",
    "n = 10\n",
    "r = .06"
   ]
  },
  {
   "cell_type": "code",
   "execution_count": 19,
   "metadata": {},
   "outputs": [
    {
     "name": "stdout",
     "output_type": "stream",
     "text": [
      "558.3947769151179\n"
     ]
    }
   ],
   "source": [
    "#to find the coupon rate, first we need to figure out what the annuity part of the bond is worth\n",
    "face_value_PV = F/(1+r)**n\n",
    "print(face_value_PV)"
   ]
  },
  {
   "cell_type": "code",
   "execution_count": 20,
   "metadata": {},
   "outputs": [
    {
     "name": "stdout",
     "output_type": "stream",
     "text": [
      "368.00435257073514\n"
     ]
    }
   ],
   "source": [
    "#So let's take out that from the PV\n",
    "annuity_PV = PV - face_value_PV\n",
    "print(annuity_PV)"
   ]
  },
  {
   "cell_type": "markdown",
   "metadata": {},
   "source": [
    "So we know that the annuity is worth $368. We also can find the annuity factor since we have r and n"
   ]
  },
  {
   "cell_type": "code",
   "execution_count": 21,
   "metadata": {},
   "outputs": [
    {
     "name": "stdout",
     "output_type": "stream",
     "text": [
      "7.360087051414703\n"
     ]
    }
   ],
   "source": [
    "annuity_factor = (1-(1.06)**-n)/r\n",
    "print(annuity_factor)"
   ]
  },
  {
   "cell_type": "markdown",
   "metadata": {},
   "source": [
    "So we know that the payment times the annuity factor is what an annuity's present value equals, so...."
   ]
  },
  {
   "cell_type": "code",
   "execution_count": 22,
   "metadata": {},
   "outputs": [
    {
     "name": "stdout",
     "output_type": "stream",
     "text": [
      "50.0\n"
     ]
    }
   ],
   "source": [
    "coupon = annuity_PV/annuity_factor\n",
    "print(coupon)"
   ]
  },
  {
   "cell_type": "code",
   "execution_count": 23,
   "metadata": {},
   "outputs": [
    {
     "name": "stdout",
     "output_type": "stream",
     "text": [
      "0.05\n"
     ]
    }
   ],
   "source": [
    "#Coupon rate is coupon/face value\n",
    "print(coupon/F)"
   ]
  },
  {
   "cell_type": "markdown",
   "metadata": {},
   "source": [
    "## Finding r\n",
    "\n",
    "To find r we are going to have a much tougher time since there is no easy equation solution. To solve it we need to experiment. Let's set the parameters below and try out different values of r and see if it will get us to match the values. In this lesson we are going to just try a couple values, but there are more advanced methods that you can use that we won't introduce here. I made the example easy to work out by guessing very 1% within a limited range."
   ]
  },
  {
   "cell_type": "code",
   "execution_count": 24,
   "metadata": {},
   "outputs": [],
   "source": [
    "#Set up the parameters\n",
    "PV = 768.3479521244554\n",
    "F = 1000\n",
    "c = .02\n",
    "n = 10"
   ]
  },
  {
   "cell_type": "markdown",
   "metadata": {},
   "source": [
    "We can predict the present value for something like say 2% and see what the difference between the actual and predicted is."
   ]
  },
  {
   "cell_type": "code",
   "execution_count": 25,
   "metadata": {},
   "outputs": [
    {
     "name": "stdout",
     "output_type": "stream",
     "text": [
      "1000.0\n"
     ]
    }
   ],
   "source": [
    "#Let's try to see what our PV would be if r=2%\n",
    "predicted = bond_value(F,c,n,.02)\n",
    "print(predicted)"
   ]
  },
  {
   "cell_type": "markdown",
   "metadata": {
    "collapsed": true
   },
   "source": [
    "If we check the difference we see it is not very close."
   ]
  },
  {
   "cell_type": "code",
   "execution_count": 26,
   "metadata": {},
   "outputs": [
    {
     "name": "stdout",
     "output_type": "stream",
     "text": [
      "231.65204787554455\n"
     ]
    }
   ],
   "source": [
    "print(predicted-PV)"
   ]
  },
  {
   "cell_type": "markdown",
   "metadata": {},
   "source": [
    "What we could do is test different rates and see which one gets us closest to the PV we are given"
   ]
  },
  {
   "cell_type": "code",
   "execution_count": 27,
   "metadata": {},
   "outputs": [
    {
     "name": "stdout",
     "output_type": "stream",
     "text": [
      "[0.01, 0.02, 0.03, 0.04, 0.05, 0.06, 0.07, 0.08, 0.09, 0.1, 0.11, 0.12]\n",
      "\n",
      "[1094.7130453070167, 1000.0, 914.6979716322417, 837.7820844128994, 768.3479521244554, 705.596517943412, 648.8209229533697, 597.3951160635131, 550.7639609188691, 508.4346315436251, 469.9691189972911, 434.97769715891326]\n"
     ]
    }
   ],
   "source": [
    "rates = [x/100 for x in range(1,13)]\n",
    "print(rates)\n",
    "print()\n",
    "values = [bond_value(F,c,n,x) for x in rates]\n",
    "print(values)"
   ]
  },
  {
   "cell_type": "markdown",
   "metadata": {},
   "source": [
    "If we look for the absolute value in the difference between present value and predicted, this will help us find the closest fit."
   ]
  },
  {
   "cell_type": "code",
   "execution_count": 28,
   "metadata": {},
   "outputs": [
    {
     "name": "stdout",
     "output_type": "stream",
     "text": [
      "[326.3650931825613, 231.65204787554455, 146.35001950778621, 69.43413228844395, 0.0, 62.751434181043464, 119.5270291710857, 170.95283606094233, 217.58399120558636, 259.9133205808304, 298.37883312716434, 333.3702549655422]\n"
     ]
    }
   ],
   "source": [
    "#Differences\n",
    "diff = [abs(x-PV) for x in values]\n",
    "print(diff)"
   ]
  },
  {
   "cell_type": "code",
   "execution_count": 29,
   "metadata": {},
   "outputs": [
    {
     "name": "stdout",
     "output_type": "stream",
     "text": [
      "0.0\n"
     ]
    }
   ],
   "source": [
    "#Find the the minimum error\n",
    "print(min(diff))"
   ]
  },
  {
   "cell_type": "code",
   "execution_count": 30,
   "metadata": {},
   "outputs": [
    {
     "name": "stdout",
     "output_type": "stream",
     "text": [
      "4\n"
     ]
    }
   ],
   "source": [
    "#Get the index of it\n",
    "i = diff.index(min(diff))\n",
    "print(i)"
   ]
  },
  {
   "cell_type": "code",
   "execution_count": 31,
   "metadata": {},
   "outputs": [
    {
     "name": "stdout",
     "output_type": "stream",
     "text": [
      "0.05\n"
     ]
    }
   ],
   "source": [
    "#And find the rate that got us there\n",
    "print(rates[i])"
   ]
  },
  {
   "cell_type": "markdown",
   "metadata": {},
   "source": [
    "After doing this, we see that we have the correct rate r to get the present value we saw before!"
   ]
  },
  {
   "cell_type": "code",
   "execution_count": 32,
   "metadata": {},
   "outputs": [
    {
     "name": "stdout",
     "output_type": "stream",
     "text": [
      "768.3479521244554\n",
      "768.3479521244554\n"
     ]
    }
   ],
   "source": [
    "print(PV)\n",
    "print(bond_value(FV,cr,n,rates[i]))"
   ]
  }
 ],
 "metadata": {
  "kernelspec": {
   "display_name": "Python 3",
   "language": "python",
   "name": "python3"
  },
  "language_info": {
   "codemirror_mode": {
    "name": "ipython",
    "version": 3
   },
   "file_extension": ".py",
   "mimetype": "text/x-python",
   "name": "python",
   "nbconvert_exporter": "python",
   "pygments_lexer": "ipython3",
   "version": "3.8.3"
  }
 },
 "nbformat": 4,
 "nbformat_minor": 2
}
