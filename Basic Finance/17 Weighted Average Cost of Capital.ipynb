{
 "cells": [
  {
   "cell_type": "code",
   "execution_count": 1,
   "metadata": {},
   "outputs": [
    {
     "name": "stdout",
     "output_type": "stream",
     "text": [
      "0.07833333333333334\n"
     ]
    }
   ],
   "source": [
    "def WACC(price,outstanding,debtValue,debtYield,stockReturn,taxRate):\n",
    "    equity = price*outstanding\n",
    "    total = equity+debtValue\n",
    "    return (equity/total)*stockReturn+(debtValue/total)*debtYield*(1-taxRate)\n",
    "print(WACC(20.0,100,1000.0,.05,.1,.3))"
   ]
  }
 ],
 "metadata": {
  "kernelspec": {
   "display_name": "Python 3",
   "language": "python",
   "name": "python3"
  },
  "language_info": {
   "codemirror_mode": {
    "name": "ipython",
    "version": 3
   },
   "file_extension": ".py",
   "mimetype": "text/x-python",
   "name": "python",
   "nbconvert_exporter": "python",
   "pygments_lexer": "ipython3",
   "version": "3.6.1"
  }
 },
 "nbformat": 4,
 "nbformat_minor": 2
}
