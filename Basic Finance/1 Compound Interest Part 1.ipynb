{
 "cells": [
  {
   "cell_type": "markdown",
   "metadata": {},
   "source": [
    "# Compound Interest\n",
    "\n",
    "When you store money at a bank, you can expect that each year you will gain a percent of your holdings as interest. These holdings, however, include any interest earned up until this point which means you earn interest on your interest. This is the idea of compound interest; you will earn more in interest each year as your holdings increase. To illustrate this point, let's work through an example year by year. Say you start with \\\\$100 in a bank account which gives you an annual rate of 5%. The principal at time 0 is \\\\$100 which earns 5% interest meaning the principal in time 1 will now be \\\\$150."
   ]
  },
  {
   "cell_type": "code",
   "execution_count": 1,
   "metadata": {},
   "outputs": [
    {
     "name": "stdout",
     "output_type": "stream",
     "text": [
      "The starting principal is $100\n",
      "The interest earned is: $5.0\n",
      "The ending principal is $105.0\n"
     ]
    }
   ],
   "source": [
    "p = 100\n",
    "print(\"The starting principal is ${}\".format(p))\n",
    "\n",
    "interest = p * .05\n",
    "print(\"The interest earned is: ${}\".format(interest))\n",
    "\n",
    "p = p + interest\n",
    "print(\"The ending principal is ${}\".format(p))"
   ]
  },
  {
   "cell_type": "markdown",
   "metadata": {},
   "source": [
    "Now, the next year we make interest on the $105."
   ]
  },
  {
   "cell_type": "code",
   "execution_count": 2,
   "metadata": {},
   "outputs": [
    {
     "name": "stdout",
     "output_type": "stream",
     "text": [
      "The starting principal is $105.0\n",
      "The interest earned is: $5.25\n",
      "The ending principal is $110.25\n"
     ]
    }
   ],
   "source": [
    "print(\"The starting principal is ${}\".format(p))\n",
    "\n",
    "interest = p * .05\n",
    "print(\"The interest earned is: ${}\".format(interest))\n",
    "\n",
    "p = p + interest\n",
    "print(\"The ending principal is ${}\".format(p))"
   ]
  },
  {
   "cell_type": "markdown",
   "metadata": {},
   "source": [
    "Let's formalize this into a loop to see the effect over the next couple of years."
   ]
  },
  {
   "cell_type": "code",
   "execution_count": 3,
   "metadata": {},
   "outputs": [
    {
     "name": "stdout",
     "output_type": "stream",
     "text": [
      "----Year 1----\n",
      "Starting Principal: $100\n",
      "Interest Earned: $5.0\n",
      "Ending Principal: $105.0\n",
      "---------------\n",
      "\n",
      "\n",
      "----Year 2----\n",
      "Starting Principal: $105.0\n",
      "Interest Earned: $5.25\n",
      "Ending Principal: $110.25\n",
      "---------------\n",
      "\n",
      "\n",
      "----Year 3----\n",
      "Starting Principal: $110.25\n",
      "Interest Earned: $5.5125\n",
      "Ending Principal: $115.7625\n",
      "---------------\n",
      "\n",
      "\n",
      "----Year 4----\n",
      "Starting Principal: $115.7625\n",
      "Interest Earned: $5.788125000000001\n",
      "Ending Principal: $121.550625\n",
      "---------------\n",
      "\n",
      "\n",
      "----Year 5----\n",
      "Starting Principal: $121.550625\n",
      "Interest Earned: $6.07753125\n",
      "Ending Principal: $127.62815624999999\n",
      "---------------\n",
      "\n",
      "\n"
     ]
    }
   ],
   "source": [
    "p = 100\n",
    "r = .05\n",
    "for t in range(1,6):\n",
    "    print(\"----Year {}----\".format(t))\n",
    "    print(\"Starting Principal: ${}\".format(p))\n",
    "    interest = p * .05\n",
    "    print(\"Interest Earned: ${}\".format(interest))\n",
    "    p = p + interest\n",
    "    print(\"Ending Principal: ${}\".format(p))\n",
    "    print(\"---------------\")\n",
    "    print()\n",
    "    print()\n",
    "    "
   ]
  },
  {
   "cell_type": "markdown",
   "metadata": {},
   "source": [
    "While you can loop through every year to determine the ending value, there is also a simple formula which can calculate at each point in time what the value of the account should be. This formula is:\n",
    "\n",
    "$ A = P * (1+r)^t $\n",
    "\n",
    "where\n",
    "\n",
    "$ A = \\text{Ending value of the account} $\n",
    "\n",
    "$ P = \\text{Starting principal of the account} $\n",
    "\n",
    "$ r = \\text{Annual rate of return} $\n",
    "\n",
    "$ t = \\text{Number of years} $\n"
   ]
  },
  {
   "cell_type": "code",
   "execution_count": 4,
   "metadata": {},
   "outputs": [
    {
     "name": "stdout",
     "output_type": "stream",
     "text": [
      "----Year 1----\n",
      "Ending Principal: $105.0\n",
      "---------------\n",
      "\n",
      "\n",
      "----Year 2----\n",
      "Ending Principal: $110.25\n",
      "---------------\n",
      "\n",
      "\n",
      "----Year 3----\n",
      "Ending Principal: $115.76250000000002\n",
      "---------------\n",
      "\n",
      "\n",
      "----Year 4----\n",
      "Ending Principal: $121.55062500000003\n",
      "---------------\n",
      "\n",
      "\n",
      "----Year 5----\n",
      "Ending Principal: $127.62815625000003\n",
      "---------------\n",
      "\n",
      "\n"
     ]
    }
   ],
   "source": [
    "p = 100\n",
    "r = .05\n",
    "for t in range(1,6):\n",
    "    A = p * (1+r) ** t\n",
    "    print(\"----Year {}----\".format(t))\n",
    "    print(\"Ending Principal: ${}\".format(A))\n",
    "    print(\"---------------\")\n",
    "    print()\n",
    "    print()"
   ]
  },
  {
   "cell_type": "markdown",
   "metadata": {},
   "source": [
    "To make our life easy, let's create a function that will compute the future value of an investment and then check to make sure it works."
   ]
  },
  {
   "cell_type": "code",
   "execution_count": 5,
   "metadata": {},
   "outputs": [
    {
     "name": "stdout",
     "output_type": "stream",
     "text": [
      "----Year 1----\n",
      "Ending Principal: $105.0\n",
      "---------------\n",
      "\n",
      "\n",
      "----Year 2----\n",
      "Ending Principal: $110.25\n",
      "---------------\n",
      "\n",
      "\n",
      "----Year 3----\n",
      "Ending Principal: $115.76250000000002\n",
      "---------------\n",
      "\n",
      "\n",
      "----Year 4----\n",
      "Ending Principal: $121.55062500000003\n",
      "---------------\n",
      "\n",
      "\n",
      "----Year 5----\n",
      "Ending Principal: $127.62815625000003\n",
      "---------------\n",
      "\n",
      "\n"
     ]
    }
   ],
   "source": [
    "def compoundInterest(p,r,t):\n",
    "    A = p*(1+r)**t\n",
    "    return A\n",
    "\n",
    "p = 100\n",
    "r = .05\n",
    "for t in range(1,6):\n",
    "    A = compoundInterest(p,r,t)\n",
    "    print(\"----Year {}----\".format(t))\n",
    "    print(\"Ending Principal: ${}\".format(A))\n",
    "    print(\"---------------\")\n",
    "    print()\n",
    "    print()"
   ]
  },
  {
   "cell_type": "markdown",
   "metadata": {},
   "source": [
    "Let's graphically investigate the effect of compounding. What if we invest \\\\$100 into an investment or bank account that guarantees us 5% annual return over 30 years? What will our investment look like over time? The first step is to create a list to denote each year."
   ]
  },
  {
   "cell_type": "code",
   "execution_count": 6,
   "metadata": {},
   "outputs": [
    {
     "name": "stdout",
     "output_type": "stream",
     "text": [
      "[0, 1, 2, 3, 4, 5, 6, 7, 8, 9, 10, 11, 12, 13, 14, 15, 16, 17, 18, 19, 20, 21, 22, 23, 24, 25, 26, 27, 28, 29, 30]\n"
     ]
    }
   ],
   "source": [
    "#Create a list to denote each year\n",
    "years = list(range(31))\n",
    "print(years)"
   ]
  },
  {
   "cell_type": "markdown",
   "metadata": {},
   "source": [
    "Now, we can make a list to denote the value at each point in time."
   ]
  },
  {
   "cell_type": "code",
   "execution_count": 7,
   "metadata": {},
   "outputs": [
    {
     "name": "stdout",
     "output_type": "stream",
     "text": [
      "[100.0, 105.0, 110.25, 115.76250000000002, 121.55062500000003, 127.62815625000003, 134.00956406250003, 140.71004226562505, 147.7455443789063, 155.13282159785163, 162.8894626777442, 171.0339358116314, 179.585632602213, 188.56491423232367, 197.99315994393987, 207.89281794113688, 218.2874588381937, 229.20183178010342, 240.66192336910856, 252.69501953756404, 265.3297705144422, 278.59625904016434, 292.5260719921726, 307.1523755917812, 322.5099943713703, 338.63549408993885, 355.5672687944358, 373.3456322341576, 392.0129138458655, 411.6135595381588, 432.1942375150668]\n"
     ]
    }
   ],
   "source": [
    "p = 100\n",
    "r = .05\n",
    "A = [compoundInterest(p,r,t) for t in years]\n",
    "print(A)"
   ]
  },
  {
   "cell_type": "markdown",
   "metadata": {},
   "source": [
    "Finally, graph the values, and notice how the slope gets larger and larger!"
   ]
  },
  {
   "cell_type": "code",
   "execution_count": 8,
   "metadata": {},
   "outputs": [
    {
     "data": {
      "image/png": "[encoded data removed]",
      "text/plain": [
       "<Figure size 432x288 with 1 Axes>"
      ]
     },
     "metadata": {
      "needs_background": "light"
     },
     "output_type": "display_data"
    }
   ],
   "source": [
    "import matplotlib.pyplot as plt\n",
    "plt.plot(years,A)\n",
    "plt.xlabel(\"Year\")\n",
    "plt.ylabel(\"Value\")\n",
    "plt.title(\"Compound Interest\")\n",
    "plt.show()"
   ]
  },
  {
   "cell_type": "markdown",
   "metadata": {},
   "source": [
    "If we wanted an easy way to compute the interest earned each year we could break down the formula. Interest earned would be:\n",
    "\n",
    "$ I_{t} = A_{t} - A_{t-1} $\n",
    "\n",
    "$ I_{t} = P * (1+r)^t - P * (1+r)^{t-1}$"
   ]
  },
  {
   "cell_type": "code",
   "execution_count": 9,
   "metadata": {},
   "outputs": [
    {
     "name": "stdout",
     "output_type": "stream",
     "text": [
      "[5.0, 5.25, 5.512500000000017, 5.788125000000008, 6.077531250000007, 6.381407812500001, 6.700478203125016, 7.03550211328124, 7.387277218945343, 7.7566410798925745, 8.144473133887203, 8.551696790581587, 8.979281630110677, 9.4282457116162, 9.89965799719701, 10.394640897056803, 10.914372941909733, 11.460091589005145, 12.033096168455472, 12.634750976878166, 13.266488525722139, 13.929812952008263, 14.626303599608605, 15.357618779589075, 16.125499718568562, 16.931774704496945, 17.77836343972183, 18.667281611707892, 19.600645692293313, 20.580677976907964]\n"
     ]
    }
   ],
   "source": [
    "years = list(range(1,31))\n",
    "I = [compoundInterest(p,r,t) - compoundInterest(p,r,t-1) for t in years]\n",
    "print(I)"
   ]
  },
  {
   "cell_type": "code",
   "execution_count": 10,
   "metadata": {},
   "outputs": [
    {
     "data": {
      "image/png": "[encoded data removed]",
      "text/plain": [
       "<Figure size 432x288 with 1 Axes>"
      ]
     },
     "metadata": {
      "needs_background": "light"
     },
     "output_type": "display_data"
    }
   ],
   "source": [
    "import matplotlib.pyplot as plt\n",
    "plt.plot(years,I)\n",
    "plt.xlabel(\"Year\")\n",
    "plt.ylabel(\"Interest\")\n",
    "plt.title(\"Compound Interest Payments\")\n",
    "plt.show()"
   ]
  },
  {
   "cell_type": "code",
   "execution_count": 11,
   "metadata": {},
   "outputs": [
    {
     "name": "stdout",
     "output_type": "stream",
     "text": [
      "[100.0, 105.0, 110.25, 115.76250000000002, 121.55062500000003, 127.62815625000003, 134.00956406250003, 140.71004226562505, 147.7455443789063, 155.13282159785163, 162.8894626777442, 171.0339358116314, 179.585632602213, 188.56491423232367, 197.99315994393987, 207.89281794113688, 218.2874588381937, 229.20183178010342, 240.66192336910856, 252.69501953756404, 265.3297705144422, 278.59625904016434, 292.5260719921726, 307.1523755917812, 322.5099943713703, 338.63549408993885, 355.5672687944358, 373.3456322341576, 392.0129138458655, 411.6135595381588]\n",
      "\n",
      "[105.0, 110.25, 115.76250000000002, 121.55062500000003, 127.62815625000003, 134.00956406250003, 140.71004226562505, 147.7455443789063, 155.13282159785163, 162.8894626777442, 171.0339358116314, 179.585632602213, 188.56491423232367, 197.99315994393987, 207.89281794113688, 218.2874588381937, 229.20183178010342, 240.66192336910856, 252.69501953756404, 265.3297705144422, 278.59625904016434, 292.5260719921726, 307.1523755917812, 322.5099943713703, 338.63549408993885, 355.5672687944358, 373.3456322341576, 392.0129138458655, 411.6135595381588, 432.1942375150668]\n"
     ]
    }
   ],
   "source": [
    "print(A[:-1])\n",
    "print()\n",
    "print(A[1:])"
   ]
  },
  {
   "cell_type": "code",
   "execution_count": 12,
   "metadata": {},
   "outputs": [
    {
     "name": "stdout",
     "output_type": "stream",
     "text": [
      "[5.0, 5.25, 5.512500000000017, 5.788125000000008, 6.077531250000007, 6.381407812500001, 6.700478203125016, 7.03550211328124, 7.387277218945343, 7.7566410798925745, 8.144473133887203, 8.551696790581587, 8.979281630110677, 9.4282457116162, 9.89965799719701, 10.394640897056803, 10.914372941909733, 11.460091589005145, 12.033096168455472, 12.634750976878166, 13.266488525722139, 13.929812952008263, 14.626303599608605, 15.357618779589075, 16.125499718568562, 16.931774704496945, 17.77836343972183, 18.667281611707892, 19.600645692293313, 20.580677976907964]\n"
     ]
    }
   ],
   "source": [
    "I = [a-b for a,b in zip(A[1:], A[:-1])]\n",
    "print(I)"
   ]
  },
  {
   "cell_type": "markdown",
   "metadata": {},
   "source": [
    "## The Impact of r\n",
    "\n",
    "The difference between rates can have dramatic impacts when considering them in the context of compounding. First, work through graphically how different rates would look."
   ]
  },
  {
   "cell_type": "code",
   "execution_count": 13,
   "metadata": {},
   "outputs": [
    {
     "data": {
      "image/png": "[encoded data removed]",
      "text/plain": [
       "<Figure size 432x288 with 1 Axes>"
      ]
     },
     "metadata": {
      "needs_background": "light"
     },
     "output_type": "display_data"
    }
   ],
   "source": [
    "p = 100\n",
    "years = list(range(31))\n",
    "\n",
    "r1 = .05\n",
    "A1 = [compoundInterest(p,r1,t) for t in years]\n",
    "\n",
    "r2 = .10\n",
    "A2 = [compoundInterest(p,r2,t) for t in years]\n",
    "\n",
    "r3 = .15\n",
    "A3 = [compoundInterest(p,r3,t) for t in years]\n",
    "\n",
    "plt.plot(years,A1,label=\"r=5%\")\n",
    "plt.plot(years,A2,label=\"r=10%\")\n",
    "plt.plot(years,A3,label=\"r=15%\")\n",
    "plt.xlabel(\"Year\")\n",
    "plt.ylabel(\"A\")\n",
    "plt.title(\"Compound Interest\")\n",
    "plt.legend()\n",
    "plt.show()"
   ]
  },
  {
   "cell_type": "markdown",
   "metadata": {},
   "source": [
    "The difference over the long run is quick amazing. If we were to look at the total amount of money earned between the three accounts, it is obvious that the 15% account earns much more than 3X the 5% account because of the impact of compouding."
   ]
  },
  {
   "cell_type": "code",
   "execution_count": 14,
   "metadata": {},
   "outputs": [
    {
     "name": "stdout",
     "output_type": "stream",
     "text": [
      "6521.177195678577\n",
      "1644.940226888645\n",
      "332.1942375150668\n"
     ]
    }
   ],
   "source": [
    "print(A3[-1] - p)\n",
    "print(A2[-1] - p)\n",
    "print(A1[-1] - p)"
   ]
  },
  {
   "cell_type": "markdown",
   "metadata": {},
   "source": [
    "While this course is going to mainly focus on using built in python data structures, it is worthwile to start using numpy arrays because for our next task it will make life a lot easier. We are going to benchmark the other two rates to the first rate to see how much larger they grow to be as a multiple! First, import numpy and simply convert our lists."
   ]
  },
  {
   "cell_type": "code",
   "execution_count": 15,
   "metadata": {},
   "outputs": [],
   "source": [
    "import numpy as np\n",
    "\n",
    "A1 = np.array(A1)\n",
    "A2 = np.array(A2)\n",
    "A3 = np.array(A3)"
   ]
  },
  {
   "cell_type": "markdown",
   "metadata": {},
   "source": [
    "Numpy arrays support directly dividing one array by another. As long as the dimensions of them match up it will divide each i element in the first array by the i element in the second array. Let's make three benchmarked versions. Obviously, when benchmarking the first array to itself we expect it will simply all be equal to 1."
   ]
  },
  {
   "cell_type": "code",
   "execution_count": 16,
   "metadata": {},
   "outputs": [
    {
     "name": "stdout",
     "output_type": "stream",
     "text": [
      "[1. 1. 1. 1. 1. 1. 1. 1. 1. 1. 1. 1. 1. 1. 1. 1. 1. 1. 1. 1. 1. 1. 1. 1.\n",
      " 1. 1. 1. 1. 1. 1. 1.]\n",
      "\n",
      "[1.         1.04761905 1.09750567 1.14976784 1.20451869 1.26187673\n",
      " 1.32196609 1.38491686 1.45086528 1.51995411 1.59233287 1.66815825\n",
      " 1.74759435 1.83081313 1.91799471 2.00932779 2.10501007 2.20524864\n",
      " 2.31026048 2.42027289 2.53552398 2.65626321 2.78275194 2.91526394\n",
      " 3.05408603 3.1995187  3.35187673 3.51148991 3.67870371 3.85388008\n",
      " 4.03739818]\n",
      "\n",
      "[ 1.          1.0952381   1.19954649  1.31378901  1.43891177  1.57595099\n",
      "  1.72604156  1.89042647  2.07046708  2.26765442  2.48362151  2.72015689\n",
      "  2.97921946  3.26295464  3.57371223  3.91406577  4.28683394  4.69510384\n",
      "  5.14225659  5.63199531  6.16837581  6.75584018  7.39925353  8.10394434\n",
      "  8.87574856  9.72105795 10.64687299 11.6608609  12.77141908 13.9877447\n",
      " 15.31991087]\n",
      "\n"
     ]
    }
   ],
   "source": [
    "A1_bm = A1 / A1\n",
    "A2_bm = A2 / A1\n",
    "A3_bm = A3 / A1\n",
    "\n",
    "print(A1_bm)\n",
    "print()\n",
    "print(A2_bm)\n",
    "print()\n",
    "print(A3_bm)\n",
    "print()"
   ]
  },
  {
   "cell_type": "markdown",
   "metadata": {},
   "source": [
    "From this analysis, we can see that by the end of the 30 years, the account with r=10% is worth 3.04X more than the account that had r=5%. The account with r=15% has a huge difference from the r=5%, it is worth 14.32X more."
   ]
  },
  {
   "cell_type": "code",
   "execution_count": 17,
   "metadata": {},
   "outputs": [
    {
     "data": {
      "image/png": "[encoded data removed]",
      "text/plain": [
       "<Figure size 432x288 with 1 Axes>"
      ]
     },
     "metadata": {
      "needs_background": "light"
     },
     "output_type": "display_data"
    }
   ],
   "source": [
    "plt.plot(years, A1_bm, label=\"r=5%\")\n",
    "plt.plot(years, A2_bm, label=\"r=10%\")\n",
    "plt.plot(years, A3_bm, label=\"r=15%\")\n",
    "plt.xlabel(\"Year\")\n",
    "plt.ylabel(\"Relative Value Multiple\")\n",
    "plt.title(\"Benchmarked Account Values\")\n",
    "plt.legend()\n",
    "plt.show()"
   ]
  }
 ],
 "metadata": {
  "kernelspec": {
   "display_name": "Python 3",
   "language": "python",
   "name": "python3"
  },
  "language_info": {
   "codemirror_mode": {
    "name": "ipython",
    "version": 3
   },
   "file_extension": ".py",
   "mimetype": "text/x-python",
   "name": "python",
   "nbconvert_exporter": "python",
   "pygments_lexer": "ipython3",
   "version": "3.8.3"
  }
 },
 "nbformat": 4,
 "nbformat_minor": 2
}
