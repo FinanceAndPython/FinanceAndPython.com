{
 "cells": [
  {
   "cell_type": "code",
   "execution_count": 1,
   "metadata": {
    "collapsed": true
   },
   "outputs": [],
   "source": [
    "def TVM(C,r,t,mode):\n",
    "    discount = (1+r)**t\n",
    "    if mode==\"FV\":\n",
    "        return C*discount\n",
    "    if mode==\"PV\":\n",
    "        return C/discount"
   ]
  },
  {
   "cell_type": "code",
   "execution_count": 2,
   "metadata": {},
   "outputs": [
    {
     "name": "stdout",
     "output_type": "stream",
     "text": [
      "772.1734929184811\n"
     ]
    }
   ],
   "source": [
    "payment=100\n",
    "rate=.05\n",
    "years=10\n",
    "\n",
    "total=0\n",
    "for year in range(1,years+1):\n",
    "    total+=TVM(payment,rate,year,\"PV\")\n",
    "print(total)"
   ]
  },
  {
   "cell_type": "code",
   "execution_count": 3,
   "metadata": {},
   "outputs": [
    {
     "name": "stdout",
     "output_type": "stream",
     "text": [
      "810.7821675644052\n"
     ]
    }
   ],
   "source": [
    "payment=100\n",
    "rate=.05\n",
    "years=10\n",
    "\n",
    "total=0\n",
    "for year in range(1,years+1):\n",
    "    total+=TVM(payment,rate,year,\"PV\")\n",
    "print(total*(1+rate))"
   ]
  },
  {
   "cell_type": "code",
   "execution_count": 4,
   "metadata": {},
   "outputs": [
    {
     "name": "stdout",
     "output_type": "stream",
     "text": [
      "810.7821675644052\n"
     ]
    }
   ],
   "source": [
    "payment=100\n",
    "rate=.05\n",
    "years=10\n",
    "\n",
    "total=0\n",
    "for year in range(0,years):\n",
    "    total+=TVM(payment,rate,year,\"PV\")\n",
    "print(total)"
   ]
  },
  {
   "cell_type": "code",
   "execution_count": null,
   "metadata": {
    "collapsed": true
   },
   "outputs": [],
   "source": []
  }
 ],
 "metadata": {
  "kernelspec": {
   "display_name": "Python 3",
   "language": "python",
   "name": "python3"
  },
  "language_info": {
   "codemirror_mode": {
    "name": "ipython",
    "version": 3
   },
   "file_extension": ".py",
   "mimetype": "text/x-python",
   "name": "python",
   "nbconvert_exporter": "python",
   "pygments_lexer": "ipython3",
   "version": "3.6.1"
  }
 },
 "nbformat": 4,
 "nbformat_minor": 2
}
