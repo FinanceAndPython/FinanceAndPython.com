{
 "cells": [
  {
   "cell_type": "code",
   "execution_count": 1,
   "metadata": {},
   "outputs": [
    {
     "name": "stdout",
     "output_type": "stream",
     "text": [
      "387.37448417423155\n"
     ]
    }
   ],
   "source": [
    "#We might also have cash flows that have a different r because the bank will pay more given longer term invests\n",
    "#Such as CD products the penalize you if you take out money earlier but give a higher interest rate\n",
    "#In this case we apply the different r for the different cash flows\n",
    "#So a TVM equation where we give tuples of P, r, and t would look like\n",
    "def TVM(cashflows):\n",
    "    PV = 0\n",
    "    for flow in cashflows:\n",
    "        P = flow[0]\n",
    "        r = flow[1]\n",
    "        t = flow[2]\n",
    "        PV_i = P/(1+r)**t\n",
    "        PV+=PV_i\n",
    "    return PV\n",
    "PV = TVM([(100,.01,1),(200,.015,2),(100,.02,3)])\n",
    "print(PV)"
   ]
  },
  {
   "cell_type": "code",
   "execution_count": 2,
   "metadata": {},
   "outputs": [
    {
     "name": "stdout",
     "output_type": "stream",
     "text": [
      "432.9476670630819\n"
     ]
    }
   ],
   "source": [
    "#Now, what is an annuity? It is a product where you get a payment for a set number of years\n",
    "#So for example $100 in year 1, 2, 3, 4, 5\n",
    "#Let's assume a constant r=5% and see how much this would be worth\n",
    "PV = 0\n",
    "for t in range(1,6):\n",
    "    PV += 100/(1.05)**t\n",
    "print(PV)"
   ]
  },
  {
   "cell_type": "code",
   "execution_count": 3,
   "metadata": {},
   "outputs": [
    {
     "name": "stdout",
     "output_type": "stream",
     "text": [
      "552.5631250000001\n"
     ]
    }
   ],
   "source": [
    "#In terms of future value, if we invested each cash flow at r=5% as we get it, we would have...\n",
    "print(PV*(1.05)**5)"
   ]
  },
  {
   "cell_type": "code",
   "execution_count": 4,
   "metadata": {
    "collapsed": true
   },
   "outputs": [],
   "source": [
    "#Bringing back our timeline function\n",
    "import matplotlib.pyplot as plt\n",
    "plt.rcParams[\"figure.figsize\"] = [12,4]\n",
    "def timelinePlot(periods,values):\n",
    "    #Create our plot\n",
    "    fig = plt.figure()\n",
    "    ax = fig.add_subplot(111)\n",
    "    \n",
    "    #Set the limits of our plots (in terms of values, not dimensions)\n",
    "    ax.set_xlim(0,10)\n",
    "    ax.set_ylim(0,10)\n",
    "    \n",
    "    #Set the minimums that we will be plotting in (we give a 1 or 10% margin on each side)\n",
    "    xmin = 1\n",
    "    xmax = 9\n",
    "    \n",
    "    #Set the y of where our plot will be centered around, 5 is the middle\n",
    "    y = 5\n",
    "    \n",
    "    #Set height for our ticks\n",
    "    height = 1\n",
    "    \n",
    "    #Get the spacing between each tick\n",
    "    delta = (xmax-xmin)/periods\n",
    "    #Create the positions for each tick\n",
    "    positions = [xmin+delta*x for x in list(range(periods+1))]\n",
    "    \n",
    "    #Plot the horizontal line\n",
    "    plt.hlines(y, xmin, xmax)\n",
    "\n",
    "    for t in range(periods+1):\n",
    "        #Plot the tick\n",
    "        plt.vlines(positions[t], y - .5, y + .5)\n",
    "        #Plot the time period below\n",
    "        plt.text(positions[t], y-1.2, t, horizontalalignment='center',fontsize=14)\n",
    "    #Get rid of axes\n",
    "    plt.axis('off')\n",
    "    \n",
    "    for value in values:\n",
    "        #Plot a red dot on the year that our value is at\n",
    "        plt.plot(positions[value[1]],y, 'ro', ms = 15, mfc = 'r')\n",
    "        #Plot the values above, use rounding to keep it clean\n",
    "        plt.text(positions[value[1]], y+1.2, \"$\"+str(round(value[0],1)), horizontalalignment='center',fontsize=18)\n",
    "\n",
    "    \n",
    "    plt.show()"
   ]
  },
  {
   "cell_type": "code",
   "execution_count": 5,
   "metadata": {},
   "outputs": [
    {
     "data": {
      "image/png": "[encoded data removed]",
      "text/plain": [
       "<matplotlib.figure.Figure at 0x10cfa99b0>"
      ]
     },
     "metadata": {},
     "output_type": "display_data"
    }
   ],
   "source": [
    "payments = [(-PV,0)]\n",
    "for x in range(1,6):\n",
    "    payments.append((100,x))\n",
    "\n",
    "timelinePlot(5,payments)"
   ]
  },
  {
   "cell_type": "code",
   "execution_count": 6,
   "metadata": {},
   "outputs": [
    {
     "name": "stdout",
     "output_type": "stream",
     "text": [
      "432.94766706308224\n"
     ]
    }
   ],
   "source": [
    "#There is an equation which represents the present value of an annuity\n",
    "#P is payment, n is the number of years, and r is our discount rate\n",
    "def annuityTVM(P,n,r):\n",
    "    annuityFactor = (1-(1+r)**-n)/r\n",
    "    annuity = annuityFactor*P\n",
    "    return annuity\n",
    "print(annuityTVM(100,5,.05))"
   ]
  },
  {
   "cell_type": "code",
   "execution_count": 7,
   "metadata": {},
   "outputs": [
    {
     "name": "stdout",
     "output_type": "stream",
     "text": [
      "10\n",
      "8.982585006242244\n",
      "7.721734929184818\n",
      "6.144567105704685\n"
     ]
    }
   ],
   "source": [
    "#Annuity factors discount the number of payments we get\n",
    "#Look at how the factors vary based on different discount rates\n",
    "rates = [0,.02,.05,.1]\n",
    "n = 10\n",
    "for r in rates:\n",
    "    if r==0:\n",
    "        annuityFactor = n\n",
    "    else:\n",
    "        annuityFactor = (1-(1+r)**-n)/r\n",
    "    print(annuityFactor)"
   ]
  },
  {
   "cell_type": "code",
   "execution_count": 8,
   "metadata": {},
   "outputs": [
    {
     "name": "stdout",
     "output_type": "stream",
     "text": [
      "471.3459508504209\n",
      "421.2363785565717\n",
      "360.47762023450076\n"
     ]
    }
   ],
   "source": [
    "#Let's visualize how the rate r affects our annuity value\n",
    "#The further out payments are hurt more by a higher rate of r since they are discounted more heavily\n",
    "rates = [.02,.06,.12]\n",
    "#The present value of each annuity for r equal to the three rates above\n",
    "for r in rates:\n",
    "    print(annuityTVM(100,5,r))"
   ]
  },
  {
   "cell_type": "code",
   "execution_count": 9,
   "metadata": {},
   "outputs": [
    {
     "name": "stdout",
     "output_type": "stream",
     "text": [
      "[98.0392156862745, 96.11687812379854, 94.23223345470444, 92.38454260265142, 90.57308098299158]\n",
      "[94.33962264150944, 88.99964400142399, 83.96192830323018, 79.20936632380204, 74.7258172866057]\n",
      "[89.28571428571428, 79.71938775510203, 71.1780247813411, 63.55180784048311, 56.742685571859916]\n"
     ]
    }
   ],
   "source": [
    "#What are the present values of the payments?\n",
    "#Let's make a nested list where each inner list is the payment present values\n",
    "data = []\n",
    "for r in rates:\n",
    "    PV = [100/(1+r)**t for t in range(1,6)]\n",
    "    print(PV)\n",
    "    data.append(PV)"
   ]
  },
  {
   "cell_type": "code",
   "execution_count": 10,
   "metadata": {},
   "outputs": [
    {
     "data": {
      "image/png": "[encoded data removed]",
      "text/plain": [
       "<matplotlib.figure.Figure at 0x10ea7e898>"
      ]
     },
     "metadata": {},
     "output_type": "display_data"
    }
   ],
   "source": [
    "plt.rcParams[\"figure.figsize\"] = [8,6]\n",
    "#And now, let's graph them\n",
    "for flows,r in zip(data,rates):\n",
    "    #Use \"o\" so we get points instead of a line\n",
    "    plt.plot(list(range(1,6)),flows,\"o\",label=\"r=\"+str(r))\n",
    "    #Set the limits so that we have 0 as the left minimum and 5.5 as the right (so we don't cut off points)\n",
    "    plt.xlim([0,5.5])\n",
    "    plt.ylim([0,100])\n",
    "plt.xlabel(\"t\")\n",
    "plt.ylabel(\"Payment PV\")\n",
    "plt.title(\"Present Value of Annuity Payments\")\n",
    "plt.legend()\n",
    "plt.show()"
   ]
  },
  {
   "cell_type": "code",
   "execution_count": 11,
   "metadata": {},
   "outputs": [
    {
     "data": {
      "image/png": "[encoded data removed]",
      "text/plain": [
       "<matplotlib.figure.Figure at 0x10c62dbe0>"
      ]
     },
     "metadata": {},
     "output_type": "display_data"
    }
   ],
   "source": [
    "plt.rcParams[\"figure.figsize\"] = [12,4]\n",
    "\n",
    "#There is also a such thing as an annuity due, which is an annuity where you get your payment one period earlier\n",
    "#So on a timeline an annuity due for 5 years would look like this\n",
    "payments = []\n",
    "for x in range(0,5):\n",
    "    payments.append((100,x))\n",
    "\n",
    "timelinePlot(5,payments)\n",
    "#You immediately get money in period 0, but get none on period 5 since you already got your 5 payments"
   ]
  },
  {
   "cell_type": "code",
   "execution_count": 12,
   "metadata": {},
   "outputs": [
    {
     "name": "stdout",
     "output_type": "stream",
     "text": [
      "432.9476670630819\n"
     ]
    }
   ],
   "source": [
    "#How does this affect TVM? Well your first payment now has exactly $100 present value since you get it immediately\n",
    "#Your second value was being discounted by t=2, but now you get it a period earlier, so it is only discounted by t=1\n",
    "#And so on\n",
    "#Let's take the example from before which was\n",
    "PV = 0\n",
    "for t in range(1,6):\n",
    "    PV += 100/(1.05)**t\n",
    "print(PV)"
   ]
  },
  {
   "cell_type": "code",
   "execution_count": 13,
   "metadata": {},
   "outputs": [
    {
     "name": "stdout",
     "output_type": "stream",
     "text": [
      "454.595050416236\n"
     ]
    }
   ],
   "source": [
    "#now we have t-1 since we get them all a year early\n",
    "PV = 0\n",
    "for t in range(1,6):\n",
    "    #Notice the t-1\n",
    "    PV += 100/(1.05)**(t-1)\n",
    "print(PV)"
   ]
  },
  {
   "cell_type": "code",
   "execution_count": 14,
   "metadata": {},
   "outputs": [
    {
     "name": "stdout",
     "output_type": "stream",
     "text": [
      "432.9476670630819\n",
      "454.595050416236\n"
     ]
    }
   ],
   "source": [
    "#(1.05)**t-1 is equal to (1.05)**t * (1.05)**-1\n",
    "#So we are dividing every payment by (1.05)**-1\n",
    "#Or conversely multiplying every payment by (1.05)**1\n",
    "#And we can actually pull it out of the summation since everything is multiplied by it\n",
    "PV = 0\n",
    "for t in range(1,6):\n",
    "    PV += 100/(1.05)**t\n",
    "print(PV)\n",
    "print(PV*1.05)"
   ]
  },
  {
   "cell_type": "code",
   "execution_count": 15,
   "metadata": {},
   "outputs": [
    {
     "name": "stdout",
     "output_type": "stream",
     "text": [
      "454.5950504162363\n"
     ]
    }
   ],
   "source": [
    "#So you can multiply an annuity by (1+r) or use the following equation\n",
    "def annuityDue(P,n,r):\n",
    "    annuityFactor = (1-(1+r)**-(n-1))/r\n",
    "    annuity = annuityFactor*P+P\n",
    "    return annuity\n",
    "print(annuityDue(100,5,.05))"
   ]
  },
  {
   "cell_type": "code",
   "execution_count": 16,
   "metadata": {
    "collapsed": true
   },
   "outputs": [],
   "source": [
    "#We might also get an annuity that is semi-annual\n",
    "#There are two kinds of r in this case, annualized meaning the return over a year, or non-annualized\n",
    "#If the rate is 6% for example then..."
   ]
  },
  {
   "cell_type": "code",
   "execution_count": 17,
   "metadata": {},
   "outputs": [
    {
     "name": "stdout",
     "output_type": "stream",
     "text": [
      "0.02956301409869999\n"
     ]
    }
   ],
   "source": [
    "#Annualized would mean that the interest earned over the 2 payments would equal 6%\n",
    "#So $1000 paid semi-annually we have two payments\n",
    "#First we would convert the annualized rate to the semi-annualized rate\n",
    "r = (1.06)**.5-1\n",
    "print(r)"
   ]
  },
  {
   "cell_type": "code",
   "execution_count": 18,
   "metadata": {},
   "outputs": [
    {
     "name": "stdout",
     "output_type": "stream",
     "text": [
      "957.3410443861794\n"
     ]
    }
   ],
   "source": [
    "#Now, with the semi-annual rate, we compound by half years\n",
    "#So while our payment is in period .5, we actually discount with 1 as t but r as 2.95%\n",
    "p1 = 500/(1+r)**1\n",
    "p2 = 500/(1+r)**2\n",
    "print(p1+p2)"
   ]
  },
  {
   "cell_type": "code",
   "execution_count": 19,
   "metadata": {},
   "outputs": [
    {
     "name": "stdout",
     "output_type": "stream",
     "text": [
      "957.3410443861792\n"
     ]
    }
   ],
   "source": [
    "#If you want to still work in terms of years for annualized, you can also use t=.5 and t=1\n",
    "r = .06\n",
    "p1 = 500/(1+r)**.5\n",
    "p2 = 500/(1+r)**1\n",
    "print(p1+p2)\n",
    "#Notice we get the same PV!"
   ]
  },
  {
   "cell_type": "code",
   "execution_count": 20,
   "metadata": {},
   "outputs": [
    {
     "name": "stdout",
     "output_type": "stream",
     "text": [
      "1014.78150704935\n"
     ]
    }
   ],
   "source": [
    "#So PV is 957.34, we can confirm that the annualized rate is 6%\n",
    "#At t = .5, we would be getting 500 which we could then invest at a rate of 6%\n",
    "#The future value of 500 at time t = .5 at t = 1 could be found by compounding by half a year the 6% interest rate\n",
    "#At time t=1 we would also get 500\n",
    "print(500*1.06**.5+500)"
   ]
  },
  {
   "cell_type": "code",
   "execution_count": 21,
   "metadata": {},
   "outputs": [
    {
     "name": "stdout",
     "output_type": "stream",
     "text": [
      "1.06\n"
     ]
    }
   ],
   "source": [
    "#So the future value of these two payments is 1014.78\n",
    "#It is more than 1000 (the face value) or what we would get if it is annual because you can invest the coupon for half a year\n",
    "#Now, if our future value is 1014.78 at t=1 and our PV is 957.34 at t=0, we can find the rate of return from the equation\n",
    "print((500*1.06**.5+500)/(p1+p2))"
   ]
  },
  {
   "cell_type": "code",
   "execution_count": 22,
   "metadata": {},
   "outputs": [
    {
     "name": "stdout",
     "output_type": "stream",
     "text": [
      "956.7348477707607\n"
     ]
    }
   ],
   "source": [
    "#The point of an annualized rate is that it is what you will get in terms of yearly return\n",
    "#If we had a rate that was not annualzied, a nominal rate, then we would just divide by the number of periods\n",
    "#This is the agreement that you make, you get or pay interest n periods of interest with a rate of r/n per period\n",
    "r = .06/2\n",
    "p1 = 500/(1+r)**1\n",
    "p2 = 500/(1+r)**2\n",
    "print(p1+p2)\n",
    "#The present value is now lower"
   ]
  },
  {
   "cell_type": "code",
   "execution_count": 23,
   "metadata": {},
   "outputs": [
    {
     "name": "stdout",
     "output_type": "stream",
     "text": [
      "1.0609\n"
     ]
    }
   ],
   "source": [
    "#And now since we can still re-invest in the same way...\n",
    "print((500*1.03+500)/(p1+p2))\n",
    "#Our effective annual rate is 6.09%"
   ]
  },
  {
   "cell_type": "code",
   "execution_count": 24,
   "metadata": {},
   "outputs": [
    {
     "name": "stdout",
     "output_type": "stream",
     "text": [
      "0.060899999999999954\n"
     ]
    }
   ],
   "source": [
    "#If you have a rate that is not annualized, you can also annualize it then apply the formulas for annualized like before\n",
    "r = .06\n",
    "r = (1+r/2)**2-1\n",
    "print(r)"
   ]
  },
  {
   "cell_type": "code",
   "execution_count": 25,
   "metadata": {},
   "outputs": [
    {
     "name": "stdout",
     "output_type": "stream",
     "text": [
      "1015.0\n",
      "1015.0\n",
      "1015.0\n"
     ]
    }
   ],
   "source": [
    "#So using the annualized rate on our PV\n",
    "print((500*1.03+500))\n",
    "print((p1+p2)*(1+r))\n",
    "print(500*(1+r)**.5+500)"
   ]
  },
  {
   "cell_type": "code",
   "execution_count": 26,
   "metadata": {},
   "outputs": [
    {
     "name": "stdout",
     "output_type": "stream",
     "text": [
      "4305.9914937938065\n"
     ]
    }
   ],
   "source": [
    "#So now that we understand how this works, let's apply it to annuities\n",
    "#Annualized rate of 6%, 1000 coupon, 5 years, 4 quarterly coupons\n",
    "PV = 0\n",
    "n = 5*4\n",
    "r = .06\n",
    "coupon = 1000/4\n",
    "for x in range(1,n+1):\n",
    "    t = x/4\n",
    "    PV += coupon / (1+r)**t\n",
    "print(PV)"
   ]
  },
  {
   "cell_type": "code",
   "execution_count": 27,
   "metadata": {},
   "outputs": [
    {
     "name": "stdout",
     "output_type": "stream",
     "text": [
      "4292.159696270487\n"
     ]
    }
   ],
   "source": [
    "#Then way 1 to do nominal interest rates for the same\n",
    "PV = 0\n",
    "n = 5*4\n",
    "r = .06/4\n",
    "coupon = 1000/4\n",
    "for x in range(1,n+1):\n",
    "    t = x\n",
    "    PV += coupon / (1+r)**t\n",
    "print(PV)"
   ]
  },
  {
   "cell_type": "code",
   "execution_count": 28,
   "metadata": {},
   "outputs": [
    {
     "name": "stdout",
     "output_type": "stream",
     "text": [
      "4292.159696270485\n"
     ]
    }
   ],
   "source": [
    "#Or way 2 to do nominal interest rates for the same\n",
    "PV = 0\n",
    "n = 5*4\n",
    "r = (1+.06/4)**4-1\n",
    "coupon = 1000/4\n",
    "for x in range(1,n+1):\n",
    "    t = x/4\n",
    "    PV += coupon / (1+r)**t\n",
    "print(PV)"
   ]
  },
  {
   "cell_type": "code",
   "execution_count": 29,
   "metadata": {},
   "outputs": [
    {
     "name": "stdout",
     "output_type": "stream",
     "text": [
      "4305.9914937938065\n"
     ]
    }
   ],
   "source": [
    "#For the annuity equations, we can change our rate to a semi-annual rate\n",
    "#So for the annualized rate\n",
    "r = (1.06)**.25-1\n",
    "n = 5*4\n",
    "coupon = 1000/4\n",
    "print(annuityTVM(coupon,n,r))"
   ]
  },
  {
   "cell_type": "code",
   "execution_count": 30,
   "metadata": {},
   "outputs": [
    {
     "name": "stdout",
     "output_type": "stream",
     "text": [
      "4292.159696270459\n"
     ]
    }
   ],
   "source": [
    "#Or for a simple rate\n",
    "r = .06/4\n",
    "n = 5*4\n",
    "coupon = 1000/4\n",
    "print(annuityTVM(coupon,n,r))"
   ]
  }
 ],
 "metadata": {
  "kernelspec": {
   "display_name": "Python 3",
   "language": "python",
   "name": "python3"
  },
  "language_info": {
   "codemirror_mode": {
    "name": "ipython",
    "version": 3
   },
   "file_extension": ".py",
   "mimetype": "text/x-python",
   "name": "python",
   "nbconvert_exporter": "python",
   "pygments_lexer": "ipython3",
   "version": "3.6.3"
  }
 },
 "nbformat": 4,
 "nbformat_minor": 2
}
