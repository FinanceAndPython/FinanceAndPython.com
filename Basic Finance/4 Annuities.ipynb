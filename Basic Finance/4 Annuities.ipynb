{
 "cells": [
  {
   "cell_type": "markdown",
   "metadata": {},
   "source": [
    "# Time Value of Money\n",
    "\n",
    "We have covered the present value and future value, so now I want to first introduce a function to find the value of different cash flows given different timings and rates of return. The function below is going to take as an argument a cashflows list where each element is a tuple with the nominal value, the discount rate for the period and the number of years in the future. This way we can make a function which returns the total TVM."
   ]
  },
  {
   "cell_type": "code",
   "execution_count": 1,
   "metadata": {},
   "outputs": [
    {
     "name": "stdout",
     "output_type": "stream",
     "text": [
      "387.37448417423155\n"
     ]
    }
   ],
   "source": [
    "#Build a function to find TVM of cash flows\n",
    "def TVM(cash_flows):\n",
    "    #Start with a present value of 0\n",
    "    PV = 0\n",
    "    \n",
    "    #For each flow, calculate the PV and add it\n",
    "    for flow in cash_flows:\n",
    "        P = flow[0]\n",
    "        r = flow[1]\n",
    "        t = flow[2]\n",
    "        #Find the present value for the cashflow\n",
    "        PV_i = P / (1+r)**t\n",
    "        PV += PV_i\n",
    "    return PV\n",
    "PV = TVM([(100,.01,1),(200,.015,2),(100,.02,3)])\n",
    "print(PV)"
   ]
  },
  {
   "cell_type": "markdown",
   "metadata": {},
   "source": [
    "# Annuities\n",
    "\n",
    "Annuities are financial instruments which return a set amount of money each year for a given number of years. An example is an annuity that rewards the holder with $100 every single year for 5 years. The way to calculate it's value is shown below given a discount rate of 5% held constant the whole time."
   ]
  },
  {
   "cell_type": "code",
   "execution_count": 2,
   "metadata": {},
   "outputs": [
    {
     "name": "stdout",
     "output_type": "stream",
     "text": [
      "432.9476670630819\n"
     ]
    }
   ],
   "source": [
    "PV = TVM([(100, .05, 1), (100, .05, 2), (100, .05, 3), (100, .05, 4), (100, .05, 5)])\n",
    "print(PV)"
   ]
  },
  {
   "cell_type": "markdown",
   "metadata": {},
   "source": [
    "If we can assume that we are also able to invest each cash flow that we get at 5% after the fact, then our future value of the annuity can be found easily like below."
   ]
  },
  {
   "cell_type": "code",
   "execution_count": 3,
   "metadata": {},
   "outputs": [
    {
     "name": "stdout",
     "output_type": "stream",
     "text": [
      "552.5631250000001\n"
     ]
    }
   ],
   "source": [
    "#In terms of future value, if we invested each cash flow at r=5% as we get it, we would have...\n",
    "FV = PV * (1.05) ** 5\n",
    "print(FV)"
   ]
  },
  {
   "cell_type": "code",
   "execution_count": 4,
   "metadata": {},
   "outputs": [],
   "source": [
    "#Bringing back our timeline function\n",
    "import matplotlib.pyplot as plt\n",
    "def timelinePlot(periods,values):\n",
    "#Create our plot\n",
    "    fig = plt.figure(figsize=(12, 4))\n",
    "    ax = fig.add_subplot(111)\n",
    "    \n",
    "    #Set the limits of our plots (in terms of values, not dimensions)\n",
    "    ax.set_xlim(0,10)\n",
    "    ax.set_ylim(0,10)\n",
    "    \n",
    "    #Set the minimums that we will be plotting in (we give a 1 or 10% margin on each side)\n",
    "    xmin = 1\n",
    "    xmax = 9\n",
    "    \n",
    "    #Set the y of where our plot will be centered around, 5 is the middle\n",
    "    y = 5\n",
    "    \n",
    "    #Set height for our ticks\n",
    "    height = 1\n",
    "    \n",
    "    #Get the spacing between each tick\n",
    "    delta = (xmax-xmin)/periods\n",
    "    \n",
    "    #Create the positions for each tick\n",
    "    positions = [xmin+delta*x for x in list(range(periods+1))]\n",
    "    \n",
    "    #Plot the horizontal line\n",
    "    plt.hlines(y, xmin, xmax, color='grey')\n",
    "\n",
    "    for t in range(periods+1):\n",
    "        #Plot the tick\n",
    "        plt.vlines(positions[t], y - .5, y + .5, color='grey')\n",
    "        \n",
    "        #Plot the time period below\n",
    "        plt.text(positions[t], y-1.2, t, horizontalalignment='center',fontsize=14)\n",
    "        \n",
    "    #Get rid of axes\n",
    "    plt.axis('off')\n",
    "    \n",
    "    for value in values:\n",
    "        #Plot a red dot on the year that our value is at\n",
    "        plt.plot(positions[value[1]],y, 'ro', ms = 15, mfc = 'r')\n",
    "        #Plot the values above, use rounding to keep it clean\n",
    "        plt.text(positions[value[1]], y+1.2, \"$\"+str(round(value[0],1)), horizontalalignment='center',fontsize=18)\n",
    "\n",
    "    \n",
    "    plt.show()"
   ]
  },
  {
   "cell_type": "code",
   "execution_count": 5,
   "metadata": {},
   "outputs": [
    {
     "data": {
      "image/png": "[encoded data removed]",
      "text/plain": [
       "<Figure size 864x288 with 1 Axes>"
      ]
     },
     "metadata": {
      "needs_background": "light"
     },
     "output_type": "display_data"
    }
   ],
   "source": [
    "#Plot our the cash flows\n",
    "payments = [(-PV,0)] + [(100,x) for x in range(1,6)]\n",
    "timelinePlot(5,payments)"
   ]
  },
  {
   "cell_type": "markdown",
   "metadata": {},
   "source": [
    "## Annuity Equation\n",
    "\n",
    "While we could find the value of an annuity in a manual manner like above, there is actually an equation which will give us the correct present value. \n",
    "\n",
    "$$ PV = P \\cdot \\frac{1-(1+r)^{-n}}{r}$$\n",
    "\n",
    "where\n",
    "\n",
    "$ PV = \\text{Present Value} $\n",
    "\n",
    "$ P = \\text{Payment} $\n",
    "\n",
    "$ r = \\text{Discount Rate} $\n",
    "\n",
    "$ n = \\text{Number of Periods} $"
   ]
  },
  {
   "cell_type": "code",
   "execution_count": 6,
   "metadata": {},
   "outputs": [
    {
     "name": "stdout",
     "output_type": "stream",
     "text": [
      "432.94766706308224\n"
     ]
    }
   ],
   "source": [
    "#There is an equation which represents the present value of an annuity\n",
    "#P is payment, n is the number of years, and r is our discount rate\n",
    "def annuity_TVM(P, n, r):\n",
    "    annuity_factor = (1-(1+r)**-n)/r\n",
    "    PV = annuity_factor * P\n",
    "    return PV\n",
    "print(annuity_TVM(100,5,.05))"
   ]
  },
  {
   "cell_type": "markdown",
   "metadata": {},
   "source": [
    "## The Annuity Factor\n",
    "\n",
    "The annuity factor can be thought of as a multiplier to the payments. In the case that the rate is 0%, the annuity factor is going to be n (the total number of payments) because there is no discounting. As r becomes larger and larger the annuity factor shrinks because the payments are worth less and less. Let's find what the annuity factor will be with 10 years and different values of r."
   ]
  },
  {
   "cell_type": "code",
   "execution_count": 7,
   "metadata": {},
   "outputs": [
    {
     "name": "stdout",
     "output_type": "stream",
     "text": [
      "10\n",
      "8.982585006242244\n",
      "7.721734929184818\n",
      "6.144567105704685\n"
     ]
    }
   ],
   "source": [
    "#Annuity factors discount the number of payments we get\n",
    "#Look at how the factors vary based on different discount rates\n",
    "rates = [0,.02,.05,.1]\n",
    "n = 10\n",
    "for r in rates:\n",
    "    if r==0:\n",
    "        annuityFactor = n\n",
    "    else:\n",
    "        annuityFactor = (1-(1+r)**-n)/r\n",
    "    print(annuityFactor)"
   ]
  },
  {
   "cell_type": "markdown",
   "metadata": {},
   "source": [
    "Let's visualize what the value of each payment is with the different rates to understand this better. If we assume payments are \\$100 we can iterate through each rate to see the values."
   ]
  },
  {
   "cell_type": "code",
   "execution_count": 8,
   "metadata": {},
   "outputs": [
    {
     "name": "stdout",
     "output_type": "stream",
     "text": [
      "r=0\n",
      "Payment Values:\n",
      "[100.0, 100.0, 100.0, 100.0, 100.0, 100.0, 100.0, 100.0, 100.0, 100.0]\n",
      "\n",
      "r=0.02\n",
      "Payment Values:\n",
      "[98.0392156862745, 96.11687812379854, 94.23223345470444, 92.38454260265142, 90.57308098299158, 88.7971382186192, 87.05601786139138, 85.34903711901114, 83.67552658726582, 82.03482998751551]\n",
      "\n",
      "r=0.05\n",
      "Payment Values:\n",
      "[95.23809523809524, 90.70294784580499, 86.3837598531476, 82.27024747918819, 78.35261664684589, 74.62153966366274, 71.06813301301213, 67.6839362028687, 64.46089162177971, 61.39132535407592]\n",
      "\n",
      "r=0.1\n",
      "Payment Values:\n",
      "[90.9090909090909, 82.64462809917354, 75.13148009015775, 68.30134553650706, 62.0921323059155, 56.44739300537772, 51.315811823070646, 46.65073802097331, 42.40976183724846, 38.55432894295314]\n",
      "\n"
     ]
    }
   ],
   "source": [
    "P = 100\n",
    "n = 10\n",
    "rates = [0, .02, .05, .1]\n",
    "\n",
    "PV = []\n",
    "for r in rates:\n",
    "    PV.append([P / (1 + r) ** t for t in range(1, n+1)])\n",
    "    print(\"r={}\".format(r))\n",
    "    print(\"Payment Values:\")\n",
    "    print(PV[-1])\n",
    "    print()"
   ]
  },
  {
   "cell_type": "markdown",
   "metadata": {},
   "source": [
    "Now that we have the data, we can plot it."
   ]
  },
  {
   "cell_type": "code",
   "execution_count": 9,
   "metadata": {},
   "outputs": [
    {
     "data": {
      "image/png": "[encoded data removed]",
      "text/plain": [
       "<Figure size 576x432 with 1 Axes>"
      ]
     },
     "metadata": {
      "needs_background": "light"
     },
     "output_type": "display_data"
    }
   ],
   "source": [
    "plt.rcParams[\"figure.figsize\"] = [8,6]\n",
    "\n",
    "#And now, let's graph them\n",
    "for payments, r in zip(PV, rates):\n",
    "    #Use \"o\" so we get points instead of a line\n",
    "    plt.plot(list(range(1,n+1)), payments, \"o\", label=\"r=\"+str(r))\n",
    "    \n",
    "    #Set the limits so that we have 0 as the left minimum and 5.5 as the right (so we don't cut off points)\n",
    "    plt.xlim([0,10.5])\n",
    "    plt.ylim([0,110])\n",
    "plt.xlabel(\"t\")\n",
    "plt.ylabel(\"Payment PV\")\n",
    "plt.title(\"Present Value of Annuity Payments\")\n",
    "plt.legend()\n",
    "plt.show()"
   ]
  },
  {
   "cell_type": "markdown",
   "metadata": {},
   "source": [
    "Of course, we can sum these values to find the annuity present value. Let's see how they compare below."
   ]
  },
  {
   "cell_type": "code",
   "execution_count": 10,
   "metadata": {},
   "outputs": [
    {
     "name": "stdout",
     "output_type": "stream",
     "text": [
      "r=0\n",
      "Payment Values: 1000.0\n",
      "\n",
      "r=0.02\n",
      "Payment Values: 898.2585006242236\n",
      "\n",
      "r=0.05\n",
      "Payment Values: 772.1734929184811\n",
      "\n",
      "r=0.1\n",
      "Payment Values: 614.456710570468\n",
      "\n"
     ]
    }
   ],
   "source": [
    "#Iterate through and find the present values\n",
    "for r, payments in zip(rates, PV):\n",
    "    print(\"r={}\".format(r))\n",
    "    print(\"Payment Values: {}\".format(sum(payments)))\n",
    "    print()"
   ]
  },
  {
   "cell_type": "code",
   "execution_count": 11,
   "metadata": {},
   "outputs": [
    {
     "name": "stdout",
     "output_type": "stream",
     "text": [
      "r=0\n",
      "Payment Values: 1000\n",
      "\n",
      "r=0.02\n",
      "Payment Values: 898.2585006242244\n",
      "\n",
      "r=0.05\n",
      "Payment Values: 772.1734929184818\n",
      "\n",
      "r=0.1\n",
      "Payment Values: 614.4567105704685\n",
      "\n"
     ]
    }
   ],
   "source": [
    "for r, payments in zip(rates, PV):\n",
    "    print(\"r={}\".format(r))\n",
    "    #If r is 0 then there will be division by 0\n",
    "    #Formula is n*payment in that case\n",
    "    if r > 0:\n",
    "        print(\"Payment Values: {}\".format(annuity_TVM(100,10,r)))\n",
    "    else:\n",
    "        print(\"Payment Values: {}\".format(10 * 100))\n",
    "    print()"
   ]
  },
  {
   "cell_type": "markdown",
   "metadata": {},
   "source": [
    "## Annuity Due\n",
    "\n",
    "While regular annuities pay off at the end of each year, there is a such thing as an annuity due. These instruments actually pay off in the beginning of the year instead. We can visualize a 5 year annuity due below."
   ]
  },
  {
   "cell_type": "code",
   "execution_count": 12,
   "metadata": {},
   "outputs": [
    {
     "data": {
      "image/png": "[encoded data removed]",
      "text/plain": [
       "<Figure size 864x288 with 1 Axes>"
      ]
     },
     "metadata": {
      "needs_background": "light"
     },
     "output_type": "display_data"
    }
   ],
   "source": [
    "plt.rcParams[\"figure.figsize\"] = [12,4]\n",
    "\n",
    "#There is also a such thing as an annuity due, which is an annuity where you get your payment one period earlier\n",
    "#So on a timeline an annuity due for 5 years would look like this\n",
    "payments = []\n",
    "for x in range(0,5):\n",
    "    payments.append((100,x))\n",
    "\n",
    "timelinePlot(5,payments)\n",
    "#You immediately get money in period 0, but get none on period 5 since you already got your 5 payments"
   ]
  },
  {
   "cell_type": "markdown",
   "metadata": {},
   "source": [
    "The way that this will change TVM is that now each payment is discounted by one less year. For example, the first payment was discounted by 1 year but now it is discounted by 0 years. The second payment was discounted by 2 years but now it will be only discounted by 1 year. Compare how we can calcualte a present value below for an annuity and the same one if it were changed to an annuity due."
   ]
  },
  {
   "cell_type": "code",
   "execution_count": 13,
   "metadata": {},
   "outputs": [
    {
     "name": "stdout",
     "output_type": "stream",
     "text": [
      "432.9476670630819\n",
      "454.595050416236\n"
     ]
    }
   ],
   "source": [
    "#Computing present value for the annuity\n",
    "PV1 = 0\n",
    "for t in range(1,6):\n",
    "    PV1 += 100/(1.05)**t\n",
    "print(PV1)\n",
    "\n",
    "#Computing present value for the annuity due\n",
    "PV2 = 0\n",
    "for t in range(1,6):\n",
    "    #Notice the t-1\n",
    "    PV2 += 100/(1.05)**(t-1)\n",
    "print(PV2)"
   ]
  },
  {
   "cell_type": "markdown",
   "metadata": {},
   "source": [
    "One way to think about the difference between an annuity due and an annuity is that every payment is being shifted. Because of this there is a relationship that will hold between the two:\n",
    "\n",
    "$$a_D = a \\cdot (1+r)$$\n",
    "\n",
    "where \n",
    "\n",
    "$a_D = \\text{Annuity Due}$\n",
    "\n",
    "$a = \\text{Annuity}$\n",
    "\n",
    "$r = \\text{Discount Rate}$\n",
    "\n",
    "Confirm it with the values below."
   ]
  },
  {
   "cell_type": "code",
   "execution_count": 14,
   "metadata": {},
   "outputs": [
    {
     "name": "stdout",
     "output_type": "stream",
     "text": [
      "454.595050416236\n"
     ]
    }
   ],
   "source": [
    "#It is the same value just with 1.05 multiplied\n",
    "print(PV1 * 1.05)"
   ]
  },
  {
   "cell_type": "markdown",
   "metadata": {},
   "source": [
    "## Semi-Annual Annuity Payments\n",
    "\n",
    "We can convert an annuity to semi-annual payments by changing the annualized rate to a semi-annual one. Then we multiply the number of compounding periods by 2. This will give us the correct valuation. The idea here is that 2n payments at the semi-annual rate should equate to n payments at the annual rate.\n",
    "\n",
    "Let's say there is an annualized rate of 6%. Our first step is going to be converting it to the semi-annual rate. We will begin with just one year, and two payments."
   ]
  },
  {
   "cell_type": "code",
   "execution_count": 15,
   "metadata": {},
   "outputs": [
    {
     "name": "stdout",
     "output_type": "stream",
     "text": [
      "0.02956301409869999\n"
     ]
    }
   ],
   "source": [
    "#Convert to semi-annual\n",
    "r = (1.06)**.5-1\n",
    "print(r)"
   ]
  },
  {
   "cell_type": "markdown",
   "metadata": {},
   "source": [
    "Now, with the semi-annual rate, we compound by half years. So while our payment is in period .5, we actually discount with 1 as t but r as 2.95%. Check out the present value of the payments halfway through the first year and at the end of the first year."
   ]
  },
  {
   "cell_type": "code",
   "execution_count": 16,
   "metadata": {},
   "outputs": [
    {
     "name": "stdout",
     "output_type": "stream",
     "text": [
      "957.3410443861794\n"
     ]
    }
   ],
   "source": [
    "#Show semi-annual payments present value\n",
    "p1 = 500/(1+r)**1\n",
    "p2 = 500/(1+r)**2\n",
    "PV = p1+p2\n",
    "print(PV)"
   ]
  },
  {
   "cell_type": "markdown",
   "metadata": {},
   "source": [
    "If you have a strong preference to still use annualized, you can also keep the yearly r but use decimals to represent half years."
   ]
  },
  {
   "cell_type": "code",
   "execution_count": 17,
   "metadata": {},
   "outputs": [
    {
     "name": "stdout",
     "output_type": "stream",
     "text": [
      "957.3410443861792\n"
     ]
    }
   ],
   "source": [
    "#Notice we get the same PV!\n",
    "r = .06\n",
    "p1 = 500/(1+r)**.5\n",
    "p2 = 500/(1+r)**1\n",
    "PV = p1+p2\n",
    "print(PV)"
   ]
  },
  {
   "cell_type": "markdown",
   "metadata": {},
   "source": [
    "As a check, let's see what the future value of these two payments would come out to be. Our payment at time t=1 has a future value of itself because that is the end of our measurement. For the payment at time t=.5, we need to compound half a year's worth of interest. Our future value comes out to be $1014.78."
   ]
  },
  {
   "cell_type": "code",
   "execution_count": 18,
   "metadata": {},
   "outputs": [
    {
     "name": "stdout",
     "output_type": "stream",
     "text": [
      "1014.78150704935\n"
     ]
    }
   ],
   "source": [
    "#Find the future value of the two payments\n",
    "FV = 500*1.06**.5+500\n",
    "print(FV)"
   ]
  },
  {
   "cell_type": "markdown",
   "metadata": {},
   "source": [
    "When we divide the future value by the present value we see that clearly the rate of return comes out to being 6%. This is good news, we are doing it correctly."
   ]
  },
  {
   "cell_type": "code",
   "execution_count": 19,
   "metadata": {},
   "outputs": [
    {
     "name": "stdout",
     "output_type": "stream",
     "text": [
      "0.06000000000000005\n"
     ]
    }
   ],
   "source": [
    "print(FV/PV - 1)"
   ]
  },
  {
   "cell_type": "markdown",
   "metadata": {},
   "source": [
    "## The Difference between an Annualized and Nominal Rate\n",
    "\n",
    "The point of an annualized rate is that it is what you will get in terms of yearly return. If we had a rate that was not annualzied, a nominal rate, then we would just divide by the number of periods. The agreement that you make is that you get or pay n periods of interest with a rate of r/n per period. Notice how the present value is lower. This is because the compounding will be larger. With the annualized rate, our semi-annual r was around 2.95% but in this case it would be 3% leading to a larger annual return than 6%!"
   ]
  },
  {
   "cell_type": "code",
   "execution_count": 20,
   "metadata": {},
   "outputs": [
    {
     "name": "stdout",
     "output_type": "stream",
     "text": [
      "956.7348477707607\n"
     ]
    }
   ],
   "source": [
    "#The present value is now lower\n",
    "r = .06/2\n",
    "p1 = 500/(1+r)**1\n",
    "p2 = 500/(1+r)**2\n",
    "PV = p1+p2\n",
    "print(PV)"
   ]
  },
  {
   "cell_type": "markdown",
   "metadata": {},
   "source": [
    "The effective annual rate of return ends up coming out to about 6.09% in this case which is larger."
   ]
  },
  {
   "cell_type": "code",
   "execution_count": 21,
   "metadata": {},
   "outputs": [
    {
     "name": "stdout",
     "output_type": "stream",
     "text": [
      "0.060899999999999954\n"
     ]
    }
   ],
   "source": [
    "#And now since we can still re-invest in the same way...\n",
    "print((500*1.03+500)/PV - 1)"
   ]
  },
  {
   "cell_type": "markdown",
   "metadata": {},
   "source": [
    "## Converting to an Annualized Rate\n",
    "\n",
    "Recall that we can convert to an annualized rate by doing the following:\n",
    "\n",
    "$$ r_a = (1 + \\frac{r_n}{f})^f - 1 $$\n",
    "\n",
    "where \n",
    "\n",
    "$$ r_a = \\text{Annualized Rate} $$\n",
    "$$ r_n = \\text{Nominal Rate} $$\n",
    "$$ f = \\text{Payment frequency} $$"
   ]
  },
  {
   "cell_type": "code",
   "execution_count": 22,
   "metadata": {},
   "outputs": [
    {
     "name": "stdout",
     "output_type": "stream",
     "text": [
      "0.060899999999999954\n"
     ]
    }
   ],
   "source": [
    "#Annualize the rate\n",
    "r = .06\n",
    "r = (1+r/2)**2-1\n",
    "print(r)"
   ]
  },
  {
   "cell_type": "markdown",
   "metadata": {},
   "source": [
    "The following shows three equivalent ways to calculate the future value of the payments. The first being the payments with the semi-annual rate applied to the mid year payment and the end payment, the second being the present value multiplied by the annualized rate, and finally the last one as the same calculation as the first one except converting the annualized rate to the equivalent for a half year."
   ]
  },
  {
   "cell_type": "code",
   "execution_count": 23,
   "metadata": {},
   "outputs": [
    {
     "name": "stdout",
     "output_type": "stream",
     "text": [
      "1015.0\n",
      "1015.0\n",
      "1015.0\n"
     ]
    }
   ],
   "source": [
    "#So using the annualized rate on our PV\n",
    "print((500*1.03+500))\n",
    "print((p1+p2)*(1+r))\n",
    "print(500*(1+r)**.5+500)"
   ]
  },
  {
   "cell_type": "markdown",
   "metadata": {},
   "source": [
    "## Extending to 4 Periods\n",
    "\n",
    "Now that we get how to do this with two periods, we can move on to four periods (or in general any number of periods). If we have 5 years at an annualzied rate of 6% paid in quarters, the following is the calculation of the annuity value. We can say that each year $1000 is paid, meaning the coupon is $250 a quarter."
   ]
  },
  {
   "cell_type": "code",
   "execution_count": 24,
   "metadata": {},
   "outputs": [
    {
     "name": "stdout",
     "output_type": "stream",
     "text": [
      "4305.9914937938065\n"
     ]
    }
   ],
   "source": [
    "#Set up the basic variables\n",
    "\n",
    "#Variable to track the present value\n",
    "PV = 0\n",
    "\n",
    "#The number of payment periods\n",
    "n = 5*4\n",
    "\n",
    "#The annualzied rate\n",
    "r = .06\n",
    "\n",
    "#The quarterly payment\n",
    "coupon = 1000/4\n",
    "\n",
    "#Go through each period\n",
    "for x in range(1,n+1):\n",
    "    #The time is in quarter years so divide by 4\n",
    "    t = x/4\n",
    "    \n",
    "    #Add in the present value\n",
    "    PV += coupon / (1+r)**t\n",
    "print(PV)"
   ]
  },
  {
   "cell_type": "code",
   "execution_count": 25,
   "metadata": {},
   "outputs": [
    {
     "name": "stdout",
     "output_type": "stream",
     "text": [
      "4292.159696270487\n"
     ]
    }
   ],
   "source": [
    "#Then way 1 to do nominal interest rates for the same\n",
    "PV = 0\n",
    "n = 5*4\n",
    "r = .06/4\n",
    "coupon = 1000/4\n",
    "for x in range(1,n+1):\n",
    "    t = x\n",
    "    PV += coupon / (1+r)**t\n",
    "print(PV)"
   ]
  }
 ],
 "metadata": {
  "kernelspec": {
   "display_name": "Python 3 (ipykernel)",
   "language": "python",
   "name": "python3"
  },
  "language_info": {
   "codemirror_mode": {
    "name": "ipython",
    "version": 3
   },
   "file_extension": ".py",
   "mimetype": "text/x-python",
   "name": "python",
   "nbconvert_exporter": "python",
   "pygments_lexer": "ipython3",
   "version": "3.9.7"
  }
 },
 "nbformat": 4,
 "nbformat_minor": 2
}
