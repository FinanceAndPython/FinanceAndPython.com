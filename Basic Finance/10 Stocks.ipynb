{
 "cells": [
  {
   "cell_type": "code",
   "execution_count": 1,
   "metadata": {
    "collapsed": true
   },
   "outputs": [],
   "source": [
    "class Stock:\n",
    "    def __init__(self,price,dYield,r):\n",
    "        self.price = price\n",
    "        self.dYield = dYield\n",
    "        self.r = r"
   ]
  },
  {
   "cell_type": "code",
   "execution_count": 2,
   "metadata": {
    "collapsed": true
   },
   "outputs": [],
   "source": [
    "AAPL = Stock(100,.02,.05)"
   ]
  },
  {
   "cell_type": "code",
   "execution_count": 3,
   "metadata": {},
   "outputs": [
    {
     "name": "stdout",
     "output_type": "stream",
     "text": [
      "100\n",
      "0.02\n",
      "0.05\n"
     ]
    }
   ],
   "source": [
    "print(AAPL.price)\n",
    "print(AAPL.dYield)\n",
    "print(AAPL.r)"
   ]
  },
  {
   "cell_type": "code",
   "execution_count": 4,
   "metadata": {
    "collapsed": true
   },
   "outputs": [],
   "source": [
    "class Stock:\n",
    "    def __init__(self,price,dYield,r):\n",
    "        self.price = price\n",
    "        self.dYield = dYield\n",
    "        self.r = r\n",
    "    def findDividend(self):\n",
    "        return self.dYield*self.price"
   ]
  },
  {
   "cell_type": "code",
   "execution_count": 5,
   "metadata": {},
   "outputs": [
    {
     "data": {
      "text/plain": [
       "2.0"
      ]
     },
     "execution_count": 5,
     "metadata": {},
     "output_type": "execute_result"
    }
   ],
   "source": [
    "AAPL = Stock(100,.02,.05)\n",
    "AAPL.findDividend()"
   ]
  },
  {
   "cell_type": "code",
   "execution_count": 6,
   "metadata": {
    "collapsed": true
   },
   "outputs": [],
   "source": [
    "class Stock:\n",
    "    def __init__(self,price,dYield,r):\n",
    "        self.price = price\n",
    "        self.dYield = dYield\n",
    "        self.r = r\n",
    "    def findDividend(self):\n",
    "        return self.dYield*self.price\n",
    "    def findPE(self,EPS):\n",
    "        return self.price/EPS\n",
    "    def findExpectedPrice(self):\n",
    "        expectedPriceWithout = self.price*(1+self.r)\n",
    "        return expectedPriceWithout-expectedPriceWithout*(self.dYield)"
   ]
  },
  {
   "cell_type": "code",
   "execution_count": 7,
   "metadata": {},
   "outputs": [
    {
     "name": "stdout",
     "output_type": "stream",
     "text": [
      "5.0\n",
      "102.9\n"
     ]
    }
   ],
   "source": [
    "AAPL = Stock(100,.02,.05)\n",
    "\n",
    "print(AAPL.findPE(20))\n",
    "print(AAPL.findExpectedPrice())"
   ]
  }
 ],
 "metadata": {
  "kernelspec": {
   "display_name": "Python 3",
   "language": "python",
   "name": "python3"
  },
  "language_info": {
   "codemirror_mode": {
    "name": "ipython",
    "version": 3
   },
   "file_extension": ".py",
   "mimetype": "text/x-python",
   "name": "python",
   "nbconvert_exporter": "python",
   "pygments_lexer": "ipython3",
   "version": "3.6.1"
  }
 },
 "nbformat": 4,
 "nbformat_minor": 2
}
