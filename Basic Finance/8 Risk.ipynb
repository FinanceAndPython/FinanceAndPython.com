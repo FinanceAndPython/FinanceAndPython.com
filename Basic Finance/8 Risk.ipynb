{
 "cells": [
  {
   "cell_type": "markdown",
   "metadata": {},
   "source": [
    "# Risk\n",
    "\n",
    "To understand risk we are going to start with simulated data. The code below can just be run and it will create some data to be used in this process."
   ]
  },
  {
   "cell_type": "code",
   "execution_count": 1,
   "metadata": {},
   "outputs": [],
   "source": [
    "import numpy as np\n",
    "\n",
    "#Create the market returns\n",
    "np.random.seed(1)\n",
    "market_returns = np.random.normal(0.000325, .02, 500)"
   ]
  },
  {
   "cell_type": "markdown",
   "metadata": {},
   "source": [
    "With market returns, we could simulate the hypothetical path. If our market that these returns represent was worth $100, then the following code is going to represent its evolution over time."
   ]
  },
  {
   "cell_type": "code",
   "execution_count": 2,
   "metadata": {},
   "outputs": [],
   "source": [
    "#Use P to denote current price\n",
    "P = 100\n",
    "\n",
    "#The ts variable will hold the time series of the asset price, at time 0 it is equal to P\n",
    "ts = [P]\n",
    "\n",
    "#Iterate through all the returns\n",
    "for r in market_returns:\n",
    "    #The new market value is P * (1+r)\n",
    "    P = P * (1+r)\n",
    "    \n",
    "    #Append to the time series\n",
    "    ts.append(P)"
   ]
  },
  {
   "cell_type": "code",
   "execution_count": 3,
   "metadata": {},
   "outputs": [
    {
     "data": {
      "image/png": "[encoded data removed]",
      "text/plain": [
       "<Figure size 432x288 with 1 Axes>"
      ]
     },
     "metadata": {
      "needs_background": "light"
     },
     "output_type": "display_data"
    }
   ],
   "source": [
    "import matplotlib.pyplot as plt\n",
    "\n",
    "#Graphically it looks like this\n",
    "plt.plot(range(len(ts)),ts)\n",
    "plt.xlabel(\"t\")\n",
    "plt.ylabel(\"Market Value\")\n",
    "plt.title(\"Market Value over 500 Trading Days\")\n",
    "plt.show()"
   ]
  },
  {
   "cell_type": "markdown",
   "metadata": {},
   "source": [
    "Holding period return is equal to either of the following, the final ending price divided by the starting price or the multiplication of all the returns plus 1, with one subtracted after the multiplication:\n",
    "\n",
    "$$ HP_t = \\frac{P_t}{P_0} - 1$$\n",
    "\n",
    "$$ HP_t = [\\prod_{i=1}^{N} (1+r_i)] - 1$$\n",
    "\n",
    "where\n",
    "\n",
    "$$ P_i = \\text{The asset price at time i} $$\n",
    "\n",
    "$$ r_i = \\text{The return at time i} $$\n",
    "\n",
    "$$ N = \\text{The number of returns} $$"
   ]
  },
  {
   "cell_type": "code",
   "execution_count": 4,
   "metadata": {},
   "outputs": [
    {
     "name": "stdout",
     "output_type": "stream",
     "text": [
      "0.819970400153097\n"
     ]
    }
   ],
   "source": [
    "#Method 1\n",
    "HPR = ts[-1] / ts[0] - 1\n",
    "print(HPR)"
   ]
  },
  {
   "cell_type": "code",
   "execution_count": 5,
   "metadata": {},
   "outputs": [
    {
     "name": "stdout",
     "output_type": "stream",
     "text": [
      "0.8199704001530996\n"
     ]
    }
   ],
   "source": [
    "from numpy import prod\n",
    "\n",
    "#Method 2\n",
    "#We can use prod from numpy\n",
    "HPR = prod([r+1 for r in market_returns]) - 1\n",
    "print(HPR)"
   ]
  },
  {
   "cell_type": "markdown",
   "metadata": {},
   "source": [
    "## Daily Returns\n",
    "\n",
    "There are two different but similar ways to think about a daily return. There is a simple arithmetic mean which is the average of daily returns, and then there is the geometric mean which tells us what the daily returns would have to be every day for us to get to the holding period return.\n",
    "\n",
    "### Simple Arithmetic Mean\n",
    "\n",
    "$$ \\mu = \\frac{\\sum_{i=1}^{N} r_i}{N}$$\n",
    "\n",
    "where\n",
    "\n",
    "$$ \\mu = \\text{Simple arithmetic mean} $$\n",
    "\n",
    "$$ N = \\text{Number of returns} $$\n",
    "\n",
    "$$ r_i = \\text{The return at time i} $$\n",
    "\n",
    "### Geometric Mean\n",
    "\n",
    "$$ (1 + HPR)^{\\frac{1}{N}} - 1$$\n",
    "\n",
    "$$ \\mu = \\text{Geometric mean} $$\n",
    "\n",
    "$$ N = \\text{Number of returns} $$\n",
    "\n",
    "$$ HPR = \\text{Holding Period Return} $$"
   ]
  },
  {
   "cell_type": "code",
   "execution_count": 6,
   "metadata": {},
   "outputs": [
    {
     "name": "stdout",
     "output_type": "stream",
     "text": [
      "0.001393737885126131\n"
     ]
    }
   ],
   "source": [
    "#Find the simple arithmetic mean\n",
    "print(sum(market_returns) / len(market_returns))"
   ]
  },
  {
   "cell_type": "code",
   "execution_count": 7,
   "metadata": {},
   "outputs": [
    {
     "name": "stdout",
     "output_type": "stream",
     "text": [
      "0.0011983579323520122\n"
     ]
    }
   ],
   "source": [
    "#Find the simple geometric mean\n",
    "print((HPR+1) ** (1/len(market_returns))-1)"
   ]
  },
  {
   "cell_type": "markdown",
   "metadata": {},
   "source": [
    "These two are not going to be the same for reasons we won't fully cover now, but for now just try and remember that there are both of these ways to view a daily return."
   ]
  },
  {
   "cell_type": "markdown",
   "metadata": {},
   "source": [
    "## Variance and Standard Deviation\n",
    "\n",
    "The standard deviation of a stock return is a classic metric of volatility. What it will tell us is how far spread apart returns are from the mean. A low standard deviation means that a particular stock tends to have consistent returns, where as a high standard deviation would tell us that returns may be erratic.\n",
    "\n",
    "There are two ways to think about variance, population and sample variance. The population variance is meant to be used when looking at population data, where as the sample variance is used when looking at sample data. The standard deviation has the same convection. The equations are:\n",
    "\n",
    "$ \\sigma^2 = \\frac{\\Sigma (X_{i}-\\bar{X})^2}{N}$\n",
    "\n",
    "$ S^2 = \\frac{\\Sigma (X_{i}-\\bar{X})^2}{N-1}$\n",
    "\n",
    "$ \\sigma = \\sqrt{\\frac{\\Sigma (X_{i}-\\bar{X})^2}{N}}$\n",
    "\n",
    "$ S = \\sqrt{\\frac{\\Sigma (X_{i}-\\bar{X})^2}{N-1}}$\n",
    "\n",
    "where\n",
    "\n",
    "$ \\sigma^2 = \\text{Population Variance} $\n",
    "\n",
    "$ S^2 = \\text{Sample Variance} $\n",
    "\n",
    "$ \\sigma = \\text{Population Standard Deviation} $\n",
    "\n",
    "$ S = \\text{Sample Standard Deviation} $\n",
    "\n",
    "$ X_{i} = \\text{The ith value} $\n",
    "\n",
    "$ \\bar{X} = \\text{Average value} $\n",
    "\n",
    "$ N = \\text{Number of observations} $"
   ]
  },
  {
   "cell_type": "markdown",
   "metadata": {},
   "source": [
    "To find the variance of our returns, the first thing we need to do is find the daily mean (arithmetic) and then find the deviations from the daily mean for all points."
   ]
  },
  {
   "cell_type": "code",
   "execution_count": 8,
   "metadata": {},
   "outputs": [
    {
     "data": {
      "image/png": "[encoded data removed]",
      "text/plain": [
       "<Figure size 432x288 with 1 Axes>"
      ]
     },
     "metadata": {
      "needs_background": "light"
     },
     "output_type": "display_data"
    }
   ],
   "source": [
    "#Find the daily mean\n",
    "mu = sum(market_returns) / len(market_returns)\n",
    "\n",
    "#Find the deviations\n",
    "deviations = [r-mu for r in market_returns]\n",
    "\n",
    "#Plot the deviations\n",
    "plt.hist(deviations)\n",
    "plt.title(\"Deviations from Mean\")\n",
    "plt.ylabel(\"Frequency\")\n",
    "plt.xlabel(\"Return\")\n",
    "plt.show()"
   ]
  },
  {
   "cell_type": "markdown",
   "metadata": {},
   "source": [
    "Step number two is to square all these deviations."
   ]
  },
  {
   "cell_type": "code",
   "execution_count": 9,
   "metadata": {},
   "outputs": [
    {
     "data": {
      "image/png": "[encoded data removed]",
      "text/plain": [
       "<Figure size 432x288 with 1 Axes>"
      ]
     },
     "metadata": {
      "needs_background": "light"
     },
     "output_type": "display_data"
    }
   ],
   "source": [
    "#Find the squared deviations\n",
    "deviations_squared = [d**2 for d in deviations]\n",
    "\n",
    "#Plot the squared deviations\n",
    "plt.hist(deviations_squared)\n",
    "plt.title(\"Squared Deviations from Mean\")\n",
    "plt.ylabel(\"Frequency\")\n",
    "plt.xlabel(\"Return\")\n",
    "plt.show()"
   ]
  },
  {
   "cell_type": "markdown",
   "metadata": {},
   "source": [
    "For the population and sample variance, we need the sum of this divided by either N or N-1."
   ]
  },
  {
   "cell_type": "code",
   "execution_count": 10,
   "metadata": {},
   "outputs": [
    {
     "name": "stdout",
     "output_type": "stream",
     "text": [
      "0.0003907803548072633\n"
     ]
    }
   ],
   "source": [
    "#Population variance\n",
    "var_pop = sum(deviations_squared) / len(deviations_squared)\n",
    "print(var_pop)"
   ]
  },
  {
   "cell_type": "code",
   "execution_count": 11,
   "metadata": {},
   "outputs": [
    {
     "name": "stdout",
     "output_type": "stream",
     "text": [
      "0.00039156348177080494\n"
     ]
    }
   ],
   "source": [
    "#Sample variance\n",
    "var_samp = sum(deviations_squared) / (len(deviations_squared) - 1)\n",
    "print(var_samp)"
   ]
  },
  {
   "cell_type": "markdown",
   "metadata": {},
   "source": [
    "The function var in numpy has the ability to just as easily calculate the variance. It will return the population variance."
   ]
  },
  {
   "cell_type": "code",
   "execution_count": 12,
   "metadata": {},
   "outputs": [
    {
     "name": "stdout",
     "output_type": "stream",
     "text": [
      "0.00039078035480726335\n"
     ]
    }
   ],
   "source": [
    "#Use numpy to find the population variance\n",
    "print(np.var(market_returns))"
   ]
  },
  {
   "cell_type": "markdown",
   "metadata": {},
   "source": [
    "To get the sample variance, you need to give the argument ddof=1 which stands for delta degrees of freedom. It will take one away from the denominator."
   ]
  },
  {
   "cell_type": "code",
   "execution_count": 13,
   "metadata": {},
   "outputs": [
    {
     "name": "stdout",
     "output_type": "stream",
     "text": [
      "0.000391563481770805\n"
     ]
    }
   ],
   "source": [
    "#Use numpy to find the sample variance\n",
    "print(np.var(market_returns, ddof=1))"
   ]
  },
  {
   "cell_type": "markdown",
   "metadata": {},
   "source": [
    "Getting the standard deviation just means taking the square root of variance."
   ]
  },
  {
   "cell_type": "code",
   "execution_count": 14,
   "metadata": {},
   "outputs": [
    {
     "name": "stdout",
     "output_type": "stream",
     "text": [
      "0.019768165185653\n",
      "0.019787963052593487\n"
     ]
    }
   ],
   "source": [
    "#Find the standard deviation\n",
    "std_pop = var_pop ** .5\n",
    "std_samp = var_samp ** .5\n",
    "print(std_pop)\n",
    "print(std_samp)"
   ]
  },
  {
   "cell_type": "markdown",
   "metadata": {},
   "source": [
    "We can use numpy to find the standard deviation as well."
   ]
  },
  {
   "cell_type": "code",
   "execution_count": 15,
   "metadata": {},
   "outputs": [
    {
     "name": "stdout",
     "output_type": "stream",
     "text": [
      "0.019768165185653\n",
      "0.019787963052593487\n"
     ]
    }
   ],
   "source": [
    "#Find the standard deviation with numpy\n",
    "std_pop = np.std(market_returns)\n",
    "std_samp = np.std(market_returns, ddof=1)\n",
    "print(std_pop)\n",
    "print(std_samp)"
   ]
  },
  {
   "cell_type": "markdown",
   "metadata": {},
   "source": [
    "## Annualizing Metrics\n",
    "\n",
    "When we talk about equity markets, we often quote things in terms of an annual basis. We don't want the daily return but rather we want the annual return. The same goes for the measures of risk. Let's examine how we annualize both."
   ]
  },
  {
   "cell_type": "markdown",
   "metadata": {},
   "source": [
    "### Annualized Return\n",
    "\n",
    "As we saw from prior lessons, annualizing a return can be done by taking the HPR and applying this formula:\n",
    "\n",
    "$$ CAGR = (HPR + 1)^{1/t} - 1$$\n",
    "\n",
    "where\n",
    "\n",
    "$ CAGR = \\text{Compound Annual Growth Rate} $\n",
    "\n",
    "$ HPR = \\text{Holding Period Return} $\n",
    "\n",
    "$ t = \\text{The number of years for the HPR} $\n",
    "\n",
    "There is one caveat when using equity returns... there are not returns on weekends or trading holidays! So you can't just take the number of days and divide by 365. Instead you will need to do one of two things:\n",
    "\n",
    "1. Find the number of days between the first and last return and divide this number by 365.\n",
    "2. Divide the total number of days with returns by an approximation for the number of trading days like 252.\n",
    "\n",
    "In the example, there were no dates given so we won't be able to do it the first way. Instead we assume 252 trading days. So the number of years for our sample can be calculated below as:"
   ]
  },
  {
   "cell_type": "code",
   "execution_count": 16,
   "metadata": {},
   "outputs": [
    {
     "name": "stdout",
     "output_type": "stream",
     "text": [
      "1.9841269841269842\n"
     ]
    }
   ],
   "source": [
    "#Calculate number of years\n",
    "t = len(market_returns) / 252\n",
    "print(t)"
   ]
  },
  {
   "cell_type": "markdown",
   "metadata": {},
   "source": [
    "With the number of years handy, we just need to apply the formula."
   ]
  },
  {
   "cell_type": "code",
   "execution_count": 17,
   "metadata": {},
   "outputs": [
    {
     "name": "stdout",
     "output_type": "stream",
     "text": [
      "0.3522980433642162\n"
     ]
    }
   ],
   "source": [
    "#Find the CAGR\n",
    "CAGR = (1 + HPR) ** (1/t) - 1\n",
    "print(CAGR)"
   ]
  },
  {
   "cell_type": "markdown",
   "metadata": {},
   "source": [
    "### Annualizing Variance\n",
    "\n",
    "Variance has the following property in math which makes this piece easier when we are sampling N days:\n",
    "\n",
    "$$ VAR(X_N) = N \\cdot VAR(X) $$\n",
    "\n",
    "where\n",
    "\n",
    "$ N = \\text{Number of samples} $\n",
    "\n",
    "$ X = \\text{Asset X} $\n",
    "\n",
    "$ X_N = \\text{N samples of asset X} $\n",
    "\n",
    "\n",
    "It applys in a parallel way to standard deviation where the c comes out as a square root:\n",
    "\n",
    "$$ STD(X_N) = \\sqrt{N} \\cdot STD(X) $$\n",
    "\n",
    "where\n",
    "\n",
    "$ N = \\text{Number of samples} $\n",
    "\n",
    "$ X = \\text{Asset X} $\n",
    "\n",
    "$ X_N = \\text{N samples of asset X} $\n",
    "\n",
    "To annualize these risk metrics, we want to see what the variance is with a year of trading days. Again we use the approximation of 252.\n",
    "\n",
    "$$ VAR( \\cdot X_{252}) = 252 \\cdot VAR(X) $$\n",
    "\n",
    "$$ STD( \\cdot X_{252}) = \\sqrt{252} \\cdot STD(X) $$\n",
    "\n",
    "So for the annual standard deviation and variance, the code below shows the simple constants that we must multiply in."
   ]
  },
  {
   "cell_type": "code",
   "execution_count": 18,
   "metadata": {},
   "outputs": [
    {
     "name": "stdout",
     "output_type": "stream",
     "text": [
      "0.09847664941143035\n",
      "0.31380989374369694\n"
     ]
    }
   ],
   "source": [
    "#Find the annual variance + standard deviation\n",
    "var_pop_annual = var_pop * 252\n",
    "std_pop_annual = std_pop * 252 ** .5\n",
    "\n",
    "print(var_pop_annual)\n",
    "print(std_pop_annual)"
   ]
  },
  {
   "cell_type": "markdown",
   "metadata": {},
   "source": [
    "Once again, just ignore the code below since it is setting up for the next part of the lesson."
   ]
  },
  {
   "cell_type": "code",
   "execution_count": 19,
   "metadata": {},
   "outputs": [],
   "source": [
    "#Create the stock return\n",
    "np.random.seed(2)\n",
    "stock_returns = np.random.normal(0.0001, .01, 500) + .8 * market_returns\n",
    "\n",
    "#Use P to denote current price\n",
    "P = 100\n",
    "\n",
    "#The ts variable will hold the time series of the asset price, at time 0 it is equal to P\n",
    "ts_stock = [P]\n",
    "\n",
    "#Iterate through all the returns\n",
    "for r in stock_returns:\n",
    "    #The new stock value is P * (1+r)\n",
    "    P = P * (1+r)\n",
    "    \n",
    "    #Append to the time series\n",
    "    ts_stock.append(P)"
   ]
  },
  {
   "cell_type": "markdown",
   "metadata": {},
   "source": [
    "## Covariance\n",
    "\n",
    "In financial markets, we can expect that to some extent assets are going to move together. Below, we have a simulated stock price. We will begin seeing what its relationship to the broader market is."
   ]
  },
  {
   "cell_type": "code",
   "execution_count": 20,
   "metadata": {},
   "outputs": [
    {
     "data": {
      "image/png": "[encoded data removed]",
      "text/plain": [
       "<Figure size 432x288 with 1 Axes>"
      ]
     },
     "metadata": {
      "needs_background": "light"
     },
     "output_type": "display_data"
    }
   ],
   "source": [
    "plt.plot(range(len(ts_stock)),ts_stock)\n",
    "plt.xlabel(\"t\")\n",
    "plt.ylabel(\"Stock Price\")\n",
    "plt.title(\"Stock 1 Price\")\n",
    "plt.show()"
   ]
  },
  {
   "cell_type": "markdown",
   "metadata": {},
   "source": [
    "How does it look compared to the overall market returns?"
   ]
  },
  {
   "cell_type": "code",
   "execution_count": 21,
   "metadata": {},
   "outputs": [
    {
     "data": {
      "image/png": "[encoded data removed]",
      "text/plain": [
       "<Figure size 432x288 with 1 Axes>"
      ]
     },
     "metadata": {
      "needs_background": "light"
     },
     "output_type": "display_data"
    }
   ],
   "source": [
    "#Compare to the market returns\n",
    "plt.plot(range(len(ts)), ts, label=\"Market\")\n",
    "plt.plot(range(len(ts_stock)), ts_stock, label=\"Stock 1\")\n",
    "plt.xlabel(\"t\")\n",
    "plt.ylabel(\"Stock Price\")\n",
    "plt.title(\"Stock Price vs. Market Price\")\n",
    "plt.legend()\n",
    "plt.show()"
   ]
  },
  {
   "cell_type": "markdown",
   "metadata": {},
   "source": [
    "The first thing we might ask when comparing these two is what is the difference between their HPR? We can easily find it below."
   ]
  },
  {
   "cell_type": "code",
   "execution_count": 22,
   "metadata": {},
   "outputs": [
    {
     "name": "stdout",
     "output_type": "stream",
     "text": [
      "Market HPR: 0.819970400153097\n",
      "Stock HPR: 0.5537312068060418\n"
     ]
    }
   ],
   "source": [
    "#Compute HPR\n",
    "HPR_market = ts[-1] / ts[0] - 1\n",
    "HPR_stock = ts_stock[-1] / ts_stock[0] - 1\n",
    "print(\"Market HPR: {}\".format(HPR_market))\n",
    "print(\"Stock HPR: {}\".format(HPR_stock))"
   ]
  },
  {
   "cell_type": "markdown",
   "metadata": {},
   "source": [
    "What about standard deviations?"
   ]
  },
  {
   "cell_type": "code",
   "execution_count": 23,
   "metadata": {},
   "outputs": [
    {
     "name": "stdout",
     "output_type": "stream",
     "text": [
      "Market Standard Dev: 0.019768165185653\n",
      "Stock Standard Dev: 0.018626116756718335\n"
     ]
    }
   ],
   "source": [
    "#Compute standard deviation\n",
    "sd_market = np.std(market_returns)\n",
    "sd_stock = np.std(stock_returns)\n",
    "print(\"Market Standard Dev: {}\".format(sd_market))\n",
    "print(\"Stock Standard Dev: {}\".format(sd_stock))"
   ]
  },
  {
   "cell_type": "markdown",
   "metadata": {},
   "source": [
    "And daily return."
   ]
  },
  {
   "cell_type": "code",
   "execution_count": 24,
   "metadata": {},
   "outputs": [
    {
     "name": "stdout",
     "output_type": "stream",
     "text": [
      "0.0013937378851261314\n",
      "0.0010548547453429593\n"
     ]
    }
   ],
   "source": [
    "#Compute mean daily return\n",
    "mu_market = np.mean(market_returns)\n",
    "print(mu_market)\n",
    "mu_stock = np.mean(stock_returns)\n",
    "print(mu_stock)"
   ]
  },
  {
   "cell_type": "markdown",
   "metadata": {},
   "source": [
    "## Covariance\n",
    "\n",
    "Covariance measures the way in which two things move together or opposite one and other. These values need to be paired up, so when we look at stock returns over time, for example, we compare each dates stock returns! Or in our case the market and the stock returns. The formulas are:\n",
    "\n",
    "Population Covariance:\n",
    "\n",
    "$ COV(X, Y) = \\frac{\\Sigma (X_{i} - \\bar{X})(Y_{i} - \\bar{Y})}{N} $\n",
    "\n",
    "Sample Covariance:\n",
    "\n",
    "$ COV(X, Y) = \\frac{\\Sigma (X_{i} - \\bar{X})(Y_{i} - \\bar{Y})}{N-1} $\n",
    "\n",
    "where\n",
    "\n",
    "$ X_{i} = \\text{The ith value of X} $\n",
    "\n",
    "$ \\bar{X} = \\text{Average value of X} $\n",
    "\n",
    "$ Y_{i} = \\text{The ith value of Y} $\n",
    "\n",
    "$ \\bar{Y} = \\text{Average value of Y} $\n",
    "\n",
    "$ N = \\text{The number of pairs of observations} $"
   ]
  },
  {
   "cell_type": "markdown",
   "metadata": {},
   "source": [
    "First, we could find the covariance manually."
   ]
  },
  {
   "cell_type": "code",
   "execution_count": 25,
   "metadata": {},
   "outputs": [
    {
     "name": "stdout",
     "output_type": "stream",
     "text": [
      "0.00030720450305014174\n",
      "0.00030659009404404147\n"
     ]
    }
   ],
   "source": [
    "#Let's find covariance manually\n",
    "\n",
    "#Find the deviations\n",
    "deviations_market = [r - mu_market for r in market_returns]\n",
    "deviations_stock = [r - mu_stock for r in stock_returns]\n",
    "\n",
    "#Multiply each deviation by eachother and sum then divide by N or N-2\n",
    "cov_sample = sum([x*y for x,y in zip(deviations_market, deviations_stock)]) / (len(market_returns) - 1)\n",
    "cov_population = sum([x*y for x,y in zip(deviations_market, deviations_stock)]) / (len(market_returns))\n",
    "\n",
    "print(cov_sample)\n",
    "print(cov_population)"
   ]
  },
  {
   "cell_type": "markdown",
   "metadata": {},
   "source": [
    "If you use numpy's covariance function you will get back a covariance matrix between the two assets. The i=0, j=0 cell will be the variance for the first asset, i=1, j=1 will be the variance for the second asset, and then the other two cells are going to be the covariance between the two assets."
   ]
  },
  {
   "cell_type": "code",
   "execution_count": 26,
   "metadata": {},
   "outputs": [
    {
     "name": "stdout",
     "output_type": "stream",
     "text": [
      "[[0.00039156 0.0003072 ]\n",
      " [0.0003072  0.00034763]]\n"
     ]
    }
   ],
   "source": [
    "#Or find it with numpy, it returns a covariance matrix\n",
    "print(np.cov(market_returns,stock_returns))"
   ]
  },
  {
   "cell_type": "markdown",
   "metadata": {},
   "source": [
    "If you index in with [0][1] we can get that covariance between the two assets."
   ]
  },
  {
   "cell_type": "code",
   "execution_count": 27,
   "metadata": {},
   "outputs": [
    {
     "name": "stdout",
     "output_type": "stream",
     "text": [
      "0.00030720450305014163\n"
     ]
    }
   ],
   "source": [
    "#Find the covariance\n",
    "print(np.cov(market_returns,stock_returns)[0][1])"
   ]
  },
  {
   "cell_type": "markdown",
   "metadata": {},
   "source": [
    "The default version returns the sample covariance but we could change it to be the population covariance with ddof=0."
   ]
  },
  {
   "cell_type": "code",
   "execution_count": 28,
   "metadata": {},
   "outputs": [
    {
     "name": "stdout",
     "output_type": "stream",
     "text": [
      "0.00030659009404404136\n"
     ]
    }
   ],
   "source": [
    "#Find the population covariance\n",
    "print(np.cov(market_returns,stock_returns, ddof=0)[0][1])"
   ]
  },
  {
   "cell_type": "markdown",
   "metadata": {},
   "source": [
    "## Correlation\n",
    "\n",
    "The correlation is a number between -1 and 1 which represents how closely related two assets are. A correlation of 1 means that for every change in one asset the second one will have the same change times some constant c (so it could be that for every percent return in asset 1, asset 2 returns twice that exactly). A negative correlation would mean that the other asset gets some sort of an opposite reaction. The formula to find correlation is:\n",
    "\n",
    "$$ \\rho = \\frac{COV(X, Y)}{\\sigma_X \\sigma_Y}$$\n",
    "\n",
    "where\n",
    "\n",
    "$$ \\rho = \\text{Correlation} $$\n",
    "\n",
    "$$ COV(X, Y) = \\text{Covariance between X and Y} $$\n",
    "\n",
    "$$ \\sigma_X = \\text{The standard deviation of X} $$\n",
    "\n",
    "$$ \\sigma_Y = \\text{The standard deviation of Y} $$"
   ]
  },
  {
   "cell_type": "markdown",
   "metadata": {},
   "source": [
    "There are two ways that we could find the correlation, either dividing covariance by both standard deviations or by getting the correlation matrix."
   ]
  },
  {
   "cell_type": "code",
   "execution_count": 29,
   "metadata": {},
   "outputs": [
    {
     "name": "stdout",
     "output_type": "stream",
     "text": [
      "0.8326633246824368\n",
      "0.8326633246824369\n"
     ]
    }
   ],
   "source": [
    "corr = np.cov(market_returns,stock_returns, ddof=0)[0][1] / (np.std(market_returns, ddof=0) * np.std(stock_returns, ddof=0))\n",
    "print(corr)\n",
    "\n",
    "corr = np.corrcoef(market_returns, stock_returns)[0,1]\n",
    "print(corr)"
   ]
  },
  {
   "cell_type": "markdown",
   "metadata": {},
   "source": [
    "## Beta\n",
    "\n",
    "Beta is a measure of how reactive a stock's returns are going to be market returns. A stock with a beta of one would mean that on average when there is a 1% return in the market, we expect that the stock will go up by 1% on average. A .5 beta would mean we expect the stock might go up by .5% on average, and 2 would imply a 2% return on average.\n",
    "\n",
    "Beta can be found with the following formula:\n",
    "\n",
    "$$ \\beta = \\frac{COV(S, M)}{\\sigma^2_M} $$\n",
    "\n",
    "where\n",
    "\n",
    "$$ \\beta = \\text{Beta} $$\n",
    "\n",
    "$$ COV(S, M) = \\text{The covariance between the stock and market} $$\n",
    "\n",
    "$$ \\sigma^2_M = \\text{The variance of the market} $$\n"
   ]
  },
  {
   "cell_type": "markdown",
   "metadata": {},
   "source": [
    "Now we can find the beta."
   ]
  },
  {
   "cell_type": "code",
   "execution_count": 30,
   "metadata": {},
   "outputs": [
    {
     "name": "stdout",
     "output_type": "stream",
     "text": [
      "0.7845586152744413\n"
     ]
    }
   ],
   "source": [
    "#To calculate Beta \n",
    "beta = np.cov(market_returns, stock_returns, ddof=0)[0][1] / np.var(market_returns, ddof=0)\n",
    "print(beta)"
   ]
  },
  {
   "cell_type": "markdown",
   "metadata": {},
   "source": [
    "We are able to break down volatility into two measures if we want: the market risk and the idiosyncratic risk. The market risk is the risk that comes from general market exposure and then there is idiosyncratic risk which is the rest of the risk that is unrelated to general market risk conditions. Variance can be broken down as the following:\n",
    "\n",
    "$$ \\sigma^2_A = \\beta_A^2 \\sigma^2_M + \\sigma^2_{A-I} $$\n",
    "\n",
    "where \n",
    "\n",
    "$ \\sigma^2_A = \\text{Variance of asset A} $\n",
    "\n",
    "$ \\beta_A = \\text{Beta of asset A} $\n",
    "\n",
    "$ \\sigma^2_M = \\text{Variance of market} $\n",
    "\n",
    "$ \\sigma^2_{A-I} = \\text{Variance of the idiosnycratic part of asset A's returns} $\n",
    "\n",
    "The first term on the right hand side is the variance from the market, and the second term is what is left over as risk unrelated to the market."
   ]
  },
  {
   "cell_type": "code",
   "execution_count": 31,
   "metadata": {},
   "outputs": [
    {
     "name": "stdout",
     "output_type": "stream",
     "text": [
      "0.0002405378996400538\n"
     ]
    }
   ],
   "source": [
    "#Calculate volatility that comes from the market\n",
    "market_vol = beta**2*np.var(market_returns)\n",
    "print(market_vol)"
   ]
  },
  {
   "cell_type": "code",
   "execution_count": 32,
   "metadata": {},
   "outputs": [
    {
     "name": "stdout",
     "output_type": "stream",
     "text": [
      "0.00010639432579484973\n"
     ]
    }
   ],
   "source": [
    "#Calculate volatility from idiosyncratic risk\n",
    "idio_vol = np.var(stock_returns)-market_vol\n",
    "print(idio_vol)"
   ]
  },
  {
   "cell_type": "markdown",
   "metadata": {},
   "source": [
    "The calculations above show that a large amount of the risk in this stock is coming from the market. More than 2/3 of the risk can be attributed to its relationship to the market, the rest is risk specific to the stock."
   ]
  },
  {
   "cell_type": "markdown",
   "metadata": {},
   "source": [
    "You can ignore the code below as it will just be for setting up our data mmoving foward."
   ]
  },
  {
   "cell_type": "code",
   "execution_count": 33,
   "metadata": {},
   "outputs": [],
   "source": [
    "np.random.seed(3)\n",
    "betas = np.random.normal(1, .15, 100)\n",
    "vols = np.random.normal(.03, .005, 100)\n",
    "stock_returns = [market_returns * beta + np.random.normal(0, vol, 500) for beta, vol in zip(betas, vols)]"
   ]
  },
  {
   "cell_type": "markdown",
   "metadata": {},
   "source": [
    "We have stock returns now which is 100 different stock returns. As a first step, let's find the average volatility of each random stock versus the volatility of the market. We will see below that picking a random stock leads to a much bigger volatility on average than the volatility of the market."
   ]
  },
  {
   "cell_type": "code",
   "execution_count": 34,
   "metadata": {},
   "outputs": [
    {
     "name": "stdout",
     "output_type": "stream",
     "text": [
      "0.0356430155025617\n",
      "0.019768165185653\n"
     ]
    }
   ],
   "source": [
    "print(np.mean([np.std(x) for x in stock_returns]))\n",
    "print(np.std(market_returns))"
   ]
  },
  {
   "cell_type": "markdown",
   "metadata": {},
   "source": [
    "We may also be interested in seeing the computed betas (if you understood the code that generates the data, you will notice the betas are not exactly the same, don't worry this is normal because noise can distort the true measures)."
   ]
  },
  {
   "cell_type": "code",
   "execution_count": 35,
   "metadata": {},
   "outputs": [
    {
     "data": {
      "image/png": "[encoded data removed]",
      "text/plain": [
       "<Figure size 432x288 with 1 Axes>"
      ]
     },
     "metadata": {
      "needs_background": "light"
     },
     "output_type": "display_data"
    }
   ],
   "source": [
    "#Get the betas of our stock\n",
    "betas = [np.cov(market_returns, r, ddof=0)[0][1] / np.var(market_returns, ddof=0) for r in stock_returns]\n",
    "\n",
    "#Plot the betas\n",
    "plt.hist(betas)\n",
    "plt.xlabel(\"Beta\")\n",
    "plt.ylabel(\"Frequency\")\n",
    "plt.title(\"Frequency of Betas\")\n",
    "plt.show()"
   ]
  },
  {
   "cell_type": "markdown",
   "metadata": {},
   "source": [
    "## Building Portfolios\n",
    "\n",
    "Let's imagine for a second that we can build portfolios that automatically rebalance each day to a set allocation. I am making this assumption to avoid issues with stocks getting much bigger or smaller than their original allocation. What might a portfolio look like in comparison to the other two stocks on their own? Let's take a look at our first two stocks and get some statistics on them."
   ]
  },
  {
   "cell_type": "code",
   "execution_count": 36,
   "metadata": {},
   "outputs": [
    {
     "name": "stdout",
     "output_type": "stream",
     "text": [
      "Mean Daily Return:\n",
      "Stock 1: 0.0037979364715901988\n",
      "Stock 2: 0.00042731018644079973\n",
      "\n",
      "Standard Deviation:\n",
      "Stock 1: 0.042180184985796475\n",
      "Stock 2: 0.032071094066450916\n",
      "\n",
      "Correlation:\n",
      "0.3468854183341703\n"
     ]
    }
   ],
   "source": [
    "#Get the first two sets of stock returns\n",
    "r1 = stock_returns[0]\n",
    "r2 = stock_returns[1]\n",
    "\n",
    "#Print out statistics on them\n",
    "print(\"Mean Daily Return:\")\n",
    "print(\"Stock 1: {}\".format(np.mean(r1)))\n",
    "print(\"Stock 2: {}\".format(np.mean(r2)))\n",
    "print()\n",
    "print(\"Standard Deviation:\")\n",
    "print(\"Stock 1: {}\".format(np.std(r1)))\n",
    "print(\"Stock 2: {}\".format(np.std(r2)))\n",
    "print()\n",
    "print(\"Correlation:\")\n",
    "print(np.corrcoef(r1, r2)[0,1])"
   ]
  },
  {
   "cell_type": "markdown",
   "metadata": {},
   "source": [
    "What about a portfolio of 50%/50% these two, what is the return and standard deviation then?"
   ]
  },
  {
   "cell_type": "code",
   "execution_count": 37,
   "metadata": {},
   "outputs": [
    {
     "name": "stdout",
     "output_type": "stream",
     "text": [
      "Mean Daily Return:\n",
      "Stock 1: 0.0037979364715901988\n",
      "Stock 2: 0.00042731018644079973\n",
      "Portfolio: 0.0021126233290154985\n",
      "\n",
      "Standard Deviation:\n",
      "Stock 1: 0.042180184985796475\n",
      "Stock 2: 0.032071094066450916\n",
      "Portfolio: 0.03060323415999265\n",
      "\n"
     ]
    }
   ],
   "source": [
    "portfolio_returns = r1 * .5 + r2 * .5\n",
    "\n",
    "print(\"Mean Daily Return:\")\n",
    "print(\"Stock 1: {}\".format(np.mean(r1)))\n",
    "print(\"Stock 2: {}\".format(np.mean(r2)))\n",
    "print(\"Portfolio: {}\".format(np.mean(portfolio_returns)))\n",
    "print()\n",
    "print(\"Standard Deviation:\")\n",
    "print(\"Stock 1: {}\".format(np.std(r1)))\n",
    "print(\"Stock 2: {}\".format(np.std(r2)))\n",
    "print(\"Portfolio: {}\".format(np.std(portfolio_returns)))\n",
    "print()"
   ]
  },
  {
   "cell_type": "markdown",
   "metadata": {},
   "source": [
    "The returns is equal to the average of the two, but the standard deviation is less! How is this? It is something called diversification. The ideas will be mathematically explore in the investments course, but for now we are just going to work through understanding the idea of it. Basically, as we add more stocks to a portfolio, we expect that the risk of the portfolio will converge to be just the market risk! The random other risks of stocks will cancel out with one another if we add enough.\n",
    "\n",
    "To explore this, first define a function which combines N stocks and finds the standard deviation."
   ]
  },
  {
   "cell_type": "code",
   "execution_count": 38,
   "metadata": {},
   "outputs": [
    {
     "name": "stdout",
     "output_type": "stream",
     "text": [
      "0.03060323415999265\n",
      "0.024472779782930738\n"
     ]
    }
   ],
   "source": [
    "def n_stock_std(returns):\n",
    "    #Get the number of return series\n",
    "    n = len(returns)\n",
    "    \n",
    "    #Multiple each by 1/n and then sum\n",
    "    portfolio_return = sum([r * 1/n for r in returns])\n",
    "    \n",
    "    #Find the standard deviation and return it\n",
    "    return np.std(portfolio_return)\n",
    "print(n_stock_std(stock_returns[:2]))\n",
    "print(n_stock_std(stock_returns[:5]))"
   ]
  },
  {
   "cell_type": "markdown",
   "metadata": {},
   "source": [
    "With this function created, let's get the standard deviation for different numbers of stocks."
   ]
  },
  {
   "cell_type": "code",
   "execution_count": 39,
   "metadata": {},
   "outputs": [
    {
     "data": {
      "image/png": "[encoded data removed]",
      "text/plain": [
       "<Figure size 432x288 with 1 Axes>"
      ]
     },
     "metadata": {
      "needs_background": "light"
     },
     "output_type": "display_data"
    }
   ],
   "source": [
    "#Get the standard deviation for n stocks\n",
    "stds = [n_stock_std(stock_returns[:n]) for n in list(range(1, 101))]\n",
    "n = list(range(1, 101))\n",
    "\n",
    "#Get the market standard deviation\n",
    "market_std = np.std(market_returns)\n",
    "\n",
    "plt.plot(n, stds, label='N-Stock Portfolio')\n",
    "plt.axhline(market_std, label='Market Std', color='grey', linestyle='--')\n",
    "plt.legend()\n",
    "plt.ylabel(\"Std\")\n",
    "plt.xlabel(\"N\")\n",
    "plt.title(\"Diversification Effects\")\n",
    "plt.show()"
   ]
  },
  {
   "cell_type": "markdown",
   "metadata": {},
   "source": [
    "As you can see, the more stocks we add in, the more our portfolio standard deviation is going to converge to only have market risk!"
   ]
  }
 ],
 "metadata": {
  "kernelspec": {
   "display_name": "Python 3",
   "language": "python",
   "name": "python3"
  },
  "language_info": {
   "codemirror_mode": {
    "name": "ipython",
    "version": 3
   },
   "file_extension": ".py",
   "mimetype": "text/x-python",
   "name": "python",
   "nbconvert_exporter": "python",
   "pygments_lexer": "ipython3",
   "version": "3.8.3"
  }
 },
 "nbformat": 4,
 "nbformat_minor": 2
}
