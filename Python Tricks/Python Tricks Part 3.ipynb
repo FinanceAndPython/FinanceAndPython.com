{
 "cells": [
  {
   "cell_type": "markdown",
   "id": "69ea3503",
   "metadata": {},
   "source": [
    "# Cache\n",
    "\n",
    "When calling functions multiple times with the same inputs, it can be helpful to use a cache. The cache holds in memory the results of running it prior. You can see below how the factorial function runs recursively and prints out n. However, using cache makes it so that if you call the function again with the same arguments it just loads the prior results (which is why we do not see the n being printed then)."
   ]
  },
  {
   "cell_type": "code",
   "execution_count": 1,
   "id": "4c3a5503",
   "metadata": {},
   "outputs": [
    {
     "name": "stdout",
     "output_type": "stream",
     "text": [
      "10\n",
      "9\n",
      "8\n",
      "7\n",
      "6\n",
      "5\n",
      "4\n",
      "3\n",
      "2\n",
      "1\n",
      "0\n",
      "3628800\n"
     ]
    }
   ],
   "source": [
    "from functools import cache\n",
    "\n",
    "@cache\n",
    "def factorial(n):\n",
    "    print(n)\n",
    "    return n * factorial(n-1) if n else 1\n",
    "#All the numbers get different\n",
    "print(factorial(10))"
   ]
  },
  {
   "cell_type": "code",
   "execution_count": 2,
   "id": "5cbd07fb",
   "metadata": {},
   "outputs": [
    {
     "name": "stdout",
     "output_type": "stream",
     "text": [
      "3628800\n"
     ]
    }
   ],
   "source": [
    "#No numbers get picked\n",
    "print(factorial(10))"
   ]
  },
  {
   "cell_type": "code",
   "execution_count": 3,
   "id": "50432b17",
   "metadata": {},
   "outputs": [
    {
     "name": "stdout",
     "output_type": "stream",
     "text": [
      "12\n",
      "11\n",
      "479001600\n"
     ]
    }
   ],
   "source": [
    "#11 and 12 will be printed because they are not in the cache\n",
    "print(factorial(12))"
   ]
  },
  {
   "cell_type": "markdown",
   "id": "9c3ae22e",
   "metadata": {},
   "source": [
    "# Counter\n",
    "\n",
    "The counter object from collections allows you to easily track counts of things. What will happen is that if a key is not present it will be automatically added and initialized with a value of 0. Below we can see how the counter tracks both the values of A and B."
   ]
  },
  {
   "cell_type": "code",
   "execution_count": 4,
   "id": "48ea3818",
   "metadata": {},
   "outputs": [
    {
     "name": "stdout",
     "output_type": "stream",
     "text": [
      "Counter({'B': 5, 'A': 2})\n"
     ]
    }
   ],
   "source": [
    "from collections import Counter\n",
    "c = Counter()\n",
    "c[\"A\"] += 1\n",
    "c[\"A\"] += 1\n",
    "c[\"B\"] += 5\n",
    "print(c)"
   ]
  },
  {
   "cell_type": "markdown",
   "id": "6a4249f3",
   "metadata": {},
   "source": [
    "# Product\n",
    "\n",
    "To find the product of a list of numbers, we can use prod from the math library. If we use the argument of start, we can have a starting number for the function instead of 1 as well."
   ]
  },
  {
   "cell_type": "code",
   "execution_count": 5,
   "id": "b95ac229",
   "metadata": {},
   "outputs": [
    {
     "name": "stdout",
     "output_type": "stream",
     "text": [
      "720\n",
      "7200\n"
     ]
    }
   ],
   "source": [
    "from math import prod\n",
    "data = [1, 2, 3, 4, 5, 6]\n",
    "print(prod(data))\n",
    "print(prod(data, start=10))"
   ]
  },
  {
   "cell_type": "markdown",
   "id": "b498d753",
   "metadata": {},
   "source": [
    "# Floor\n",
    "\n",
    "The floor function takes a number and returns just the integer part, dropping any decimal from it."
   ]
  },
  {
   "cell_type": "code",
   "execution_count": 6,
   "id": "d94eeff5",
   "metadata": {},
   "outputs": [
    {
     "name": "stdout",
     "output_type": "stream",
     "text": [
      "1\n",
      "1\n",
      "1\n"
     ]
    }
   ],
   "source": [
    "from math import floor\n",
    "\n",
    "print(floor(1))\n",
    "print(floor(1.1))\n",
    "print(floor(1.98))"
   ]
  },
  {
   "cell_type": "markdown",
   "id": "d82384e9",
   "metadata": {},
   "source": [
    "# Timedeltas\n",
    "\n",
    "The datetime library has built in functionality to handle adding a time to a datetime. This will allow you to add seconds, minutes, hours, or days to a given date. Below we show a few outputs."
   ]
  },
  {
   "cell_type": "code",
   "execution_count": 7,
   "id": "a3d5f65b",
   "metadata": {},
   "outputs": [
    {
     "name": "stdout",
     "output_type": "stream",
     "text": [
      "Current date: 2022-02-17 00:00:00\n",
      "Current date+30 seconds: 2022-02-17 00:00:30\n",
      "Current date+30 minutes: 2022-02-17 00:30:00\n",
      "Current date+30 hours: 2022-02-18 06:00:00\n",
      "Current date+30 days: 2022-03-19 00:00:00\n",
      "Current date+365 days: 2023-02-17 00:00:00\n"
     ]
    }
   ],
   "source": [
    "from datetime import datetime, timedelta\n",
    "current_date = datetime(2022, 2, 17)\n",
    "\n",
    "#Define the time deltas to test and the labels\n",
    "time_deltas = [timedelta(seconds=30), timedelta(minutes=30), timedelta(hours=30),\n",
    "              timedelta(days=30), timedelta(days=365)]\n",
    "labels = [\"+30 seconds\", \"+30 minutes\", \"+30 hours\",\n",
    "         \"+30 days\", \"+365 days\"]\n",
    "\n",
    "print(\"Current date: {}\".format(current_date))\n",
    "\n",
    "#Loop over time deltas and labels\n",
    "for td, l in zip(time_deltas, labels):\n",
    "    #Find the date + time delta\n",
    "    d = current_date+td\n",
    "    \n",
    "    print(\"Current date{}: {}\".format(l, d))"
   ]
  },
  {
   "cell_type": "markdown",
   "id": "5c02af85",
   "metadata": {},
   "source": [
    "# Python fstrings\n",
    "\n",
    "The use of fstrings in python allows you to directly insert variables by using brackets and variable names within. You just need to put an f directly in front of the quotation marks. This type of string formatting can be much more readable for other people."
   ]
  },
  {
   "cell_type": "code",
   "execution_count": 8,
   "id": "0351c1fa",
   "metadata": {},
   "outputs": [
    {
     "name": "stdout",
     "output_type": "stream",
     "text": [
      "The share price of Apple Computers (AAPL) is currently 100\n",
      "The share price of Ford (F) is currently 200\n"
     ]
    }
   ],
   "source": [
    "stock_name = \"Apple Computers\"\n",
    "ticker = \"AAPL\"\n",
    "share_price = 100\n",
    "\n",
    "print(f\"The share price of {stock_name} ({ticker}) is currently {share_price}\")\n",
    "\n",
    "stock_name = \"Ford\"\n",
    "ticker = \"F\"\n",
    "share_price = 200\n",
    "\n",
    "print(f\"The share price of {stock_name} ({ticker}) is currently {share_price}\")"
   ]
  }
 ],
 "metadata": {
  "kernelspec": {
   "display_name": "Python 3 (ipykernel)",
   "language": "python",
   "name": "python3"
  },
  "language_info": {
   "codemirror_mode": {
    "name": "ipython",
    "version": 3
   },
   "file_extension": ".py",
   "mimetype": "text/x-python",
   "name": "python",
   "nbconvert_exporter": "python",
   "pygments_lexer": "ipython3",
   "version": "3.9.7"
  }
 },
 "nbformat": 4,
 "nbformat_minor": 5
}
