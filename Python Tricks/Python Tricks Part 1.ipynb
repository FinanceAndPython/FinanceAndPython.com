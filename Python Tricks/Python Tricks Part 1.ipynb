{
 "cells": [
  {
   "cell_type": "markdown",
   "id": "08c3524d",
   "metadata": {},
   "source": [
    "# Dealing with Missing Dictionary Keys\n",
    "\n",
    "When looking for a key that does not exist, you get an error which will stop execution like below when looking for the key D."
   ]
  },
  {
   "cell_type": "code",
   "execution_count": 1,
   "id": "b0da7d8d",
   "metadata": {},
   "outputs": [
    {
     "ename": "KeyError",
     "evalue": "'D'",
     "output_type": "error",
     "traceback": [
      "\u001b[0;31m---------------------------------------------------------------------------\u001b[0m",
      "\u001b[0;31mKeyError\u001b[0m                                  Traceback (most recent call last)",
      "\u001b[0;32m/var/folders/y0/fwkpk2ps087b_2qxvhjstrfr0000gn/T/ipykernel_62386/1619510027.py\u001b[0m in \u001b[0;36m<module>\u001b[0;34m\u001b[0m\n\u001b[1;32m      3\u001b[0m                      \"C\": 3}\n\u001b[1;32m      4\u001b[0m \u001b[0;34m\u001b[0m\u001b[0m\n\u001b[0;32m----> 5\u001b[0;31m \u001b[0mprint\u001b[0m\u001b[0;34m(\u001b[0m\u001b[0mexample_dictionary\u001b[0m\u001b[0;34m[\u001b[0m\u001b[0;34m\"D\"\u001b[0m\u001b[0;34m]\u001b[0m\u001b[0;34m)\u001b[0m\u001b[0;34m\u001b[0m\u001b[0;34m\u001b[0m\u001b[0m\n\u001b[0m",
      "\u001b[0;31mKeyError\u001b[0m: 'D'"
     ]
    }
   ],
   "source": [
    "example_dictionary = {\"A\": 1,\n",
    "                     \"B\": 2,\n",
    "                     \"C\": 3}\n",
    "\n",
    "print(example_dictionary[\"D\"])"
   ]
  },
  {
   "cell_type": "markdown",
   "id": "963d79a9",
   "metadata": {},
   "source": [
    "If you use the get function for a dictionary, then you can get back either the value if it exists or none in the case that is not in the dictionary instead of the error."
   ]
  },
  {
   "cell_type": "code",
   "execution_count": 2,
   "id": "a79e27bb",
   "metadata": {},
   "outputs": [
    {
     "name": "stdout",
     "output_type": "stream",
     "text": [
      "1\n"
     ]
    }
   ],
   "source": [
    "out = example_dictionary.get(\"A\")\n",
    "print(out)"
   ]
  },
  {
   "cell_type": "code",
   "execution_count": 3,
   "id": "effb4738",
   "metadata": {},
   "outputs": [
    {
     "name": "stdout",
     "output_type": "stream",
     "text": [
      "None\n"
     ]
    }
   ],
   "source": [
    "out = example_dictionary.get(\"D\")\n",
    "print(out)"
   ]
  },
  {
   "cell_type": "markdown",
   "id": "904ec0cc",
   "metadata": {},
   "source": [
    "# Getting a Loading Bar\n",
    "\n",
    "Using the tqdm library, you can add a loading bar to your python loops to try and keep track of how much of a loop has been completed and how much longer it will need to be run for.\n",
    "\n",
    "All you need to do is wrap the iterable you are looping over in python with tqdm and it will take care of the rest!"
   ]
  },
  {
   "cell_type": "code",
   "execution_count": 4,
   "id": "8e3f36a8",
   "metadata": {},
   "outputs": [
    {
     "name": "stderr",
     "output_type": "stream",
     "text": [
      "100%|███████████████████████████████████████████| 60/60 [01:00<00:00,  1.01s/it]\n"
     ]
    }
   ],
   "source": [
    "from time import sleep\n",
    "from tqdm import tqdm\n",
    "\n",
    "for i in tqdm(range(60)):\n",
    "    sleep(1)"
   ]
  },
  {
   "cell_type": "markdown",
   "id": "44f076ed",
   "metadata": {},
   "source": [
    "# Custom Sorting Behavior\n",
    "\n",
    "If you want to use a custom sorting behavior, you can pass in a function as the argument key for sorting. This will allow you to use custom sorting behavior. Take for example the following nested lists."
   ]
  },
  {
   "cell_type": "code",
   "execution_count": 5,
   "id": "178768a8",
   "metadata": {},
   "outputs": [],
   "source": [
    "data = [[2, 1, 1],\n",
    "        [1, 3, 5],\n",
    "        [3, 2, 1]]"
   ]
  },
  {
   "cell_type": "markdown",
   "id": "a2f65eab",
   "metadata": {},
   "source": [
    "We can sort it by the first element like so..."
   ]
  },
  {
   "cell_type": "code",
   "execution_count": 6,
   "id": "0d2dd172",
   "metadata": {},
   "outputs": [
    {
     "name": "stdout",
     "output_type": "stream",
     "text": [
      "[[1, 3, 5], [2, 1, 1], [3, 2, 1]]\n"
     ]
    }
   ],
   "source": [
    "print(sorted(data, key=lambda x: x[0]))"
   ]
  },
  {
   "cell_type": "markdown",
   "id": "4c2d868d",
   "metadata": {},
   "source": [
    "Or by the sum of elements like so..."
   ]
  },
  {
   "cell_type": "code",
   "execution_count": 7,
   "id": "3e557ad6",
   "metadata": {},
   "outputs": [
    {
     "name": "stdout",
     "output_type": "stream",
     "text": [
      "[[2, 1, 1], [3, 2, 1], [1, 3, 5]]\n"
     ]
    }
   ],
   "source": [
    "print(sorted(data, key=lambda x: sum(x)))"
   ]
  },
  {
   "cell_type": "markdown",
   "id": "232a99ac",
   "metadata": {},
   "source": [
    "# Compare Execution Time\n",
    "\n",
    "The timeit module allows you to compare the difference in speed for different pieces of code. This can be great for when you want to understand if there is a much faster way of doing things.\n",
    "\n",
    "The format of the timeit function is that we pass in a string which would be the executable code and we can also pass in a number of runs to do and then we will get back how long it took to execute that code.\n",
    "\n",
    "If we want to compare our own sum function vs. the built in python function we could use it like below. We define the first code to run as sum(a) for python's built in sum function and then the second one is our sum function. Finally, we also give number=1000 to get 1000 runs of each."
   ]
  },
  {
   "cell_type": "code",
   "execution_count": 8,
   "id": "0b3a2bdd",
   "metadata": {},
   "outputs": [
    {
     "name": "stdout",
     "output_type": "stream",
     "text": [
      "(1) sum execution time: 0.008671000000006757\n",
      "(2) my_sum_function execution time: 0.042017709000006676\n",
      "\n",
      "Ratio of (2) / (1): 4.8457743051521085\n"
     ]
    }
   ],
   "source": [
    "from timeit import timeit\n",
    "\n",
    "#Define function\n",
    "def my_sum_function(l):\n",
    "    ct = 0\n",
    "    for x in l:\n",
    "        ct += x\n",
    "    return ct\n",
    "\n",
    "#Define numbers to sum\n",
    "a = list(range(1000))\n",
    "\n",
    "#Find the time of 1000 runs of each\n",
    "t1 = timeit(lambda: sum(a), number=1000)\n",
    "t2 = timeit(lambda: my_sum_function(a), number=1000)\n",
    "\n",
    "#Compare\n",
    "print(\"(1) sum execution time: {}\".format(t1))\n",
    "print(\"(2) my_sum_function execution time: {}\".format(t2))\n",
    "print()\n",
    "print(\"Ratio of (2) / (1): {}\".format(t2/t1))"
   ]
  },
  {
   "cell_type": "markdown",
   "id": "b2df441e",
   "metadata": {},
   "source": [
    "# Compare Close Floating Point Numbers\n",
    "\n",
    "## The Problem\n",
    "\n",
    "When working with floating point numbers, depending on the order of operations you can get slightly different numbers. For example, look at what happens below:"
   ]
  },
  {
   "cell_type": "code",
   "execution_count": 9,
   "id": "42473a8a",
   "metadata": {},
   "outputs": [
    {
     "name": "stdout",
     "output_type": "stream",
     "text": [
      "33333.33333333333\n",
      "33333.333333333336\n",
      "False\n"
     ]
    }
   ],
   "source": [
    "num1 = 1000.0 / 3 * 100\n",
    "num2 = 100 / 3 * 1000.0\n",
    "print(num1)\n",
    "print(num2)\n",
    "print(num1==num2)"
   ]
  },
  {
   "cell_type": "markdown",
   "id": "5a3a5bbb",
   "metadata": {},
   "source": [
    "## The Solution\n",
    "\n",
    "Using isclose in math, you can compare two numbers that are floating point numbers within a range of closeness. It allows you to override with relative or absolute errors thresholds as well."
   ]
  },
  {
   "cell_type": "code",
   "execution_count": 10,
   "id": "e1f3b20a",
   "metadata": {},
   "outputs": [
    {
     "data": {
      "text/plain": [
       "True"
      ]
     },
     "execution_count": 10,
     "metadata": {},
     "output_type": "execute_result"
    }
   ],
   "source": [
    "import math\n",
    "#Compare the two numbers\n",
    "math.isclose(num1, num2)"
   ]
  },
  {
   "cell_type": "code",
   "execution_count": 11,
   "id": "eafdb135",
   "metadata": {},
   "outputs": [
    {
     "name": "stdout",
     "output_type": "stream",
     "text": [
      "False\n"
     ]
    }
   ],
   "source": [
    "#These two are not close enough\n",
    "print(math.isclose(1.01, 1.005))"
   ]
  },
  {
   "cell_type": "code",
   "execution_count": 12,
   "id": "8376d3a7",
   "metadata": {},
   "outputs": [
    {
     "name": "stdout",
     "output_type": "stream",
     "text": [
      "True\n"
     ]
    }
   ],
   "source": [
    "#But it will pass if you make the bar for passing much lower\n",
    "print(math.isclose(1.01, 1.005, rel_tol=0.05))"
   ]
  },
  {
   "cell_type": "markdown",
   "id": "917b2215",
   "metadata": {},
   "source": [
    "# Fast Finds in a Sorted List\n",
    "\n",
    "When working with a sorted list, one can use the bisect algorithm which finds where an element should go much more quickly than a plain linear search. Below, we define a linear search function and compare the time it takes, seeing that for a given number it can be much faster to use bisect."
   ]
  },
  {
   "cell_type": "code",
   "execution_count": 13,
   "id": "12888906",
   "metadata": {},
   "outputs": [
    {
     "name": "stdout",
     "output_type": "stream",
     "text": [
      "t1: 6.0833000006255133e-05\n",
      "t2: 0.661407582999999\n",
      "\n",
      "t2/t1: 10872.512993473772\n"
     ]
    }
   ],
   "source": [
    "from timeit import timeit\n",
    "from bisect import bisect\n",
    "\n",
    "def find_linear(a, x):\n",
    "    i = 0\n",
    "    while a[i] < x and i < len(a):\n",
    "        i += 1\n",
    "    return i\n",
    "\n",
    "\n",
    "numbers = list(range(100000))\n",
    "t1 = timeit(lambda: bisect(numbers, 59900), number=100)\n",
    "\n",
    "print(\"t1: {}\".format(t1))\n",
    "\n",
    "numbers = list(range(100000))\n",
    "t2 = timeit(lambda: find_linear(numbers, 59900), number=100)\n",
    "print(\"t2: {}\".format(t2))\n",
    "print()\n",
    "print(\"t2/t1: {}\".format(t2/t1))"
   ]
  },
  {
   "cell_type": "markdown",
   "id": "ef74bb0a",
   "metadata": {},
   "source": [
    "# Unpacking Values\n",
    "\n",
    "By using *, you can unpack values that are within a list. Two examples of how this can be useful are below."
   ]
  },
  {
   "cell_type": "markdown",
   "id": "128793a1",
   "metadata": {},
   "source": [
    "When trying to add together lists, it can be useful to be able to use this and mix lists and scalar values you need to put together."
   ]
  },
  {
   "cell_type": "code",
   "execution_count": 14,
   "id": "b83344b9",
   "metadata": {},
   "outputs": [
    {
     "name": "stdout",
     "output_type": "stream",
     "text": [
      "[1, 2, 3, 4, 5, 6, 7, 8]\n"
     ]
    }
   ],
   "source": [
    "#Define two lists\n",
    "a = [1, 2, 3]\n",
    "b = [6, 7, 8]\n",
    "\n",
    "#Mix lists with integers to get one list\n",
    "print([*a, 4, 5, *b])"
   ]
  },
  {
   "cell_type": "markdown",
   "id": "5c1ad753",
   "metadata": {},
   "source": [
    "The unpacking can also be done to unpack into functions with multiple arguments. For example, the function below takes three different arguments. The first way we have to actually pass in each variable at the index, versus the second way we just unpack the list and feed it in as the three arguments."
   ]
  },
  {
   "cell_type": "code",
   "execution_count": 15,
   "id": "5b496ddf",
   "metadata": {},
   "outputs": [
    {
     "name": "stdout",
     "output_type": "stream",
     "text": [
      "35\n",
      "35\n"
     ]
    }
   ],
   "source": [
    "#Define a function\n",
    "def my_sum(a, b, c):\n",
    "    return a + b + c\n",
    "\n",
    "#Define data\n",
    "l = [5, 10, 20]\n",
    "\n",
    "#Compare two ways to call the function\n",
    "\n",
    "#Method 1\n",
    "print(my_sum(l[0], l[1], l[2]))\n",
    "\n",
    "#Method 2\n",
    "print(my_sum(*l))"
   ]
  },
  {
   "cell_type": "markdown",
   "id": "3fdd0fed",
   "metadata": {},
   "source": [
    "# Using eval and exec to run code\n",
    "\n",
    "Python has two methods for giving it code to execute dynamically. There is eval which will run code and return the actual value and exec which simply runs code but returns no values. Below we give two examples of it working.\n",
    "\n",
    "First, we see that eval evaluate 1+1 and returns that value to a."
   ]
  },
  {
   "cell_type": "code",
   "execution_count": 16,
   "id": "b7853ed8",
   "metadata": {},
   "outputs": [
    {
     "name": "stdout",
     "output_type": "stream",
     "text": [
      "2\n"
     ]
    }
   ],
   "source": [
    "a = eval(\"1+1\")\n",
    "print(a)"
   ]
  },
  {
   "cell_type": "markdown",
   "id": "a51112ae",
   "metadata": {},
   "source": [
    "With exec, we redefine the variable a within the exec code like so, and we see that it changes it for when we print a."
   ]
  },
  {
   "cell_type": "code",
   "execution_count": 17,
   "id": "06f84db0",
   "metadata": {},
   "outputs": [
    {
     "name": "stdout",
     "output_type": "stream",
     "text": [
      "2\n"
     ]
    }
   ],
   "source": [
    "a = 5\n",
    "exec(\"a=1+1\")\n",
    "print(a)"
   ]
  },
  {
   "cell_type": "markdown",
   "id": "50c1f641",
   "metadata": {},
   "source": [
    "The use case for something like this would be below, when we might actually not know which variables we are working with our their names in advance. In this case, we define strings that denote which variables we want to use and then place them into the exec statement."
   ]
  },
  {
   "cell_type": "code",
   "execution_count": 18,
   "id": "505b5799",
   "metadata": {},
   "outputs": [
    {
     "name": "stdout",
     "output_type": "stream",
     "text": [
      "10\n",
      "10\n"
     ]
    }
   ],
   "source": [
    "a = 10\n",
    "b = 5\n",
    "var1 = \"b\"\n",
    "var2 = \"a\"\n",
    "exec(\"{}={}\".format(var1, var2))\n",
    "\n",
    "print(a)\n",
    "print(b)"
   ]
  },
  {
   "cell_type": "code",
   "execution_count": 19,
   "id": "a6eb0f8c",
   "metadata": {},
   "outputs": [],
   "source": [
    "#hasattr()\n",
    "#map\n",
    "#setattr\n",
    "#getattr"
   ]
  },
  {
   "cell_type": "code",
   "execution_count": null,
   "id": "7e80a1ed",
   "metadata": {},
   "outputs": [],
   "source": []
  }
 ],
 "metadata": {
  "kernelspec": {
   "display_name": "Python 3 (ipykernel)",
   "language": "python",
   "name": "python3"
  },
  "language_info": {
   "codemirror_mode": {
    "name": "ipython",
    "version": 3
   },
   "file_extension": ".py",
   "mimetype": "text/x-python",
   "name": "python",
   "nbconvert_exporter": "python",
   "pygments_lexer": "ipython3",
   "version": "3.9.7"
  }
 },
 "nbformat": 4,
 "nbformat_minor": 5
}
