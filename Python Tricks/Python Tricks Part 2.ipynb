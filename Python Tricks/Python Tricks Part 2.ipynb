{
 "cells": [
  {
   "cell_type": "markdown",
   "id": "5adfdc2d",
   "metadata": {},
   "source": [
    "# Greatest Common Divisor\n",
    "\n",
    "To find the greatest common divisor of a set of numbers, you can use gcd from the built in math library."
   ]
  },
  {
   "cell_type": "code",
   "execution_count": 1,
   "id": "88cfb2f1",
   "metadata": {},
   "outputs": [
    {
     "name": "stdout",
     "output_type": "stream",
     "text": [
      "5\n",
      "3\n"
     ]
    }
   ],
   "source": [
    "import math\n",
    "\n",
    "#Find gcd\n",
    "print(math.gcd(10, 15, 25))\n",
    "print(math.gcd(27, 3, 15, 9))"
   ]
  },
  {
   "cell_type": "markdown",
   "id": "02c25db0",
   "metadata": {},
   "source": [
    "# Setting Random Seed and Getting Random Numbers\n",
    "\n",
    "If you want to use the random library, you can set the seed to ensure all random operations are the same each time you run a program. Below we call random twice after setting the seed each time and get the same results!\n",
    "\n",
    "Use seed and give an integer to pick the random seed.\n",
    "\n",
    "The random function returns a random floating point number between 0 and 1."
   ]
  },
  {
   "cell_type": "code",
   "execution_count": 2,
   "id": "1b69568b",
   "metadata": {},
   "outputs": [
    {
     "name": "stdout",
     "output_type": "stream",
     "text": [
      "0.13436424411240122\n",
      "0.8474337369372327\n",
      "\n",
      "0.13436424411240122\n",
      "0.8474337369372327\n"
     ]
    }
   ],
   "source": [
    "import random\n",
    "\n",
    "#Run 1\n",
    "random.seed(1)\n",
    "print(random.random())\n",
    "print(random.random())\n",
    "print()\n",
    "\n",
    "#Run 2 which will be the same\n",
    "random.seed(1)\n",
    "print(random.random())\n",
    "print(random.random())"
   ]
  },
  {
   "cell_type": "markdown",
   "id": "6bec42ae",
   "metadata": {},
   "source": [
    "# Choose a Random Element from a List\n",
    "\n",
    "Given a list, we can use the choice function to randomly pick one of these elements. All we need to do is pass the list into the choice function."
   ]
  },
  {
   "cell_type": "code",
   "execution_count": 3,
   "id": "47a70ac9",
   "metadata": {},
   "outputs": [
    {
     "name": "stdout",
     "output_type": "stream",
     "text": [
      "1\n",
      "3\n",
      "1\n"
     ]
    }
   ],
   "source": [
    "import random\n",
    "\n",
    "#Set up data\n",
    "l = [1, 2, 3, \"A\", \"B\", \"C\"]\n",
    "\n",
    "#Get random choices\n",
    "print(random.choice(l))\n",
    "print(random.choice(l))\n",
    "print(random.choice(l))"
   ]
  },
  {
   "cell_type": "markdown",
   "id": "3abcc63c",
   "metadata": {},
   "source": [
    "# Build Cycles of Elements\n",
    "\n",
    "If you want to build a cycle of elements, you can use the cycle function of itertools. This will allow you to make an iterator which returns elements infinitely following a cycle. Below is an example of the way it would be done with the list A, B, C."
   ]
  },
  {
   "cell_type": "code",
   "execution_count": 4,
   "id": "8e2a56c7",
   "metadata": {},
   "outputs": [
    {
     "name": "stdout",
     "output_type": "stream",
     "text": [
      "A\n",
      "B\n",
      "C\n",
      "A\n",
      "B\n",
      "C\n",
      "A\n"
     ]
    }
   ],
   "source": [
    "from itertools import cycle\n",
    "\n",
    "#Create the data\n",
    "l = [\"A\", \"B\", \"C\"]\n",
    "\n",
    "#Create the cycle iterator\n",
    "it = cycle(l)\n",
    "\n",
    "#Use the iterator seven times\n",
    "for _ in range(7):\n",
    "    print(it.__next__())"
   ]
  },
  {
   "cell_type": "markdown",
   "id": "e49ee3c5",
   "metadata": {},
   "source": [
    "Of course, you could do it the math way with a modulo function."
   ]
  },
  {
   "cell_type": "code",
   "execution_count": 5,
   "id": "30900483",
   "metadata": {},
   "outputs": [
    {
     "name": "stdout",
     "output_type": "stream",
     "text": [
      "A\n",
      "B\n",
      "C\n",
      "A\n",
      "B\n",
      "C\n",
      "A\n"
     ]
    }
   ],
   "source": [
    "#Create the data\n",
    "l = [\"A\", \"B\", \"C\"]\n",
    "i = 0\n",
    "\n",
    "#Use the iterator seven times\n",
    "for _ in range(7):\n",
    "    print(l[i])\n",
    "    i = (i + 1) % len(l)"
   ]
  },
  {
   "cell_type": "markdown",
   "id": "70f883c2",
   "metadata": {},
   "source": [
    "# Permutations\n",
    "\n",
    "All possible permutations of an iterable can be found via the use of the permutations function in itertools. The permutation defaults to permutations of the full size elements, but it can also return permutations of a smaller number of elements. Below are the permutations for the elements 1, 2, and 3 and also the same permutations but for groups of size 2."
   ]
  },
  {
   "cell_type": "code",
   "execution_count": 6,
   "id": "9eb102c2",
   "metadata": {},
   "outputs": [
    {
     "name": "stdout",
     "output_type": "stream",
     "text": [
      "[(1, 2, 3), (1, 3, 2), (2, 1, 3), (2, 3, 1), (3, 1, 2), (3, 2, 1)]\n",
      "\n",
      "[(1, 2), (1, 3), (2, 1), (2, 3), (3, 1), (3, 2)]\n"
     ]
    }
   ],
   "source": [
    "from itertools import permutations\n",
    "\n",
    "#Get permutations of size 3\n",
    "print(list(permutations([1, 2, 3])))\n",
    "print()\n",
    "\n",
    "#Get permutations of size 2\n",
    "print(list(permutations([1, 2, 3], 2)))"
   ]
  },
  {
   "cell_type": "markdown",
   "id": "3ff019a7",
   "metadata": {},
   "source": [
    "# Default Dictionary\n",
    "\n",
    "A default dictionary is a type of dictionary which allows for dealing with the case where a key is not actually in the dictionary. You define the basic type of and if you try to increment something not there it will default to the default value."
   ]
  },
  {
   "cell_type": "code",
   "execution_count": 7,
   "id": "39c9a1c6",
   "metadata": {},
   "outputs": [
    {
     "name": "stdout",
     "output_type": "stream",
     "text": [
      "dict_keys([9])\n",
      "2\n"
     ]
    }
   ],
   "source": [
    "from collections import defaultdict\n",
    "d = defaultdict(int)\n",
    "d[9] += 1\n",
    "d[9] += 1\n",
    "print(d.keys())\n",
    "print(d[9])"
   ]
  },
  {
   "cell_type": "code",
   "execution_count": 8,
   "id": "3b10d689",
   "metadata": {},
   "outputs": [
    {
     "name": "stdout",
     "output_type": "stream",
     "text": [
      "['Josh', 'Michael']\n",
      "[90, 92]\n"
     ]
    }
   ],
   "source": [
    "d = defaultdict(list)\n",
    "d[\"names\"].append(\"Josh\")\n",
    "d[\"names\"].append(\"Michael\")\n",
    "d[\"scores\"].append(90)\n",
    "d[\"scores\"].append(92)\n",
    "print(d[\"names\"])\n",
    "print(d[\"scores\"])"
   ]
  },
  {
   "cell_type": "markdown",
   "id": "5ffc36c1",
   "metadata": {},
   "source": [
    "# Filling Strings with zfill\n",
    "\n",
    "Sometimes it is necessary to have all strings of the same length. One function which can help to achieve this is zfill which takes a string and adds 0s to the front of it to make it equal to the correct length. Below we show three different strings which use zfill to fill 0s in front to get them to a length of 6."
   ]
  },
  {
   "cell_type": "code",
   "execution_count": 9,
   "id": "6b03a22a",
   "metadata": {},
   "outputs": [
    {
     "name": "stdout",
     "output_type": "stream",
     "text": [
      "000123\n",
      "000abc\n",
      "00efgh\n"
     ]
    }
   ],
   "source": [
    "#Data\n",
    "str1 = \"123\"\n",
    "str2 = \"abc\"\n",
    "str3 = \"efgh\"\n",
    "\n",
    "#Three strings all with length 6, filled with 0s to make them this length\n",
    "print(str1.zfill(6))\n",
    "print(str2.zfill(6))\n",
    "print(str3.zfill(6))"
   ]
  },
  {
   "cell_type": "markdown",
   "id": "2ef55c58",
   "metadata": {},
   "source": [
    "# Getting Letters of the Alphabet and More\n",
    "\n",
    "Python has built in constants if you want to get all letters of the alphabet as well as things like punctuation."
   ]
  },
  {
   "cell_type": "code",
   "execution_count": 10,
   "id": "eb8bc3e9",
   "metadata": {},
   "outputs": [
    {
     "name": "stdout",
     "output_type": "stream",
     "text": [
      "abcdefghijklmnopqrstuvwxyzABCDEFGHIJKLMNOPQRSTUVWXYZ\n",
      "abcdefghijklmnopqrstuvwxyz\n",
      "ABCDEFGHIJKLMNOPQRSTUVWXYZ\n",
      "!\"#$%&'()*+,-./:;<=>?@[\\]^_`{|}~\n"
     ]
    }
   ],
   "source": [
    "from string import ascii_letters, ascii_lowercase, ascii_uppercase, punctuation\n",
    "print(ascii_letters)\n",
    "print(ascii_lowercase)\n",
    "print(ascii_uppercase)\n",
    "print(punctuation)"
   ]
  }
 ],
 "metadata": {
  "kernelspec": {
   "display_name": "Python 3 (ipykernel)",
   "language": "python",
   "name": "python3"
  },
  "language_info": {
   "codemirror_mode": {
    "name": "ipython",
    "version": 3
   },
   "file_extension": ".py",
   "mimetype": "text/x-python",
   "name": "python",
   "nbconvert_exporter": "python",
   "pygments_lexer": "ipython3",
   "version": "3.9.7"
  }
 },
 "nbformat": 4,
 "nbformat_minor": 5
}
